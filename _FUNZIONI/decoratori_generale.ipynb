{
 "cells": [
  {
   "cell_type": "markdown",
   "id": "a68ca977-958d-425f-a8a5-cf18f7fcfb67",
   "metadata": {},
   "source": [
    "# Decoratori pyMike"
   ]
  },
  {
   "cell_type": "code",
   "execution_count": 56,
   "id": "9203469c-eb46-492e-a325-8628d108f033",
   "metadata": {},
   "outputs": [],
   "source": [
    "from functools import wraps"
   ]
  },
  {
   "cell_type": "code",
   "execution_count": 10,
   "id": "636014fa-45ea-4d34-9c4e-fd7e7abff8ab",
   "metadata": {},
   "outputs": [],
   "source": [
    "def funzione_decoratore(funzione_parametro):\n",
    "    def wrapper():\n",
    "        '''wrapper significa incarto, confezione '''\n",
    "        print(\"...codice da eseguire prima di funzione parametro...\")\n",
    "        funzione_parametro()\n",
    "        print(\"...codice da eseguire dopo la funzione parametro...\")\n",
    "    return wrapper"
   ]
  },
  {
   "cell_type": "code",
   "execution_count": 11,
   "id": "67442e23-5d7d-47ee-a807-f3a4ba2661d1",
   "metadata": {},
   "outputs": [],
   "source": [
    "@funzione_decoratore\n",
    "def mia_funzione():\n",
    "    print(\"Ciao amico...\")"
   ]
  },
  {
   "cell_type": "code",
   "execution_count": 12,
   "id": "f0a54631-ca01-491e-a0a6-832c98f04dcb",
   "metadata": {},
   "outputs": [],
   "source": [
    "scatola = funzione_decoratore(mia_funzione)"
   ]
  },
  {
   "cell_type": "code",
   "execution_count": 13,
   "id": "6f83b380-8632-4058-a0db-4f8d540c4076",
   "metadata": {},
   "outputs": [
    {
     "name": "stdout",
     "output_type": "stream",
     "text": [
      "...codice da eseguire prima di funzione parametro...\n",
      "...codice da eseguire prima di funzione parametro...\n",
      "Ciao amico...\n",
      "...codice da eseguire dopo la funzione parametro...\n",
      "...codice da eseguire dopo la funzione parametro...\n"
     ]
    }
   ],
   "source": [
    "scatola()"
   ]
  },
  {
   "cell_type": "code",
   "execution_count": 14,
   "id": "07ebf4c7-ed2c-4c05-b17d-200cba928775",
   "metadata": {},
   "outputs": [
    {
     "name": "stdout",
     "output_type": "stream",
     "text": [
      "\n",
      "ciao amico\n",
      "            \n",
      "    nome:     andrea\n",
      "    cognome:  prestini\n",
      "        \n",
      "arrivederci\n"
     ]
    }
   ],
   "source": [
    "def decoratoreM(funzione_parametro):\n",
    "    @wraps(funzione_parametro)\n",
    "    def wrapper(*args):\n",
    "        return f'''\n",
    "ciao amico\n",
    "            {funzione_parametro(*args)}\n",
    "        \n",
    "arrivederci'''\n",
    "    return wrapper\n",
    "\n",
    "\n",
    "@decoratoreM\n",
    "def stampa_persona(nome, cognome):\n",
    "    return (f'''\n",
    "    nome:     {nome}\n",
    "    cognome:  {cognome}''')\n",
    "\n",
    "\n",
    "print(stampa_persona(\"andrea\", \"prestini\"))"
   ]
  },
  {
   "cell_type": "markdown",
   "id": "32dd62f1-24a8-412a-8dbd-e624c0a09067",
   "metadata": {},
   "source": [
    "## Senza importazione libreria functools"
   ]
  },
  {
   "cell_type": "code",
   "execution_count": 47,
   "id": "167fc630-e9a4-489e-ad8c-24bd3df9dbe2",
   "metadata": {},
   "outputs": [],
   "source": [
    "def decoratore_M(funzione):\n",
    "    def wrapper():\n",
    "        return funzione().upper()\n",
    "    return wrapper\n",
    "\n",
    "def decoratore_C(funzione):\n",
    "    def wrapper():\n",
    "        return funzione().capitalize()\n",
    "    return wrapper\n",
    "\n",
    "def decoratore_Testo(funzione):\n",
    "    def wrapper():\n",
    "        return f'''\n",
    "        Ciao amico mio\n",
    "        {funzione()}\n",
    "        ci vedremo presto'''\n",
    "    return wrapper\n",
    "\n",
    "\n",
    "@decoratore_Testo\n",
    "@decoratore_C\n",
    "def miaFunzione():\n",
    "    return (\"andrea\")\n"
   ]
  },
  {
   "cell_type": "code",
   "execution_count": 48,
   "id": "14f0bbf6-7108-4c15-a1e8-68101d8363d1",
   "metadata": {},
   "outputs": [
    {
     "name": "stdout",
     "output_type": "stream",
     "text": [
      "\n",
      "        Ciao amico mio\n",
      "        Andrea\n",
      "        ci vedremo presto\n"
     ]
    }
   ],
   "source": [
    "print(miaFunzione())"
   ]
  },
  {
   "cell_type": "code",
   "execution_count": 4,
   "id": "671a5b5f-5871-4afb-8381-a84c1402aaca",
   "metadata": {},
   "outputs": [],
   "source": [
    "def decoratore_Prova(funzione):\n",
    "    \n",
    "    def wrapper(*args):\n",
    "        return funzione(*args)\n",
    "    return wrapper"
   ]
  },
  {
   "cell_type": "code",
   "execution_count": 5,
   "id": "e211ca52-3b8d-4af9-9ef2-b39b8daf81d3",
   "metadata": {},
   "outputs": [],
   "source": [
    "@decoratore_Prova\n",
    "def uno(text):\n",
    "    return text"
   ]
  },
  {
   "cell_type": "code",
   "execution_count": 6,
   "id": "02c5b5ec-341d-4c8f-a23b-5020d629a780",
   "metadata": {},
   "outputs": [
    {
     "name": "stdout",
     "output_type": "stream",
     "text": [
      "andrea\n"
     ]
    }
   ],
   "source": [
    "print(uno(\"andrea\"))"
   ]
  },
  {
   "cell_type": "code",
   "execution_count": null,
   "id": "c3f09de3-c4ca-4d66-8895-6e62e7ffcbc9",
   "metadata": {},
   "outputs": [],
   "source": []
  }
 ],
 "metadata": {
  "kernelspec": {
   "display_name": "Python 3 (ipykernel)",
   "language": "python",
   "name": "python3"
  },
  "language_info": {
   "codemirror_mode": {
    "name": "ipython",
    "version": 3
   },
   "file_extension": ".py",
   "mimetype": "text/x-python",
   "name": "python",
   "nbconvert_exporter": "python",
   "pygments_lexer": "ipython3",
   "version": "3.9.12"
  },
  "widgets": {
   "application/vnd.jupyter.widget-state+json": {
    "state": {},
    "version_major": 2,
    "version_minor": 0
   }
  }
 },
 "nbformat": 4,
 "nbformat_minor": 5
}
