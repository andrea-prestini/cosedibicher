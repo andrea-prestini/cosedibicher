{
 "cells": [
  {
   "cell_type": "markdown",
   "id": "71a841c5-4d31-4c63-a8e2-dc57a19ef97e",
   "metadata": {},
   "source": [
    "# Le CLOUSURE"
   ]
  },
  {
   "cell_type": "markdown",
   "id": "2b48e198-9f07-426f-88bd-156445becb8d",
   "metadata": {},
   "source": [
    "Sono funzione interne che accedono allo scopo del loro contentiore"
   ]
  },
  {
   "cell_type": "code",
   "execution_count": 13,
   "id": "261fb5da-9a32-409a-b920-9edf2b0aae38",
   "metadata": {},
   "outputs": [],
   "source": [
    "def make_adder(n):\n",
    "    def adder(x):\n",
    "        return x + n\n",
    "    return adder"
   ]
  },
  {
   "cell_type": "code",
   "execution_count": 14,
   "id": "8bb14f34-5502-4d2d-ad06-408711d4296f",
   "metadata": {},
   "outputs": [
    {
     "data": {
      "text/plain": [
       "15"
      ]
     },
     "execution_count": 14,
     "metadata": {},
     "output_type": "execute_result"
    }
   ],
   "source": [
    "uno = make_adder(5)\n",
    "uno(10)"
   ]
  },
  {
   "cell_type": "markdown",
   "id": "623e6b71-d3f1-48c0-9d62-e584892e9934",
   "metadata": {},
   "source": [
    "La funzione adder accede ad n (sola lettura), paramentro della funzione contenitrice make_adder. Lo statement nolocal può essere utilizzato per rendere la variabile accessile anche in scrittura."
   ]
  },
  {
   "cell_type": "markdown",
   "id": "532d7622-85ab-4aa3-add2-324bd5f5447d",
   "metadata": {},
   "source": [
    "## Esistono 3 tipologie di decoratori"
   ]
  },
  {
   "cell_type": "markdown",
   "id": "380ab2dd-82b4-4fc6-a606-4fd7ee60b66c",
   "metadata": {},
   "source": [
    "- decoratori che eseguono la funzione solo quando viene definita\n",
    "- decoratori che sostituiscono ad una funzione un'altra funzione\n",
    "- decoratori che **incartano** un'altra funzione aggiungendo elementi prima e dopo"
   ]
  },
  {
   "cell_type": "markdown",
   "id": "f2dffe91-1cd3-47f5-8442-5e75a024ec6a",
   "metadata": {},
   "source": [
    "##  1 - Decoratori del primo tipo"
   ]
  },
  {
   "cell_type": "code",
   "execution_count": 15,
   "id": "659f1624-c8d5-4a94-9275-9bdd99a5bc8e",
   "metadata": {},
   "outputs": [],
   "source": [
    "def base1():\n",
    "    print(\"io sono la funzione originale\")"
   ]
  },
  {
   "cell_type": "code",
   "execution_count": 16,
   "id": "5601bffe-d134-4dc5-b816-21b9ffe0d46a",
   "metadata": {},
   "outputs": [],
   "source": [
    "def deco1(func):\n",
    "    print(\"faccio cose\")\n",
    "    return func"
   ]
  },
  {
   "cell_type": "markdown",
   "id": "60ee07d5-6d18-421c-93ee-706412d6eb07",
   "metadata": {},
   "source": [
    "Questo decoratore viene applicato SOLO 1 volta, quando generiamo la funzione dopo aver importato il modulo!"
   ]
  },
  {
   "cell_type": "code",
   "execution_count": 17,
   "id": "04372848-1de3-43bf-b14f-1385956e302a",
   "metadata": {},
   "outputs": [
    {
     "name": "stdout",
     "output_type": "stream",
     "text": [
      "io sono la funzione originale\n"
     ]
    }
   ],
   "source": [
    "base1()"
   ]
  },
  {
   "cell_type": "code",
   "execution_count": 18,
   "id": "46523d5b-2a29-4b97-8bc1-f72b2c55d67d",
   "metadata": {},
   "outputs": [
    {
     "name": "stdout",
     "output_type": "stream",
     "text": [
      "faccio cose\n"
     ]
    }
   ],
   "source": [
    "@deco1\n",
    "def base1():\n",
    "    print(\"io sono la funzione originale\")"
   ]
  },
  {
   "cell_type": "code",
   "execution_count": 19,
   "id": "10b951fa-755b-42f3-9243-3c966c2ceee3",
   "metadata": {},
   "outputs": [],
   "source": [
    "__all__ = []\n",
    "def public(func):\n",
    "    '''Add the func to __all__'''\n",
    "    __all__.append(func)\n",
    "    return func\n",
    "\n",
    "def funzione_uno():\n",
    "    pass\n",
    "\n",
    "@public\n",
    "def funzione_due():\n",
    "    pass\n",
    "@public\n",
    "def funzione_tre():\n",
    "    pass"
   ]
  },
  {
   "cell_type": "markdown",
   "id": "5277393f-e980-463b-bddd-c7914fb28de1",
   "metadata": {},
   "source": [
    "In questo caso dopo un'importazione `from file import * ` solo le funzioni decorate con public saranno importate. \n",
    "Ricordiamo che l'importazione di un modulo con * prenderà solo i moduli presenti in __all__ e li inserirà nel nostro file py."
   ]
  },
  {
   "cell_type": "code",
   "execution_count": 20,
   "id": "16b398b6-b7fc-4076-97b9-8f3a57335182",
   "metadata": {},
   "outputs": [
    {
     "name": "stdout",
     "output_type": "stream",
     "text": [
      "non segreta\n"
     ]
    }
   ],
   "source": [
    "def private(func):\n",
    "    func.private = True\n",
    "    return func\n",
    "\n",
    "@private\n",
    "def secret():\n",
    "    return 'segreta'\n",
    "\n",
    "\n",
    "def not_secret():\n",
    "    return 'non segreta'\n",
    "\n",
    "\n",
    "for func in secret, not_secret:\n",
    "    is_private = getattr(func, 'private', False)\n",
    "    if not is_private:\n",
    "        print(func())"
   ]
  },
  {
   "cell_type": "markdown",
   "id": "bffee940-d208-48ab-8fda-e2c4365f4e4b",
   "metadata": {},
   "source": [
    "## 2-  Decoratori secondo tipo: Sostituzione funzione"
   ]
  },
  {
   "cell_type": "code",
   "execution_count": 21,
   "id": "2826a044-a5ef-43f1-aa30-ba2b60e293f9",
   "metadata": {},
   "outputs": [],
   "source": [
    "def deco(func):\n",
    "    def funzione():\n",
    "        print(\"funzione sostitutiva\")\n",
    "    return funzione"
   ]
  },
  {
   "cell_type": "code",
   "execution_count": 22,
   "id": "b8594607-3768-4660-aaa1-b41a08ce8ef9",
   "metadata": {},
   "outputs": [],
   "source": [
    "\n",
    "def base2():\n",
    "    print(\"io sono la funzione originale\")"
   ]
  },
  {
   "cell_type": "code",
   "execution_count": 24,
   "id": "e2b5d6f6-fec2-4319-93f5-d44814705865",
   "metadata": {},
   "outputs": [
    {
     "name": "stdout",
     "output_type": "stream",
     "text": [
      "io sono la funzione originale\n"
     ]
    }
   ],
   "source": [
    "base2()"
   ]
  },
  {
   "cell_type": "code",
   "execution_count": 25,
   "id": "c4b6e34a-14e3-4a76-a628-37140c801447",
   "metadata": {},
   "outputs": [],
   "source": [
    "@deco\n",
    "def base2():\n",
    "    print(\"io sono la funzione originale\")"
   ]
  },
  {
   "cell_type": "code",
   "execution_count": 26,
   "id": "fc3a1cc4-512e-41b7-8302-424db284205d",
   "metadata": {},
   "outputs": [
    {
     "name": "stdout",
     "output_type": "stream",
     "text": [
      "funzione sostitutiva\n"
     ]
    }
   ],
   "source": [
    "base2()"
   ]
  },
  {
   "cell_type": "markdown",
   "id": "0fb3ee8b-74ca-41a9-8885-a2f68e289da6",
   "metadata": {},
   "source": [
    "La funzione base viene sostituita, essendo decorata, dalla funzione sostitutiva"
   ]
  },
  {
   "cell_type": "code",
   "execution_count": 27,
   "id": "389cfd77-8820-476c-b66d-63f41ebf5371",
   "metadata": {},
   "outputs": [],
   "source": [
    "import getpass\n",
    "\n",
    "def check_root(func):\n",
    "    if getpass.getuser() != 'root':\n",
    "        def warn_user(*args, **kwargs):\n",
    "            msg = 'Devi essere utente root per eseguire {}'.format(func.__name__)\n",
    "            raise UserWarning(msg)\n",
    "        return warn_user\n",
    "    else:\n",
    "        return func\n",
    "\n",
    "\n",
    "@check_root\n",
    "def comando():\n",
    "    print(\"Eseguo il comando solo se sono root\")\n"
   ]
  },
  {
   "cell_type": "markdown",
   "id": "149b6b0b-1bef-4d79-9e74-e02409680b7a",
   "metadata": {},
   "source": [
    "In questo caso se utente root esegue la funzione, diversamente la sostituisce con una funzione che mostra un messaggio di avvertimento"
   ]
  },
  {
   "cell_type": "markdown",
   "id": "72b18a5b-144c-4c5e-a125-21da5303492c",
   "metadata": {},
   "source": [
    "## 3- Decoratori terzo tipo: Wrapper"
   ]
  },
  {
   "cell_type": "code",
   "execution_count": 28,
   "id": "9a4fbb5b-ad6f-4457-9030-091a73c81aaa",
   "metadata": {},
   "outputs": [
    {
     "name": "stdout",
     "output_type": "stream",
     "text": [
      "stampata\n"
     ]
    }
   ],
   "source": [
    "def deco(func):\n",
    "    def wrapper(*args, **kwargs):\n",
    "        print(\"faccio cose prima\")\n",
    "        func(*args, **kwargs)\n",
    "        print(\"faccio cose dopo\")\n",
    "    return wrapper\n",
    "\n",
    "def stampa():\n",
    "    print(\"stampata\")\n",
    "\n",
    "stampa()"
   ]
  },
  {
   "cell_type": "markdown",
   "id": "275ef97a-45ac-49aa-b01c-1b28547bd10a",
   "metadata": {},
   "source": [
    "L'indicazione di args e kwargs permette il funzionamento del decoratore con TUTTE le funzioni, sia quelle che hanno parametri che quelle senza parametri."
   ]
  },
  {
   "cell_type": "code",
   "execution_count": 29,
   "id": "afe25ae5-dbd7-462b-9f77-9008a77d1d59",
   "metadata": {},
   "outputs": [],
   "source": [
    "@deco\n",
    "def stampa():\n",
    "    print(\"stampata\")"
   ]
  },
  {
   "cell_type": "code",
   "execution_count": 30,
   "id": "b1363ee2-34b0-46c1-9ecb-ef3ff803378a",
   "metadata": {},
   "outputs": [
    {
     "name": "stdout",
     "output_type": "stream",
     "text": [
      "faccio cose prima\n",
      "stampata\n",
      "faccio cose dopo\n"
     ]
    }
   ],
   "source": [
    "stampa()"
   ]
  },
  {
   "cell_type": "code",
   "execution_count": 31,
   "id": "31c0bf50-a52e-49e5-aa5b-34075059065d",
   "metadata": {},
   "outputs": [
    {
     "name": "stdout",
     "output_type": "stream",
     "text": [
      "[2022-05-05 18:14:22.790162] somma (1, 5) -> 6\n",
      "6\n"
     ]
    }
   ],
   "source": [
    "import datetime\n",
    "\n",
    "def log_calls(func):\n",
    "    fname = func.__name__\n",
    "    def logger(*args):\n",
    "        t = datetime.datetime.now().isoformat(' ')\n",
    "        res = func(*args)\n",
    "        a = ', '.join(map(str, args))\n",
    "        print('[{}] {} ({}) -> {}'.format(t, fname, a,  res))\n",
    "        return res\n",
    "    return logger\n",
    "\n",
    "@log_calls\n",
    "def somma(a, b):\n",
    "    return a + b\n",
    "\n",
    "\n",
    "print(somma(1,5))\n"
   ]
  },
  {
   "cell_type": "code",
   "execution_count": 32,
   "id": "800a75ca-f9ad-4db9-b45e-7b137e4e7cd5",
   "metadata": {},
   "outputs": [],
   "source": [
    "import time\n",
    "\n",
    "def calc_time(func):\n",
    "    def inner(*args, **kwargs):\n",
    "        start = time.time()\n",
    "        res = func(*args, **kwargs)\n",
    "        end = time.time()\n",
    "        print(\n",
    "f'''\n",
    "La funzione ha impiegato \n",
    "    {end - start:.5f} secondi\n",
    "per essere eseguita''')\n",
    "        return res\n",
    "    return inner\n",
    "\n",
    "@calc_time\n",
    "def produce_lista(n):\n",
    "    import sys\n",
    "    lista = [x for x in range(n)]\n",
    "    return f'''\n",
    "    {sys.getsizeof(lista):,} <- lista in byte'''\n"
   ]
  },
  {
   "cell_type": "code",
   "execution_count": 33,
   "id": "70bc71f7-6b79-4f37-9dd1-4263a7664ef3",
   "metadata": {},
   "outputs": [
    {
     "name": "stdout",
     "output_type": "stream",
     "text": [
      "\n",
      "La funzione ha impiegato \n",
      "    0.00004 secondi\n",
      "per essere eseguita\n",
      "\n",
      "    904 <- lista in byte\n"
     ]
    }
   ],
   "source": [
    "print(produce_lista(100))"
   ]
  },
  {
   "cell_type": "code",
   "execution_count": 34,
   "id": "fdd5485a-d2fe-4e89-8be8-5e38c550df0d",
   "metadata": {},
   "outputs": [],
   "source": [
    "def memoize(func):\n",
    "    cache = {}\n",
    "    def inner(*args, **kwargs):\n",
    "        if args in cache:\n",
    "            print(\"ritorno risultati in cache\")\n",
    "            return cache[args]\n",
    "        res = func(*args, **kwargs)\n",
    "        cache[args] = res\n",
    "    return inner\n",
    "\n",
    "@memoize\n",
    "def crea_lista(n):\n",
    "    lista = [x for x in range(n)]\n",
    "    print(\"lista completata\")\n",
    "    return lista"
   ]
  },
  {
   "cell_type": "markdown",
   "id": "2d413c50-1672-4c07-b9e2-5da188d477a2",
   "metadata": {},
   "source": [
    "# Decorator Factory"
   ]
  },
  {
   "cell_type": "markdown",
   "id": "e74da711-2b80-4e47-b3b2-10aea9e9cf87",
   "metadata": {},
   "source": [
    "Sono funzioni che ritornano dei DECORATORI"
   ]
  },
  {
   "cell_type": "code",
   "execution_count": 35,
   "id": "cd1c1ba1-db25-43f1-9e39-2517d693b85a",
   "metadata": {},
   "outputs": [],
   "source": [
    "def deco_factory(extra_args):\n",
    "    def deco(func):\n",
    "        def inner(*args, **kwargs):\n",
    "            pass\n",
    "        return inner\n",
    "    return deco"
   ]
  },
  {
   "cell_type": "markdown",
   "id": "8b89bd89-0741-425f-93da-600dba53606c",
   "metadata": {},
   "source": [
    "- deco_factory = funzione che genera il decoratore\n",
    "- deco = il decoratore\n",
    "- inner = funzione che sarà decorata"
   ]
  },
  {
   "cell_type": "markdown",
   "id": "478bdf37-3af2-4ce7-815e-67c215ef7d87",
   "metadata": {},
   "source": [
    "Utilizzo: fornire alla funzione inner degli argomenti extra, presi dallo scope più esterno, quello del decorator factory"
   ]
  },
  {
   "cell_type": "code",
   "execution_count": 36,
   "id": "199b311c-75ac-40de-89e3-92041547fa0b",
   "metadata": {},
   "outputs": [],
   "source": [
    "def repeat_for(times):\n",
    "    def deco(func):\n",
    "        def inner(*args):\n",
    "            for x in range(times):\n",
    "                func()\n",
    "        return inner\n",
    "    return deco\n",
    "\n",
    "\n",
    "@repeat_for(5)\n",
    "def alpha():\n",
    "    print(\"ciao amico mio\")"
   ]
  },
  {
   "cell_type": "code",
   "execution_count": 37,
   "id": "92468086-b7a9-4cda-b838-eab9ee6066eb",
   "metadata": {},
   "outputs": [
    {
     "name": "stdout",
     "output_type": "stream",
     "text": [
      "ciao amico mio... Andrea\n",
      "ciao amico mio... Andrea\n",
      "ciao amico mio... Andrea\n",
      "ciao amico mio... Andrea\n",
      "ciao amico mio... Andrea\n"
     ]
    }
   ],
   "source": [
    "def moltiplicatore(times):\n",
    "    def deco(func):\n",
    "        def inner(*args):\n",
    "            for x in range(times):\n",
    "                func(), print(\"Andrea\")\n",
    "        return inner\n",
    "    return deco\n",
    "\n",
    "@moltiplicatore(5)\n",
    "def stampa():\n",
    "    print(\"ciao amico mio...\",end=\" \")\n",
    "\n",
    "\n",
    "\n",
    "\n",
    "\n",
    "stampa()"
   ]
  },
  {
   "cell_type": "markdown",
   "id": "11c74a56-c6ca-4050-9818-acdad61edc9f",
   "metadata": {},
   "source": [
    "Quando applichiamo un decoratore PERDIAMO tutte le informazioni della funzione originale:"
   ]
  },
  {
   "cell_type": "markdown",
   "id": "1044823a-fcaf-41b5-b9b6-24573f8ed317",
   "metadata": {},
   "source": [
    "- nome\n",
    "- docstring\n",
    "- help"
   ]
  },
  {
   "cell_type": "markdown",
   "id": "79774104-9514-4f6a-986f-78e8c34d83e0",
   "metadata": {},
   "source": [
    "Utilizzando le @functools.wraps possiamo mantenere tutte queste informazioni"
   ]
  },
  {
   "cell_type": "code",
   "execution_count": 38,
   "id": "401edb5e-c6e5-40ec-babd-476d83993008",
   "metadata": {},
   "outputs": [],
   "source": [
    "from functools import wraps\n",
    "\n",
    "def deco(func):\n",
    "    @wraps(func)\n",
    "    def inner(*args, **kwargs):\n",
    "        pass\n",
    "    return inner\n"
   ]
  },
  {
   "cell_type": "code",
   "execution_count": 39,
   "id": "29dd422e-dd33-4b59-a7dc-cf44f2cda846",
   "metadata": {},
   "outputs": [
    {
     "name": "stdout",
     "output_type": "stream",
     "text": [
      "add chiamata\n",
      "2\n",
      "docstring: Return the sum of x and y\n",
      "nome funzione: add\n",
      "modulo funzione: __main__\n",
      "funzione wrapped: <function add at 0x7f8ab41b4160>\n"
     ]
    }
   ],
   "source": [
    "from functools import wraps\n",
    "\n",
    "def log_calls(func):\n",
    "    fname = func.__name__\n",
    "    @wraps(func)\n",
    "    def logger(*args, **kwargs):\n",
    "        print(fname, 'chiamata')\n",
    "        return func(*args, **kwargs)\n",
    "    return logger\n",
    "\n",
    "@log_calls\n",
    "def add(x, y):\n",
    "    \"\"\"Return the sum of x and y\"\"\"\n",
    "    return x + y\n",
    "\n",
    "\n",
    "print(add(1,1))\n",
    "print(\"docstring:\", add.__doc__)\n",
    "print(\"nome funzione:\", add.__name__)\n",
    "print(\"modulo funzione:\", add.__module__)\n",
    "print(\"funzione wrapped:\", add.__wrapped__)"
   ]
  },
  {
   "cell_type": "markdown",
   "id": "34293029-28c0-477a-9b28-4fb3da23c596",
   "metadata": {},
   "source": [
    "Queste informazioni, se avessimo decorato senza uso di wraps, si sarebbero perse"
   ]
  },
  {
   "cell_type": "markdown",
   "id": "3f77b5d2-b5a0-4f5a-88eb-97f78d0382f8",
   "metadata": {},
   "source": [
    "> USARE wraps permette di non tener conto dell'ordine con cui sono stati applicati i decoratori!"
   ]
  },
  {
   "cell_type": "markdown",
   "id": "0dfbb877-f72c-4776-9a35-dcbec45af24a",
   "metadata": {},
   "source": [
    "# Combinare i decoratori"
   ]
  },
  {
   "cell_type": "markdown",
   "id": "0e4ec38a-7aaa-4f08-995e-ec9999facfd2",
   "metadata": {},
   "source": [
    "Alle funzioni possono essere associati più decoratori contemporaneamente; l'ordine andrà da sotto a sopra!"
   ]
  },
  {
   "cell_type": "code",
   "execution_count": 40,
   "id": "e555e018-b1d6-4a98-8757-cca342b8bd47",
   "metadata": {},
   "outputs": [],
   "source": [
    "def decoratore1(func):\n",
    "    print(\"applico decoratore 1\")\n",
    "    return func"
   ]
  },
  {
   "cell_type": "code",
   "execution_count": 41,
   "id": "8ecdca4c-142e-4daf-9b94-3346e11d253b",
   "metadata": {},
   "outputs": [],
   "source": [
    "def decoratore2(func):\n",
    "    print(\"applico decoratore 2\")\n",
    "    return func"
   ]
  },
  {
   "cell_type": "code",
   "execution_count": 42,
   "id": "4098cc9f-ea3e-4668-8499-c38b71bad81a",
   "metadata": {},
   "outputs": [],
   "source": [
    "def decoratore3(func):\n",
    "    print(\"applico decoratore 3\")\n",
    "    return func"
   ]
  },
  {
   "cell_type": "code",
   "execution_count": 43,
   "id": "2d2264fc-9089-4191-b78d-745f2e77ca03",
   "metadata": {},
   "outputs": [
    {
     "name": "stdout",
     "output_type": "stream",
     "text": [
      "applico decoratore 3\n",
      "applico decoratore 2\n",
      "applico decoratore 1\n"
     ]
    },
    {
     "data": {
      "text/plain": [
       "2"
      ]
     },
     "execution_count": 43,
     "metadata": {},
     "output_type": "execute_result"
    }
   ],
   "source": [
    "@decoratore1\n",
    "@decoratore2\n",
    "@decoratore3\n",
    "def somma(x,y):\n",
    "    return x + y\n",
    "\n",
    "somma(1,1)"
   ]
  },
  {
   "cell_type": "markdown",
   "id": "a643d020-11b0-48b5-a485-54af2c4a91b6",
   "metadata": {},
   "source": [
    "## In sintesi da ricordare per quanto riguarda i *Decoratori*"
   ]
  },
  {
   "cell_type": "markdown",
   "id": "7c3dc5aa-e5fd-4ffc-a933-f10e880a850c",
   "metadata": {},
   "source": [
    "- They are applied in reverse order\n",
    "    - the last decorator is applied first\n",
    "    - every decorator is applied to the function returned by the next deco\n",
    "- for some decorators the order matters, for others it doesn't\n",
    "- @wraps can improve decorators interaction"
   ]
  }
 ],
 "metadata": {
  "kernelspec": {
   "display_name": "Python 3 (ipykernel)",
   "language": "python",
   "name": "python3"
  },
  "language_info": {
   "codemirror_mode": {
    "name": "ipython",
    "version": 3
   },
   "file_extension": ".py",
   "mimetype": "text/x-python",
   "name": "python",
   "nbconvert_exporter": "python",
   "pygments_lexer": "ipython3",
   "version": "3.9.12"
  },
  "widgets": {
   "application/vnd.jupyter.widget-state+json": {
    "state": {},
    "version_major": 2,
    "version_minor": 0
   }
  }
 },
 "nbformat": 4,
 "nbformat_minor": 5
}
