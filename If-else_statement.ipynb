{
 "cells": [
  {
   "cell_type": "markdown",
   "metadata": {},
   "source": [
    " if - else statement"
   ]
  },
  {
   "cell_type": "code",
   "execution_count": null,
   "metadata": {},
   "outputs": [],
   "source": [
    "numero = 5"
   ]
  },
  {
   "cell_type": "code",
   "execution_count": null,
   "metadata": {},
   "outputs": [],
   "source": [
    "if numero > 0:\n",
    "    print (\"il numero positivo Ã¨ pari a: \" + str(numero))\n",
    "# Output:\n",
    "# il numero positivo Ã¨ pari a: 5    "
   ]
  },
  {
   "cell_type": "code",
   "execution_count": null,
   "metadata": {},
   "outputs": [],
   "source": [
    "numero1 = -4"
   ]
  },
  {
   "cell_type": "code",
   "execution_count": null,
   "metadata": {},
   "outputs": [],
   "source": [
    "if numero1 > 0:\n",
    "    print (\"il numero positivo Ã¨ pari a: \" + str(numero1))"
   ]
  },
  {
   "cell_type": "markdown",
   "metadata": {},
   "source": [
    " utilizzo dell'else"
   ]
  },
  {
   "cell_type": "code",
   "execution_count": null,
   "metadata": {},
   "outputs": [],
   "source": [
    "numero1 = -4"
   ]
  },
  {
   "cell_type": "code",
   "execution_count": null,
   "metadata": {},
   "outputs": [],
   "source": [
    "if numero1 > 0:\n",
    "    print (\"il numero positivo Ã¨ pari a: \" + str(numero1))\n",
    "else:\n",
    "    print (\"il numero negativo Ã¨ pari a: \" + str(numero1))\n",
    "# Output: \n",
    "# il numero negativo Ã¨ pari a: -4\n",
    "    \n",
    "    \n",
    "## elif statement\n",
    "numero1 = 0"
   ]
  },
  {
   "cell_type": "code",
   "execution_count": null,
   "metadata": {},
   "outputs": [],
   "source": [
    "if numero1 > 0:\n",
    "    print (\"il numero positivo Ã¨ pari a: \" + str(numero1))\n",
    "elif numero1 == 0:\n",
    "    print (\"il numero Ã¨ pari a: \" + str(numero1))\n",
    "else:\n",
    "    print (\"il numero negativo Ã¨ pari a: \" + str(numero1))\n",
    "# Output:\n",
    "# Il numero Ã¨ pari a: 0"
   ]
  },
  {
   "cell_type": "markdown",
   "metadata": {},
   "source": [
    "if-else annidati"
   ]
  },
  {
   "cell_type": "code",
   "execution_count": null,
   "metadata": {},
   "outputs": [],
   "source": [
    "numero1 = 4"
   ]
  },
  {
   "cell_type": "code",
   "execution_count": null,
   "metadata": {},
   "outputs": [],
   "source": [
    "if type(numero1) == int:\n",
    "    if numero1 > 0:\n",
    "        print (\"il numero Ã¨ un intero positivo, pari a: \" + str(numero1))\n",
    "    elif numero1 < 0:\n",
    "      print (\"il numero relativo Ã¨ pari a: \" + str(numero1)) \n",
    "    else:\n",
    "      print (\"il numero Ã¨ pari a: \" + str(numero1))  \n",
    "else:\n",
    "    if type(numero1) == float:\n",
    "        print (\"il numero Ã¨ reale e pari a: \" + str(numero1)) \n",
    "# Output:\n",
    "# il numero Ã¨ un intero positivo, pari a: 4        "
   ]
  },
  {
   "cell_type": "code",
   "execution_count": null,
   "metadata": {},
   "outputs": [],
   "source": [
    "numero1 = -2"
   ]
  },
  {
   "cell_type": "code",
   "execution_count": null,
   "metadata": {},
   "outputs": [],
   "source": [
    "if type(numero1) == int:\n",
    "    if numero1 > 0:\n",
    "        print (\"il numero Ã¨ un intero positivo, pari a: \" + str(numero1))\n",
    "    elif numero1 < 0:\n",
    "      print (\"il numero relativo Ã¨ pari a: \" + str(numero1)) \n",
    "    else:\n",
    "      print (\"il numero Ã¨ pari a: \" + str(numero1))  \n",
    "else:\n",
    "    if type(numero1) == float:\n",
    "        print (\"il numero Ã¨ reale e pari a: \" + str(numero1)) \n",
    "# Output:\n",
    "# il numero relativo Ã¨ pari a: -2        \n",
    "    \n",
    "    \n",
    "numero1 = 5.3"
   ]
  },
  {
   "cell_type": "code",
   "execution_count": null,
   "metadata": {},
   "outputs": [],
   "source": [
    "if type(numero1) == int:\n",
    "    if numero1 > 0:\n",
    "        print (\"il numero Ã¨ un intero positivo, pari a: \" + str(numero1))\n",
    "    elif numero1 < 0:\n",
    "      print (\"il numero relativo Ã¨ pari a: \" + str(numero1)) \n",
    "    else:\n",
    "      print (\"il numero Ã¨ pari a: \" + str(numero1))  \n",
    "else:\n",
    "    if type(numero1) == float:\n",
    "        print (\"il numero Ã¨ reale e pari a: \" + str(numero1)) \n",
    "# Output:\n",
    "# il numero Ã¨ reale e pari a: 5.3        "
   ]
  },
  {
   "cell_type": "code",
   "execution_count": null,
   "metadata": {},
   "outputs": [],
   "source": [
    " \n",
    "numero1 = -4/13"
   ]
  },
  {
   "cell_type": "code",
   "execution_count": null,
   "metadata": {},
   "outputs": [],
   "source": [
    "if type(numero1) == int:\n",
    "    if numero1 > 0:\n",
    "        print (\"il numero Ã¨ un intero positivo, pari a: \" + str(numero1))\n",
    "    elif numero1 < 0:\n",
    "      print (\"il numero relativo Ã¨ pari a: \" + str(numero1)) \n",
    "    else:\n",
    "      print (\"il numero Ã¨ pari a: \" + str(numero1))  \n",
    "else:\n",
    "    if type(numero1) == float:\n",
    "        print (\"il numero Ã¨ reale e pari a: \" + str(numero1)) \n",
    "# Output:\n",
    "# il numero Ã¨ reale e pari a: -0.3076923076923077        \n",
    "    \n",
    "    \n",
    "    \n",
    "numero1 = 0"
   ]
  },
  {
   "cell_type": "code",
   "execution_count": null,
   "metadata": {},
   "outputs": [],
   "source": [
    "if type(numero1) == int:\n",
    "    if numero1 > 0:\n",
    "        print (\"il numero Ã¨ un intero positivo, pari a: \" + str(numero1))\n",
    "    elif numero1 < 0:\n",
    "      print (\"il numero relativo Ã¨ pari a: \" + str(numero1)) \n",
    "    else:\n",
    "      print (\"il numero Ã¨ pari a: \" + str(numero1))  \n",
    "else:\n",
    "    if type(numero1) == float:\n",
    "        print (\"il numero Ã¨ reale e pari a: \" + str(numero1)) \n",
    "# Output:\n",
    "# Il numero Ã¨ pari a: 0        \n",
    "      \n",
    "       \n",
    "    \n",
    "    \n",
    "    \n",
    "    \n",
    "    \n",
    "    \n",
    "    \n",
    "    \n",
    "    \n",
    "    \n",
    "    \n",
    "    "
   ]
  }
 ],
 "metadata": {
  "kernelspec": {
   "display_name": "Python 3",
   "language": "python",
   "name": "python3"
  },
  "language_info": {
   "codemirror_mode": {
    "name": "ipython",
    "version": 3
   },
   "file_extension": ".py",
   "mimetype": "text/x-python",
   "name": "python",
   "nbconvert_exporter": "python",
   "pygments_lexer": "ipython3",
   "version": "3.6.4"
  }
 },
 "nbformat": 4,
 "nbformat_minor": 2
}
