{
 "nbformat": 4,
 "nbformat_minor": 2,
 "metadata": {
  "language_info": {
   "name": "python",
   "codemirror_mode": {
    "name": "ipython",
    "version": 3
   },
   "version": "3.7.4-final"
  },
  "orig_nbformat": 2,
  "file_extension": ".py",
  "mimetype": "text/x-python",
  "name": "python",
  "npconvert_exporter": "python",
  "pygments_lexer": "ipython3",
  "version": 3,
  "kernelspec": {
   "name": "python37464bitanaconda3virtualenvda4b09d4de454df8b434c58dc68106a4",
   "display_name": "Python 3.7.4 64-bit ('anaconda3': virtualenv)"
  }
 },
 "cells": [
  {
   "cell_type": "markdown",
   "metadata": {},
   "source": [
    "~~~\n",
    "def useful_function():\n",
    "    for i in range(5):\n",
    "        print(\"bella risposta: {}\".format(i))\n",
    "\n",
    "\n",
    "useful_function \n",
    "\n",
    "if __name__ == '__mane__': #non viene inserito in funzioni che potremmo voler importare!"
   ]
  },
  {
   "cell_type": "code",
   "execution_count": 1,
   "metadata": {},
   "outputs": [],
   "source": [
    "import time"
   ]
  },
  {
   "cell_type": "markdown",
   "metadata": {},
   "source": [
    "~~~\n",
    "while True:\n",
    "    try:\n",
    "        print(\"Messaggio infinito...\")\n",
    "        time.sleep(0.1)\n",
    "    except:\n",
    "        print(\"cazzarola continua a funzionare all'infinito\")\n"
   ]
  },
  {
   "cell_type": "markdown",
   "metadata": {},
   "source": [
    "Questa sintassi è sbagliata perchè un except generico intercetta solamente gli errori interni di python, non il CTRL+Z del terminale, lasciando il loop ancora all'infinito!"
   ]
  },
  {
   "cell_type": "markdown",
   "metadata": {},
   "source": [
    "~~~\n",
    "while True:\n",
    "    try:\n",
    "        print(\"Messaggio infinito...\")\n",
    "        time.sleep(0.1)\n",
    "    except Exception:\n",
    "        print(\"cazzarola continua a funzionare all'infinito\")"
   ]
  },
  {
   "cell_type": "markdown",
   "metadata": {},
   "source": [
    "In questo modo anche il SIGTERM del terminale fermerà il LOOP infinito!"
   ]
  },
  {
   "cell_type": "markdown",
   "metadata": {},
   "source": [
    "~~~\n",
    "import traceback\n",
    "try:\n",
    "    something\n",
    "except:\n",
    "    traceback.print_exc()"
   ]
  },
  {
   "cell_type": "markdown",
   "metadata": {},
   "source": [
    "traceback ci permette di avere maggiori informazioni circa l'errore che ha bloccato il nostro codice."
   ]
  },
  {
   "cell_type": "markdown",
   "metadata": {},
   "source": [
    "~~~\n",
    "with open(\"miofile\") as f:\n",
    "    names = f.readlines()[:1000000]\n",
    "    names_set = set(names)\n",
    "#prima funzione\n",
    "def in_names():\n",
    "    ret = []\n",
    "    for i in range(100):\n",
    "        ret.append(str(i) in names)\n",
    "    return ret\n",
    "#seconda funzione\n",
    "def in_names_set():\n",
    "    ret = []\n",
    "    for i in range(100):\n",
    "        ret.append(str(i) in names_set)\n",
    "    return ret\n",
    "~~~\n",
    "La prima funzione, cercando in una lista, impiega 10 volte il tempo della seconda; ergo in questo caso meglio utilizzare dei dataset come SET o TUPLE... (vedere oggetti HASHABLE)\n",
    "\n"
   ]
  },
  {
   "cell_type": "code",
   "execution_count": 6,
   "metadata": {},
   "outputs": [
    {
     "name": "stdout",
     "output_type": "stream",
     "text": "ciao amico 0\nciao amico 1\nciao amico 2\nciao amico 3\nciao amico 4\nil tempo di esecuzione del ciclo è stato 5.0053346157073975 secondi!\n"
    }
   ],
   "source": [
    "import time\n",
    "s = time.time()\n",
    "for i in range(5):\n",
    "    print(\"ciao amico {}\".format(i))\n",
    "    time.sleep(1)\n",
    "print(\"il tempo di esecuzione del ciclo è stato {} secondi!\".format(time.time() - s))"
   ]
  },
  {
   "cell_type": "code",
   "execution_count": 9,
   "metadata": {},
   "outputs": [
    {
     "data": {
      "text/plain": "['andrea', 'mario', 'andrea', 'mario']"
     },
     "execution_count": 9,
     "metadata": {},
     "output_type": "execute_result"
    }
   ],
   "source": [
    "def miaFunzione(nomi, classe = []):\n",
    "    for name in nomi:\n",
    "        classe.append(name)\n",
    "    return classe\n",
    "\n",
    "miaFunzione([\"andrea\", \"mario\"])\n"
   ]
  },
  {
   "cell_type": "code",
   "execution_count": 21,
   "metadata": {},
   "outputs": [],
   "source": [
    "def miaFunzione(nomi, classe = None):\n",
    "    classe = []\n",
    "    for name in nomi:\n",
    "        classe.append(name)\n",
    "    return classe\n",
    "    \n"
   ]
  },
  {
   "cell_type": "code",
   "execution_count": 22,
   "metadata": {},
   "outputs": [
    {
     "data": {
      "text/plain": "['andrea', 'mario']"
     },
     "execution_count": 22,
     "metadata": {},
     "output_type": "execute_result"
    }
   ],
   "source": [
    "miaFunzione([\"andrea\", \"mario\"])\n",
    "miaFunzione([\"andrea\", \"mario\"])"
   ]
  },
  {
   "cell_type": "markdown",
   "metadata": {},
   "source": [
    "Questo succede perchè avendo utilizzato un oggetto mutabile ed essendo caricato in memoria, quando chiamiamo per la seconda volta la funzione questa aggiunge al vecchio contenuto il nuovo! Nel secondo caso, invece, abbiamo azzerato il contenuto all'inizio della chiamata e questo ci porta al risultato aspettato!"
   ]
  },
  {
   "cell_type": "markdown",
   "metadata": {},
   "source": [
    "Nel caso in cui si voglia mettere un argomento con valore di default, questi dovrà essere un oggetto immutabile!"
   ]
  },
  {
   "cell_type": "code",
   "execution_count": null,
   "metadata": {},
   "outputs": [],
   "source": []
  }
 ]
}