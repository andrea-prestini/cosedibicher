{
 "cells": [
  {
   "cell_type": "code",
   "execution_count": 1,
   "id": "59f101c7-f604-4fa3-80c5-f868a022fcce",
   "metadata": {},
   "outputs": [],
   "source": [
    "import os\n",
    "import time"
   ]
  },
  {
   "cell_type": "code",
   "execution_count": 2,
   "id": "85b3a52e-b3b6-46ca-bcce-f7a63975ade0",
   "metadata": {},
   "outputs": [],
   "source": [
    "def decoratoreCornice(funzione):\n",
    "    def wrapper(*args):\n",
    "        return f'''\n",
    "        Prezzo applicato al prodotto € {x}\n",
    "        Quantità: {y}\n",
    "        {\"-\" * 40}\n",
    "        Totale spesa transazione:\n",
    "        € {funzione(x,y):.2f}'''\n",
    "        \n",
    "    return wrapper\n",
    "\n",
    "@decoratoreCornice\n",
    "def funzione(x, y):\n",
    "    x = int(x)\n",
    "    y = int(y)\n",
    "    return (x * y)"
   ]
  },
  {
   "cell_type": "code",
   "execution_count": 3,
   "id": "7fbf56bf-6c42-4b7a-b148-bad56476429f",
   "metadata": {},
   "outputs": [
    {
     "name": "stdin",
     "output_type": "stream",
     "text": [
      "vuoi inserire i numeri?  \n",
      "inserisci primo numero:  2\n",
      "inserisci secondo numero:  10\n",
      "vuoi inserire i numeri?  \n",
      "inserisci primo numero:  5\n",
      "inserisci secondo numero:  1000\n",
      "vuoi inserire i numeri?  n\n"
     ]
    },
    {
     "name": "stdout",
     "output_type": "stream",
     "text": [
      "Arrivederci...\n"
     ]
    }
   ],
   "source": [
    "lista = []\n",
    "\n",
    "while True:\n",
    "    ris = input(\"vuoi inserire i numeri? \")\n",
    "    if ris == \"n\":\n",
    "        print(\"Arrivederci...\")\n",
    "        break\n",
    "    else:\n",
    "        x = input(\"inserisci primo numero: \")\n",
    "        y = input(\"inserisci secondo numero: \")\n",
    "        lista.append((x,y))"
   ]
  },
  {
   "cell_type": "code",
   "execution_count": 6,
   "id": "a43674fd-5762-4ff7-bdb8-26661f057e24",
   "metadata": {},
   "outputs": [
    {
     "name": "stdout",
     "output_type": "stream",
     "text": [
      "\u001b[H\u001b[2J[('2', '10'), ('5', '1000')]\n",
      "\n",
      "        Prezzo applicato al prodotto € 2\n",
      "        Quantità: 10\n",
      "        ----------------------------------------\n",
      "        Totale spesa transazione:\n",
      "        € 20.00\n",
      "\n",
      "        Prezzo applicato al prodotto € 5\n",
      "        Quantità: 1000\n",
      "        ----------------------------------------\n",
      "        Totale spesa transazione:\n",
      "        € 5000.00\n",
      "\n",
      "Nel carrello abbiamo 2 prodotti\n",
      "la spesa totale è € 5,020.00\n"
     ]
    }
   ],
   "source": [
    "        \n",
    "os.system(\"clear\")\n",
    "print(lista)\n",
    "totale = 0\n",
    "\n",
    "for val in lista:\n",
    "    x, y = val[0], val[1]\n",
    "    print(funzione(x,y))\n",
    "    time.sleep(2)\n",
    "    totale = totale + (int(x) * int(y))\n",
    "\n",
    "print()\n",
    "print(\"Nel carrello abbiamo {} prodotti\".format(len(lista)))\n",
    "print(f\"la spesa totale è € {totale:,.2f}\")"
   ]
  },
  {
   "cell_type": "code",
   "execution_count": null,
   "id": "3ffeff84-6fc2-4cd3-b98f-6bc5bbbd353f",
   "metadata": {},
   "outputs": [],
   "source": []
  }
 ],
 "metadata": {
  "kernelspec": {
   "display_name": "Python 3 (ipykernel)",
   "language": "python",
   "name": "python3"
  },
  "language_info": {
   "codemirror_mode": {
    "name": "ipython",
    "version": 3
   },
   "file_extension": ".py",
   "mimetype": "text/x-python",
   "name": "python",
   "nbconvert_exporter": "python",
   "pygments_lexer": "ipython3",
   "version": "3.8.13"
  },
  "widgets": {
   "application/vnd.jupyter.widget-state+json": {
    "state": {},
    "version_major": 2,
    "version_minor": 0
   }
  }
 },
 "nbformat": 4,
 "nbformat_minor": 5
}
