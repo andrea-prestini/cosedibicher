{
 "cells": [
  {
   "cell_type": "code",
   "execution_count": 31,
   "metadata": {},
   "outputs": [],
   "source": [
    "def decoratore(func):\n",
    "    def wrapper():\n",
    "        print(\"io sono prima della funzione\")\n",
    "        func(input(\"come ti chiami?\\n\"))\n",
    "        print(\"io sono dopo la funzione\")\n",
    "    return wrapper()"
   ]
  },
  {
   "cell_type": "code",
   "execution_count": 32,
   "metadata": {},
   "outputs": [
    {
     "name": "stdout",
     "output_type": "stream",
     "text": "io sono prima della funzione\nciao amico Alan\nio sono dopo la funzione\n"
    }
   ],
   "source": [
    "@decoratore\n",
    "def amico(nome):   \n",
    "    print(\"ciao amico \"+ str(nome))\n",
    "                "
   ]
  },
  {
   "cell_type": "code",
   "execution_count": 61,
   "metadata": {},
   "outputs": [
    {
     "name": "stdout",
     "output_type": "stream",
     "text": [
      "ciao amico Eleonora\n"
     ]
    }
   ],
   "source": [
    "amico(\"Eleonora\") # senza decoratore"
   ]
  },
  {
   "cell_type": "code",
   "execution_count": 1,
   "metadata": {},
   "outputs": [],
   "source": [
    "import time"
   ]
  },
  {
   "cell_type": "code",
   "execution_count": 32,
   "metadata": {},
   "outputs": [],
   "source": [
    "def calc_square(numbers):\n",
    "    start = time.time()\n",
    "    result = []\n",
    "    for number in numbers:\n",
    "        result.append(number * number)\n",
    "    end = time.time()\n",
    "    print(\"calc_square_took \" + str((end - start)*1000) + \" mil_second\")\n",
    "    return result\n"
   ]
  },
  {
   "cell_type": "code",
   "execution_count": 33,
   "metadata": {},
   "outputs": [],
   "source": [
    "def calc_cube(numbers):\n",
    "    result = []\n",
    "    start = time.time()\n",
    "    for number in numbers:\n",
    "        result.append(number * number * number)\n",
    "    end = time.time()\n",
    "    print(\"calc_cube_took \" + str((end - start)*1000) + \" mil_second\")\n",
    "    return result\n"
   ]
  },
  {
   "cell_type": "code",
   "execution_count": 34,
   "metadata": {},
   "outputs": [],
   "source": [
    "array = range(1, 10000)"
   ]
  },
  {
   "cell_type": "code",
   "execution_count": 35,
   "metadata": {},
   "outputs": [
    {
     "name": "stdout",
     "output_type": "stream",
     "text": "calc_square_took 1.7163753509521484 mil_second\n"
    }
   ],
   "source": [
    "out = calc_square(array)\n"
   ]
  },
  {
   "cell_type": "markdown",
   "execution_count": null,
   "metadata": {},
   "outputs": [],
   "source": [
    "In questo esempio ci sono 2 problemi:\n",
    "* abbiamo del codice che si $\\color{red}{ripete}$ in entrambe le funzioni\n",
    "* le funzioni dovrebbero restituire quadrato e cubo ma noi ritorniamo un TEMPO"
   ]
  },
  {
   "cell_type": "markdown",
   "execution_count": 36,
   "metadata": {},
   "outputs": [
    {
     "ename": "SyntaxError",
     "evalue": "invalid syntax (<ipython-input-36-c7597b9b2303>, line 1)",
     "output_type": "error",
     "traceback": [
      "\u001b[0;36m  File \u001b[0;32m\"<ipython-input-36-c7597b9b2303>\"\u001b[0;36m, line \u001b[0;32m1\u001b[0m\n\u001b[0;31m    La soluzione è usare i **Decoratori**...m\u001b[0m\n\u001b[0m       ^\u001b[0m\n\u001b[0;31mSyntaxError\u001b[0m\u001b[0;31m:\u001b[0m invalid syntax\n"
     ]
    }
   ],
   "source": [
    "La soluzione è usare i **Decoratori**..."
   ]
  },
  {
   "cell_type": "code",
   "execution_count": 59,
   "metadata": {},
   "outputs": [],
   "source": [
    "def time_it(func):\n",
    "    def wrapper(*args, **kwargs):\n",
    "        start = time.time()\n",
    "        func(*args, **kwargs)\n",
    "        end = time.time()\n",
    "        print(func.__name__+ \" took \"+ str((end - start)*1000) + \" mil_seconds\")\n",
    "        \n",
    "    return wrapper\n"
   ]
  },
  {
   "cell_type": "code",
   "execution_count": 60,
   "metadata": {},
   "outputs": [],
   "source": [
    "@time_it\n",
    "def calc_square(numbers):\n",
    "    start = time.time()\n",
    "    result = []\n",
    "    for number in numbers:\n",
    "        result.append(number * number)\n",
    "    end = time.time()\n",
    "    return result"
   ]
  },
  {
   "cell_type": "code",
   "execution_count": 61,
   "metadata": {},
   "outputs": [],
   "source": [
    "@time_it\n",
    "def calc_cube(numbers):\n",
    "    result = []\n",
    "    start = time.time()\n",
    "    for number in numbers:\n",
    "        result.append(number * number * number)\n",
    "    end = time.time()\n",
    "    return result"
   ]
  },
  {
   "cell_type": "code",
   "execution_count": 62,
   "metadata": {},
   "outputs": [],
   "source": [
    "array = range(1, 10000)"
   ]
  },
  {
   "cell_type": "code",
   "execution_count": 63,
   "metadata": {},
   "outputs": [
    {
     "name": "stdout",
     "output_type": "stream",
     "text": "calc_square took 0.7786750793457031 mil_seconds\n"
    }
   ],
   "source": [
    "risultato = calc_square(array)"
   ]
  },
  {
   "cell_type": "code",
   "execution_count": 64,
   "metadata": {},
   "outputs": [
    {
     "name": "stdout",
     "output_type": "stream",
     "text": "calc_cube took 2.429962158203125 mil_seconds\n"
    }
   ],
   "source": [
    "risultatoCubo = calc_cube(array)"
   ]
  },
  {
   "cell_type": "code",
   "execution_count": null,
   "metadata": {},
   "outputs": [],
   "source": []
  }
 ],
 "metadata": {
  "kernelspec": {
   "display_name": "Python 3.8.0 64-bit",
   "language": "python",
   "name": "python38064bitcc1bc868739a40e48395b32afb20b1d0"
  },
  "language_info": {
   "codemirror_mode": {
    "name": "ipython",
    "version": 3
   },
   "file_extension": ".py",
   "mimetype": "text/x-python",
   "name": "python",
   "nbconvert_exporter": "python",
   "pygments_lexer": "ipython3",
   "version": "3.8.0-final"
  }
 },
 "nbformat": 4,
 "nbformat_minor": 2
}