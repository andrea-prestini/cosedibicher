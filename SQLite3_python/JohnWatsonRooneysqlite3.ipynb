{
 "cells": [
  {
   "cell_type": "code",
   "execution_count": 32,
   "metadata": {},
   "outputs": [],
   "source": [
    "import sqlite3\n",
    "from datetime import datetime"
   ]
  },
  {
   "cell_type": "code",
   "execution_count": 60,
   "metadata": {},
   "outputs": [],
   "source": [
    "class Product:\n",
    "    def __init__(self):\n",
    "        self.con = sqlite3.connect(\"test.db\")\n",
    "        self.cur = self.con.cursor()\n",
    "        self.create_table()\n",
    "\n",
    "    def create_table(self):\n",
    "        # self.cur.execute(\"\"\"DROP TABLE products\"\"\")\n",
    "        self.cur.execute(\"\"\"CREATE TABLE IF NOT EXISTS products(\n",
    "date DATE PRIMARY KEY, \n",
    "category TEXT,\n",
    "store TEXT,\n",
    "name TEXT,\n",
    "price REAL,\n",
    "lint TEXT\n",
    "        )\"\"\")\n",
    "\n",
    "    def insert(self, item):\n",
    "        self.cur.execute(\"INSERT OR IGNORE INTO products VALUES(?,?,?,?,?,?)\", item)\n",
    "        self.con.commit()\n",
    "\n",
    "    def read(self):\n",
    "        self.cur.execute(\"\"\" SELECT * FROM products\"\"\")\n",
    "        rows = self.cur.fetchall()\n",
    "        return rows\n"
   ]
  },
  {
   "cell_type": "code",
   "execution_count": 61,
   "metadata": {},
   "outputs": [],
   "source": [
    "today = datetime.today().strftime(\"%Y-%m-%d\") "
   ]
  },
  {
   "cell_type": "code",
   "execution_count": 62,
   "metadata": {},
   "outputs": [],
   "source": [
    "db = Product()"
   ]
  },
  {
   "cell_type": "code",
   "execution_count": 63,
   "metadata": {},
   "outputs": [],
   "source": [
    "item = (\n",
    "    today,\n",
    "    \"pantaloni\",\n",
    "    \"Esine\",\n",
    "    \"pantaloni fresco estate\",\n",
    "    \"25.00\",\n",
    "    \"https://miosito.shop/pantaloni/\"\n",
    ")"
   ]
  },
  {
   "cell_type": "code",
   "execution_count": 66,
   "metadata": {},
   "outputs": [],
   "source": [
    "db.insert(item)"
   ]
  },
  {
   "cell_type": "code",
   "execution_count": 67,
   "metadata": {},
   "outputs": [
    {
     "data": {
      "text/plain": [
       "[('2022-06-10',\n",
       "  'pantaloni',\n",
       "  'Esine',\n",
       "  'pantaloni fresco estate',\n",
       "  25.0,\n",
       "  'https://miosito.shop/pantaloni/')]"
      ]
     },
     "execution_count": 67,
     "metadata": {},
     "output_type": "execute_result"
    }
   ],
   "source": [
    "db.read()"
   ]
  }
 ],
 "metadata": {
  "kernelspec": {
   "display_name": "Python 3.9.12 ('base')",
   "language": "python",
   "name": "python3"
  },
  "language_info": {
   "codemirror_mode": {
    "name": "ipython",
    "version": 3
   },
   "file_extension": ".py",
   "mimetype": "text/x-python",
   "name": "python",
   "nbconvert_exporter": "python",
   "pygments_lexer": "ipython3",
   "version": "3.9.12"
  },
  "orig_nbformat": 4,
  "vscode": {
   "interpreter": {
    "hash": "7473d73b0517ab6f64aa731f2cb80c0acf19c95420055020da77d830c23b4531"
   }
  }
 },
 "nbformat": 4,
 "nbformat_minor": 2
}
