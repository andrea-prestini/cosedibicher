{
 "cells": [
  {
   "cell_type": "code",
   "execution_count": 2,
   "metadata": {},
   "outputs": [],
   "source": [
    "import sqlite3"
   ]
  },
  {
   "cell_type": "code",
   "execution_count": 3,
   "metadata": {},
   "outputs": [],
   "source": [
    "connection = sqlite3.connect(\"gta.db\")"
   ]
  },
  {
   "cell_type": "code",
   "execution_count": 4,
   "metadata": {},
   "outputs": [],
   "source": [
    "release_list = [ \n",
    "    (1997, \"Grand Theft Auto\", \"state of New Guernsey\"),\n",
    "    (1999, \"Gran Thef Auto 2\", \"Anywhere, USA\"),\n",
    "    (2001, \"Gran Thef Auto III\", \"Liberty City\"),\n",
    "    (2002, \"Gran Thef Auto: Vice City\", \"Vice City\"),\n",
    "    (2004, \"Gran Thef Auto: San Andreas\", \"state of San Andreas\"),\n",
    "    (2008, \"Gran Thef Auto IV\", \"Liberty City\"),\n",
    "    (2013, \"Gran Thef Auto V\", \"Los Santos\")\n",
    "]"
   ]
  },
  {
   "cell_type": "code",
   "execution_count": 5,
   "metadata": {},
   "outputs": [],
   "source": [
    "cursor = connection.cursor()"
   ]
  },
  {
   "cell_type": "code",
   "execution_count": 6,
   "metadata": {},
   "outputs": [
    {
     "data": {
      "text/plain": [
       "<sqlite3.Cursor at 0x7fe148174f80>"
      ]
     },
     "execution_count": 6,
     "metadata": {},
     "output_type": "execute_result"
    }
   ],
   "source": [
    "cursor.execute(\"create table if not exists gta (release_year integer, release_name text, city text)\")\n",
    "cursor.execute(\"create table if not exists cities (gta_city text, real_city text)\")"
   ]
  },
  {
   "cell_type": "code",
   "execution_count": 7,
   "metadata": {},
   "outputs": [
    {
     "data": {
      "text/plain": [
       "<sqlite3.Cursor at 0x7fe148174f80>"
      ]
     },
     "execution_count": 7,
     "metadata": {},
     "output_type": "execute_result"
    }
   ],
   "source": [
    "cursor.executemany(\"insert into gta values (?,?,?)\", release_list)"
   ]
  },
  {
   "cell_type": "code",
   "execution_count": 8,
   "metadata": {},
   "outputs": [
    {
     "data": {
      "text/plain": [
       "<sqlite3.Cursor at 0x7fe148174f80>"
      ]
     },
     "execution_count": 8,
     "metadata": {},
     "output_type": "execute_result"
    }
   ],
   "source": [
    "cursor.execute(\"insert into cities values (?,?)\", (\"Liberty City\", \"New Yourk\"))\n",
    "cursor.execute(\"insert into cities values (?,?)\", (\"Los Santos\", \"Los Angeles\"))"
   ]
  },
  {
   "cell_type": "code",
   "execution_count": 9,
   "metadata": {},
   "outputs": [
    {
     "name": "stdout",
     "output_type": "stream",
     "text": [
      "(1997, 'Grand Theft Auto', 'state of New Guernsey')\n",
      "(1999, 'Gran Thef Auto 2', 'Anywhere, USA')\n",
      "(2001, 'Gran Thef Auto III', 'Liberty City')\n",
      "(2002, 'Gran Thef Auto: Vice City', 'Vice City')\n",
      "(2004, 'Gran Thef Auto: San Andreas', 'state of San Andreas')\n",
      "(2008, 'Gran Thef Auto IV', 'Liberty City')\n",
      "(2013, 'Gran Thef Auto V', 'Los Santos')\n"
     ]
    }
   ],
   "source": [
    "# print database rows\n",
    "for row in cursor.execute(\"select * from gta\"):\n",
    "    print(row)"
   ]
  },
  {
   "cell_type": "code",
   "execution_count": 10,
   "metadata": {},
   "outputs": [],
   "source": [
    "# print specific rows\n",
    "cursor.execute(\"select * from gta where city=:c\", {\"c\":\"Liberty City\"})\n",
    "gta_search = cursor.fetchall()"
   ]
  },
  {
   "cell_type": "code",
   "execution_count": 11,
   "metadata": {},
   "outputs": [
    {
     "name": "stdout",
     "output_type": "stream",
     "text": [
      "[(2001, 'Gran Thef Auto III', 'Liberty City'), (2008, 'Gran Thef Auto IV', 'Liberty City')]\n"
     ]
    }
   ],
   "source": [
    "print(gta_search)\n"
   ]
  },
  {
   "cell_type": "code",
   "execution_count": 12,
   "metadata": {},
   "outputs": [
    {
     "name": "stdout",
     "output_type": "stream",
     "text": [
      "[(2001, 'Gran Thef Auto III'), (2008, 'Gran Thef Auto IV')]\n"
     ]
    }
   ],
   "source": [
    "# altra sintassi per la ricerca\n",
    "paese = \"Liberty City\"\n",
    "cursor.execute(\"select release_year, release_name from gta where city=?\",(paese,))\n",
    "risultato = cursor.fetchall()\n",
    "print(risultato)"
   ]
  },
  {
   "cell_type": "code",
   "execution_count": 16,
   "metadata": {},
   "outputs": [
    {
     "name": "stdout",
     "output_type": "stream",
     "text": [
      "[(2013, 'Gran Thef Auto V')]\n"
     ]
    }
   ],
   "source": [
    "# altra sintassi per la ricerca\n",
    "\n",
    "cursor.execute(\"select release_year, release_name from gta where city=? and release_year=?\",(\"Los Santos\", 2013))\n",
    "risultato = cursor.fetchall()\n",
    "print(risultato)"
   ]
  },
  {
   "cell_type": "markdown",
   "metadata": {},
   "source": [
    "### Attenzione Commit della connessione per salvare le modifiche sul file, diversamente ogni cosa sarà persa!"
   ]
  },
  {
   "cell_type": "code",
   "execution_count": 75,
   "metadata": {},
   "outputs": [],
   "source": [
    "cursor.close()\n",
    "connection.close()"
   ]
  }
 ],
 "metadata": {
  "interpreter": {
   "hash": "7473d73b0517ab6f64aa731f2cb80c0acf19c95420055020da77d830c23b4531"
  },
  "kernelspec": {
   "display_name": "Python 3.9.12 ('base')",
   "language": "python",
   "name": "python3"
  },
  "language_info": {
   "codemirror_mode": {
    "name": "ipython",
    "version": 3
   },
   "file_extension": ".py",
   "mimetype": "text/x-python",
   "name": "python",
   "nbconvert_exporter": "python",
   "pygments_lexer": "ipython3",
   "version": "3.9.12"
  },
  "orig_nbformat": 4
 },
 "nbformat": 4,
 "nbformat_minor": 2
}
