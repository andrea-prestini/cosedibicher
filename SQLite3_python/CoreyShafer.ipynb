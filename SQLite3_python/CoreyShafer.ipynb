{
 "cells": [
  {
   "cell_type": "code",
   "execution_count": 2,
   "metadata": {},
   "outputs": [],
   "source": [
    "import sqlite3"
   ]
  },
  {
   "cell_type": "markdown",
   "metadata": {},
   "source": [
    "## File or Memory"
   ]
  },
  {
   "cell_type": "code",
   "execution_count": 6,
   "metadata": {},
   "outputs": [],
   "source": [
    "# in questo caso NON creiamo un file database ma lo storiamo in MEMORIA\n",
    "# ottimo per testare il codice, poi sostituisco con un file che verrà creato\n",
    "conn = sqlite3.connect(\":memory:\")\n",
    "c = conn.cursor()"
   ]
  },
  {
   "cell_type": "code",
   "execution_count": 7,
   "metadata": {},
   "outputs": [],
   "source": [
    "class Impiegato:\n",
    "    def __init__(self, nome, cognome, pay):\n",
    "        self.nome = nome \n",
    "        self.cognome = cognome\n",
    "        self.pay = pay"
   ]
  },
  {
   "cell_type": "code",
   "execution_count": 8,
   "metadata": {},
   "outputs": [],
   "source": [
    "uno = Impiegato(\"andrea\", \"prestini\", 5000)\n",
    "due = Impiegato(\"eleonora\", \"favagrossa\", 10000)\n",
    "tre = Impiegato(\"roberto\", \"tanzini\", 12000)\n",
    "quattro = Impiegato(\"federica\", \"braccagnini\", 2000)\n",
    "cinque = Impiegato(\"aldo\", \"tanzini\", 50000)\n"
   ]
  },
  {
   "cell_type": "code",
   "execution_count": 9,
   "metadata": {},
   "outputs": [
    {
     "data": {
      "text/plain": [
       "<sqlite3.Cursor at 0x7f0cec20b0a0>"
      ]
     },
     "execution_count": 9,
     "metadata": {},
     "output_type": "execute_result"
    }
   ],
   "source": [
    "c.execute(\"\"\"CREATE TABLE IF NOT EXISTS impiegati (\n",
    "    nome text,\n",
    "    cognome text,\n",
    "    pay integer\n",
    "    )\"\"\")"
   ]
  },
  {
   "cell_type": "code",
   "execution_count": 10,
   "metadata": {},
   "outputs": [],
   "source": [
    "def insert_imp(imp):\n",
    "    with conn:\n",
    "        c.execute(\"INSERT INTO impiegati VALUES (?,?,?)\", (imp.nome, imp.cognome, imp.pay))\n",
    "\n",
    "\n",
    "def get_imp_by_cognome(cognome):\n",
    "    c.execute(\"SELECT * FROM impiegati WHERE cognome=cognome\")\n",
    "    return c.fetchall()\n",
    "\n",
    "def update_pay(imp, pay):\n",
    "    with conn:\n",
    "        c.execute(\"\"\"UPDATE impiegati SET pay = :pay WHERE\n",
    "         nome = :nome AND cognome = :cognome\"\"\", \n",
    "         {'nome': imp.nome, 'cognome': imp.cognome, 'pay': imp.pay})\n"
   ]
  },
  {
   "cell_type": "code",
   "execution_count": 11,
   "metadata": {},
   "outputs": [],
   "source": [
    "insert_imp(uno)\n",
    "insert_imp(due)\n",
    "insert_imp(tre)\n",
    "insert_imp(quattro)\n",
    "insert_imp(cinque)"
   ]
  },
  {
   "cell_type": "code",
   "execution_count": 12,
   "metadata": {},
   "outputs": [
    {
     "data": {
      "text/plain": [
       "[('andrea', 'prestini', 5000),\n",
       " ('eleonora', 'favagrossa', 10000),\n",
       " ('roberto', 'tanzini', 12000),\n",
       " ('federica', 'braccagnini', 2000),\n",
       " ('aldo', 'tanzini', 50000)]"
      ]
     },
     "execution_count": 12,
     "metadata": {},
     "output_type": "execute_result"
    }
   ],
   "source": [
    "c.execute(\"SELECT * FROM impiegati\")\n",
    "c.fetchall()"
   ]
  },
  {
   "cell_type": "code",
   "execution_count": 13,
   "metadata": {},
   "outputs": [],
   "source": [
    "update_pay(uno, 99999)\n",
    "conn.commit()"
   ]
  },
  {
   "cell_type": "code",
   "execution_count": 14,
   "metadata": {},
   "outputs": [
    {
     "data": {
      "text/plain": [
       "[('andrea', 'prestini', 5000),\n",
       " ('eleonora', 'favagrossa', 10000),\n",
       " ('roberto', 'tanzini', 12000),\n",
       " ('federica', 'braccagnini', 2000),\n",
       " ('aldo', 'tanzini', 50000)]"
      ]
     },
     "execution_count": 14,
     "metadata": {},
     "output_type": "execute_result"
    }
   ],
   "source": [
    "c.execute(\"SELECT * FROM impiegati\")\n",
    "c.fetchall()"
   ]
  },
  {
   "cell_type": "markdown",
   "metadata": {},
   "source": [
    "## **Primo metodo**\n",
    "```python\n",
    "c.execute(\"INSERT INTO impiegati VALUES ('{}', '{}', '{}')\".format(uno.nome, uno.cognome, uno.pay))\n",
    "```\n",
    "Pericoloso per SQL injection"
   ]
  },
  {
   "cell_type": "markdown",
   "metadata": {},
   "source": [
    "## **Secondo metodo**\n",
    "```python\n",
    "c.execute(\"INSERT INTO impiegati VALUES (?,?,?)\", (uno.nome, uno.cognome, uno.pay))\n",
    "```\n",
    "NON permette SQL injection"
   ]
  },
  {
   "cell_type": "markdown",
   "metadata": {},
   "source": [
    "## **Terzo metodo - best**\n",
    "```python\n",
    "c.execute(\"INSERT INTO impiegati VALUES (:nome, :cognome, :pay)\", \n",
    "        {'nome': uno.nome,\n",
    "        'cognome': uno.cognome,\n",
    "        'pay': uno.pay\n",
    "        })\n",
    "```"
   ]
  },
  {
   "cell_type": "markdown",
   "metadata": {},
   "source": [
    "## Selezione"
   ]
  },
  {
   "cell_type": "code",
   "execution_count": 12,
   "metadata": {},
   "outputs": [
    {
     "data": {
      "text/plain": [
       "('roberto', 'tanzini', 18000)"
      ]
     },
     "execution_count": 12,
     "metadata": {},
     "output_type": "execute_result"
    }
   ],
   "source": [
    "c.execute(\"SELECT * FROM impiegati WHERE cognome='tanzini'\")\n",
    "c.fetchone()"
   ]
  },
  {
   "cell_type": "code",
   "execution_count": 9,
   "metadata": {},
   "outputs": [
    {
     "data": {
      "text/plain": [
       "[('andrea', 'prestini', 5000), ('eleonora', 'favagrossa', 8000)]"
      ]
     },
     "execution_count": 9,
     "metadata": {},
     "output_type": "execute_result"
    }
   ],
   "source": [
    "c.execute(\"SELECT * FROM impiegati\")\n",
    "c.fetchmany(2)"
   ]
  },
  {
   "cell_type": "code",
   "execution_count": 17,
   "metadata": {},
   "outputs": [],
   "source": [
    "conn.commit()\n",
    "conn.close()"
   ]
  }
 ],
 "metadata": {
  "interpreter": {
   "hash": "7473d73b0517ab6f64aa731f2cb80c0acf19c95420055020da77d830c23b4531"
  },
  "kernelspec": {
   "display_name": "Python 3.9.12 ('base')",
   "language": "python",
   "name": "python3"
  },
  "language_info": {
   "codemirror_mode": {
    "name": "ipython",
    "version": 3
   },
   "file_extension": ".py",
   "mimetype": "text/x-python",
   "name": "python",
   "nbconvert_exporter": "python",
   "pygments_lexer": "ipython3",
   "version": "3.9.12"
  },
  "orig_nbformat": 4
 },
 "nbformat": 4,
 "nbformat_minor": 2
}
