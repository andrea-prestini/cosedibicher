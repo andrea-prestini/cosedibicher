{
 "cells": [
  {
   "cell_type": "code",
   "execution_count": 2,
   "metadata": {},
   "outputs": [],
   "source": [
    "import _sqlite3"
   ]
  },
  {
   "cell_type": "code",
   "execution_count": 11,
   "metadata": {},
   "outputs": [],
   "source": [
    "con = _sqlite3.connect(\"./example.sqlite3\")\n",
    "cur = con.cursor()"
   ]
  },
  {
   "cell_type": "code",
   "execution_count": 12,
   "metadata": {},
   "outputs": [
    {
     "data": {
      "text/plain": [
       "<sqlite3.Cursor at 0x7fa8a69fd650>"
      ]
     },
     "execution_count": 12,
     "metadata": {},
     "output_type": "execute_result"
    }
   ],
   "source": [
    "cur.execute('''CREATE TABLE IF NOT EXISTS tshirts\n",
    "                    (sku text PRIMARY KEY, name text, size text, price real)''')"
   ]
  },
  {
   "cell_type": "code",
   "execution_count": 13,
   "metadata": {},
   "outputs": [
    {
     "data": {
      "text/plain": [
       "<sqlite3.Cursor at 0x7fa8a69fd650>"
      ]
     },
     "execution_count": 13,
     "metadata": {},
     "output_type": "execute_result"
    }
   ],
   "source": [
    "cur.execute('''INSERT INTO tshirts VALUES\n",
    "                (\"SKU1234\", \"Black Logo Tshirt\", \"Medium\", \"25.00\")''')"
   ]
  },
  {
   "cell_type": "code",
   "execution_count": 14,
   "metadata": {},
   "outputs": [
    {
     "data": {
      "text/plain": [
       "<sqlite3.Cursor at 0x7fa8a69fd650>"
      ]
     },
     "execution_count": 14,
     "metadata": {},
     "output_type": "execute_result"
    }
   ],
   "source": [
    "cur.execute('''INSERT INTO tshirts VALUES\n",
    "                (\"SKU5555\", \"White Logo Tshirt\", \"Large\", \"125.00\")''')"
   ]
  },
  {
   "cell_type": "code",
   "execution_count": 15,
   "metadata": {},
   "outputs": [
    {
     "ename": "IntegrityError",
     "evalue": "UNIQUE constraint failed: tshirts.sku",
     "output_type": "error",
     "traceback": [
      "\u001b[0;31m---------------------------------------------------------------------------\u001b[0m",
      "\u001b[0;31mIntegrityError\u001b[0m                            Traceback (most recent call last)",
      "\u001b[1;32m/home/andrea/Dropbox/PythonBicherWorld/SQLite3_python/code.ipynb Cell 6'\u001b[0m in \u001b[0;36m<cell line: 1>\u001b[0;34m()\u001b[0m\n\u001b[0;32m----> <a href='vscode-notebook-cell:/home/andrea/Dropbox/PythonBicherWorld/SQLite3_python/code.ipynb#ch0000005?line=0'>1</a>\u001b[0m cur\u001b[39m.\u001b[39;49mexecute(\u001b[39m'''\u001b[39;49m\u001b[39mINSERT INTO tshirts VALUES\u001b[39;49m\n\u001b[1;32m      <a href='vscode-notebook-cell:/home/andrea/Dropbox/PythonBicherWorld/SQLite3_python/code.ipynb#ch0000005?line=1'>2</a>\u001b[0m \u001b[39m                (\u001b[39;49m\u001b[39m\"\u001b[39;49m\u001b[39mSKU5555\u001b[39;49m\u001b[39m\"\u001b[39;49m\u001b[39m, \u001b[39;49m\u001b[39m\"\u001b[39;49m\u001b[39mWhite Logo Tshirt\u001b[39;49m\u001b[39m\"\u001b[39;49m\u001b[39m, \u001b[39;49m\u001b[39m\"\u001b[39;49m\u001b[39mLarge\u001b[39;49m\u001b[39m\"\u001b[39;49m\u001b[39m, \u001b[39;49m\u001b[39m\"\u001b[39;49m\u001b[39m125.00\u001b[39;49m\u001b[39m\"\u001b[39;49m\u001b[39m)\u001b[39;49m\u001b[39m'''\u001b[39;49m)\n",
      "\u001b[0;31mIntegrityError\u001b[0m: UNIQUE constraint failed: tshirts.sku"
     ]
    }
   ],
   "source": [
    "cur.execute('''INSERT INTO tshirts VALUES\n",
    "                (\"SKU5555\", \"White Logo Tshirt\", \"Large\", \"125.00\")''')"
   ]
  },
  {
   "cell_type": "code",
   "execution_count": 16,
   "metadata": {},
   "outputs": [
    {
     "data": {
      "text/plain": [
       "<sqlite3.Cursor at 0x7fa8a69fd650>"
      ]
     },
     "execution_count": 16,
     "metadata": {},
     "output_type": "execute_result"
    }
   ],
   "source": [
    "cur.execute('''INSERT INTO tshirts VALUES\n",
    "                (\"SKU5534\", \"White Logo Tshirt\", \"Large\", \"125.00\")''')"
   ]
  },
  {
   "cell_type": "code",
   "execution_count": 17,
   "metadata": {},
   "outputs": [],
   "source": [
    "con.commit()"
   ]
  },
  {
   "cell_type": "code",
   "execution_count": 18,
   "metadata": {},
   "outputs": [
    {
     "name": "stdout",
     "output_type": "stream",
     "text": [
      "('SKU1234', 'Black Logo Tshirt', 'Medium', 25.0)\n",
      "('SKU5555', 'White Logo Tshirt', 'Large', 125.0)\n",
      "('SKU5534', 'White Logo Tshirt', 'Large', 125.0)\n"
     ]
    }
   ],
   "source": [
    "for row in cur.execute(\"SELECT * FROM tshirts\"):\n",
    "    print(row)"
   ]
  }
 ],
 "metadata": {
  "interpreter": {
   "hash": "7473d73b0517ab6f64aa731f2cb80c0acf19c95420055020da77d830c23b4531"
  },
  "kernelspec": {
   "display_name": "Python 3.9.12 ('base')",
   "language": "python",
   "name": "python3"
  },
  "language_info": {
   "codemirror_mode": {
    "name": "ipython",
    "version": 3
   },
   "file_extension": ".py",
   "mimetype": "text/x-python",
   "name": "python",
   "nbconvert_exporter": "python",
   "pygments_lexer": "ipython3",
   "version": "3.9.12"
  },
  "orig_nbformat": 4
 },
 "nbformat": 4,
 "nbformat_minor": 2
}
