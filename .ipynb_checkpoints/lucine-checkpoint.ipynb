{
 "cells": [
  {
   "cell_type": "code",
   "execution_count": null,
   "id": "8780e949-beb9-41e9-83df-96ce958cd2ec",
   "metadata": {},
   "outputs": [],
   "source": [
    "# n = int(input(\"Quanto grandi i disegni?\\n\"))\n",
    "n = 5"
   ]
  },
  {
   "cell_type": "markdown",
   "id": "b06e7b8f-d9fd-4fed-a811-1c30eb75c9ae",
   "metadata": {},
   "source": [
    "## quadrato di asterischi"
   ]
  },
  {
   "cell_type": "code",
   "execution_count": null,
   "id": "165f1382-3511-4f84-a534-97d252714db1",
   "metadata": {},
   "outputs": [],
   "source": [
    "for i in range(n):\n",
    "    for k in range(n):\n",
    "        print(\"* \", end=\"\")\n",
    "    print(\"\")"
   ]
  },
  {
   "cell_type": "markdown",
   "id": "b3b0e12b-6212-4985-ae43-ba45743f3258",
   "metadata": {},
   "source": [
    "## diagonale principale"
   ]
  },
  {
   "cell_type": "code",
   "execution_count": null,
   "id": "13f04f5b-a4d9-4d24-b434-39217661742f",
   "metadata": {},
   "outputs": [],
   "source": [
    "for i in range(n):\n",
    "    for j in range(n):\n",
    "        if i == j:\n",
    "            print(\"* \", end=\"\")\n",
    "        else:\n",
    "            print(\". \", end=\"\")\n",
    "    print(\"\")"
   ]
  },
  {
   "cell_type": "markdown",
   "id": "b2f79fb0-6dcf-419d-8a9d-6ccc58574d38",
   "metadata": {},
   "source": [
    "## diagonale principale e diagonale secondaria"
   ]
  },
  {
   "cell_type": "code",
   "execution_count": null,
   "id": "3b6387cc-f98b-4980-8788-c6081855c911",
   "metadata": {},
   "outputs": [],
   "source": [
    "for i in range(n):\n",
    "    for j in range(n):\n",
    "        if i == j or j == (n -1 -i):\n",
    "            print(\"* \", end=\"\")\n",
    "        else:\n",
    "            print(\". \", end=\"\")\n",
    "    print(\"\")"
   ]
  },
  {
   "cell_type": "markdown",
   "id": "d31758e9-a723-4c3a-b8cf-9b7ec5481834",
   "metadata": {},
   "source": [
    "## Triangolo sinistro"
   ]
  },
  {
   "cell_type": "code",
   "execution_count": null,
   "id": "0460849e-23c7-4b11-a333-5e09e6bb3bde",
   "metadata": {},
   "outputs": [],
   "source": [
    "for i in range(n):\n",
    "    for j in range(n):\n",
    "        if  i >= j:\n",
    "            print(\"* \", end=\"\")\n",
    "        else:\n",
    "            print(\". \", end=\"\")\n",
    "    print(\"\")"
   ]
  },
  {
   "cell_type": "markdown",
   "id": "db50df4b-0c99-4bc0-9213-a7e057955af9",
   "metadata": {},
   "source": [
    "## Cornice"
   ]
  },
  {
   "cell_type": "code",
   "execution_count": null,
   "id": "ae00fce1-33e3-4478-8077-abab6f726148",
   "metadata": {},
   "outputs": [],
   "source": [
    "for i in range(n):\n",
    "    for j in range(n):\n",
    "        if  (j == 0 or j == n-1) or (i == 0 or i == n-1):\n",
    "            print(\"* \", end=\"\")\n",
    "        else:\n",
    "            print(\". \", end=\"\")\n",
    "    print(\"\")"
   ]
  },
  {
   "cell_type": "markdown",
   "id": "f314793f-3a2e-4a2c-9999-23e602c62445",
   "metadata": {},
   "source": [
    "## Croce centrale"
   ]
  },
  {
   "cell_type": "code",
   "execution_count": null,
   "id": "e2ac2267-519a-439d-a741-cd89c1cf4ff9",
   "metadata": {},
   "outputs": [],
   "source": [
    "# Croce centrale\n",
    "for i in range(n):\n",
    "    for j in range(n):\n",
    "        if  n %2 != 0 and i == (n-1)/2 or j == (n-1)/2 or \\\n",
    "            n %2 == 0 and j == (n/2) or i == (n/2) or \\\n",
    "            i == (n/2)-1 or j == (n/2)-1:\n",
    "            print(\"* \", end=\"\")\n",
    "        else:\n",
    "            print(\". \", end=\"\")\n",
    "    print(\"\")"
   ]
  }
 ],
 "metadata": {
  "kernelspec": {
   "display_name": "Python 3 (ipykernel)",
   "language": "python",
   "name": "python3"
  },
  "language_info": {
   "codemirror_mode": {
    "name": "ipython",
    "version": 3
   },
   "file_extension": ".py",
   "mimetype": "text/x-python",
   "name": "python",
   "nbconvert_exporter": "python",
   "pygments_lexer": "ipython3",
   "version": "3.8.13"
  },
  "widgets": {
   "application/vnd.jupyter.widget-state+json": {
    "state": {},
    "version_major": 2,
    "version_minor": 0
   }
  }
 },
 "nbformat": 4,
 "nbformat_minor": 5
}
