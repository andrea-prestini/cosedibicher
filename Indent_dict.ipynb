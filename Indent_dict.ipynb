{
 "nbformat": 4,
 "nbformat_minor": 2,
 "metadata": {
  "language_info": {
   "name": "python",
   "codemirror_mode": {
    "name": "ipython",
    "version": 3
   },
   "version": "3.8.0"
  },
  "orig_nbformat": 2,
  "file_extension": ".py",
  "mimetype": "text/x-python",
  "name": "python",
  "npconvert_exporter": "python",
  "pygments_lexer": "ipython3",
  "version": 3
 },
 "cells": [
  {
   "cell_type": "code",
   "execution_count": 5,
   "metadata": {},
   "outputs": [],
   "source": [
    "import json\n"
   ]
  },
  {
   "cell_type": "code",
   "execution_count": 6,
   "metadata": {},
   "outputs": [],
   "source": [
    "with open(\"fonte.json\") as access_json:\n",
    "    read_content = json.load(access_json)"
   ]
  },
  {
   "cell_type": "code",
   "execution_count": 7,
   "metadata": {},
   "outputs": [
    {
     "data": {
      "text/plain": "{'results': [{'_class': 'question',\n   'course': {'_class': 'course',\n    'title': 'Angular 7 (formerly Angular 2) - The Complete Guide',\n    'url': '/the-complete-guide-to-angular-2/'},\n   'replies': [{'_class': 'answer',\n     'user': {'_class': 'user',\n      'display_name': 'Maximilian Schwarzmueller'}}]},\n  {'_class': 'question',\n   'course': {'_class': 'course',\n    'title': 'Angular 7 (formerly Angular 2) - The Complete Guide',\n    'url': '/the-complete-guide-to-angular-2/'},\n   'replies': [{'_class': 'answer',\n     'user': {'_class': 'user', 'display_name': 'Maximilian Schwarzmueller'}},\n    {'_class': 'answer',\n     'user': {'_class': 'user', 'display_name': 'Daniel Weat'}}]},\n  {'_class': 'question',\n   'course': {'_class': 'course',\n    'title': 'Angular 7 (formerly Angular 2) - The Complete Guide',\n    'url': '/the-complete-guide-to-angular-2/'},\n   'replies': [{'_class': 'answer',\n     'user': {'_class': 'user', 'display_name': 'Maximilian Schwarzmueller'}},\n    {'_class': 'answer',\n     'user': {'_class': 'user', 'display_name': 'Mike Jauranol'}},\n    {'_class': 'answer',\n     'user': {'_class': 'user', 'display_name': 'Mike Jauranol'}},\n    {'_class': 'answer',\n     'user': {'_class': 'user',\n      'display_name': 'Maximilian Schwarzmueller'}}]},\n  {'_class': 'question',\n   'course': {'_class': 'course',\n    'title': 'Angular 7 (formerly Angular 2) - The Complete Guide',\n    'url': '/the-complete-guide-to-angular-2/'},\n   'replies': [{'_class': 'answer',\n     'user': {'_class': 'user',\n      'display_name': 'Maximilian Schwarzmueller'}}]},\n  {'_class': 'question',\n   'course': {'_class': 'course',\n    'title': 'Angular 7 (formerly Angular 2) - The Complete Guide',\n    'url': '/the-complete-guide-to-angular-2/'},\n   'replies': [{'_class': 'answer',\n     'user': {'_class': 'user', 'display_name': 'Maximilian Schwarzmueller'}},\n    {'_class': 'answer',\n     'user': {'_class': 'user', 'display_name': 'Bernd Raucher'}},\n    {'_class': 'answer',\n     'user': {'_class': 'user',\n      'display_name': 'Maximilian Schwarzmueller'}}]}]}"
     },
     "execution_count": 7,
     "metadata": {},
     "output_type": "execute_result"
    }
   ],
   "source": [
    "read_content"
   ]
  },
  {
   "cell_type": "code",
   "execution_count": 98,
   "metadata": {},
   "outputs": [],
   "source": [
    "question_access = (read_content[\"results\"])"
   ]
  },
  {
   "cell_type": "code",
   "execution_count": 101,
   "metadata": {},
   "outputs": [
    {
     "name": "stdout",
     "output_type": "stream",
     "text": "<class 'list'>\n[{'_class': 'question', 'course': {'_class': 'course', 'title': 'Angular 7 (formerly Angular 2) - The Complete Guide', 'url': '/the-complete-guide-to-angular-2/'}, 'replies': [{'_class': 'answer', 'user': {'_class': 'user', 'display_name': 'Maximilian Schwarzmueller'}}]}, {'_class': 'question', 'course': {'_class': 'course', 'title': 'Angular 7 (formerly Angular 2) - The Complete Guide', 'url': '/the-complete-guide-to-angular-2/'}, 'replies': [{'_class': 'answer', 'user': {'_class': 'user', 'display_name': 'Maximilian Schwarzmueller'}}, {'_class': 'answer', 'user': {'_class': 'user', 'display_name': 'Daniel Weat'}}]}, {'_class': 'question', 'course': {'_class': 'course', 'title': 'Angular 7 (formerly Angular 2) - The Complete Guide', 'url': '/the-complete-guide-to-angular-2/'}, 'replies': [{'_class': 'answer', 'user': {'_class': 'user', 'display_name': 'Maximilian Schwarzmueller'}}, {'_class': 'answer', 'user': {'_class': 'user', 'display_name': 'Mike Jauranol'}}, {'_class': 'answer', 'user': {'_class': 'user', 'display_name': 'Mike Jauranol'}}, {'_class': 'answer', 'user': {'_class': 'user', 'display_name': 'Maximilian Schwarzmueller'}}]}, {'_class': 'question', 'course': {'_class': 'course', 'title': 'Angular 7 (formerly Angular 2) - The Complete Guide', 'url': '/the-complete-guide-to-angular-2/'}, 'replies': [{'_class': 'answer', 'user': {'_class': 'user', 'display_name': 'Maximilian Schwarzmueller'}}]}, {'_class': 'question', 'course': {'_class': 'course', 'title': 'Angular 7 (formerly Angular 2) - The Complete Guide', 'url': '/the-complete-guide-to-angular-2/'}, 'replies': [{'_class': 'answer', 'user': {'_class': 'user', 'display_name': 'Maximilian Schwarzmueller'}}, {'_class': 'answer', 'user': {'_class': 'user', 'display_name': 'Bernd Raucher'}}, {'_class': 'answer', 'user': {'_class': 'user', 'display_name': 'Maximilian Schwarzmueller'}}]}]\n"
    }
   ],
   "source": [
    "print(type(question_access))\n",
    "print(question_access)"
   ]
  },
  {
   "cell_type": "code",
   "execution_count": 103,
   "metadata": {},
   "outputs": [
    {
     "data": {
      "text/plain": "{'_class': 'question',\n 'course': {'_class': 'course',\n  'title': 'Angular 7 (formerly Angular 2) - The Complete Guide',\n  'url': '/the-complete-guide-to-angular-2/'},\n 'replies': [{'_class': 'answer',\n   'user': {'_class': 'user', 'display_name': 'Maximilian Schwarzmueller'}}]}"
     },
     "execution_count": 103,
     "metadata": {},
     "output_type": "execute_result"
    }
   ],
   "source": [
    "question_access[0]"
   ]
  },
  {
   "cell_type": "code",
   "execution_count": 105,
   "metadata": {},
   "outputs": [
    {
     "name": "stdout",
     "output_type": "stream",
     "text": "{'_class': 'question', 'course': {'_class': 'course', 'title': 'Angular 7 (formerly Angular 2) - The Complete Guide', 'url': '/the-complete-guide-to-angular-2/'}, 'replies': [{'_class': 'answer', 'user': {'_class': 'user', 'display_name': 'Maximilian Schwarzmueller'}}]}\n{'_class': 'question', 'course': {'_class': 'course', 'title': 'Angular 7 (formerly Angular 2) - The Complete Guide', 'url': '/the-complete-guide-to-angular-2/'}, 'replies': [{'_class': 'answer', 'user': {'_class': 'user', 'display_name': 'Maximilian Schwarzmueller'}}, {'_class': 'answer', 'user': {'_class': 'user', 'display_name': 'Daniel Weat'}}]}\n{'_class': 'question', 'course': {'_class': 'course', 'title': 'Angular 7 (formerly Angular 2) - The Complete Guide', 'url': '/the-complete-guide-to-angular-2/'}, 'replies': [{'_class': 'answer', 'user': {'_class': 'user', 'display_name': 'Maximilian Schwarzmueller'}}, {'_class': 'answer', 'user': {'_class': 'user', 'display_name': 'Mike Jauranol'}}, {'_class': 'answer', 'user': {'_class': 'user', 'display_name': 'Mike Jauranol'}}, {'_class': 'answer', 'user': {'_class': 'user', 'display_name': 'Maximilian Schwarzmueller'}}]}\n{'_class': 'question', 'course': {'_class': 'course', 'title': 'Angular 7 (formerly Angular 2) - The Complete Guide', 'url': '/the-complete-guide-to-angular-2/'}, 'replies': [{'_class': 'answer', 'user': {'_class': 'user', 'display_name': 'Maximilian Schwarzmueller'}}]}\n{'_class': 'question', 'course': {'_class': 'course', 'title': 'Angular 7 (formerly Angular 2) - The Complete Guide', 'url': '/the-complete-guide-to-angular-2/'}, 'replies': [{'_class': 'answer', 'user': {'_class': 'user', 'display_name': 'Maximilian Schwarzmueller'}}, {'_class': 'answer', 'user': {'_class': 'user', 'display_name': 'Bernd Raucher'}}, {'_class': 'answer', 'user': {'_class': 'user', 'display_name': 'Maximilian Schwarzmueller'}}]}\n"
    }
   ],
   "source": [
    "for question_data in question_access:\n",
    "    print(question_data)"
   ]
  },
  {
   "cell_type": "code",
   "execution_count": 106,
   "metadata": {},
   "outputs": [],
   "source": [
    "replies_access = question_data[\"replies\"]"
   ]
  },
  {
   "cell_type": "code",
   "execution_count": 109,
   "metadata": {},
   "outputs": [
    {
     "name": "stdout",
     "output_type": "stream",
     "text": "{'_class': 'answer', 'user': {'_class': 'user', 'display_name': 'Maximilian Schwarzmueller'}}\n{'_class': 'answer', 'user': {'_class': 'user', 'display_name': 'Bernd Raucher'}}\n{'_class': 'answer', 'user': {'_class': 'user', 'display_name': 'Maximilian Schwarzmueller'}}\n"
    }
   ],
   "source": [
    "for replies_data in replies_access:\n",
    "    print(replies_data)"
   ]
  },
  {
   "cell_type": "code",
   "execution_count": 118,
   "metadata": {},
   "outputs": [],
   "source": [
    "user_name = replies_data[\"user\"][\"display_name\"]"
   ]
  },
  {
   "cell_type": "code",
   "execution_count": 13,
   "metadata": {},
   "outputs": [],
   "source": [
    "def get_users_name():\n",
    "    question_access = read_content[\"results\"]\n",
    "    for question_data in question_access:\n",
    "        replies_access = question_data[\"replies\"]\n",
    "        for replies_data in replies_access:\n",
    "            user_name = replies_data[\"user\"][\"display_name\"]\n",
    "            print(user_name)\n",
    "\n",
    "\n"
   ]
  },
  {
   "cell_type": "code",
   "execution_count": 8,
   "metadata": {},
   "outputs": [],
   "source": [
    "def elenco_utenti():\n",
    "    for question_data in read_content[\"results\"]:\n",
    "        for replies_data in question_data[\"replies\"]:\n",
    "            utente = replies_data[\"user\"][\"display_name\"]\n",
    "            print(utente)"
   ]
  },
  {
   "cell_type": "code",
   "execution_count": 9,
   "metadata": {},
   "outputs": [
    {
     "name": "stdout",
     "output_type": "stream",
     "text": "Maximilian Schwarzmueller\nMaximilian Schwarzmueller\nDaniel Weat\nMaximilian Schwarzmueller\nMike Jauranol\nMike Jauranol\nMaximilian Schwarzmueller\nMaximilian Schwarzmueller\nMaximilian Schwarzmueller\nBernd Raucher\nMaximilian Schwarzmueller\n"
    }
   ],
   "source": [
    "elenco_utenti()"
   ]
  },
  {
   "cell_type": "code",
   "execution_count": 14,
   "metadata": {},
   "outputs": [
    {
     "name": "stdout",
     "output_type": "stream",
     "text": "Maximilian Schwarzmueller\nMaximilian Schwarzmueller\nDaniel Weat\nMaximilian Schwarzmueller\nMike Jauranol\nMike Jauranol\nMaximilian Schwarzmueller\nMaximilian Schwarzmueller\nMaximilian Schwarzmueller\nBernd Raucher\nMaximilian Schwarzmueller\n"
    }
   ],
   "source": [
    "get_users_name()"
   ]
  },
  {
   "cell_type": "code",
   "execution_count": null,
   "metadata": {},
   "outputs": [],
   "source": []
  }
 ]
}