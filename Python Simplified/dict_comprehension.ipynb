{
 "cells": [
  {
   "cell_type": "code",
   "execution_count": 1,
   "metadata": {},
   "outputs": [
    {
     "name": "stdout",
     "output_type": "stream",
     "text": [
      "{'Mariya': 'programmer', 'Gendalf': 'wizard', 'Batman': 'superhero'} zip method\n",
      "{'Mariya': 'programmer', 'Gendalf': 'wizard', 'Batman': 'superhero'} index method\n",
      "{'Mariya': 'programmer', 'Gendalf': 'wizard', 'Batman': 'superhero'} dict comprehension 1\n",
      "{'Mariya': 'programmer', 'Gendalf': 'wizard', 'Batman': 'superhero'} list comprehension 2\n"
     ]
    }
   ],
   "source": [
    "names = [\"Mariya\", \"Gendalf\", \"Batman\"]\n",
    "profs = [\"programmer\", \"wizard\", \"superhero\"]\n",
    "\n",
    "my_dict = {}\n",
    "\n",
    "# usiamo il metodo zip\n",
    "for key, value in zip(names, profs):\n",
    "    my_dict[key] = value\n",
    "print(my_dict, \"zip method\")\n",
    "\n",
    "# usiamo gli indici che per names e profs sono uguali\n",
    "for i in range(3):\n",
    "    my_dict[names[i]] = profs[i]\n",
    "print(my_dict, \"index method\")\n",
    "\n",
    "# usiamo dict comprehension\n",
    "my_dict_L = {k: v for k, v in zip(names, profs)}\n",
    "print(my_dict_L, \"dict comprehension 1\")\n",
    "\n",
    "# ancora dict comprehension\n",
    "my_dict_L2 = {names[i]: profs[i] for i in range(len(names))}\n",
    "print(my_dict_L2, \"list comprehension 2\")\n"
   ]
  },
  {
   "cell_type": "markdown",
   "metadata": {},
   "source": [
    "## Quali di questi approcci risulta essere più veloce e perchè?"
   ]
  },
  {
   "cell_type": "markdown",
   "metadata": {},
   "source": [
    "- names e profs come liste\n",
    "- names e profs come tuple\n",
    "- pandas DataFrame"
   ]
  },
  {
   "cell_type": "code",
   "execution_count": 2,
   "metadata": {},
   "outputs": [
    {
     "name": "stdout",
     "output_type": "stream",
     "text": [
      "{'Mariya': 'programmer', 'Gendalf': 'wizard', 'Batman': 'superhero'} zip method\n",
      "{'Mariya': 'programmer', 'Gendalf': 'wizard', 'Batman': 'superhero'} index method\n",
      "{'Mariya': 'programmer', 'Gendalf': 'wizard', 'Batman': 'superhero'} dict comprehension 1\n",
      "{'Mariya': 'programmer', 'Gendalf': 'wizard', 'Batman': 'superhero'} list comprehension 2\n"
     ]
    }
   ],
   "source": [
    "names = (\"Mariya\", \"Gendalf\", \"Batman\")\n",
    "profs = (\"programmer\", \"wizard\", \"superhero\")\n",
    "\n",
    "my_dict = {}\n",
    "\n",
    "# usiamo il metodo zip\n",
    "for key, value in zip(names, profs):\n",
    "    my_dict[key] = value\n",
    "print(my_dict, \"zip method\")\n",
    "\n",
    "# usiamo gli indici che per names e profs sono uguali\n",
    "for i in range(3):\n",
    "    my_dict[names[i]] = profs[i]\n",
    "print(my_dict, \"index method\")\n",
    "\n",
    "# usiamo dict comprehension\n",
    "my_dict_L = {k: v for k, v in zip(names, profs)}\n",
    "print(my_dict_L, \"dict comprehension 1\")\n",
    "\n",
    "# ancora dict comprehension\n",
    "my_dict_L2 = {names[i]: profs[i] for i in range(len(names))}\n",
    "print(my_dict_L2, \"list comprehension 2\")"
   ]
  },
  {
   "cell_type": "code",
   "execution_count": 5,
   "metadata": {},
   "outputs": [],
   "source": [
    "my_dict = {\n",
    "    \"Spider\": \"photographer\",\n",
    "    \"Bat\": \"philanthropist\",\n",
    "    \"Wonder Wo\": \"nurse\"\n",
    "}"
   ]
  },
  {
   "cell_type": "code",
   "execution_count": 45,
   "metadata": {},
   "outputs": [
    {
     "name": "stdout",
     "output_type": "stream",
     "text": [
      "{'Spidermanman': 'photographer', 'Batmanman': 'philanthropist', 'Wonder Womanman': 'nurse'}\n"
     ]
    }
   ],
   "source": [
    "my_dict = {(key+\"man\"):val for (key,val) in my_dict.items()}\n",
    "print(my_dict)"
   ]
  },
  {
   "cell_type": "code",
   "execution_count": 49,
   "metadata": {},
   "outputs": [
    {
     "name": "stdout",
     "output_type": "stream",
     "text": [
      "{'Superman': 'journalist', 'Batman': 'philanthropist', 'Wonder Woman': 'nurse'}\n"
     ]
    }
   ],
   "source": [
    "my_dict = {\n",
    "    \"Spider\": \"photographer\",\n",
    "    \"Bat\": \"philanthropist\",\n",
    "    \"Wonder Wo\": \"nurse\"\n",
    "}\n",
    "my_dict = {\n",
    "    (key+\"man\" if key != \"Spider\" else \"Superman\"):\n",
    "    (val if val != \"photographer\" else \"journalist\") \n",
    "    for (key, val) in my_dict.items()\n",
    "}\n",
    "\n",
    "print(my_dict)"
   ]
  },
  {
   "cell_type": "markdown",
   "metadata": {},
   "source": [
    "> There are 4 nucleobases in DNA:\n",
    "> - Adenina A\n",
    "> - Citosina C\n",
    "> - Guanine G\n",
    "> - Thymine T    "
   ]
  },
  {
   "cell_type": "code",
   "execution_count": 53,
   "metadata": {},
   "outputs": [
    {
     "name": "stdout",
     "output_type": "stream",
     "text": [
      "['G', 'A', 'G', 'G', 'C', 'G', 'A', 'G', 'A', 'G']\n"
     ]
    }
   ],
   "source": [
    "import random\n",
    "\n",
    "bases = [\"A\", \"T\", \"C\", \"G\"]\n",
    "strand1 = random.choices(bases, k=10)\n",
    "print(strand1)\n"
   ]
  },
  {
   "cell_type": "code",
   "execution_count": 59,
   "metadata": {},
   "outputs": [
    {
     "name": "stdout",
     "output_type": "stream",
     "text": [
      "{0: ['G', 'C'], 1: ['A', 'T'], 2: ['G', 'C'], 3: ['G', 'C'], 4: ['C', 'G'], 5: ['G', 'C'], 6: ['A', 'T'], 7: ['G', 'C'], 8: ['A', 'T'], 9: ['G', 'C']}\n"
     ]
    }
   ],
   "source": [
    "dna = {\n",
    "key: [val, (\"T\" if val == \"A\" else \"A\" if val == \"T\" else \"C\" if val == \"G\" else \"G\")] \n",
    "for (key, val) in enumerate(strand1) }\n",
    "print(dna)"
   ]
  },
  {
   "cell_type": "code",
   "execution_count": 68,
   "metadata": {},
   "outputs": [],
   "source": [
    "keys = [\"id\", \"username\", \"password\"]\n",
    "users = [\"mariyasha888\", \"KnotABot\", \"SpongiBOB\", \"Bicher\"]"
   ]
  },
  {
   "cell_type": "code",
   "execution_count": 69,
   "metadata": {},
   "outputs": [
    {
     "data": {
      "text/plain": [
       "[{'id': 0, 'username': 'mariyasha888', 'password': ';KPl.>RN'},\n",
       " {'id': 1, 'username': 'KnotABot', 'password': 'Et1]ikXb'},\n",
       " {'id': 2, 'username': 'SpongiBOB', 'password': '+Q5u<z)S'},\n",
       " {'id': 3, 'username': 'Bicher', 'password': 'P;%P8ZXz'}]"
      ]
     },
     "execution_count": 69,
     "metadata": {},
     "output_type": "execute_result"
    }
   ],
   "source": [
    "import string\n",
    "#TODO rivedere\n",
    "[\n",
    "    {key:(i if key == \"id\" \n",
    "    else users[i] if key == \"username\" \n",
    "    else \"\".join(random.choices(string.printable, k=8)))  for key in keys} \n",
    "    for i in range(len(users))\n",
    "    ]"
   ]
  }
 ],
 "metadata": {
  "kernelspec": {
   "display_name": "Python 3.9.12 ('base')",
   "language": "python",
   "name": "python3"
  },
  "language_info": {
   "codemirror_mode": {
    "name": "ipython",
    "version": 3
   },
   "file_extension": ".py",
   "mimetype": "text/x-python",
   "name": "python",
   "nbconvert_exporter": "python",
   "pygments_lexer": "ipython3",
   "version": "3.11.5"
  },
  "orig_nbformat": 4,
  "vscode": {
   "interpreter": {
    "hash": "7473d73b0517ab6f64aa731f2cb80c0acf19c95420055020da77d830c23b4531"
   }
  }
 },
 "nbformat": 4,
 "nbformat_minor": 2
}
