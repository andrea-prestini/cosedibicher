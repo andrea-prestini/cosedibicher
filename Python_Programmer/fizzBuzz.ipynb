{
 "metadata": {
  "language_info": {
   "codemirror_mode": {
    "name": "ipython",
    "version": 3
   },
   "file_extension": ".py",
   "mimetype": "text/x-python",
   "name": "python",
   "nbconvert_exporter": "python",
   "pygments_lexer": "ipython3",
   "version": "3.7.4-final"
  },
  "orig_nbformat": 2,
  "kernelspec": {
   "name": "python37464bitbaseconda9cd1c3962878454fa14d112b4a486265",
   "display_name": "Python 3.7.4 64-bit ('base': conda)"
  }
 },
 "nbformat": 4,
 "nbformat_minor": 2,
 "cells": [
  {
   "source": [
    "[python programmer](https://www.youtube.com/watch?v=jV0yhde5xY8&t=284s_)"
   ],
   "cell_type": "markdown",
   "metadata": {}
  },
  {
   "cell_type": "code",
   "execution_count": 5,
   "metadata": {
    "tags": []
   },
   "outputs": [
    {
     "output_type": "stream",
     "name": "stdout",
     "text": "1\n2\nFizz 3\n4\nBuzz 5\nFizz 6\n7\n8\nFizz 9\nBuzz 10\n11\nFizz 12\n13\n14\nFizz 15\n"
    }
   ],
   "source": [
    "for i in range(1,16):\n",
    "    if i%3 == 0:\n",
    "        print(\"Fizz\", i)\n",
    "    elif i%5 == 0:\n",
    "        print(\"Buzz\", i)\n",
    "    elif i%3 == 0 and i%5 == 0:\n",
    "        print(\"FizzBuzz\", i)\n",
    "    else:\n",
    "        print(i)"
   ]
  },
  {
   "source": [
    "Non funziona perchè prima di arrivare ad if and esegue le precedenti e, trovandone corretta almeno una, si ferma!"
   ],
   "cell_type": "markdown",
   "metadata": {}
  },
  {
   "cell_type": "code",
   "execution_count": 9,
   "metadata": {
    "tags": []
   },
   "outputs": [
    {
     "output_type": "stream",
     "name": "stdout",
     "text": "1\n2\nFizz 3\n4\nBuzz 5\nFizz 6\n7\n8\nFizz 9\nBuzz 10\n11\nFizz 12\n13\n14\nFizzBuzz 15\n"
    }
   ],
   "source": [
    "for i in range(1, 16):\n",
    "    if i%3 == 0 and i%5 == 0:\n",
    "        print(\"FizzBuzz\", i)\n",
    "    elif i%3 == 0:\n",
    "        print(\"Fizz\", i)\n",
    "    elif i%5 == 0:\n",
    "        print(\"Buzz\", i)\n",
    "    else: \n",
    "        print(i)"
   ]
  },
  {
   "cell_type": "code",
   "execution_count": 13,
   "metadata": {
    "tags": []
   },
   "outputs": [
    {
     "output_type": "stream",
     "name": "stdout",
     "text": "1\n2\nFizz\n4\nBuzz\nFizz\n7\n8\nFizz\nBuzz\n11\nFizz\n13\n14\nFizzBuzz\n"
    }
   ],
   "source": [
    "for i in range(1,16):\n",
    "    output = \"\"\n",
    "    if i%3 == 0:\n",
    "        output = \"Fizz\"\n",
    "    if i%5 == 0:\n",
    "        output += \"Buzz\"\n",
    "    print(output or i) #se la stringa è vuota stampa i"
   ]
  },
  {
   "cell_type": "code",
   "execution_count": 14,
   "metadata": {
    "tags": []
   },
   "outputs": [
    {
     "output_type": "stream",
     "name": "stdout",
     "text": "1\n2\nFizz\n4\nBuzz\nFizz\n7\n8\nFizz\nBuzz\n11\nFizz\n13\n14\nFizzBuzz\n"
    }
   ],
   "source": [
    "for i in range(1,16):\n",
    "    output = \"Fizz\" if i%3 == 0 else \"\"\n",
    "    output += \"Buzz\" if i%5 == 0 else \"\"\n",
    "\n",
    "    print(i) if output == \"\" else print(output)"
   ]
  },
  {
   "cell_type": "code",
   "execution_count": 16,
   "metadata": {
    "tags": []
   },
   "outputs": [
    {
     "output_type": "stream",
     "name": "stdout",
     "text": "1\n2\nFizz\n4\nBuzz\nFizz\n7\n8\nFizz\nBuzz\n11\nFizz\n13\n14\nFizzBuzz\n"
    }
   ],
   "source": [
    "for i in range(1,16):\n",
    "    print(\"Fizz\" * (i%3<1)+(i%5<1)*\"Buzz\" or i)"
   ]
  },
  {
   "cell_type": "code",
   "execution_count": null,
   "metadata": {},
   "outputs": [],
   "source": []
  }
 ]
}