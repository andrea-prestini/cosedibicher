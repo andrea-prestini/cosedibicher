{
 "cells": [
  {
   "cell_type": "markdown",
   "id": "0076da37-66b2-4eba-8f9a-de40f644b82c",
   "metadata": {},
   "source": [
    "# Iterazione Dizionari annidati"
   ]
  },
  {
   "cell_type": "code",
   "execution_count": 7,
   "id": "3e527835-ecea-4f9d-a114-1d578029e4ee",
   "metadata": {},
   "outputs": [],
   "source": [
    "import time                                                                     \n",
    "                                                                                     \n",
    "                                                                                     \n",
    "persona = {                                                                     \n",
    "            \"operatore1\": {\"nome\": \"andrea\", \"cognome\": \"prestini\"},                \n",
    "            \"operatore2\": {\"nome\": \"filippo\", \"cognome\": \"braccagnini\"},            \n",
    "            \"operatore3\": {\"nome\": \"aldo\", \"cognome\": \"tanzini\"},                   \n",
    "            \"amministrazione\": {\"nome\": \"eleonora\", \"cognome\": \"favagrossa\"},       \n",
    "            \"titolare\": {\"nome\": \"roberto\", \"cognome\": \"tanzini\"}                   \n",
    "            }                                                                       "
   ]
  },
  {
   "cell_type": "code",
   "execution_count": 8,
   "id": "3cdfe81a-9afe-446d-ac61-cd8e66cc37a7",
   "metadata": {},
   "outputs": [
    {
     "name": "stdout",
     "output_type": "stream",
     "text": [
      "----------------------------------------\n",
      "titolo: OPERATORE1\n",
      "Nome: Andrea\n",
      "Cognome: Prestini\n",
      "----------------------------------------\n",
      "titolo: OPERATORE2\n",
      "Nome: Filippo\n",
      "Cognome: Braccagnini\n",
      "----------------------------------------\n",
      "titolo: OPERATORE3\n",
      "Nome: Aldo\n",
      "Cognome: Tanzini\n",
      "----------------------------------------\n",
      "titolo: AMMINISTRAZIONE\n",
      "Nome: Eleonora\n",
      "Cognome: Favagrossa\n",
      "----------------------------------------\n",
      "titolo: TITOLARE\n",
      "Nome: Roberto\n",
      "Cognome: Tanzini\n"
     ]
    }
   ],
   "source": [
    "                                                                            \n",
    "for k,v in persona.items():                                                     \n",
    "    print(\"-\" * 40)                                                             \n",
    "    print(\"titolo:\", k.upper())                                                 \n",
    "    for k, v in persona[k].items():                                             \n",
    "           print(\"{}: {}\".format(k.capitalize(),v.capitalize()))                   \n",
    "           time.sleep(1)                                                           \n"
   ]
  }
 ],
 "metadata": {
  "kernelspec": {
   "display_name": "Python 3 (ipykernel)",
   "language": "python",
   "name": "python3"
  },
  "language_info": {
   "codemirror_mode": {
    "name": "ipython",
    "version": 3
   },
   "file_extension": ".py",
   "mimetype": "text/x-python",
   "name": "python",
   "nbconvert_exporter": "python",
   "pygments_lexer": "ipython3",
   "version": "3.8.13"
  },
  "widgets": {
   "application/vnd.jupyter.widget-state+json": {
    "state": {},
    "version_major": 2,
    "version_minor": 0
   }
  }
 },
 "nbformat": 4,
 "nbformat_minor": 5
}
