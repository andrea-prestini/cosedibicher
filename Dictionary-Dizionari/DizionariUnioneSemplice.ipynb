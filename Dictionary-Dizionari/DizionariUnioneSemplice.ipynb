{
 "cells": [
  {
   "cell_type": "markdown",
   "id": "2659bb6d-8b7e-47d8-88b4-afd1191e18b5",
   "metadata": {},
   "source": [
    "# Unire 2 dizionari in modo semplice..."
   ]
  },
  {
   "cell_type": "code",
   "execution_count": 2,
   "id": "18dce0e0-3fbb-48e0-8572-3102b920f7ac",
   "metadata": {},
   "outputs": [],
   "source": [
    "d_nomi = {\"nome\": \"andrea\", \"cognome\": \"prestini\"}\n",
    "d_indirizzo = {\"paese\": \"Esine\", \"zona\": \"Valle Camonica\"}"
   ]
  },
  {
   "cell_type": "code",
   "execution_count": 3,
   "id": "a93fac00-c328-4959-8942-6e0096f7e70d",
   "metadata": {},
   "outputs": [],
   "source": [
    "persona = {**d_nomi, **d_indirizzo}"
   ]
  },
  {
   "cell_type": "code",
   "execution_count": 4,
   "id": "d562d4a8-eb3d-4deb-ab76-cbf73471bbee",
   "metadata": {},
   "outputs": [
    {
     "name": "stdout",
     "output_type": "stream",
     "text": [
      "{'nome': 'andrea', 'cognome': 'prestini', 'paese': 'Esine', 'zona': 'Valle Camonica'}\n"
     ]
    }
   ],
   "source": [
    "print(persona)"
   ]
  }
 ],
 "metadata": {
  "kernelspec": {
   "display_name": "Python 3 (ipykernel)",
   "language": "python",
   "name": "python3"
  },
  "language_info": {
   "codemirror_mode": {
    "name": "ipython",
    "version": 3
   },
   "file_extension": ".py",
   "mimetype": "text/x-python",
   "name": "python",
   "nbconvert_exporter": "python",
   "pygments_lexer": "ipython3",
   "version": "3.8.13"
  },
  "widgets": {
   "application/vnd.jupyter.widget-state+json": {
    "state": {},
    "version_major": 2,
    "version_minor": 0
   }
  }
 },
 "nbformat": 4,
 "nbformat_minor": 5
}
