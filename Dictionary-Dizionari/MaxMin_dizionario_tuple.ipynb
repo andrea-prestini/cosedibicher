{
 "cells": [
  {
   "cell_type": "markdown",
   "metadata": {},
   "source": [
    "## Compitino statistiche sui giochi scelti..."
   ]
  },
  {
   "cell_type": "markdown",
   "metadata": {},
   "source": [
    "> Vogliamo sapere qual'è il gioco preferito dai nostri utenti, anche se non univoco ce ne basta uno!"
   ]
  },
  {
   "cell_type": "markdown",
   "metadata": {},
   "source": [
    "1. Cerchiamo di risolvere il problema senza la programmazione\n",
    "2. costruiamo un algoritmo logico mentale che ci porti alla soluzione\n",
    "3. traduciamo il nostro algoritmo in codice secono la sintasis del linguaggio che stiamo utilizzando"
   ]
  },
  {
   "cell_type": "code",
   "execution_count": 36,
   "metadata": {},
   "outputs": [],
   "source": [
    "u1 =  {\n",
    "    \"nickname\": \"enkk\",\n",
    "    \"gender\": \"F\",\n",
    "    \"games\": [\"blackjack\", \"slots\"]\n",
    "    }\n",
    "\n",
    "u2 =  {\n",
    "    \"nickname\": \"Shin\",\n",
    "    \"gender\": \"F\",\n",
    "    \"games\": [\"blackjack\", \"roulette\"]\n",
    "    }\n",
    "\n",
    "u3 = {\n",
    "    \"nickname\": \"Giulia\",\n",
    "    \"gender\": \"F\",\n",
    "    \"games\": [\"blackjack\", \"crazy time\"]\n",
    "    }\n",
    "\n",
    "users =   [u1, u2, u3]"
   ]
  },
  {
   "cell_type": "markdown",
   "metadata": {},
   "source": [
    "> Creare una struttura dati che contenga il numero di preferenze associato al gioco"
   ]
  },
  {
   "cell_type": "code",
   "execution_count": 41,
   "metadata": {},
   "outputs": [],
   "source": [
    "games_pref = {}\n",
    "for user in users:\n",
    "    for game in user[\"games\"]:\n",
    "        if game in games_pref: # default cerca nelle keys\n",
    "            games_pref[game] += 1\n",
    "        else:\n",
    "            games_pref[game] = 1\n",
    "\n"
   ]
  },
  {
   "cell_type": "code",
   "execution_count": 103,
   "metadata": {},
   "outputs": [
    {
     "name": "stdout",
     "output_type": "stream",
     "text": [
      "{'blackjack': 3, 'slots': 1, 'roulette': 1, 'crazy time': 1}\n"
     ]
    }
   ],
   "source": [
    "print(games_pref)"
   ]
  },
  {
   "cell_type": "markdown",
   "metadata": {},
   "source": [
    "## MAX valore in DIZIONARIO"
   ]
  },
  {
   "cell_type": "code",
   "execution_count": 53,
   "metadata": {},
   "outputs": [
    {
     "name": "stdout",
     "output_type": "stream",
     "text": [
      "\n",
      "Il gioco più richiesto è blackjack\n",
      "Numero richieste: 3\n",
      "\n"
     ]
    }
   ],
   "source": [
    "print(f'''\n",
    "Il gioco più richiesto è {max(games_pref, key=games_pref.get)}\n",
    "Numero richieste: {games_pref[max(games_pref, key=games_pref.get)]}\n",
    "''')"
   ]
  },
  {
   "cell_type": "markdown",
   "metadata": {},
   "source": [
    "## MAX valore in lista di TUPLE"
   ]
  },
  {
   "cell_type": "code",
   "execution_count": 65,
   "metadata": {},
   "outputs": [],
   "source": [
    "best_game = (max(zip(games_pref.values(), games_pref.keys())))"
   ]
  },
  {
   "cell_type": "code",
   "execution_count": 67,
   "metadata": {},
   "outputs": [
    {
     "name": "stdout",
     "output_type": "stream",
     "text": [
      "\n",
      "Il gioco più richiesto è blackjack\n",
      "Numero richieste: 3\n",
      "\n"
     ]
    }
   ],
   "source": [
    "print(f'''\n",
    "Il gioco più richiesto è {best_game[1]}\n",
    "Numero richieste: {best_game[0]}\n",
    "''')\n"
   ]
  },
  {
   "cell_type": "code",
   "execution_count": 100,
   "metadata": {},
   "outputs": [],
   "source": [
    "tupla1 = (1, \"andrea\", 1000, \"esine\")\n",
    "tupla2 = (12, \"eleonora\", 9, \"breno\") \n",
    "tupla3 = (11, \"roberto\", 100000, \"breno\")\n",
    "\n",
    "my_tuples = [tupla1, tupla2, tupla3]"
   ]
  },
  {
   "cell_type": "code",
   "execution_count": 101,
   "metadata": {},
   "outputs": [
    {
     "data": {
      "text/plain": [
       "(12, 'eleonora', 9, 'breno')"
      ]
     },
     "execution_count": 101,
     "metadata": {},
     "output_type": "execute_result"
    }
   ],
   "source": [
    "max(my_tuples)"
   ]
  },
  {
   "cell_type": "code",
   "execution_count": 102,
   "metadata": {},
   "outputs": [
    {
     "data": {
      "text/plain": [
       "(11, 'roberto', 100000, 'breno')"
      ]
     },
     "execution_count": 102,
     "metadata": {},
     "output_type": "execute_result"
    }
   ],
   "source": [
    "max(my_tuples, key=lambda item:item[2])"
   ]
  },
  {
   "cell_type": "code",
   "execution_count": 141,
   "metadata": {},
   "outputs": [
    {
     "data": {
      "text/plain": [
       "{'uno': 10, 'due': 10, 'tre': 10}"
      ]
     },
     "execution_count": 141,
     "metadata": {},
     "output_type": "execute_result"
    }
   ],
   "source": [
    "dic1 = {\"uno\": 10}\n",
    "dic2 = {\"due\": 10}\n",
    "dic3 = {\"tre\": 10}\n",
    "dic4 = {\"quattro\": 10}\n",
    "dic5 = {\"cinque\": 10}\n",
    "\n",
    "dizionario = {**dic1, **dic2, **dic3}\n",
    "dizionario"
   ]
  },
  {
   "cell_type": "code",
   "execution_count": 142,
   "metadata": {},
   "outputs": [
    {
     "data": {
      "text/plain": [
       "{'uno': 10, 'cinque': 10}"
      ]
     },
     "execution_count": 142,
     "metadata": {},
     "output_type": "execute_result"
    }
   ],
   "source": [
    "andrea = dic1 | dic5\n",
    "andrea"
   ]
  },
  {
   "cell_type": "code",
   "execution_count": 146,
   "metadata": {},
   "outputs": [],
   "source": [
    "andrea.update(chiave1=100, chiave2= 1000)"
   ]
  },
  {
   "cell_type": "code",
   "execution_count": 147,
   "metadata": {},
   "outputs": [
    {
     "data": {
      "text/plain": [
       "{'uno': 10, 'cinque': 10, 'chiave1': 100, 'chiave2': 1000}"
      ]
     },
     "execution_count": 147,
     "metadata": {},
     "output_type": "execute_result"
    }
   ],
   "source": [
    "andrea"
   ]
  }
 ],
 "metadata": {
  "kernelspec": {
   "display_name": "Python 3.9.12 ('base')",
   "language": "python",
   "name": "python3"
  },
  "language_info": {
   "codemirror_mode": {
    "name": "ipython",
    "version": 3
   },
   "file_extension": ".py",
   "mimetype": "text/x-python",
   "name": "python",
   "nbconvert_exporter": "python",
   "pygments_lexer": "ipython3",
   "version": "3.9.12"
  },
  "orig_nbformat": 4,
  "vscode": {
   "interpreter": {
    "hash": "7473d73b0517ab6f64aa731f2cb80c0acf19c95420055020da77d830c23b4531"
   }
  }
 },
 "nbformat": 4,
 "nbformat_minor": 2
}
