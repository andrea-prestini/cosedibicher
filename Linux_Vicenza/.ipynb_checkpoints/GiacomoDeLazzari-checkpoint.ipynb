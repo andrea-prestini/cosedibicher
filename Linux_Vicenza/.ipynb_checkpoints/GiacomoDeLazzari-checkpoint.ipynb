{
 "cells": [
  {
   "cell_type": "markdown",
   "metadata": {},
   "source": [
    "## LISTE\n",
    "Collezioni ordinate di elementi"
   ]
  },
  {
   "cell_type": "code",
   "execution_count": 108,
   "metadata": {},
   "outputs": [],
   "source": [
    "laMiaLista = [1,2, 3, 4]"
   ]
  },
  {
   "cell_type": "markdown",
   "metadata": {},
   "source": [
    "La lista può essere $\\color{red}{flessibile}$ ma all'inizio è meglio evitare questo percorso. Significa che può contenere oggetti diversi!"
   ]
  },
  {
   "cell_type": "code",
   "execution_count": 109,
   "metadata": {},
   "outputs": [],
   "source": [
    "l = [ \n",
    "    \"primo\",\n",
    "    \"secondo\",\n",
    "    \"terzo\",\n",
    "    \"quarto\",\n",
    "]"
   ]
  },
  {
   "cell_type": "code",
   "execution_count": 110,
   "metadata": {},
   "outputs": [
    {
     "name": "stdout",
     "output_type": "stream",
     "text": [
      "['primo', 'secondo', 'terzo', 'quarto']\n"
     ]
    }
   ],
   "source": [
    "print(l) # posso lasciare la virgola ultimo elemento per futuri ampliamenti"
   ]
  },
  {
   "cell_type": "code",
   "execution_count": 111,
   "metadata": {},
   "outputs": [],
   "source": [
    "l1 = [\n",
    "    1,\n",
    "    [\"andrea\", \"mario\", \"anna\"],\n",
    "    \"paese\",\n",
    "    13,\n",
    "] # nesting lista contenente liste"
   ]
  },
  {
   "cell_type": "code",
   "execution_count": 112,
   "metadata": {},
   "outputs": [
    {
     "name": "stdout",
     "output_type": "stream",
     "text": [
      "[1, ['andrea', 'mario', 'anna'], 'paese', 13]\n"
     ]
    }
   ],
   "source": [
    "print(l1)"
   ]
  },
  {
   "cell_type": "code",
   "execution_count": 113,
   "metadata": {},
   "outputs": [
    {
     "name": "stdout",
     "output_type": "stream",
     "text": [
      "['primo', 'secondo', 'terzo', 'quarto', 'andrea', 'andrea']\n"
     ]
    }
   ],
   "source": [
    "l.append(\"andrea\")\n",
    "l.append(\"andrea\")\n",
    "print(l)"
   ]
  },
  {
   "cell_type": "code",
   "execution_count": 114,
   "metadata": {},
   "outputs": [
    {
     "data": {
      "text/plain": [
       "4"
      ]
     },
     "execution_count": 114,
     "metadata": {},
     "output_type": "execute_result"
    }
   ],
   "source": [
    "l.index(\"andrea\") # trova la prima occorrenza\n"
   ]
  },
  {
   "cell_type": "code",
   "execution_count": 115,
   "metadata": {},
   "outputs": [
    {
     "ename": "ValueError",
     "evalue": "'andrea' is not in list",
     "output_type": "error",
     "traceback": [
      "\u001b[0;31m---------------------------------------------------------------------------\u001b[0m",
      "\u001b[0;31mValueError\u001b[0m                                Traceback (most recent call last)",
      "\u001b[0;32m<ipython-input-115-9ce0f77c0d60>\u001b[0m in \u001b[0;36m<module>\u001b[0;34m\u001b[0m\n\u001b[0;32m----> 1\u001b[0;31m \u001b[0ml\u001b[0m\u001b[0;34m.\u001b[0m\u001b[0mindex\u001b[0m\u001b[0;34m(\u001b[0m\u001b[0;34m\"andrea\"\u001b[0m\u001b[0;34m,\u001b[0m \u001b[0;36m0\u001b[0m\u001b[0;34m,\u001b[0m \u001b[0;36m3\u001b[0m\u001b[0;34m)\u001b[0m\u001b[0;34m\u001b[0m\u001b[0;34m\u001b[0m\u001b[0m\n\u001b[0m",
      "\u001b[0;31mValueError\u001b[0m: 'andrea' is not in list"
     ]
    }
   ],
   "source": [
    "l.index(\"andrea\", 0, 3)"
   ]
  },
  {
   "cell_type": "code",
   "execution_count": 0,
   "metadata": {},
   "outputs": [],
   "source": [
    "# l.clear() svuota la lista"
   ]
  },
  {
   "cell_type": "code",
   "execution_count": 0,
   "metadata": {},
   "outputs": [],
   "source": [
    "print(sorted(l))\n",
    "print(l)\n",
    "print(sorted(l1)) #attenzione, solo elementi stesso tipo"
   ]
  },
  {
   "cell_type": "code",
   "execution_count": 0,
   "metadata": {},
   "outputs": [],
   "source": [
    "# l.sort() modifica ordinandola la lista, negli altri casi NON viene modificata!"
   ]
  },
  {
   "cell_type": "markdown",
   "metadata": {},
   "source": [
    "## Slicing\n",
    "Ci permette di affettare una collezione di dati ordinate! Anche nelle stringhe!"
   ]
  },
  {
   "cell_type": "code",
   "execution_count": 0,
   "metadata": {},
   "outputs": [],
   "source": [
    "lista = [1, 2, 3, 4, 5, 6, 7]"
   ]
  },
  {
   "cell_type": "code",
   "execution_count": 0,
   "metadata": {},
   "outputs": [],
   "source": [
    "print(lista[4:6])\n",
    "print(lista[4:])\n",
    "print(lista[:5])"
   ]
  },
  {
   "cell_type": "code",
   "execution_count": 0,
   "metadata": {},
   "outputs": [],
   "source": [
    "\"ciao\"[:3] # su di una stringa!"
   ]
  },
  {
   "cell_type": "markdown",
   "metadata": {},
   "source": [
    "# Dizionari\n",
    "Struttura di dati caratterizzata da una coppia Chiave - Valore.\n",
    "Attenzione: il dizionario non è una collezione ordinata, non posso eseguire lo slicing..."
   ]
  },
  {
   "cell_type": "code",
   "execution_count": 0,
   "metadata": {},
   "outputs": [],
   "source": [
    "persona = {\n",
    "    \"nome\": \"andrea\",\n",
    "    \"cognome\": \"prestini\",\n",
    "    \"eta\": 49,\n",
    "} # anche in questo caso possiamo lasciare una virgola sull'ultimo elemento"
   ]
  },
  {
   "cell_type": "code",
   "execution_count": 0,
   "metadata": {},
   "outputs": [],
   "source": [
    "print(persona)"
   ]
  },
  {
   "cell_type": "code",
   "execution_count": 0,
   "metadata": {},
   "outputs": [],
   "source": [
    "print(persona[\"nome\"])\n",
    "print(persona[\"cognome\"])"
   ]
  },
  {
   "cell_type": "code",
   "execution_count": 0,
   "metadata": {},
   "outputs": [],
   "source": [
    "persona[\"paese\"] = \"Esine\"\n",
    "print(persona)"
   ]
  },
  {
   "cell_type": "code",
   "execution_count": 0,
   "metadata": {},
   "outputs": [],
   "source": [
    "persona.keys()"
   ]
  },
  {
   "cell_type": "code",
   "execution_count": 0,
   "metadata": {},
   "outputs": [],
   "source": [
    "persona.values()"
   ]
  },
  {
   "cell_type": "code",
   "execution_count": 0,
   "metadata": {},
   "outputs": [],
   "source": [
    "persona.items()"
   ]
  },
  {
   "cell_type": "code",
   "execution_count": 0,
   "metadata": {},
   "outputs": [],
   "source": [
    "for k in persona.keys():\n",
    "    print(f\"il valore chiave {k.upper()}--> contiene {persona[k]}\")"
   ]
  },
  {
   "cell_type": "code",
   "execution_count": 0,
   "metadata": {},
   "outputs": [],
   "source": [
    "persona[\"abitazione\"] = {\n",
    "    \"via\": \"Bicher\",\n",
    "    \"civico\": \"3A\",\n",
    "    \"paese\": \"Esine\",\n",
    "}"
   ]
  },
  {
   "cell_type": "code",
   "execution_count": 0,
   "metadata": {},
   "outputs": [],
   "source": [
    "print(persona)"
   ]
  },
  {
   "cell_type": "code",
   "execution_count": 0,
   "metadata": {},
   "outputs": [],
   "source": [
    "print(persona[\"abitazione\"][\"paese\"])"
   ]
  },
  {
   "cell_type": "markdown",
   "metadata": {},
   "source": [
    "# Tuple\n",
    "Non si usano spessissimo, sono liste ma sono $\\color{green}{IMMUTABILI}$. Cosa cambia da una lista? Sono molto più veloci delle liste proprio perchè immutabili. NB una tupla con un solo elemento deve avere la virgola FINALE."
   ]
  },
  {
   "cell_type": "code",
   "execution_count": 0,
   "metadata": {},
   "outputs": [],
   "source": [
    "miaTupla = (\"andrea\", 3, [1,2,3])"
   ]
  },
  {
   "cell_type": "code",
   "execution_count": 0,
   "metadata": {},
   "outputs": [],
   "source": [
    "print(miaTupla)"
   ]
  },
  {
   "cell_type": "code",
   "execution_count": 0,
   "metadata": {},
   "outputs": [],
   "source": [
    "miaTuplaSingola = (\"mario\",)\n",
    "mia = (\"mario\")\n",
    "print(type(miaTuplaSingola))\n",
    "print(type(mia))"
   ]
  },
  {
   "cell_type": "markdown",
   "metadata": {},
   "source": [
    "Quando utilizzare una Tupla? Un caso pratico potrebbe essere avere una funzione che ritorna più elementi, per evitare che sia modificato questo valore lo inserisco in una tupla, immutabile! Possiamo usarle come CHIAVE di un dizionario!"
   ]
  },
  {
   "cell_type": "code",
   "execution_count": 154,
   "metadata": {},
   "outputs": [],
   "source": [
    "prova = {(1,2,3): \"andrea\", (12, 34, 45): \"mario\"} # esempio coordinate x,y,z"
   ]
  },
  {
   "cell_type": "code",
   "execution_count": 152,
   "metadata": {},
   "outputs": [
    {
     "data": {
      "text/plain": [
       "'andrea'"
      ]
     },
     "execution_count": 152,
     "metadata": {},
     "output_type": "execute_result"
    }
   ],
   "source": [
    "prova[(1,2,3)]"
   ]
  },
  {
   "cell_type": "code",
   "execution_count": 153,
   "metadata": {},
   "outputs": [],
   "source": [
    "scatolone = ((1),)"
   ]
  },
  {
   "cell_type": "code",
   "execution_count": 0,
   "metadata": {},
   "outputs": [],
   "source": [
    "for i in range(2,10):\n",
    "    scatolone = scatolone + ((i),)"
   ]
  },
  {
   "cell_type": "code",
   "execution_count": 143,
   "metadata": {},
   "outputs": [
    {
     "name": "stdout",
     "output_type": "stream",
     "text": [
      "(1, 2, 3, 4, 5, 6, 7, 8, 9)\n"
     ]
    }
   ],
   "source": [
    "print(scatolone)"
   ]
  },
  {
   "cell_type": "code",
   "execution_count": null,
   "metadata": {},
   "outputs": [],
   "source": []
  },
  {
   "cell_type": "markdown",
   "metadata": {},
   "source": [
    "oppure"
   ]
  },
  {
   "cell_type": "code",
   "execution_count": 150,
   "metadata": {},
   "outputs": [],
   "source": [
    "a = []\n",
    "for i in l[:-1]:\n",
    "    a.append(i)\n",
    "a = tuple(a)"
   ]
  },
  {
   "cell_type": "code",
   "execution_count": 151,
   "metadata": {},
   "outputs": [
    {
     "name": "stdout",
     "output_type": "stream",
     "text": [
      "('primo', 'secondo', 'terzo', 'quarto', 'andrea')\n"
     ]
    }
   ],
   "source": [
    "print(a)"
   ]
  },
  {
   "cell_type": "markdown",
   "metadata": {},
   "source": [
    "# Moduli"
   ]
  },
  {
   "cell_type": "markdown",
   "metadata": {},
   "source": [
    "Vedere files del TrovaNumero..."
   ]
  },
  {
   "cell_type": "markdown",
   "metadata": {},
   "source": [
    "# Le Eccezzioni"
   ]
  },
  {
   "cell_type": "code",
   "execution_count": 1,
   "metadata": {},
   "outputs": [
    {
     "ename": "ValueError",
     "evalue": "invalid literal for int() with base 10: 'ciao'",
     "output_type": "error",
     "traceback": [
      "\u001b[0;31m---------------------------------------------------------------------------\u001b[0m",
      "\u001b[0;31mValueError\u001b[0m                                Traceback (most recent call last)",
      "\u001b[0;32m<ipython-input-1-b06127052f02>\u001b[0m in \u001b[0;36m<module>\u001b[0;34m\u001b[0m\n\u001b[0;32m----> 1\u001b[0;31m \u001b[0mnumero\u001b[0m \u001b[0;34m=\u001b[0m \u001b[0mint\u001b[0m\u001b[0;34m(\u001b[0m\u001b[0;34m\"ciao\"\u001b[0m\u001b[0;34m)\u001b[0m\u001b[0;34m\u001b[0m\u001b[0;34m\u001b[0m\u001b[0m\n\u001b[0m",
      "\u001b[0;31mValueError\u001b[0m: invalid literal for int() with base 10: 'ciao'"
     ]
    }
   ],
   "source": [
    "numero = int(\"ciao\")"
   ]
  },
  {
   "cell_type": "code",
   "execution_count": 12,
   "metadata": {},
   "outputs": [
    {
     "name": "stdout",
     "output_type": "stream",
     "text": [
      "errore di sistema\n",
      "invalid literal for int() with base 10: 'ciao'\n"
     ]
    }
   ],
   "source": [
    "try:\n",
    "    numero = int(\"ciao\")\n",
    "except Exception as error: # se non specifico il tipo di errore lo applico a tutte le eccezioni\n",
    "    print(\"errore di sistema\")\n",
    "    print(error)"
   ]
  },
  {
   "cell_type": "markdown",
   "metadata": {},
   "source": [
    "Le eccezioni sono degli $\\color{red}{oggetti}$ Exception contiene tutte le eccezioni, poi, ad esempio\n",
    "abbiamo ValueError che è figlio di Exception!\n",
    "In questo caso abbiamo assegnato alla variabile *error* l'oggetto errore e poi lo abbiamo printato per avere informazioni di debugging."
   ]
  },
  {
   "cell_type": "markdown",
   "metadata": {},
   "source": [
    "~~~\n",
    "raise miaEccezione(\"non devi inserire questo valore\") \n",
    "~~~"
   ]
  },
  {
   "cell_type": "code",
   "execution_count": 12,
   "metadata": {},
   "outputs": [
    {
     "name": "stdout",
     "output_type": "stream",
     "text": [
      "inserisci un numero\n",
      "8\n"
     ]
    },
    {
     "ename": "Exception",
     "evalue": "Numero troppo alto",
     "output_type": "error",
     "traceback": [
      "\u001b[0;31m---------------------------------------------------------------------------\u001b[0m",
      "\u001b[0;31mException\u001b[0m                                 Traceback (most recent call last)",
      "\u001b[0;32m<ipython-input-12-3c15a3e55e87>\u001b[0m in \u001b[0;36m<module>\u001b[0;34m\u001b[0m\n\u001b[1;32m      1\u001b[0m \u001b[0mnumero\u001b[0m \u001b[0;34m=\u001b[0m \u001b[0mint\u001b[0m\u001b[0;34m(\u001b[0m\u001b[0minput\u001b[0m\u001b[0;34m(\u001b[0m\u001b[0;34m\"inserisci un numero\\n\"\u001b[0m\u001b[0;34m)\u001b[0m\u001b[0;34m)\u001b[0m\u001b[0;34m\u001b[0m\u001b[0;34m\u001b[0m\u001b[0m\n\u001b[1;32m      2\u001b[0m \u001b[0;32mif\u001b[0m \u001b[0mnumero\u001b[0m \u001b[0;34m>=\u001b[0m \u001b[0;36m5\u001b[0m\u001b[0;34m:\u001b[0m\u001b[0;34m\u001b[0m\u001b[0;34m\u001b[0m\u001b[0m\n\u001b[0;32m----> 3\u001b[0;31m     \u001b[0;32mraise\u001b[0m \u001b[0mException\u001b[0m\u001b[0;34m(\u001b[0m\u001b[0;34m\"Numero troppo alto\"\u001b[0m\u001b[0;34m)\u001b[0m\u001b[0;34m\u001b[0m\u001b[0;34m\u001b[0m\u001b[0m\n\u001b[0m\u001b[1;32m      4\u001b[0m \u001b[0;32melse\u001b[0m\u001b[0;34m:\u001b[0m\u001b[0;34m\u001b[0m\u001b[0;34m\u001b[0m\u001b[0m\n\u001b[1;32m      5\u001b[0m     \u001b[0mprint\u001b[0m\u001b[0;34m(\u001b[0m\u001b[0;34m\"bravo, hai trovato l'intervallo richiesto\"\u001b[0m\u001b[0;34m)\u001b[0m\u001b[0;34m\u001b[0m\u001b[0;34m\u001b[0m\u001b[0m\n",
      "\u001b[0;31mException\u001b[0m: Numero troppo alto"
     ]
    }
   ],
   "source": [
    "numero = int(input(\"inserisci un numero\\n\"))\n",
    "if numero >= 5:\n",
    "    raise Exception(\"Numero troppo alto\")\n",
    "else:\n",
    "    print(\"bravo, hai trovato l'intervallo richiesto\")"
   ]
  },
  {
   "cell_type": "code",
   "execution_count": 13,
   "metadata": {},
   "outputs": [
    {
     "name": "stdout",
     "output_type": "stream",
     "text": [
      "inserisci un numero\n",
      "9\n"
     ]
    },
    {
     "ename": "andreaError",
     "evalue": "biricchino",
     "output_type": "error",
     "traceback": [
      "\u001b[0;31m---------------------------------------------------------------------------\u001b[0m",
      "\u001b[0;31mandreaError\u001b[0m                               Traceback (most recent call last)",
      "\u001b[0;32m<ipython-input-13-3f18715d2808>\u001b[0m in \u001b[0;36m<module>\u001b[0;34m\u001b[0m\n\u001b[1;32m      5\u001b[0m \u001b[0mnumero\u001b[0m \u001b[0;34m=\u001b[0m \u001b[0mint\u001b[0m\u001b[0;34m(\u001b[0m\u001b[0minput\u001b[0m\u001b[0;34m(\u001b[0m\u001b[0;34m\"inserisci un numero\\n\"\u001b[0m\u001b[0;34m)\u001b[0m\u001b[0;34m)\u001b[0m\u001b[0;34m\u001b[0m\u001b[0;34m\u001b[0m\u001b[0m\n\u001b[1;32m      6\u001b[0m \u001b[0;32mif\u001b[0m \u001b[0mnumero\u001b[0m \u001b[0;34m>=\u001b[0m \u001b[0;36m5\u001b[0m\u001b[0;34m:\u001b[0m\u001b[0;34m\u001b[0m\u001b[0;34m\u001b[0m\u001b[0m\n\u001b[0;32m----> 7\u001b[0;31m     \u001b[0;32mraise\u001b[0m \u001b[0mandreaError\u001b[0m\u001b[0;34m(\u001b[0m\u001b[0;34m\"biricchino\"\u001b[0m\u001b[0;34m)\u001b[0m\u001b[0;34m\u001b[0m\u001b[0;34m\u001b[0m\u001b[0m\n\u001b[0m\u001b[1;32m      8\u001b[0m \u001b[0;32melse\u001b[0m\u001b[0;34m:\u001b[0m\u001b[0;34m\u001b[0m\u001b[0;34m\u001b[0m\u001b[0m\n\u001b[1;32m      9\u001b[0m     \u001b[0mprint\u001b[0m\u001b[0;34m(\u001b[0m\u001b[0;34m\"bravo, hai trovato l'intervallo richiesto\"\u001b[0m\u001b[0;34m)\u001b[0m\u001b[0;34m\u001b[0m\u001b[0;34m\u001b[0m\u001b[0m\n",
      "\u001b[0;31mandreaError\u001b[0m: biricchino"
     ]
    }
   ],
   "source": [
    "class andreaError(Exception):\n",
    "    pass\n",
    "\n",
    "\n",
    "numero = int(input(\"inserisci un numero\\n\"))\n",
    "if numero >= 5:\n",
    "    raise andreaError(\"biricchino\")\n",
    "else:\n",
    "    print(\"bravo, hai trovato l'intervallo richiesto\")"
   ]
  },
  {
   "cell_type": "markdown",
   "metadata": {},
   "source": [
    "# Lavoriamo con i files"
   ]
  },
  {
   "cell_type": "code",
   "execution_count": null,
   "metadata": {},
   "outputs": [],
   "source": [
    "%%writefile testo.txt\n",
    "ciao mondo"
   ]
  },
  {
   "cell_type": "code",
   "execution_count": 19,
   "metadata": {},
   "outputs": [
    {
     "name": "stdout",
     "output_type": "stream",
     "text": [
      "nome del file  testo.txt\n",
      "leggo la riga: ciao mondo\n",
      "\n",
      "posizione corrente:  11\n",
      "posizione corrente new: 12\n",
      "6\n"
     ]
    }
   ],
   "source": [
    "il_mio_file = open(\"testo.txt\", mode=\"r\") # ci ritorna un oggetto open\n",
    "print(\"nome del file \", il_mio_file.name)\n",
    "line = il_mio_file.readline()\n",
    "print(\"leggo la riga: %s\" % (line))\n",
    "pos = il_mio_file.tell()\n",
    "print(\"posizione corrente: \", pos)\n",
    "pos = il_mio_file.tell() + 1\n",
    "print(\"posizione corrente new:\", pos)\n",
    "# pos is not a line number in your file, it's a byte offset from the beginning of the file\n",
    "dove = il_mio_file.seek(6)\n",
    "print(dove)\n",
    "il_mio_file.close()"
   ]
  },
  {
   "cell_type": "code",
   "execution_count": 36,
   "metadata": {},
   "outputs": [
    {
     "name": "stdout",
     "output_type": "stream",
     "text": [
      "ciao mondo\n",
      "io sono un file di testo\n"
     ]
    }
   ],
   "source": [
    "file = open(\"testo.txt\", \"r\")\n",
    "for riga in file:\n",
    "    print(riga.strip(\"\\n\"))\n",
    "file.close()"
   ]
  },
  {
   "cell_type": "code",
   "execution_count": 38,
   "metadata": {},
   "outputs": [
    {
     "name": "stdout",
     "output_type": "stream",
     "text": [
      "ciao mondo\n",
      "io sono un file di testo\n"
     ]
    }
   ],
   "source": [
    "file = open(\"testo.txt\", \"r\")\n",
    "for riga in file:\n",
    "    print(riga[:-1])\n",
    "file.close()"
   ]
  },
  {
   "cell_type": "code",
   "execution_count": 56,
   "metadata": {},
   "outputs": [],
   "source": [
    "f = open(\"andrea.txt\", \"w\")\n",
    "f.write(\"ciao andrea\\npiacere di conoscerti\")\n",
    "f.close()"
   ]
  },
  {
   "cell_type": "code",
   "execution_count": 57,
   "metadata": {},
   "outputs": [
    {
     "name": "stdout",
     "output_type": "stream",
     "text": [
      "ciao andrea\r\n",
      "piacere di conoscerti"
     ]
    }
   ],
   "source": [
    "!cat andrea.txt"
   ]
  },
  {
   "cell_type": "code",
   "execution_count": 60,
   "metadata": {},
   "outputs": [],
   "source": [
    "f = open(\"multilinea.txt\", \"w\")\n",
    "f.writelines([\"ciao\\n\", \"amico mio\\n\", \"piacere di conoscerti\"])\n",
    "f.close() # writelines scrive come testo gli elementi di una lista"
   ]
  },
  {
   "cell_type": "code",
   "execution_count": 61,
   "metadata": {},
   "outputs": [
    {
     "name": "stdout",
     "output_type": "stream",
     "text": [
      "ciao\r\n",
      "amico mio\r\n",
      "piacere di conoscerti"
     ]
    }
   ],
   "source": [
    "!cat multilinea.txt"
   ]
  },
  {
   "cell_type": "markdown",
   "metadata": {},
   "source": [
    "Convertendo una lista o dizionario o altro oggetto in str posso scriverla così come appare!"
   ]
  },
  {
   "cell_type": "code",
   "execution_count": 67,
   "metadata": {},
   "outputs": [],
   "source": [
    "import time\n",
    "\n",
    "file = open(\"log.txt\", \"w\")\n",
    "file.write(\"[{}] l'utente ha inserito cose...\".format(time.time()))\n",
    "file.close()"
   ]
  },
  {
   "cell_type": "markdown",
   "metadata": {},
   "source": [
    "Ricordiamo che il file non viene scritto fino a quando non è chiuso; se volessimo buttare \n",
    "in scrittura il contenuto del buffer di memoria usiamo $\\color{red}{file.flush()}$.\n",
    "File.close() automaticamente lancia un flush!"
   ]
  },
  {
   "cell_type": "code",
   "execution_count": 68,
   "metadata": {},
   "outputs": [
    {
     "name": "stdout",
     "output_type": "stream",
     "text": [
      "[1578938502.619454] l'utente ha inserito cose..."
     ]
    }
   ],
   "source": [
    "!cat log.txt"
   ]
  },
  {
   "cell_type": "markdown",
   "metadata": {},
   "source": [
    "Per non dimenticarci di chiudere il file usiamo $\\color{green}{with}$. Può essere usata con\n",
    "qualsiasi cosa DEVE essere chiusa alla fine del lavoro: file, connessioni, sql, etc."
   ]
  },
  {
   "cell_type": "code",
   "execution_count": 76,
   "metadata": {},
   "outputs": [],
   "source": [
    "with open(\"log.txt\", \"a\") as log:\n",
    "    log.write(\"\\nciao\")\n"
   ]
  },
  {
   "cell_type": "code",
   "execution_count": 77,
   "metadata": {},
   "outputs": [
    {
     "name": "stdout",
     "output_type": "stream",
     "text": [
      "[1578938502.619454] l'utente ha inserito cose...\r\n",
      "\r\n",
      "ciao"
     ]
    }
   ],
   "source": [
    "!cat log.txt"
   ]
  },
  {
   "cell_type": "code",
   "execution_count": null,
   "metadata": {},
   "outputs": [],
   "source": []
  }
 ],
 "metadata": {
  "file_extension": ".py",
  "kernelspec": {
   "display_name": "Python 3.8.0 64-bit",
   "language": "python",
   "name": "python38064bitcc1bc868739a40e48395b32afb20b1d0"
  },
  "language_info": {
   "codemirror_mode": {
    "name": "ipython",
    "version": 3
   },
   "file_extension": ".py",
   "mimetype": "text/x-python",
   "name": "python",
   "nbconvert_exporter": "python",
   "pygments_lexer": "ipython3",
   "version": "3.8.0"
  },
  "mimetype": "text/x-python",
  "name": "python",
  "npconvert_exporter": "python",
  "pygments_lexer": "ipython3",
  "version": 3
 },
 "nbformat": 4,
 "nbformat_minor": 2
}
