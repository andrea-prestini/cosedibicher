{
 "nbformat": 4,
 "nbformat_minor": 2,
 "metadata": {
  "language_info": {
   "name": "python",
   "codemirror_mode": {
    "name": "ipython",
    "version": 3
   },
   "version": "3.7.4-final"
  },
  "orig_nbformat": 2,
  "file_extension": ".py",
  "mimetype": "text/x-python",
  "name": "python",
  "npconvert_exporter": "python",
  "pygments_lexer": "ipython3",
  "version": 3,
  "kernelspec": {
   "name": "python37464bitbaseconda9811642ba10b45e3b5d51f7a47229f05",
   "display_name": "Python 3.7.4 64-bit ('base': conda)"
  }
 },
 "cells": [
  {
   "cell_type": "code",
   "execution_count": 1,
   "metadata": {},
   "outputs": [],
   "source": [
    "import os"
   ]
  },
  {
   "cell_type": "code",
   "execution_count": 5,
   "metadata": {},
   "outputs": [
    {
     "data": {
      "text/plain": "['progettoGiacomoDeLazzari.ipynb']"
     },
     "execution_count": 5,
     "metadata": {},
     "output_type": "execute_result"
    }
   ],
   "source": [
    "os.listdir()"
   ]
  },
  {
   "cell_type": "code",
   "execution_count": 8,
   "metadata": {},
   "outputs": [],
   "source": [
    "file_path = [os.path.abspath(x) for x in os.listdir()]"
   ]
  },
  {
   "cell_type": "code",
   "execution_count": 9,
   "metadata": {},
   "outputs": [
    {
     "name": "stdout",
     "output_type": "stream",
     "text": "['/home/andrea/andrea.prestini@gmail.com/pythonWorld/prove Coding/Linux_Vicenza/progetto/progettoGiacomoDeLazzari.ipynb']\n"
    }
   ],
   "source": [
    "print(file_path)"
   ]
  },
  {
   "cell_type": "code",
   "execution_count": 22,
   "metadata": {},
   "outputs": [
    {
     "name": "stdout",
     "output_type": "stream",
     "text": "[('/home/andrea/andrea.prestini@gmail.com/pythonWorld/prove Coding/Linux_Vicenza/progetto', [], ['progettoGiacomoDeLazzari.ipynb'])]\n"
    }
   ],
   "source": [
    "thisdir = os.getcwd()\n",
    "print(list(os.walk(thisdir)))"
   ]
  },
  {
   "cell_type": "code",
   "execution_count": 15,
   "metadata": {},
   "outputs": [
    {
     "name": "stdout",
     "output_type": "stream",
     "text": "['GiacomoDeLazzari.ipynb', '.ipynb_checkpoints', 'GiacomoDeLazzari2.ipynb', 'settaggi.py', 'multilinea.txt', 'trovaNumero.ipynb', '__pycache__', 'progettoGiacomoDeLazzari.ipynb', 'log.txt', 'progetto', 'logica.py', 'testo.txt', 'andrea.txt']\n"
    }
   ],
   "source": [
    "percorso = os.listdir(\"..\")\n",
    "print(percorso)"
   ]
  },
  {
   "cell_type": "code",
   "execution_count": 29,
   "metadata": {},
   "outputs": [
    {
     "data": {
      "text/plain": "['GiacomoDeLazzari.ipynb',\n 'GiacomoDeLazzari2.ipynb',\n 'settaggi.py',\n 'multilinea.txt',\n 'trovaNumero.ipynb',\n 'progettoGiacomoDeLazzari.ipynb',\n 'log.txt',\n 'logica.py',\n 'testo.txt',\n 'andrea.txt']"
     },
     "execution_count": 29,
     "metadata": {},
     "output_type": "execute_result"
    }
   ],
   "source": [
    "arr = next(os.walk(\"..\"))[2]\n",
    "arr"
   ]
  },
  {
   "cell_type": "code",
   "execution_count": 43,
   "metadata": {},
   "outputs": [],
   "source": [
    "miaLista = iter((\"andrea\", \"mario\", \"anna\"))"
   ]
  },
  {
   "cell_type": "code",
   "execution_count": 44,
   "metadata": {},
   "outputs": [
    {
     "name": "stdout",
     "output_type": "stream",
     "text": "andrea\nmario\nanna\n"
    }
   ],
   "source": [
    "print(next(miaLista))\n",
    "print(next(miaLista))\n",
    "print(next(miaLista))\n",
    "\n"
   ]
  },
  {
   "cell_type": "code",
   "execution_count": 59,
   "metadata": {},
   "outputs": [],
   "source": [
    "prova = [\"primo\", \"secondo\", \"terzo\"]"
   ]
  },
  {
   "cell_type": "code",
   "execution_count": 63,
   "metadata": {},
   "outputs": [],
   "source": [
    "def iteratore():\n",
    "    for nome in prova:\n",
    "        yield nome # non è permessa in un costrutto try...finally"
   ]
  },
  {
   "cell_type": "code",
   "execution_count": 64,
   "metadata": {},
   "outputs": [
    {
     "data": {
      "text/plain": "('primo', 'secondo', 'terzo')"
     },
     "execution_count": 64,
     "metadata": {},
     "output_type": "execute_result"
    }
   ],
   "source": [
    "tuple(iteratore())"
   ]
  },
  {
   "cell_type": "code",
   "execution_count": 78,
   "metadata": {},
   "outputs": [
    {
     "name": "stdout",
     "output_type": "stream",
     "text": "True\n"
    }
   ],
   "source": [
    "\n",
    "isFile = os.path.isfile(\"../log.txt\")\n",
    "print(isFile)\n"
   ]
  },
  {
   "cell_type": "code",
   "execution_count": 84,
   "metadata": {},
   "outputs": [
    {
     "name": "stdout",
     "output_type": "stream",
     "text": "['GiacomoDeLazzari.ipynb', '.ipynb_checkpoints', 'GiacomoDeLazzari2.ipynb', 'settaggi.py', 'multilinea.txt', 'trovaNumero.ipynb', '__pycache__', 'progettoGiacomoDeLazzari.ipynb', 'log.txt', 'progetto', 'logica.py', 'testo.txt', 'andrea.txt']\n"
    }
   ],
   "source": [
    "elenco = [f.name for f in os.scandir(\"..\")]\n",
    "print(elenco)"
   ]
  },
  {
   "cell_type": "code",
   "execution_count": 87,
   "metadata": {},
   "outputs": [
    {
     "name": "stdout",
     "output_type": "stream",
     "text": "['.ipynb_checkpoints', '__pycache__', 'progetto']\n"
    }
   ],
   "source": [
    "elenco1 = [f.name for f in os.scandir(\"..\") if f.is_dir()]\n",
    "print(elenco1)"
   ]
  }
 ]
}