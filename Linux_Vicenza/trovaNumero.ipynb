{
 "cells": [
  {
   "cell_type": "code",
   "execution_count": 7,
   "metadata": {},
   "outputs": [],
   "source": [
    "import random\n",
    "import logica\n",
    "import settaggi as s\n"
   ]
  },
  {
   "cell_type": "code",
   "execution_count": 8,
   "metadata": {},
   "outputs": [],
   "source": [
    "def main():\n",
    "    numero = random.randint(s.NUMERO_MIN, s.NUMERO_MAX)\n",
    "\n",
    "    while True:\n",
    "        tentativo = int(input(\"prova! \"))\n",
    "        if logica.controllaSeIndovinato(tentativo, numero):\n",
    "            break"
   ]
  },
  {
   "cell_type": "code",
   "execution_count": 9,
   "metadata": {},
   "outputs": [
    {
     "name": "stdout",
     "output_type": "stream",
     "text": [
      "prova! 45\n",
      "troppo piccolo...\n",
      "prova! 89\n",
      "troppo grande...\n",
      "prova! 80\n",
      "troppo grande...\n",
      "prova! 78\n",
      "troppo grande...\n",
      "prova! 75\n",
      "troppo grande...\n",
      "prova! 70\n",
      "troppo grande...\n",
      "prova! 68\n",
      "troppo grande...\n",
      "prova! 65\n",
      "indovinato!\n"
     ]
    }
   ],
   "source": [
    "main()"
   ]
  },
  {
   "cell_type": "code",
   "execution_count": null,
   "metadata": {},
   "outputs": [],
   "source": []
  }
 ],
 "metadata": {
  "file_extension": ".py",
  "kernelspec": {
   "display_name": "Python 3.8.0 64-bit",
   "language": "python",
   "name": "python38064bitcc1bc868739a40e48395b32afb20b1d0"
  },
  "language_info": {
   "codemirror_mode": {
    "name": "ipython",
    "version": 3
   },
   "file_extension": ".py",
   "mimetype": "text/x-python",
   "name": "python",
   "nbconvert_exporter": "python",
   "pygments_lexer": "ipython3",
   "version": "3.8.0"
  },
  "mimetype": "text/x-python",
  "name": "python",
  "npconvert_exporter": "python",
  "pygments_lexer": "ipython3",
  "version": 3
 },
 "nbformat": 4,
 "nbformat_minor": 2
}
