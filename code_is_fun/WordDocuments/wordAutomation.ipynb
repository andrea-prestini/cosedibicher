{
 "cells": [
  {
   "cell_type": "markdown",
   "metadata": {},
   "source": [
    "## Librerie richieste\n",
    "- docxtpl\n",
    "- python-docx\n",
    "- xlwings"
   ]
  },
  {
   "cell_type": "markdown",
   "metadata": {},
   "source": [
    "```bash\n",
    "xlwings quickstart word_automation --standalone\n",
    "```\n",
    "Questo comando crea una cartella word_automation contenente 1 file python ed 1 file excel"
   ]
  }
 ],
 "metadata": {
  "language_info": {
   "name": "python"
  },
  "orig_nbformat": 4
 },
 "nbformat": 4,
 "nbformat_minor": 2
}
