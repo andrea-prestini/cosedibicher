{
 "cells": [
  {
   "cell_type": "markdown",
   "metadata": {},
   "source": [
    "# Gli oggetti in python"
   ]
  },
  {
   "cell_type": "markdown",
   "metadata": {},
   "source": [
    "Tutto è un oggetto in python. Questi oggetti hanno sempre 3 elementi:\n",
    "* identità\n",
    "* tipologia\n",
    "* valore"
   ]
  },
  {
   "cell_type": "markdown",
   "metadata": {},
   "source": [
    "## Identità\n",
    "Informazione numerica di tipo immutabile, rimane fino alla morte dell'oggetto."
   ]
  },
  {
   "cell_type": "markdown",
   "metadata": {},
   "source": [
    "## Tipologia\n",
    "Categoria che determina la natura di un oggetto; quali valori possono essere assegnati ad un oggetto, altre caratteristiche dell'oggetto. Gli oggetti che fanno parte di un certo tipo si chiamano ISTANZE di quell'oggetto."
   ]
  },
  {
   "cell_type": "markdown",
   "metadata": {},
   "source": [
    "# Valore\n",
    "Il valore è un dato o un insieme di dati mantenuto all'interno dell'oggetto, quando questi lo prevede. Un oggetto che può modificare il suo valore durante il suo ciclo di vita si dice Mutabile, diversamente si definisce Immutabile. Tale caratteristica è data dal $\\color{green}{tipo}$ di oggetto."
   ]
  },
  {
   "cell_type": "markdown",
   "metadata": {},
   "source": [
    "## Literal\n",
    "Forma $\\color{red}{letterale}$ di un oggetto: python possiede una serie di dati che sono predefiniti nel linguaggio e la cui definizione del valore dipende dal modo letterale con cui sono stati inseriti. Se scrivo 20 python lo interpreterà come un integer perchè questo è il modo letterale con cui lo abbiamo inserito; tra apici invece definiremo un oggetto stringa, senza bisogno di dichiararlo!"
   ]
  },
  {
   "cell_type": "markdown",
   "metadata": {},
   "source": [
    "# Variabili\n",
    "Per riferirci agli oggetti non useremo mai la sua identità, ma lo assegneremo un $\\color{red}{nome}$ ad un oggetto."
   ]
  },
  {
   "cell_type": "markdown",
   "metadata": {},
   "source": [
    "~~~\n",
    "a = 20\n",
    "mia_lista = [1, 2, 3]"
   ]
  },
  {
   "cell_type": "markdown",
   "metadata": {},
   "source": [
    "Esistono delle regole per definire i nomi validi:\n",
    "* lettere o numeri o caratteri Unicode o underscore\n",
    "* NON può iniziare con un numero\n",
    "* NON può essere una **parola riservata**"
   ]
  },
  {
   "cell_type": "markdown",
   "metadata": {},
   "source": [
    "I nomi associati agli oggetti vengono definiti *variabili*.\n",
    "In python una variabile non è una variabile, ma un nome che punta ad una variabile. Non è fortemente tipizzata."
   ]
  },
  {
   "cell_type": "markdown",
   "metadata": {},
   "source": [
    "~~~\n",
    "a = 20\n",
    "a = \"andrea\""
   ]
  },
  {
   "cell_type": "markdown",
   "metadata": {},
   "source": [
    "Questa cosa implica la **condivisione** dell'ID."
   ]
  },
  {
   "cell_type": "markdown",
   "metadata": {},
   "source": [
    "~~~\n",
    "a = 20\n",
    "b = a\n",
    "~~~\n",
    "In questo caso a e b puntano allo stesso oggetto, ma non sono lo stesso oggetto!"
   ]
  },
  {
   "cell_type": "markdown",
   "metadata": {},
   "source": [
    "Molto importante è il concetto di $\\color{red}{reference~count}$.\n",
    "Tutti gli oggetti in python hanno un contatore di riferimenti: questo implica che l'oggetto venga distrutto SOLO quando il suo reference count è pari a 0. Il *Garbage Collector* ripulisce tutto e libera la memoria (tutto in runtime)."
   ]
  },
  {
   "cell_type": "markdown",
   "metadata": {},
   "source": [
    " Il *Garbage Collector* ripulisce tutto e libera la memoria (tutto in runtime)."
   ]
  },
  {
   "cell_type": "markdown",
   "metadata": {},
   "source": [
    "# Callable Objects\n",
    "Gli oggetti chiamabili sono quelli in cui usiamo argomenti all'interno delle parentesi tonde. Esempio le funzioni!"
   ]
  },
  {
   "cell_type": "markdown",
   "metadata": {},
   "source": [
    "La funzione `print` ne è un esempio!"
   ]
  },
  {
   "cell_type": "markdown",
   "metadata": {},
   "source": [
    "Altre funzioni utili sono `id(oggetto)` oppure `type(oggetto)`."
   ]
  },
  {
   "cell_type": "markdown",
   "metadata": {},
   "source": [
    "# Gli Attributi\n",
    "Gli oggetti in python hanno un valore ed una identità; possono avere anche una serie di *attributi*."
   ]
  },
  {
   "cell_type": "markdown",
   "metadata": {},
   "source": [
    "Gli attributi sono degli oggetti riferiti da un oggetto perchè ne specificano ulteriori caratteristiche (possono essere dati o funzioni). Nel caso in cui siano funzioni vengono chiamati metodi."
   ]
  },
  {
   "cell_type": "markdown",
   "metadata": {},
   "source": [
    "Per richiamarli si una il punto: nome oggetto.nome attributo!"
   ]
  },
  {
   "cell_type": "markdown",
   "metadata": {},
   "source": [
    "Quando l'attributo è una funzione dobbiamo invocarlo essendo un oggetto Callable."
   ]
  },
  {
   "cell_type": "code",
   "execution_count": 5,
   "metadata": {},
   "outputs": [
    {
     "data": {
      "text/plain": [
       "'PYTHON'"
      ]
     },
     "execution_count": 5,
     "metadata": {},
     "output_type": "execute_result"
    }
   ],
   "source": [
    "\"python\".upper()"
   ]
  },
  {
   "cell_type": "code",
   "execution_count": 7,
   "metadata": {},
   "outputs": [
    {
     "data": {
      "text/plain": [
       "'PYTHON'"
      ]
     },
     "execution_count": 7,
     "metadata": {},
     "output_type": "execute_result"
    }
   ],
   "source": [
    "x = \"python\"\n",
    "x.upper()"
   ]
  },
  {
   "cell_type": "markdown",
   "metadata": {},
   "source": [
    "# BASIC data types"
   ]
  },
  {
   "cell_type": "markdown",
   "metadata": {},
   "source": [
    "* tipi numerici (anche boolean)\n",
    "* stringhe\n",
    "* operatori\n",
    "*espressioni"
   ]
  },
  {
   "cell_type": "markdown",
   "metadata": {},
   "source": [
    ">> None è un basic data type che ha una sola istanza... None"
   ]
  },
  {
   "cell_type": "markdown",
   "metadata": {},
   "source": [
    "## tipi numerici\n",
    "* integer\n",
    "* floating poin\n",
    "* boolean\n",
    "Sono tutti Immutabili!"
   ]
  },
  {
   "cell_type": "markdown",
   "metadata": {},
   "source": [
    "`a = 3` ed `a = 4`"
   ]
  },
  {
   "cell_type": "markdown",
   "metadata": {},
   "source": [
    "a non ha modificato l'oggetto, ma punta ad un oggetto diverso, prima il numero 3 e poi il numero 4!"
   ]
  },
  {
   "cell_type": "markdown",
   "metadata": {},
   "source": [
    "Dalla versione 3.6 possiamo dividere le cifre di un numero attraverso l'underscore: 10_000_000."
   ]
  },
  {
   "cell_type": "markdown",
   "metadata": {},
   "source": [
    "Possiamo usare 3 literal per esprimere un numero:\n",
    "* Binario -- 0b10011001\n",
    "* ottale 0o1635\n",
    "* esadecimale 0x1F8A"
   ]
  },
  {
   "cell_type": "markdown",
   "metadata": {},
   "source": [
    "I boolean sono sottoinsiemi di interi che hanno solo 2 valori: True o False; True=1 e False=0."
   ]
  },
  {
   "cell_type": "markdown",
   "metadata": {},
   "source": [
    "I Floating point vengono introdotti con un punto decimale di separazione. "
   ]
  },
  {
   "cell_type": "markdown",
   "metadata": {},
   "source": [
    "Possiamo usare anche l'annotazione esponenziale!"
   ]
  },
  {
   "cell_type": "code",
   "execution_count": 13,
   "metadata": {},
   "outputs": [
    {
     "data": {
      "text/plain": [
       "20000.0"
      ]
     },
     "execution_count": 13,
     "metadata": {},
     "output_type": "execute_result"
    }
   ],
   "source": [
    "2e4"
   ]
  },
  {
   "cell_type": "code",
   "execution_count": 14,
   "metadata": {},
   "outputs": [
    {
     "data": {
      "text/plain": [
       "0.0002"
      ]
     },
     "execution_count": 14,
     "metadata": {},
     "output_type": "execute_result"
    }
   ],
   "source": [
    "2e-4"
   ]
  },
  {
   "cell_type": "markdown",
   "metadata": {},
   "source": [
    "Naturalmente python supporta anche i numeri **immaginari**."
   ]
  },
  {
   "cell_type": "markdown",
   "metadata": {},
   "source": [
    "## Stringhe"
   ]
  },
  {
   "cell_type": "markdown",
   "metadata": {},
   "source": [
    "Le STRINGHE sono sequenze di elementi: una sequenza indica un insieme *ordinato* di elementi. Tale caratteristica ci permetterà di intervenire facilmente sugli elementi che compongono la stringa."
   ]
  },
  {
   "cell_type": "markdown",
   "metadata": {},
   "source": [
    "Ogno elemento di una stringa deve appartenere al set UNICODE."
   ]
  },
  {
   "cell_type": "markdown",
   "metadata": {},
   "source": [
    "Le stringhe in python sono oggetti immutabili, possiamo copiare parte di una stringa in un'altra stringa."
   ]
  },
  {
   "cell_type": "markdown",
   "metadata": {},
   "source": [
    "Possiamo usare apici singoli o doppi, purchè siano simmetricamente definiti."
   ]
  },
  {
   "cell_type": "markdown",
   "metadata": {},
   "source": [
    "Una stringa vuota non ha caratteri ma è comunque esistente come oggetto."
   ]
  },
  {
   "cell_type": "markdown",
   "metadata": {},
   "source": [
    "Possiamo definire stringhe su multilinea usando 3 apici singoli o 3 apici doppi. "
   ]
  },
  {
   "cell_type": "markdown",
   "metadata": {},
   "source": [
    ">\n",
    "\"\"\" questa può essere una stringa su \n",
    "diverse linee\"\"\"\n"
   ]
  },
  {
   "cell_type": "code",
   "execution_count": null,
   "metadata": {},
   "outputs": [],
   "source": [
    "#Abbiamo diverse tipologie di Escape (caratteri non stampabili):\n",
    "#* \\n andare a capo\n",
    "#* \\t tabulare\n",
    "#* \\\\ inseriamo la backslash nella stringa\n",
    "#* \\' inseriamo l'apice nella stringa\n",
    "#* \\\" inseriamo un doppio apice nella stringa"
   ]
  },
  {
   "cell_type": "markdown",
   "metadata": {},
   "source": [
    "## caso particolare: le F strings"
   ]
  },
  {
   "cell_type": "markdown",
   "metadata": {},
   "source": [
    "* modulo formatting (ormai deprecata)\n",
    "* metodo format associato alle stringhe\n",
    "* f-string introdotto da python 3"
   ]
  },
  {
   "cell_type": "code",
   "execution_count": 21,
   "metadata": {},
   "outputs": [],
   "source": [
    "titolo = \"Isola Misteriosa\"\n",
    "autore = \"Giulio Verne\""
   ]
  },
  {
   "cell_type": "code",
   "execution_count": 23,
   "metadata": {},
   "outputs": [
    {
     "name": "stdout",
     "output_type": "stream",
     "text": [
      "Titolo: Isola Misteriosa, Autore: Giulio Verne\n"
     ]
    }
   ],
   "source": [
    "print(f\"Titolo: {titolo}, Autore: {autore}\")\n"
   ]
  },
  {
   "cell_type": "markdown",
   "metadata": {},
   "source": [
    "Questa operazione viene detta **String Interpolation**"
   ]
  },
  {
   "cell_type": "code",
   "execution_count": 24,
   "metadata": {},
   "outputs": [
    {
     "name": "stdout",
     "output_type": "stream",
     "text": [
      "Titolo: ISOLA MISTERIOSA, Autore: Giulio Verne\n"
     ]
    }
   ],
   "source": [
    "print(f\"Titolo: {titolo.upper()}, Autore: {autore}\")"
   ]
  },
  {
   "cell_type": "markdown",
   "metadata": {},
   "source": [
    "PEP 498 -- Literal String Interpolation"
   ]
  },
  {
   "cell_type": "markdown",
   "metadata": {},
   "source": [
    "# Espressioni ed Operatori"
   ]
  },
  {
   "cell_type": "markdown",
   "metadata": {},
   "source": [
    "Le operazioni eseguono operazioni su degli elementi; tali elementi possono essere di tipo diverso."
   ]
  },
  {
   "cell_type": "markdown",
   "metadata": {},
   "source": [
    "I più comuni sono gli operatori aritmetici:\n",
    "* addizione + \n",
    "* sottrazione -\n",
    "* moltiplicazione \\*\n",
    "* divisione floating point /\n",
    "* divisione intera // solo parte intera del risultato\n",
    "* modulo % definisce il resto di una divisione\n",
    "* esponenziale **\n",
    "* meno unario -"
   ]
  },
  {
   "cell_type": "markdown",
   "metadata": {},
   "source": [
    "operatori di assegnamento:\n",
    "* = assegnazione di variabile\n",
    "* += scorciatoia per a += equivale ad a= a+b\n",
    "* -=, *=, /=, //=, %=, **=\n"
   ]
  },
  {
   "cell_type": "markdown",
   "metadata": {},
   "source": [
    "operatori di confronto (ritornano sempre un valore Booleano):\n",
    "* <\n",
    "* \\>\n",
    "* ==\n",
    "* !=\n",
    "* <=\n",
    "* \\>="
   ]
  },
  {
   "cell_type": "markdown",
   "metadata": {},
   "source": [
    "Attenzione alla $\\color{red}{precedenza}$: usiamo le parentesi per modificarne il comportamento."
   ]
  },
  {
   "cell_type": "markdown",
   "metadata": {},
   "source": [
    "Operatori logici (restituisco valori Booleani):\n",
    "* and\n",
    "* or\n",
    "* notm"
   ]
  },
  {
   "cell_type": "markdown",
   "metadata": {},
   "source": [
    "|  A    | B    | A AND B|\n",
    "|:--------|:----:|-------:|\n",
    "|True| True| True|\n",
    "|False| False|False|\n",
    "|True| False|False|\n",
    "|False| False|False|"
   ]
  },
  {
   "cell_type": "markdown",
   "metadata": {},
   "source": [
    "|  A    | B    | A OR B|\n",
    "|:--------|:----:|-------:|\n",
    "|True| True| True|\n",
    "|False| False|False|\n",
    "|True| False|True|\n",
    "|False| False|True|"
   ]
  },
  {
   "cell_type": "markdown",
   "metadata": {},
   "source": [
    "NOT è un operatore UNARIO: ritorna il contrario dell'espressione valutata."
   ]
  },
  {
   "cell_type": "markdown",
   "metadata": {},
   "source": [
    "In python *tutti* gli oggetti hanno un valore di verità implicitamente assegnato:\n",
    "sono tutti FALSE\n",
    "* None\n",
    "* False\n",
    "* Zero\n",
    "* una sequenza vuota\n",
    "* un dizionario vuoto\n",
    "in tutti gli altri casi il valore è TRUE..."
   ]
  },
  {
   "cell_type": "markdown",
   "metadata": {},
   "source": [
    "Operatori su *Sequenze*"
   ]
  },
  {
   "cell_type": "code",
   "execution_count": 39,
   "metadata": {},
   "outputs": [],
   "source": [
    "s = \"python programming\""
   ]
  },
  {
   "cell_type": "code",
   "execution_count": 40,
   "metadata": {},
   "outputs": [
    {
     "data": {
      "text/plain": [
       "'p'"
      ]
     },
     "execution_count": 40,
     "metadata": {},
     "output_type": "execute_result"
    }
   ],
   "source": [
    "s[0]"
   ]
  },
  {
   "cell_type": "code",
   "execution_count": 41,
   "metadata": {},
   "outputs": [
    {
     "data": {
      "text/plain": [
       "'python'"
      ]
     },
     "execution_count": 41,
     "metadata": {},
     "output_type": "execute_result"
    }
   ],
   "source": [
    "s[0:6]"
   ]
  },
  {
   "cell_type": "code",
   "execution_count": 42,
   "metadata": {},
   "outputs": [
    {
     "data": {
      "text/plain": [
       "'g'"
      ]
     },
     "execution_count": 42,
     "metadata": {},
     "output_type": "execute_result"
    }
   ],
   "source": [
    "s[-1]"
   ]
  },
  {
   "cell_type": "code",
   "execution_count": 43,
   "metadata": {},
   "outputs": [
    {
     "data": {
      "text/plain": [
       "'ng'"
      ]
     },
     "execution_count": 43,
     "metadata": {},
     "output_type": "execute_result"
    }
   ],
   "source": [
    "s[-2:]"
   ]
  },
  {
   "cell_type": "code",
   "execution_count": 44,
   "metadata": {},
   "outputs": [
    {
     "data": {
      "text/plain": [
       "'python'"
      ]
     },
     "execution_count": 44,
     "metadata": {},
     "output_type": "execute_result"
    }
   ],
   "source": [
    "s[:6]"
   ]
  },
  {
   "cell_type": "code",
   "execution_count": 45,
   "metadata": {},
   "outputs": [
    {
     "data": {
      "text/plain": [
       "'ph'"
      ]
     },
     "execution_count": 45,
     "metadata": {},
     "output_type": "execute_result"
    }
   ],
   "source": [
    "s[0:6:3]"
   ]
  },
  {
   "cell_type": "markdown",
   "metadata": {},
   "source": [
    "~~~\n",
    "[start:stop:step]"
   ]
  },
  {
   "cell_type": "markdown",
   "metadata": {},
   "source": [
    "Concatenazione utilizzando l'operatore $\\huge{+}$"
   ]
  },
  {
   "cell_type": "code",
   "execution_count": 48,
   "metadata": {},
   "outputs": [],
   "source": [
    "s = \"python\""
   ]
  },
  {
   "cell_type": "code",
   "execution_count": 49,
   "metadata": {},
   "outputs": [
    {
     "data": {
      "text/plain": [
       "6"
      ]
     },
     "execution_count": 49,
     "metadata": {},
     "output_type": "execute_result"
    }
   ],
   "source": [
    "len(s)"
   ]
  },
  {
   "cell_type": "code",
   "execution_count": 50,
   "metadata": {},
   "outputs": [
    {
     "data": {
      "text/plain": [
       "'h'"
      ]
     },
     "execution_count": 50,
     "metadata": {},
     "output_type": "execute_result"
    }
   ],
   "source": [
    "min(s)"
   ]
  },
  {
   "cell_type": "code",
   "execution_count": 51,
   "metadata": {},
   "outputs": [
    {
     "data": {
      "text/plain": [
       "'y'"
      ]
     },
     "execution_count": 51,
     "metadata": {},
     "output_type": "execute_result"
    }
   ],
   "source": [
    "max(s)"
   ]
  },
  {
   "cell_type": "code",
   "execution_count": null,
   "metadata": {},
   "outputs": [],
   "source": []
  },
  {
   "cell_type": "markdown",
   "metadata": {},
   "source": [
    "# Conversioni di tipo"
   ]
  },
  {
   "cell_type": "markdown",
   "metadata": {},
   "source": [
    "Interi:\n",
    "* usiamo la funzione int()\n",
    "* le stringhe diventano numeri interi (se sono numeri)"
   ]
  },
  {
   "cell_type": "markdown",
   "metadata": {},
   "source": [
    "Float:\n",
    "* usiamo la funzione float()\n",
    "* stesso discorso per gli interi"
   ]
  },
  {
   "cell_type": "markdown",
   "metadata": {},
   "source": [
    "Stringa:\n",
    "* usiamo la funzione str()\n",
    "* usata per i numeri che diventano elementi di stringa"
   ]
  },
  {
   "cell_type": "markdown",
   "metadata": {},
   "source": [
    "Booleano:\n",
    "* usiamo la funzione bool()\n",
    "* lo applichiamo a tutti gli elementi"
   ]
  },
  {
   "cell_type": "markdown",
   "metadata": {},
   "source": [
    "# Strutture di dati in python"
   ]
  },
  {
   "cell_type": "markdown",
   "metadata": {},
   "source": [
    "# Liste, Tuple, Dizionari, Set"
   ]
  },
  {
   "cell_type": "markdown",
   "metadata": {},
   "source": [
    "Una sequenza è generalmente definita come un insieme ordinato di elementi indicizzati numericamente attraverso la loro posizione; l'indice parte sempre da $\\huge{0}$"
   ]
  },
  {
   "cell_type": "markdown",
   "metadata": {},
   "source": [
    "Liste e Tuple caratteristiche:\n",
    "* elementi di tipo qualunche\n",
    "* le liste sono mutabili\n",
    "* le tuple sono immutabili"
   ]
  },
  {
   "cell_type": "markdown",
   "metadata": {},
   "source": [
    "## Liste"
   ]
  },
  {
   "cell_type": "markdown",
   "metadata": {},
   "source": [
    "Sequenza di elementi qualunque, mutabili. L'instaza riguarda una classe predefinita che si chiama list."
   ]
  },
  {
   "cell_type": "code",
   "execution_count": 63,
   "metadata": {},
   "outputs": [],
   "source": [
    "myList1 = []\n",
    "myList = [10, 20, 30]\n",
    "lista_vuota = list()"
   ]
  },
  {
   "cell_type": "code",
   "execution_count": 65,
   "metadata": {},
   "outputs": [
    {
     "data": {
      "text/plain": [
       "30"
      ]
     },
     "execution_count": 65,
     "metadata": {},
     "output_type": "execute_result"
    }
   ],
   "source": [
    "myList[-1]"
   ]
  },
  {
   "cell_type": "markdown",
   "metadata": {},
   "source": [
    "Valgono per lo slicing tutti i discorsi visti per le stringhe!"
   ]
  },
  {
   "cell_type": "code",
   "execution_count": 107,
   "metadata": {},
   "outputs": [],
   "source": [
    "nido = [1, 2, [\"primo\", \"secondo\", \"terzo\"]]"
   ]
  },
  {
   "cell_type": "code",
   "execution_count": 108,
   "metadata": {},
   "outputs": [
    {
     "data": {
      "text/plain": [
       "'secondo'"
      ]
     },
     "execution_count": 108,
     "metadata": {},
     "output_type": "execute_result"
    }
   ],
   "source": [
    "nido[2][1]"
   ]
  },
  {
   "cell_type": "markdown",
   "metadata": {},
   "source": [
    "modifichiamo la lista:"
   ]
  },
  {
   "cell_type": "code",
   "execution_count": 109,
   "metadata": {},
   "outputs": [],
   "source": [
    "nido[0] = \"andrea\"\n",
    "nido[2][2] = \"paese\""
   ]
  },
  {
   "cell_type": "code",
   "execution_count": 110,
   "metadata": {},
   "outputs": [
    {
     "data": {
      "text/plain": [
       "['andrea', 2, ['primo', 'secondo', 'paese']]"
      ]
     },
     "execution_count": 110,
     "metadata": {},
     "output_type": "execute_result"
    }
   ],
   "source": [
    "nido"
   ]
  },
  {
   "cell_type": "code",
   "execution_count": 111,
   "metadata": {},
   "outputs": [
    {
     "data": {
      "text/plain": [
       "3"
      ]
     },
     "execution_count": 111,
     "metadata": {},
     "output_type": "execute_result"
    }
   ],
   "source": [
    "len(nido)"
   ]
  },
  {
   "cell_type": "code",
   "execution_count": 97,
   "metadata": {},
   "outputs": [],
   "source": [
    "nido.insert(1, \"inserito\")"
   ]
  },
  {
   "cell_type": "code",
   "execution_count": 104,
   "metadata": {},
   "outputs": [
    {
     "data": {
      "text/plain": [
       "['andrea',\n",
       " 'inserito',\n",
       " 2,\n",
       " 'ultimo',\n",
       " ['primo', 'secondo', 'ancora ultimo', 'paese']]"
      ]
     },
     "execution_count": 104,
     "metadata": {},
     "output_type": "execute_result"
    }
   ],
   "source": [
    "nido"
   ]
  },
  {
   "cell_type": "code",
   "execution_count": 112,
   "metadata": {},
   "outputs": [],
   "source": [
    "nido.insert(-1, \"ultimo\")"
   ]
  },
  {
   "cell_type": "code",
   "execution_count": 113,
   "metadata": {},
   "outputs": [
    {
     "data": {
      "text/plain": [
       "['andrea', 2, 'ultimo', ['primo', 'secondo', 'paese']]"
      ]
     },
     "execution_count": 113,
     "metadata": {},
     "output_type": "execute_result"
    }
   ],
   "source": [
    "nido"
   ]
  },
  {
   "cell_type": "code",
   "execution_count": 114,
   "metadata": {},
   "outputs": [],
   "source": [
    "nido[-1].append(\"ancora ultimo\")"
   ]
  },
  {
   "cell_type": "code",
   "execution_count": 115,
   "metadata": {},
   "outputs": [
    {
     "data": {
      "text/plain": [
       "['andrea', 2, 'ultimo', ['primo', 'secondo', 'paese', 'ancora ultimo']]"
      ]
     },
     "execution_count": 115,
     "metadata": {},
     "output_type": "execute_result"
    }
   ],
   "source": [
    "nido"
   ]
  },
  {
   "cell_type": "code",
   "execution_count": 118,
   "metadata": {},
   "outputs": [],
   "source": [
    "del nido[0]"
   ]
  },
  {
   "cell_type": "code",
   "execution_count": 119,
   "metadata": {},
   "outputs": [
    {
     "data": {
      "text/plain": [
       "[2, 'ultimo', ['primo', 'secondo', 'paese', 'ancora ultimo']]"
      ]
     },
     "execution_count": 119,
     "metadata": {},
     "output_type": "execute_result"
    }
   ],
   "source": [
    "nido"
   ]
  },
  {
   "cell_type": "code",
   "execution_count": 120,
   "metadata": {},
   "outputs": [
    {
     "data": {
      "text/plain": [
       "True"
      ]
     },
     "execution_count": 120,
     "metadata": {},
     "output_type": "execute_result"
    }
   ],
   "source": [
    "\"ultimo\" in nido"
   ]
  },
  {
   "cell_type": "code",
   "execution_count": 122,
   "metadata": {},
   "outputs": [
    {
     "data": {
      "text/plain": [
       "True"
      ]
     },
     "execution_count": 122,
     "metadata": {},
     "output_type": "execute_result"
    }
   ],
   "source": [
    "\"paese\" in nido[-1]"
   ]
  },
  {
   "cell_type": "code",
   "execution_count": 123,
   "metadata": {},
   "outputs": [
    {
     "data": {
      "text/plain": [
       "False"
      ]
     },
     "execution_count": 123,
     "metadata": {},
     "output_type": "execute_result"
    }
   ],
   "source": [
    "\"paese\" in nido"
   ]
  },
  {
   "cell_type": "markdown",
   "metadata": {},
   "source": [
    "## Due nomi, una lista"
   ]
  },
  {
   "cell_type": "code",
   "execution_count": 124,
   "metadata": {},
   "outputs": [],
   "source": [
    "lista1 = [1, 2, 3]\n",
    "lista2 = lista1\n",
    "lista2[1] = 60\n"
   ]
  },
  {
   "cell_type": "code",
   "execution_count": 125,
   "metadata": {},
   "outputs": [
    {
     "data": {
      "text/plain": [
       "[1, 60, 3]"
      ]
     },
     "execution_count": 125,
     "metadata": {},
     "output_type": "execute_result"
    }
   ],
   "source": [
    "lista1"
   ]
  },
  {
   "cell_type": "code",
   "execution_count": 126,
   "metadata": {},
   "outputs": [
    {
     "data": {
      "text/plain": [
       "[1, 60, 3]"
      ]
     },
     "execution_count": 126,
     "metadata": {},
     "output_type": "execute_result"
    }
   ],
   "source": [
    "lista2"
   ]
  },
  {
   "cell_type": "markdown",
   "metadata": {},
   "source": [
    "Puntando alla stessa lista la variazione di una determina la variazione dell'altra... se questo non fosse il comportamento che vogliamo ritorna utile l'attributo COPY..."
   ]
  },
  {
   "cell_type": "code",
   "execution_count": 128,
   "metadata": {},
   "outputs": [],
   "source": [
    "lista1 = [1, 2, 3]\n",
    "lista2 = lista1.copy()"
   ]
  },
  {
   "cell_type": "code",
   "execution_count": 129,
   "metadata": {},
   "outputs": [],
   "source": [
    "lista2[0] = 60"
   ]
  },
  {
   "cell_type": "code",
   "execution_count": 130,
   "metadata": {},
   "outputs": [
    {
     "data": {
      "text/plain": [
       "[1, 2, 3]"
      ]
     },
     "execution_count": 130,
     "metadata": {},
     "output_type": "execute_result"
    }
   ],
   "source": [
    "lista1"
   ]
  },
  {
   "cell_type": "code",
   "execution_count": 131,
   "metadata": {},
   "outputs": [
    {
     "data": {
      "text/plain": [
       "[60, 2, 3]"
      ]
     },
     "execution_count": 131,
     "metadata": {},
     "output_type": "execute_result"
    }
   ],
   "source": [
    "lista2"
   ]
  },
  {
   "cell_type": "markdown",
   "metadata": {},
   "source": [
    "## Tuple"
   ]
  },
  {
   "cell_type": "markdown",
   "metadata": {},
   "source": [
    "La tupla è una sequenza $\\huge{immutabile}$"
   ]
  },
  {
   "cell_type": "markdown",
   "metadata": {},
   "source": [
    "Il tipo è la classe tuple()"
   ]
  },
  {
   "cell_type": "code",
   "execution_count": 135,
   "metadata": {},
   "outputs": [],
   "source": [
    "medaglie = ()\n",
    "medaglie = tuple()\n",
    "elenco = \"oro\", \"argento\", \"bronzo\""
   ]
  },
  {
   "cell_type": "code",
   "execution_count": 136,
   "metadata": {},
   "outputs": [
    {
     "name": "stdout",
     "output_type": "stream",
     "text": [
      "<class 'tuple'>\n"
     ]
    }
   ],
   "source": [
    "print(type(elenco))"
   ]
  },
  {
   "cell_type": "code",
   "execution_count": 137,
   "metadata": {},
   "outputs": [
    {
     "name": "stdout",
     "output_type": "stream",
     "text": [
      "('oro', 'argento', 'bronzo')\n"
     ]
    }
   ],
   "source": [
    "print(elenco)"
   ]
  },
  {
   "cell_type": "markdown",
   "metadata": {},
   "source": [
    "il Tuple $\\huge{UNpacking}$"
   ]
  },
  {
   "cell_type": "code",
   "execution_count": 142,
   "metadata": {},
   "outputs": [],
   "source": [
    "primo, secondo, terzo = elenco"
   ]
  },
  {
   "cell_type": "code",
   "execution_count": 143,
   "metadata": {},
   "outputs": [
    {
     "data": {
      "text/plain": [
       "'oro'"
      ]
     },
     "execution_count": 143,
     "metadata": {},
     "output_type": "execute_result"
    }
   ],
   "source": [
    "primo"
   ]
  },
  {
   "cell_type": "code",
   "execution_count": 144,
   "metadata": {},
   "outputs": [
    {
     "data": {
      "text/plain": [
       "'argento'"
      ]
     },
     "execution_count": 144,
     "metadata": {},
     "output_type": "execute_result"
    }
   ],
   "source": [
    "secondo"
   ]
  },
  {
   "cell_type": "code",
   "execution_count": 145,
   "metadata": {},
   "outputs": [
    {
     "data": {
      "text/plain": [
       "'bronzo'"
      ]
     },
     "execution_count": 145,
     "metadata": {},
     "output_type": "execute_result"
    }
   ],
   "source": [
    "terzo"
   ]
  },
  {
   "cell_type": "markdown",
   "metadata": {},
   "source": [
    "## Dizionario"
   ]
  },
  {
   "cell_type": "markdown",
   "metadata": {},
   "source": [
    "Nei dizionari l'ordine degli elementi non è definito, si usano delle chiavi univoche che vengono associate ai rispettivi valori."
   ]
  },
  {
   "cell_type": "markdown",
   "metadata": {},
   "source": [
    "Le chiavi devono essere univoche. Gli elementi dei dizionari sono mutabili attraverso i metodi appartenenti ai dizionari."
   ]
  },
  {
   "cell_type": "markdown",
   "metadata": {},
   "source": [
    "La classe dei dizionari è la dict()."
   ]
  },
  {
   "cell_type": "code",
   "execution_count": 147,
   "metadata": {},
   "outputs": [],
   "source": [
    "mioDizionario = {}\n",
    "mioDizionario = dict()"
   ]
  },
  {
   "cell_type": "code",
   "execution_count": 148,
   "metadata": {},
   "outputs": [],
   "source": [
    "myDict = {\n",
    "    \"primo\": 10,\n",
    "    \"secondo\": 20,\n",
    "    \"terzo\": 30\n",
    "}"
   ]
  },
  {
   "cell_type": "code",
   "execution_count": 149,
   "metadata": {},
   "outputs": [],
   "source": [
    "myDict[\"quarto\"] = 40"
   ]
  },
  {
   "cell_type": "code",
   "execution_count": 150,
   "metadata": {},
   "outputs": [
    {
     "data": {
      "text/plain": [
       "{'primo': 10, 'secondo': 20, 'terzo': 30, 'quarto': 40}"
      ]
     },
     "execution_count": 150,
     "metadata": {},
     "output_type": "execute_result"
    }
   ],
   "source": [
    "myDict"
   ]
  },
  {
   "cell_type": "code",
   "execution_count": 151,
   "metadata": {},
   "outputs": [],
   "source": [
    "del myDict[\"secondo\"]"
   ]
  },
  {
   "cell_type": "code",
   "execution_count": 152,
   "metadata": {},
   "outputs": [
    {
     "data": {
      "text/plain": [
       "{'primo': 10, 'terzo': 30, 'quarto': 40}"
      ]
     },
     "execution_count": 152,
     "metadata": {},
     "output_type": "execute_result"
    }
   ],
   "source": [
    "myDict\n"
   ]
  },
  {
   "cell_type": "markdown",
   "metadata": {},
   "source": [
    "~~~\n",
    "myDict.clear() # vuota il dizionario"
   ]
  },
  {
   "cell_type": "code",
   "execution_count": 153,
   "metadata": {},
   "outputs": [
    {
     "data": {
      "text/plain": [
       "True"
      ]
     },
     "execution_count": 153,
     "metadata": {},
     "output_type": "execute_result"
    }
   ],
   "source": [
    "\"terzo\" in myDict"
   ]
  },
  {
   "cell_type": "code",
   "execution_count": 155,
   "metadata": {},
   "outputs": [],
   "source": [
    "myDict2 = myDict.copy()"
   ]
  },
  {
   "cell_type": "code",
   "execution_count": 156,
   "metadata": {},
   "outputs": [
    {
     "data": {
      "text/plain": [
       "{'primo': 10, 'terzo': 30, 'quarto': 40}"
      ]
     },
     "execution_count": 156,
     "metadata": {},
     "output_type": "execute_result"
    }
   ],
   "source": [
    "myDict2"
   ]
  },
  {
   "cell_type": "code",
   "execution_count": 157,
   "metadata": {},
   "outputs": [],
   "source": [
    "myDict2[\"quinto\"] = 50"
   ]
  },
  {
   "cell_type": "code",
   "execution_count": 158,
   "metadata": {},
   "outputs": [
    {
     "data": {
      "text/plain": [
       "{'primo': 10, 'terzo': 30, 'quarto': 40, 'quinto': 50}"
      ]
     },
     "execution_count": 158,
     "metadata": {},
     "output_type": "execute_result"
    }
   ],
   "source": [
    "myDict2"
   ]
  },
  {
   "cell_type": "code",
   "execution_count": 159,
   "metadata": {},
   "outputs": [
    {
     "data": {
      "text/plain": [
       "{'primo': 10, 'terzo': 30, 'quarto': 40}"
      ]
     },
     "execution_count": 159,
     "metadata": {},
     "output_type": "execute_result"
    }
   ],
   "source": [
    "myDict"
   ]
  },
  {
   "cell_type": "code",
   "execution_count": 160,
   "metadata": {},
   "outputs": [],
   "source": [
    "d1 = {10: \"a\"}\n",
    "d2 = {20: \"b\"}"
   ]
  },
  {
   "cell_type": "code",
   "execution_count": 161,
   "metadata": {},
   "outputs": [],
   "source": [
    "d3 = {}"
   ]
  },
  {
   "cell_type": "code",
   "execution_count": 162,
   "metadata": {},
   "outputs": [],
   "source": [
    "d3.update(d1)"
   ]
  },
  {
   "cell_type": "code",
   "execution_count": 163,
   "metadata": {},
   "outputs": [
    {
     "data": {
      "text/plain": [
       "{10: 'a'}"
      ]
     },
     "execution_count": 163,
     "metadata": {},
     "output_type": "execute_result"
    }
   ],
   "source": [
    "d3"
   ]
  },
  {
   "cell_type": "code",
   "execution_count": 164,
   "metadata": {},
   "outputs": [],
   "source": [
    "d3.update(d2)"
   ]
  },
  {
   "cell_type": "code",
   "execution_count": 165,
   "metadata": {},
   "outputs": [
    {
     "data": {
      "text/plain": [
       "{10: 'a', 20: 'b'}"
      ]
     },
     "execution_count": 165,
     "metadata": {},
     "output_type": "execute_result"
    }
   ],
   "source": [
    "d3"
   ]
  },
  {
   "cell_type": "markdown",
   "metadata": {},
   "source": [
    "## SET"
   ]
  },
  {
   "cell_type": "markdown",
   "metadata": {},
   "source": [
    "Si tratta di insiemi, con tutte le operazioni matematiche che abbiamo per gli insiemi..."
   ]
  },
  {
   "cell_type": "code",
   "execution_count": 16,
   "metadata": {},
   "outputs": [],
   "source": [
    "mySet = set()"
   ]
  },
  {
   "cell_type": "code",
   "execution_count": 17,
   "metadata": {},
   "outputs": [],
   "source": [
    "mySet1 = {1, 2, 3, 4}"
   ]
  },
  {
   "cell_type": "markdown",
   "metadata": {},
   "source": [
    "Un set è un oggetto **mutabile**:"
   ]
  },
  {
   "cell_type": "code",
   "execution_count": 18,
   "metadata": {},
   "outputs": [
    {
     "name": "stdout",
     "output_type": "stream",
     "text": [
      "{1, 2, 3, 4, 19}\n"
     ]
    }
   ],
   "source": [
    "mySet1.add(19)\n",
    "print(mySet1)\n"
   ]
  },
  {
   "cell_type": "markdown",
   "metadata": {},
   "source": [
    "Esiste anche la possibilità di usare dei Frozen SET...immutabili"
   ]
  },
  {
   "cell_type": "code",
   "execution_count": 21,
   "metadata": {},
   "outputs": [],
   "source": [
    "gelo = frozenset([12, 23, 43])"
   ]
  },
  {
   "cell_type": "code",
   "execution_count": 25,
   "metadata": {},
   "outputs": [
    {
     "data": {
      "text/plain": [
       "True"
      ]
     },
     "execution_count": 25,
     "metadata": {},
     "output_type": "execute_result"
    }
   ],
   "source": [
    "23 in gelo"
   ]
  },
  {
   "cell_type": "code",
   "execution_count": 26,
   "metadata": {},
   "outputs": [
    {
     "data": {
      "text/plain": [
       "True"
      ]
     },
     "execution_count": 26,
     "metadata": {},
     "output_type": "execute_result"
    }
   ],
   "source": [
    "2 in mySet1"
   ]
  },
  {
   "cell_type": "markdown",
   "metadata": {},
   "source": [
    "Operazioni peculiari sugli insiemi: intersezione ed unione."
   ]
  },
  {
   "cell_type": "code",
   "execution_count": 27,
   "metadata": {},
   "outputs": [],
   "source": [
    "set1 = {10,20,30,40}\n",
    "set2 = {30,40,50,60}"
   ]
  },
  {
   "cell_type": "code",
   "execution_count": 29,
   "metadata": {},
   "outputs": [
    {
     "data": {
      "text/plain": [
       "{30, 40}"
      ]
     },
     "execution_count": 29,
     "metadata": {},
     "output_type": "execute_result"
    }
   ],
   "source": [
    "set1 & set2 # intersezione"
   ]
  },
  {
   "cell_type": "code",
   "execution_count": 30,
   "metadata": {},
   "outputs": [
    {
     "data": {
      "text/plain": [
       "{10, 20, 30, 40, 50, 60}"
      ]
     },
     "execution_count": 30,
     "metadata": {},
     "output_type": "execute_result"
    }
   ],
   "source": [
    "set1.union(set2) # unione"
   ]
  },
  {
   "cell_type": "code",
   "execution_count": 31,
   "metadata": {},
   "outputs": [
    {
     "data": {
      "text/plain": [
       "{10, 20, 30, 40, 50, 60}"
      ]
     },
     "execution_count": 31,
     "metadata": {},
     "output_type": "execute_result"
    }
   ],
   "source": [
    "set1 | set2 # somma logica (unione)"
   ]
  },
  {
   "cell_type": "code",
   "execution_count": 32,
   "metadata": {},
   "outputs": [
    {
     "data": {
      "text/plain": [
       "{10, 20}"
      ]
     },
     "execution_count": 32,
     "metadata": {},
     "output_type": "execute_result"
    }
   ],
   "source": [
    "set1 - set2 # differenza logica"
   ]
  },
  {
   "cell_type": "code",
   "execution_count": 33,
   "metadata": {},
   "outputs": [
    {
     "data": {
      "text/plain": [
       "{10, 20, 50, 60}"
      ]
     },
     "execution_count": 33,
     "metadata": {},
     "output_type": "execute_result"
    }
   ],
   "source": [
    "set1 ^ set2 # or esclusivo: al primo o al secondo ma non entrambi"
   ]
  },
  {
   "cell_type": "markdown",
   "metadata": {},
   "source": [
    "# Strutture di codice"
   ]
  },
  {
   "cell_type": "markdown",
   "metadata": {},
   "source": [
    "## linee di codice e blocchi di codice"
   ]
  },
  {
   "cell_type": "markdown",
   "metadata": {},
   "source": [
    "Abbiamo:\n",
    "* linee logiche di codice (che vede python)\n",
    "* linee fisiche (che scriviamo nel listato)"
   ]
  },
  {
   "cell_type": "code",
   "execution_count": 39,
   "metadata": {},
   "outputs": [
    {
     "name": "stdout",
     "output_type": "stream",
     "text": [
      "python programming language\n"
     ]
    }
   ],
   "source": [
    "s = \"python \\\n",
    "programming \\\n",
    "language\"\n",
    "print(s) # 4 linee fisiche ma una sola linea logica"
   ]
  },
  {
   "cell_type": "markdown",
   "metadata": {},
   "source": [
    "Un blocco di codice è un insieme di linee di codice raggruppate!"
   ]
  },
  {
   "cell_type": "markdown",
   "metadata": {},
   "source": [
    "```\n",
    "inp = input(\"inserisci un numero: \")\n",
    "x = int(inp)\n",
    "if x < 10:\n",
    "    s = \"numero minore di 10\"\n",
    "    print(s)"
   ]
  },
  {
   "cell_type": "markdown",
   "metadata": {},
   "source": [
    "## Statement: istruzioni del programma"
   ]
  },
  {
   "cell_type": "markdown",
   "metadata": {},
   "source": [
    "Operazioni che si richiede al codice python di eseguire:\n",
    "\n",
    "```s = \"andrea\"```"
   ]
  },
  {
   "cell_type": "markdown",
   "metadata": {},
   "source": [
    "Statement semplici e composti"
   ]
  },
  {
   "cell_type": "markdown",
   "metadata": {},
   "source": [
    "```\n",
    "if x < 10:\n",
    "    s = \"numero minore di 10\"\n",
    "    elif x == 10:\n",
    "        s = \"numero 10\"\n",
    "    else:\n",
    "        s = \"numero maggiore di 10\n",
    "        print(s)"
   ]
  },
  {
   "cell_type": "markdown",
   "metadata": {},
   "source": [
    "Struttura di uno statement composto:\n",
    "* contiene una o più clausole\n",
    "* ogni clausola contiene una parola chiave di python detta HEADER e termina con il carattere :\n",
    "* suite che contiene un blocco di codice, indentato rispetto all'HEADER"
   ]
  },
  {
   "cell_type": "markdown",
   "metadata": {},
   "source": [
    "## Lo statement IF\n",
    "Viene utilizzato per definire una esecuzione condizionata del codice (azioni differenti rispetto al test di verità). "
   ]
  },
  {
   "cell_type": "markdown",
   "metadata": {},
   "source": [
    "La clausola ELSE viene eseguita solo se tutte le precedenti danno come risultato FALSE; possiamo ometterla per fare in modo che nel caso di tutti FALSE non venga eseguito nulla!"
   ]
  },
  {
   "cell_type": "code",
   "execution_count": 44,
   "metadata": {},
   "outputs": [],
   "source": [
    "x = 10\n",
    "if x > 11:\n",
    "    print(\"il numero è maggiore di 11\") # manca la clausola else"
   ]
  },
  {
   "cell_type": "markdown",
   "metadata": {},
   "source": [
    "## Lo statement WHILE\n",
    "La else è facoltativa ma poco utilizzata"
   ]
  },
  {
   "cell_type": "markdown",
   "metadata": {},
   "source": [
    "Se è presente la clausola ELSE si entra nel ciclo sempre: se l'espressione risulterà FALSE ci entreremo direttamente senza passare dal True."
   ]
  },
  {
   "cell_type": "markdown",
   "metadata": {},
   "source": [
    "```\n",
    "x = 0\n",
    "while x < 3:\n",
    "    print(x)\n",
    "    x += 1"
   ]
  },
  {
   "cell_type": "markdown",
   "metadata": {},
   "source": [
    "Spesso si vuole eseguire un loop senza sapere quando la condizione sarà verificata; in questo caso utilizzeremo $\\color{green}{break}$ per uscire dal loop."
   ]
  },
  {
   "cell_type": "markdown",
   "metadata": {},
   "source": [
    "Diverso è lo statement $\\color{red}{continue}$ il quale non esce dal ciclo ma lo fà ripartire dall'inizio!"
   ]
  },
  {
   "cell_type": "code",
   "execution_count": 2,
   "metadata": {},
   "outputs": [
    {
     "name": "stdout",
     "output_type": "stream",
     "text": [
      "sas\n",
      "ere\n",
      "era\n"
     ]
    }
   ],
   "source": [
    "while True:\n",
    "    x = input(\"inserire una stringa \")\n",
    "    if x == \"stop\":\n",
    "        break\n",
    "    if x < \"b\":\n",
    "        continue\n",
    "    print(x) # tutte le stringhe < b non vengono stampate perchè si ritorna al primo if"
   ]
  },
  {
   "cell_type": "markdown",
   "metadata": {},
   "source": [
    "## Ciclo FOR"
   ]
  },
  {
   "cell_type": "markdown",
   "metadata": {},
   "source": [
    "```\n",
    "for target in iterator:\n",
    "    suite\n",
    "else:\n",
    "    suite"
   ]
  },
  {
   "cell_type": "markdown",
   "metadata": {},
   "source": [
    "L'iterazione termina quando tutti gli elementi di iterator sono stati processati. La clausola else, poco utilizzata, solo se tutti gli elementi sono stati iterati."
   ]
  },
  {
   "cell_type": "code",
   "execution_count": 19,
   "metadata": {},
   "outputs": [
    {
     "name": "stdout",
     "output_type": "stream",
     "text": [
      "1\n",
      "3\n",
      "4\n"
     ]
    }
   ],
   "source": [
    "myList = [1, 3, 4, 5]\n",
    "for i in myList:\n",
    "    if i <= 4:\n",
    "        print(i)\n",
    "    else:\n",
    "        break\n",
    "else:\n",
    "    print(\"ho iterato tutti gli elementi\")"
   ]
  },
  {
   "cell_type": "code",
   "execution_count": 20,
   "metadata": {},
   "outputs": [
    {
     "name": "stdout",
     "output_type": "stream",
     "text": [
      "1\n",
      "3\n",
      "4\n",
      "5\n",
      "ho iterato tutti gli elementi\n"
     ]
    }
   ],
   "source": [
    "for i in myList:\n",
    "    if i <= 9:\n",
    "        print(i)\n",
    "    else:\n",
    "        break\n",
    "else:\n",
    "    print(\"ho iterato tutti gli elementi\")"
   ]
  },
  {
   "cell_type": "markdown",
   "metadata": {},
   "source": [
    "L'iterazione sui dizionari assegna alla variabile TARGET le KEY.\n",
    "```\n",
    "for i in myDict..."
   ]
  },
  {
   "cell_type": "markdown",
   "metadata": {},
   "source": [
    "```\n",
    "for i in myDict.items()\n",
    "```\n",
    "restituisce delle tuple chiave valore."
   ]
  },
  {
   "cell_type": "markdown",
   "metadata": {},
   "source": [
    "CONTINUE nel ciclo for avanza l'iterazione saltando l'elemento indicato:"
   ]
  },
  {
   "cell_type": "code",
   "execution_count": 5,
   "metadata": {},
   "outputs": [
    {
     "name": "stdout",
     "output_type": "stream",
     "text": [
      "1\n",
      "3\n",
      "7\n"
     ]
    }
   ],
   "source": [
    "for i in [1, 3, 5, 7]:\n",
    "    if i == 5:\n",
    "        continue\n",
    "    print(i)"
   ]
  },
  {
   "cell_type": "markdown",
   "metadata": {},
   "source": [
    "## La funzione RANGE\n",
    "range(start, stop, step)... lo STOP è SEMPRE escluso!"
   ]
  },
  {
   "cell_type": "markdown",
   "metadata": {},
   "source": [
    "## List comprehension"
   ]
  },
  {
   "cell_type": "markdown",
   "metadata": {},
   "source": [
    "Si tratta di un argomento avanzato ma molto importante perchè si tratta di uno strumento molto \n",
    "potente!"
   ]
  },
  {
   "cell_type": "markdown",
   "metadata": {},
   "source": [
    "[expression for item in iterable if condition]"
   ]
  },
  {
   "cell_type": "code",
   "execution_count": 9,
   "metadata": {},
   "outputs": [],
   "source": [
    "miaLista = [1, 3, 5, 7, 8, 9, 12]"
   ]
  },
  {
   "cell_type": "code",
   "execution_count": 10,
   "metadata": {},
   "outputs": [
    {
     "name": "stdout",
     "output_type": "stream",
     "text": [
      "[7, 8, 9, 12]\n"
     ]
    }
   ],
   "source": [
    "l =[x for x in miaLista if x > 5]\n",
    "print(l)"
   ]
  },
  {
   "cell_type": "code",
   "execution_count": 11,
   "metadata": {},
   "outputs": [
    {
     "name": "stdout",
     "output_type": "stream",
     "text": [
      "[10, 30, 50, 70, 80, 90, 120]\n"
     ]
    }
   ],
   "source": [
    "s = [x * 10 for x in miaLista]\n",
    "print(s)"
   ]
  },
  {
   "cell_type": "code",
   "execution_count": 12,
   "metadata": {},
   "outputs": [
    {
     "name": "stdout",
     "output_type": "stream",
     "text": [
      "[64, 144]\n"
     ]
    }
   ],
   "source": [
    "p = [x*x for x in miaLista if x % 2 == 0]\n",
    "print(p)"
   ]
  },
  {
   "cell_type": "markdown",
   "metadata": {},
   "source": [
    "## Dict comprehension"
   ]
  },
  {
   "cell_type": "code",
   "execution_count": 57,
   "metadata": {},
   "outputs": [],
   "source": [
    "nomi = {10: \"andrea\", 20: \"mario\", 30: \"anna\", 40: \"giuseppe\"}"
   ]
  },
  {
   "cell_type": "code",
   "execution_count": 58,
   "metadata": {},
   "outputs": [
    {
     "name": "stdout",
     "output_type": "stream",
     "text": [
      "{30: 'anna', 40: 'giuseppe'}\n"
     ]
    }
   ],
   "source": [
    "mioDizionario = {k:v for k,v in nomi.items() if k > 20}\n",
    "print(mioDizionario)"
   ]
  },
  {
   "cell_type": "code",
   "execution_count": 68,
   "metadata": {},
   "outputs": [
    {
     "name": "stdout",
     "output_type": "stream",
     "text": [
      "{10: 'andrea', 20: 'mario'}\n"
     ]
    }
   ],
   "source": [
    "nomiDict = {k:v for k,v in nomi.items() if k <= 20}\n",
    "print(nomiDict)"
   ]
  },
  {
   "cell_type": "code",
   "execution_count": 71,
   "metadata": {},
   "outputs": [
    {
     "name": "stdout",
     "output_type": "stream",
     "text": [
      "{40: 'andrea', 50: 'mario', 60: 'anna', 70: 'giuseppe'}\n"
     ]
    }
   ],
   "source": [
    "cambiato= {(k+30):v for k,v in nomi.items()}\n",
    "print(cambiato)"
   ]
  },
  {
   "cell_type": "markdown",
   "metadata": {},
   "source": [
    "# Set comprehension\n",
    "Ricordiamo che il set non può contenere elementi DUPLICATI."
   ]
  },
  {
   "cell_type": "code",
   "execution_count": 76,
   "metadata": {},
   "outputs": [],
   "source": [
    "lista = [ 1, 5, 7, 8, 9]"
   ]
  },
  {
   "cell_type": "code",
   "execution_count": 77,
   "metadata": {},
   "outputs": [
    {
     "name": "stdout",
     "output_type": "stream",
     "text": [
      "{1, 5}\n"
     ]
    }
   ],
   "source": [
    "nuovo = {x for x in lista if x < 7}\n",
    "print(nuovo)"
   ]
  },
  {
   "cell_type": "markdown",
   "execution_count": null,
   "metadata": {},
   "outputs": [],
   "source": [
    "# le Funzioni"
   ]
  },
  {
   "cell_type": "markdown",
   "execution_count": null,
   "metadata": {},
   "outputs": [],
   "source": [
    "Insieme di istruzioni con un nome, eseguita a richiesta in altre parti del programma. Una\n",
    "funzione è un OGGETTO, Callable Object (oggetti chiamabili)."
   ]
  },
  {
   "cell_type": "markdown",
   "execution_count": null,
   "metadata": {},
   "outputs": [],
   "source": [
    "Due cose si possono fare con una funzione:\n",
    "* definirla\n",
    "* chiamarla"
   ]
  },
  {
   "cell_type": "markdown",
   "execution_count": null,
   "metadata": {},
   "outputs": [],
   "source": [
    "## Definizione di una funzione"
   ]
  },
  {
   "cell_type": "markdown",
   "execution_count": null,
   "metadata": {},
   "outputs": [],
   "source": [
    "``` \n",
    "def function_name(parameters):\n",
    "            statements"
   ]
  },
  {
   "cell_type": "markdown",
   "execution_count": null,
   "metadata": {},
   "outputs": [],
   "source": [
    "Quando passiamo i valori ai parametri, questi si chiamano argomenti!"
   ]
  },
  {
   "cell_type": "markdown",
   "execution_count": null,
   "metadata": {},
   "outputs": [],
   "source": [
    "## Parametri della funzione"
   ]
  },
  {
   "cell_type": "code",
   "execution_count": 1,
   "metadata": {},
   "outputs": [],
   "source": [
    "def myFunc(a, b):\n",
    "    print(a, b)  # parametri posizionali, in chiamata sono necessari nell'ordine dato"
   ]
  },
  {
   "cell_type": "code",
   "execution_count": 2,
   "metadata": {},
   "outputs": [
    {
     "name": "stdout",
     "output_type": "stream",
     "text": "30 10\n"
    }
   ],
   "source": [
    "def myFunc(a, b):\n",
    "    print(a, b) # keyword possiamo passarli nell'ordine che vogliamo...\n",
    "\n",
    "myFunc(b=10, a=30)"
   ]
  },
  {
   "cell_type": "code",
   "execution_count": 3,
   "metadata": {},
   "outputs": [
    {
     "name": "stdout",
     "output_type": "stream",
     "text": "10 50\n"
    }
   ],
   "source": [
    "myFunc(10, b=50) # prima i posizionali poi le keyword"
   ]
  },
  {
   "cell_type": "code",
   "execution_count": 6,
   "metadata": {},
   "outputs": [],
   "source": [
    "def myFunc(a, b, c=4):\n",
    "    print(a, b)  #parametri opzionali possono mancare nella chiamata"
   ]
  },
  {
   "cell_type": "code",
   "execution_count": 7,
   "metadata": {},
   "outputs": [],
   "source": [
    "def myFunc(*args):\n",
    "    print(args) # il nome è convenzionale, inserisce i valori in una tupla, variabile"
   ]
  },
  {
   "cell_type": "code",
   "execution_count": 8,
   "metadata": {},
   "outputs": [],
   "source": [
    "def myFunc(a, b, *args):\n",
    "    print(a, b, args) # i posizionali sempre prima"
   ]
  },
  {
   "cell_type": "code",
   "execution_count": 9,
   "metadata": {},
   "outputs": [
    {
     "name": "stdout",
     "output_type": "stream",
     "text": "1 5 (6, 8, 9)\n"
    }
   ],
   "source": [
    "myFunc(1,5, 6,8,9)"
   ]
  },
  {
   "cell_type": "code",
   "execution_count": 10,
   "metadata": {},
   "outputs": [],
   "source": [
    "def myFunc(**kwargs):\n",
    "    print(kwargs)"
   ]
  },
  {
   "cell_type": "code",
   "execution_count": 15,
   "metadata": {},
   "outputs": [
    {
     "name": "stdout",
     "output_type": "stream",
     "text": "{'andrea': 1, 'mario': 2}\n"
    }
   ],
   "source": [
    "myFunc(andrea=1, mario=2)"
   ]
  },
  {
   "cell_type": "markdown",
   "execution_count": null,
   "metadata": {},
   "outputs": [],
   "source": [
    "## Lo statement $\\color{red}{RETURN}$"
   ]
  },
  {
   "cell_type": "code",
   "execution_count": 16,
   "metadata": {},
   "outputs": [],
   "source": [
    "def sum(a, b):\n",
    "    return a + b  # return può non essere seguito da una espressione"
   ]
  },
  {
   "cell_type": "markdown",
   "execution_count": 17,
   "metadata": {},
   "outputs": [
    {
     "ename": "SyntaxError",
     "evalue": "invalid syntax (<ipython-input-17-e148b30323bb>, line 1)",
     "output_type": "error",
     "traceback": [
      "\u001b[0;36m  File \u001b[0;32m\"<ipython-input-17-e148b30323bb>\"\u001b[0;36m, line \u001b[0;32m1\u001b[0m\n\u001b[0;31m    Se non indichiamo nessuna espressione, il ritorno sarà None...m\u001b[0m\n\u001b[0m         ^\u001b[0m\n\u001b[0;31mSyntaxError\u001b[0m\u001b[0;31m:\u001b[0m invalid syntax\n"
     ]
    }
   ],
   "source": [
    "Se non indichiamo nessuna espressione, il ritorno sarà None..."
   ]
  },
  {
   "cell_type": "code",
   "execution_count": 18,
   "metadata": {},
   "outputs": [],
   "source": [
    "def sum(a, b):\n",
    "    c = a + b # torna al chiamante il valore None..."
   ]
  },
  {
   "cell_type": "code",
   "execution_count": null,
   "metadata": {},
   "outputs": [],
   "source": [
    "## Chiamare le funzioni"
   ]
  },
  {
   "cell_type": "markdown",
   "execution_count": null,
   "metadata": {},
   "outputs": [],
   "source": [
    "```function_name(arguments)```"
   ]
  },
  {
   "cell_type": "markdown",
   "execution_count": null,
   "metadata": {},
   "outputs": [],
   "source": [
    "I valori vengono passati come riferimento!"
   ]
  },
  {
   "cell_type": "code",
   "execution_count": 20,
   "metadata": {},
   "outputs": [],
   "source": [
    "def myFunc(x):\n",
    "    x = 10\n",
    "    print(x) "
   ]
  },
  {
   "cell_type": "code",
   "execution_count": 22,
   "metadata": {},
   "outputs": [
    {
     "name": "stdout",
     "output_type": "stream",
     "text": "10\n20\n"
    }
   ],
   "source": [
    "y = 20\n",
    "myFunc(y)\n",
    "print(y) # l'oggetto originario è immutabile e non ha modificato il suo contenuto"
   ]
  },
  {
   "cell_type": "code",
   "execution_count": 26,
   "metadata": {},
   "outputs": [],
   "source": [
    "def myFunc(x):\n",
    "    x[\"func\"] = 10"
   ]
  },
  {
   "cell_type": "code",
   "execution_count": 28,
   "metadata": {},
   "outputs": [
    {
     "name": "stdout",
     "output_type": "stream",
     "text": "{'a': 5, 'func': 10}\n"
    }
   ],
   "source": [
    "d = {\"a\": 5}\n",
    "myFunc(d)\n",
    "print(d) # d è un dizionario, mutabile, ergo è stato effettivamente mutato"
   ]
  },
  {
   "cell_type": "markdown",
   "execution_count": null,
   "metadata": {},
   "outputs": [],
   "source": [
    "## Funzioni come OGGETTI"
   ]
  },
  {
   "cell_type": "code",
   "execution_count": 29,
   "metadata": {},
   "outputs": [],
   "source": [
    "def sum(x, y):\n",
    "    print(x + y)"
   ]
  },
  {
   "cell_type": "code",
   "execution_count": 30,
   "metadata": {},
   "outputs": [
    {
     "name": "stdout",
     "output_type": "stream",
     "text": "15\n"
    }
   ],
   "source": [
    "sum(10, 5) # invochiamo la funzione"
   ]
  },
  {
   "cell_type": "code",
   "execution_count": 31,
   "metadata": {},
   "outputs": [
    {
     "data": {
      "text/plain": "<function __main__.sum(x, y)>"
     },
     "execution_count": 31,
     "metadata": {},
     "output_type": "execute_result"
    }
   ],
   "source": [
    "sum # chiamiamo l'oggetto funzione, istanza della classe function"
   ]
  },
  {
   "cell_type": "markdown",
   "execution_count": null,
   "metadata": {},
   "outputs": [],
   "source": [
    "## Usare gli oggetti funzione"
   ]
  },
  {
   "cell_type": "code",
   "execution_count": 41,
   "metadata": {},
   "outputs": [],
   "source": [
    "def outer(x, y):\n",
    "    def sum(a, b):\n",
    "        return a + b\n",
    "    print(sum(x, y))       # funzione nidificata"
   ]
  },
  {
   "cell_type": "code",
   "execution_count": 42,
   "metadata": {},
   "outputs": [
    {
     "name": "stdout",
     "output_type": "stream",
     "text": "15\n"
    }
   ],
   "source": [
    "outer(10,5)"
   ]
  },
  {
   "cell_type": "code",
   "execution_count": 43,
   "metadata": {},
   "outputs": [
    {
     "name": "stdout",
     "output_type": "stream",
     "text": "20\n"
    }
   ],
   "source": [
    "sum(19,1)"
   ]
  },
  {
   "cell_type": "code",
   "execution_count": 44,
   "metadata": {},
   "outputs": [],
   "source": [
    "def outer():\n",
    "    def inner(a, b):\n",
    "        print(a + b)\n",
    "    return inner"
   ]
  },
  {
   "cell_type": "code",
   "execution_count": 46,
   "metadata": {},
   "outputs": [
    {
     "data": {
      "text/plain": "<function __main__.outer.<locals>.inner(a, b)>"
     },
     "execution_count": 46,
     "metadata": {},
     "output_type": "execute_result"
    }
   ],
   "source": [
    "outer()"
   ]
  },
  {
   "cell_type": "code",
   "execution_count": 47,
   "metadata": {},
   "outputs": [
    {
     "name": "stdout",
     "output_type": "stream",
     "text": "15\n"
    }
   ],
   "source": [
    "f = outer()\n",
    "f(10, 5)"
   ]
  },
  {
   "cell_type": "code",
   "execution_count": 53,
   "metadata": {},
   "outputs": [],
   "source": [
    "def somma(a,b):\n",
    "    print(a+b)\n",
    "\n",
    "def sottrai(a,b):\n",
    "    print(a-b)\n",
    "\n",
    "def myFunc(f, x, y):\n",
    "    f(x,y)"
   ]
  },
  {
   "cell_type": "code",
   "execution_count": 54,
   "metadata": {},
   "outputs": [
    {
     "name": "stdout",
     "output_type": "stream",
     "text": "15\n5\n"
    }
   ],
   "source": [
    "myFunc(somma, 10, 5) \n",
    "myFunc(sottrai, 10, 5) # ho passato la funzione come argomento oggetto funzione"
   ]
  },
  {
   "cell_type": "markdown",
   "execution_count": null,
   "metadata": {},
   "outputs": [],
   "source": [
    "## Namespace e Scope"
   ]
  },
  {
   "cell_type": "markdown",
   "execution_count": 4,
   "metadata": {},
   "outputs": [
    {
     "ename": "SyntaxError",
     "evalue": "invalid syntax (<ipython-input-4-1f8cbe22b74e>, line 1)",
     "output_type": "error",
     "traceback": [
      "\u001b[0;36m  File \u001b[0;32m\"<ipython-input-4-1f8cbe22b74e>\"\u001b[0;36m, line \u001b[0;32m1\u001b[0m\n\u001b[0;31m    Namspace:\u001b[0m\n\u001b[0m             ^\u001b[0m\n\u001b[0;31mSyntaxError\u001b[0m\u001b[0;31m:\u001b[0m invalid syntax\n"
     ]
    }
   ],
   "source": [
    "Namspace:\n",
    "\n",
    "1. mappatura di nomi ad oggetti\n",
    "2. namespace multipli, a Runtime \n",
    "3. organizzati in una gerarchia\n",
    "4. cicli di vita differenti"
   ]
  },
  {
   "cell_type": "markdown",
   "execution_count": null,
   "metadata": {},
   "outputs": [],
   "source": [
    "Scope:\n",
    "\n",
    "area di codice che determona il namespace da utilizzare per la risoluzione dei nomi."
   ]
  },
  {
   "cell_type": "markdown",
   "execution_count": null,
   "metadata": {},
   "outputs": [],
   "source": [
    "Namespace: gerarchia LEGB:\n",
    "* local\n",
    "* enclosed\n",
    "* global\n",
    "* built-in"
   ]
  },
  {
   "cell_type": "markdown",
   "execution_count": null,
   "metadata": {},
   "outputs": [],
   "source": [
    "## local scope\n",
    "livello interno di una funzione, viene creato una volta chiamata la funzione, rimosso una volta ottenuto il ritorno della funzione stessa."
   ]
  },
  {
   "cell_type": "markdown",
   "execution_count": null,
   "metadata": {},
   "outputs": [],
   "source": [
    "E' il primo punto dove python cerca di risolvere i nomi!"
   ]
  },
  {
   "cell_type": "markdown",
   "execution_count": 5,
   "metadata": {},
   "outputs": [
    {
     "ename": "SyntaxError",
     "evalue": "invalid syntax (<ipython-input-5-8c18c057948e>, line 2)",
     "output_type": "error",
     "traceback": [
      "\u001b[0;36m  File \u001b[0;32m\"<ipython-input-5-8c18c057948e>\"\u001b[0;36m, line \u001b[0;32m2\u001b[0m\n\u001b[0;31m    nel caso di funzioni nidificate è il secondo punto in cui viene cercata la risoluzione de nomi.m\u001b[0m\n\u001b[0m           ^\u001b[0m\n\u001b[0;31mSyntaxError\u001b[0m\u001b[0;31m:\u001b[0m invalid syntax\n"
     ]
    }
   ],
   "source": [
    "## enclosed\n",
    "nel caso di funzioni nidificate è il secondo punto in cui viene cercata la risoluzione de nomi.m"
   ]
  },
  {
   "cell_type": "markdown",
   "execution_count": null,
   "metadata": {},
   "outputs": [],
   "source": [
    "```\n",
    "def outer(x):\n",
    "    y = 20\n",
    "    def inner():\n",
    "        print(x+y)\n",
    "    "
   ]
  },
  {
   "cell_type": "markdown",
   "execution_count": null,
   "metadata": {},
   "outputs": [],
   "source": [
    "## global namespace\n",
    "Tutti i nomi definiti dal livello del sorgente quando i nomi sono indicati al di fuori di tutte le funzioni."
   ]
  },
  {
   "cell_type": "markdown",
   "execution_count": null,
   "metadata": {},
   "outputs": [],
   "source": [
    "```\n",
    "x = 20\n",
    "def miaFunc(y):\n",
    "    print(x + y)"
   ]
  },
  {
   "cell_type": "markdown",
   "execution_count": 6,
   "metadata": {},
   "outputs": [
    {
     "ename": "SyntaxError",
     "evalue": "invalid syntax (<ipython-input-6-57b3d3dc0ead>, line 2)",
     "output_type": "error",
     "traceback": [
      "\u001b[0;36m  File \u001b[0;32m\"<ipython-input-6-57b3d3dc0ead>\"\u001b[0;36m, line \u001b[0;32m2\u001b[0m\n\u001b[0;31m    Definto direttamente dall'ambiente di runtime di python, contiene, ad esempio, la risoluzione print, list, dict, tuple, ...m\u001b[0m\n\u001b[0m                       ^\u001b[0m\n\u001b[0;31mSyntaxError\u001b[0m\u001b[0;31m:\u001b[0m invalid syntax\n"
     ]
    }
   ],
   "source": [
    "## Built-In namespace (predefinito)\n",
    "Definto direttamente dall'ambiente di runtime di python, contiene, ad esempio, la risoluzione print, list, dict, tuple, ..."
   ]
  },
  {
   "cell_type": "markdown",
   "execution_count": null,
   "metadata": {},
   "outputs": [],
   "source": [
    "## Global e Nonlocal"
   ]
  },
  {
   "cell_type": "markdown",
   "execution_count": 7,
   "metadata": {},
   "outputs": [
    {
     "ename": "SyntaxError",
     "evalue": "invalid syntax (<ipython-input-7-5bb039df44f5>, line 1)",
     "output_type": "error",
     "traceback": [
      "\u001b[0;36m  File \u001b[0;32m\"<ipython-input-7-5bb039df44f5>\"\u001b[0;36m, line \u001b[0;32m1\u001b[0m\n\u001b[0;31m    Servono ad alterare la gerarchia standard nella ricerca della risoluzione dei nomi da parte di python.\u001b[0m\n\u001b[0m             ^\u001b[0m\n\u001b[0;31mSyntaxError\u001b[0m\u001b[0;31m:\u001b[0m invalid syntax\n"
     ]
    }
   ],
   "source": [
    "Servono ad alterare la gerarchia standard nella ricerca della risoluzione dei nomi da parte di python."
   ]
  },
  {
   "cell_type": "markdown",
   "execution_count": null,
   "metadata": {},
   "outputs": [],
   "source": [
    "Variabile Hiding:\n",
    "\n",
    "se utilizziamo un nome di variabile già presente a livelli di scope più alti, questa avrà la precedenza sulle altre, in un certo senso nascondendole!"
   ]
  },
  {
   "cell_type": "markdown",
   "execution_count": null,
   "metadata": {},
   "outputs": [],
   "source": [
    "Per alterare questo comportamento utilizziamo la parola $\\color{red}{global}$"
   ]
  },
  {
   "cell_type": "markdown",
   "execution_count": null,
   "metadata": {},
   "outputs": [],
   "source": [
    "```\n",
    "x = 100\n",
    "def myFunc():\n",
    "    global x\n",
    "    x = 20\n",
    "    print(x)"
   ]
  },
  {
   "cell_type": "markdown",
   "execution_count": 8,
   "metadata": {},
   "outputs": [
    {
     "ename": "SyntaxError",
     "evalue": "invalid syntax (<ipython-input-8-3567005c63b4>, line 1)",
     "output_type": "error",
     "traceback": [
      "\u001b[0;36m  File \u001b[0;32m\"<ipython-input-8-3567005c63b4>\"\u001b[0;36m, line \u001b[0;32m1\u001b[0m\n\u001b[0;31m    In questo caso abbiamo alterato la variabile globale!\u001b[0m\n\u001b[0m            ^\u001b[0m\n\u001b[0;31mSyntaxError\u001b[0m\u001b[0;31m:\u001b[0m invalid syntax\n"
     ]
    }
   ],
   "source": [
    "In questo caso abbiamo alterato la variabile globale!"
   ]
  },
  {
   "cell_type": "markdown",
   "execution_count": 9,
   "metadata": {},
   "outputs": [
    {
     "ename": "SyntaxError",
     "evalue": "invalid syntax (<ipython-input-9-322b097c8fbc>, line 1)",
     "output_type": "error",
     "traceback": [
      "\u001b[0;36m  File \u001b[0;32m\"<ipython-input-9-322b097c8fbc>\"\u001b[0;36m, line \u001b[0;32m1\u001b[0m\n\u001b[0;31m    Nonlocal cerca la variabile nel namespace della funzione madre (in funzioni nidificate).m\u001b[0m\n\u001b[0m                 ^\u001b[0m\n\u001b[0;31mSyntaxError\u001b[0m\u001b[0;31m:\u001b[0m invalid syntax\n"
     ]
    }
   ],
   "source": [
    "Nonlocal cerca la variabile nel namespace della funzione madre (in funzioni nidificate).m"
   ]
  },
  {
   "cell_type": "code",
   "execution_count": 12,
   "metadata": {},
   "outputs": [],
   "source": [
    "def outer():\n",
    "    y = 20\n",
    "    def inner():\n",
    "        nonlocal y\n",
    "        y = 50\n",
    "        print(\"variabile in inner %s\" %(y))\n",
    "    inner()\n",
    "    print(\"variabile in outer %s\" %(y))"
   ]
  },
  {
   "cell_type": "code",
   "execution_count": 13,
   "metadata": {},
   "outputs": [
    {
     "name": "stdout",
     "output_type": "stream",
     "text": "variabile in inner 50\nvariabile in outer 50\n"
    }
   ],
   "source": [
    "outer()"
   ]
  },
  {
   "cell_type": "markdown",
   "execution_count": 14,
   "metadata": {},
   "outputs": [],
   "source": [
    "# Function Decorator (decoratori di funzione)"
   ]
  },
  {
   "cell_type": "markdown",
   "execution_count": null,
   "metadata": {},
   "outputs": [],
   "source": [
    "Un decoratore di una funzione è una funzione che prende in input una funzione, la decora con altri contenuti e restituisce il nuovo valore."
   ]
  },
  {
   "cell_type": "markdown",
   "execution_count": null,
   "metadata": {},
   "outputs": [],
   "source": [
    "Utilizzo: modificare il comportamento di una funzione senza alterarne il codice sorgente!"
   ]
  },
  {
   "cell_type": "code",
   "execution_count": 24,
   "metadata": {},
   "outputs": [],
   "source": [
    "def myDecorator(f):\n",
    "    def decorator():\n",
    "        print(\"ho decorato\")\n",
    "        f()\n",
    "    return decorator"
   ]
  },
  {
   "cell_type": "code",
   "execution_count": 25,
   "metadata": {},
   "outputs": [],
   "source": [
    "def myFunc():\n",
    "    print(\"la funzione myFunc\")"
   ]
  },
  {
   "cell_type": "code",
   "execution_count": 26,
   "metadata": {},
   "outputs": [],
   "source": [
    "decorata = myDecorator(myFunc)"
   ]
  },
  {
   "cell_type": "code",
   "execution_count": 27,
   "metadata": {},
   "outputs": [
    {
     "name": "stdout",
     "output_type": "stream",
     "text": "ho decorato\nla funzione myFunc\n"
    }
   ],
   "source": [
    "decorata()"
   ]
  },
  {
   "cell_type": "code",
   "execution_count": 29,
   "metadata": {},
   "outputs": [],
   "source": [
    "## con il decoratore..."
   ]
  },
  {
   "cell_type": "code",
   "execution_count": 30,
   "metadata": {},
   "outputs": [],
   "source": [
    "def myDecorator(f):\n",
    "    def decorator():\n",
    "        print(\"ho decorato con il decoratore\")\n",
    "        f()\n",
    "    return decorator"
   ]
  },
  {
   "cell_type": "code",
   "execution_count": 31,
   "metadata": {},
   "outputs": [],
   "source": [
    "@myDecorator\n",
    "def myFunc():\n",
    "    print(\"la funzione myFunc\")"
   ]
  },
  {
   "cell_type": "code",
   "execution_count": 32,
   "metadata": {},
   "outputs": [
    {
     "name": "stdout",
     "output_type": "stream",
     "text": "ho decorato con il decoratore\nla funzione myFunc\n"
    }
   ],
   "source": [
    "myFunc()"
   ]
  },
  {
   "cell_type": "code",
   "execution_count": 33,
   "metadata": {},
   "outputs": [],
   "source": [
    "def mioDecoratore(func_destinazione):\n",
    "    def wrapper(*args):\n",
    "        print(\"elementi prima della funzione\")\n",
    "        func_destinazione()\n",
    "        print(\"elementi dopo la funzione\")\n",
    "    return wrapper"
   ]
  },
  {
   "cell_type": "markdown",
   "execution_count": null,
   "metadata": {},
   "outputs": [],
   "source": [
    "> Nel caso in cui volessimo eseguire una funzione decorate SENZA decoratore, dopo aver importato \n",
    "\n",
    "```\n",
    "from undecorated import undecorated (pip install)\n",
    "```\n",
    "useremo la sintassi ```undecorated(funzione)(parametri)```"
   ]
  },
  {
   "cell_type": "markdown",
   "execution_count": null,
   "metadata": {},
   "outputs": [],
   "source": [
    "Quindi se chiameremo la funzione decorata direttamente otterremo la decorazione come previsto, se useremo undecorated... otterremo la funzione NON decorata!"
   ]
  },
  {
   "cell_type": "markdown",
   "execution_count": null,
   "metadata": {},
   "outputs": [],
   "source": [
    "# Lambda function"
   ]
  },
  {
   "cell_type": "markdown",
   "execution_count": null,
   "metadata": {},
   "outputs": [],
   "source": [
    "Un'espressione che genera un oggetto funzione!"
   ]
  },
  {
   "cell_type": "markdown",
   "execution_count": null,
   "metadata": {},
   "outputs": [],
   "source": [
    "Lambda ritorna una funzione $\\color{green}{anonima}$"
   ]
  },
  {
   "cell_type": "markdown",
   "execution_count": null,
   "metadata": {},
   "outputs": [],
   "source": [
    "```lambda arg1, arg2, argN : expression (con gli argomenti)```"
   ]
  },
  {
   "cell_type": "code",
   "execution_count": 48,
   "metadata": {},
   "outputs": [],
   "source": [
    "risultato = lambda x,y : x * y\n"
   ]
  },
  {
   "cell_type": "code",
   "execution_count": 51,
   "metadata": {},
   "outputs": [
    {
     "name": "stdout",
     "output_type": "stream",
     "text": "il valore richiesto è  6\n"
    }
   ],
   "source": [
    "print(\"il valore richiesto è \", risultato(2,3))"
   ]
  },
  {
   "cell_type": "markdown",
   "execution_count": null,
   "metadata": {},
   "outputs": [],
   "source": [
    "# Object-Orientation"
   ]
  },
  {
   "cell_type": "markdown",
   "execution_count": null,
   "metadata": {},
   "outputs": [],
   "source": [
    "* definizione di classi\n",
    "* creazione istanze di classi\n",
    "* come strutturare le classi in gerarchie di generalizzazione\n"
   ]
  },
  {
   "cell_type": "markdown",
   "execution_count": null,
   "metadata": {},
   "outputs": [],
   "source": [
    "## Classi ed Istanze"
   ]
  },
  {
   "cell_type": "markdown",
   "execution_count": 81,
   "metadata": {},
   "outputs": [
    {
     "ename": "SyntaxError",
     "evalue": "invalid syntax (<ipython-input-81-6aceab0fe746>, line 1)",
     "output_type": "error",
     "traceback": [
      "\u001b[0;36m  File \u001b[0;32m\"<ipython-input-81-6aceab0fe746>\"\u001b[0;36m, line \u001b[0;32m1\u001b[0m\n\u001b[0;31m    funzioni --> metodi di classem\u001b[0m\n\u001b[0m               ^\u001b[0m\n\u001b[0;31mSyntaxError\u001b[0m\u001b[0;31m:\u001b[0m invalid syntax\n"
     ]
    }
   ],
   "source": [
    "funzioni --> metodi di classe"
   ]
  },
  {
   "cell_type": "markdown",
   "execution_count": null,
   "metadata": {},
   "outputs": [],
   "source": [
    "## Lo Statement Class\n",
    "Un oggetto composto che serve a creare degli oggetti attraverso la sua istanziazione."
   ]
  },
  {
   "cell_type": "markdown",
   "execution_count": null,
   "metadata": {},
   "outputs": [],
   "source": [
    "```\n",
    "class Classname(base-classes): (base-classes sono le superclassi, le classi padre)\n",
    "    statements\n",
    "    "
   ]
  },
  {
   "cell_type": "markdown",
   "execution_count": null,
   "metadata": {},
   "outputs": [],
   "source": [
    "Nello statement ci saranno metodi ed attributi della classe..."
   ]
  },
  {
   "cell_type": "code",
   "execution_count": 83,
   "metadata": {},
   "outputs": [],
   "source": [
    "class MyClass: # la convenzione python prevede la lettera maiuscola per le classi\n",
    "    pass"
   ]
  },
  {
   "cell_type": "markdown",
   "execution_count": null,
   "metadata": {},
   "outputs": [],
   "source": [
    "Non abbiamo usato le parentesi tonde, indicando che la classe di orgine è la object, propria di python..."
   ]
  },
  {
   "cell_type": "markdown",
   "execution_count": null,
   "metadata": {},
   "outputs": [],
   "source": [
    "istanza di una classe:\n",
    "\n",
    "```\n",
    "myObj = MyClass()\n",
    "```"
   ]
  },
  {
   "cell_type": "markdown",
   "execution_count": null,
   "metadata": {},
   "outputs": [],
   "source": [
    "## Attributi di Classe\n",
    "Gli attributi possono essere di classe o di istanza. \n",
    "* attributi di classe: condivisi da tutte le istanze della classe\n",
    "* attributi di istanza: propri di quella e solo quella istanza, non della classe"
   ]
  },
  {
   "cell_type": "code",
   "execution_count": 1,
   "metadata": {},
   "outputs": [],
   "source": [
    "class MyClass:\n",
    "    myAttr = 10"
   ]
  },
  {
   "cell_type": "code",
   "execution_count": 3,
   "metadata": {},
   "outputs": [],
   "source": [
    "m1 = MyClass()\n",
    "m2 = MyClass()"
   ]
  },
  {
   "cell_type": "code",
   "execution_count": 6,
   "metadata": {},
   "outputs": [
    {
     "data": {
      "text/plain": "10"
     },
     "execution_count": 6,
     "metadata": {},
     "output_type": "execute_result"
    }
   ],
   "source": [
    "m1.myAttr"
   ]
  },
  {
   "cell_type": "code",
   "execution_count": 7,
   "metadata": {},
   "outputs": [
    {
     "data": {
      "text/plain": "40"
     },
     "execution_count": 7,
     "metadata": {},
     "output_type": "execute_result"
    }
   ],
   "source": [
    "m2.myAttr = 40\n",
    "m2.myAttr"
   ]
  },
  {
   "cell_type": "code",
   "execution_count": 9,
   "metadata": {},
   "outputs": [],
   "source": [
    "m2.attributo = 555"
   ]
  },
  {
   "cell_type": "code",
   "execution_count": 12,
   "metadata": {},
   "outputs": [
    {
     "name": "stdout",
     "output_type": "stream",
     "text": "40\n555\n"
    }
   ],
   "source": [
    "print(m2.myAttr)\n",
    "print(m2.attributo) # non è presente nella classe, diventa un attributo di istanza!"
   ]
  },
  {
   "cell_type": "markdown",
   "execution_count": null,
   "metadata": {},
   "outputs": [],
   "source": [
    "## Metodi di istanza"
   ]
  },
  {
   "cell_type": "code",
   "execution_count": 20,
   "metadata": {},
   "outputs": [],
   "source": [
    "class MyClass:\n",
    "    def myMethod(self):\n",
    "        print(id(self)) # metodo di classe e self che rappresenta l'istanza invocata dal                           metodo"
   ]
  },
  {
   "cell_type": "code",
   "execution_count": 21,
   "metadata": {},
   "outputs": [],
   "source": [
    "m1= MyClass()\n",
    "m2 = MyClass()"
   ]
  },
  {
   "cell_type": "code",
   "execution_count": 23,
   "metadata": {},
   "outputs": [
    {
     "name": "stdout",
     "output_type": "stream",
     "text": "140538000774736\n"
    }
   ],
   "source": [
    "m1.myMethod()"
   ]
  },
  {
   "cell_type": "code",
   "execution_count": 24,
   "metadata": {},
   "outputs": [
    {
     "name": "stdout",
     "output_type": "stream",
     "text": "140538000774544\n"
    }
   ],
   "source": [
    "m2.myMethod()"
   ]
  },
  {
   "cell_type": "code",
   "execution_count": 25,
   "metadata": {},
   "outputs": [
    {
     "name": "stdout",
     "output_type": "stream",
     "text": "140538000774736\n"
    }
   ],
   "source": [
    "MyClass.myMethod(m1)"
   ]
  },
  {
   "cell_type": "code",
   "execution_count": 26,
   "metadata": {},
   "outputs": [
    {
     "name": "stdout",
     "output_type": "stream",
     "text": "140538000774544\n"
    }
   ],
   "source": [
    "MyClass.myMethod(m2)"
   ]
  },
  {
   "cell_type": "markdown",
   "execution_count": null,
   "metadata": {},
   "outputs": [],
   "source": [
    "## Attributi di ISTANZA"
   ]
  },
  {
   "cell_type": "code",
   "execution_count": 27,
   "metadata": {},
   "outputs": [],
   "source": [
    "class MyClass:\n",
    "    def setMessage(self, message):\n",
    "        self.message = message\n",
    "    def printMessage(self):\n",
    "        print(self.message)"
   ]
  },
  {
   "cell_type": "markdown",
   "execution_count": null,
   "metadata": {},
   "outputs": [],
   "source": [
    "In questo codice c'è un problema: se chiamiamo in istanza direttamente il metodo printMessage, otterremo un errore in quanto non è stato settato il messaggio; per ovviare a questo problema dovremo definire dei metodi di inizializzazione."
   ]
  },
  {
   "cell_type": "markdown",
   "execution_count": null,
   "metadata": {},
   "outputs": [],
   "source": [
    "## il costruttore __init__\n",
    "Viene chiamato sempre ed automaticamente ogni volta che una istanza di classe viene attivata."
   ]
  },
  {
   "cell_type": "code",
   "execution_count": 30,
   "metadata": {},
   "outputs": [],
   "source": [
    "class MyClass:\n",
    "    def __init__(self, message):\n",
    "        self.message = message\n",
    "    def printMessage(self):\n",
    "        print(self.message)"
   ]
  },
  {
   "cell_type": "code",
   "execution_count": 31,
   "metadata": {},
   "outputs": [
    {
     "ename": "TypeError",
     "evalue": "__init__() missing 1 required positional argument: 'message'",
     "output_type": "error",
     "traceback": [
      "\u001b[0;31m---------------------------------------------------------------------------\u001b[0m",
      "\u001b[0;31mTypeError\u001b[0m                                 Traceback (most recent call last)",
      "\u001b[0;32m<ipython-input-31-f7aebff7631d>\u001b[0m in \u001b[0;36m<module>\u001b[0;34m\u001b[0m\n\u001b[0;32m----> 1\u001b[0;31m \u001b[0mm1\u001b[0m \u001b[0;34m=\u001b[0m \u001b[0mMyClass\u001b[0m\u001b[0;34m(\u001b[0m\u001b[0;34m)\u001b[0m\u001b[0;34m\u001b[0m\u001b[0;34m\u001b[0m\u001b[0m\n\u001b[0m",
      "\u001b[0;31mTypeError\u001b[0m: __init__() missing 1 required positional argument: 'message'"
     ]
    }
   ],
   "source": [
    "m1 = MyClass()"
   ]
  },
  {
   "cell_type": "code",
   "execution_count": 32,
   "metadata": {},
   "outputs": [],
   "source": [
    "m1 = MyClass(\"ciao\")"
   ]
  },
  {
   "cell_type": "code",
   "execution_count": 35,
   "metadata": {},
   "outputs": [
    {
     "name": "stdout",
     "output_type": "stream",
     "text": "ciao\n"
    }
   ],
   "source": [
    "m1.printMessage()"
   ]
  },
  {
   "cell_type": "markdown",
   "execution_count": null,
   "metadata": {},
   "outputs": [],
   "source": [
    "## Metodi di classe\n",
    "Eseguiti non sulle istanze ma proprio sull'oggetto classe!"
   ]
  },
  {
   "cell_type": "code",
   "execution_count": 43,
   "metadata": {},
   "outputs": [],
   "source": [
    "class MyClass:\n",
    "    counter = 0 #attributo della classe\n",
    "    def __init__(self):\n",
    "        MyClass.counter += 1\n",
    "    @classmethod\n",
    "    def istanze(cls): # cls indica l'oggetto classe\n",
    "        print(cls.counter)"
   ]
  },
  {
   "cell_type": "code",
   "execution_count": 44,
   "metadata": {},
   "outputs": [],
   "source": [
    "m1 = MyClass()\n",
    "m2 = MyClass()\n",
    "m3 = MyClass()"
   ]
  },
  {
   "cell_type": "code",
   "execution_count": 45,
   "metadata": {},
   "outputs": [
    {
     "name": "stdout",
     "output_type": "stream",
     "text": "3\n"
    }
   ],
   "source": [
    "MyClass.istanze()"
   ]
  },
  {
   "cell_type": "code",
   "execution_count": null,
   "metadata": {},
   "outputs": [],
   "source": []
  },
  {
   "cell_type": "markdown",
   "execution_count": 46,
   "metadata": {},
   "outputs": [],
   "source": [
    "## STATIC Methods"
   ]
  },
  {
   "cell_type": "code",
   "execution_count": 47,
   "metadata": {},
   "outputs": [],
   "source": [
    "class MyClass:\n",
    "    @staticmethod\n",
    "    def somma(a,b):\n",
    "        return(a + b)"
   ]
  },
  {
   "cell_type": "code",
   "execution_count": 48,
   "metadata": {},
   "outputs": [
    {
     "name": "stdout",
     "output_type": "stream",
     "text": "15\n"
    }
   ],
   "source": [
    "s = MyClass.somma(10,5)\n",
    "print(s)"
   ]
  },
  {
   "cell_type": "markdown",
   "execution_count": null,
   "metadata": {},
   "outputs": [],
   "source": [
    "Non si riferisce alle classi e nemmeno alle istanze!"
   ]
  },
  {
   "cell_type": "markdown",
   "execution_count": null,
   "metadata": {},
   "outputs": [],
   "source": [
    "# Inheritance (ereditarietà)"
   ]
  },
  {
   "cell_type": "code",
   "execution_count": 2,
   "metadata": {},
   "outputs": [],
   "source": [
    "class BClass: #superclasse\n",
    "    pass\n",
    "\n",
    "class AClass(BClass):\n",
    "    pass"
   ]
  },
  {
   "cell_type": "markdown",
   "execution_count": null,
   "metadata": {},
   "outputs": [],
   "source": [
    "La funzione isinstance\n",
    "```\n",
    "m1 = AClass()\n",
    "isinstance(m1, AClass) True\n",
    "isinstance(m1, BClass) True\n"
   ]
  },
  {
   "cell_type": "code",
   "execution_count": 3,
   "metadata": {},
   "outputs": [],
   "source": [
    "m1 = AClass()"
   ]
  },
  {
   "cell_type": "code",
   "execution_count": 4,
   "metadata": {},
   "outputs": [
    {
     "data": {
      "text/plain": "True"
     },
     "execution_count": 4,
     "metadata": {},
     "output_type": "execute_result"
    }
   ],
   "source": [
    "isinstance(m1, BClass)"
   ]
  },
  {
   "cell_type": "markdown",
   "execution_count": null,
   "metadata": {},
   "outputs": [],
   "source": [
    "## Override\n",
    "Possiamo ridefinire un attributo all'ìnterno di una sottoclasse"
   ]
  },
  {
   "cell_type": "code",
   "execution_count": 7,
   "metadata": {},
   "outputs": [],
   "source": [
    "class BClass:\n",
    "    def setMessage(self, message):\n",
    "        self.message = message\n",
    "    def printMessage(self):\n",
    "        print(self.message)\n",
    "\n",
    "class AClass(BClass):\n",
    "    def printMessage(self):\n",
    "        print(\"AClass \" + self.message)"
   ]
  },
  {
   "cell_type": "code",
   "execution_count": 8,
   "metadata": {},
   "outputs": [
    {
     "name": "stdout",
     "output_type": "stream",
     "text": "AClass andrea\n"
    }
   ],
   "source": [
    "m1 = AClass()\n",
    "m1.setMessage(\"andrea\")\n",
    "m1.printMessage()"
   ]
  },
  {
   "cell_type": "markdown",
   "execution_count": null,
   "metadata": {},
   "outputs": [],
   "source": [
    "Questo metodo non è un metodo corretto, vediamo la procedura corretta con il costruttore.\n",
    "Infatti quando invochiamo la sottoclasse, se questa ha un suo costruttore viene usato ma, nella sintassi utilizzata, non viene considerato il costruttore della superclasse, viene sovrascritto il costruttore!"
   ]
  },
  {
   "cell_type": "markdown",
   "execution_count": null,
   "metadata": {},
   "outputs": [],
   "source": [
    "# la funzione SUPER"
   ]
  },
  {
   "cell_type": "code",
   "execution_count": 3,
   "metadata": {},
   "outputs": [],
   "source": [
    "class BClass:\n",
    "    def __init__(self, message):\n",
    "        self.message = message\n",
    "    def printMessage(self):\n",
    "        print(self.message)\n",
    "    def scatola(self):\n",
    "        scatola = \"BICHER\"\n",
    "        return scatola\n",
    "\n",
    "class AClass(BClass):\n",
    "    def __init__(self, message, valore):\n",
    "        super().__init__(message)\n",
    "        self.valore = valore"
   ]
  },
  {
   "cell_type": "code",
   "execution_count": 4,
   "metadata": {},
   "outputs": [],
   "source": [
    "m1 = AClass(\"andrea\", 100)"
   ]
  },
  {
   "cell_type": "code",
   "execution_count": 5,
   "metadata": {},
   "outputs": [
    {
     "name": "stdout",
     "output_type": "stream",
     "text": "andrea\n"
    }
   ],
   "source": [
    "m1.printMessage()"
   ]
  },
  {
   "cell_type": "code",
   "execution_count": 6,
   "metadata": {},
   "outputs": [
    {
     "data": {
      "text/plain": "100"
     },
     "execution_count": 6,
     "metadata": {},
     "output_type": "execute_result"
    }
   ],
   "source": [
    "m1.valore"
   ]
  },
  {
   "cell_type": "markdown",
   "execution_count": null,
   "metadata": {},
   "outputs": [],
   "source": [
    "non si usa solo per invocare init della superclasse, ma per accedere a tutto il contenuto della stessa:"
   ]
  },
  {
   "cell_type": "code",
   "execution_count": 7,
   "metadata": {},
   "outputs": [],
   "source": [
    "class CClass(BClass):\n",
    "    def __init__(self, name):\n",
    "        self.nome = name\n",
    "        super().scatola()\n",
    "    "
   ]
  },
  {
   "cell_type": "code",
   "execution_count": 11,
   "metadata": {},
   "outputs": [],
   "source": [
    "m2 = CClass(\"valerio\")"
   ]
  },
  {
   "cell_type": "code",
   "execution_count": 13,
   "metadata": {},
   "outputs": [
    {
     "data": {
      "text/plain": "'BICHER'"
     },
     "execution_count": 13,
     "metadata": {},
     "output_type": "execute_result"
    }
   ],
   "source": [
    "m2.scatola()"
   ]
  },
  {
   "cell_type": "markdown",
   "execution_count": null,
   "metadata": {},
   "outputs": [],
   "source": [
    "## Properties\n",
    "Information HIDING\n",
    "possibilità di rendere privati degli attributi che rappresentano dei dati, nascosti all'esterno della classe. i Metodi setter e getter settano e leggono gli attributi privati.\n"
   ]
  },
  {
   "cell_type": "code",
   "execution_count": 20,
   "metadata": {},
   "outputs": [],
   "source": [
    "class MyClass:\n",
    "    def __init__(self, my_attr):\n",
    "        self.priv_attr = my_attr\n",
    "    def get_attr(self):\n",
    "        return self.priv_attr\n",
    "    def set_attr(self, attr):\n",
    "        self.priv_attr = attr\n",
    "    \n",
    "    attr = property(get_attr, set_attr) # costruiamo una proprietà che nasconde attr"
   ]
  },
  {
   "cell_type": "code",
   "execution_count": 21,
   "metadata": {},
   "outputs": [
    {
     "data": {
      "text/plain": "'andrea'"
     },
     "execution_count": 21,
     "metadata": {},
     "output_type": "execute_result"
    }
   ],
   "source": [
    "obj = MyClass(\"andrea\")\n",
    "obj.attr"
   ]
  },
  {
   "cell_type": "markdown",
   "execution_count": null,
   "metadata": {},
   "outputs": [],
   "source": [
    "Gli attributi che iniziano con doppio underscore non sono accessibli al di fuori della classe:"
   ]
  },
  {
   "cell_type": "code",
   "execution_count": 26,
   "metadata": {},
   "outputs": [],
   "source": [
    "class MyClass:\n",
    "    def __init__(self, my_attr):\n",
    "        self.__priv_attr = my_attr\n",
    "    def get_attr(self):\n",
    "        return self.__priv_attr\n",
    "    def set_attr(self, attr):\n",
    "        self.__priv_attr = attr\n",
    "    \n",
    "    attr = property(get_attr, set_attr) # costruiamo una proprietà che nasconde attr"
   ]
  },
  {
   "cell_type": "code",
   "execution_count": 28,
   "metadata": {},
   "outputs": [
    {
     "ename": "AttributeError",
     "evalue": "'MyClass' object has no attribute '__private_attr'",
     "output_type": "error",
     "traceback": [
      "\u001b[0;31m---------------------------------------------------------------------------\u001b[0m",
      "\u001b[0;31mAttributeError\u001b[0m                            Traceback (most recent call last)",
      "\u001b[0;32m<ipython-input-28-5efacf79dd33>\u001b[0m in \u001b[0;36m<module>\u001b[0;34m\u001b[0m\n\u001b[1;32m      1\u001b[0m \u001b[0mobj1\u001b[0m \u001b[0;34m=\u001b[0m \u001b[0mMyClass\u001b[0m\u001b[0;34m(\u001b[0m\u001b[0;34m\"nascosto\"\u001b[0m\u001b[0;34m)\u001b[0m\u001b[0;34m\u001b[0m\u001b[0;34m\u001b[0m\u001b[0m\n\u001b[0;32m----> 2\u001b[0;31m \u001b[0mobj1\u001b[0m\u001b[0;34m.\u001b[0m\u001b[0m__private_attr\u001b[0m\u001b[0;34m\u001b[0m\u001b[0;34m\u001b[0m\u001b[0m\n\u001b[0m",
      "\u001b[0;31mAttributeError\u001b[0m: 'MyClass' object has no attribute '__private_attr'"
     ]
    }
   ],
   "source": [
    "obj1 = MyClass(\"nascosto\")\n",
    "obj1.__private_attr"
   ]
  },
  {
   "cell_type": "code",
   "execution_count": 29,
   "metadata": {},
   "outputs": [
    {
     "data": {
      "text/plain": "'nascosto'"
     },
     "execution_count": 29,
     "metadata": {},
     "output_type": "execute_result"
    }
   ],
   "source": [
    "obj1._MyClass__priv_attr # accesso diretto al nostro attributo name Mangling"
   ]
  },
  {
   "cell_type": "markdown",
   "execution_count": null,
   "metadata": {},
   "outputs": [],
   "source": [
    "## Property Decorators"
   ]
  },
  {
   "cell_type": "markdown",
   "execution_count": null,
   "metadata": {},
   "outputs": [],
   "source": [
    "Le proprietà forniscono un modo di personalizzare l’accesso agli attributi dell’istanza. Per crearli, si utilizza il decoratore @property messo prima del metodo. Il loro scopo è quello di definire attributi read-only (non possono essere modificati). "
   ]
  },
  {
   "cell_type": "markdown",
   "execution_count": null,
   "metadata": {},
   "outputs": [],
   "source": [
    "```\n",
    "@property (decoratore del metodo getter)\n",
    "@name.setter (decoratore del metodo setter)"
   ]
  },
  {
   "cell_type": "code",
   "execution_count": 54,
   "metadata": {},
   "outputs": [],
   "source": [
    "class MyClass():\n",
    "    def __init__(self, my_attr):\n",
    "        self.__priv_attr = my_attr\n",
    "\n",
    "    def metodoPrivato(self):\n",
    "        print(\"Ciao\") #questo metodo non può essere chiamato fuori dalla classe!\n",
    "\n",
    "    @property\n",
    "    def attr(self):\n",
    "        return self.__priv_attr\n",
    "\n",
    "    @attr.setter\n",
    "    def attr(self, my_attr):\n",
    "        self.__priv_attr = my_attr\n"
   ]
  },
  {
   "cell_type": "code",
   "execution_count": 55,
   "metadata": {},
   "outputs": [
    {
     "data": {
      "text/plain": "'decorato'"
     },
     "execution_count": 55,
     "metadata": {},
     "output_type": "execute_result"
    }
   ],
   "source": [
    "obj = MyClass(\"decorato\")\n",
    "obj.attr"
   ]
  },
  {
   "cell_type": "code",
   "execution_count": 56,
   "metadata": {},
   "outputs": [
    {
     "ename": "AttributeError",
     "evalue": "'MyClass' object has no attribute '__metodoPrivato'",
     "output_type": "error",
     "traceback": [
      "\u001b[0;31m---------------------------------------------------------------------------\u001b[0m",
      "\u001b[0;31mAttributeError\u001b[0m                            Traceback (most recent call last)",
      "\u001b[0;32m<ipython-input-56-606cd4ed12cc>\u001b[0m in \u001b[0;36m<module>\u001b[0;34m\u001b[0m\n\u001b[0;32m----> 1\u001b[0;31m \u001b[0mobj\u001b[0m\u001b[0;34m.\u001b[0m\u001b[0m__metodoPrivato\u001b[0m\u001b[0;34m(\u001b[0m\u001b[0;34m)\u001b[0m\u001b[0;34m\u001b[0m\u001b[0;34m\u001b[0m\u001b[0m\n\u001b[0m",
      "\u001b[0;31mAttributeError\u001b[0m: 'MyClass' object has no attribute '__metodoPrivato'"
     ]
    }
   ],
   "source": [
    "\n",
    "obj.__metodoPrivato()"
   ]
  },
  {
   "cell_type": "code",
   "execution_count": null,
   "metadata": {},
   "outputs": [],
   "source": []
  },
  {
   "cell_type": "markdown",
   "execution_count": null,
   "metadata": {},
   "outputs": [],
   "source": [
    "# Exceptions"
   ]
  },
  {
   "cell_type": "markdown",
   "execution_count": null,
   "metadata": {},
   "outputs": [],
   "source": [
    "Le eccezioni sono degli oggetti che appartengono ad una gerarchia base di python, ma possiamo anche crearne di nuove secondo le nostre necessità!"
   ]
  },
  {
   "cell_type": "code",
   "execution_count": 16,
   "metadata": {},
   "outputs": [],
   "source": [
    "def myFunc(a,b):\n",
    "    return a // b"
   ]
  },
  {
   "cell_type": "code",
   "execution_count": 17,
   "metadata": {},
   "outputs": [
    {
     "ename": "ZeroDivisionError",
     "evalue": "integer division or modulo by zero",
     "output_type": "error",
     "traceback": [
      "\u001b[0;31m---------------------------------------------------------------------------\u001b[0m",
      "\u001b[0;31mZeroDivisionError\u001b[0m                         Traceback (most recent call last)",
      "\u001b[0;32m<ipython-input-17-c0381f4b20fc>\u001b[0m in \u001b[0;36m<module>\u001b[0;34m\u001b[0m\n\u001b[0;32m----> 1\u001b[0;31m \u001b[0mmyFunc\u001b[0m\u001b[0;34m(\u001b[0m\u001b[0;36m10\u001b[0m\u001b[0;34m,\u001b[0m\u001b[0;36m0\u001b[0m\u001b[0;34m)\u001b[0m\u001b[0;34m\u001b[0m\u001b[0;34m\u001b[0m\u001b[0m\n\u001b[0m",
      "\u001b[0;32m<ipython-input-16-e07cba645158>\u001b[0m in \u001b[0;36mmyFunc\u001b[0;34m(a, b)\u001b[0m\n\u001b[1;32m      1\u001b[0m \u001b[0;32mdef\u001b[0m \u001b[0mmyFunc\u001b[0m\u001b[0;34m(\u001b[0m\u001b[0ma\u001b[0m\u001b[0;34m,\u001b[0m\u001b[0mb\u001b[0m\u001b[0;34m)\u001b[0m\u001b[0;34m:\u001b[0m\u001b[0;34m\u001b[0m\u001b[0;34m\u001b[0m\u001b[0m\n\u001b[0;32m----> 2\u001b[0;31m     \u001b[0;32mreturn\u001b[0m \u001b[0ma\u001b[0m \u001b[0;34m//\u001b[0m \u001b[0mb\u001b[0m\u001b[0;34m\u001b[0m\u001b[0;34m\u001b[0m\u001b[0m\n\u001b[0m",
      "\u001b[0;31mZeroDivisionError\u001b[0m: integer division or modulo by zero"
     ]
    }
   ],
   "source": [
    "myFunc(10,0)"
   ]
  },
  {
   "cell_type": "markdown",
   "execution_count": null,
   "metadata": {},
   "outputs": [],
   "source": [
    "Viene elevata un'eccezione di divisione per ZERO!"
   ]
  },
  {
   "cell_type": "markdown",
   "execution_count": 18,
   "metadata": {},
   "outputs": [
    {
     "ename": "SyntaxError",
     "evalue": "invalid syntax (<ipython-input-18-2ebf36235f1d>, line 1)",
     "output_type": "error",
     "traceback": [
      "\u001b[0;36m  File \u001b[0;32m\"<ipython-input-18-2ebf36235f1d>\"\u001b[0;36m, line \u001b[0;32m1\u001b[0m\n\u001b[0;31m    Nessuno ha detto ha python come gestire questa eccezione e quindi viene invocato il messaggio standard (si tratta di un oggetto). Il runtime prima verifica se noi abbiamo definito un modo per gestire questa eccezione, se non lo trova risale di uno stack alla volta fino ad arrivare alla interruzione del programma mostrando l'errore connesso a questa eccezione.m\u001b[0m\n\u001b[0m             ^\u001b[0m\n\u001b[0;31mSyntaxError\u001b[0m\u001b[0;31m:\u001b[0m invalid syntax\n"
     ]
    }
   ],
   "source": [
    "Nessuno ha detto ha python come gestire questa eccezione e quindi viene invocato il messaggio standard (si tratta di un oggetto). Il runtime prima verifica se noi abbiamo definito un modo per gestire questa eccezione, se non lo trova risale di uno stack alla volta fino ad arrivare alla interruzione del programma mostrando l'errore connesso a questa eccezione."
   ]
  },
  {
   "cell_type": "markdown",
   "execution_count": null,
   "metadata": {},
   "outputs": [],
   "source": [
    "Tutte le eccezioni sono istanze di una particolare classe sempre tutte sottoclassi di BaseException!"
   ]
  },
  {
   "cell_type": "markdown",
   "execution_count": null,
   "metadata": {},
   "outputs": [],
   "source": [
    "ZeroDivisionError ==> ArithmeticError ==> Exception ==> BaseException ==> object"
   ]
  },
  {
   "cell_type": "markdown",
   "execution_count": null,
   "metadata": {},
   "outputs": [],
   "source": [
    "## lo Statement try/except (si tratta di uno statement composto)"
   ]
  },
  {
   "cell_type": "markdown",
   "execution_count": null,
   "metadata": {},
   "outputs": [],
   "source": [
    "```\n",
    "try:\n",
    "\n",
    "    suite\n",
    "\n",
    "except:\n",
    "\n",
    "    suite\n"
   ]
  },
  {
   "cell_type": "code",
   "execution_count": 25,
   "metadata": {},
   "outputs": [],
   "source": [
    "def myFunc(a,b):\n",
    "    try:\n",
    "        a // b\n",
    "    except (ZeroDivisionError, ValueError):\n",
    "        print(\"non posso dividere per zero\")\n",
    "    except IndexError:\n",
    "        print(\"IndexError\")"
   ]
  },
  {
   "cell_type": "code",
   "execution_count": 24,
   "metadata": {},
   "outputs": [
    {
     "name": "stdout",
     "output_type": "stream",
     "text": "non posso dividere per zero\n"
    }
   ],
   "source": [
    "myFunc(120,0)"
   ]
  },
  {
   "cell_type": "code",
   "execution_count": 32,
   "metadata": {},
   "outputs": [],
   "source": [
    "def myFunc(a,b):\n",
    "    try:\n",
    "        return a // b\n",
    "    except ZeroDivisionError as e:\n",
    "        print(\"Errore della funzione\\n\",e.args)"
   ]
  },
  {
   "cell_type": "code",
   "execution_count": 33,
   "metadata": {},
   "outputs": [
    {
     "name": "stdout",
     "output_type": "stream",
     "text": "Errore della funzione\n ('integer division or modulo by zero',)\n"
    }
   ],
   "source": [
    "myFunc(10,0)"
   ]
  },
  {
   "cell_type": "markdown",
   "execution_count": 34,
   "metadata": {},
   "outputs": [
    {
     "ename": "SyntaxError",
     "evalue": "invalid syntax (<ipython-input-34-0d3e6fa3c5cf>, line 1)",
     "output_type": "error",
     "traceback": [
      "\u001b[0;36m  File \u001b[0;32m\"<ipython-input-34-0d3e6fa3c5cf>\"\u001b[0;36m, line \u001b[0;32m1\u001b[0m\n\u001b[0;31m    La clausolo FINALLY viene usata per eseguire sempre, a prescindere dall'errore, una serie di istruzioni.m\u001b[0m\n\u001b[0m              ^\u001b[0m\n\u001b[0;31mSyntaxError\u001b[0m\u001b[0;31m:\u001b[0m invalid syntax\n"
     ]
    }
   ],
   "source": [
    "La clausolo FINALLY viene usata per eseguire sempre, a prescindere dall'errore, una serie di istruzioni."
   ]
  },
  {
   "cell_type": "code",
   "execution_count": 35,
   "metadata": {},
   "outputs": [],
   "source": [
    "def myFunc(a,b):\n",
    "    try:\n",
    "        a // b\n",
    "    except ZeroDivisionError:\n",
    "        print(\"Errore di divisione\")\n",
    "    finally:\n",
    "        print(\"abbiamo provato ad eseguire la tua funzione\")"
   ]
  },
  {
   "cell_type": "code",
   "execution_count": 36,
   "metadata": {},
   "outputs": [
    {
     "name": "stdout",
     "output_type": "stream",
     "text": "abbiamo provato ad eseguire la tua funzione\n"
    }
   ],
   "source": [
    "myFunc(10,6)"
   ]
  },
  {
   "cell_type": "code",
   "execution_count": 37,
   "metadata": {},
   "outputs": [
    {
     "name": "stdout",
     "output_type": "stream",
     "text": "Errore di divisione\nabbiamo provato ad eseguire la tua funzione\n"
    }
   ],
   "source": [
    "myFunc(29,0)"
   ]
  },
  {
   "cell_type": "markdown",
   "execution_count": null,
   "metadata": {},
   "outputs": [],
   "source": [
    "Dopo tutte le clausole except possiamo eseguire una else (se tutto andrà bene verrà eseguita la clausola else). Potremmo usare anche una finally, ma in questo caso else deve essere posta PRIMA della finally."
   ]
  },
  {
   "cell_type": "code",
   "execution_count": 59,
   "metadata": {},
   "outputs": [],
   "source": [
    "def myFunc(a,b):\n",
    "    try:\n",
    "        a // b\n",
    "        risultato = True\n",
    "    except ZeroDivisionError:\n",
    "        print(\"Errore di divisione\")\n",
    "        risultato = False\n",
    "    else:\n",
    "        print(\"tutto a posto, abbiamo eseguito la funzione\")\n",
    "        \n",
    "    finally:\n",
    "        if risultato == True:\n",
    "            print(\"siamo giunti alla fine eseguendo la tua funzione\")\n",
    "        else:\n",
    "            print(\"non abbiamo potuto finire\")\n",
    "        "
   ]
  },
  {
   "cell_type": "code",
   "execution_count": 60,
   "metadata": {},
   "outputs": [
    {
     "name": "stdout",
     "output_type": "stream",
     "text": "tutto a posto, abbiamo eseguito la funzione\nsiamo giunti alla fine eseguendo la tua funzione\n"
    }
   ],
   "source": [
    "myFunc(28,5)"
   ]
  },
  {
   "cell_type": "code",
   "execution_count": 61,
   "metadata": {},
   "outputs": [
    {
     "name": "stdout",
     "output_type": "stream",
     "text": "Errore di divisione\nnon abbiamo potuto finire\n"
    }
   ],
   "source": [
    "myFunc(10,0)"
   ]
  },
  {
   "cell_type": "markdown",
   "execution_count": null,
   "metadata": {},
   "outputs": [],
   "source": [
    "## Gli statement raise ed assert"
   ]
  },
  {
   "cell_type": "markdown",
   "execution_count": null,
   "metadata": {},
   "outputs": [],
   "source": [
    ">> raise si usa per sollevare esplicitamente una eccezione\n",
    "\n",
    "La classe di eccezione dopo raise può essere omessa."
   ]
  },
  {
   "cell_type": "code",
   "execution_count": 62,
   "metadata": {},
   "outputs": [
    {
     "name": "stdout",
     "output_type": "stream",
     "text": "0\n"
    },
    {
     "ename": "IndentationError",
     "evalue": "Errore nel loop (<string>)",
     "output_type": "error",
     "traceback": [
      "Traceback \u001b[0;36m(most recent call last)\u001b[0m:\n",
      "  File \u001b[1;32m\"/home/andrea/.local/lib/python3.7/site-packages/IPython/core/interactiveshell.py\"\u001b[0m, line \u001b[1;32m3319\u001b[0m, in \u001b[1;35mrun_code\u001b[0m\n    exec(code_obj, self.user_global_ns, self.user_ns)\n",
      "\u001b[0;36m  File \u001b[0;32m\"<ipython-input-62-76e0d4921a86>\"\u001b[0;36m, line \u001b[0;32m3\u001b[0;36m, in \u001b[0;35m<module>\u001b[0;36m\u001b[0m\n\u001b[0;31m    raise IndentationError(\"Errore nel loop\")\u001b[0m\n",
      "\u001b[0;36m  File \u001b[0;32m\"<string>\"\u001b[0;36m, line \u001b[0;32munknown\u001b[0m\n\u001b[0;31mIndentationError\u001b[0m\u001b[0;31m:\u001b[0m Errore nel loop\n"
     ]
    }
   ],
   "source": [
    "for i in range(10):\n",
    "    print(i)\n",
    "    raise IndentationError(\"Errore nel loop\")"
   ]
  },
  {
   "cell_type": "markdown",
   "execution_count": null,
   "metadata": {},
   "outputs": [],
   "source": [
    "raise senza classe risolleva una except che precedentemente era stata intercettata."
   ]
  },
  {
   "cell_type": "code",
   "execution_count": 63,
   "metadata": {},
   "outputs": [],
   "source": [
    "def myFunc(a,b):\n",
    "    try:\n",
    "        a // b\n",
    "    except ZeroDivisionError:\n",
    "        print(\"ERRORE\")\n",
    "        raise"
   ]
  },
  {
   "cell_type": "code",
   "execution_count": 64,
   "metadata": {},
   "outputs": [
    {
     "name": "stdout",
     "output_type": "stream",
     "text": "ERRORE\n"
    },
    {
     "ename": "ZeroDivisionError",
     "evalue": "integer division or modulo by zero",
     "output_type": "error",
     "traceback": [
      "\u001b[0;31m---------------------------------------------------------------------------\u001b[0m",
      "\u001b[0;31mZeroDivisionError\u001b[0m                         Traceback (most recent call last)",
      "\u001b[0;32m<ipython-input-64-5540b34fef5d>\u001b[0m in \u001b[0;36m<module>\u001b[0;34m\u001b[0m\n\u001b[0;32m----> 1\u001b[0;31m \u001b[0mmyFunc\u001b[0m\u001b[0;34m(\u001b[0m\u001b[0;36m129\u001b[0m\u001b[0;34m,\u001b[0m\u001b[0;36m0\u001b[0m\u001b[0;34m)\u001b[0m\u001b[0;34m\u001b[0m\u001b[0;34m\u001b[0m\u001b[0m\n\u001b[0m",
      "\u001b[0;32m<ipython-input-63-f194659d205d>\u001b[0m in \u001b[0;36mmyFunc\u001b[0;34m(a, b)\u001b[0m\n\u001b[1;32m      1\u001b[0m \u001b[0;32mdef\u001b[0m \u001b[0mmyFunc\u001b[0m\u001b[0;34m(\u001b[0m\u001b[0ma\u001b[0m\u001b[0;34m,\u001b[0m\u001b[0mb\u001b[0m\u001b[0;34m)\u001b[0m\u001b[0;34m:\u001b[0m\u001b[0;34m\u001b[0m\u001b[0;34m\u001b[0m\u001b[0m\n\u001b[1;32m      2\u001b[0m     \u001b[0;32mtry\u001b[0m\u001b[0;34m:\u001b[0m\u001b[0;34m\u001b[0m\u001b[0;34m\u001b[0m\u001b[0m\n\u001b[0;32m----> 3\u001b[0;31m         \u001b[0ma\u001b[0m \u001b[0;34m//\u001b[0m \u001b[0mb\u001b[0m\u001b[0;34m\u001b[0m\u001b[0;34m\u001b[0m\u001b[0m\n\u001b[0m\u001b[1;32m      4\u001b[0m     \u001b[0;32mexcept\u001b[0m \u001b[0mZeroDivisionError\u001b[0m\u001b[0;34m:\u001b[0m\u001b[0;34m\u001b[0m\u001b[0;34m\u001b[0m\u001b[0m\n\u001b[1;32m      5\u001b[0m         \u001b[0mprint\u001b[0m\u001b[0;34m(\u001b[0m\u001b[0;34m\"ERRORE\"\u001b[0m\u001b[0;34m)\u001b[0m\u001b[0;34m\u001b[0m\u001b[0;34m\u001b[0m\u001b[0m\n",
      "\u001b[0;31mZeroDivisionError\u001b[0m: integer division or modulo by zero"
     ]
    }
   ],
   "source": [
    "myFunc(129,0)"
   ]
  },
  {
   "cell_type": "markdown",
   "execution_count": 65,
   "metadata": {},
   "outputs": [
    {
     "ename": "SyntaxError",
     "evalue": "invalid syntax (<ipython-input-65-1e9513d376fc>, line 1)",
     "output_type": "error",
     "traceback": [
      "\u001b[0;36m  File \u001b[0;32m\"<ipython-input-65-1e9513d376fc>\"\u001b[0;36m, line \u001b[0;32m1\u001b[0m\n\u001b[0;31m    >> assert expression, argument\u001b[0m\n\u001b[0m     ^\u001b[0m\n\u001b[0;31mSyntaxError\u001b[0m\u001b[0;31m:\u001b[0m invalid syntax\n"
     ]
    }
   ],
   "source": [
    ">> assert expression, argument"
   ]
  },
  {
   "cell_type": "markdown",
   "execution_count": null,
   "metadata": {},
   "outputs": [],
   "source": [
    "Valutiamo una espressione e se falsa verrà elevata una eccezione con in aggiunta la stringa argument."
   ]
  },
  {
   "cell_type": "code",
   "execution_count": 67,
   "metadata": {},
   "outputs": [
    {
     "ename": "AssertionError",
     "evalue": "valore errato",
     "output_type": "error",
     "traceback": [
      "\u001b[0;31m---------------------------------------------------------------------------\u001b[0m",
      "\u001b[0;31mAssertionError\u001b[0m                            Traceback (most recent call last)",
      "\u001b[0;32m<ipython-input-67-53d27c38eaec>\u001b[0m in \u001b[0;36m<module>\u001b[0;34m\u001b[0m\n\u001b[1;32m      1\u001b[0m \u001b[0mx\u001b[0m \u001b[0;34m=\u001b[0m \u001b[0;36m5\u001b[0m\u001b[0;34m\u001b[0m\u001b[0;34m\u001b[0m\u001b[0m\n\u001b[0;32m----> 2\u001b[0;31m \u001b[0;32massert\u001b[0m \u001b[0mx\u001b[0m \u001b[0;34m==\u001b[0m \u001b[0;36m0\u001b[0m\u001b[0;34m,\u001b[0m \u001b[0;34m\"valore errato\"\u001b[0m\u001b[0;34m\u001b[0m\u001b[0;34m\u001b[0m\u001b[0m\n\u001b[0m",
      "\u001b[0;31mAssertionError\u001b[0m: valore errato"
     ]
    }
   ],
   "source": [
    "x = 5\n",
    "assert x == 0, \"valore errato\""
   ]
  },
  {
   "cell_type": "code",
   "execution_count": 70,
   "metadata": {},
   "outputs": [
    {
     "name": "stdout",
     "output_type": "stream",
     "text": "si è verificato un errore\n"
    }
   ],
   "source": [
    "x = 10\n",
    "y = 20\n",
    "try:\n",
    "    if x != y:\n",
    "        raise # invoco un errore forzando la except!\n",
    "    else:\n",
    "        print(\"sono uguali\")\n",
    "\n",
    "except:\n",
    "       print(\"si è verificato un errore\")\n"
   ]
  },
  {
   "cell_type": "markdown",
   "execution_count": null,
   "metadata": {},
   "outputs": [],
   "source": [
    "# Ereditarietà multipla"
   ]
  },
  {
   "cell_type": "code",
   "execution_count": 4,
   "metadata": {},
   "outputs": [],
   "source": [
    "class BClass:\n",
    "    def bFunc(self):\n",
    "        print(\"sono in bFunc\")\n",
    "\n",
    "class CClass:\n",
    "    def CFunc(self):\n",
    "        print(\"sono in cFunc\")"
   ]
  },
  {
   "cell_type": "code",
   "execution_count": 5,
   "metadata": {},
   "outputs": [],
   "source": [
    "class AClass(BClass, CClass):\n",
    "    pass\n",
    "\n",
    "a = AClass()"
   ]
  },
  {
   "cell_type": "code",
   "execution_count": 7,
   "metadata": {},
   "outputs": [
    {
     "name": "stdout",
     "output_type": "stream",
     "text": "sono in bFunc\n"
    }
   ],
   "source": [
    "a.bFunc()"
   ]
  },
  {
   "cell_type": "code",
   "execution_count": 8,
   "metadata": {},
   "outputs": [
    {
     "name": "stdout",
     "output_type": "stream",
     "text": "sono in cFunc\n"
    }
   ],
   "source": [
    "a.CFunc()"
   ]
  },
  {
   "cell_type": "markdown",
   "execution_count": null,
   "metadata": {},
   "outputs": [],
   "source": [
    "```\n",
    "class Persona:\n",
    "    def __init__(self, fname, lname):\n",
    "        self.nome = fname\n",
    "        self.cognome = lname\n",
    "\n",
    "class Indirizzo:\n",
    "    def __init__(self, via, paese):\n",
    "        self.via = via\n",
    "        self.paese = paese\n",
    "\n",
    "class Utente(Persona, Indirizzo):\n",
    "    def __init__(self, nome, cognome, via, paese):\n",
    "        Persona.__init__(self, nome, cognome)\n",
    "        Indirizzo.__init__(self, via, paese)\n",
    "\n",
    "    def scheda(self):\n",
    "        return f\"\"\"\n",
    "        nome: {self.nome}\n",
    "        cognome: {self.cognome}\n",
    "        via: {self.via}\n",
    "        paese: {self.paese}\"\"\"\n",
    "\n",
    "\n",
    "io = Utente(\"andrea\", \"prestini\", \"BICHER\", \"Esine\")\n",
    "\n",
    "print(io.scheda())\n",
    "\n",
    "```"
   ]
  },
  {
   "cell_type": "markdown",
   "execution_count": null,
   "metadata": {},
   "outputs": [],
   "source": [
    "Cosa accade se entrambe le classi hanno lo stesso attributo funzione?\n",
    "\n",
    "> $\\color{red}{MRO~Method~Resolution~Order}$"
   ]
  },
  {
   "cell_type": "markdown",
   "execution_count": null,
   "metadata": {},
   "outputs": [],
   "source": [
    "L'attributo viene cercato prima nella sottoclasse stessa, poi nella prima classe presente nella gerarchia, poi la seconda, etc. come presenti nella dichiarazione della sottoclasse."
   ]
  },
  {
   "cell_type": "markdown",
   "execution_count": null,
   "metadata": {},
   "outputs": [],
   "source": [
    "In estrema ratio l'ultima classe in cui ricerca sarà Object!"
   ]
  },
  {
   "cell_type": "markdown",
   "metadata": {},
   "source": [
    "# Le classi Object e Type"
   ]
  },
  {
   "cell_type": "markdown",
   "metadata": {},
   "source": [
    "Sono le classi a livello più alto della gerarchia. Classi BASE!"
   ]
  },
  {
   "cell_type": "code",
   "execution_count": 11,
   "metadata": {},
   "outputs": [],
   "source": [
    "class MyClass:\n",
    "    pass"
   ]
  },
  {
   "cell_type": "markdown",
   "metadata": {},
   "source": [
    "MyClass è un'istanza della classe Object!\n",
    "\n",
    "Myclass è un'istanza della classe Type"
   ]
  },
  {
   "cell_type": "markdown",
   "metadata": {},
   "source": [
    "myobj è un'instanza della classe object ma NON della classe type!"
   ]
  },
  {
   "cell_type": "code",
   "execution_count": 12,
   "metadata": {},
   "outputs": [],
   "source": [
    "myObj = MyClass()"
   ]
  },
  {
   "cell_type": "code",
   "execution_count": 13,
   "metadata": {},
   "outputs": [
    {
     "data": {
      "text/plain": "True"
     },
     "execution_count": 13,
     "metadata": {},
     "output_type": "execute_result"
    }
   ],
   "source": [
    "isinstance(myObj, MyClass)"
   ]
  },
  {
   "cell_type": "code",
   "execution_count": 14,
   "metadata": {},
   "outputs": [
    {
     "data": {
      "text/plain": "True"
     },
     "execution_count": 14,
     "metadata": {},
     "output_type": "execute_result"
    }
   ],
   "source": [
    "isinstance(myObj, object)"
   ]
  },
  {
   "cell_type": "code",
   "execution_count": 15,
   "metadata": {},
   "outputs": [
    {
     "data": {
      "text/plain": "True"
     },
     "execution_count": 15,
     "metadata": {},
     "output_type": "execute_result"
    }
   ],
   "source": [
    "isinstance(MyClass, object)"
   ]
  },
  {
   "cell_type": "code",
   "execution_count": 16,
   "metadata": {},
   "outputs": [
    {
     "data": {
      "text/plain": "True"
     },
     "execution_count": 16,
     "metadata": {},
     "output_type": "execute_result"
    }
   ],
   "source": [
    "isinstance(MyClass, type)"
   ]
  },
  {
   "cell_type": "code",
   "execution_count": 17,
   "metadata": {},
   "outputs": [
    {
     "data": {
      "text/plain": "False"
     },
     "execution_count": 17,
     "metadata": {},
     "output_type": "execute_result"
    }
   ],
   "source": [
    "isinstance(myObj, type)"
   ]
  },
  {
   "cell_type": "code",
   "execution_count": 18,
   "metadata": {},
   "outputs": [
    {
     "data": {
      "text/plain": "True"
     },
     "execution_count": 18,
     "metadata": {},
     "output_type": "execute_result"
    }
   ],
   "source": [
    "isinstance(object, object)"
   ]
  },
  {
   "cell_type": "code",
   "execution_count": 19,
   "metadata": {},
   "outputs": [
    {
     "data": {
      "text/plain": "True"
     },
     "execution_count": 19,
     "metadata": {},
     "output_type": "execute_result"
    }
   ],
   "source": [
    "isinstance(type, type)"
   ]
  },
  {
   "cell_type": "code",
   "execution_count": 20,
   "metadata": {},
   "outputs": [
    {
     "data": {
      "text/plain": "True"
     },
     "execution_count": 20,
     "metadata": {},
     "output_type": "execute_result"
    }
   ],
   "source": [
    "isinstance(object, type)"
   ]
  },
  {
   "cell_type": "code",
   "execution_count": 21,
   "metadata": {},
   "outputs": [
    {
     "data": {
      "text/plain": "True"
     },
     "execution_count": 21,
     "metadata": {},
     "output_type": "execute_result"
    }
   ],
   "source": [
    "isinstance(type, object)"
   ]
  },
  {
   "cell_type": "markdown",
   "metadata": {},
   "source": [
    "# Il Costruttore \\__new\\__"
   ]
  },
  {
   "cell_type": "markdown",
   "metadata": {},
   "source": [
    "Il metodo \\__init\\__ inizializza un oggetto già creato in precedenza: il costruttore \"effettivo\" è \\__new\\__"
   ]
  },
  {
   "cell_type": "markdown",
   "metadata": {},
   "source": [
    "In sintesi:\n",
    "* init inizializza una istanza di una classe\n",
    "* new costruisce l'istanza della classe"
   ]
  },
  {
   "cell_type": "markdown",
   "metadata": {},
   "source": [
    "Gerarchicamente Prima viene invocato il metodo new (in modo automatico) e solo successivamente viene chiamato il metodo init; questi riceve una istanza già pronta, creata appunto da new."
   ]
  },
  {
   "cell_type": "markdown",
   "metadata": {},
   "source": [
    "~~~\n",
    "__new__(cls [,...])\n",
    "~~~"
   ]
  },
  {
   "cell_type": "markdown",
   "metadata": {},
   "source": [
    "Gli argomenti, opzionali, saranno passati al metodo init una volta che new avrà generato l'istanza richiesta."
   ]
  },
  {
   "cell_type": "code",
   "execution_count": 24,
   "metadata": {},
   "outputs": [],
   "source": [
    "class MyClass():\n",
    "    def __new__(cls):\n",
    "        print(\"istanza creata\")\n",
    "    def __init__(self):\n",
    "        print(\"istanza inizializzata\")"
   ]
  },
  {
   "cell_type": "code",
   "execution_count": 25,
   "metadata": {},
   "outputs": [
    {
     "name": "stdout",
     "output_type": "stream",
     "text": "istanza creata\n"
    }
   ],
   "source": [
    "mc = MyClass() # non è stato chiamato il metodo init!"
   ]
  },
  {
   "cell_type": "code",
   "execution_count": 30,
   "metadata": {},
   "outputs": [],
   "source": [
    "class MyClass():\n",
    "    def __new__(cls):\n",
    "        istanza = super().__new__(cls)\n",
    "        print(\"istanza creata\")\n",
    "        return istanza\n",
    "    def __init__(self):\n",
    "        print(\"istanza inizializzata\")"
   ]
  },
  {
   "cell_type": "code",
   "execution_count": 31,
   "metadata": {},
   "outputs": [
    {
     "name": "stdout",
     "output_type": "stream",
     "text": "istanza creata\nistanza inizializzata\n"
    }
   ],
   "source": [
    "mc = MyClass()"
   ]
  },
  {
   "cell_type": "markdown",
   "metadata": {},
   "source": [
    "# Iterabili ed Iteratori (oggetti)"
   ]
  },
  {
   "cell_type": "markdown",
   "metadata": {},
   "source": [
    "Un Container è un oggetto particolare che ammette un test particolare, il testo di appartenenza; liste, dizionari, set, tuple, string permetto di verificare se un oggetto appartiene o non appartiene a questi contenitori."
   ]
  },
  {
   "cell_type": "code",
   "execution_count": 32,
   "metadata": {},
   "outputs": [
    {
     "data": {
      "text/plain": "True"
     },
     "execution_count": 32,
     "metadata": {},
     "output_type": "execute_result"
    }
   ],
   "source": [
    "stringa = [1,2,3,4,5]\n",
    "3 in stringa"
   ]
  },
  {
   "cell_type": "markdown",
   "metadata": {},
   "source": [
    "Un contenitore è un oggetto iterabile, MA un oggetto iterabile NON è sempre un contenitore (es. un file)"
   ]
  },
  {
   "cell_type": "markdown",
   "metadata": {},
   "source": [
    "> Un oggetto è iterabile quando è in grado di restituire un oggetto (Iteratore) che consente di scorrere i singoli elementi dell'oggetto iterabile di partenza. Tutti gli oggetti iterabili hanno un metodo \\__iter()\\__"
   ]
  },
  {
   "cell_type": "markdown",
   "metadata": {},
   "source": [
    "Un Iteratore è un oggetto che produce il prossimo elemento di un iterabile, attraverso il metodo \\__next()\\__"
   ]
  },
  {
   "cell_type": "markdown",
   "metadata": {},
   "source": [
    "Ricordiamo che un oggetto può essere sia iterabile che iteratore nel caso in cui contenga entrambi i metodi, \\__iter()\\__ ed \\__next()\\__ (es. una lista)"
   ]
  },
  {
   "cell_type": "code",
   "execution_count": 35,
   "metadata": {},
   "outputs": [],
   "source": [
    "myList = [\"primo\", \"secondo\", \"terzo\"]"
   ]
  },
  {
   "cell_type": "code",
   "execution_count": 36,
   "metadata": {},
   "outputs": [],
   "source": [
    "it1 = iter(myList)"
   ]
  },
  {
   "cell_type": "code",
   "execution_count": 37,
   "metadata": {},
   "outputs": [
    {
     "data": {
      "text/plain": "list_iterator"
     },
     "execution_count": 37,
     "metadata": {},
     "output_type": "execute_result"
    }
   ],
   "source": [
    "type(it1)"
   ]
  },
  {
   "cell_type": "code",
   "execution_count": 38,
   "metadata": {},
   "outputs": [
    {
     "data": {
      "text/plain": "'primo'"
     },
     "execution_count": 38,
     "metadata": {},
     "output_type": "execute_result"
    }
   ],
   "source": [
    "next(it1)"
   ]
  },
  {
   "cell_type": "code",
   "execution_count": 39,
   "metadata": {},
   "outputs": [
    {
     "data": {
      "text/plain": "'secondo'"
     },
     "execution_count": 39,
     "metadata": {},
     "output_type": "execute_result"
    }
   ],
   "source": [
    "next(it1)"
   ]
  },
  {
   "cell_type": "code",
   "execution_count": 40,
   "metadata": {},
   "outputs": [
    {
     "data": {
      "text/plain": "'terzo'"
     },
     "execution_count": 40,
     "metadata": {},
     "output_type": "execute_result"
    }
   ],
   "source": [
    "next(it1)"
   ]
  },
  {
   "cell_type": "code",
   "execution_count": 41,
   "metadata": {},
   "outputs": [
    {
     "ename": "StopIteration",
     "evalue": "",
     "output_type": "error",
     "traceback": [
      "\u001b[0;31m---------------------------------------------------------------------------\u001b[0m",
      "\u001b[0;31mStopIteration\u001b[0m                             Traceback (most recent call last)",
      "\u001b[0;32m<ipython-input-41-2488cfd6da6f>\u001b[0m in \u001b[0;36m<module>\u001b[0;34m\u001b[0m\n\u001b[0;32m----> 1\u001b[0;31m \u001b[0mnext\u001b[0m\u001b[0;34m(\u001b[0m\u001b[0mit1\u001b[0m\u001b[0;34m)\u001b[0m\u001b[0;34m\u001b[0m\u001b[0;34m\u001b[0m\u001b[0m\n\u001b[0m",
      "\u001b[0;31mStopIteration\u001b[0m: "
     ]
    }
   ],
   "source": [
    "next(it1) # sono finiti gli elementi dell'oggetto iterabile"
   ]
  },
  {
   "cell_type": "markdown",
   "metadata": {},
   "source": [
    "## Creazione di un iteratore"
   ]
  },
  {
   "cell_type": "code",
   "execution_count": 75,
   "metadata": {},
   "outputs": [],
   "source": [
    "class MyIterator:\n",
    "    def __iter__(self):\n",
    "        self.myattr = 2\n",
    "        return self\n",
    "\n",
    "    def __next__(self):\n",
    "        if self.myattr < 300:\n",
    "            n = self.myattr\n",
    "            self.myattr *= 2\n",
    "            return n\n",
    "        else:\n",
    "            raise StopIteration(\"fine iterazione\")"
   ]
  },
  {
   "cell_type": "code",
   "execution_count": 76,
   "metadata": {},
   "outputs": [],
   "source": [
    "miaClasse = MyIterator()\n",
    "mioIter = iter(miaClasse)"
   ]
  },
  {
   "cell_type": "code",
   "execution_count": 77,
   "metadata": {},
   "outputs": [
    {
     "name": "stdout",
     "output_type": "stream",
     "text": "2\n4\n8\n16\n32\n64\n128\n256\n"
    },
    {
     "ename": "StopIteration",
     "evalue": "fine iterazione",
     "output_type": "error",
     "traceback": [
      "\u001b[0;31m---------------------------------------------------------------------------\u001b[0m",
      "\u001b[0;31mStopIteration\u001b[0m                             Traceback (most recent call last)",
      "\u001b[0;32m<ipython-input-77-6e2b15c412f0>\u001b[0m in \u001b[0;36m<module>\u001b[0;34m\u001b[0m\n\u001b[1;32m      7\u001b[0m \u001b[0mprint\u001b[0m\u001b[0;34m(\u001b[0m\u001b[0mnext\u001b[0m\u001b[0;34m(\u001b[0m\u001b[0mmioIter\u001b[0m\u001b[0;34m)\u001b[0m\u001b[0;34m)\u001b[0m\u001b[0;34m\u001b[0m\u001b[0;34m\u001b[0m\u001b[0m\n\u001b[1;32m      8\u001b[0m \u001b[0mprint\u001b[0m\u001b[0;34m(\u001b[0m\u001b[0mnext\u001b[0m\u001b[0;34m(\u001b[0m\u001b[0mmioIter\u001b[0m\u001b[0;34m)\u001b[0m\u001b[0;34m)\u001b[0m\u001b[0;34m\u001b[0m\u001b[0;34m\u001b[0m\u001b[0m\n\u001b[0;32m----> 9\u001b[0;31m \u001b[0mprint\u001b[0m\u001b[0;34m(\u001b[0m\u001b[0mnext\u001b[0m\u001b[0;34m(\u001b[0m\u001b[0mmioIter\u001b[0m\u001b[0;34m)\u001b[0m\u001b[0;34m)\u001b[0m\u001b[0;34m\u001b[0m\u001b[0;34m\u001b[0m\u001b[0m\n\u001b[0m",
      "\u001b[0;32m<ipython-input-75-32bedc233f39>\u001b[0m in \u001b[0;36m__next__\u001b[0;34m(self)\u001b[0m\n\u001b[1;32m     10\u001b[0m             \u001b[0;32mreturn\u001b[0m \u001b[0mn\u001b[0m\u001b[0;34m\u001b[0m\u001b[0;34m\u001b[0m\u001b[0m\n\u001b[1;32m     11\u001b[0m         \u001b[0;32melse\u001b[0m\u001b[0;34m:\u001b[0m\u001b[0;34m\u001b[0m\u001b[0;34m\u001b[0m\u001b[0m\n\u001b[0;32m---> 12\u001b[0;31m             \u001b[0;32mraise\u001b[0m \u001b[0mStopIteration\u001b[0m\u001b[0;34m(\u001b[0m\u001b[0;34m\"fine iterazione\"\u001b[0m\u001b[0;34m)\u001b[0m\u001b[0;34m\u001b[0m\u001b[0;34m\u001b[0m\u001b[0m\n\u001b[0m",
      "\u001b[0;31mStopIteration\u001b[0m: fine iterazione"
     ]
    }
   ],
   "source": [
    "print(next(mioIter))\n",
    "print(next(mioIter))\n",
    "print(next(mioIter))\n",
    "print(next(mioIter))\n",
    "print(next(mioIter))\n",
    "print(next(mioIter))\n",
    "print(next(mioIter))\n",
    "print(next(mioIter))\n",
    "print(next(mioIter))"
   ]
  },
  {
   "cell_type": "code",
   "execution_count": 64,
   "metadata": {},
   "outputs": [
    {
     "name": "stdout",
     "output_type": "stream",
     "text": "2\n4\n8\n16\n32\n64\n128\n256\n"
    }
   ],
   "source": [
    "for i in mioIter:\n",
    "    print(i)"
   ]
  },
  {
   "cell_type": "markdown",
   "metadata": {},
   "source": [
    "## Funzione generatore (Generator Function)"
   ]
  },
  {
   "cell_type": "markdown",
   "metadata": {},
   "source": [
    "Se all'interno di una funzione compare la parola $\\color{green}{yield}$ tale funzione si ferma, cede il valore al chiamante della funzione e, se richiamata, cede il valore successivo..."
   ]
  },
  {
   "cell_type": "code",
   "execution_count": 78,
   "metadata": {},
   "outputs": [],
   "source": [
    "def get_doppio_gen():\n",
    "    e = 2\n",
    "    while (e < 100):\n",
    "        yield e\n",
    "        e *= 2"
   ]
  },
  {
   "cell_type": "code",
   "execution_count": 79,
   "metadata": {},
   "outputs": [],
   "source": [
    "gen = get_doppio_gen()"
   ]
  },
  {
   "cell_type": "code",
   "execution_count": 80,
   "metadata": {},
   "outputs": [
    {
     "data": {
      "text/plain": "generator"
     },
     "execution_count": 80,
     "metadata": {},
     "output_type": "execute_result"
    }
   ],
   "source": [
    "type(gen)"
   ]
  },
  {
   "cell_type": "code",
   "execution_count": 82,
   "metadata": {},
   "outputs": [
    {
     "name": "stdout",
     "output_type": "stream",
     "text": "4\n8\n"
    }
   ],
   "source": [
    "print(next(gen))\n",
    "print(next(gen))"
   ]
  },
  {
   "cell_type": "markdown",
   "metadata": {},
   "source": [
    "## Le Espressioni Generatore (Generator Expressions)"
   ]
  },
  {
   "cell_type": "markdown",
   "metadata": {},
   "source": [
    "Di fatto è come le list comprehension:\n",
    "```\n",
    "numeri = [1,2,3,4,5]\n",
    "n = [n * n for n in numeri if n % 2 == 1]\n",
    "```"
   ]
  },
  {
   "cell_type": "markdown",
   "metadata": {},
   "source": [
    "Attenzione: il generatore una volta iterato esaurisce il suo compito e NON può essere nuovamente iterato, cosa che invece si può fare con le list comprehension!"
   ]
  },
  {
   "cell_type": "code",
   "execution_count": 88,
   "metadata": {},
   "outputs": [],
   "source": [
    "elenco = [1,2,3,4,5]\n",
    "nelenco = (n * n for n in elenco if n % 2 == 1)"
   ]
  },
  {
   "cell_type": "code",
   "execution_count": 89,
   "metadata": {},
   "outputs": [
    {
     "data": {
      "text/plain": "generator"
     },
     "execution_count": 89,
     "metadata": {},
     "output_type": "execute_result"
    }
   ],
   "source": [
    "type(nelenco)"
   ]
  },
  {
   "cell_type": "code",
   "execution_count": 90,
   "metadata": {},
   "outputs": [
    {
     "name": "stdout",
     "output_type": "stream",
     "text": "1\n9\n25\n"
    }
   ],
   "source": [
    "for i in nelenco:\n",
    "    print(i)"
   ]
  },
  {
   "cell_type": "code",
   "execution_count": 91,
   "metadata": {},
   "outputs": [],
   "source": [
    "for i in nelenco:\n",
    "    print(i) # non otteniamo NULLA, il generatore è VUOTO!"
   ]
  },
  {
   "cell_type": "markdown",
   "metadata": {},
   "source": [
    "Perchè usare le Generato Expression al posto delle list comprehension?"
   ]
  },
  {
   "cell_type": "markdown",
   "metadata": {},
   "source": [
    "> la LC produce una lista eseguita subito e tutta in una volta sola; le GE viene eseguita in modo Lazy, un elemento alla volta durante l'iterazione dei suoi elementi!"
   ]
  },
  {
   "cell_type": "markdown",
   "metadata": {},
   "source": [
    "Se il numero di elementi fosse alto l'utilizzo di GE rispetto a LC allocherebbe moltissima memoria in più, e, in alcuni casi, risulterebbe più veloce ed a volte l'unico strumento utilizzabile."
   ]
  },
  {
   "cell_type": "markdown",
   "metadata": {},
   "source": [
    "# Aggiornamento python 3.7 "
   ]
  },
  {
   "cell_type": "markdown",
   "metadata": {},
   "source": [
    "## Dizionario"
   ]
  },
  {
   "cell_type": "markdown",
   "metadata": {},
   "source": [
    "Adesso garantiscono l'ordinamento delle chiavi secondo l'inserimento effettuato!"
   ]
  },
  {
   "cell_type": "code",
   "execution_count": 2,
   "metadata": {},
   "outputs": [],
   "source": [
    "myDizionario = {\n",
    "    \"primo\": 10,\n",
    "    \"secondo\": 20,\n",
    "    \"terzo\": 30,\n",
    "}"
   ]
  },
  {
   "cell_type": "code",
   "execution_count": 3,
   "metadata": {},
   "outputs": [],
   "source": [
    "myDizionario[\"quarto\"] = 40"
   ]
  },
  {
   "cell_type": "code",
   "execution_count": 5,
   "metadata": {},
   "outputs": [
    {
     "name": "stdout",
     "output_type": "stream",
     "text": "dict_keys(['primo', 'secondo', 'terzo', 'quarto'])\n"
    }
   ],
   "source": [
    "print(dict.keys(myDizionario))"
   ]
  },
  {
   "cell_type": "markdown",
   "metadata": {},
   "source": [
    "## Type Annotations"
   ]
  },
  {
   "cell_type": "markdown",
   "metadata": {},
   "source": [
    "PEP python Enhancement Proposal (proposte di miglioramento di python)."
   ]
  },
  {
   "cell_type": "markdown",
   "metadata": {},
   "source": [
    "PEP 3107 Function Annotations"
   ]
  },
  {
   "cell_type": "markdown",
   "metadata": {},
   "source": [
    "Introduce la possibilità di annotare i parametri ed i valori di ritorno di una funzione."
   ]
  },
  {
   "cell_type": "markdown",
   "metadata": {},
   "source": [
    "```\n",
    "def foo(a: expression, b: expression = 5):\n",
    "```"
   ]
  },
  {
   "cell_type": "markdown",
   "metadata": {},
   "source": [
    "```\n",
    "def myFunc(x: \"paramentro x\") -> \"ritorno\":\n",
    "    return x\n",
    "```"
   ]
  },
  {
   "cell_type": "markdown",
   "metadata": {},
   "source": [
    "PEP 484 Type Hints"
   ]
  },
  {
   "cell_type": "code",
   "execution_count": 1,
   "metadata": {},
   "outputs": [],
   "source": [
    "def myFunc(x: int, s: str = \"python\") -> str:\n",
    "    print(x)\n",
    "    return s\n"
   ]
  },
  {
   "cell_type": "code",
   "execution_count": 2,
   "metadata": {},
   "outputs": [
    {
     "name": "stdout",
     "output_type": "stream",
     "text": "{'x': <class 'int'>, 's': <class 'str'>, 'return': <class 'str'>}\n"
    }
   ],
   "source": [
    "print(myFunc.__annotations__)"
   ]
  },
  {
   "cell_type": "markdown",
   "metadata": {},
   "source": [
    "PEP 526 del 2016 Syntax for Variable Annotations"
   ]
  },
  {
   "cell_type": "code",
   "execution_count": 3,
   "metadata": {},
   "outputs": [
    {
     "name": "stdout",
     "output_type": "stream",
     "text": "{'a': <class 'int'>}\n"
    }
   ],
   "source": [
    "a: int = 10\n",
    "print(__annotations__)"
   ]
  },
  {
   "cell_type": "code",
   "execution_count": 4,
   "metadata": {},
   "outputs": [],
   "source": [
    "class MyClass:\n",
    "    nome: str\n",
    "    cognome: str\n",
    "\n",
    "    def __init__(self, nome, cognome):\n",
    "        self.nome = nome\n",
    "        self.cognome = cognome"
   ]
  },
  {
   "cell_type": "code",
   "execution_count": 5,
   "metadata": {},
   "outputs": [
    {
     "name": "stdout",
     "output_type": "stream",
     "text": "{'nome': <class 'str'>, 'cognome': <class 'str'>}\n"
    }
   ],
   "source": [
    "print(MyClass.__annotations__)"
   ]
  },
  {
   "cell_type": "markdown",
   "metadata": {},
   "source": [
    "## Le Data Classes"
   ]
  },
  {
   "cell_type": "markdown",
   "metadata": {},
   "source": [
    "Servono ad arricchire di significato le definizioni delle classi, soprattutto quando rappresentano dei DATI."
   ]
  },
  {
   "cell_type": "code",
   "execution_count": 7,
   "metadata": {},
   "outputs": [],
   "source": [
    "from dataclasses import dataclass # importiamo il decoratore"
   ]
  },
  {
   "cell_type": "code",
   "execution_count": 17,
   "metadata": {},
   "outputs": [],
   "source": [
    "@dataclass(init=True, repr=True, order=True, frozen=False)\n",
    "class MiaClasse:\n",
    "    nome: str\n",
    "    cognome: str\n"
   ]
  },
  {
   "cell_type": "code",
   "execution_count": 18,
   "metadata": {},
   "outputs": [],
   "source": [
    "mc = MiaClasse(\"andrea\", \"prestini\")"
   ]
  },
  {
   "cell_type": "code",
   "execution_count": 19,
   "metadata": {},
   "outputs": [
    {
     "name": "stdout",
     "output_type": "stream",
     "text": "MiaClasse(nome='andrea', cognome='prestini')\n"
    }
   ],
   "source": [
    "print(mc)"
   ]
  },
  {
   "cell_type": "markdown",
   "metadata": {},
   "source": [
    "## Assignment Expression (python versione 3.8) Walrus Operator"
   ]
  },
  {
   "cell_type": "markdown",
   "metadata": {},
   "source": [
    "Se avessimo un'espressione come questa:\n",
    "```\n",
    "if x = somma(5,3) > 6:\n",
    "    print(\"x maggiore di 6\")\n",
    "```\n",
    "otteniamo un ERRORE!"
   ]
  },
  {
   "cell_type": "markdown",
   "metadata": {},
   "source": [
    "MA:\n",
    "```\n",
    "if x:= somma(5,3) > 6:\n",
    "    print(\"x maggiore di 6\")\n",
    "```\n",
    "FUNZIONA!"
   ]
  },
  {
   "cell_type": "markdown",
   "metadata": {},
   "source": [
    "```\n",
    "mylist = [1,2,3,4,5]\n",
    "while x := len(mylist) != 0:\n",
    "    print(x, mylist.pop())\n",
    "```"
   ]
  },
  {
   "cell_type": "markdown",
   "metadata": {},
   "source": [
    "## Paremetri Positional-Only PEP 570"
   ]
  },
  {
   "cell_type": "markdown",
   "metadata": {},
   "source": [
    "```\n",
    "def somma(a, /, b, c): # a solo argomenti posizionali, b e c anche keywords\n",
    "    return a + b + c"
   ]
  },
  {
   "cell_type": "markdown",
   "metadata": {},
   "source": [
    "# Applicazioni distribuite con RabbitMQ"
   ]
  },
  {
   "cell_type": "markdown",
   "metadata": {},
   "source": [
    "## Architetture Client - Server"
   ]
  }
 ],
 "metadata": {
  "file_extension": ".py",
  "kernelspec": {
   "display_name": "Python 3.7.4 64-bit ('base': conda)",
   "language": "python",
   "name": "python37464bitbaseconda9cd1c3962878454fa14d112b4a486265"
  },
  "language_info": {
   "codemirror_mode": {
    "name": "ipython",
    "version": 3
   },
   "file_extension": ".py",
   "mimetype": "text/x-python",
   "name": "python",
   "nbconvert_exporter": "python",
   "pygments_lexer": "ipython3",
   "version": "3.7.4-final"
  },
  "mimetype": "text/x-python",
  "name": "python",
  "npconvert_exporter": "python",
  "pygments_lexer": "ipython3",
  "version": 3
 },
 "nbformat": 4,
 "nbformat_minor": 2
}