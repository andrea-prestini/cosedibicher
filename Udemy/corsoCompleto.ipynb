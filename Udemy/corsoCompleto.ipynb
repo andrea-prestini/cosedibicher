{
  "cells": [
    {
      "cell_type": "markdown",
      "metadata": {
        "jukit_cell_id": "RxNxXBFiJg"
      },
      "source": []
    },
    {
      "cell_type": "markdown",
      "metadata": {},
      "source": [
        "# Gli oggetti in python"
      ]
    },
    {
      "cell_type": "markdown",
      "metadata": {
        "jukit_cell_id": "H1G0eYgmow"
      },
      "source": [
        "Tutto è un oggetto in python. Questi oggetti hanno sempre 3 elementi:\n",
        "* identità\n",
        "* tipologia\n",
        "* valore"
      ]
    },
    {
      "cell_type": "markdown",
      "metadata": {
        "jukit_cell_id": "Ilj1nCuFTo"
      },
      "source": [
        "## Identità\n",
        "Informazione numerica di tipo immutabile, rimane fino alla morte dell'oggetto."
      ]
    },
    {
      "cell_type": "markdown",
      "metadata": {
        "jukit_cell_id": "TbdsDwU3SN"
      },
      "source": [
        "## Tipologia\n",
        "Categoria che determina la natura di un oggetto; quali valori possono essere assegnati ad un oggetto, altre caratteristiche dell'oggetto. Gli oggetti che fanno parte di un certo tipo si chiamano ISTANZE di quell'oggetto."
      ]
    },
    {
      "cell_type": "markdown",
      "metadata": {
        "jukit_cell_id": "82U5DgluOw"
      },
      "source": [
        "# Valore\n",
        "Il valore è un dato o un insieme di dati mantenuto all'interno dell'oggetto, quando questi lo prevede. Un oggetto che può modificare il suo valore durante il suo ciclo di vita si dice Mutabile, diversamente si definisce Immutabile. Tale caratteristica è data dal $\\color{green}{tipo}$ di oggetto."
      ]
    },
    {
      "cell_type": "markdown",
      "metadata": {
        "jukit_cell_id": "L8Hwfv3vuI"
      },
      "source": [
        "## Literal\n",
        "Forma $\\color{red}{letterale}$ di un oggetto: python possiede una serie di dati che sono predefiniti nel linguaggio e la cui definizione del valore dipende dal modo letterale con cui sono stati inseriti. Se scrivo 20 python lo interpreterà come un integer perchè questo è il modo letterale con cui lo abbiamo inserito; tra apici invece definiremo un oggetto stringa, senza bisogno di dichiararlo!"
      ]
    },
    {
      "cell_type": "markdown",
      "metadata": {
        "jukit_cell_id": "AK0oQRjf9m"
      },
      "source": [
        "# Variabili\n",
        "Per riferirci agli oggetti non useremo mai la sua identità, ma lo assegneremo un $\\color{red}{nome}$ ad un oggetto."
      ]
    },
    {
      "cell_type": "markdown",
      "metadata": {
        "jukit_cell_id": "8I59qcVdzR"
      },
      "source": [
        "~~~\n",
        "a = 20\n",
        "mia_lista = [1, 2, 3]"
      ]
    },
    {
      "cell_type": "markdown",
      "metadata": {
        "jukit_cell_id": "V7tm5sZDgo"
      },
      "source": [
        "Esistono delle regole per definire i nomi validi:\n",
        "* lettere o numeri o caratteri Unicode o underscore\n",
        "* NON può iniziare con un numero\n",
        "* NON può essere una **parola riservata**"
      ]
    },
    {
      "cell_type": "markdown",
      "metadata": {
        "jukit_cell_id": "UIZKuaJMbZ"
      },
      "source": [
        "I nomi associati agli oggetti vengono definiti *variabili*.\n",
        "In python una variabile non è una variabile, ma un nome che punta ad una variabile. Non è fortemente tipizzata."
      ]
    },
    {
      "cell_type": "markdown",
      "metadata": {
        "jukit_cell_id": "cpgB2k8CS4"
      },
      "source": [
        "~~~\n",
        "a = 20\n",
        "a = \"andrea"
      ]
    },
    {
      "cell_type": "markdown",
      "metadata": {
        "jukit_cell_id": "xGxmF8Lkeh"
      },
      "source": [
        "Questa cosa implica la **condivisione** dell'ID."
      ]
    },
    {
      "cell_type": "markdown",
      "metadata": {
        "jukit_cell_id": "fWYw0WHCzP"
      },
      "source": [
        "~~~\n",
        "a = 20\n",
        "b = a\n",
        "~~~\n",
        "In questo caso a e b puntano allo stesso oggetto, ma non sono lo stesso oggetto!"
      ]
    },
    {
      "cell_type": "markdown",
      "metadata": {
        "jukit_cell_id": "fmsBSQzCeA"
      },
      "source": [
        "Molto importante è il concetto di $\\color{red}{reference~count}$.\n",
        "Tutti gli oggetti in python hanno un contatore di riferimenti: questo implica che l'oggetto venga distrutto SOLO quando il suo reference count è pari a 0. Il *Garbage Collector* ripulisce tutto e libera la memoria (tutto in runtime)."
      ]
    },
    {
      "cell_type": "markdown",
      "metadata": {
        "jukit_cell_id": "sDSflsmkHx"
      },
      "source": [
        " Il *Garbage Collector* ripulisce tutto e libera la memoria (tutto in runtime)."
      ]
    },
    {
      "cell_type": "markdown",
      "metadata": {
        "jukit_cell_id": "vUhjuDJPE4"
      },
      "source": [
        "# Callable Objects\n",
        "Gli oggetti chiamabili sono quelli in cui usiamo argomenti all'interno delle parentesi tonde. Esempio le funzioni!"
      ]
    },
    {
      "cell_type": "markdown",
      "metadata": {
        "jukit_cell_id": "BX6DhqEkmn"
      },
      "source": [
        "La funzione `print` ne è un esempio!"
      ]
    },
    {
      "cell_type": "markdown",
      "metadata": {
        "jukit_cell_id": "q7M9oweVqQ"
      },
      "source": [
        "Altre funzioni utili sono `id(oggetto)` oppure `type(oggetto)`."
      ]
    },
    {
      "cell_type": "markdown",
      "metadata": {
        "jukit_cell_id": "FEmYTRhfZl"
      },
      "source": [
        "# Gli Attributi\n",
        "Gli oggetti in python hanno un valore ed una identità; possono avere anche una serie di *attributi*."
      ]
    },
    {
      "cell_type": "markdown",
      "metadata": {
        "jukit_cell_id": "kLTKQJzto9"
      },
      "source": [
        "Gli attributi sono degli oggetti riferiti da un oggetto perchè ne specificano ulteriori caratteristiche (possono essere dati o funzioni). Nel caso in cui siano funzioni vengono chiamati metodi."
      ]
    },
    {
      "cell_type": "markdown",
      "metadata": {
        "jukit_cell_id": "cjf1Hxgy4S"
      },
      "source": [
        "Per richiamarli si una il punto: nome oggetto.nome attributo!"
      ]
    },
    {
      "cell_type": "markdown",
      "metadata": {
        "jukit_cell_id": "WbmxqYhTex"
      },
      "source": [
        "Quando l'attributo è una funzione dobbiamo invocarlo essendo un oggetto Callable."
      ]
    },
    {
      "cell_type": "code",
      "execution_count": 1,
      "metadata": {
        "jukit_cell_id": "UayvdYXfyf"
      },
      "outputs": [
        {
          "data": {
            "text/plain": [
              "'PYTHON'"
            ]
          },
          "execution_count": 1,
          "metadata": {},
          "output_type": "execute_result"
        }
      ],
      "source": [
        "\"python\".upper()"
      ]
    },
    {
      "cell_type": "code",
      "execution_count": 2,
      "metadata": {
        "jukit_cell_id": "uW84WdSJtI"
      },
      "outputs": [
        {
          "data": {
            "text/plain": [
              "'PYTHON'"
            ]
          },
          "execution_count": 2,
          "metadata": {},
          "output_type": "execute_result"
        }
      ],
      "source": [
        "x = \"python\"\n",
        "x.upper()"
      ]
    },
    {
      "cell_type": "markdown",
      "metadata": {
        "jukit_cell_id": "nsvnXHaXx0"
      },
      "source": [
        "# BASIC data types"
      ]
    },
    {
      "cell_type": "markdown",
      "metadata": {
        "jukit_cell_id": "eYXoQRyClB"
      },
      "source": [
        "* tipi numerici (anche boolean)\n",
        "* stringhe\n",
        "* operatori\n",
        "*espressioni"
      ]
    },
    {
      "cell_type": "markdown",
      "metadata": {
        "jukit_cell_id": "eeJHHaaLVw"
      },
      "source": [
        ">> None è un basic data type che ha una sola istanza... None"
      ]
    },
    {
      "cell_type": "markdown",
      "metadata": {
        "jukit_cell_id": "EUy9CakW5V"
      },
      "source": [
        "## tipi numerici\n",
        "* integer\n",
        "* floating poin\n",
        "* boolean\n",
        "Sono tutti Immutabili!"
      ]
    },
    {
      "cell_type": "markdown",
      "metadata": {
        "jukit_cell_id": "znFfoUZQgT"
      },
      "source": [
        "`a = 3` ed `a = 4`"
      ]
    },
    {
      "cell_type": "markdown",
      "metadata": {
        "jukit_cell_id": "lSMEFh7Scr"
      },
      "source": [
        "a non ha modificato l'oggetto, ma punta ad un oggetto diverso, prima il numero 3 e poi il numero 4!"
      ]
    },
    {
      "cell_type": "markdown",
      "metadata": {
        "jukit_cell_id": "rVj483QpDi"
      },
      "source": [
        "Dalla versione 3.6 possiamo dividere le cifre di un numero attraverso l'underscore: 10_000_000."
      ]
    },
    {
      "cell_type": "markdown",
      "metadata": {
        "jukit_cell_id": "Hm0nZDIHtN"
      },
      "source": [
        "Possiamo usare 3 literal per esprimere un numero:\n",
        "* Binario -- 0b10011001\n",
        "* ottale 0o1635\n",
        "* esadecimale 0x1F8A"
      ]
    },
    {
      "cell_type": "markdown",
      "metadata": {
        "jukit_cell_id": "qbG62SubLm"
      },
      "source": [
        "I boolean sono sottoinsiemi di interi che hanno solo 2 valori: True o False; True=1 e False=0."
      ]
    },
    {
      "cell_type": "markdown",
      "metadata": {
        "jukit_cell_id": "YgJiB6uFF7"
      },
      "source": [
        "I Floating point vengono introdotti con un punto decimale di separazione. "
      ]
    },
    {
      "cell_type": "markdown",
      "metadata": {
        "jukit_cell_id": "dwWoShkYZK"
      },
      "source": [
        "Possiamo usare anche l'annotazione esponenziale!"
      ]
    },
    {
      "cell_type": "code",
      "execution_count": 3,
      "metadata": {
        "jukit_cell_id": "QP24AIt6bF"
      },
      "outputs": [
        {
          "data": {
            "text/plain": [
              "20000.0"
            ]
          },
          "execution_count": 3,
          "metadata": {},
          "output_type": "execute_result"
        }
      ],
      "source": [
        "2e4"
      ]
    },
    {
      "cell_type": "code",
      "execution_count": 4,
      "metadata": {
        "jukit_cell_id": "z1MqBwqeQ1"
      },
      "outputs": [
        {
          "data": {
            "text/plain": [
              "0.0002"
            ]
          },
          "execution_count": 4,
          "metadata": {},
          "output_type": "execute_result"
        }
      ],
      "source": [
        "2e-4"
      ]
    },
    {
      "cell_type": "markdown",
      "metadata": {
        "jukit_cell_id": "q4LOQsxgps"
      },
      "source": [
        "Naturalmente python supporta anche i numeri **immaginari**."
      ]
    },
    {
      "cell_type": "markdown",
      "metadata": {
        "jukit_cell_id": "zg4IAmdJXp"
      },
      "source": [
        "## Stringhe"
      ]
    },
    {
      "cell_type": "markdown",
      "metadata": {
        "jukit_cell_id": "dCweC8jwMr"
      },
      "source": [
        "Le STRINGHE sono sequenze di elementi: una sequenza indica un insieme *ordinato* di elementi. Tale caratteristica ci permetterà di intervenire facilmente sugli elementi che compongono la stringa."
      ]
    },
    {
      "cell_type": "markdown",
      "metadata": {
        "jukit_cell_id": "C9NoPjG1IC"
      },
      "source": [
        "Ogno elemento di una stringa deve appartenere al set UNICODE."
      ]
    },
    {
      "cell_type": "markdown",
      "metadata": {
        "jukit_cell_id": "hmvisbzL7U"
      },
      "source": [
        "Le stringhe in python sono oggetti immutabili, possiamo copiare parte di una stringa in un'altra stringa."
      ]
    },
    {
      "cell_type": "markdown",
      "metadata": {
        "jukit_cell_id": "uT2pkMyMPs"
      },
      "source": [
        "Possiamo usare apici singoli o doppi, purchè siano simmetricamente definiti."
      ]
    },
    {
      "cell_type": "markdown",
      "metadata": {
        "jukit_cell_id": "srIFrgmU2w"
      },
      "source": [
        "Una stringa vuota non ha caratteri ma è comunque esistente come oggetto."
      ]
    },
    {
      "cell_type": "markdown",
      "metadata": {
        "jukit_cell_id": "YSYGi8sVaa"
      },
      "source": [
        "Possiamo definire stringhe su multilinea usando 3 apici singoli o 3 apici doppi. "
      ]
    },
    {
      "cell_type": "markdown",
      "metadata": {
        "jukit_cell_id": "vRXZUL4x9Z"
      },
      "source": [
        ">\n",
        "\"\"\" questa può essere una stringa su \n",
        "diverse linee"
      ]
    },
    {
      "cell_type": "code",
      "execution_count": 5,
      "metadata": {
        "jukit_cell_id": "Czze82V0nl"
      },
      "outputs": [],
      "source": [
        "#Abbiamo diverse tipologie di Escape (caratteri non stampabili):\n",
        "#* \\n andare a capo\n",
        "#* \\t tabulare\n",
        "#* \\\\ inseriamo la backslash nella stringa\n",
        "#* \\' inseriamo l'apice nella stringa\n",
        "#* \\\" inseriamo un doppio apice nella stringa"
      ]
    },
    {
      "cell_type": "markdown",
      "metadata": {
        "jukit_cell_id": "SDL0vZ4Z3v"
      },
      "source": [
        "## caso particolare: le F strings"
      ]
    },
    {
      "cell_type": "markdown",
      "metadata": {
        "jukit_cell_id": "HlJd1JAGn3"
      },
      "source": [
        "* modulo formatting (ormai deprecata)\n",
        "* metodo format associato alle stringhe\n",
        "* f-string introdotto da python 3"
      ]
    },
    {
      "cell_type": "code",
      "execution_count": 6,
      "metadata": {
        "jukit_cell_id": "DH2YrOKi2S"
      },
      "outputs": [],
      "source": [
        "titolo = \"Isola Misteriosa\"\n",
        "autore = \"Giulio Verne\""
      ]
    },
    {
      "cell_type": "code",
      "execution_count": 7,
      "metadata": {
        "jukit_cell_id": "aUsyzLSTo3"
      },
      "outputs": [
        {
          "name": "stdout",
          "output_type": "stream",
          "text": [
            "Titolo: Isola Misteriosa, Autore: Giulio Verne\n"
          ]
        }
      ],
      "source": [
        "print(f\"Titolo: {titolo}, Autore: {autore}\")"
      ]
    },
    {
      "cell_type": "markdown",
      "metadata": {
        "jukit_cell_id": "lSkwQRmOMF"
      },
      "source": [
        "Questa operazione viene detta **String Interpolation**"
      ]
    },
    {
      "cell_type": "code",
      "execution_count": 8,
      "metadata": {
        "jukit_cell_id": "AvYXmf6kcA"
      },
      "outputs": [
        {
          "name": "stdout",
          "output_type": "stream",
          "text": [
            "Titolo: ISOLA MISTERIOSA, Autore: Giulio Verne\n"
          ]
        }
      ],
      "source": [
        "print(f\"Titolo: {titolo.upper()}, Autore: {autore}\")"
      ]
    },
    {
      "cell_type": "markdown",
      "metadata": {
        "jukit_cell_id": "3Jx8Yhsckj"
      },
      "source": [
        "PEP 498 -- Literal String Interpolation"
      ]
    },
    {
      "cell_type": "markdown",
      "metadata": {
        "jukit_cell_id": "1zvE0D7vyF"
      },
      "source": [
        "# Espressioni ed Operatori"
      ]
    },
    {
      "cell_type": "markdown",
      "metadata": {
        "jukit_cell_id": "IsvCB2887k"
      },
      "source": [
        "Le operazioni eseguono operazioni su degli elementi; tali elementi possono essere di tipo diverso."
      ]
    },
    {
      "cell_type": "markdown",
      "metadata": {
        "jukit_cell_id": "RDvSJilRZx"
      },
      "source": [
        "I più comuni sono gli operatori aritmetici:\n",
        "* addizione + \n",
        "* sottrazione -\n",
        "* moltiplicazione \\*\n",
        "* divisione floating point /\n",
        "* divisione intera // solo parte intera del risultato\n",
        "* modulo % definisce il resto di una divisione\n",
        "* esponenziale **\n",
        "* meno unario -"
      ]
    },
    {
      "cell_type": "markdown",
      "metadata": {
        "jukit_cell_id": "3EUGqSylam"
      },
      "source": [
        "operatori di assegnamento:\n",
        "* = assegnazione di variabile\n",
        "* += scorciatoia per a += equivale ad a= a+b\n",
        "* -=, *=, /=, //=, %=, **="
      ]
    },
    {
      "cell_type": "markdown",
      "metadata": {
        "jukit_cell_id": "1BjjNALW6j"
      },
      "source": [
        "operatori di confronto (ritornano sempre un valore Booleano):\n",
        "* <\n",
        "* \\>\n",
        "* ==\n",
        "* !=\n",
        "* <=\n",
        "* \\>="
      ]
    },
    {
      "cell_type": "markdown",
      "metadata": {
        "jukit_cell_id": "TAplUJrwvD"
      },
      "source": [
        "Attenzione alla $\\color{red}{precedenza}$: usiamo le parentesi per modificarne il comportamento."
      ]
    },
    {
      "cell_type": "markdown",
      "metadata": {
        "jukit_cell_id": "mnWjEwTD0v"
      },
      "source": [
        "Operatori logici (restituisco valori Booleani):\n",
        "* and\n",
        "* or\n",
        "* notm"
      ]
    },
    {
      "cell_type": "markdown",
      "metadata": {
        "jukit_cell_id": "8683uFYApV"
      },
      "source": [
        "|  A    | B    | A AND B|\n",
        "|:--------|:----:|-------:|\n",
        "|True| True| True|\n",
        "|False| False|False|\n",
        "|True| False|False|\n",
        "|False| False|False|"
      ]
    },
    {
      "cell_type": "markdown",
      "metadata": {
        "jukit_cell_id": "48tVe28ePv"
      },
      "source": [
        "|  A    | B    | A OR B|\n",
        "|:--------|:----:|-------:|\n",
        "|True| True| True|\n",
        "|False| False|False|\n",
        "|True| False|True|\n",
        "|False| False|True|"
      ]
    },
    {
      "cell_type": "markdown",
      "metadata": {
        "jukit_cell_id": "ikyXn2E8XJ"
      },
      "source": [
        "NOT è un operatore UNARIO: ritorna il contrario dell'espressione valutata."
      ]
    },
    {
      "cell_type": "markdown",
      "metadata": {
        "jukit_cell_id": "qV4i5xfHOc"
      },
      "source": [
        "In python *tutti* gli oggetti hanno un valore di verità implicitamente assegnato:\n",
        "sono tutti FALSE\n",
        "* None\n",
        "* False\n",
        "* Zero\n",
        "* una sequenza vuota\n",
        "* un dizionario vuoto\n",
        "in tutti gli altri casi il valore è TRUE..."
      ]
    },
    {
      "cell_type": "markdown",
      "metadata": {
        "jukit_cell_id": "Ca1pw2xrrk"
      },
      "source": [
        "Operatori su *Sequenze*"
      ]
    },
    {
      "cell_type": "code",
      "execution_count": 9,
      "metadata": {
        "jukit_cell_id": "uT72fq0LQM"
      },
      "outputs": [],
      "source": [
        "s = \"python programming\""
      ]
    },
    {
      "cell_type": "code",
      "execution_count": 10,
      "metadata": {
        "jukit_cell_id": "aTiDPN9jGv"
      },
      "outputs": [
        {
          "data": {
            "text/plain": [
              "'p'"
            ]
          },
          "execution_count": 10,
          "metadata": {},
          "output_type": "execute_result"
        }
      ],
      "source": [
        "s[0]"
      ]
    },
    {
      "cell_type": "code",
      "execution_count": 11,
      "metadata": {
        "jukit_cell_id": "Iaw7cfeFcN"
      },
      "outputs": [
        {
          "data": {
            "text/plain": [
              "'python'"
            ]
          },
          "execution_count": 11,
          "metadata": {},
          "output_type": "execute_result"
        }
      ],
      "source": [
        "s[0:6]"
      ]
    },
    {
      "cell_type": "code",
      "execution_count": 12,
      "metadata": {
        "jukit_cell_id": "PrLbA9GlOb"
      },
      "outputs": [
        {
          "data": {
            "text/plain": [
              "'g'"
            ]
          },
          "execution_count": 12,
          "metadata": {},
          "output_type": "execute_result"
        }
      ],
      "source": [
        "s[-1]"
      ]
    },
    {
      "cell_type": "code",
      "execution_count": 13,
      "metadata": {
        "jukit_cell_id": "ib5CBV7q9S"
      },
      "outputs": [
        {
          "data": {
            "text/plain": [
              "'ng'"
            ]
          },
          "execution_count": 13,
          "metadata": {},
          "output_type": "execute_result"
        }
      ],
      "source": [
        "s[-2:]"
      ]
    },
    {
      "cell_type": "code",
      "execution_count": 14,
      "metadata": {
        "jukit_cell_id": "djAndsyADC"
      },
      "outputs": [
        {
          "data": {
            "text/plain": [
              "'python'"
            ]
          },
          "execution_count": 14,
          "metadata": {},
          "output_type": "execute_result"
        }
      ],
      "source": [
        "s[:6]"
      ]
    },
    {
      "cell_type": "code",
      "execution_count": 15,
      "metadata": {
        "jukit_cell_id": "792ekjSHW8"
      },
      "outputs": [
        {
          "data": {
            "text/plain": [
              "'ph'"
            ]
          },
          "execution_count": 15,
          "metadata": {},
          "output_type": "execute_result"
        }
      ],
      "source": [
        "s[0:6:3]"
      ]
    },
    {
      "cell_type": "markdown",
      "metadata": {
        "jukit_cell_id": "SgiXWfqjks"
      },
      "source": [
        "~~~\n",
        "[start:stop:step]"
      ]
    },
    {
      "cell_type": "markdown",
      "metadata": {
        "jukit_cell_id": "1KuZMsVayK"
      },
      "source": [
        "Concatenazione utilizzando l'operatore $\\huge{+}$"
      ]
    },
    {
      "cell_type": "code",
      "execution_count": 16,
      "metadata": {
        "jukit_cell_id": "MF5Im3N0Tx"
      },
      "outputs": [],
      "source": [
        "s = \"python\""
      ]
    },
    {
      "cell_type": "code",
      "execution_count": 17,
      "metadata": {
        "jukit_cell_id": "yGAtN9Tr6o"
      },
      "outputs": [
        {
          "data": {
            "text/plain": [
              "6"
            ]
          },
          "execution_count": 17,
          "metadata": {},
          "output_type": "execute_result"
        }
      ],
      "source": [
        "len(s)"
      ]
    },
    {
      "cell_type": "code",
      "execution_count": 18,
      "metadata": {
        "jukit_cell_id": "PSZgJ9LE0o"
      },
      "outputs": [
        {
          "data": {
            "text/plain": [
              "'h'"
            ]
          },
          "execution_count": 18,
          "metadata": {},
          "output_type": "execute_result"
        }
      ],
      "source": [
        "min(s)"
      ]
    },
    {
      "cell_type": "code",
      "execution_count": 19,
      "metadata": {
        "jukit_cell_id": "43f8B6gMDq"
      },
      "outputs": [
        {
          "data": {
            "text/plain": [
              "'y'"
            ]
          },
          "execution_count": 19,
          "metadata": {},
          "output_type": "execute_result"
        }
      ],
      "source": [
        "max(s)"
      ]
    },
    {
      "cell_type": "code",
      "execution_count": null,
      "metadata": {
        "jukit_cell_id": "X59r76wm0u"
      },
      "outputs": [],
      "source": []
    },
    {
      "cell_type": "markdown",
      "metadata": {
        "jukit_cell_id": "Hi8IX6QUgN"
      },
      "source": [
        "# Conversioni di tipo"
      ]
    },
    {
      "cell_type": "markdown",
      "metadata": {
        "jukit_cell_id": "Xswdz9x8YP"
      },
      "source": [
        "Interi:\n",
        "* usiamo la funzione int()\n",
        "* le stringhe diventano numeri interi (se sono numeri)"
      ]
    },
    {
      "cell_type": "markdown",
      "metadata": {
        "jukit_cell_id": "JYQGatvoLl"
      },
      "source": [
        "Float:\n",
        "* usiamo la funzione float()\n",
        "* stesso discorso per gli interi"
      ]
    },
    {
      "cell_type": "markdown",
      "metadata": {
        "jukit_cell_id": "1R6XfHWE7K"
      },
      "source": [
        "Stringa:\n",
        "* usiamo la funzione str()\n",
        "* usata per i numeri che diventano elementi di stringa"
      ]
    },
    {
      "cell_type": "markdown",
      "metadata": {
        "jukit_cell_id": "SZcMK3LudI"
      },
      "source": [
        "Booleano:\n",
        "* usiamo la funzione bool()\n",
        "* lo applichiamo a tutti gli elementi"
      ]
    },
    {
      "cell_type": "markdown",
      "metadata": {
        "jukit_cell_id": "lsnv5TL1il"
      },
      "source": [
        "# Strutture di dati in python"
      ]
    },
    {
      "cell_type": "markdown",
      "metadata": {
        "jukit_cell_id": "wduPyZ3R2y"
      },
      "source": [
        "# Liste, Tuple, Dizionari, Set"
      ]
    },
    {
      "cell_type": "markdown",
      "metadata": {
        "jukit_cell_id": "ItZS1cp3er"
      },
      "source": [
        "Una sequenza è generalmente definita come un insieme ordinato di elementi indicizzati numericamente attraverso la loro posizione; l'indice parte sempre da $\\huge{0}$"
      ]
    },
    {
      "cell_type": "markdown",
      "metadata": {
        "jukit_cell_id": "wEOoGSAFbH"
      },
      "source": [
        "Liste e Tuple caratteristiche:\n",
        "* elementi di tipo qualunche\n",
        "* le liste sono mutabili\n",
        "* le tuple sono immutabili"
      ]
    },
    {
      "cell_type": "markdown",
      "metadata": {
        "jukit_cell_id": "mufKNttTuv"
      },
      "source": [
        "## Liste"
      ]
    },
    {
      "cell_type": "markdown",
      "metadata": {
        "jukit_cell_id": "HfWgWzjB6i"
      },
      "source": [
        "Sequenza di elementi qualunque, mutabili. L'instaza riguarda una classe predefinita che si chiama list."
      ]
    },
    {
      "cell_type": "code",
      "execution_count": 20,
      "metadata": {
        "jukit_cell_id": "2OiPAsJSN9"
      },
      "outputs": [],
      "source": [
        "myList1 = []\n",
        "myList = [10, 20, 30]\n",
        "lista_vuota = list()"
      ]
    },
    {
      "cell_type": "code",
      "execution_count": 21,
      "metadata": {
        "jukit_cell_id": "RCWRQxcCLo"
      },
      "outputs": [
        {
          "data": {
            "text/plain": [
              "30"
            ]
          },
          "execution_count": 21,
          "metadata": {},
          "output_type": "execute_result"
        }
      ],
      "source": [
        "myList[-1]"
      ]
    },
    {
      "cell_type": "markdown",
      "metadata": {
        "jukit_cell_id": "0cHwjdwsj4"
      },
      "source": [
        "Valgono per lo slicing tutti i discorsi visti per le stringhe!"
      ]
    },
    {
      "cell_type": "code",
      "execution_count": 22,
      "metadata": {
        "jukit_cell_id": "Pjl3hHvsPV"
      },
      "outputs": [],
      "source": [
        "nido = [1, 2, [\"primo\", \"secondo\", \"terzo\"]]"
      ]
    },
    {
      "cell_type": "code",
      "execution_count": 23,
      "metadata": {
        "jukit_cell_id": "3baJGGuJ6L"
      },
      "outputs": [
        {
          "data": {
            "text/plain": [
              "'secondo'"
            ]
          },
          "execution_count": 23,
          "metadata": {},
          "output_type": "execute_result"
        }
      ],
      "source": [
        "nido[2][1]"
      ]
    },
    {
      "cell_type": "markdown",
      "metadata": {
        "jukit_cell_id": "PrmRe11Ifq"
      },
      "source": [
        "modifichiamo la lista:"
      ]
    },
    {
      "cell_type": "code",
      "execution_count": 24,
      "metadata": {
        "jukit_cell_id": "PUs2IxobyF"
      },
      "outputs": [],
      "source": [
        "nido[0] = \"andrea\"\n",
        "nido[2][2] = \"paese\""
      ]
    },
    {
      "cell_type": "code",
      "execution_count": 25,
      "metadata": {
        "jukit_cell_id": "hrEvcWnAij"
      },
      "outputs": [
        {
          "data": {
            "text/plain": [
              "['andrea', 2, ['primo', 'secondo', 'paese']]"
            ]
          },
          "execution_count": 25,
          "metadata": {},
          "output_type": "execute_result"
        }
      ],
      "source": [
        "nido"
      ]
    },
    {
      "cell_type": "code",
      "execution_count": 26,
      "metadata": {
        "jukit_cell_id": "AlZQnTkxdr"
      },
      "outputs": [
        {
          "data": {
            "text/plain": [
              "3"
            ]
          },
          "execution_count": 26,
          "metadata": {},
          "output_type": "execute_result"
        }
      ],
      "source": [
        "len(nido)"
      ]
    },
    {
      "cell_type": "code",
      "execution_count": 27,
      "metadata": {
        "jukit_cell_id": "lG0yZlI8Wl"
      },
      "outputs": [],
      "source": [
        "nido.insert(1, \"inserito\")"
      ]
    },
    {
      "cell_type": "code",
      "execution_count": 28,
      "metadata": {
        "jukit_cell_id": "HKPYBGqcUA"
      },
      "outputs": [
        {
          "data": {
            "text/plain": [
              "['andrea', 'inserito', 2, ['primo', 'secondo', 'paese']]"
            ]
          },
          "execution_count": 28,
          "metadata": {},
          "output_type": "execute_result"
        }
      ],
      "source": [
        "nido"
      ]
    },
    {
      "cell_type": "code",
      "execution_count": 29,
      "metadata": {
        "jukit_cell_id": "ltk7HwWTCc"
      },
      "outputs": [],
      "source": [
        "nido.insert(-1, \"ultimo\")"
      ]
    },
    {
      "cell_type": "code",
      "execution_count": 30,
      "metadata": {
        "jukit_cell_id": "rOmYKN1PTf"
      },
      "outputs": [
        {
          "data": {
            "text/plain": [
              "['andrea', 'inserito', 2, 'ultimo', ['primo', 'secondo', 'paese']]"
            ]
          },
          "execution_count": 30,
          "metadata": {},
          "output_type": "execute_result"
        }
      ],
      "source": [
        "nido"
      ]
    },
    {
      "cell_type": "code",
      "execution_count": 31,
      "metadata": {
        "jukit_cell_id": "UKjUO4d1no"
      },
      "outputs": [],
      "source": [
        "nido[-1].append(\"ancora ultimo\")"
      ]
    },
    {
      "cell_type": "code",
      "execution_count": 32,
      "metadata": {
        "jukit_cell_id": "CVBEFGyegY"
      },
      "outputs": [
        {
          "data": {
            "text/plain": [
              "['andrea',\n",
              " 'inserito',\n",
              " 2,\n",
              " 'ultimo',\n",
              " ['primo', 'secondo', 'paese', 'ancora ultimo']]"
            ]
          },
          "execution_count": 32,
          "metadata": {},
          "output_type": "execute_result"
        }
      ],
      "source": [
        "nido"
      ]
    },
    {
      "cell_type": "code",
      "execution_count": 33,
      "metadata": {
        "jukit_cell_id": "NxdPKLJoH7"
      },
      "outputs": [],
      "source": [
        "del nido[0]"
      ]
    },
    {
      "cell_type": "code",
      "execution_count": 34,
      "metadata": {
        "jukit_cell_id": "uDrkBJJKYn"
      },
      "outputs": [
        {
          "data": {
            "text/plain": [
              "['inserito', 2, 'ultimo', ['primo', 'secondo', 'paese', 'ancora ultimo']]"
            ]
          },
          "execution_count": 34,
          "metadata": {},
          "output_type": "execute_result"
        }
      ],
      "source": [
        "nido"
      ]
    },
    {
      "cell_type": "code",
      "execution_count": 35,
      "metadata": {
        "jukit_cell_id": "N5ZzOAnma2"
      },
      "outputs": [
        {
          "data": {
            "text/plain": [
              "True"
            ]
          },
          "execution_count": 35,
          "metadata": {},
          "output_type": "execute_result"
        }
      ],
      "source": [
        "\"ultimo\" in nido"
      ]
    },
    {
      "cell_type": "code",
      "execution_count": 36,
      "metadata": {
        "jukit_cell_id": "5kCYVFMGvV"
      },
      "outputs": [
        {
          "data": {
            "text/plain": [
              "True"
            ]
          },
          "execution_count": 36,
          "metadata": {},
          "output_type": "execute_result"
        }
      ],
      "source": [
        "\"paese\" in nido[-1]"
      ]
    },
    {
      "cell_type": "code",
      "execution_count": 37,
      "metadata": {
        "jukit_cell_id": "OAUr7fKddb"
      },
      "outputs": [
        {
          "data": {
            "text/plain": [
              "False"
            ]
          },
          "execution_count": 37,
          "metadata": {},
          "output_type": "execute_result"
        }
      ],
      "source": [
        "\"paese\" in nido"
      ]
    },
    {
      "cell_type": "markdown",
      "metadata": {
        "jukit_cell_id": "wcErPhhXkP"
      },
      "source": [
        "## Due nomi, una lista"
      ]
    },
    {
      "cell_type": "code",
      "execution_count": 38,
      "metadata": {
        "jukit_cell_id": "OlsYx1wA1E"
      },
      "outputs": [],
      "source": [
        "lista1 = [1, 2, 3]\n",
        "lista2 = lista1\n",
        "lista2[1] = 60"
      ]
    },
    {
      "cell_type": "code",
      "execution_count": 39,
      "metadata": {
        "jukit_cell_id": "ZuNDslF4xm"
      },
      "outputs": [
        {
          "data": {
            "text/plain": [
              "[1, 60, 3]"
            ]
          },
          "execution_count": 39,
          "metadata": {},
          "output_type": "execute_result"
        }
      ],
      "source": [
        "lista1"
      ]
    },
    {
      "cell_type": "code",
      "execution_count": 40,
      "metadata": {
        "jukit_cell_id": "8nF7fBU0xP"
      },
      "outputs": [
        {
          "data": {
            "text/plain": [
              "[1, 60, 3]"
            ]
          },
          "execution_count": 40,
          "metadata": {},
          "output_type": "execute_result"
        }
      ],
      "source": [
        "lista2"
      ]
    },
    {
      "cell_type": "markdown",
      "metadata": {
        "jukit_cell_id": "7wq7oHZkEL"
      },
      "source": [
        "Puntando alla stessa lista la variazione di una determina la variazione dell'altra... se questo non fosse il comportamento che vogliamo ritorna utile l'attributo COPY..."
      ]
    },
    {
      "cell_type": "code",
      "execution_count": 41,
      "metadata": {
        "jukit_cell_id": "W5UrItl3a8"
      },
      "outputs": [],
      "source": [
        "lista1 = [1, 2, 3]\n",
        "lista2 = lista1.copy()"
      ]
    },
    {
      "cell_type": "code",
      "execution_count": 42,
      "metadata": {
        "jukit_cell_id": "AEHImLf8iL"
      },
      "outputs": [],
      "source": [
        "lista2[0] = 60"
      ]
    },
    {
      "cell_type": "code",
      "execution_count": 43,
      "metadata": {
        "jukit_cell_id": "yYuL87jAGF"
      },
      "outputs": [
        {
          "data": {
            "text/plain": [
              "[1, 2, 3]"
            ]
          },
          "execution_count": 43,
          "metadata": {},
          "output_type": "execute_result"
        }
      ],
      "source": [
        "lista1"
      ]
    },
    {
      "cell_type": "code",
      "execution_count": 44,
      "metadata": {
        "jukit_cell_id": "AisOKZ7xqf"
      },
      "outputs": [
        {
          "data": {
            "text/plain": [
              "[60, 2, 3]"
            ]
          },
          "execution_count": 44,
          "metadata": {},
          "output_type": "execute_result"
        }
      ],
      "source": [
        "lista2"
      ]
    },
    {
      "cell_type": "markdown",
      "metadata": {
        "jukit_cell_id": "mbcl1dky3V"
      },
      "source": [
        "## Tuple"
      ]
    },
    {
      "cell_type": "markdown",
      "metadata": {
        "jukit_cell_id": "9TZrphVRLw"
      },
      "source": [
        "La tupla è una sequenza $\\huge{immutabile}$"
      ]
    },
    {
      "cell_type": "markdown",
      "metadata": {
        "jukit_cell_id": "IryEMbCxBW"
      },
      "source": [
        "Il tipo è la classe tuple()"
      ]
    },
    {
      "cell_type": "code",
      "execution_count": 45,
      "metadata": {
        "jukit_cell_id": "2yI46WpeV5"
      },
      "outputs": [],
      "source": [
        "medaglie = ()\n",
        "medaglie = tuple()\n",
        "elenco = \"oro\", \"argento\", \"bronzo\""
      ]
    },
    {
      "cell_type": "code",
      "execution_count": 46,
      "metadata": {
        "jukit_cell_id": "nKhkNRRYmF"
      },
      "outputs": [
        {
          "name": "stdout",
          "output_type": "stream",
          "text": [
            "<class 'tuple'>\n"
          ]
        }
      ],
      "source": [
        "print(type(elenco))"
      ]
    },
    {
      "cell_type": "code",
      "execution_count": 47,
      "metadata": {
        "jukit_cell_id": "s7POldBaRR"
      },
      "outputs": [
        {
          "name": "stdout",
          "output_type": "stream",
          "text": [
            "('oro', 'argento', 'bronzo')\n"
          ]
        }
      ],
      "source": [
        "print(elenco)"
      ]
    },
    {
      "cell_type": "markdown",
      "metadata": {
        "jukit_cell_id": "bgqpA4QugN"
      },
      "source": [
        "il Tuple $\\huge{UNpacking}$"
      ]
    },
    {
      "cell_type": "code",
      "execution_count": 48,
      "metadata": {
        "jukit_cell_id": "D1H2PGAfwF"
      },
      "outputs": [],
      "source": [
        "primo, secondo, terzo = elenco"
      ]
    },
    {
      "cell_type": "code",
      "execution_count": 49,
      "metadata": {
        "jukit_cell_id": "Q1Z2YIeubs"
      },
      "outputs": [
        {
          "data": {
            "text/plain": [
              "'oro'"
            ]
          },
          "execution_count": 49,
          "metadata": {},
          "output_type": "execute_result"
        }
      ],
      "source": [
        "primo"
      ]
    },
    {
      "cell_type": "code",
      "execution_count": 50,
      "metadata": {
        "jukit_cell_id": "AFDF1JBzin"
      },
      "outputs": [
        {
          "data": {
            "text/plain": [
              "'argento'"
            ]
          },
          "execution_count": 50,
          "metadata": {},
          "output_type": "execute_result"
        }
      ],
      "source": [
        "secondo"
      ]
    },
    {
      "cell_type": "code",
      "execution_count": 51,
      "metadata": {
        "jukit_cell_id": "fIVMxpjwE2"
      },
      "outputs": [
        {
          "data": {
            "text/plain": [
              "'bronzo'"
            ]
          },
          "execution_count": 51,
          "metadata": {},
          "output_type": "execute_result"
        }
      ],
      "source": [
        "terzo"
      ]
    },
    {
      "cell_type": "markdown",
      "metadata": {
        "jukit_cell_id": "pnDsXoe8BI"
      },
      "source": [
        "## Dizionario"
      ]
    },
    {
      "cell_type": "markdown",
      "metadata": {
        "jukit_cell_id": "rj6Sctvrqf"
      },
      "source": [
        "Nei dizionari l'ordine degli elementi non è definito, si usano delle chiavi univoche che vengono associate ai rispettivi valori."
      ]
    },
    {
      "cell_type": "markdown",
      "metadata": {
        "jukit_cell_id": "keG4Jfoe26"
      },
      "source": [
        "Le chiavi devono essere univoche. Gli elementi dei dizionari sono mutabili attraverso i metodi appartenenti ai dizionari."
      ]
    },
    {
      "cell_type": "markdown",
      "metadata": {
        "jukit_cell_id": "bdmMj0THDZ"
      },
      "source": [
        "La classe dei dizionari è la dict()."
      ]
    },
    {
      "cell_type": "code",
      "execution_count": 52,
      "metadata": {
        "jukit_cell_id": "KDQI6U90XA"
      },
      "outputs": [],
      "source": [
        "mioDizionario = {}\n",
        "mioDizionario = dict()"
      ]
    },
    {
      "cell_type": "code",
      "execution_count": 53,
      "metadata": {
        "jukit_cell_id": "mYkAs94Fxy"
      },
      "outputs": [],
      "source": [
        "myDict = {\n",
        "    \"primo\": 10,\n",
        "    \"secondo\": 20,\n",
        "    \"terzo\": 30\n",
        "}"
      ]
    },
    {
      "cell_type": "code",
      "execution_count": 54,
      "metadata": {
        "jukit_cell_id": "Hkko60BZPa"
      },
      "outputs": [],
      "source": [
        "myDict[\"quarto\"] = 40"
      ]
    },
    {
      "cell_type": "code",
      "execution_count": 55,
      "metadata": {
        "jukit_cell_id": "nZX3lcn69w"
      },
      "outputs": [
        {
          "data": {
            "text/plain": [
              "{'primo': 10, 'secondo': 20, 'terzo': 30, 'quarto': 40}"
            ]
          },
          "execution_count": 55,
          "metadata": {},
          "output_type": "execute_result"
        }
      ],
      "source": [
        "myDict"
      ]
    },
    {
      "cell_type": "code",
      "execution_count": 56,
      "metadata": {
        "jukit_cell_id": "qJw1fjwJM8"
      },
      "outputs": [],
      "source": [
        "del myDict[\"secondo\"]"
      ]
    },
    {
      "cell_type": "code",
      "execution_count": 57,
      "metadata": {
        "jukit_cell_id": "tJlRvoMGJw"
      },
      "outputs": [
        {
          "data": {
            "text/plain": [
              "{'primo': 10, 'terzo': 30, 'quarto': 40}"
            ]
          },
          "execution_count": 57,
          "metadata": {},
          "output_type": "execute_result"
        }
      ],
      "source": [
        "myDict"
      ]
    },
    {
      "cell_type": "markdown",
      "metadata": {
        "jukit_cell_id": "qLl6Vnui4A"
      },
      "source": [
        "~~~\n",
        "myDict.clear() # vuota il dizionario"
      ]
    },
    {
      "cell_type": "code",
      "execution_count": 58,
      "metadata": {
        "jukit_cell_id": "x4sHxrJvd6"
      },
      "outputs": [
        {
          "data": {
            "text/plain": [
              "True"
            ]
          },
          "execution_count": 58,
          "metadata": {},
          "output_type": "execute_result"
        }
      ],
      "source": [
        "\"terzo\" in myDict"
      ]
    },
    {
      "cell_type": "code",
      "execution_count": 59,
      "metadata": {
        "jukit_cell_id": "ZLEKCiUjBi"
      },
      "outputs": [],
      "source": [
        "myDict2 = myDict.copy()"
      ]
    },
    {
      "cell_type": "code",
      "execution_count": 60,
      "metadata": {
        "jukit_cell_id": "2tBENw8vin"
      },
      "outputs": [
        {
          "data": {
            "text/plain": [
              "{'primo': 10, 'terzo': 30, 'quarto': 40}"
            ]
          },
          "execution_count": 60,
          "metadata": {},
          "output_type": "execute_result"
        }
      ],
      "source": [
        "myDict2"
      ]
    },
    {
      "cell_type": "code",
      "execution_count": 61,
      "metadata": {
        "jukit_cell_id": "7lPT1fESeX"
      },
      "outputs": [],
      "source": [
        "myDict2[\"quinto\"] = 50"
      ]
    },
    {
      "cell_type": "code",
      "execution_count": 62,
      "metadata": {
        "jukit_cell_id": "E2oMmdOSJL"
      },
      "outputs": [
        {
          "data": {
            "text/plain": [
              "{'primo': 10, 'terzo': 30, 'quarto': 40, 'quinto': 50}"
            ]
          },
          "execution_count": 62,
          "metadata": {},
          "output_type": "execute_result"
        }
      ],
      "source": [
        "myDict2"
      ]
    },
    {
      "cell_type": "code",
      "execution_count": 63,
      "metadata": {
        "jukit_cell_id": "fgUDFyu6Nf"
      },
      "outputs": [
        {
          "data": {
            "text/plain": [
              "{'primo': 10, 'terzo': 30, 'quarto': 40}"
            ]
          },
          "execution_count": 63,
          "metadata": {},
          "output_type": "execute_result"
        }
      ],
      "source": [
        "myDict"
      ]
    },
    {
      "cell_type": "code",
      "execution_count": 64,
      "metadata": {
        "jukit_cell_id": "gXAffC8Zep"
      },
      "outputs": [],
      "source": [
        "d1 = {10: \"a\"}\n",
        "d2 = {20: \"b\"}"
      ]
    },
    {
      "cell_type": "code",
      "execution_count": 65,
      "metadata": {
        "jukit_cell_id": "KVwDO4iLcv"
      },
      "outputs": [],
      "source": [
        "d3 = {}"
      ]
    },
    {
      "cell_type": "code",
      "execution_count": 66,
      "metadata": {
        "jukit_cell_id": "IZyN2piyzP"
      },
      "outputs": [],
      "source": [
        "d3.update(d1)"
      ]
    },
    {
      "cell_type": "code",
      "execution_count": 67,
      "metadata": {
        "jukit_cell_id": "kfpY3loFo2"
      },
      "outputs": [
        {
          "data": {
            "text/plain": [
              "{10: 'a'}"
            ]
          },
          "execution_count": 67,
          "metadata": {},
          "output_type": "execute_result"
        }
      ],
      "source": [
        "d3"
      ]
    },
    {
      "cell_type": "code",
      "execution_count": 68,
      "metadata": {
        "jukit_cell_id": "17Ixad3uPc"
      },
      "outputs": [],
      "source": [
        "d3.update(d2)"
      ]
    },
    {
      "cell_type": "code",
      "execution_count": 69,
      "metadata": {
        "jukit_cell_id": "H84gdWVw3q"
      },
      "outputs": [
        {
          "data": {
            "text/plain": [
              "{10: 'a', 20: 'b'}"
            ]
          },
          "execution_count": 69,
          "metadata": {},
          "output_type": "execute_result"
        }
      ],
      "source": [
        "d3"
      ]
    },
    {
      "cell_type": "markdown",
      "metadata": {
        "jukit_cell_id": "j1cSWkkQxy"
      },
      "source": [
        "## SET"
      ]
    },
    {
      "cell_type": "markdown",
      "metadata": {
        "jukit_cell_id": "AOgOQ51N08"
      },
      "source": [
        "Si tratta di insiemi, con tutte le operazioni matematiche che abbiamo per gli insiemi..."
      ]
    },
    {
      "cell_type": "code",
      "execution_count": 70,
      "metadata": {
        "jukit_cell_id": "lfA7zb2Uwv"
      },
      "outputs": [],
      "source": [
        "mySet = set()"
      ]
    },
    {
      "cell_type": "code",
      "execution_count": 71,
      "metadata": {
        "jukit_cell_id": "siAh3EdO8b"
      },
      "outputs": [],
      "source": [
        "mySet1 = {1, 2, 3, 4}"
      ]
    },
    {
      "cell_type": "markdown",
      "metadata": {
        "jukit_cell_id": "u2WH3r0DUL"
      },
      "source": [
        "Un set è un oggetto **mutabile**:"
      ]
    },
    {
      "cell_type": "code",
      "execution_count": 72,
      "metadata": {
        "jukit_cell_id": "TU7JKoEkJ1"
      },
      "outputs": [
        {
          "name": "stdout",
          "output_type": "stream",
          "text": [
            "{1, 2, 3, 4, 19}\n"
          ]
        }
      ],
      "source": [
        "mySet1.add(19)\n",
        "print(mySet1)"
      ]
    },
    {
      "cell_type": "markdown",
      "metadata": {
        "jukit_cell_id": "GU03ygHkDb"
      },
      "source": [
        "Esiste anche la possibilità di usare dei Frozen SET...immutabili"
      ]
    },
    {
      "cell_type": "code",
      "execution_count": 73,
      "metadata": {
        "jukit_cell_id": "mzmqNEQ0tc"
      },
      "outputs": [],
      "source": [
        "gelo = frozenset([12, 23, 43])"
      ]
    },
    {
      "cell_type": "code",
      "execution_count": 74,
      "metadata": {
        "jukit_cell_id": "hZmZX6hC3O"
      },
      "outputs": [
        {
          "data": {
            "text/plain": [
              "True"
            ]
          },
          "execution_count": 74,
          "metadata": {},
          "output_type": "execute_result"
        }
      ],
      "source": [
        "23 in gelo"
      ]
    },
    {
      "cell_type": "code",
      "execution_count": 75,
      "metadata": {
        "jukit_cell_id": "pnNuYFIlDW"
      },
      "outputs": [
        {
          "data": {
            "text/plain": [
              "True"
            ]
          },
          "execution_count": 75,
          "metadata": {},
          "output_type": "execute_result"
        }
      ],
      "source": [
        "2 in mySet1"
      ]
    },
    {
      "cell_type": "markdown",
      "metadata": {
        "jukit_cell_id": "SnLqpdwbHs"
      },
      "source": [
        "Operazioni peculiari sugli insiemi: intersezione ed unione."
      ]
    },
    {
      "cell_type": "code",
      "execution_count": 76,
      "metadata": {
        "jukit_cell_id": "DAfq6NfAuS"
      },
      "outputs": [],
      "source": [
        "set1 = {10,20,30,40}\n",
        "set2 = {30,40,50,60}"
      ]
    },
    {
      "cell_type": "code",
      "execution_count": 77,
      "metadata": {
        "jukit_cell_id": "zeL3dxVYb6"
      },
      "outputs": [
        {
          "data": {
            "text/plain": [
              "{30, 40}"
            ]
          },
          "execution_count": 77,
          "metadata": {},
          "output_type": "execute_result"
        }
      ],
      "source": [
        "set1 & set2 # intersezione"
      ]
    },
    {
      "cell_type": "code",
      "execution_count": 78,
      "metadata": {
        "jukit_cell_id": "qOie5LJONt"
      },
      "outputs": [
        {
          "data": {
            "text/plain": [
              "{10, 20, 30, 40, 50, 60}"
            ]
          },
          "execution_count": 78,
          "metadata": {},
          "output_type": "execute_result"
        }
      ],
      "source": [
        "set1.union(set2) # unione"
      ]
    },
    {
      "cell_type": "code",
      "execution_count": 79,
      "metadata": {
        "jukit_cell_id": "RMsXKKswxd"
      },
      "outputs": [
        {
          "data": {
            "text/plain": [
              "{10, 20, 30, 40, 50, 60}"
            ]
          },
          "execution_count": 79,
          "metadata": {},
          "output_type": "execute_result"
        }
      ],
      "source": [
        "set1 | set2 # somma logica (unione)"
      ]
    },
    {
      "cell_type": "code",
      "execution_count": 80,
      "metadata": {
        "jukit_cell_id": "VPTU7X1Qfo"
      },
      "outputs": [
        {
          "data": {
            "text/plain": [
              "{10, 20}"
            ]
          },
          "execution_count": 80,
          "metadata": {},
          "output_type": "execute_result"
        }
      ],
      "source": [
        "set1 - set2 # differenza logica"
      ]
    },
    {
      "cell_type": "code",
      "execution_count": 81,
      "metadata": {
        "jukit_cell_id": "gcIVZjHJ6i"
      },
      "outputs": [
        {
          "data": {
            "text/plain": [
              "{10, 20, 50, 60}"
            ]
          },
          "execution_count": 81,
          "metadata": {},
          "output_type": "execute_result"
        }
      ],
      "source": [
        "set1 ^ set2 # or esclusivo: al primo o al secondo ma non entrambi"
      ]
    },
    {
      "cell_type": "markdown",
      "metadata": {
        "jukit_cell_id": "iV1fhPMD79"
      },
      "source": [
        "# Strutture di codice"
      ]
    },
    {
      "cell_type": "markdown",
      "metadata": {
        "jukit_cell_id": "aimK4pLUPt"
      },
      "source": [
        "## linee di codice e blocchi di codice"
      ]
    },
    {
      "cell_type": "markdown",
      "metadata": {
        "jukit_cell_id": "8nE91NUTZE"
      },
      "source": [
        "Abbiamo:\n",
        "* linee logiche di codice (che vede python)\n",
        "* linee fisiche (che scriviamo nel listato)"
      ]
    },
    {
      "cell_type": "code",
      "execution_count": 82,
      "metadata": {
        "jukit_cell_id": "EQwR4QwJDd"
      },
      "outputs": [
        {
          "name": "stdout",
          "output_type": "stream",
          "text": [
            "python programming language\n"
          ]
        }
      ],
      "source": [
        "s = \"python \\\n",
        "programming \\\n",
        "language\"\n",
        "print(s) # 4 linee fisiche ma una sola linea logica"
      ]
    },
    {
      "cell_type": "markdown",
      "metadata": {
        "jukit_cell_id": "lehU0TXAus"
      },
      "source": [
        "Un blocco di codice è un insieme di linee di codice raggruppate!"
      ]
    },
    {
      "cell_type": "markdown",
      "metadata": {
        "jukit_cell_id": "6RlUs1W6i9"
      },
      "source": [
        "```\n",
        "inp = input(\"inserisci un numero: \")\n",
        "x = int(inp)\n",
        "if x < 10:\n",
        "    s = \"numero minore di 10\"\n",
        "    print(s)"
      ]
    },
    {
      "cell_type": "markdown",
      "metadata": {
        "jukit_cell_id": "VRhrBynozb"
      },
      "source": [
        "## Statement: istruzioni del programma"
      ]
    },
    {
      "cell_type": "markdown",
      "metadata": {
        "jukit_cell_id": "dA0fNWIU5w"
      },
      "source": [
        "Operazioni che si richiede al codice python di eseguire:\n",
        "\n",
        "```s = \"andrea\"```"
      ]
    },
    {
      "cell_type": "markdown",
      "metadata": {
        "jukit_cell_id": "m1ZI621TrP"
      },
      "source": [
        "Statement semplici e composti"
      ]
    },
    {
      "cell_type": "markdown",
      "metadata": {
        "jukit_cell_id": "9uj4MHZHPt"
      },
      "source": [
        "```\n",
        "if x < 10:\n",
        "    s = \"numero minore di 10\"\n",
        "    elif x == 10:\n",
        "        s = \"numero 10\"\n",
        "    else:\n",
        "        s = \"numero maggiore di 10\n",
        "        print(s)"
      ]
    },
    {
      "cell_type": "markdown",
      "metadata": {
        "jukit_cell_id": "uI1o5Y8AEc"
      },
      "source": [
        "Struttura di uno statement composto:\n",
        "* contiene una o più clausole\n",
        "* ogni clausola contiene una parola chiave di python detta HEADER e termina con il carattere :\n",
        "* suite che contiene un blocco di codice, indentato rispetto all'HEADER"
      ]
    },
    {
      "cell_type": "markdown",
      "metadata": {
        "jukit_cell_id": "cKpBHKwLN9"
      },
      "source": [
        "## Lo statement IF\n",
        "Viene utilizzato per definire una esecuzione condizionata del codice (azioni differenti rispetto al test di verità). "
      ]
    },
    {
      "cell_type": "markdown",
      "metadata": {
        "jukit_cell_id": "aOVdMtKuln"
      },
      "source": [
        "La clausola ELSE viene eseguita solo se tutte le precedenti danno come risultato FALSE; possiamo ometterla per fare in modo che nel caso di tutti FALSE non venga eseguito nulla!"
      ]
    },
    {
      "cell_type": "code",
      "execution_count": 83,
      "metadata": {
        "jukit_cell_id": "3ph8Y0DLJH"
      },
      "outputs": [],
      "source": [
        "x = 10\n",
        "if x > 11:\n",
        "    print(\"il numero è maggiore di 11\") # manca la clausola else"
      ]
    },
    {
      "cell_type": "markdown",
      "metadata": {
        "jukit_cell_id": "dljhV6bXVp"
      },
      "source": [
        "## Lo statement WHILE\n",
        "La else è facoltativa ma poco utilizzata"
      ]
    },
    {
      "cell_type": "markdown",
      "metadata": {
        "jukit_cell_id": "UBmFIZoDEP"
      },
      "source": [
        "Se è presente la clausola ELSE si entra nel ciclo sempre: se l'espressione risulterà FALSE ci entreremo direttamente senza passare dal True."
      ]
    },
    {
      "cell_type": "markdown",
      "metadata": {
        "jukit_cell_id": "Vuyyo7KNr1"
      },
      "source": [
        "```\n",
        "x = 0\n",
        "while x < 3:\n",
        "    print(x)\n",
        "    x += 1"
      ]
    },
    {
      "cell_type": "markdown",
      "metadata": {
        "jukit_cell_id": "tmHCbFw6rx"
      },
      "source": [
        "Spesso si vuole eseguire un loop senza sapere quando la condizione sarà verificata; in questo caso utilizzeremo $\\color{green}{break}$ per uscire dal loop."
      ]
    },
    {
      "cell_type": "markdown",
      "metadata": {
        "jukit_cell_id": "XwCfZT7Ivz"
      },
      "source": [
        "Diverso è lo statement $\\color{red}{continue}$ il quale non esce dal ciclo ma lo fà ripartire dall'inizio!"
      ]
    },
    {
      "cell_type": "code",
      "execution_count": 84,
      "metadata": {
        "jukit_cell_id": "AljtPhxaxc"
      },
      "outputs": [
        {
          "ename": "KeyboardInterrupt",
          "evalue": "Interrupted by user",
          "output_type": "error",
          "traceback": [
            "\u001b[0;31m---------------------------------------------------------------------------\u001b[0m",
            "\u001b[0;31mKeyboardInterrupt\u001b[0m                         Traceback (most recent call last)",
            "\u001b[1;32m/home/andrea/Dropbox/PythonBicherWorld/Udemy/corsoCompleto.ipynb Cell 192\u001b[0m line \u001b[0;36m2\n\u001b[1;32m      <a href='vscode-notebook-cell:/home/andrea/Dropbox/PythonBicherWorld/Udemy/corsoCompleto.ipynb#Y361sZmlsZQ%3D%3D?line=0'>1</a>\u001b[0m \u001b[39mwhile\u001b[39;00m \u001b[39mTrue\u001b[39;00m:\n\u001b[0;32m----> <a href='vscode-notebook-cell:/home/andrea/Dropbox/PythonBicherWorld/Udemy/corsoCompleto.ipynb#Y361sZmlsZQ%3D%3D?line=1'>2</a>\u001b[0m     x \u001b[39m=\u001b[39m \u001b[39minput\u001b[39;49m(\u001b[39m\"\u001b[39;49m\u001b[39minserire una stringa \u001b[39;49m\u001b[39m\"\u001b[39;49m)\n\u001b[1;32m      <a href='vscode-notebook-cell:/home/andrea/Dropbox/PythonBicherWorld/Udemy/corsoCompleto.ipynb#Y361sZmlsZQ%3D%3D?line=2'>3</a>\u001b[0m     \u001b[39mif\u001b[39;00m x \u001b[39m==\u001b[39m \u001b[39m\"\u001b[39m\u001b[39mstop\u001b[39m\u001b[39m\"\u001b[39m:\n\u001b[1;32m      <a href='vscode-notebook-cell:/home/andrea/Dropbox/PythonBicherWorld/Udemy/corsoCompleto.ipynb#Y361sZmlsZQ%3D%3D?line=3'>4</a>\u001b[0m         \u001b[39mbreak\u001b[39;00m\n",
            "File \u001b[0;32m~/.local/lib/python3.10/site-packages/ipykernel/kernelbase.py:1202\u001b[0m, in \u001b[0;36mKernel.raw_input\u001b[0;34m(self, prompt)\u001b[0m\n\u001b[1;32m   1200\u001b[0m     msg \u001b[39m=\u001b[39m \u001b[39m\"\u001b[39m\u001b[39mraw_input was called, but this frontend does not support input requests.\u001b[39m\u001b[39m\"\u001b[39m\n\u001b[1;32m   1201\u001b[0m     \u001b[39mraise\u001b[39;00m StdinNotImplementedError(msg)\n\u001b[0;32m-> 1202\u001b[0m \u001b[39mreturn\u001b[39;00m \u001b[39mself\u001b[39;49m\u001b[39m.\u001b[39;49m_input_request(\n\u001b[1;32m   1203\u001b[0m     \u001b[39mstr\u001b[39;49m(prompt),\n\u001b[1;32m   1204\u001b[0m     \u001b[39mself\u001b[39;49m\u001b[39m.\u001b[39;49m_parent_ident[\u001b[39m\"\u001b[39;49m\u001b[39mshell\u001b[39;49m\u001b[39m\"\u001b[39;49m],\n\u001b[1;32m   1205\u001b[0m     \u001b[39mself\u001b[39;49m\u001b[39m.\u001b[39;49mget_parent(\u001b[39m\"\u001b[39;49m\u001b[39mshell\u001b[39;49m\u001b[39m\"\u001b[39;49m),\n\u001b[1;32m   1206\u001b[0m     password\u001b[39m=\u001b[39;49m\u001b[39mFalse\u001b[39;49;00m,\n\u001b[1;32m   1207\u001b[0m )\n",
            "File \u001b[0;32m~/.local/lib/python3.10/site-packages/ipykernel/kernelbase.py:1245\u001b[0m, in \u001b[0;36mKernel._input_request\u001b[0;34m(self, prompt, ident, parent, password)\u001b[0m\n\u001b[1;32m   1242\u001b[0m \u001b[39mexcept\u001b[39;00m \u001b[39mKeyboardInterrupt\u001b[39;00m:\n\u001b[1;32m   1243\u001b[0m     \u001b[39m# re-raise KeyboardInterrupt, to truncate traceback\u001b[39;00m\n\u001b[1;32m   1244\u001b[0m     msg \u001b[39m=\u001b[39m \u001b[39m\"\u001b[39m\u001b[39mInterrupted by user\u001b[39m\u001b[39m\"\u001b[39m\n\u001b[0;32m-> 1245\u001b[0m     \u001b[39mraise\u001b[39;00m \u001b[39mKeyboardInterrupt\u001b[39;00m(msg) \u001b[39mfrom\u001b[39;00m \u001b[39mNone\u001b[39;00m\n\u001b[1;32m   1246\u001b[0m \u001b[39mexcept\u001b[39;00m \u001b[39mException\u001b[39;00m:\n\u001b[1;32m   1247\u001b[0m     \u001b[39mself\u001b[39m\u001b[39m.\u001b[39mlog\u001b[39m.\u001b[39mwarning(\u001b[39m\"\u001b[39m\u001b[39mInvalid Message:\u001b[39m\u001b[39m\"\u001b[39m, exc_info\u001b[39m=\u001b[39m\u001b[39mTrue\u001b[39;00m)\n",
            "\u001b[0;31mKeyboardInterrupt\u001b[0m: Interrupted by user"
          ]
        }
      ],
      "source": [
        "while True:\n",
        "    x = input(\"inserire una stringa \")\n",
        "    if x == \"stop\":\n",
        "        break\n",
        "    if x < \"b\":\n",
        "        continue\n",
        "    print(x) # tutte le stringhe < b non vengono stampate perchè si ritorna al primo if"
      ]
    },
    {
      "cell_type": "markdown",
      "metadata": {
        "jukit_cell_id": "KanNAdZEVr"
      },
      "source": [
        "## Ciclo FOR"
      ]
    },
    {
      "cell_type": "markdown",
      "metadata": {
        "jukit_cell_id": "xUyW9CsxLC"
      },
      "source": [
        "```\n",
        "for target in iterator:\n",
        "    suite\n",
        "else:\n",
        "    suite"
      ]
    },
    {
      "cell_type": "markdown",
      "metadata": {
        "jukit_cell_id": "rtLP3s2ewL"
      },
      "source": [
        "L'iterazione termina quando tutti gli elementi di iterator sono stati processati. La clausola else, poco utilizzata, solo se tutti gli elementi sono stati iterati."
      ]
    },
    {
      "cell_type": "code",
      "execution_count": null,
      "metadata": {
        "jukit_cell_id": "3oliOshscB"
      },
      "outputs": [
        {
          "name": "stdout",
          "output_type": "stream",
          "text": [
            "1\n",
            "3\n",
            "4\n"
          ]
        }
      ],
      "source": [
        "myList = [1, 3, 4, 5]\n",
        "for i in myList:\n",
        "    if i <= 4:\n",
        "        print(i)\n",
        "    else:\n",
        "        break\n",
        "else:\n",
        "    print(\"ho iterato tutti gli elementi\")"
      ]
    },
    {
      "cell_type": "code",
      "execution_count": null,
      "metadata": {
        "jukit_cell_id": "ibr5H54diH"
      },
      "outputs": [
        {
          "name": "stdout",
          "output_type": "stream",
          "text": [
            "1\n",
            "3\n",
            "4\n",
            "5\n",
            "ho iterato tutti gli elementi\n"
          ]
        }
      ],
      "source": [
        "for i in myList:\n",
        "    if i <= 9:\n",
        "        print(i)\n",
        "    else:\n",
        "        break\n",
        "else:\n",
        "    print(\"ho iterato tutti gli elementi\")"
      ]
    },
    {
      "cell_type": "markdown",
      "metadata": {
        "jukit_cell_id": "6OE6fHXWpf"
      },
      "source": [
        "L'iterazione sui dizionari assegna alla variabile TARGET le KEY.\n",
        "```\n",
        "for i in myDict..."
      ]
    },
    {
      "cell_type": "markdown",
      "metadata": {
        "jukit_cell_id": "POaR7Ugqa4"
      },
      "source": [
        "```\n",
        "for i in myDict.items()\n",
        "```\n",
        "restituisce delle tuple chiave valore."
      ]
    },
    {
      "cell_type": "markdown",
      "metadata": {
        "jukit_cell_id": "lSFC1jICdY"
      },
      "source": [
        "CONTINUE nel ciclo for avanza l'iterazione saltando l'elemento indicato:"
      ]
    },
    {
      "cell_type": "code",
      "execution_count": null,
      "metadata": {
        "jukit_cell_id": "XeIHSLvLnp"
      },
      "outputs": [
        {
          "name": "stdout",
          "output_type": "stream",
          "text": [
            "1\n",
            "3\n",
            "7\n"
          ]
        }
      ],
      "source": [
        "for i in [1, 3, 5, 7]:\n",
        "    if i == 5:\n",
        "        continue\n",
        "    print(i)"
      ]
    },
    {
      "cell_type": "markdown",
      "metadata": {
        "jukit_cell_id": "yQF6STEnb7"
      },
      "source": [
        "## La funzione RANGE\n",
        "range(start, stop, step)... lo STOP è SEMPRE escluso!"
      ]
    },
    {
      "cell_type": "markdown",
      "metadata": {
        "jukit_cell_id": "M9eRxsroEa"
      },
      "source": [
        "## List comprehension"
      ]
    },
    {
      "cell_type": "markdown",
      "metadata": {
        "jukit_cell_id": "MxcOvSDnrH"
      },
      "source": [
        "Si tratta di un argomento avanzato ma molto importante perchè si tratta di uno strumento molto \n",
        "potente!"
      ]
    },
    {
      "cell_type": "markdown",
      "metadata": {
        "jukit_cell_id": "m6F0fLUrt0"
      },
      "source": [
        "[expression for item in iterable if condition]"
      ]
    },
    {
      "cell_type": "code",
      "execution_count": null,
      "metadata": {
        "jukit_cell_id": "Evg23zKcaK"
      },
      "outputs": [],
      "source": [
        "miaLista = [1, 3, 5, 7, 8, 9, 12]"
      ]
    },
    {
      "cell_type": "code",
      "execution_count": null,
      "metadata": {
        "jukit_cell_id": "3oGukEcoAR"
      },
      "outputs": [
        {
          "name": "stdout",
          "output_type": "stream",
          "text": [
            "[7, 8, 9, 12]\n"
          ]
        }
      ],
      "source": [
        "l =[x for x in miaLista if x > 5]\n",
        "print(l)"
      ]
    },
    {
      "cell_type": "code",
      "execution_count": null,
      "metadata": {
        "jukit_cell_id": "PIy5soUgaR"
      },
      "outputs": [
        {
          "name": "stdout",
          "output_type": "stream",
          "text": [
            "[10, 30, 50, 70, 80, 90, 120]\n"
          ]
        }
      ],
      "source": [
        "s = [x * 10 for x in miaLista]\n",
        "print(s)"
      ]
    },
    {
      "cell_type": "code",
      "execution_count": null,
      "metadata": {
        "jukit_cell_id": "5vRAFCmSnt"
      },
      "outputs": [
        {
          "name": "stdout",
          "output_type": "stream",
          "text": [
            "[64, 144]\n"
          ]
        }
      ],
      "source": [
        "p = [x*x for x in miaLista if x % 2 == 0]\n",
        "print(p)"
      ]
    },
    {
      "cell_type": "markdown",
      "metadata": {
        "jukit_cell_id": "3Ql7wJbSCL"
      },
      "source": [
        "## Dict comprehension"
      ]
    },
    {
      "cell_type": "code",
      "execution_count": null,
      "metadata": {
        "jukit_cell_id": "0YbCoBVk8c"
      },
      "outputs": [],
      "source": [
        "nomi = {10: \"andrea\", 20: \"mario\", 30: \"anna\", 40: \"giuseppe\"}"
      ]
    },
    {
      "cell_type": "code",
      "execution_count": null,
      "metadata": {
        "jukit_cell_id": "HITzRpnVCZ"
      },
      "outputs": [
        {
          "name": "stdout",
          "output_type": "stream",
          "text": [
            "{30: 'anna', 40: 'giuseppe'}\n"
          ]
        }
      ],
      "source": [
        "mioDizionario = {k:v for k,v in nomi.items() if k > 20}\n",
        "print(mioDizionario)"
      ]
    },
    {
      "cell_type": "code",
      "execution_count": null,
      "metadata": {
        "jukit_cell_id": "zD6VTnjGAT"
      },
      "outputs": [
        {
          "name": "stdout",
          "output_type": "stream",
          "text": [
            "{10: 'andrea', 20: 'mario'}\n"
          ]
        }
      ],
      "source": [
        "nomiDict = {k:v for k,v in nomi.items() if k <= 20}\n",
        "print(nomiDict)"
      ]
    },
    {
      "cell_type": "code",
      "execution_count": null,
      "metadata": {
        "jukit_cell_id": "GfeXB3NyqT"
      },
      "outputs": [
        {
          "name": "stdout",
          "output_type": "stream",
          "text": [
            "{40: 'andrea', 50: 'mario', 60: 'anna', 70: 'giuseppe'}\n"
          ]
        }
      ],
      "source": [
        "cambiato= {(k+30):v for k,v in nomi.items()}\n",
        "print(cambiato)"
      ]
    },
    {
      "cell_type": "markdown",
      "metadata": {
        "jukit_cell_id": "R8Cykvy7C0"
      },
      "source": [
        "# Set comprehension\n",
        "Ricordiamo che il set non può contenere elementi DUPLICATI."
      ]
    },
    {
      "cell_type": "code",
      "execution_count": null,
      "metadata": {
        "jukit_cell_id": "NtLUZTg0lX"
      },
      "outputs": [],
      "source": [
        "lista = [ 1, 5, 7, 8, 9]"
      ]
    },
    {
      "cell_type": "code",
      "execution_count": null,
      "metadata": {
        "jukit_cell_id": "TglZujPSPf"
      },
      "outputs": [
        {
          "name": "stdout",
          "output_type": "stream",
          "text": [
            "{1, 5}\n"
          ]
        }
      ],
      "source": [
        "nuovo = {x for x in lista if x < 7}\n",
        "print(nuovo)"
      ]
    },
    {
      "cell_type": "markdown",
      "metadata": {
        "jukit_cell_id": "NbkQf2kGyg"
      },
      "source": [
        "# le Funzioni"
      ]
    },
    {
      "cell_type": "markdown",
      "metadata": {
        "jukit_cell_id": "vCKA9bL4BX"
      },
      "source": [
        "Insieme di istruzioni con un nome, eseguita a richiesta in altre parti del programma. Una\n",
        "funzione è un OGGETTO, Callable Object (oggetti chiamabili)."
      ]
    },
    {
      "cell_type": "markdown",
      "metadata": {
        "jukit_cell_id": "nwmuZClvlR"
      },
      "source": [
        "Due cose si possono fare con una funzione:\n",
        "* definirla\n",
        "* chiamarla"
      ]
    },
    {
      "cell_type": "markdown",
      "metadata": {
        "jukit_cell_id": "Cls6DpEbl1"
      },
      "source": [
        "## Definizione di una funzione"
      ]
    },
    {
      "cell_type": "markdown",
      "metadata": {
        "jukit_cell_id": "9HcYjyljya"
      },
      "source": [
        "``` \n",
        "def function_name(parameters):\n",
        "            statements"
      ]
    },
    {
      "cell_type": "markdown",
      "metadata": {
        "jukit_cell_id": "Iepma5wQ60"
      },
      "source": [
        "Quando passiamo i valori ai parametri, questi si chiamano argomenti!"
      ]
    },
    {
      "cell_type": "markdown",
      "metadata": {
        "jukit_cell_id": "iIbQei0YPQ"
      },
      "source": [
        "## Parametri della funzione"
      ]
    },
    {
      "cell_type": "code",
      "execution_count": null,
      "metadata": {
        "jukit_cell_id": "rQIihDJ9hj"
      },
      "outputs": [],
      "source": [
        "def myFunc(a, b):\n",
        "    print(a, b)  # parametri posizionali, in chiamata sono necessari nell'ordine dato"
      ]
    },
    {
      "cell_type": "code",
      "execution_count": null,
      "metadata": {
        "jukit_cell_id": "IuZrIgVvjg"
      },
      "outputs": [
        {
          "name": "stdout",
          "output_type": "stream",
          "text": [
            "30 10\n"
          ]
        }
      ],
      "source": [
        "def myFunc(a, b):\n",
        "    print(a, b) # keyword possiamo passarli nell'ordine che vogliamo...\n",
        "\n",
        "myFunc(b=10, a=30)"
      ]
    },
    {
      "cell_type": "code",
      "execution_count": null,
      "metadata": {
        "jukit_cell_id": "5f8fK4N8Nd"
      },
      "outputs": [
        {
          "name": "stdout",
          "output_type": "stream",
          "text": [
            "10 50\n"
          ]
        }
      ],
      "source": [
        "myFunc(10, b=50) # prima i posizionali poi le keyword"
      ]
    },
    {
      "cell_type": "code",
      "execution_count": null,
      "metadata": {
        "jukit_cell_id": "rzRFN8e8Ps"
      },
      "outputs": [],
      "source": [
        "def myFunc(a, b, c=4):\n",
        "    print(a, b)  #parametri opzionali possono mancare nella chiamata"
      ]
    },
    {
      "cell_type": "code",
      "execution_count": null,
      "metadata": {
        "jukit_cell_id": "Zigo55Kf0L"
      },
      "outputs": [],
      "source": [
        "def myFunc(*args):\n",
        "    print(args) # il nome è convenzionale, inserisce i valori in una tupla, variabile"
      ]
    },
    {
      "cell_type": "code",
      "execution_count": null,
      "metadata": {
        "jukit_cell_id": "iB3BfXHmrP"
      },
      "outputs": [],
      "source": [
        "def myFunc(a, b, *args):\n",
        "    print(a, b, args) # i posizionali sempre prima"
      ]
    },
    {
      "cell_type": "code",
      "execution_count": null,
      "metadata": {
        "jukit_cell_id": "jo9U7v1STv"
      },
      "outputs": [
        {
          "name": "stdout",
          "output_type": "stream",
          "text": [
            "1 5 (6, 8, 9)\n"
          ]
        }
      ],
      "source": [
        "myFunc(1,5, 6,8,9)"
      ]
    },
    {
      "cell_type": "code",
      "execution_count": null,
      "metadata": {
        "jukit_cell_id": "gau6bNHhlD"
      },
      "outputs": [],
      "source": [
        "def myFunc(**kwargs):\n",
        "    print(kwargs)"
      ]
    },
    {
      "cell_type": "code",
      "execution_count": null,
      "metadata": {
        "jukit_cell_id": "YVSrhvX3s4"
      },
      "outputs": [
        {
          "name": "stdout",
          "output_type": "stream",
          "text": [
            "{'andrea': 1, 'mario': 2}\n"
          ]
        }
      ],
      "source": [
        "myFunc(andrea=1, mario=2)"
      ]
    },
    {
      "cell_type": "markdown",
      "metadata": {
        "jukit_cell_id": "8kRRFQnSTz"
      },
      "source": [
        "## Lo statement $\\color{red}{RETURN}$"
      ]
    },
    {
      "cell_type": "code",
      "execution_count": null,
      "metadata": {
        "jukit_cell_id": "YXS2ccyg1t"
      },
      "outputs": [],
      "source": [
        "def sum(a, b):\n",
        "    return a + b  # return può non essere seguito da una espressione"
      ]
    },
    {
      "cell_type": "markdown",
      "metadata": {
        "jukit_cell_id": "jlJvORxEEb"
      },
      "source": [
        "Se non indichiamo nessuna espressione, il ritorno sarà None..."
      ]
    },
    {
      "cell_type": "code",
      "execution_count": null,
      "metadata": {
        "jukit_cell_id": "NEY1fH3tVj"
      },
      "outputs": [],
      "source": [
        "def sum(a, b):\n",
        "    c = a + b # torna al chiamante il valore None..."
      ]
    },
    {
      "cell_type": "code",
      "execution_count": null,
      "metadata": {
        "jukit_cell_id": "8fo2psaLm7"
      },
      "outputs": [],
      "source": [
        "## Chiamare le funzioni"
      ]
    },
    {
      "cell_type": "markdown",
      "metadata": {
        "jukit_cell_id": "GDa8Wvqx1G"
      },
      "source": [
        "```function_name(arguments)```"
      ]
    },
    {
      "cell_type": "markdown",
      "metadata": {
        "jukit_cell_id": "6mRjxZBrua"
      },
      "source": [
        "I valori vengono passati come riferimento!"
      ]
    },
    {
      "cell_type": "code",
      "execution_count": null,
      "metadata": {
        "jukit_cell_id": "Vgcp5zA5k7"
      },
      "outputs": [],
      "source": [
        "def myFunc(x):\n",
        "    x = 10\n",
        "    print(x) "
      ]
    },
    {
      "cell_type": "code",
      "execution_count": null,
      "metadata": {
        "jukit_cell_id": "qPeeD9KYR9"
      },
      "outputs": [
        {
          "name": "stdout",
          "output_type": "stream",
          "text": [
            "10\n",
            "20\n"
          ]
        }
      ],
      "source": [
        "y = 20\n",
        "myFunc(y)\n",
        "print(y) # l'oggetto originario è immutabile e non ha modificato il suo contenuto"
      ]
    },
    {
      "cell_type": "code",
      "execution_count": null,
      "metadata": {
        "jukit_cell_id": "YvrNfQSA8G"
      },
      "outputs": [],
      "source": [
        "def myFunc(x):\n",
        "    x[\"func\"] = 10"
      ]
    },
    {
      "cell_type": "code",
      "execution_count": null,
      "metadata": {
        "jukit_cell_id": "qrkUTXfutm"
      },
      "outputs": [
        {
          "name": "stdout",
          "output_type": "stream",
          "text": [
            "{'a': 5, 'func': 10}\n"
          ]
        }
      ],
      "source": [
        "d = {\"a\": 5}\n",
        "myFunc(d)\n",
        "print(d) # d è un dizionario, mutabile, ergo è stato effettivamente mutato"
      ]
    },
    {
      "cell_type": "markdown",
      "metadata": {
        "jukit_cell_id": "t9oMWsUMUZ"
      },
      "source": [
        "## Funzioni come OGGETTI"
      ]
    },
    {
      "cell_type": "code",
      "execution_count": null,
      "metadata": {
        "jukit_cell_id": "96rsyHO50A"
      },
      "outputs": [],
      "source": [
        "def sum(x, y):\n",
        "    print(x + y)"
      ]
    },
    {
      "cell_type": "code",
      "execution_count": null,
      "metadata": {
        "jukit_cell_id": "0a5ebLX61s"
      },
      "outputs": [
        {
          "name": "stdout",
          "output_type": "stream",
          "text": [
            "15\n"
          ]
        }
      ],
      "source": [
        "sum(10, 5) # invochiamo la funzione"
      ]
    },
    {
      "cell_type": "code",
      "execution_count": null,
      "metadata": {
        "jukit_cell_id": "yt38vHqi1Q"
      },
      "outputs": [
        {
          "data": {
            "text/plain": [
              "<function __main__.sum(x, y)>"
            ]
          },
          "execution_count": 71,
          "metadata": {},
          "output_type": "execute_result"
        }
      ],
      "source": [
        "sum # chiamiamo l'oggetto funzione, istanza della classe function"
      ]
    },
    {
      "cell_type": "markdown",
      "metadata": {
        "jukit_cell_id": "I5uiboHG97"
      },
      "source": [
        "## Usare gli oggetti funzione"
      ]
    },
    {
      "cell_type": "code",
      "execution_count": null,
      "metadata": {
        "jukit_cell_id": "KSlgtX8Y7B"
      },
      "outputs": [],
      "source": [
        "def outer(x, y):\n",
        "    def sum(a, b):\n",
        "        return a + b\n",
        "    print(sum(x, y))       # funzione nidificata"
      ]
    },
    {
      "cell_type": "code",
      "execution_count": null,
      "metadata": {
        "jukit_cell_id": "sjfbYqg5I1"
      },
      "outputs": [
        {
          "name": "stdout",
          "output_type": "stream",
          "text": [
            "15\n"
          ]
        }
      ],
      "source": [
        "outer(10,5)"
      ]
    },
    {
      "cell_type": "code",
      "execution_count": null,
      "metadata": {
        "jukit_cell_id": "q9gQgVYdxd"
      },
      "outputs": [
        {
          "name": "stdout",
          "output_type": "stream",
          "text": [
            "20\n"
          ]
        }
      ],
      "source": [
        "sum(19,1)"
      ]
    },
    {
      "cell_type": "code",
      "execution_count": null,
      "metadata": {
        "jukit_cell_id": "A01f2KsmJL"
      },
      "outputs": [],
      "source": [
        "def outer():\n",
        "    def inner(a, b):\n",
        "        print(a + b)\n",
        "    return inner"
      ]
    },
    {
      "cell_type": "code",
      "execution_count": null,
      "metadata": {
        "jukit_cell_id": "CW3zgDFP77"
      },
      "outputs": [
        {
          "data": {
            "text/plain": [
              "<function __main__.outer.<locals>.inner(a, b)>"
            ]
          },
          "execution_count": 74,
          "metadata": {},
          "output_type": "execute_result"
        }
      ],
      "source": [
        "outer()"
      ]
    },
    {
      "cell_type": "code",
      "execution_count": null,
      "metadata": {
        "jukit_cell_id": "xWnR0f6aqo"
      },
      "outputs": [
        {
          "name": "stdout",
          "output_type": "stream",
          "text": [
            "15\n"
          ]
        }
      ],
      "source": [
        "f = outer()\n",
        "f(10, 5)"
      ]
    },
    {
      "cell_type": "code",
      "execution_count": null,
      "metadata": {
        "jukit_cell_id": "VTWGqYNgac"
      },
      "outputs": [],
      "source": [
        "def somma(a,b):\n",
        "    print(a+b)\n",
        "\n",
        "def sottrai(a,b):\n",
        "    print(a-b)\n",
        "\n",
        "def myFunc(f, x, y):\n",
        "    f(x,y)"
      ]
    },
    {
      "cell_type": "code",
      "execution_count": null,
      "metadata": {
        "jukit_cell_id": "n4BnphZAWy"
      },
      "outputs": [
        {
          "name": "stdout",
          "output_type": "stream",
          "text": [
            "15\n",
            "5\n"
          ]
        }
      ],
      "source": [
        "myFunc(somma, 10, 5) \n",
        "myFunc(sottrai, 10, 5) # ho passato la funzione come argomento oggetto funzione"
      ]
    },
    {
      "cell_type": "markdown",
      "metadata": {
        "jukit_cell_id": "kHFFCJdqi6"
      },
      "source": [
        "## Namespace e Scope"
      ]
    },
    {
      "cell_type": "markdown",
      "metadata": {
        "jukit_cell_id": "oa9E7hI9kv"
      },
      "source": [
        "Namspace:\n",
        "\n",
        "1. mappatura di nomi ad oggetti\n",
        "2. namespace multipli, a Runtime \n",
        "3. organizzati in una gerarchia\n",
        "4. cicli di vita differenti"
      ]
    },
    {
      "cell_type": "markdown",
      "metadata": {
        "jukit_cell_id": "HEQ6jVa6rw"
      },
      "source": [
        "Scope:\n",
        "\n",
        "area di codice che determona il namespace da utilizzare per la risoluzione dei nomi."
      ]
    },
    {
      "cell_type": "markdown",
      "metadata": {
        "jukit_cell_id": "4AO4vY9B36"
      },
      "source": [
        "Namespace: gerarchia LEGB:\n",
        "* local\n",
        "* enclosed\n",
        "* global\n",
        "* built-in"
      ]
    },
    {
      "cell_type": "markdown",
      "metadata": {
        "jukit_cell_id": "qhKqelbtMQ"
      },
      "source": [
        "## local scope\n",
        "livello interno di una funzione, viene creato una volta chiamata la funzione, rimosso una volta ottenuto il ritorno della funzione stessa."
      ]
    },
    {
      "cell_type": "markdown",
      "metadata": {
        "jukit_cell_id": "iCCtGCNMfg"
      },
      "source": [
        "E' il primo punto dove python cerca di risolvere i nomi!"
      ]
    },
    {
      "cell_type": "markdown",
      "metadata": {
        "jukit_cell_id": "rRjfz8i6IS"
      },
      "source": [
        "## enclosed\n",
        "nel caso di funzioni nidificate è il secondo punto in cui viene cercata la risoluzione de nomi.m"
      ]
    },
    {
      "cell_type": "markdown",
      "metadata": {
        "jukit_cell_id": "sxssGNUUAj"
      },
      "source": [
        "```\n",
        "def outer(x):\n",
        "    y = 20\n",
        "    def inner():\n",
        "        print(x+y)\n",
        "    "
      ]
    },
    {
      "cell_type": "markdown",
      "metadata": {
        "jukit_cell_id": "w8dA670WDr"
      },
      "source": [
        "## global namespace\n",
        "Tutti i nomi definiti dal livello del sorgente quando i nomi sono indicati al di fuori di tutte le funzioni."
      ]
    },
    {
      "cell_type": "markdown",
      "metadata": {
        "jukit_cell_id": "luTD6SxDi6"
      },
      "source": [
        "```\n",
        "x = 20\n",
        "def miaFunc(y):\n",
        "    print(x + y)"
      ]
    },
    {
      "cell_type": "markdown",
      "metadata": {
        "jukit_cell_id": "0KRo6obF6j"
      },
      "source": [
        "## Built-In namespace (predefinito)\n",
        "Definto direttamente dall'ambiente di runtime di python, contiene, ad esempio, la risoluzione print, list, dict, tuple, ..."
      ]
    },
    {
      "cell_type": "markdown",
      "metadata": {
        "jukit_cell_id": "EWHQegW8yv"
      },
      "source": [
        "## Global e Nonlocal"
      ]
    },
    {
      "cell_type": "markdown",
      "metadata": {
        "jukit_cell_id": "mor0cNZCCr"
      },
      "source": [
        "Servono ad alterare la gerarchia standard nella ricerca della risoluzione dei nomi da parte di python."
      ]
    },
    {
      "cell_type": "markdown",
      "metadata": {
        "jukit_cell_id": "aupgIvBDlO"
      },
      "source": [
        "Variabile Hiding:\n",
        "\n",
        "se utilizziamo un nome di variabile già presente a livelli di scope più alti, questa avrà la precedenza sulle altre, in un certo senso nascondendole!"
      ]
    },
    {
      "cell_type": "markdown",
      "metadata": {
        "jukit_cell_id": "miYxBko2MM"
      },
      "source": [
        "Per alterare questo comportamento utilizziamo la parola $\\color{red}{global}$"
      ]
    },
    {
      "cell_type": "markdown",
      "metadata": {
        "jukit_cell_id": "iI8odaU5uh"
      },
      "source": [
        "```\n",
        "x = 100\n",
        "def myFunc():\n",
        "    global x\n",
        "    x = 20\n",
        "    print(x)"
      ]
    },
    {
      "cell_type": "markdown",
      "metadata": {
        "jukit_cell_id": "eR53sEkDWa"
      },
      "source": [
        "In questo caso abbiamo alterato la variabile globale!"
      ]
    },
    {
      "cell_type": "markdown",
      "metadata": {
        "jukit_cell_id": "VCqbqkJbjc"
      },
      "source": [
        "Nonlocal cerca la variabile nel namespace della funzione madre (in funzioni nidificate).m"
      ]
    },
    {
      "cell_type": "code",
      "execution_count": null,
      "metadata": {
        "jukit_cell_id": "XnQgLoc4WQ"
      },
      "outputs": [],
      "source": [
        "def outer():\n",
        "    y = 20\n",
        "    def inner():\n",
        "        nonlocal y\n",
        "        y = 50\n",
        "        print(\"variabile in inner %s\" %(y))\n",
        "    inner()\n",
        "    print(\"variabile in outer %s\" %(y))"
      ]
    },
    {
      "cell_type": "code",
      "execution_count": null,
      "metadata": {
        "jukit_cell_id": "tufAtIjNxU"
      },
      "outputs": [
        {
          "name": "stdout",
          "output_type": "stream",
          "text": [
            "variabile in inner 50\n",
            "variabile in outer 50\n"
          ]
        }
      ],
      "source": [
        "outer()"
      ]
    },
    {
      "cell_type": "markdown",
      "metadata": {
        "jukit_cell_id": "B2gicRMeJg"
      },
      "source": [
        "# Function Decorator (decoratori di funzione)"
      ]
    },
    {
      "cell_type": "markdown",
      "metadata": {
        "jukit_cell_id": "WA5eBKdB9Q"
      },
      "source": [
        "Un decoratore di una funzione è una funzione che prende in input una funzione, la decora con altri contenuti e restituisce il nuovo valore."
      ]
    },
    {
      "cell_type": "markdown",
      "metadata": {
        "jukit_cell_id": "1bxVqQqgSn"
      },
      "source": [
        "Utilizzo: modificare il comportamento di una funzione senza alterarne il codice sorgente!"
      ]
    },
    {
      "cell_type": "code",
      "execution_count": null,
      "metadata": {
        "jukit_cell_id": "BwI5BBVU8B"
      },
      "outputs": [],
      "source": [
        "def myDecorator(f):\n",
        "    def decorator():\n",
        "        print(\"ho decorato\")\n",
        "        f()\n",
        "    return decorator"
      ]
    },
    {
      "cell_type": "code",
      "execution_count": null,
      "metadata": {
        "jukit_cell_id": "8nZbPoXVGW"
      },
      "outputs": [],
      "source": [
        "def myFunc():\n",
        "    print(\"la funzione myFunc\")"
      ]
    },
    {
      "cell_type": "code",
      "execution_count": null,
      "metadata": {
        "jukit_cell_id": "BPfSLlWAhp"
      },
      "outputs": [],
      "source": [
        "decorata = myDecorator(myFunc)"
      ]
    },
    {
      "cell_type": "code",
      "execution_count": null,
      "metadata": {
        "jukit_cell_id": "oBdWhGVcYK"
      },
      "outputs": [
        {
          "name": "stdout",
          "output_type": "stream",
          "text": [
            "ho decorato\n",
            "la funzione myFunc\n"
          ]
        }
      ],
      "source": [
        "decorata()"
      ]
    },
    {
      "cell_type": "code",
      "execution_count": null,
      "metadata": {
        "jukit_cell_id": "9EexlbLJMG"
      },
      "outputs": [],
      "source": [
        "## con il decoratore..."
      ]
    },
    {
      "cell_type": "code",
      "execution_count": null,
      "metadata": {
        "jukit_cell_id": "xVVXmw1ikr"
      },
      "outputs": [],
      "source": [
        "def myDecorator(f):\n",
        "    def decorator():\n",
        "        print(\"ho decorato con il decoratore\")\n",
        "        f()\n",
        "    return decorator"
      ]
    },
    {
      "cell_type": "code",
      "execution_count": null,
      "metadata": {
        "jukit_cell_id": "TIgnD0goo9"
      },
      "outputs": [],
      "source": [
        "@myDecorator\n",
        "def myFunc():\n",
        "    print(\"la funzione myFunc\")"
      ]
    },
    {
      "cell_type": "code",
      "execution_count": null,
      "metadata": {
        "jukit_cell_id": "fBqBtseUn3"
      },
      "outputs": [
        {
          "name": "stdout",
          "output_type": "stream",
          "text": [
            "ho decorato con il decoratore\n",
            "la funzione myFunc\n"
          ]
        }
      ],
      "source": [
        "myFunc()"
      ]
    },
    {
      "cell_type": "code",
      "execution_count": null,
      "metadata": {
        "jukit_cell_id": "SvD08xZnWQ"
      },
      "outputs": [],
      "source": [
        "def mioDecoratore(func_destinazione):\n",
        "    def wrapper(*args):\n",
        "        print(\"elementi prima della funzione\")\n",
        "        func_destinazione()\n",
        "        print(\"elementi dopo la funzione\")\n",
        "    return wrapper"
      ]
    },
    {
      "cell_type": "markdown",
      "metadata": {
        "jukit_cell_id": "rg9BpyrWvk"
      },
      "source": [
        "> Nel caso in cui volessimo eseguire una funzione decorate SENZA decoratore, dopo aver importato \n",
        "\n",
        "```\n",
        "from undecorated import undecorated (pip install)\n",
        "```\n",
        "useremo la sintassi ```undecorated(funzione)(parametri)```"
      ]
    },
    {
      "cell_type": "markdown",
      "metadata": {
        "jukit_cell_id": "Y79odzoyRX"
      },
      "source": [
        "Quindi se chiameremo la funzione decorata direttamente otterremo la decorazione come previsto, se useremo undecorated... otterremo la funzione NON decorata!"
      ]
    },
    {
      "cell_type": "markdown",
      "metadata": {
        "jukit_cell_id": "qU0FKHvrHb"
      },
      "source": [
        "# Lambda function"
      ]
    },
    {
      "cell_type": "markdown",
      "metadata": {
        "jukit_cell_id": "X4aRwhwUkc"
      },
      "source": [
        "Un'espressione che genera un oggetto funzione!"
      ]
    },
    {
      "cell_type": "markdown",
      "metadata": {
        "jukit_cell_id": "vZOgMyWfXy"
      },
      "source": [
        "Lambda ritorna una funzione $\\color{green}{anonima}$"
      ]
    },
    {
      "cell_type": "markdown",
      "metadata": {
        "jukit_cell_id": "gx0YVzOVmf"
      },
      "source": [
        "```lambda arg1, arg2, argN : expression (con gli argomenti)```"
      ]
    },
    {
      "cell_type": "code",
      "execution_count": null,
      "metadata": {
        "jukit_cell_id": "KBM5T82Iik"
      },
      "outputs": [],
      "source": [
        "risultato = lambda x,y : x * y"
      ]
    },
    {
      "cell_type": "code",
      "execution_count": null,
      "metadata": {
        "jukit_cell_id": "FTNuHvA1jU"
      },
      "outputs": [
        {
          "name": "stdout",
          "output_type": "stream",
          "text": [
            "il valore richiesto è  6\n"
          ]
        }
      ],
      "source": [
        "print(\"il valore richiesto è \", risultato(2,3))"
      ]
    },
    {
      "cell_type": "markdown",
      "metadata": {
        "jukit_cell_id": "OIoTFznrjh"
      },
      "source": [
        "# Object-Orientation"
      ]
    },
    {
      "cell_type": "markdown",
      "metadata": {
        "jukit_cell_id": "AJwH9S1R00"
      },
      "source": [
        "* definizione di classi\n",
        "* creazione istanze di classi\n",
        "* come strutturare le classi in gerarchie di generalizzazione"
      ]
    },
    {
      "cell_type": "markdown",
      "metadata": {
        "jukit_cell_id": "lWKa3eXtvQ"
      },
      "source": [
        "## Classi ed Istanze"
      ]
    },
    {
      "cell_type": "markdown",
      "metadata": {
        "jukit_cell_id": "GbigGG09tL"
      },
      "source": [
        "funzioni --> metodi di classe"
      ]
    },
    {
      "cell_type": "markdown",
      "metadata": {
        "jukit_cell_id": "g7jB4OHy3Y"
      },
      "source": [
        "## Lo Statement Class\n",
        "Un oggetto composto che serve a creare degli oggetti attraverso la sua istanziazione."
      ]
    },
    {
      "cell_type": "markdown",
      "metadata": {
        "jukit_cell_id": "iIBKG9Lgjr"
      },
      "source": [
        "```\n",
        "class Classname(base-classes): (base-classes sono le superclassi, le classi padre)\n",
        "    statements\n",
        "    "
      ]
    },
    {
      "cell_type": "markdown",
      "metadata": {
        "jukit_cell_id": "4YlN5mq6Ze"
      },
      "source": [
        "Nello statement ci saranno metodi ed attributi della classe..."
      ]
    },
    {
      "cell_type": "code",
      "execution_count": null,
      "metadata": {
        "jukit_cell_id": "UZpFcNf9Mo"
      },
      "outputs": [],
      "source": [
        "class MyClass: # la convenzione python prevede la lettera maiuscola per le classi\n",
        "    pass"
      ]
    },
    {
      "cell_type": "markdown",
      "metadata": {
        "jukit_cell_id": "Jx4CFmueiS"
      },
      "source": [
        "Non abbiamo usato le parentesi tonde, indicando che la classe di orgine è la object, propria di python..."
      ]
    },
    {
      "cell_type": "markdown",
      "metadata": {
        "jukit_cell_id": "kYmWv0PoBg"
      },
      "source": [
        "istanza di una classe:\n",
        "\n",
        "```\n",
        "myObj = MyClass()\n",
        "```"
      ]
    },
    {
      "cell_type": "markdown",
      "metadata": {
        "jukit_cell_id": "wh7seYGeKE"
      },
      "source": [
        "## Attributi di Classe\n",
        "Gli attributi possono essere di classe o di istanza. \n",
        "* attributi di classe: condivisi da tutte le istanze della classe\n",
        "* attributi di istanza: propri di quella e solo quella istanza, non della classe"
      ]
    },
    {
      "cell_type": "code",
      "execution_count": null,
      "metadata": {
        "jukit_cell_id": "DkWfq2Hcdi"
      },
      "outputs": [],
      "source": [
        "class MyClass:\n",
        "    myAttr = 10"
      ]
    },
    {
      "cell_type": "code",
      "execution_count": null,
      "metadata": {
        "jukit_cell_id": "HkRljWqvsL"
      },
      "outputs": [],
      "source": [
        "m1 = MyClass()\n",
        "m2 = MyClass()"
      ]
    },
    {
      "cell_type": "code",
      "execution_count": null,
      "metadata": {
        "jukit_cell_id": "XPQnLmJLX1"
      },
      "outputs": [
        {
          "data": {
            "text/plain": [
              "10"
            ]
          },
          "execution_count": 81,
          "metadata": {},
          "output_type": "execute_result"
        }
      ],
      "source": [
        "m1.myAttr"
      ]
    },
    {
      "cell_type": "code",
      "execution_count": null,
      "metadata": {
        "jukit_cell_id": "gEJPEGE2do"
      },
      "outputs": [
        {
          "data": {
            "text/plain": [
              "40"
            ]
          },
          "execution_count": 82,
          "metadata": {},
          "output_type": "execute_result"
        }
      ],
      "source": [
        "m2.myAttr = 40\n",
        "m2.myAttr"
      ]
    },
    {
      "cell_type": "code",
      "execution_count": null,
      "metadata": {
        "jukit_cell_id": "4uMTsHZu2R"
      },
      "outputs": [],
      "source": [
        "m2.attributo = 555"
      ]
    },
    {
      "cell_type": "code",
      "execution_count": null,
      "metadata": {
        "jukit_cell_id": "fCsaaMMsoD"
      },
      "outputs": [
        {
          "name": "stdout",
          "output_type": "stream",
          "text": [
            "40\n",
            "555\n"
          ]
        }
      ],
      "source": [
        "print(m2.myAttr)\n",
        "print(m2.attributo) # non è presente nella classe, diventa un attributo di istanza!"
      ]
    },
    {
      "cell_type": "markdown",
      "metadata": {
        "jukit_cell_id": "uQVQOJ7v93"
      },
      "source": [
        "## Metodi di istanza"
      ]
    },
    {
      "cell_type": "code",
      "execution_count": null,
      "metadata": {
        "jukit_cell_id": "oFjqnZM4HJ"
      },
      "outputs": [],
      "source": [
        "class MyClass:\n",
        "    def myMethod(self):\n",
        "        print(id(self)) # metodo di classe e self che rappresenta l'istanza invocata dal                           metodo"
      ]
    },
    {
      "cell_type": "code",
      "execution_count": null,
      "metadata": {
        "jukit_cell_id": "fOJ5Qjihvj"
      },
      "outputs": [],
      "source": [
        "m1= MyClass()\n",
        "m2 = MyClass()"
      ]
    },
    {
      "cell_type": "code",
      "execution_count": null,
      "metadata": {
        "jukit_cell_id": "IoT6PlN0HJ"
      },
      "outputs": [
        {
          "name": "stdout",
          "output_type": "stream",
          "text": [
            "140538000774736\n"
          ]
        }
      ],
      "source": [
        "m1.myMethod()"
      ]
    },
    {
      "cell_type": "code",
      "execution_count": null,
      "metadata": {
        "jukit_cell_id": "YgcamNqqX3"
      },
      "outputs": [
        {
          "name": "stdout",
          "output_type": "stream",
          "text": [
            "140538000774544\n"
          ]
        }
      ],
      "source": [
        "m2.myMethod()"
      ]
    },
    {
      "cell_type": "code",
      "execution_count": null,
      "metadata": {
        "jukit_cell_id": "aUtVecOnva"
      },
      "outputs": [
        {
          "name": "stdout",
          "output_type": "stream",
          "text": [
            "140538000774736\n"
          ]
        }
      ],
      "source": [
        "MyClass.myMethod(m1)"
      ]
    },
    {
      "cell_type": "code",
      "execution_count": null,
      "metadata": {
        "jukit_cell_id": "iblcEmRr3C"
      },
      "outputs": [
        {
          "name": "stdout",
          "output_type": "stream",
          "text": [
            "140538000774544\n"
          ]
        }
      ],
      "source": [
        "MyClass.myMethod(m2)"
      ]
    },
    {
      "cell_type": "markdown",
      "metadata": {
        "jukit_cell_id": "L7CNodYpBz"
      },
      "source": [
        "## Attributi di ISTANZA"
      ]
    },
    {
      "cell_type": "code",
      "execution_count": null,
      "metadata": {
        "jukit_cell_id": "6SBjyhIGN1"
      },
      "outputs": [],
      "source": [
        "class MyClass:\n",
        "    def setMessage(self, message):\n",
        "        self.message = message\n",
        "    def printMessage(self):\n",
        "        print(self.message)"
      ]
    },
    {
      "cell_type": "markdown",
      "metadata": {
        "jukit_cell_id": "5Qd2cJIojA"
      },
      "source": [
        "In questo codice c'è un problema: se chiamiamo in istanza direttamente il metodo printMessage, otterremo un errore in quanto non è stato settato il messaggio; per ovviare a questo problema dovremo definire dei metodi di inizializzazione."
      ]
    },
    {
      "cell_type": "markdown",
      "metadata": {
        "jukit_cell_id": "2JsEb8qCy8"
      },
      "source": [
        "## il costruttore __init__\n",
        "Viene chiamato sempre ed automaticamente ogni volta che una istanza di classe viene attivata."
      ]
    },
    {
      "cell_type": "code",
      "execution_count": null,
      "metadata": {
        "jukit_cell_id": "dXd1EwQoQJ"
      },
      "outputs": [],
      "source": [
        "class MyClass:\n",
        "    def __init__(self, message):\n",
        "        self.message = message\n",
        "    def printMessage(self):\n",
        "        print(self.message)"
      ]
    },
    {
      "cell_type": "code",
      "execution_count": null,
      "metadata": {
        "jukit_cell_id": "YfkdKbXQQa"
      },
      "outputs": [
        {
          "ename": "TypeError",
          "evalue": "__init__() missing 1 required positional argument: 'message'",
          "output_type": "error",
          "traceback": [
            "\u001b[0;31m---------------------------------------------------------------------------\u001b[0m",
            "\u001b[0;31mTypeError\u001b[0m                                 Traceback (most recent call last)",
            "\u001b[0;32m<ipython-input-31-f7aebff7631d>\u001b[0m in \u001b[0;36m<module>\u001b[0;34m\u001b[0m\n\u001b[0;32m----> 1\u001b[0;31m \u001b[0mm1\u001b[0m \u001b[0;34m=\u001b[0m \u001b[0mMyClass\u001b[0m\u001b[0;34m(\u001b[0m\u001b[0;34m)\u001b[0m\u001b[0;34m\u001b[0m\u001b[0;34m\u001b[0m\u001b[0m\n\u001b[0m",
            "\u001b[0;31mTypeError\u001b[0m: __init__() missing 1 required positional argument: 'message'"
          ]
        }
      ],
      "source": [
        "m1 = MyClass()"
      ]
    },
    {
      "cell_type": "code",
      "execution_count": null,
      "metadata": {
        "jukit_cell_id": "NnY78ow8G1"
      },
      "outputs": [],
      "source": [
        "m1 = MyClass(\"ciao\")"
      ]
    },
    {
      "cell_type": "code",
      "execution_count": null,
      "metadata": {
        "jukit_cell_id": "EPKtLa27A0"
      },
      "outputs": [
        {
          "name": "stdout",
          "output_type": "stream",
          "text": [
            "ciao\n"
          ]
        }
      ],
      "source": [
        "m1.printMessage()"
      ]
    },
    {
      "cell_type": "markdown",
      "metadata": {
        "jukit_cell_id": "bjSJq9HhvF"
      },
      "source": [
        "## Metodi di classe\n",
        "Eseguiti non sulle istanze ma proprio sull'oggetto classe!"
      ]
    },
    {
      "cell_type": "code",
      "execution_count": null,
      "metadata": {
        "jukit_cell_id": "RzCjm5mb0p"
      },
      "outputs": [],
      "source": [
        "class MyClass:\n",
        "    counter = 0 #attributo della classe\n",
        "    def __init__(self):\n",
        "        MyClass.counter += 1\n",
        "    @classmethod\n",
        "    def istanze(cls): # cls indica l'oggetto classe\n",
        "        print(cls.counter)"
      ]
    },
    {
      "cell_type": "code",
      "execution_count": null,
      "metadata": {
        "jukit_cell_id": "jFeOv9gic0"
      },
      "outputs": [],
      "source": [
        "m1 = MyClass()\n",
        "m2 = MyClass()\n",
        "m3 = MyClass()"
      ]
    },
    {
      "cell_type": "code",
      "execution_count": null,
      "metadata": {
        "jukit_cell_id": "LQsAWBkTAZ"
      },
      "outputs": [
        {
          "name": "stdout",
          "output_type": "stream",
          "text": [
            "3\n"
          ]
        }
      ],
      "source": [
        "MyClass.istanze()"
      ]
    },
    {
      "cell_type": "code",
      "execution_count": null,
      "metadata": {
        "jukit_cell_id": "wTgUZ7SVIA"
      },
      "outputs": [],
      "source": []
    },
    {
      "cell_type": "markdown",
      "metadata": {
        "jukit_cell_id": "OIBm7Gfpku"
      },
      "source": [
        "## STATIC Methods"
      ]
    },
    {
      "cell_type": "code",
      "execution_count": null,
      "metadata": {
        "jukit_cell_id": "VwvznbzJhp"
      },
      "outputs": [],
      "source": [
        "class MyClass:\n",
        "    @staticmethod\n",
        "    def somma(a,b):\n",
        "        return(a + b)"
      ]
    },
    {
      "cell_type": "code",
      "execution_count": null,
      "metadata": {
        "jukit_cell_id": "oyNqYilYMN"
      },
      "outputs": [
        {
          "name": "stdout",
          "output_type": "stream",
          "text": [
            "15\n"
          ]
        }
      ],
      "source": [
        "s = MyClass.somma(10,5)\n",
        "print(s)"
      ]
    },
    {
      "cell_type": "markdown",
      "metadata": {
        "jukit_cell_id": "dcUpnI3oJX"
      },
      "source": [
        "Non si riferisce alle classi e nemmeno alle istanze!"
      ]
    },
    {
      "cell_type": "markdown",
      "metadata": {
        "jukit_cell_id": "C5y3fKM73m"
      },
      "source": [
        "# Inheritance (ereditarietà)"
      ]
    },
    {
      "cell_type": "code",
      "execution_count": null,
      "metadata": {
        "jukit_cell_id": "ygoeqEcINB"
      },
      "outputs": [],
      "source": [
        "class BClass: #superclasse\n",
        "    pass\n",
        "\n",
        "class AClass(BClass):\n",
        "    pass"
      ]
    },
    {
      "cell_type": "markdown",
      "metadata": {
        "jukit_cell_id": "K0Y4Ph1x1X"
      },
      "source": [
        "La funzione isinstance\n",
        "```\n",
        "m1 = AClass()\n",
        "isinstance(m1, AClass) True\n",
        "isinstance(m1, BClass) True"
      ]
    },
    {
      "cell_type": "code",
      "execution_count": null,
      "metadata": {
        "jukit_cell_id": "RMtF3n6ZWh"
      },
      "outputs": [],
      "source": [
        "m1 = AClass()"
      ]
    },
    {
      "cell_type": "code",
      "execution_count": null,
      "metadata": {
        "jukit_cell_id": "ejvsg3eyJf"
      },
      "outputs": [
        {
          "data": {
            "text/plain": [
              "True"
            ]
          },
          "execution_count": 92,
          "metadata": {},
          "output_type": "execute_result"
        }
      ],
      "source": [
        "isinstance(m1, BClass)"
      ]
    },
    {
      "cell_type": "markdown",
      "metadata": {
        "jukit_cell_id": "HHZrfuFwWS"
      },
      "source": [
        "## Override\n",
        "Possiamo ridefinire un attributo all'ìnterno di una sottoclasse"
      ]
    },
    {
      "cell_type": "code",
      "execution_count": null,
      "metadata": {
        "jukit_cell_id": "RrszwLFD0s"
      },
      "outputs": [],
      "source": [
        "class BClass:\n",
        "    def setMessage(self, message):\n",
        "        self.message = message\n",
        "    def printMessage(self):\n",
        "        print(self.message)\n",
        "\n",
        "class AClass(BClass):\n",
        "    def printMessage(self):\n",
        "        print(\"AClass \" + self.message)"
      ]
    },
    {
      "cell_type": "code",
      "execution_count": null,
      "metadata": {
        "jukit_cell_id": "OUl2bz6ODe"
      },
      "outputs": [
        {
          "name": "stdout",
          "output_type": "stream",
          "text": [
            "AClass andrea\n"
          ]
        }
      ],
      "source": [
        "m1 = AClass()\n",
        "m1.setMessage(\"andrea\")\n",
        "m1.printMessage()"
      ]
    },
    {
      "cell_type": "markdown",
      "metadata": {
        "jukit_cell_id": "UzdtbeUJCj"
      },
      "source": [
        "Questo metodo non è un metodo corretto, vediamo la procedura corretta con il costruttore.\n",
        "Infatti quando invochiamo la sottoclasse, se questa ha un suo costruttore viene usato ma, nella sintassi utilizzata, non viene considerato il costruttore della superclasse, viene sovrascritto il costruttore!"
      ]
    },
    {
      "cell_type": "markdown",
      "metadata": {
        "jukit_cell_id": "isPAcaRMzg"
      },
      "source": [
        "# la funzione SUPER"
      ]
    },
    {
      "cell_type": "code",
      "execution_count": null,
      "metadata": {
        "jukit_cell_id": "W2JNbRp1b1"
      },
      "outputs": [],
      "source": [
        "class BClass:\n",
        "    def __init__(self, message):\n",
        "        self.message = message\n",
        "    def printMessage(self):\n",
        "        print(self.message)\n",
        "    def scatola(self):\n",
        "        scatola = \"BICHER\"\n",
        "        return scatola\n",
        "\n",
        "class AClass(BClass):\n",
        "    def __init__(self, message, valore):\n",
        "        super().__init__(message)\n",
        "        self.valore = valore"
      ]
    },
    {
      "cell_type": "code",
      "execution_count": null,
      "metadata": {
        "jukit_cell_id": "cchsrAT9nR"
      },
      "outputs": [],
      "source": [
        "m1 = AClass(\"andrea\", 100)"
      ]
    },
    {
      "cell_type": "code",
      "execution_count": null,
      "metadata": {
        "jukit_cell_id": "KiUisYqAjX"
      },
      "outputs": [
        {
          "name": "stdout",
          "output_type": "stream",
          "text": [
            "andrea\n"
          ]
        }
      ],
      "source": [
        "m1.printMessage()"
      ]
    },
    {
      "cell_type": "code",
      "execution_count": null,
      "metadata": {
        "jukit_cell_id": "yi9kx9rX0Q"
      },
      "outputs": [
        {
          "data": {
            "text/plain": [
              "100"
            ]
          },
          "execution_count": 95,
          "metadata": {},
          "output_type": "execute_result"
        }
      ],
      "source": [
        "m1.valore"
      ]
    },
    {
      "cell_type": "markdown",
      "metadata": {
        "jukit_cell_id": "2WkulbqWYk"
      },
      "source": [
        "non si usa solo per invocare init della superclasse, ma per accedere a tutto il contenuto della stessa:"
      ]
    },
    {
      "cell_type": "code",
      "execution_count": null,
      "metadata": {
        "jukit_cell_id": "MFEPO6agMl"
      },
      "outputs": [],
      "source": [
        "class CClass(BClass):\n",
        "    def __init__(self, name):\n",
        "        self.nome = name\n",
        "        super().scatola()\n",
        "    "
      ]
    },
    {
      "cell_type": "code",
      "execution_count": null,
      "metadata": {
        "jukit_cell_id": "40lbtsOVcq"
      },
      "outputs": [],
      "source": [
        "m2 = CClass(\"valerio\")"
      ]
    },
    {
      "cell_type": "code",
      "execution_count": null,
      "metadata": {
        "jukit_cell_id": "IKuEriydTc"
      },
      "outputs": [
        {
          "data": {
            "text/plain": [
              "'BICHER'"
            ]
          },
          "execution_count": 96,
          "metadata": {},
          "output_type": "execute_result"
        }
      ],
      "source": [
        "m2.scatola()"
      ]
    },
    {
      "cell_type": "markdown",
      "metadata": {
        "jukit_cell_id": "rLtzw2BikY"
      },
      "source": [
        "## Properties\n",
        "Information HIDING\n",
        "possibilità di rendere privati degli attributi che rappresentano dei dati, nascosti all'esterno della classe. i Metodi setter e getter settano e leggono gli attributi privati."
      ]
    },
    {
      "cell_type": "code",
      "execution_count": null,
      "metadata": {
        "jukit_cell_id": "4zqlBSZOWd"
      },
      "outputs": [],
      "source": [
        "class MyClass:\n",
        "    def __init__(self, my_attr):\n",
        "        self.priv_attr = my_attr\n",
        "    def get_attr(self):\n",
        "        return self.priv_attr\n",
        "    def set_attr(self, attr):\n",
        "        self.priv_attr = attr\n",
        "    \n",
        "    attr = property(get_attr, set_attr) # costruiamo una proprietà che nasconde attr"
      ]
    },
    {
      "cell_type": "code",
      "execution_count": null,
      "metadata": {
        "jukit_cell_id": "iWq5iILXUx"
      },
      "outputs": [
        {
          "data": {
            "text/plain": [
              "'andrea'"
            ]
          },
          "execution_count": 97,
          "metadata": {},
          "output_type": "execute_result"
        }
      ],
      "source": [
        "obj = MyClass(\"andrea\")\n",
        "obj.attr"
      ]
    },
    {
      "cell_type": "markdown",
      "metadata": {
        "jukit_cell_id": "CSMz6g60c8"
      },
      "source": [
        "Gli attributi che iniziano con doppio underscore non sono accessibli al di fuori della classe:"
      ]
    },
    {
      "cell_type": "code",
      "execution_count": null,
      "metadata": {
        "jukit_cell_id": "r7WQITLjMt"
      },
      "outputs": [],
      "source": [
        "class MyClass:\n",
        "    def __init__(self, my_attr):\n",
        "        self.__priv_attr = my_attr\n",
        "    def get_attr(self):\n",
        "        return self.__priv_attr\n",
        "    def set_attr(self, attr):\n",
        "        self.__priv_attr = attr\n",
        "    \n",
        "    attr = property(get_attr, set_attr) # costruiamo una proprietà che nasconde attr"
      ]
    },
    {
      "cell_type": "code",
      "execution_count": null,
      "metadata": {
        "jukit_cell_id": "99g7IKRiSO"
      },
      "outputs": [
        {
          "ename": "AttributeError",
          "evalue": "'MyClass' object has no attribute '__private_attr'",
          "output_type": "error",
          "traceback": [
            "\u001b[0;31m---------------------------------------------------------------------------\u001b[0m",
            "\u001b[0;31mAttributeError\u001b[0m                            Traceback (most recent call last)",
            "\u001b[0;32m<ipython-input-28-5efacf79dd33>\u001b[0m in \u001b[0;36m<module>\u001b[0;34m\u001b[0m\n\u001b[1;32m      1\u001b[0m \u001b[0mobj1\u001b[0m \u001b[0;34m=\u001b[0m \u001b[0mMyClass\u001b[0m\u001b[0;34m(\u001b[0m\u001b[0;34m\"nascosto\"\u001b[0m\u001b[0;34m)\u001b[0m\u001b[0;34m\u001b[0m\u001b[0;34m\u001b[0m\u001b[0m\n\u001b[0;32m----> 2\u001b[0;31m \u001b[0mobj1\u001b[0m\u001b[0;34m.\u001b[0m\u001b[0m__private_attr\u001b[0m\u001b[0;34m\u001b[0m\u001b[0;34m\u001b[0m\u001b[0m\n\u001b[0m",
            "\u001b[0;31mAttributeError\u001b[0m: 'MyClass' object has no attribute '__private_attr'"
          ]
        }
      ],
      "source": [
        "obj1 = MyClass(\"nascosto\")\n",
        "obj1.__private_attr"
      ]
    },
    {
      "cell_type": "code",
      "execution_count": null,
      "metadata": {
        "jukit_cell_id": "W6N2gBWzXA"
      },
      "outputs": [
        {
          "data": {
            "text/plain": [
              "'nascosto'"
            ]
          },
          "execution_count": 99,
          "metadata": {},
          "output_type": "execute_result"
        }
      ],
      "source": [
        "obj1._MyClass__priv_attr # accesso diretto al nostro attributo name Mangling"
      ]
    },
    {
      "cell_type": "markdown",
      "metadata": {
        "jukit_cell_id": "KCwrpULOYo"
      },
      "source": [
        "## Property Decorators"
      ]
    },
    {
      "cell_type": "markdown",
      "metadata": {
        "jukit_cell_id": "1nChZd8HNL"
      },
      "source": [
        "Le proprietà forniscono un modo di personalizzare l’accesso agli attributi dell’istanza. Per crearli, si utilizza il decoratore @property messo prima del metodo. Il loro scopo è quello di definire attributi read-only (non possono essere modificati). "
      ]
    },
    {
      "cell_type": "markdown",
      "metadata": {
        "jukit_cell_id": "Gb1tfxYfDT"
      },
      "source": [
        "```\n",
        "@property (decoratore del metodo getter)\n",
        "@name.setter (decoratore del metodo setter)"
      ]
    },
    {
      "cell_type": "code",
      "execution_count": null,
      "metadata": {
        "jukit_cell_id": "TqvsC2GcgO"
      },
      "outputs": [],
      "source": [
        "class MyClass():\n",
        "    def __init__(self, my_attr):\n",
        "        self.__priv_attr = my_attr\n",
        "\n",
        "    def metodoPrivato(self):\n",
        "        print(\"Ciao\") #questo metodo non può essere chiamato fuori dalla classe!\n",
        "\n",
        "    @property\n",
        "    def attr(self):\n",
        "        return self.__priv_attr\n",
        "\n",
        "    @attr.setter\n",
        "    def attr(self, my_attr):\n",
        "        self.__priv_attr = my_attr"
      ]
    },
    {
      "cell_type": "code",
      "execution_count": null,
      "metadata": {
        "jukit_cell_id": "XjC2ayr68G"
      },
      "outputs": [
        {
          "data": {
            "text/plain": [
              "'decorato'"
            ]
          },
          "execution_count": 100,
          "metadata": {},
          "output_type": "execute_result"
        }
      ],
      "source": [
        "obj = MyClass(\"decorato\")\n",
        "obj.attr"
      ]
    },
    {
      "cell_type": "code",
      "execution_count": null,
      "metadata": {
        "jukit_cell_id": "geNRn2xXr7"
      },
      "outputs": [
        {
          "ename": "AttributeError",
          "evalue": "'MyClass' object has no attribute '__metodoPrivato'",
          "output_type": "error",
          "traceback": [
            "\u001b[0;31m---------------------------------------------------------------------------\u001b[0m",
            "\u001b[0;31mAttributeError\u001b[0m                            Traceback (most recent call last)",
            "\u001b[0;32m<ipython-input-56-606cd4ed12cc>\u001b[0m in \u001b[0;36m<module>\u001b[0;34m\u001b[0m\n\u001b[0;32m----> 1\u001b[0;31m \u001b[0mobj\u001b[0m\u001b[0;34m.\u001b[0m\u001b[0m__metodoPrivato\u001b[0m\u001b[0;34m(\u001b[0m\u001b[0;34m)\u001b[0m\u001b[0;34m\u001b[0m\u001b[0;34m\u001b[0m\u001b[0m\n\u001b[0m",
            "\u001b[0;31mAttributeError\u001b[0m: 'MyClass' object has no attribute '__metodoPrivato'"
          ]
        }
      ],
      "source": [
        "obj.__metodoPrivato()"
      ]
    },
    {
      "cell_type": "code",
      "execution_count": null,
      "metadata": {
        "jukit_cell_id": "CRodbPnisM"
      },
      "outputs": [],
      "source": []
    },
    {
      "cell_type": "markdown",
      "metadata": {
        "jukit_cell_id": "MxObedK4UU"
      },
      "source": [
        "# Exceptions"
      ]
    },
    {
      "cell_type": "markdown",
      "metadata": {
        "jukit_cell_id": "pY3RzRkV3t"
      },
      "source": [
        "Le eccezioni sono degli oggetti che appartengono ad una gerarchia base di python, ma possiamo anche crearne di nuove secondo le nostre necessità!"
      ]
    },
    {
      "cell_type": "code",
      "execution_count": null,
      "metadata": {
        "jukit_cell_id": "fK8NlKaU3I"
      },
      "outputs": [],
      "source": [
        "def myFunc(a,b):\n",
        "    return a // b"
      ]
    },
    {
      "cell_type": "code",
      "execution_count": null,
      "metadata": {
        "jukit_cell_id": "PGe11nKCEj"
      },
      "outputs": [
        {
          "ename": "ZeroDivisionError",
          "evalue": "integer division or modulo by zero",
          "output_type": "error",
          "traceback": [
            "\u001b[0;31m---------------------------------------------------------------------------\u001b[0m",
            "\u001b[0;31mZeroDivisionError\u001b[0m                         Traceback (most recent call last)",
            "\u001b[0;32m<ipython-input-17-c0381f4b20fc>\u001b[0m in \u001b[0;36m<module>\u001b[0;34m\u001b[0m\n\u001b[0;32m----> 1\u001b[0;31m \u001b[0mmyFunc\u001b[0m\u001b[0;34m(\u001b[0m\u001b[0;36m10\u001b[0m\u001b[0;34m,\u001b[0m\u001b[0;36m0\u001b[0m\u001b[0;34m)\u001b[0m\u001b[0;34m\u001b[0m\u001b[0;34m\u001b[0m\u001b[0m\n\u001b[0m",
            "\u001b[0;32m<ipython-input-16-e07cba645158>\u001b[0m in \u001b[0;36mmyFunc\u001b[0;34m(a, b)\u001b[0m\n\u001b[1;32m      1\u001b[0m \u001b[0;32mdef\u001b[0m \u001b[0mmyFunc\u001b[0m\u001b[0;34m(\u001b[0m\u001b[0ma\u001b[0m\u001b[0;34m,\u001b[0m\u001b[0mb\u001b[0m\u001b[0;34m)\u001b[0m\u001b[0;34m:\u001b[0m\u001b[0;34m\u001b[0m\u001b[0;34m\u001b[0m\u001b[0m\n\u001b[0;32m----> 2\u001b[0;31m     \u001b[0;32mreturn\u001b[0m \u001b[0ma\u001b[0m \u001b[0;34m//\u001b[0m \u001b[0mb\u001b[0m\u001b[0;34m\u001b[0m\u001b[0;34m\u001b[0m\u001b[0m\n\u001b[0m",
            "\u001b[0;31mZeroDivisionError\u001b[0m: integer division or modulo by zero"
          ]
        }
      ],
      "source": [
        "myFunc(10,0)"
      ]
    },
    {
      "cell_type": "markdown",
      "metadata": {
        "jukit_cell_id": "aLys7FlA4a"
      },
      "source": [
        "Viene elevata un'eccezione di divisione per ZERO!"
      ]
    },
    {
      "cell_type": "markdown",
      "metadata": {
        "jukit_cell_id": "yJI9o1gLhT"
      },
      "source": [
        "Nessuno ha detto ha python come gestire questa eccezione e quindi viene invocato il messaggio standard (si tratta di un oggetto). Il runtime prima verifica se noi abbiamo definito un modo per gestire questa eccezione, se non lo trova risale di uno stack alla volta fino ad arrivare alla interruzione del programma mostrando l'errore connesso a questa eccezione."
      ]
    },
    {
      "cell_type": "markdown",
      "metadata": {
        "jukit_cell_id": "WETCZmtYyN"
      },
      "source": [
        "Tutte le eccezioni sono istanze di una particolare classe sempre tutte sottoclassi di BaseException!"
      ]
    },
    {
      "cell_type": "markdown",
      "metadata": {
        "jukit_cell_id": "R9ujEbWlRV"
      },
      "source": [
        "ZeroDivisionError ==> ArithmeticError ==> Exception ==> BaseException ==> object"
      ]
    },
    {
      "cell_type": "markdown",
      "metadata": {
        "jukit_cell_id": "BjMlMLUGZx"
      },
      "source": [
        "## lo Statement try/except (si tratta di uno statement composto)"
      ]
    },
    {
      "cell_type": "markdown",
      "metadata": {
        "jukit_cell_id": "mu9Qhgm9Ep"
      },
      "source": [
        "```\n",
        "try:\n",
        "\n",
        "    suite\n",
        "\n",
        "except:\n",
        "\n",
        "    suite"
      ]
    },
    {
      "cell_type": "code",
      "execution_count": null,
      "metadata": {
        "jukit_cell_id": "oJ8Axv2OIu"
      },
      "outputs": [],
      "source": [
        "def myFunc(a,b):\n",
        "    try:\n",
        "        a // b\n",
        "    except (ZeroDivisionError, ValueError):\n",
        "        print(\"non posso dividere per zero\")\n",
        "    except IndexError:\n",
        "        print(\"IndexError\")"
      ]
    },
    {
      "cell_type": "code",
      "execution_count": null,
      "metadata": {
        "jukit_cell_id": "Mf4qQKUe25"
      },
      "outputs": [
        {
          "name": "stdout",
          "output_type": "stream",
          "text": [
            "non posso dividere per zero\n"
          ]
        }
      ],
      "source": [
        "myFunc(120,0)"
      ]
    },
    {
      "cell_type": "code",
      "execution_count": null,
      "metadata": {
        "jukit_cell_id": "aRg1cJzG47"
      },
      "outputs": [],
      "source": [
        "def myFunc(a,b):\n",
        "    try:\n",
        "        return a // b\n",
        "    except ZeroDivisionError as e:\n",
        "        print(\"Errore della funzione\\n\",e.args)"
      ]
    },
    {
      "cell_type": "code",
      "execution_count": null,
      "metadata": {
        "jukit_cell_id": "RHLrC7PIfA"
      },
      "outputs": [
        {
          "name": "stdout",
          "output_type": "stream",
          "text": [
            "Errore della funzione\n",
            " ('integer division or modulo by zero',)\n"
          ]
        }
      ],
      "source": [
        "myFunc(10,0)"
      ]
    },
    {
      "cell_type": "markdown",
      "metadata": {
        "jukit_cell_id": "yQniynOcke"
      },
      "source": [
        "La clausolo FINALLY viene usata per eseguire sempre, a prescindere dall'errore, una serie di istruzioni."
      ]
    },
    {
      "cell_type": "code",
      "execution_count": null,
      "metadata": {
        "jukit_cell_id": "VtFoNuHynC"
      },
      "outputs": [],
      "source": [
        "def myFunc(a,b):\n",
        "    try:\n",
        "        a // b\n",
        "    except ZeroDivisionError:\n",
        "        print(\"Errore di divisione\")\n",
        "    finally:\n",
        "        print(\"abbiamo provato ad eseguire la tua funzione\")"
      ]
    },
    {
      "cell_type": "code",
      "execution_count": null,
      "metadata": {
        "jukit_cell_id": "e4198yJsdc"
      },
      "outputs": [
        {
          "name": "stdout",
          "output_type": "stream",
          "text": [
            "abbiamo provato ad eseguire la tua funzione\n"
          ]
        }
      ],
      "source": [
        "myFunc(10,6)"
      ]
    },
    {
      "cell_type": "code",
      "execution_count": null,
      "metadata": {
        "jukit_cell_id": "nDJeGrU8Pt"
      },
      "outputs": [
        {
          "name": "stdout",
          "output_type": "stream",
          "text": [
            "Errore di divisione\n",
            "abbiamo provato ad eseguire la tua funzione\n"
          ]
        }
      ],
      "source": [
        "myFunc(29,0)"
      ]
    },
    {
      "cell_type": "markdown",
      "metadata": {
        "jukit_cell_id": "h9M1IR6Los"
      },
      "source": [
        "Dopo tutte le clausole except possiamo eseguire una else (se tutto andrà bene verrà eseguita la clausola else). Potremmo usare anche una finally, ma in questo caso else deve essere posta PRIMA della finally."
      ]
    },
    {
      "cell_type": "code",
      "execution_count": null,
      "metadata": {
        "jukit_cell_id": "0F5lzAXsW3"
      },
      "outputs": [],
      "source": [
        "def myFunc(a,b):\n",
        "    try:\n",
        "        a // b\n",
        "        risultato = True\n",
        "    except ZeroDivisionError:\n",
        "        print(\"Errore di divisione\")\n",
        "        risultato = False\n",
        "    else:\n",
        "        print(\"tutto a posto, abbiamo eseguito la funzione\")\n",
        "        \n",
        "    finally:\n",
        "        if risultato == True:\n",
        "            print(\"siamo giunti alla fine eseguendo la tua funzione\")\n",
        "        else:\n",
        "            print(\"non abbiamo potuto finire\")\n",
        "        "
      ]
    },
    {
      "cell_type": "code",
      "execution_count": null,
      "metadata": {
        "jukit_cell_id": "UFZcf85e9I"
      },
      "outputs": [
        {
          "name": "stdout",
          "output_type": "stream",
          "text": [
            "tutto a posto, abbiamo eseguito la funzione\n",
            "siamo giunti alla fine eseguendo la tua funzione\n"
          ]
        }
      ],
      "source": [
        "myFunc(28,5)"
      ]
    },
    {
      "cell_type": "code",
      "execution_count": null,
      "metadata": {
        "jukit_cell_id": "ZHoCShEAUW"
      },
      "outputs": [
        {
          "name": "stdout",
          "output_type": "stream",
          "text": [
            "Errore di divisione\n",
            "non abbiamo potuto finire\n"
          ]
        }
      ],
      "source": [
        "myFunc(10,0)"
      ]
    },
    {
      "cell_type": "markdown",
      "metadata": {
        "jukit_cell_id": "Na0hroXokq"
      },
      "source": [
        "## Gli statement raise ed assert"
      ]
    },
    {
      "cell_type": "markdown",
      "metadata": {
        "jukit_cell_id": "hKqfHXfoDz"
      },
      "source": [
        ">> raise si usa per sollevare esplicitamente una eccezione\n",
        "\n",
        "La classe di eccezione dopo raise può essere omessa."
      ]
    },
    {
      "cell_type": "code",
      "execution_count": null,
      "metadata": {
        "jukit_cell_id": "JbyPFVHNYL"
      },
      "outputs": [
        {
          "name": "stdout",
          "output_type": "stream",
          "text": [
            "0\n"
          ]
        },
        {
          "ename": "IndentationError",
          "evalue": "Errore nel loop (<string>)",
          "output_type": "error",
          "traceback": [
            "Traceback \u001b[0;36m(most recent call last)\u001b[0m:\n",
            "  File \u001b[1;32m\"/home/andrea/.local/lib/python3.7/site-packages/IPython/core/interactiveshell.py\"\u001b[0m, line \u001b[1;32m3319\u001b[0m, in \u001b[1;35mrun_code\u001b[0m\n    exec(code_obj, self.user_global_ns, self.user_ns)\n",
            "\u001b[0;36m  File \u001b[0;32m\"<ipython-input-62-76e0d4921a86>\"\u001b[0;36m, line \u001b[0;32m3\u001b[0;36m, in \u001b[0;35m<module>\u001b[0;36m\u001b[0m\n\u001b[0;31m    raise IndentationError(\"Errore nel loop\")\u001b[0m\n",
            "\u001b[0;36m  File \u001b[0;32m\"<string>\"\u001b[0;36m, line \u001b[0;32munknown\u001b[0m\n\u001b[0;31mIndentationError\u001b[0m\u001b[0;31m:\u001b[0m Errore nel loop\n"
          ]
        }
      ],
      "source": [
        "for i in range(10):\n",
        "    print(i)\n",
        "    raise IndentationError(\"Errore nel loop\")"
      ]
    },
    {
      "cell_type": "markdown",
      "metadata": {
        "jukit_cell_id": "rnHLysoelv"
      },
      "source": [
        "raise senza classe risolleva una except che precedentemente era stata intercettata."
      ]
    },
    {
      "cell_type": "code",
      "execution_count": null,
      "metadata": {
        "jukit_cell_id": "AtW13U9ZzZ"
      },
      "outputs": [],
      "source": [
        "def myFunc(a,b):\n",
        "    try:\n",
        "        a // b\n",
        "    except ZeroDivisionError:\n",
        "        print(\"ERRORE\")\n",
        "        raise"
      ]
    },
    {
      "cell_type": "code",
      "execution_count": null,
      "metadata": {
        "jukit_cell_id": "2isFnVQkCs"
      },
      "outputs": [
        {
          "name": "stdout",
          "output_type": "stream",
          "text": [
            "ERRORE\n"
          ]
        },
        {
          "ename": "ZeroDivisionError",
          "evalue": "integer division or modulo by zero",
          "output_type": "error",
          "traceback": [
            "\u001b[0;31m---------------------------------------------------------------------------\u001b[0m",
            "\u001b[0;31mZeroDivisionError\u001b[0m                         Traceback (most recent call last)",
            "\u001b[0;32m<ipython-input-64-5540b34fef5d>\u001b[0m in \u001b[0;36m<module>\u001b[0;34m\u001b[0m\n\u001b[0;32m----> 1\u001b[0;31m \u001b[0mmyFunc\u001b[0m\u001b[0;34m(\u001b[0m\u001b[0;36m129\u001b[0m\u001b[0;34m,\u001b[0m\u001b[0;36m0\u001b[0m\u001b[0;34m)\u001b[0m\u001b[0;34m\u001b[0m\u001b[0;34m\u001b[0m\u001b[0m\n\u001b[0m",
            "\u001b[0;32m<ipython-input-63-f194659d205d>\u001b[0m in \u001b[0;36mmyFunc\u001b[0;34m(a, b)\u001b[0m\n\u001b[1;32m      1\u001b[0m \u001b[0;32mdef\u001b[0m \u001b[0mmyFunc\u001b[0m\u001b[0;34m(\u001b[0m\u001b[0ma\u001b[0m\u001b[0;34m,\u001b[0m\u001b[0mb\u001b[0m\u001b[0;34m)\u001b[0m\u001b[0;34m:\u001b[0m\u001b[0;34m\u001b[0m\u001b[0;34m\u001b[0m\u001b[0m\n\u001b[1;32m      2\u001b[0m     \u001b[0;32mtry\u001b[0m\u001b[0;34m:\u001b[0m\u001b[0;34m\u001b[0m\u001b[0;34m\u001b[0m\u001b[0m\n\u001b[0;32m----> 3\u001b[0;31m         \u001b[0ma\u001b[0m \u001b[0;34m//\u001b[0m \u001b[0mb\u001b[0m\u001b[0;34m\u001b[0m\u001b[0;34m\u001b[0m\u001b[0m\n\u001b[0m\u001b[1;32m      4\u001b[0m     \u001b[0;32mexcept\u001b[0m \u001b[0mZeroDivisionError\u001b[0m\u001b[0;34m:\u001b[0m\u001b[0;34m\u001b[0m\u001b[0;34m\u001b[0m\u001b[0m\n\u001b[1;32m      5\u001b[0m         \u001b[0mprint\u001b[0m\u001b[0;34m(\u001b[0m\u001b[0;34m\"ERRORE\"\u001b[0m\u001b[0;34m)\u001b[0m\u001b[0;34m\u001b[0m\u001b[0;34m\u001b[0m\u001b[0m\n",
            "\u001b[0;31mZeroDivisionError\u001b[0m: integer division or modulo by zero"
          ]
        }
      ],
      "source": [
        "myFunc(129,0)"
      ]
    },
    {
      "cell_type": "markdown",
      "metadata": {
        "jukit_cell_id": "OgxYjxz2xO"
      },
      "source": [
        ">> assert expression, argument"
      ]
    },
    {
      "cell_type": "markdown",
      "metadata": {
        "jukit_cell_id": "K5F5DJwxKR"
      },
      "source": [
        "Valutiamo una espressione e se falsa verrà elevata una eccezione con in aggiunta la stringa argument."
      ]
    },
    {
      "cell_type": "code",
      "execution_count": null,
      "metadata": {
        "jukit_cell_id": "SamgVE82Yr"
      },
      "outputs": [
        {
          "ename": "AssertionError",
          "evalue": "valore errato",
          "output_type": "error",
          "traceback": [
            "\u001b[0;31m---------------------------------------------------------------------------\u001b[0m",
            "\u001b[0;31mAssertionError\u001b[0m                            Traceback (most recent call last)",
            "\u001b[0;32m<ipython-input-67-53d27c38eaec>\u001b[0m in \u001b[0;36m<module>\u001b[0;34m\u001b[0m\n\u001b[1;32m      1\u001b[0m \u001b[0mx\u001b[0m \u001b[0;34m=\u001b[0m \u001b[0;36m5\u001b[0m\u001b[0;34m\u001b[0m\u001b[0;34m\u001b[0m\u001b[0m\n\u001b[0;32m----> 2\u001b[0;31m \u001b[0;32massert\u001b[0m \u001b[0mx\u001b[0m \u001b[0;34m==\u001b[0m \u001b[0;36m0\u001b[0m\u001b[0;34m,\u001b[0m \u001b[0;34m\"valore errato\"\u001b[0m\u001b[0;34m\u001b[0m\u001b[0;34m\u001b[0m\u001b[0m\n\u001b[0m",
            "\u001b[0;31mAssertionError\u001b[0m: valore errato"
          ]
        }
      ],
      "source": [
        "x = 5\n",
        "assert x == 0, \"valore errato\""
      ]
    },
    {
      "cell_type": "code",
      "execution_count": null,
      "metadata": {
        "jukit_cell_id": "OjC7Wh61Kl"
      },
      "outputs": [
        {
          "name": "stdout",
          "output_type": "stream",
          "text": [
            "si è verificato un errore\n"
          ]
        }
      ],
      "source": [
        "x = 10\n",
        "y = 20\n",
        "try:\n",
        "    if x != y:\n",
        "        raise # invoco un errore forzando la except!\n",
        "    else:\n",
        "        print(\"sono uguali\")\n",
        "\n",
        "except:\n",
        "       print(\"si è verificato un errore\")"
      ]
    },
    {
      "cell_type": "markdown",
      "metadata": {
        "jukit_cell_id": "yJn7Fcxvcg"
      },
      "source": [
        "# Ereditarietà multipla"
      ]
    },
    {
      "cell_type": "code",
      "execution_count": null,
      "metadata": {
        "jukit_cell_id": "aJCNucohbJ"
      },
      "outputs": [],
      "source": [
        "class BClass:\n",
        "    def bFunc(self):\n",
        "        print(\"sono in bFunc\")\n",
        "\n",
        "class CClass:\n",
        "    def CFunc(self):\n",
        "        print(\"sono in cFunc\")"
      ]
    },
    {
      "cell_type": "code",
      "execution_count": null,
      "metadata": {
        "jukit_cell_id": "8mI7BdRzqT"
      },
      "outputs": [],
      "source": [
        "class AClass(BClass, CClass):\n",
        "    pass\n",
        "\n",
        "a = AClass()"
      ]
    },
    {
      "cell_type": "code",
      "execution_count": null,
      "metadata": {
        "jukit_cell_id": "rbQ7nD8q65"
      },
      "outputs": [
        {
          "name": "stdout",
          "output_type": "stream",
          "text": [
            "sono in bFunc\n"
          ]
        }
      ],
      "source": [
        "a.bFunc()"
      ]
    },
    {
      "cell_type": "code",
      "execution_count": null,
      "metadata": {
        "jukit_cell_id": "YYXKVkHsjj"
      },
      "outputs": [
        {
          "name": "stdout",
          "output_type": "stream",
          "text": [
            "sono in cFunc\n"
          ]
        }
      ],
      "source": [
        "a.CFunc()"
      ]
    },
    {
      "cell_type": "markdown",
      "metadata": {
        "jukit_cell_id": "b8oaAEur1F"
      },
      "source": [
        "```\n",
        "class Persona:\n",
        "    def __init__(self, fname, lname):\n",
        "        self.nome = fname\n",
        "        self.cognome = lname\n",
        "\n",
        "class Indirizzo:\n",
        "    def __init__(self, via, paese):\n",
        "        self.via = via\n",
        "        self.paese = paese\n",
        "\n",
        "class Utente(Persona, Indirizzo):\n",
        "    def __init__(self, nome, cognome, via, paese):\n",
        "        Persona.__init__(self, nome, cognome)\n",
        "        Indirizzo.__init__(self, via, paese)\n",
        "\n",
        "    def scheda(self):\n",
        "        return f\"\"\"\n",
        "        nome: {self.nome}\n",
        "        cognome: {self.cognome}\n",
        "        via: {self.via}\n",
        "        paese: {self.paese}\"\"\"\n",
        "\n",
        "\n",
        "io = Utente(\"andrea\", \"prestini\", \"BICHER\", \"Esine\")\n",
        "\n",
        "print(io.scheda())\n",
        "\n",
        "```"
      ]
    },
    {
      "cell_type": "markdown",
      "metadata": {
        "jukit_cell_id": "HZxSRlL3Vt"
      },
      "source": [
        "Cosa accade se entrambe le classi hanno lo stesso attributo funzione?\n",
        "\n",
        "> $\\color{red}{MRO~Method~Resolution~Order}$"
      ]
    },
    {
      "cell_type": "markdown",
      "metadata": {
        "jukit_cell_id": "fQetPmkPKt"
      },
      "source": [
        "L'attributo viene cercato prima nella sottoclasse stessa, poi nella prima classe presente nella gerarchia, poi la seconda, etc. come presenti nella dichiarazione della sottoclasse."
      ]
    },
    {
      "cell_type": "markdown",
      "metadata": {
        "jukit_cell_id": "9J5Lv6euU7"
      },
      "source": [
        "In estrema ratio l'ultima classe in cui ricerca sarà Object!"
      ]
    },
    {
      "cell_type": "markdown",
      "metadata": {
        "jukit_cell_id": "aIgXE5P6s2"
      },
      "source": [
        "# Le classi Object e Type"
      ]
    },
    {
      "cell_type": "markdown",
      "metadata": {
        "jukit_cell_id": "7hYaiwPkXa"
      },
      "source": [
        "Sono le classi a livello più alto della gerarchia. Classi BASE!"
      ]
    },
    {
      "cell_type": "code",
      "execution_count": null,
      "metadata": {
        "jukit_cell_id": "KSg4ZnrP9q"
      },
      "outputs": [],
      "source": [
        "class MyClass:\n",
        "    pass"
      ]
    },
    {
      "cell_type": "markdown",
      "metadata": {
        "jukit_cell_id": "Jpr5dlbYmk"
      },
      "source": [
        "MyClass è un'istanza della classe Object!\n",
        "\n",
        "Myclass è un'istanza della classe Type"
      ]
    },
    {
      "cell_type": "markdown",
      "metadata": {
        "jukit_cell_id": "jceUN4o5K3"
      },
      "source": [
        "myobj è un'instanza della classe object ma NON della classe type!"
      ]
    },
    {
      "cell_type": "code",
      "execution_count": null,
      "metadata": {
        "jukit_cell_id": "1PgEcXCPrG"
      },
      "outputs": [],
      "source": [
        "myObj = MyClass()"
      ]
    },
    {
      "cell_type": "code",
      "execution_count": null,
      "metadata": {
        "jukit_cell_id": "p5R06NybDF"
      },
      "outputs": [
        {
          "data": {
            "text/plain": [
              "True"
            ]
          },
          "execution_count": 115,
          "metadata": {},
          "output_type": "execute_result"
        }
      ],
      "source": [
        "isinstance(myObj, MyClass)"
      ]
    },
    {
      "cell_type": "code",
      "execution_count": null,
      "metadata": {
        "jukit_cell_id": "v1kdxxzhig"
      },
      "outputs": [
        {
          "data": {
            "text/plain": [
              "True"
            ]
          },
          "execution_count": 116,
          "metadata": {},
          "output_type": "execute_result"
        }
      ],
      "source": [
        "isinstance(myObj, object)"
      ]
    },
    {
      "cell_type": "code",
      "execution_count": null,
      "metadata": {
        "jukit_cell_id": "cbdWqZgyF0"
      },
      "outputs": [
        {
          "data": {
            "text/plain": [
              "True"
            ]
          },
          "execution_count": 117,
          "metadata": {},
          "output_type": "execute_result"
        }
      ],
      "source": [
        "isinstance(MyClass, object)"
      ]
    },
    {
      "cell_type": "code",
      "execution_count": null,
      "metadata": {
        "jukit_cell_id": "p0VlWLKsTi"
      },
      "outputs": [
        {
          "data": {
            "text/plain": [
              "True"
            ]
          },
          "execution_count": 118,
          "metadata": {},
          "output_type": "execute_result"
        }
      ],
      "source": [
        "isinstance(MyClass, type)"
      ]
    },
    {
      "cell_type": "code",
      "execution_count": null,
      "metadata": {
        "jukit_cell_id": "kaOguXbvfW"
      },
      "outputs": [
        {
          "data": {
            "text/plain": [
              "False"
            ]
          },
          "execution_count": 119,
          "metadata": {},
          "output_type": "execute_result"
        }
      ],
      "source": [
        "isinstance(myObj, type)"
      ]
    },
    {
      "cell_type": "code",
      "execution_count": null,
      "metadata": {
        "jukit_cell_id": "ln2eRwoUAf"
      },
      "outputs": [
        {
          "data": {
            "text/plain": [
              "True"
            ]
          },
          "execution_count": 120,
          "metadata": {},
          "output_type": "execute_result"
        }
      ],
      "source": [
        "isinstance(object, object)"
      ]
    },
    {
      "cell_type": "code",
      "execution_count": null,
      "metadata": {
        "jukit_cell_id": "Y1MT1IqhI5"
      },
      "outputs": [
        {
          "data": {
            "text/plain": [
              "True"
            ]
          },
          "execution_count": 121,
          "metadata": {},
          "output_type": "execute_result"
        }
      ],
      "source": [
        "isinstance(type, type)"
      ]
    },
    {
      "cell_type": "code",
      "execution_count": null,
      "metadata": {
        "jukit_cell_id": "QOm1tUh8it"
      },
      "outputs": [
        {
          "data": {
            "text/plain": [
              "True"
            ]
          },
          "execution_count": 122,
          "metadata": {},
          "output_type": "execute_result"
        }
      ],
      "source": [
        "isinstance(object, type)"
      ]
    },
    {
      "cell_type": "code",
      "execution_count": null,
      "metadata": {
        "jukit_cell_id": "FmUbIf0I1m"
      },
      "outputs": [
        {
          "data": {
            "text/plain": [
              "True"
            ]
          },
          "execution_count": 123,
          "metadata": {},
          "output_type": "execute_result"
        }
      ],
      "source": [
        "isinstance(type, object)"
      ]
    },
    {
      "cell_type": "markdown",
      "metadata": {
        "jukit_cell_id": "MHLqSEPXdj"
      },
      "source": [
        "# Il Costruttore \\__new\\__"
      ]
    },
    {
      "cell_type": "markdown",
      "metadata": {
        "jukit_cell_id": "TiMXu6Qcxp"
      },
      "source": [
        "Il metodo \\__init\\__ inizializza un oggetto già creato in precedenza: il costruttore \"effettivo\" è \\__new\\__"
      ]
    },
    {
      "cell_type": "markdown",
      "metadata": {
        "jukit_cell_id": "VkVy78YaAY"
      },
      "source": [
        "In sintesi:\n",
        "* init inizializza una istanza di una classe\n",
        "* new costruisce l'istanza della classe"
      ]
    },
    {
      "cell_type": "markdown",
      "metadata": {
        "jukit_cell_id": "dJj90ZHNKi"
      },
      "source": [
        "Gerarchicamente Prima viene invocato il metodo new (in modo automatico) e solo successivamente viene chiamato il metodo init; questi riceve una istanza già pronta, creata appunto da new."
      ]
    },
    {
      "cell_type": "markdown",
      "metadata": {
        "jukit_cell_id": "8UeeUfyrdc"
      },
      "source": [
        "~~~\n",
        "__new__(cls [,...])\n",
        "~~~"
      ]
    },
    {
      "cell_type": "markdown",
      "metadata": {
        "jukit_cell_id": "Aw3id1Oc7P"
      },
      "source": [
        "Gli argomenti, opzionali, saranno passati al metodo init una volta che new avrà generato l'istanza richiesta."
      ]
    },
    {
      "cell_type": "code",
      "execution_count": null,
      "metadata": {
        "jukit_cell_id": "fEmdidwah0"
      },
      "outputs": [],
      "source": [
        "class MyClass():\n",
        "    def __new__(cls):\n",
        "        print(\"istanza creata\")\n",
        "    def __init__(self):\n",
        "        print(\"istanza inizializzata\")"
      ]
    },
    {
      "cell_type": "code",
      "execution_count": null,
      "metadata": {
        "jukit_cell_id": "JDgG4w3CPQ"
      },
      "outputs": [
        {
          "name": "stdout",
          "output_type": "stream",
          "text": [
            "istanza creata\n"
          ]
        }
      ],
      "source": [
        "mc = MyClass() # non è stato chiamato il metodo init!"
      ]
    },
    {
      "cell_type": "code",
      "execution_count": null,
      "metadata": {
        "jukit_cell_id": "V4TI0L4yup"
      },
      "outputs": [],
      "source": [
        "class MyClass():\n",
        "    def __new__(cls):\n",
        "        istanza = super().__new__(cls)\n",
        "        print(\"istanza creata\")\n",
        "        return istanza\n",
        "    def __init__(self):\n",
        "        print(\"istanza inizializzata\")"
      ]
    },
    {
      "cell_type": "code",
      "execution_count": null,
      "metadata": {
        "jukit_cell_id": "mcvVAKu4jH"
      },
      "outputs": [
        {
          "name": "stdout",
          "output_type": "stream",
          "text": [
            "istanza creata\n",
            "istanza inizializzata\n"
          ]
        }
      ],
      "source": [
        "mc = MyClass()"
      ]
    },
    {
      "cell_type": "markdown",
      "metadata": {
        "jukit_cell_id": "S5DHid4IkM"
      },
      "source": [
        "# Iterabili ed Iteratori (oggetti)"
      ]
    },
    {
      "cell_type": "markdown",
      "metadata": {
        "jukit_cell_id": "z6YME5ha4K"
      },
      "source": [
        "Un Container è un oggetto particolare che ammette un test particolare, il testo di appartenenza; liste, dizionari, set, tuple, string permetto di verificare se un oggetto appartiene o non appartiene a questi contenitori."
      ]
    },
    {
      "cell_type": "code",
      "execution_count": null,
      "metadata": {
        "jukit_cell_id": "VVGAbWiMZC"
      },
      "outputs": [
        {
          "data": {
            "text/plain": [
              "True"
            ]
          },
          "execution_count": 126,
          "metadata": {},
          "output_type": "execute_result"
        }
      ],
      "source": [
        "stringa = [1,2,3,4,5]\n",
        "3 in stringa"
      ]
    },
    {
      "cell_type": "markdown",
      "metadata": {
        "jukit_cell_id": "hBgYu6KcOe"
      },
      "source": [
        "Un contenitore è un oggetto iterabile, MA un oggetto iterabile NON è sempre un contenitore (es. un file)"
      ]
    },
    {
      "cell_type": "markdown",
      "metadata": {
        "jukit_cell_id": "4wz0fT9785"
      },
      "source": [
        "> Un oggetto è iterabile quando è in grado di restituire un oggetto (Iteratore) che consente di scorrere i singoli elementi dell'oggetto iterabile di partenza. Tutti gli oggetti iterabili hanno un metodo \\__iter()\\__"
      ]
    },
    {
      "cell_type": "markdown",
      "metadata": {
        "jukit_cell_id": "DKheOrmmJp"
      },
      "source": [
        "Un Iteratore è un oggetto che produce il prossimo elemento di un iterabile, attraverso il metodo \\__next()\\__"
      ]
    },
    {
      "cell_type": "markdown",
      "metadata": {
        "jukit_cell_id": "kqD75tmy9B"
      },
      "source": [
        "Ricordiamo che un oggetto può essere sia iterabile che iteratore nel caso in cui contenga entrambi i metodi, \\__iter()\\__ ed \\__next()\\__ (es. una lista)"
      ]
    },
    {
      "cell_type": "code",
      "execution_count": null,
      "metadata": {
        "jukit_cell_id": "bFyP87naPC"
      },
      "outputs": [],
      "source": [
        "myList = [\"primo\", \"secondo\", \"terzo\"]"
      ]
    },
    {
      "cell_type": "code",
      "execution_count": null,
      "metadata": {
        "jukit_cell_id": "HiiuFeOSKg"
      },
      "outputs": [],
      "source": [
        "it1 = iter(myList)"
      ]
    },
    {
      "cell_type": "code",
      "execution_count": null,
      "metadata": {
        "jukit_cell_id": "ry9yI2wZfn"
      },
      "outputs": [
        {
          "data": {
            "text/plain": [
              "list_iterator"
            ]
          },
          "execution_count": 127,
          "metadata": {},
          "output_type": "execute_result"
        }
      ],
      "source": [
        "type(it1)"
      ]
    },
    {
      "cell_type": "code",
      "execution_count": null,
      "metadata": {
        "jukit_cell_id": "eiZik5E1EV"
      },
      "outputs": [
        {
          "data": {
            "text/plain": [
              "'primo'"
            ]
          },
          "execution_count": 128,
          "metadata": {},
          "output_type": "execute_result"
        }
      ],
      "source": [
        "next(it1)"
      ]
    },
    {
      "cell_type": "code",
      "execution_count": null,
      "metadata": {
        "jukit_cell_id": "bEucTmwShI"
      },
      "outputs": [
        {
          "data": {
            "text/plain": [
              "'secondo'"
            ]
          },
          "execution_count": 129,
          "metadata": {},
          "output_type": "execute_result"
        }
      ],
      "source": [
        "next(it1)"
      ]
    },
    {
      "cell_type": "code",
      "execution_count": null,
      "metadata": {
        "jukit_cell_id": "ivl7IWR3Yh"
      },
      "outputs": [
        {
          "data": {
            "text/plain": [
              "'terzo'"
            ]
          },
          "execution_count": 130,
          "metadata": {},
          "output_type": "execute_result"
        }
      ],
      "source": [
        "next(it1)"
      ]
    },
    {
      "cell_type": "code",
      "execution_count": null,
      "metadata": {
        "jukit_cell_id": "xXMZbzL5n9"
      },
      "outputs": [
        {
          "ename": "StopIteration",
          "evalue": "",
          "output_type": "error",
          "traceback": [
            "\u001b[0;31m---------------------------------------------------------------------------\u001b[0m",
            "\u001b[0;31mStopIteration\u001b[0m                             Traceback (most recent call last)",
            "\u001b[0;32m<ipython-input-41-2488cfd6da6f>\u001b[0m in \u001b[0;36m<module>\u001b[0;34m\u001b[0m\n\u001b[0;32m----> 1\u001b[0;31m \u001b[0mnext\u001b[0m\u001b[0;34m(\u001b[0m\u001b[0mit1\u001b[0m\u001b[0;34m)\u001b[0m\u001b[0;34m\u001b[0m\u001b[0;34m\u001b[0m\u001b[0m\n\u001b[0m",
            "\u001b[0;31mStopIteration\u001b[0m: "
          ]
        }
      ],
      "source": [
        "next(it1) # sono finiti gli elementi dell'oggetto iterabile"
      ]
    },
    {
      "cell_type": "markdown",
      "metadata": {
        "jukit_cell_id": "cle20MUIJ6"
      },
      "source": [
        "## Creazione di un iteratore"
      ]
    },
    {
      "cell_type": "code",
      "execution_count": null,
      "metadata": {
        "jukit_cell_id": "O8bl3Wa0Vl"
      },
      "outputs": [],
      "source": [
        "class MyIterator:\n",
        "    def __iter__(self):\n",
        "        self.myattr = 2\n",
        "        return self\n",
        "\n",
        "    def __next__(self):\n",
        "        if self.myattr < 300:\n",
        "            n = self.myattr\n",
        "            self.myattr *= 2\n",
        "            return n\n",
        "        else:\n",
        "            raise StopIteration(\"fine iterazione\")"
      ]
    },
    {
      "cell_type": "code",
      "execution_count": null,
      "metadata": {
        "jukit_cell_id": "naAdjEi7fU"
      },
      "outputs": [],
      "source": [
        "miaClasse = MyIterator()\n",
        "mioIter = iter(miaClasse)"
      ]
    },
    {
      "cell_type": "code",
      "execution_count": null,
      "metadata": {
        "jukit_cell_id": "Pi4BgEqwMf"
      },
      "outputs": [
        {
          "name": "stdout",
          "output_type": "stream",
          "text": [
            "2\n",
            "4\n",
            "8\n",
            "16\n",
            "32\n",
            "64\n",
            "128\n",
            "256\n"
          ]
        },
        {
          "ename": "StopIteration",
          "evalue": "fine iterazione",
          "output_type": "error",
          "traceback": [
            "\u001b[0;31m---------------------------------------------------------------------------\u001b[0m",
            "\u001b[0;31mStopIteration\u001b[0m                             Traceback (most recent call last)",
            "\u001b[0;32m<ipython-input-77-6e2b15c412f0>\u001b[0m in \u001b[0;36m<module>\u001b[0;34m\u001b[0m\n\u001b[1;32m      7\u001b[0m \u001b[0mprint\u001b[0m\u001b[0;34m(\u001b[0m\u001b[0mnext\u001b[0m\u001b[0;34m(\u001b[0m\u001b[0mmioIter\u001b[0m\u001b[0;34m)\u001b[0m\u001b[0;34m)\u001b[0m\u001b[0;34m\u001b[0m\u001b[0;34m\u001b[0m\u001b[0m\n\u001b[1;32m      8\u001b[0m \u001b[0mprint\u001b[0m\u001b[0;34m(\u001b[0m\u001b[0mnext\u001b[0m\u001b[0;34m(\u001b[0m\u001b[0mmioIter\u001b[0m\u001b[0;34m)\u001b[0m\u001b[0;34m)\u001b[0m\u001b[0;34m\u001b[0m\u001b[0;34m\u001b[0m\u001b[0m\n\u001b[0;32m----> 9\u001b[0;31m \u001b[0mprint\u001b[0m\u001b[0;34m(\u001b[0m\u001b[0mnext\u001b[0m\u001b[0;34m(\u001b[0m\u001b[0mmioIter\u001b[0m\u001b[0;34m)\u001b[0m\u001b[0;34m)\u001b[0m\u001b[0;34m\u001b[0m\u001b[0;34m\u001b[0m\u001b[0m\n\u001b[0m",
            "\u001b[0;32m<ipython-input-75-32bedc233f39>\u001b[0m in \u001b[0;36m__next__\u001b[0;34m(self)\u001b[0m\n\u001b[1;32m     10\u001b[0m             \u001b[0;32mreturn\u001b[0m \u001b[0mn\u001b[0m\u001b[0;34m\u001b[0m\u001b[0;34m\u001b[0m\u001b[0m\n\u001b[1;32m     11\u001b[0m         \u001b[0;32melse\u001b[0m\u001b[0;34m:\u001b[0m\u001b[0;34m\u001b[0m\u001b[0;34m\u001b[0m\u001b[0m\n\u001b[0;32m---> 12\u001b[0;31m             \u001b[0;32mraise\u001b[0m \u001b[0mStopIteration\u001b[0m\u001b[0;34m(\u001b[0m\u001b[0;34m\"fine iterazione\"\u001b[0m\u001b[0;34m)\u001b[0m\u001b[0;34m\u001b[0m\u001b[0;34m\u001b[0m\u001b[0m\n\u001b[0m",
            "\u001b[0;31mStopIteration\u001b[0m: fine iterazione"
          ]
        }
      ],
      "source": [
        "print(next(mioIter))\n",
        "print(next(mioIter))\n",
        "print(next(mioIter))\n",
        "print(next(mioIter))\n",
        "print(next(mioIter))\n",
        "print(next(mioIter))\n",
        "print(next(mioIter))\n",
        "print(next(mioIter))\n",
        "print(next(mioIter))"
      ]
    },
    {
      "cell_type": "code",
      "execution_count": null,
      "metadata": {
        "jukit_cell_id": "alCJ4Nljfc"
      },
      "outputs": [
        {
          "name": "stdout",
          "output_type": "stream",
          "text": [
            "2\n",
            "4\n",
            "8\n",
            "16\n",
            "32\n",
            "64\n",
            "128\n",
            "256\n"
          ]
        }
      ],
      "source": [
        "for i in mioIter:\n",
        "    print(i)"
      ]
    },
    {
      "cell_type": "markdown",
      "metadata": {
        "jukit_cell_id": "DF0oIWa1wx"
      },
      "source": [
        "## Funzione generatore (Generator Function)"
      ]
    },
    {
      "cell_type": "markdown",
      "metadata": {
        "jukit_cell_id": "oZeZSTt3Fr"
      },
      "source": [
        "Se all'interno di una funzione compare la parola $\\color{green}{yield}$ tale funzione si ferma, cede il valore al chiamante della funzione e, se richiamata, cede il valore successivo..."
      ]
    },
    {
      "cell_type": "code",
      "execution_count": null,
      "metadata": {
        "jukit_cell_id": "jt2Qnm86UO"
      },
      "outputs": [],
      "source": [
        "def get_doppio_gen():\n",
        "    e = 2\n",
        "    while (e < 100):\n",
        "        yield e\n",
        "        e *= 2"
      ]
    },
    {
      "cell_type": "code",
      "execution_count": null,
      "metadata": {
        "jukit_cell_id": "Xbb6Qnk03M"
      },
      "outputs": [],
      "source": [
        "gen = get_doppio_gen()"
      ]
    },
    {
      "cell_type": "code",
      "execution_count": null,
      "metadata": {
        "jukit_cell_id": "SPlvztm5Hv"
      },
      "outputs": [
        {
          "data": {
            "text/plain": [
              "generator"
            ]
          },
          "execution_count": 134,
          "metadata": {},
          "output_type": "execute_result"
        }
      ],
      "source": [
        "type(gen)"
      ]
    },
    {
      "cell_type": "code",
      "execution_count": null,
      "metadata": {
        "jukit_cell_id": "SKCUZvyryv"
      },
      "outputs": [
        {
          "name": "stdout",
          "output_type": "stream",
          "text": [
            "4\n",
            "8\n"
          ]
        }
      ],
      "source": [
        "print(next(gen))\n",
        "print(next(gen))"
      ]
    },
    {
      "cell_type": "markdown",
      "metadata": {
        "jukit_cell_id": "C9rAnPrRpy"
      },
      "source": [
        "## Le Espressioni Generatore (Generator Expressions)"
      ]
    },
    {
      "cell_type": "markdown",
      "metadata": {
        "jukit_cell_id": "4KYPaAHm1t"
      },
      "source": [
        "Di fatto è come le list comprehension:\n",
        "```\n",
        "numeri = [1,2,3,4,5]\n",
        "n = [n * n for n in numeri if n % 2 == 1]\n",
        "```"
      ]
    },
    {
      "cell_type": "markdown",
      "metadata": {
        "jukit_cell_id": "GkNvSHMVPF"
      },
      "source": [
        "Attenzione: il generatore una volta iterato esaurisce il suo compito e NON può essere nuovamente iterato, cosa che invece si può fare con le list comprehension!"
      ]
    },
    {
      "cell_type": "code",
      "execution_count": null,
      "metadata": {
        "jukit_cell_id": "XmHj4VMF90"
      },
      "outputs": [],
      "source": [
        "elenco = [1,2,3,4,5]\n",
        "nelenco = (n * n for n in elenco if n % 2 == 1)"
      ]
    },
    {
      "cell_type": "code",
      "execution_count": null,
      "metadata": {
        "jukit_cell_id": "8KFtUzWf9j"
      },
      "outputs": [
        {
          "data": {
            "text/plain": [
              "generator"
            ]
          },
          "execution_count": 136,
          "metadata": {},
          "output_type": "execute_result"
        }
      ],
      "source": [
        "type(nelenco)"
      ]
    },
    {
      "cell_type": "code",
      "execution_count": null,
      "metadata": {
        "jukit_cell_id": "gyczhCiXih"
      },
      "outputs": [
        {
          "name": "stdout",
          "output_type": "stream",
          "text": [
            "1\n",
            "9\n",
            "25\n"
          ]
        }
      ],
      "source": [
        "for i in nelenco:\n",
        "    print(i)"
      ]
    },
    {
      "cell_type": "code",
      "execution_count": null,
      "metadata": {
        "jukit_cell_id": "ycpHwip11I"
      },
      "outputs": [],
      "source": [
        "for i in nelenco:\n",
        "    print(i) # non otteniamo NULLA, il generatore è VUOTO!"
      ]
    },
    {
      "cell_type": "markdown",
      "metadata": {
        "jukit_cell_id": "zvJTybPPkm"
      },
      "source": [
        "Perchè usare le Generato Expression al posto delle list comprehension?"
      ]
    },
    {
      "cell_type": "markdown",
      "metadata": {
        "jukit_cell_id": "FDv4w9MKxv"
      },
      "source": [
        "> la LC produce una lista eseguita subito e tutta in una volta sola; le GE viene eseguita in modo Lazy, un elemento alla volta durante l'iterazione dei suoi elementi!"
      ]
    },
    {
      "cell_type": "markdown",
      "metadata": {
        "jukit_cell_id": "TE65K6st8m"
      },
      "source": [
        "Se il numero di elementi fosse alto l'utilizzo di GE rispetto a LC allocherebbe moltissima memoria in più, e, in alcuni casi, risulterebbe più veloce ed a volte l'unico strumento utilizzabile."
      ]
    },
    {
      "cell_type": "markdown",
      "metadata": {
        "jukit_cell_id": "e3HCr9WA7z"
      },
      "source": [
        "# Aggiornamento python 3.7 "
      ]
    },
    {
      "cell_type": "markdown",
      "metadata": {
        "jukit_cell_id": "F8sEvXlgV6"
      },
      "source": [
        "## Dizionario"
      ]
    },
    {
      "cell_type": "markdown",
      "metadata": {
        "jukit_cell_id": "uQq2GyF7Nm"
      },
      "source": [
        "Adesso garantiscono l'ordinamento delle chiavi secondo l'inserimento effettuato!"
      ]
    },
    {
      "cell_type": "code",
      "execution_count": null,
      "metadata": {
        "jukit_cell_id": "igdDUJwEXM"
      },
      "outputs": [],
      "source": [
        "myDizionario = {\n",
        "    \"primo\": 10,\n",
        "    \"secondo\": 20,\n",
        "    \"terzo\": 30,\n",
        "}"
      ]
    },
    {
      "cell_type": "code",
      "execution_count": null,
      "metadata": {
        "jukit_cell_id": "D0np8bYw7q"
      },
      "outputs": [],
      "source": [
        "myDizionario[\"quarto\"] = 40"
      ]
    },
    {
      "cell_type": "code",
      "execution_count": null,
      "metadata": {
        "jukit_cell_id": "o1g3HUFSgN"
      },
      "outputs": [
        {
          "name": "stdout",
          "output_type": "stream",
          "text": [
            "dict_keys(['primo', 'secondo', 'terzo', 'quarto'])\n"
          ]
        }
      ],
      "source": [
        "print(dict.keys(myDizionario))"
      ]
    },
    {
      "cell_type": "markdown",
      "metadata": {
        "jukit_cell_id": "Ob8RSlMagr"
      },
      "source": [
        "## Type Annotations"
      ]
    },
    {
      "cell_type": "markdown",
      "metadata": {
        "jukit_cell_id": "QuPmGzWOB6"
      },
      "source": [
        "PEP python Enhancement Proposal (proposte di miglioramento di python)."
      ]
    },
    {
      "cell_type": "markdown",
      "metadata": {
        "jukit_cell_id": "tqKCKqbbdo"
      },
      "source": [
        "PEP 3107 Function Annotations"
      ]
    },
    {
      "cell_type": "markdown",
      "metadata": {
        "jukit_cell_id": "1ATQShRGG3"
      },
      "source": [
        "Introduce la possibilità di annotare i parametri ed i valori di ritorno di una funzione."
      ]
    },
    {
      "cell_type": "markdown",
      "metadata": {
        "jukit_cell_id": "0zm2qwMNyJ"
      },
      "source": [
        "```\n",
        "def foo(a: expression, b: expression = 5):\n",
        "```"
      ]
    },
    {
      "cell_type": "markdown",
      "metadata": {
        "jukit_cell_id": "acNHGgsvga"
      },
      "source": [
        "```\n",
        "def myFunc(x: \"paramentro x\") -> \"ritorno\":\n",
        "    return x\n",
        "```"
      ]
    },
    {
      "cell_type": "markdown",
      "metadata": {
        "jukit_cell_id": "NbBYF5kmXn"
      },
      "source": [
        "PEP 484 Type Hints"
      ]
    },
    {
      "cell_type": "code",
      "execution_count": null,
      "metadata": {
        "jukit_cell_id": "cgZ7mCnUKG"
      },
      "outputs": [],
      "source": [
        "def myFunc(x: int, s: str = \"python\") -> str:\n",
        "    print(x)\n",
        "    return s"
      ]
    },
    {
      "cell_type": "code",
      "execution_count": null,
      "metadata": {
        "jukit_cell_id": "2ppVnHYcRC"
      },
      "outputs": [
        {
          "name": "stdout",
          "output_type": "stream",
          "text": [
            "{'x': <class 'int'>, 's': <class 'str'>, 'return': <class 'str'>}\n"
          ]
        }
      ],
      "source": [
        "print(myFunc.__annotations__)"
      ]
    },
    {
      "cell_type": "markdown",
      "metadata": {
        "jukit_cell_id": "40bONgt3qN"
      },
      "source": [
        "PEP 526 del 2016 Syntax for Variable Annotations"
      ]
    },
    {
      "cell_type": "code",
      "execution_count": null,
      "metadata": {
        "jukit_cell_id": "KWrMkrTg3K"
      },
      "outputs": [
        {
          "name": "stdout",
          "output_type": "stream",
          "text": [
            "{'a': <class 'int'>}\n"
          ]
        }
      ],
      "source": [
        "a: int = 10\n",
        "print(__annotations__)"
      ]
    },
    {
      "cell_type": "code",
      "execution_count": null,
      "metadata": {
        "jukit_cell_id": "T22gmtGt5G"
      },
      "outputs": [],
      "source": [
        "class MyClass:\n",
        "    nome: str\n",
        "    cognome: str\n",
        "\n",
        "    def __init__(self, nome, cognome):\n",
        "        self.nome = nome\n",
        "        self.cognome = cognome"
      ]
    },
    {
      "cell_type": "code",
      "execution_count": null,
      "metadata": {
        "jukit_cell_id": "k1CQXUGxPZ"
      },
      "outputs": [
        {
          "name": "stdout",
          "output_type": "stream",
          "text": [
            "{'nome': <class 'str'>, 'cognome': <class 'str'>}\n"
          ]
        }
      ],
      "source": [
        "print(MyClass.__annotations__)"
      ]
    },
    {
      "cell_type": "markdown",
      "metadata": {
        "jukit_cell_id": "YhtxkLziJm"
      },
      "source": [
        "## Le Data Classes"
      ]
    },
    {
      "cell_type": "markdown",
      "metadata": {
        "jukit_cell_id": "toN60amy4N"
      },
      "source": [
        "Servono ad arricchire di significato le definizioni delle classi, soprattutto quando rappresentano dei DATI."
      ]
    },
    {
      "cell_type": "code",
      "execution_count": null,
      "metadata": {
        "jukit_cell_id": "f8M4SewpHf"
      },
      "outputs": [],
      "source": [
        "from dataclasses import dataclass # importiamo il decoratore"
      ]
    },
    {
      "cell_type": "code",
      "execution_count": null,
      "metadata": {
        "jukit_cell_id": "322BvyM0WT"
      },
      "outputs": [],
      "source": [
        "@dataclass(init=True, repr=True, order=True, frozen=False)\n",
        "class MiaClasse:\n",
        "    nome: str\n",
        "    cognome: str"
      ]
    },
    {
      "cell_type": "code",
      "execution_count": null,
      "metadata": {
        "jukit_cell_id": "yViNxDQVxy"
      },
      "outputs": [],
      "source": [
        "mc = MiaClasse(\"andrea\", \"prestini\")"
      ]
    },
    {
      "cell_type": "code",
      "execution_count": null,
      "metadata": {
        "jukit_cell_id": "POuEnbsZy7"
      },
      "outputs": [
        {
          "name": "stdout",
          "output_type": "stream",
          "text": [
            "MiaClasse(nome='andrea', cognome='prestini')\n"
          ]
        }
      ],
      "source": [
        "print(mc)"
      ]
    },
    {
      "cell_type": "markdown",
      "metadata": {
        "jukit_cell_id": "wEYhM9f6ru"
      },
      "source": [
        "## Assignment Expression (python versione 3.8) Walrus Operator"
      ]
    },
    {
      "cell_type": "markdown",
      "metadata": {
        "jukit_cell_id": "KWa07PAhJp"
      },
      "source": [
        "Se avessimo un'espressione come questa:\n",
        "```\n",
        "if x = somma(5,3) > 6:\n",
        "    print(\"x maggiore di 6\")\n",
        "```\n",
        "otteniamo un ERRORE!"
      ]
    },
    {
      "cell_type": "markdown",
      "metadata": {
        "jukit_cell_id": "qKqZmIrz9W"
      },
      "source": [
        "MA:\n",
        "```\n",
        "if x:= somma(5,3) > 6:\n",
        "    print(\"x maggiore di 6\")\n",
        "```\n",
        "FUNZIONA!"
      ]
    },
    {
      "cell_type": "markdown",
      "metadata": {
        "jukit_cell_id": "VZAZIFRStB"
      },
      "source": [
        "```\n",
        "mylist = [1,2,3,4,5]\n",
        "while x := len(mylist) != 0:\n",
        "    print(x, mylist.pop())\n",
        "```"
      ]
    },
    {
      "cell_type": "markdown",
      "metadata": {
        "jukit_cell_id": "cEh3nJ9gCJ"
      },
      "source": [
        "## Paremetri Positional-Only PEP 570"
      ]
    },
    {
      "cell_type": "markdown",
      "metadata": {
        "jukit_cell_id": "RrN5GMKPyU"
      },
      "source": [
        "```\n",
        "def somma(a, /, b, c): # a solo argomenti posizionali, b e c anche keywords\n",
        "    return a + b + c"
      ]
    },
    {
      "cell_type": "markdown",
      "metadata": {
        "jukit_cell_id": "aptYmEuHaL"
      },
      "source": [
        "# Applicazioni distribuite con RabbitMQ"
      ]
    },
    {
      "cell_type": "markdown",
      "metadata": {
        "jukit_cell_id": "OmURjWVv7E"
      },
      "source": [
        "## Architetture Client - Server"
      ]
    }
  ],
  "metadata": {
    "anaconda-cloud": {},
    "kernelspec": {
      "display_name": "python",
      "language": "python",
      "name": "python3"
    },
    "language_info": {
      "codemirror_mode": {
        "name": "ipython",
        "version": 3
      },
      "file_extension": ".py",
      "mimetype": "text/x-python",
      "name": "python",
      "nbconvert_exporter": "python",
      "pygments_lexer": "ipython3",
      "version": "3.10.12"
    }
  },
  "nbformat": 4,
  "nbformat_minor": 4
}
