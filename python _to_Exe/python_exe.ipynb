{
 "cells": [
  {
   "cell_type": "markdown",
   "metadata": {},
   "source": [
    "# Convertire progetto *Python* in eseguibile *Windows*"
   ]
  },
  {
   "cell_type": "markdown",
   "metadata": {},
   "source": [
    "Utilizziamo pip install per ottenere il programma auto-py-to-exe"
   ]
  },
  {
   "cell_type": "markdown",
   "metadata": {},
   "source": [
    "> Lo script dovrà essere lanciato da windows se vogliamo creare un eseguibile EXE"
   ]
  },
  {
   "cell_type": "markdown",
   "metadata": {},
   "source": [
    "una volta installato da terminale lo eseguiremo e ci si aprirà una finestra del browser dalla quale seguire la procedura necessario per trasformare un programma python in programma exe di windows."
   ]
  },
  {
   "cell_type": "markdown",
   "metadata": {},
   "source": [
    "Per quanto riguarda l'icona potremo usare una ***png*** da trasformare in ***ico*** utilizzando il sito:\n",
    "https://convertico.com"
   ]
  }
 ],
 "metadata": {
  "interpreter": {
   "hash": "7473d73b0517ab6f64aa731f2cb80c0acf19c95420055020da77d830c23b4531"
  },
  "kernelspec": {
   "display_name": "Python 3.9.12 ('base')",
   "language": "python",
   "name": "python3"
  },
  "language_info": {
   "codemirror_mode": {
    "name": "ipython",
    "version": 3
   },
   "file_extension": ".py",
   "mimetype": "text/x-python",
   "name": "python",
   "nbconvert_exporter": "python",
   "pygments_lexer": "ipython3",
   "version": "3.9.12"
  },
  "orig_nbformat": 4
 },
 "nbformat": 4,
 "nbformat_minor": 2
}
