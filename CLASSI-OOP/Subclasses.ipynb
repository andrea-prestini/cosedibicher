{
 "cells": [
  {
   "cell_type": "code",
   "execution_count": 1,
   "metadata": {},
   "outputs": [],
   "source": [
    "class Persona:\n",
    "    def __init__(self, nome, cognome, residenza):\n",
    "        self.nome = nome\n",
    "        self.cognome = cognome\n",
    "        self.residenza = residenza\n",
    "        \n",
    "    def scheda(self):\n",
    "        return f\"\"\"\n",
    "        nome:      {self.nome}\n",
    "        cognome:   {self.cognome}\n",
    "        residenza: {self.residenza}\"\"\"\n",
    "       "
   ]
  },
  {
   "cell_type": "code",
   "execution_count": 15,
   "metadata": {},
   "outputs": [],
   "source": [
    "class Studente(Persona):\n",
    "    def __init__(self, nome, cognome, residenza, materia):\n",
    "        super().__init__(nome, cognome, residenza)\n",
    "        self.materia = materia\n",
    "        \n",
    "    def modifica_scheda(self):\n",
    "        \n",
    "        while True:\n",
    "            scelta = input(\"cosa vuoi modificare? 1-materia 2-residenza \")\n",
    "            if scelta == \"1\":\n",
    "                self.materia = input(\"inserisci la nuova materia di studio\\n\")\n",
    "                break\n",
    "            if scelta ==\"2\":\n",
    "                self.residenza = input(\"inserisci la nuova residenza\\n\")\n",
    "                break\n",
    "            else:\n",
    "                 print(\"scelta errata, segui le indicazioni\")\n",
    "        \n",
    "            \n",
    "\n",
    "    def scheda(self):\n",
    "        return f\"\"\"\n",
    "        {super().scheda()}\n",
    "        materia:   {self.materia}\"\"\"\n",
    "    \n",
    "        \n",
    "        \n",
    "        \n",
    "    "
   ]
  },
  {
   "cell_type": "code",
   "execution_count": 16,
   "metadata": {},
   "outputs": [],
   "source": [
    "io = Studente(\"andrea\", \"prestini\", \"via Bicher Esine\", \"informatica\")"
   ]
  },
  {
   "cell_type": "code",
   "execution_count": 17,
   "metadata": {},
   "outputs": [
    {
     "name": "stdout",
     "output_type": "stream",
     "text": [
      "\n",
      "        \n",
      "        nome:      andrea\n",
      "        cognome:   prestini\n",
      "        residenza: via Bicher Esine\n",
      "        materia:   informatica\n"
     ]
    }
   ],
   "source": [
    "print(io.scheda())"
   ]
  },
  {
   "cell_type": "code",
   "execution_count": 18,
   "metadata": {},
   "outputs": [
    {
     "name": "stdout",
     "output_type": "stream",
     "text": [
      "cosa vuoi modificare? 1-materia 2-residenza c\n",
      "scelta errata, segui le indicazioni\n",
      "cosa vuoi modificare? 1-materia 2-residenza 2\n",
      "inserisci la nuova residenza\n",
      "gottolengo\n"
     ]
    }
   ],
   "source": [
    "io.modifica_scheda()"
   ]
  },
  {
   "cell_type": "code",
   "execution_count": 19,
   "metadata": {},
   "outputs": [
    {
     "name": "stdout",
     "output_type": "stream",
     "text": [
      "\n",
      "        \n",
      "        nome:      andrea\n",
      "        cognome:   prestini\n",
      "        residenza: gottolengo\n",
      "        materia:   informatica\n"
     ]
    }
   ],
   "source": [
    "print(io.scheda())"
   ]
  },
  {
   "cell_type": "code",
   "execution_count": null,
   "metadata": {},
   "outputs": [],
   "source": []
  }
 ],
 "metadata": {
  "kernelspec": {
   "display_name": "Python 3.8.0 64-bit",
   "language": "python",
   "name": "python38064bitcc1bc868739a40e48395b32afb20b1d0"
  }
 },
 "nbformat": 4,
 "nbformat_minor": 2
}
