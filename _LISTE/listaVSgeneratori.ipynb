{
 "cells": [
  {
   "cell_type": "markdown",
   "id": "7d3d1c31-b2dd-4986-8da3-2beb6a855961",
   "metadata": {},
   "source": [
    "# Lista vs Generatori"
   ]
  },
  {
   "cell_type": "code",
   "execution_count": 40,
   "id": "de63d7bf-4c63-4de2-8e0c-ae3d79f98b6f",
   "metadata": {},
   "outputs": [],
   "source": [
    "import sys\n",
    "numero = 10000"
   ]
  },
  {
   "cell_type": "code",
   "execution_count": 41,
   "id": "db6b0907-8c4d-4bca-9acc-5fa00b912ed6",
   "metadata": {},
   "outputs": [],
   "source": [
    "lista = [i for i in range(numero)]"
   ]
  },
  {
   "cell_type": "code",
   "execution_count": 42,
   "id": "c34b801b-9e37-48d9-9dce-bdcfe2ae7263",
   "metadata": {},
   "outputs": [],
   "source": [
    "glista = (i for i in range(numero))"
   ]
  },
  {
   "cell_type": "code",
   "execution_count": 43,
   "id": "c362cb89-7c63-4d46-a949-aaffc4eb9d79",
   "metadata": {},
   "outputs": [
    {
     "name": "stdout",
     "output_type": "stream",
     "text": [
      "0.0835723876953125 Mbytes\n",
      "128 bytes\n"
     ]
    }
   ],
   "source": [
    "print(sys.getsizeof(lista)/(1024**2), \"Mbytes\")\n",
    "print(sys.getsizeof(glista), \"bytes\")"
   ]
  }
 ],
 "metadata": {
  "interpreter": {
   "hash": "40d3a090f54c6569ab1632332b64b2c03c39dcf918b08424e98f38b5ae0af88f"
  },
  "kernelspec": {
   "display_name": "Python 3.7.4",
   "language": "python",
   "name": "python3"
  },
  "language_info": {
   "codemirror_mode": {
    "name": "ipython",
    "version": 3
   },
   "file_extension": ".py",
   "mimetype": "text/x-python",
   "name": "python",
   "nbconvert_exporter": "python",
   "pygments_lexer": "ipython3",
   "version": "3.7.4"
  },
  "widgets": {
   "application/vnd.jupyter.widget-state+json": {
    "state": {},
    "version_major": 2,
    "version_minor": 0
   }
  }
 },
 "nbformat": 4,
 "nbformat_minor": 5
}
