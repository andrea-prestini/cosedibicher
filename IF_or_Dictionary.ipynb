{
 "cells": [
  {
   "cell_type": "code",
   "execution_count": 1,
   "metadata": {},
   "outputs": [],
   "source": [
    "# Elenco return funzione domanda\n",
    "risposta1 = \"Ciao amico mio\"\n",
    "risposta2 = \"Ciao tutto bene nel paesello Gambara?\"\n",
    "risposta3 = \"Buongiorno, come stanno le bambine?\"\n",
    "risposta4 = \"Complimenti per i tuoi ultimi risultati scolastici!\"\n",
    "risposta5 = \"Dovrei effettuare il cambio pastiglie dei freni...\"\n",
    "risposta6 = \"Ci sono novità nella Valle Camonica?\"\n",
    "risposta7 = \"Hai trovato una motocicletta di tuo gradimento?\"\n",
    "risposta8 = \"Ci sono problemi di approvigionamento idrico!\"\n",
    "risposta9 = \"Abbiamo attivato il processo di fatturazione elettronica?\"\n",
    "risposta10 = \"Spero tu possa stare meglio per ritornare in palestra\"\n",
    "\n"
   ]
  },
  {
   "cell_type": "code",
   "execution_count": 2,
   "metadata": {},
   "outputs": [],
   "source": [
    "# Elenco risposte disponibili\n",
    "RISPOSTE = {\n",
    "    \"andrea\": risposta1,\n",
    "    \"mario\": risposta2,\n",
    "    \"eleonora\": risposta3,\n",
    "    \"federica\": risposta4,\n",
    "    \"roberto\": risposta5,\n",
    "    \"ancilla\": risposta6,\n",
    "    \"simone\": risposta7,\n",
    "    \"giuseppe\": risposta8,\n",
    "    \"anna\": risposta9,\n",
    "    \"claudio\": risposta10,\n",
    "}"
   ]
  },
  {
   "cell_type": "code",
   "execution_count": 2,
   "metadata": {},
   "outputs": [],
   "source": [
    "\n",
    "\n",
    "def come_ti_chiami(nome: str) -> str:\n",
    "    # * Casting della variabile nome in caso di inserimento con lettere maiuscole\n",
    "    nome = nome.lower()\n",
    "    ''' La funzione controlla se la risposta è presente nel dizionario e risponde di conseguenza'''\n",
    "    if nome not in RISPOSTE.keys():\n",
    "        # caso escluso dall'elenco risposte predefinite\n",
    "        return \"Mi dispiace non ti conosco\"\n",
    "    else:\n",
    "        return RISPOSTE[nome]"
   ]
  },
  {
   "cell_type": "code",
   "execution_count": null,
   "metadata": {},
   "outputs": [],
   "source": [
    "# Poniamo la domanda al nostro utente\n",
    "print(come_ti_chiami(input(\"Come ti chiami? \")))"
   ]
  }
 ],
 "metadata": {
  "kernelspec": {
   "display_name": "Python 3.9.12 ('base')",
   "language": "python",
   "name": "python3"
  },
  "language_info": {
   "codemirror_mode": {
    "name": "ipython",
    "version": 3
   },
   "file_extension": ".py",
   "mimetype": "text/x-python",
   "name": "python",
   "nbconvert_exporter": "python",
   "pygments_lexer": "ipython3",
   "version": "3.9.12"
  },
  "orig_nbformat": 4,
  "vscode": {
   "interpreter": {
    "hash": "7473d73b0517ab6f64aa731f2cb80c0acf19c95420055020da77d830c23b4531"
   }
  }
 },
 "nbformat": 4,
 "nbformat_minor": 2
}
