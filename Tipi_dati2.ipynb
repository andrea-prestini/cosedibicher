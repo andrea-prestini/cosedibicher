{
 "cells": [
  {
   "cell_type": "markdown",
   "metadata": {},
   "source": [
    " Dizionari"
   ]
  },
  {
   "cell_type": "code",
   "execution_count": 1,
   "metadata": {},
   "outputs": [],
   "source": [
    "diz1 = {1: 'mela', 2: 'arancia', 3: 'pera'}"
   ]
  },
  {
   "cell_type": "code",
   "execution_count": 2,
   "metadata": {},
   "outputs": [],
   "source": [
    "diz2 = {'Nome': 'Giacomo', 1: [2, 4, 3]}"
   ]
  },
  {
   "cell_type": "code",
   "execution_count": 3,
   "metadata": {},
   "outputs": [],
   "source": [
    "dict1 = dict({'a': 'test1', 'b':'test2', 'c':'test3'})"
   ]
  },
  {
   "cell_type": "code",
   "execution_count": 4,
   "metadata": {},
   "outputs": [
    {
     "name": "stdout",
     "output_type": "stream",
     "text": [
      "test1\n"
     ]
    }
   ],
   "source": [
    "print(dict1['a'])\n",
    "# Output\n",
    "# test1"
   ]
  },
  {
   "cell_type": "code",
   "execution_count": 5,
   "metadata": {},
   "outputs": [
    {
     "name": "stdout",
     "output_type": "stream",
     "text": [
      "test2\n"
     ]
    }
   ],
   "source": [
    "print(dict1.get('b'))\n",
    "# Output\n",
    "# test2"
   ]
  },
  {
   "cell_type": "code",
   "execution_count": 6,
   "metadata": {},
   "outputs": [
    {
     "name": "stdout",
     "output_type": "stream",
     "text": [
      "None\n"
     ]
    }
   ],
   "source": [
    "print(dict1.get('d'))\n",
    "# Output\n",
    "# None"
   ]
  },
  {
   "cell_type": "markdown",
   "metadata": {},
   "source": [
    " Aggiungere/sostituire un elemento a un dizionario"
   ]
  },
  {
   "cell_type": "code",
   "execution_count": 7,
   "metadata": {},
   "outputs": [],
   "source": [
    "dict1['d']= 'giocare a palla'"
   ]
  },
  {
   "cell_type": "code",
   "execution_count": 8,
   "metadata": {},
   "outputs": [
    {
     "name": "stdout",
     "output_type": "stream",
     "text": [
      "{'a': 'test1', 'b': 'test2', 'c': 'test3', 'd': 'giocare a palla'}\n"
     ]
    }
   ],
   "source": [
    "print(dict1)\n",
    "# Output\n",
    "# {'a': 'test1', 'b': 'test2', 'c': 'test3', 'd': 'giocare a palla'}"
   ]
  },
  {
   "cell_type": "code",
   "execution_count": 9,
   "metadata": {},
   "outputs": [],
   "source": [
    "dict1['b'] = 'nuotare in piscina'"
   ]
  },
  {
   "cell_type": "code",
   "execution_count": 10,
   "metadata": {},
   "outputs": [
    {
     "name": "stdout",
     "output_type": "stream",
     "text": [
      "{'a': 'test1', 'b': 'nuotare in piscina', 'c': 'test3', 'd': 'giocare a palla'}\n"
     ]
    }
   ],
   "source": [
    "print(dict1)\n",
    "# Output\n",
    "# {'a': 'test1', 'b': 'nuotare in piscina', 'c': 'test3', 'd': 'giocare a palla'}"
   ]
  },
  {
   "cell_type": "markdown",
   "metadata": {},
   "source": [
    " Rimuovere un elemento da un dizionario"
   ]
  },
  {
   "cell_type": "code",
   "execution_count": 11,
   "metadata": {},
   "outputs": [
    {
     "name": "stdout",
     "output_type": "stream",
     "text": [
      "{'a': 'test1', 'b': 'nuotare in piscina', 'd': 'giocare a palla'}\n"
     ]
    }
   ],
   "source": [
    "dict1.pop('c')\n",
    "print(dict1)\n",
    "# Output\n",
    "# {'a': 'test1', 'b': 'nuotare in piscina', 'd': 'giocare a palla'}"
   ]
  },
  {
   "cell_type": "code",
   "execution_count": 12,
   "metadata": {},
   "outputs": [
    {
     "name": "stdout",
     "output_type": "stream",
     "text": [
      "{'a': 'test1', 'b': 'nuotare in piscina'}\n"
     ]
    }
   ],
   "source": [
    "dict1.popitem()\n",
    "print (dict1)\n",
    "# Output\n",
    "# {'a': 'test1', 'b': 'nuotare in piscina'}"
   ]
  },
  {
   "cell_type": "code",
   "execution_count": 13,
   "metadata": {},
   "outputs": [
    {
     "name": "stdout",
     "output_type": "stream",
     "text": [
      "{}\n"
     ]
    }
   ],
   "source": [
    "dict1.clear()\n",
    "print(dict1)\n",
    "# Output\n",
    "# {}"
   ]
  },
  {
   "cell_type": "code",
   "execution_count": 14,
   "metadata": {},
   "outputs": [
    {
     "name": "stdout",
     "output_type": "stream",
     "text": [
      "{1: 'mela', 3: 'pera'}\n"
     ]
    }
   ],
   "source": [
    "del(diz1[2])\n",
    "print(diz1)\n",
    "# Output\n",
    "# {1: 'mela', 3: 'pera'}"
   ]
  },
  {
   "cell_type": "markdown",
   "metadata": {},
   "source": [
    "controllo valore all'interno di un dizionario"
   ]
  },
  {
   "cell_type": "code",
   "execution_count": 15,
   "metadata": {},
   "outputs": [
    {
     "name": "stdout",
     "output_type": "stream",
     "text": [
      "True\n"
     ]
    }
   ],
   "source": [
    "print(1 in diz1)\n",
    "# Output\n",
    "# True"
   ]
  },
  {
   "cell_type": "code",
   "execution_count": 16,
   "metadata": {},
   "outputs": [
    {
     "name": "stdout",
     "output_type": "stream",
     "text": [
      "False\n"
     ]
    }
   ],
   "source": [
    "print(2 in diz1)\n",
    "# Output\n",
    "# False"
   ]
  },
  {
   "cell_type": "markdown",
   "metadata": {},
   "source": [
    "Lunghezza di un dizionario"
   ]
  },
  {
   "cell_type": "code",
   "execution_count": 17,
   "metadata": {},
   "outputs": [
    {
     "name": "stdout",
     "output_type": "stream",
     "text": [
      "2\n"
     ]
    }
   ],
   "source": [
    "print(len(diz2))\n",
    "# Output\n",
    "# 2"
   ]
  },
  {
   "cell_type": "markdown",
   "metadata": {},
   "source": [
    " SET"
   ]
  },
  {
   "cell_type": "code",
   "execution_count": 18,
   "metadata": {},
   "outputs": [
    {
     "name": "stdout",
     "output_type": "stream",
     "text": [
      "{1, 2, 9}\n"
     ]
    }
   ],
   "source": [
    "set1 = {1, 2, 9}\n",
    "print(set1)  \n",
    "# Output \n",
    "# {1, 2, 9}"
   ]
  },
  {
   "cell_type": "code",
   "execution_count": 19,
   "metadata": {},
   "outputs": [
    {
     "name": "stdout",
     "output_type": "stream",
     "text": [
      "{(8, 9, 5), 'Ciao', 7.4}\n"
     ]
    }
   ],
   "source": [
    "set2 = {7.4, \"Ciao\", (8, 9, 5)}\n",
    "print(set2) \n",
    "# Output\n",
    "# {'Ciao', (8, 9, 5), 7.4}"
   ]
  },
  {
   "cell_type": "code",
   "execution_count": 20,
   "metadata": {},
   "outputs": [
    {
     "name": "stdout",
     "output_type": "stream",
     "text": [
      "{1, 2, 3}\n"
     ]
    }
   ],
   "source": [
    "set3 = {1,1,2,2,3,3}\n",
    "print(set3) \n",
    "# Output\n",
    "# {1, 2, 3}"
   ]
  },
  {
   "cell_type": "code",
   "execution_count": 21,
   "metadata": {},
   "outputs": [
    {
     "ename": "TypeError",
     "evalue": "unhashable type: 'list'",
     "output_type": "error",
     "traceback": [
      "\u001b[0;31m---------------------------------------------------------------------------\u001b[0m",
      "\u001b[0;31mTypeError\u001b[0m                                 Traceback (most recent call last)",
      "\u001b[1;32m/home/andrea/Dropbox/PythonBicherWorld/Tipi_dati2.ipynb Cell 27\u001b[0m line \u001b[0;36m1\n\u001b[0;32m----> <a href='vscode-notebook-cell:/home/andrea/Dropbox/PythonBicherWorld/Tipi_dati2.ipynb#X35sZmlsZQ%3D%3D?line=0'>1</a>\u001b[0m set4\u001b[39m=\u001b[39m {\u001b[39m5\u001b[39m, \u001b[39m9\u001b[39m, [\u001b[39m\"\u001b[39m\u001b[39ma\u001b[39m\u001b[39m\"\u001b[39m,\u001b[39m4\u001b[39m]}\n\u001b[1;32m      <a href='vscode-notebook-cell:/home/andrea/Dropbox/PythonBicherWorld/Tipi_dati2.ipynb#X35sZmlsZQ%3D%3D?line=1'>2</a>\u001b[0m \u001b[39mprint\u001b[39m(set4)\n",
      "\u001b[0;31mTypeError\u001b[0m: unhashable type: 'list'"
     ]
    }
   ],
   "source": [
    "set4= {5, 9, [\"a\",4]}\n",
    "print(set4) \n",
    "# Output\n",
    "# unhashable type: 'list'"
   ]
  },
  {
   "cell_type": "code",
   "execution_count": null,
   "metadata": {},
   "outputs": [],
   "source": [
    "set5 = {}\n",
    "print(type(set5)) \n",
    "# Output\n",
    "# <class 'dict'>"
   ]
  },
  {
   "cell_type": "code",
   "execution_count": null,
   "metadata": {},
   "outputs": [],
   "source": [
    "set6 = set()\n",
    "print(type(set6)) \n",
    "# Output\n",
    "# <class 'set'>"
   ]
  },
  {
   "cell_type": "markdown",
   "metadata": {},
   "source": [
    " Modifica di un set di Python"
   ]
  },
  {
   "cell_type": "code",
   "execution_count": null,
   "metadata": {},
   "outputs": [],
   "source": [
    "set1.add(3)\n",
    "print(set1) \n",
    "# Output\n",
    "# {1, 2, 3, 9}"
   ]
  },
  {
   "cell_type": "code",
   "execution_count": null,
   "metadata": {},
   "outputs": [],
   "source": [
    "set1.update([2, 3, 4])\n",
    "print(set1) \n",
    "# Output\n",
    "# {1, 2, 3, 4, 9}"
   ]
  },
  {
   "cell_type": "markdown",
   "metadata": {},
   "source": [
    " Rimozione di elementi da un set"
   ]
  },
  {
   "cell_type": "code",
   "execution_count": null,
   "metadata": {},
   "outputs": [],
   "source": [
    "set7 = {1, 2, 3, 4, 6, 9}\n",
    "print(set7)\n",
    "# Output\n",
    "# {1, 2, 3, 4, 6, 9}"
   ]
  },
  {
   "cell_type": "code",
   "execution_count": null,
   "metadata": {},
   "outputs": [],
   "source": [
    "set7.discard(3)\n",
    "print(set7)\n",
    "# Output\n",
    "# {1, 2, 4, 6, 9}"
   ]
  },
  {
   "cell_type": "code",
   "execution_count": null,
   "metadata": {},
   "outputs": [],
   "source": [
    "set7.remove(6)\n",
    "print(set7)\n",
    "# Output\n",
    "# {1, 2, 4, 9}"
   ]
  },
  {
   "cell_type": "markdown",
   "metadata": {},
   "source": [
    " cancello un elemento non presente in un set"
   ]
  },
  {
   "cell_type": "code",
   "execution_count": null,
   "metadata": {},
   "outputs": [],
   "source": [
    "set7.discard(5)\n",
    "print(set7)\n",
    "# Output\n",
    "# {1, 2, 4, 9}"
   ]
  },
  {
   "cell_type": "code",
   "execution_count": null,
   "metadata": {},
   "outputs": [],
   "source": [
    "set7.remove(5)\n",
    "# Output\n",
    "# KeyError: 5"
   ]
  },
  {
   "cell_type": "code",
   "execution_count": null,
   "metadata": {},
   "outputs": [],
   "source": [
    "set8 = set(\"Ciao\")\n",
    "print(set8)"
   ]
  },
  {
   "cell_type": "code",
   "execution_count": null,
   "metadata": {},
   "outputs": [],
   "source": [
    "print(set8.pop())"
   ]
  },
  {
   "cell_type": "code",
   "execution_count": null,
   "metadata": {},
   "outputs": [],
   "source": [
    "set8.pop()\n",
    "print(set8)"
   ]
  },
  {
   "cell_type": "code",
   "execution_count": null,
   "metadata": {},
   "outputs": [],
   "source": [
    "set8.clear()\n",
    "print(set8) \n",
    "# Output\n",
    "# set()"
   ]
  }
 ],
 "metadata": {
  "kernelspec": {
   "display_name": "Python 3",
   "language": "python",
   "name": "python3"
  },
  "language_info": {
   "codemirror_mode": {
    "name": "ipython",
    "version": 3
   },
   "file_extension": ".py",
   "mimetype": "text/x-python",
   "name": "python",
   "nbconvert_exporter": "python",
   "pygments_lexer": "ipython3",
   "version": "3.11.5"
  }
 },
 "nbformat": 4,
 "nbformat_minor": 2
}
