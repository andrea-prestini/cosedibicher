{
 "cells": [
  {
   "cell_type": "markdown",
   "metadata": {},
   "source": [
    "## Input, formattazione, decisioni"
   ]
  },
  {
   "cell_type": "markdown",
   "metadata": {},
   "source": [
    "[Link alla standard library ufficiale](https://docs.python.org/3/library/)"
   ]
  },
  {
   "cell_type": "code",
   "execution_count": 5,
   "metadata": {},
   "outputs": [
    {
     "name": "stdout",
     "output_type": "stream",
     "text": [
      "<class 'str'>\n"
     ]
    }
   ],
   "source": [
    "nome = input(\"Quanti anni hai? \")\n",
    "\n",
    "print(type(nome))"
   ]
  },
  {
   "cell_type": "markdown",
   "metadata": {},
   "source": [
    "## Output formattato"
   ]
  },
  {
   "cell_type": "markdown",
   "metadata": {},
   "source": [
    "1. Talvolta è opportuno inserire dei valori numeri in stringhe di testo in modo da ottenere un output più chiaro ed ordinato da visualizzare\n",
    "2. f-string\n",
    "3. operatore formattazione %\n",
    "4. metodo .format()"
   ]
  },
  {
   "cell_type": "code",
   "execution_count": 7,
   "metadata": {},
   "outputs": [],
   "source": [
    "pi = 3.14\n",
    "r = 2\n",
    "\n",
    "area = (r**2) * pi"
   ]
  },
  {
   "cell_type": "code",
   "execution_count": 12,
   "metadata": {},
   "outputs": [
    {
     "name": "stdout",
     "output_type": "stream",
     "text": [
      "The area of circle of radius 2.000000 is 12.560000\n"
     ]
    }
   ],
   "source": [
    "print(\"The area of circle of radius %f is %f\" %(r, area))\n",
    "# f indica floating point, d integer, etc."
   ]
  },
  {
   "cell_type": "markdown",
   "metadata": {},
   "source": [
    "## Formattazione nelle f-string"
   ]
  },
  {
   "cell_type": "markdown",
   "metadata": {},
   "source": [
    "> è possibile modificare il formato in cui vengono stampati i valori, utilizzando degli specificatori di formato\n",
    "> \n",
    "> gli specificatori di formato vengono inclusi tra le graffe, separati dal simbolo :\n",
    "> \n",
    "> f\"la distanza è {dist:8.2} metri\""
   ]
  },
  {
   "cell_type": "code",
   "execution_count": 18,
   "metadata": {},
   "outputs": [
    {
     "name": "stdout",
     "output_type": "stream",
     "text": [
      "la distanza è 8.20 metri\n"
     ]
    }
   ],
   "source": [
    "dist = 8.2\n",
    "print(f'la distanza è {dist:.2f} metri')"
   ]
  },
  {
   "cell_type": "markdown",
   "metadata": {},
   "source": [
    "## Specificatori di formato F-STRING"
   ]
  },
  {
   "cell_type": "markdown",
   "metadata": {},
   "source": [
    "1. carattere \":\"\n",
    "2. carattere di riempimento (opzionale)\n",
    "3. Allineamento (opzionale) es. > \n",
    "4. Segno (opzionale)\n",
    "5. \\# (opzionale) forma alternativa\n",
    "6. Ampiezza (opzionale) es . 10\n",
    "7. Raggruppamemnto migliaia: , oppure _ (opzionale)\n",
    "8. \".\" e \"precisione\" (opzionale) es. .2\n",
    "9. Tipo di conversione es. f"
   ]
  },
  {
   "cell_type": "code",
   "execution_count": 25,
   "metadata": {},
   "outputs": [],
   "source": [
    "valore = 12.5465123845"
   ]
  },
  {
   "cell_type": "code",
   "execution_count": 26,
   "metadata": {},
   "outputs": [
    {
     "name": "stdout",
     "output_type": "stream",
     "text": [
      "il mio valore stampato      12.55\n"
     ]
    }
   ],
   "source": [
    "print(f'il mio valore stampato {valore:10.2f}')"
   ]
  },
  {
   "cell_type": "code",
   "execution_count": 33,
   "metadata": {},
   "outputs": [
    {
     "ename": "ValueError",
     "evalue": "Invalid format specifier",
     "output_type": "error",
     "traceback": [
      "\u001b[0;31m---------------------------------------------------------------------------\u001b[0m",
      "\u001b[0;31mValueError\u001b[0m                                Traceback (most recent call last)",
      "\u001b[1;32m/home/andrea/Dropbox/PythonBicherWorld/Fulvio_Corno-Ingegneria_Informatica/L09-input_formattazione_decisioni.ipynb Cella 14\u001b[0m in \u001b[0;36m<cell line: 1>\u001b[0;34m()\u001b[0m\n\u001b[0;32m----> <a href='vscode-notebook-cell:/home/andrea/Dropbox/PythonBicherWorld/Fulvio_Corno-Ingegneria_Informatica/L09-input_formattazione_decisioni.ipynb#ch0000018?line=0'>1</a>\u001b[0m \u001b[39mprint\u001b[39m(\u001b[39mf\u001b[39m\u001b[39m'\u001b[39m\u001b[39mil mio valore stampato \u001b[39m\u001b[39m{\u001b[39;00mvalore\u001b[39m:\u001b[39;00m\u001b[39m10 * \u001b[39m\u001b[39m\"\u001b[39m\u001b[39m-\u001b[39m\u001b[39m\"\u001b[39m\u001b[39m.2f\u001b[39m\u001b[39m}\u001b[39;00m\u001b[39m'\u001b[39m)\n",
      "\u001b[0;31mValueError\u001b[0m: Invalid format specifier"
     ]
    }
   ],
   "source": [
    "print(f'il mio valore stampato {valore:10 * \"-\".2f}')"
   ]
  }
 ],
 "metadata": {
  "kernelspec": {
   "display_name": "Python 3.9.12 ('base')",
   "language": "python",
   "name": "python3"
  },
  "language_info": {
   "codemirror_mode": {
    "name": "ipython",
    "version": 3
   },
   "file_extension": ".py",
   "mimetype": "text/x-python",
   "name": "python",
   "nbconvert_exporter": "python",
   "pygments_lexer": "ipython3",
   "version": "3.9.12"
  },
  "orig_nbformat": 4,
  "vscode": {
   "interpreter": {
    "hash": "7473d73b0517ab6f64aa731f2cb80c0acf19c95420055020da77d830c23b4531"
   }
  }
 },
 "nbformat": 4,
 "nbformat_minor": 2
}
