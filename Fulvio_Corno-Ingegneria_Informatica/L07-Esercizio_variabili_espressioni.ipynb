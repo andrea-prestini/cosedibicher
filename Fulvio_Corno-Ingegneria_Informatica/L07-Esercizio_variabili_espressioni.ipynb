{
 "cells": [
  {
   "cell_type": "markdown",
   "metadata": {},
   "source": [
    "# Esercizio con variabili ed espressioni"
   ]
  },
  {
   "cell_type": "markdown",
   "metadata": {},
   "source": [
    "## Problem Solving: prima lo si fa a mano!"
   ]
  },
  {
   "cell_type": "markdown",
   "metadata": {},
   "source": [
    "- un passo importantissimo dello sviluppo di un algoritmo è eseguire **a mano** l'elaborazione prevista.\n",
    "- se non si è in grado di risolverlo a mano, dififcilmente si riuscirà a scriver il codice corretto e risolutivo"
   ]
  },
  {
   "cell_type": "markdown",
   "metadata": {},
   "source": [
    "### Esempio di problema:\n",
    "Bisogna posizionare lungo il muro una fila di piastrelle nere e bianche. Per ragioni estetiche l'architetto ha specificato che la prma e l'ultima piastrella devono essere **nere**. Il vostro compito è calcolare il **numero di piastrelle*+ necessarie ed il vuoto a ciascuna delle due estremità della riga, dato lo spazio disponibile e la larghezzza di ogni piastrella."
   ]
  },
  {
   "cell_type": "markdown",
   "metadata": {},
   "source": [
    "### Prima scriviamo i commmenti nel file python"
   ]
  },
  {
   "cell_type": "markdown",
   "metadata": {},
   "source": [
    "- ***Dati di partenza (numerici)***:\n",
    "    1. lunghezza muro, in cm (LUNGHEZZA_MURO)\n",
    "    2. lato della piastrella, in cm (DIMENSIONE_PIASTRELLA) (supponiamo quadrata)\n",
    "- ***Requisiti di progetto***:\n",
    "    - Riempire al meglio lo spazio disponibile\n",
    "    - Iniziare e terminare con una piastrella nera\n",
    "    - lasciare lo stesso spazio a sinistra e destra\n",
    "- ***Dati da calcolare***:\n",
    "    - numero di piastrelle bianche (num_piastrelle_b)\n",
    "    - numero di pisastrelle nere (numn_piastrelle_n)\n",
    "    - numero di piastrelle totali\n",
    "    - spazio da lasciare su ciascun lato, cm (spazio_vuoto)"
   ]
  },
  {
   "cell_type": "markdown",
   "metadata": {},
   "source": [
    "### Esempio ragionamento mentale"
   ]
  },
  {
   "cell_type": "markdown",
   "metadata": {},
   "source": [
    "```pytyhon\n",
    "LUNGHEZZA_MURO = 310\n",
    "DIM_PIASTRELLA = 25\n",
    "```\n",
    "\n",
    "|...[N]   [B]   [N]   [B]   [N]   [B]   [N]...|"
   ]
  },
  {
   "cell_type": "markdown",
   "metadata": {},
   "source": [
    "Spazio occupato dalle piastrelle = (1 + 2 volte le bianche) * DIM_PIASTRELLA\n",
    "\n",
    "spazio occupato =?= LUNGHEZZA_MURO\n",
    "\n",
    "piastrelle totali = LUNGHEZZA_MURO / DIM_PIASTRELLA\n",
    "\n",
    "310 / 25 = 12.4 \"piastrelle\"\n",
    "\n",
    "--> 11 piastrelle totale di cui 5 bianche e 6 nere\n",
    "\n",
    "Quale formula per passare da 12.4 a 11?\n",
    "\n",
    "Formula risolutiva 1:\n",
    "\n",
    "piastrelle_totali = int(LUNGHEZZA_MURO / DIM_PIASTRELLA)\n",
    "\n",
    "se piastrelle_totale è pari, allora\n",
    "\n",
    "piastrelle_totali = piastrelle_totali -1\n",
    "\n",
    "num_piastrelle_b = (piastrelle_totali-1) / 2"
   ]
  },
  {
   "cell_type": "markdown",
   "metadata": {},
   "source": [
    "## Scriviamo il codice Python risolutivo\n",
    "> manca il caso in cui il muro sia più piccolo della piastrella"
   ]
  },
  {
   "cell_type": "code",
   "execution_count": 13,
   "metadata": {},
   "outputs": [
    {
     "name": "stdout",
     "output_type": "stream",
     "text": [
      "Dato un muro di 310 cm ed una piastrella di 25 cm\n",
      "dovrai posizionare 11 piastrelle, di cui\n",
      "piastrelle bianche 5\n",
      "piastrelle nere 6\n",
      "Dovrai lasciare 17.5 cm da ciascun lato!\n"
     ]
    }
   ],
   "source": [
    "# Definisco i dati di ingresso\n",
    "DIM_PIASTRELLA = 25\n",
    "LUNGHEZZA_MURO = 310\n",
    "\n",
    "# calcolo spazio da lasciare ai lati\n",
    "# spazio_vuoto = (LUNGHEZZA_MURO - totale_piastrelle * DIM_PIASTRELLA) / 2\n",
    "\n",
    "# calcolo numero di piastrelle bianche, nere, totali\n",
    "coppie_piastrelle = (LUNGHEZZA_MURO - DIM_PIASTRELLA) // (2 * DIM_PIASTRELLA)\n",
    "num_piastrelle_b = coppie_piastrelle\n",
    "num_piastrelle_n = num_piastrelle_b + 1\n",
    "totale_piastrelle = num_piastrelle_b + num_piastrelle_n\n",
    "spazio_vuoto = (LUNGHEZZA_MURO - totale_piastrelle * DIM_PIASTRELLA) / 2\n",
    "\n",
    "\n",
    "# stampo i risultati ottenuti\n",
    "print(\"Dato un muro di\", LUNGHEZZA_MURO, \"cm ed una piastrella di\", DIM_PIASTRELLA, \"cm\")\n",
    "print(\"dovrai posizionare\", totale_piastrelle, \"piastrelle, di cui\")\n",
    "print(\"piastrelle bianche\", num_piastrelle_b)\n",
    "print(\"piastrelle nere\", num_piastrelle_n)\n",
    "print(\"Dovrai lasciare\", spazio_vuoto, \"cm da ciascun lato!\")"
   ]
  },
  {
   "cell_type": "markdown",
   "metadata": {},
   "source": [
    "> Il risultato è accettabile? \n",
    "> Si perchè anche se 17.5 * 2 è maggiore di 1 piastrella, noi possiamo togliere ed aggiungere SOLO a coppie (nel nostro caso 50 cm)\n",
    "\n",
    "Il procedimento corretto prevede:\n",
    "- casi generali -> verifica del risultato\n",
    "- casi limite -> verifica del risultato\n",
    "- gestione casi che generano risultati NON coerenti (piastrella inferiore al muro!) "
   ]
  }
 ],
 "metadata": {
  "kernelspec": {
   "display_name": "Python 3.9.12 ('base')",
   "language": "python",
   "name": "python3"
  },
  "language_info": {
   "codemirror_mode": {
    "name": "ipython",
    "version": 3
   },
   "file_extension": ".py",
   "mimetype": "text/x-python",
   "name": "python",
   "nbconvert_exporter": "python",
   "pygments_lexer": "ipython3",
   "version": "3.9.12"
  },
  "orig_nbformat": 4,
  "vscode": {
   "interpreter": {
    "hash": "7473d73b0517ab6f64aa731f2cb80c0acf19c95420055020da77d830c23b4531"
   }
  }
 },
 "nbformat": 4,
 "nbformat_minor": 2
}
