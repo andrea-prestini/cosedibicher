{
 "cells": [
  {
   "cell_type": "markdown",
   "metadata": {},
   "source": [
    "## Scacchiera"
   ]
  },
  {
   "cell_type": "markdown",
   "metadata": {},
   "source": [
    "> Scrivere un programma che acquisisca dall'utente le coordinate di una casella della scacchiera (nel formato \"g5\") e determini se la casella specificata sia bianca o nera"
   ]
  },
  {
   "cell_type": "markdown",
   "metadata": {},
   "source": [
    "### Acquisisci i dati"
   ]
  },
  {
   "cell_type": "markdown",
   "metadata": {},
   "source": [
    "### Controlla la validità dei dati forniti\n",
    "\n",
    "Le coordinate della casella devono essere una stringa di 2 caratteri di cui il primo una lettera a-g, il secondo una cifra 1-8"
   ]
  },
  {
   "cell_type": "markdown",
   "metadata": {},
   "source": [
    "### Determina il colore della casella\n",
    "\n",
    "Determina il NUMERO della colonna a->1...h->8, calcola la somma del numero di riga + numero colonna.\n",
    "\n",
    "Se la somma è pari -> nera, altrimenti -> bianca"
   ]
  },
  {
   "cell_type": "markdown",
   "metadata": {},
   "source": [
    "### Stampa il risultato"
   ]
  },
  {
   "cell_type": "code",
   "execution_count": 57,
   "metadata": {},
   "outputs": [
    {
     "name": "stdout",
     "output_type": "stream",
     "text": [
      "Hai chiesto di utilizzare una scacchiera di \n",
      "8 colonne  \n",
      "8 righe\n"
     ]
    }
   ],
   "source": [
    "# costruiamo la scacchiera\n",
    "dimensione_scacchiera = input(\"Quanto deve essere grande la scacchiera? Inserisci il lato del quadrato: \")\n",
    "if not dimensione_scacchiera.isdigit():\n",
    "# verifica che il valore inserito non contenga lettere, diversamente avviso utente\n",
    "    print(\"Il valore deve essere numerico...\")\n",
    "else:\n",
    "# in caso positivo costruisco il dizionario composto da key: colonna, value = riga -> autocompletammento lettere e  numeri!\n",
    "    print(f\"Hai chiesto di utilizzare una scacchiera di \\n{dimensione_scacchiera} colonne  \\n{dimensione_scacchiera} righe\")\n",
    "    dimensione_scacchiera = int(dimensione_scacchiera)\n",
    "    quadrato = {}\n",
    "    k = 1\n",
    "    for i in range(ord(\"a\"), ord(\"a\")+ dimensione_scacchiera):\n",
    "        quadrato[chr(i)] = k\n",
    "        k += 1"
   ]
  },
  {
   "cell_type": "code",
   "execution_count": 58,
   "metadata": {},
   "outputs": [
    {
     "name": "stdout",
     "output_type": "stream",
     "text": [
      "casella A3 acquisita\n",
      "coordinate richieste: colonna 1 --> riga 3\n",
      "--------------------------------------------------\n",
      "                LA CELLA È BIANCA!                \n",
      "--------------------------------------------------\n"
     ]
    }
   ],
   "source": [
    "# casella input dove l'utente inserisce le coordinate della casella di cui vuole conoscere il colore\n",
    "casella = input(\"Inserisci le coordinate di una casella (es. g5\").lower()\n",
    "colonna = casella[0]\n",
    "riga = int(casella[1])\n",
    "punti = 50\n",
    "\n",
    "# dizionario colonna riga della nostra scacchiera\n",
    "scacchiera = quadrato\n",
    "\n",
    "# verifico che l'inserimento sia di 2 caratteri\n",
    "if len(casella) != 2:\n",
    "    print(f\"\"\"\n",
    "        La casella {casella} è nel formato errato\n",
    "        lunghezza casella {len(casella)} caratteri anzichè 2!\n",
    "        \"\"\")\n",
    "# verifico che l'inserimento sia composto da una lettera e numero compresi nel nostro intervallo di scacchiera\n",
    "elif not casella[1].isdigit():\n",
    "    print(\"Formato casella errato! Inserito: {}\".format(casella))\n",
    "elif not casella[0].isalpha():\n",
    "    print(\"Formato casella errato! Inserito: {}\".format(casella))\n",
    "elif (colonna in scacchiera.keys() and riga in scacchiera.values()):\n",
    "# se l'input è corretto calcolo riga x colonna e definisco il colore della casella pari -> bianca / dispari -> nera\n",
    "    print(\"casella %s acquisita\" % casella.upper())\n",
    "    cella_coord = [scacchiera[colonna], riga]\n",
    "    print(f'coordinate richieste: colonna {cella_coord[0]} --> riga {riga}')\n",
    "    if sum(cella_coord) % 2 == 0:\n",
    "        print(\"-\" * punti)\n",
    "        print(\"la cella è bianca!\".upper().center(punti))\n",
    "        print(\"-\" * punti)\n",
    "    else:\n",
    "        print(\"-\" * punti)\n",
    "        print(\"la cella è nera!\".upper().center(punti))   \n",
    "        print(\"-\" * punti)\n",
    "else:\n",
    "# nel caso in cui i dati forniti siano esterni alla dimensione della nostra scacchiera, avviso l'utente\n",
    "    print(\"Valori eccedenti le dimensioni della scacchiera!\")\n",
    "    print(\"CASELLA -> {} non presente!\".format(casella))\n"
   ]
  },
  {
   "cell_type": "markdown",
   "metadata": {},
   "source": [
    "## Controllo alternativo\n",
    "\n",
    "```python\n"
   ]
  },
  {
   "cell_type": "markdown",
   "metadata": {},
   "source": [
    "colonna <= \"h\":\n",
    "    if 1 <= riga <= 8:\n",
    "        pass\n",
    "```"
   ]
  }
 ],
 "metadata": {
  "kernelspec": {
   "display_name": "Python 3.9.12 ('base')",
   "language": "python",
   "name": "python3"
  },
  "language_info": {
   "codemirror_mode": {
    "name": "ipython",
    "version": 3
   },
   "file_extension": ".py",
   "mimetype": "text/x-python",
   "name": "python",
   "nbconvert_exporter": "python",
   "pygments_lexer": "ipython3",
   "version": "3.9.12"
  },
  "orig_nbformat": 4,
  "vscode": {
   "interpreter": {
    "hash": "7473d73b0517ab6f64aa731f2cb80c0acf19c95420055020da77d830c23b4531"
   }
  }
 },
 "nbformat": 4,
 "nbformat_minor": 2
}
