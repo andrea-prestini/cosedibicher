{
 "cells": [
  {
   "cell_type": "markdown",
   "metadata": {},
   "source": [
    "# Spaccare PRINT"
   ]
  },
  {
   "cell_type": "code",
   "execution_count": 1,
   "metadata": {},
   "outputs": [],
   "source": [
    "lista = [ 1, 2, 3, 4, 5]"
   ]
  },
  {
   "cell_type": "markdown",
   "metadata": {},
   "source": [
    "```python\n",
    "print = 9 \n",
    "```\n",
    "abbiamo una variabile che si chiama come il metodo print, da ora tale metodo\n",
    "non funzionerà più"
   ]
  },
  {
   "cell_type": "code",
   "execution_count": 23,
   "metadata": {},
   "outputs": [
    {
     "ename": "TypeError",
     "evalue": "'int' object is not callable",
     "output_type": "error",
     "traceback": [
      "\u001b[0;31m---------------------------------------------------------------------------\u001b[0m",
      "\u001b[0;31mTypeError\u001b[0m                                 Traceback (most recent call last)",
      "\u001b[1;32m/home/andrea/Dropbox/PythonBicherWorld/Fulvio Corno - Ingegneria Informatica/L20-Liste.ipynb Cell 5'\u001b[0m in \u001b[0;36m<cell line: 1>\u001b[0;34m()\u001b[0m\n\u001b[0;32m----> <a href='vscode-notebook-cell:/home/andrea/Dropbox/PythonBicherWorld/Fulvio%20Corno%20-%20Ingegneria%20Informatica/L20-Liste.ipynb#ch0000005?line=0'>1</a>\u001b[0m \u001b[39mprint\u001b[39;49m(\u001b[39m\"\u001b[39;49m\u001b[39mciao amico\u001b[39;49m\u001b[39m\"\u001b[39;49m)\n",
      "\u001b[0;31mTypeError\u001b[0m: 'int' object is not callable"
     ]
    }
   ],
   "source": [
    "print(\"ciao amico\")"
   ]
  },
  {
   "cell_type": "markdown",
   "metadata": {},
   "source": [
    "# Convenzioni Python Nomi\n",
    "\n",
    "1. Una costante è una variabile il cuo valore non andrebbe modificato dopo che le è stato assegnato un valore iniziale\n",
    "2. E' buona norma usare le maiuscole per nominare le costanti\n",
    "3. Come stile di programmazione si ritiene utile usare, nei calcoli, costanti dotate di nome al posto di valori espliciti:\n",
    "   \n",
    "   ```python\n",
    "   totaleVolume = bottles * BOTTLE_VOLUME\n",
    "   ```"
   ]
  },
  {
   "cell_type": "markdown",
   "metadata": {},
   "source": [
    "# Convenzioni Python Commenti"
   ]
  },
  {
   "cell_type": "markdown",
   "metadata": {},
   "source": [
    "1. E' bene utilizzare commenti all'inizio di ogni programma e chiarire i dettagli del codice\n",
    "2. i commenti sono d'aiuto agli altri ed un modo per tenere traccia del ragionamento\n",
    "3. il compilatore **ignore** i commenti\n",
    "    1. altri programmatori li leggeranno\n",
    "    2. anche tu, un giorno"
   ]
  },
  {
   "cell_type": "markdown",
   "metadata": {},
   "source": [
    "## Una best practice\n",
    "Prima il pseudo codice, con i commenti; poi scrivo il codice vero e proprio!"
   ]
  },
  {
   "cell_type": "markdown",
   "metadata": {},
   "source": [
    "# Aritmetica\n",
    "\n",
    "1. \\+ addizione\n",
    "2. \\- sottrazione\n",
    "3. \\* moltiplicazione\n",
    "4. \\/ divisione\n",
    "5. \\** potenza\n",
    "6. \\% modulo - resto della divisione\n",
    "7. \\// divisione senza resto"
   ]
  },
  {
   "cell_type": "markdown",
   "metadata": {},
   "source": [
    "# Funzioni matematiche predefinite\n",
    "\n",
    "1. abs\n",
    "2. round\n",
    "3. round(x, n)\n",
    "4. max\n",
    "5. min"
   ]
  },
  {
   "cell_type": "markdown",
   "metadata": {},
   "source": [
    "## Importare i moduli\n",
    "\n",
    "```python\n",
    "from math import sqrt, sin, cos\n",
    "from math import * # sconsigliato, rischio confuzione\n",
    "import math ## sintassi qualificata uso math.cos(10)\n"
   ]
  },
  {
   "cell_type": "markdown",
   "metadata": {},
   "source": [
    "## Casting variabili\n",
    "\n",
    "1. int() per convertire in intero\n",
    "2. float() per convertire in virgola mobile\n",
    "\n",
    "> Attenzione si perde la parte frazionaria del numero a virgola mobile perchè non c'è arrotondamento"
   ]
  },
  {
   "cell_type": "markdown",
   "metadata": {},
   "source": [
    "1. math.floor(x)\n",
    "2. math.ceil(x)\n",
    "3. math.trunc(x)\n",
    "4. round(x, d)\n",
    "5. int(x)\n",
    "> attenzione ai numeri negativi *Arrotondati*"
   ]
  },
  {
   "cell_type": "markdown",
   "metadata": {},
   "source": [
    "# Errori di arrotondamento\n",
    "## Errori macchina per numeri FLOAT"
   ]
  },
  {
   "cell_type": "markdown",
   "metadata": {},
   "source": [
    "I numeri a virgola mobile **NON** sono esatti\n",
    "> questa è una limitazione del sistema binario, non tutti i numeri a virgola mobile hanno una rappresentazione esatta\n",
    "\n",
    "PROVARE:\n",
    "```python\n",
    "price = 4.35\n",
    "quantity = 100\n",
    "total = price * quantity\n",
    "```\n",
    "Avremo 435.00 ma se printiamo total il risultato sarà -> 434,999999999999994.\n",
    "\n",
    "Si possono gestire gli errori di arrotondamento:\n",
    "1. approssimando all'intero più vicino\n",
    "2. mostrando un numero fisso di cifre dopo la virgola\n",
    "3. definendo una tolleranza **Epsilon** e fare solo confronti approssimati"
   ]
  },
  {
   "cell_type": "code",
   "execution_count": 2,
   "metadata": {},
   "outputs": [
    {
     "name": "stdout",
     "output_type": "stream",
     "text": [
      "434.99999999999994\n"
     ]
    }
   ],
   "source": [
    "price = 4.35\n",
    "quantity = 100\n",
    "total = price * quantity\n",
    "print(total)"
   ]
  },
  {
   "cell_type": "markdown",
   "metadata": {},
   "source": [
    "## Metodo math.isclose()"
   ]
  },
  {
   "cell_type": "markdown",
   "metadata": {},
   "source": [
    "Attenzione a come vengono trattati i numeri, la macchina ragiona in modo diverso dalla nostra percezione...\n",
    "[vedi video](https://youtu.be/t40vfQZrMXY?t=3940)"
   ]
  },
  {
   "cell_type": "code",
   "execution_count": 1,
   "metadata": {},
   "outputs": [
    {
     "name": "stdout",
     "output_type": "stream",
     "text": [
      "False\n",
      "True\n",
      "False\n",
      "True\n"
     ]
    }
   ],
   "source": [
    "import math\n",
    "\n",
    "print(math.isclose(1.233, 1.4566))\n",
    "print(math.isclose(1.233, 1.233))\n",
    "print(math.isclose(1.233, 1.23))\n",
    "print(math.isclose(1.233, 1.233000001))"
   ]
  }
 ],
 "metadata": {
  "kernelspec": {
   "display_name": "Python 3.9.12 ('base')",
   "language": "python",
   "name": "python3"
  },
  "language_info": {
   "codemirror_mode": {
    "name": "ipython",
    "version": 3
   },
   "file_extension": ".py",
   "mimetype": "text/x-python",
   "name": "python",
   "nbconvert_exporter": "python",
   "pygments_lexer": "ipython3",
   "version": "3.9.12"
  },
  "orig_nbformat": 4,
  "vscode": {
   "interpreter": {
    "hash": "7473d73b0517ab6f64aa731f2cb80c0acf19c95420055020da77d830c23b4531"
   }
  }
 },
 "nbformat": 4,
 "nbformat_minor": 2
}
