{
 "cells": [
  {
   "cell_type": "markdown",
   "metadata": {},
   "source": [
    "## The POWER of F-String"
   ]
  },
  {
   "cell_type": "markdown",
   "metadata": {},
   "source": [
    "## The pytohn Standard Library\n",
    "\n",
    "[Link alla Standard Library ufficiale](https://docs.python.org/3/library/)"
   ]
  },
  {
   "cell_type": "markdown",
   "metadata": {},
   "source": [
    "> possiamo inserire calcoli, formule, classi, etc."
   ]
  },
  {
   "cell_type": "code",
   "execution_count": 6,
   "metadata": {},
   "outputs": [
    {
     "name": "stdout",
     "output_type": "stream",
     "text": [
      " I am 3.00\n",
      "No format 3\n"
     ]
    }
   ],
   "source": [
    "ppl = True\n",
    "num = 3\n",
    "string = f' I am {num:.2f}' if ppl else f'No format {num}'\n",
    "print(string)\n",
    "\n",
    "ppl = False\n",
    "num = 3\n",
    "string = f' I am {num:.2f}' if ppl else f'No format {num}'\n",
    "print(string)"
   ]
  },
  {
   "cell_type": "code",
   "execution_count": 4,
   "metadata": {},
   "outputs": [
    {
     "name": "stdout",
     "output_type": "stream",
     "text": [
      "\n",
      "    nome='Andrea' \n",
      "    cognome='Prestini'\n"
     ]
    }
   ],
   "source": [
    "nome = \"Andrea\"\n",
    "cognome = \"Prestini\"\n",
    "\n",
    "print(f'''\n",
    "    {nome=} \n",
    "    {cognome=}''')\n",
    "\n",
    "\n"
   ]
  },
  {
   "cell_type": "code",
   "execution_count": 5,
   "metadata": {},
   "outputs": [
    {
     "name": "stdout",
     "output_type": "stream",
     "text": [
      "\n",
      "     il prezzo nuovo è prezzo * 10 =100\n",
      "'Andrea'\n"
     ]
    }
   ],
   "source": [
    "prezzo = 10\n",
    "\n",
    "print(f'''\n",
    "     il prezzo nuovo è {prezzo * 10 =}''')\n",
    "\n",
    "\n",
    "print(f'{nome!r}')\n"
   ]
  },
  {
   "cell_type": "code",
   "execution_count": 1,
   "metadata": {},
   "outputs": [
    {
     "name": "stdout",
     "output_type": "stream",
     "text": [
      "01   1    1\n",
      "02   4    8\n",
      "03   9   27\n",
      "04  16   64\n",
      "05  25  125\n",
      "06  36  216\n",
      "07  49  343\n",
      "08  64  512\n",
      "09  81  729\n",
      "10 100 1000\n"
     ]
    }
   ],
   "source": [
    "for x in range(1, 11):\n",
    "    print(f'{x:02} {x*x:3} {x*x*x:4}')"
   ]
  },
  {
   "cell_type": "code",
   "execution_count": 9,
   "metadata": {},
   "outputs": [
    {
     "name": "stdout",
     "output_type": "stream",
     "text": [
      "usiamo lambda 40\n"
     ]
    }
   ],
   "source": [
    "# passiamo direttamente il valore della variabile\n",
    "print(f'usiamo lambda {(lambda prezzo: prezzo * 10)(4)}')"
   ]
  },
  {
   "cell_type": "code",
   "execution_count": 15,
   "metadata": {},
   "outputs": [
    {
     "name": "stdout",
     "output_type": "stream",
     "text": [
      "il totale è 50.0\n"
     ]
    }
   ],
   "source": [
    "prezzo = 100\n",
    "print(f'il totale è {(prezzo * 0.5):2}')"
   ]
  },
  {
   "cell_type": "code",
   "execution_count": 34,
   "metadata": {},
   "outputs": [
    {
     "name": "stdout",
     "output_type": "stream",
     "text": [
      "il valore è: %%%%%%%%%%%%%25\n"
     ]
    }
   ],
   "source": [
    "valore = 25\n",
    "print(f'il valore è: {valore:%>15}')"
   ]
  }
 ],
 "metadata": {
  "kernelspec": {
   "display_name": "Python 3.9.12 ('base')",
   "language": "python",
   "name": "python3"
  },
  "language_info": {
   "codemirror_mode": {
    "name": "ipython",
    "version": 3
   },
   "file_extension": ".py",
   "mimetype": "text/x-python",
   "name": "python",
   "nbconvert_exporter": "python",
   "pygments_lexer": "ipython3",
   "version": "3.9.13"
  },
  "orig_nbformat": 4,
  "vscode": {
   "interpreter": {
    "hash": "7473d73b0517ab6f64aa731f2cb80c0acf19c95420055020da77d830c23b4531"
   }
  }
 },
 "nbformat": 4,
 "nbformat_minor": 2
}
