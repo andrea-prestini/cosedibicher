{
 "cells": [
  {
   "cell_type": "code",
   "execution_count": 1,
   "metadata": {},
   "outputs": [],
   "source": [
    "Z = 7"
   ]
  },
  {
   "cell_type": "code",
   "execution_count": 2,
   "metadata": {},
   "outputs": [],
   "source": [
    "x = \"prova\"\n",
    "x = 'prova'"
   ]
  },
  {
   "cell_type": "code",
   "execution_count": 3,
   "metadata": {},
   "outputs": [],
   "source": [
    "y = 5.6"
   ]
  },
  {
   "cell_type": "code",
   "execution_count": 4,
   "metadata": {},
   "outputs": [],
   "source": [
    "Tupla1 = 1,2,3,4,5,6\n",
    "tupla2 = \"a\", \"b\", \"c\", \"d\"\n",
    "tupla3 = ('fisica', 'chimica', 2017, 2020);\n",
    "tupla4 = ('1a', \"2b\", '3c', 4, 'e4x');\n",
    "tupla5 = \"a\", \"b\", \"c\", \"d\";\n",
    "tupla6 = ('ciao',)"
   ]
  },
  {
   "cell_type": "markdown",
   "metadata": {},
   "source": [
    " indicizzazione"
   ]
  },
  {
   "cell_type": "code",
   "execution_count": 5,
   "metadata": {},
   "outputs": [
    {
     "data": {
      "text/plain": [
       "2017"
      ]
     },
     "execution_count": 5,
     "metadata": {},
     "output_type": "execute_result"
    }
   ],
   "source": [
    "tupla3[2]\n",
    "# Output\n",
    "# 2017"
   ]
  },
  {
   "cell_type": "code",
   "execution_count": 6,
   "metadata": {},
   "outputs": [
    {
     "ename": "IndexError",
     "evalue": "tuple index out of range",
     "output_type": "error",
     "traceback": [
      "\u001b[0;31m---------------------------------------------------------------------------\u001b[0m",
      "\u001b[0;31mIndexError\u001b[0m                                Traceback (most recent call last)",
      "\u001b[1;32m/home/andrea/Dropbox/PythonBicherWorld/Tipi_dati1.ipynb Cella 7\u001b[0m line \u001b[0;36m1\n\u001b[0;32m----> <a href='vscode-notebook-cell:/home/andrea/Dropbox/PythonBicherWorld/Tipi_dati1.ipynb#W6sZmlsZQ%3D%3D?line=0'>1</a>\u001b[0m tupla3[\u001b[39m4\u001b[39;49m]\n\u001b[1;32m      <a href='vscode-notebook-cell:/home/andrea/Dropbox/PythonBicherWorld/Tipi_dati1.ipynb#W6sZmlsZQ%3D%3D?line=1'>2</a>\u001b[0m \u001b[39m# tuple index out of range\u001b[39;00m\n",
      "\u001b[0;31mIndexError\u001b[0m: tuple index out of range"
     ]
    }
   ],
   "source": [
    "tupla3[4]\n",
    "# tuple index out of range"
   ]
  },
  {
   "cell_type": "code",
   "execution_count": null,
   "metadata": {},
   "outputs": [],
   "source": [
    "tupla7 = (('parole', 'studio'), (1,2,4), [3,6,19])"
   ]
  },
  {
   "cell_type": "code",
   "execution_count": null,
   "metadata": {},
   "outputs": [],
   "source": [
    "tupla7[0]\n",
    "# Output\n",
    "# ('parole', 'studio')"
   ]
  },
  {
   "cell_type": "code",
   "execution_count": null,
   "metadata": {},
   "outputs": [],
   "source": [
    "tupla7[0][1]\n",
    "# Output\n",
    "# 'studio'"
   ]
  },
  {
   "cell_type": "markdown",
   "metadata": {},
   "source": [
    " indicizzazione negativa"
   ]
  },
  {
   "cell_type": "code",
   "execution_count": null,
   "metadata": {},
   "outputs": [],
   "source": [
    "tupla3[-2]\n",
    "# Output:\n",
    "# 2017    "
   ]
  },
  {
   "cell_type": "markdown",
   "metadata": {},
   "source": [
    " slicing"
   ]
  },
  {
   "cell_type": "markdown",
   "metadata": {},
   "source": [
    "Restituisce dal secondo al 4 valore della tupla"
   ]
  },
  {
   "cell_type": "code",
   "execution_count": null,
   "metadata": {},
   "outputs": [],
   "source": [
    "Tupla1[1:4]"
   ]
  },
  {
   "cell_type": "markdown",
   "metadata": {},
   "source": [
    "Restituisce tutti i valori della tupla"
   ]
  },
  {
   "cell_type": "code",
   "execution_count": null,
   "metadata": {},
   "outputs": [],
   "source": [
    "Tupla1[:]"
   ]
  },
  {
   "cell_type": "markdown",
   "metadata": {},
   "source": [
    "Restituisce dal secondo valore fino all'ultimo <br>\n",
    "della tupla"
   ]
  },
  {
   "cell_type": "code",
   "execution_count": null,
   "metadata": {},
   "outputs": [],
   "source": [
    "Tupla1[2:]"
   ]
  },
  {
   "cell_type": "markdown",
   "metadata": {},
   "source": [
    " Eliminare una tupla"
   ]
  },
  {
   "cell_type": "code",
   "execution_count": null,
   "metadata": {},
   "outputs": [],
   "source": [
    "del tupla2"
   ]
  },
  {
   "cell_type": "markdown",
   "metadata": {},
   "source": [
    " LISTA"
   ]
  },
  {
   "cell_type": "code",
   "execution_count": null,
   "metadata": {},
   "outputs": [],
   "source": [
    "listadiprova = ['a','b','c',12,3,5]"
   ]
  },
  {
   "cell_type": "code",
   "execution_count": null,
   "metadata": {},
   "outputs": [],
   "source": [
    "lista2 = [['ab','2d'], [3,9], [7, 'c']]"
   ]
  },
  {
   "cell_type": "code",
   "execution_count": null,
   "metadata": {},
   "outputs": [],
   "source": [
    "lista2[0]\n",
    "# Output\n",
    "# ['ab', '2d']"
   ]
  },
  {
   "cell_type": "code",
   "execution_count": null,
   "metadata": {},
   "outputs": [],
   "source": [
    "lista2[0][1]\n",
    "# Output\n",
    "# '2d'"
   ]
  },
  {
   "cell_type": "markdown",
   "metadata": {},
   "source": [
    " Modificare il valore di una lista"
   ]
  },
  {
   "cell_type": "code",
   "execution_count": null,
   "metadata": {},
   "outputs": [],
   "source": [
    "listadiprova[1] = 'paperino'\n",
    "print (listadiprova)\n",
    "# Output\n",
    "# ['a', 'paperino', 'c', 12, 3, 5] "
   ]
  },
  {
   "cell_type": "code",
   "execution_count": null,
   "metadata": {},
   "outputs": [],
   "source": [
    "listadiprova[2:4] = [11,15]\n",
    "print (listadiprova)\n",
    "# Output\n",
    "# ['a', 'paperino', 11, 15, 3, 5]"
   ]
  },
  {
   "cell_type": "code",
   "execution_count": null,
   "metadata": {},
   "outputs": [],
   "source": [
    "listadiprova.append(25) \n",
    "print (listadiprova)\n",
    "# Output\n",
    "# ['a', 'paperino', 11, 15, 3, 5, 25]"
   ]
  },
  {
   "cell_type": "code",
   "execution_count": null,
   "metadata": {},
   "outputs": [],
   "source": [
    "listadiprova.extend([1,47,78]) \n",
    "print (listadiprova)\n",
    "# Output\n",
    "# ['a', 'paperino', 11, 15, 3, 5, 25, 1, 47, 78]"
   ]
  },
  {
   "cell_type": "markdown",
   "metadata": {},
   "source": [
    " altre operazioni con le liste"
   ]
  },
  {
   "cell_type": "code",
   "execution_count": null,
   "metadata": {},
   "outputs": [],
   "source": [
    "lis = [1,2]"
   ]
  },
  {
   "cell_type": "code",
   "execution_count": null,
   "metadata": {},
   "outputs": [],
   "source": [
    "print(lis + [3,4])\n",
    "# Output\n",
    "# [1, 2, 3, 4]"
   ]
  },
  {
   "cell_type": "code",
   "execution_count": null,
   "metadata": {},
   "outputs": [],
   "source": [
    "print(lis * 3)\n",
    "# Output\n",
    "# [1, 2, 1, 2, 1, 2]"
   ]
  },
  {
   "cell_type": "markdown",
   "metadata": {},
   "source": [
    " inserire il valore in una lista"
   ]
  },
  {
   "cell_type": "code",
   "execution_count": null,
   "metadata": {},
   "outputs": [],
   "source": [
    "lis.insert(1,5)\n",
    "print(lis)\n",
    "# Output\n",
    "# [1, 5, 2]"
   ]
  },
  {
   "cell_type": "code",
   "execution_count": null,
   "metadata": {},
   "outputs": [],
   "source": [
    "lis = [1,2]\n",
    "lis[1:1] = [5]\n",
    "print(lis)\n",
    "# Output\n",
    "# [1, 5, 2]"
   ]
  },
  {
   "cell_type": "code",
   "execution_count": null,
   "metadata": {},
   "outputs": [],
   "source": [
    "lis[2:2] = [4,3,7]\n",
    "print(lis)\n",
    "# Output\n",
    "# [1, 5, 4, 3, 7, 2]"
   ]
  },
  {
   "cell_type": "markdown",
   "metadata": {},
   "source": [
    " cancellare valori da una lista"
   ]
  },
  {
   "cell_type": "code",
   "execution_count": null,
   "metadata": {},
   "outputs": [],
   "source": [
    "del lis[3]\n",
    "print(lis)\n",
    "# Output\n",
    "# [1, 5, 4, 7, 2]"
   ]
  },
  {
   "cell_type": "code",
   "execution_count": null,
   "metadata": {},
   "outputs": [],
   "source": [
    "del lis[2:4]\n",
    "print(lis)\n",
    "# Output\n",
    "# [1, 5, 2]"
   ]
  },
  {
   "cell_type": "code",
   "execution_count": null,
   "metadata": {},
   "outputs": [],
   "source": [
    "del lis"
   ]
  },
  {
   "cell_type": "code",
   "execution_count": null,
   "metadata": {},
   "outputs": [],
   "source": [
    "lis2 = [\"a\", 0,14, \"abc\", \"gatto\", 678, 95, \"1gh\" ]\n",
    "lis2.remove(0)\n",
    "print(lis2)\n",
    "# Output\n",
    "# ['a', 14, 'abc', 'gatto', 678, 95, '1gh']"
   ]
  },
  {
   "cell_type": "code",
   "execution_count": null,
   "metadata": {},
   "outputs": [],
   "source": [
    "print(lis2.pop(0))\n",
    "# Output\n",
    "# a    "
   ]
  },
  {
   "cell_type": "code",
   "execution_count": null,
   "metadata": {},
   "outputs": [],
   "source": [
    "print(lis2.pop())\n",
    "# Output\n",
    "# 1gh"
   ]
  },
  {
   "cell_type": "code",
   "execution_count": null,
   "metadata": {},
   "outputs": [],
   "source": [
    "lis2.clear()\n",
    "print(lis2)\n",
    "# Output\n",
    "# []"
   ]
  },
  {
   "cell_type": "markdown",
   "metadata": {},
   "source": [
    " Metodo type"
   ]
  },
  {
   "cell_type": "code",
   "execution_count": null,
   "metadata": {},
   "outputs": [],
   "source": [
    "x = 23\n",
    "type (x)\n",
    "# Output\n",
    "# int"
   ]
  },
  {
   "cell_type": "code",
   "execution_count": null,
   "metadata": {},
   "outputs": [],
   "source": [
    "x1 = 'prova'\n",
    "type (x1)\n",
    "# Output\n",
    "# Str"
   ]
  },
  {
   "cell_type": "markdown",
   "metadata": {},
   "source": [
    " Funzione print()"
   ]
  },
  {
   "cell_type": "code",
   "execution_count": null,
   "metadata": {},
   "outputs": [],
   "source": [
    "x = 4\n",
    "s = \"Ciao\"\n",
    "d = (2,4,'b')\n",
    "y = [1,'c',3] \n",
    "print(type(x)) \n",
    "print(type(s)) \n",
    "print(type(d)) \n",
    "print(type(y))\n",
    "# Output\n",
    "# <class 'int'>\n",
    "# <class 'str'>\n",
    "# <class 'tuple'>\n",
    "# <class 'list'>    "
   ]
  },
  {
   "cell_type": "markdown",
   "metadata": {},
   "source": [
    "Funzione Dir()"
   ]
  },
  {
   "cell_type": "code",
   "execution_count": null,
   "metadata": {},
   "outputs": [],
   "source": [
    "dir(tupla2)\n",
    "# Output\n",
    "# ['__add__', \n",
    "# '__class__',\n",
    "# '__contains__',\n",
    "# '__delattr__',\n",
    "#  '__dir__',\n",
    "#  '__doc__',\n",
    "#  '__eq__',\n",
    "#  '__format__',\n",
    "#  '__ge__',\n",
    "#  '__getattribute__',\n",
    "#  '__getitem__',\n",
    "#  '__getnewargs__',\n",
    "#  '__gt__',\n",
    "#  '__hash__',\n",
    "#  '__init__',\n",
    "#  '__init_subclass__',\n",
    "#  '__iter__',\n",
    "#  '__le__',\n",
    "#  '__len__',\n",
    "#  '__lt__',\n",
    "#  '__mul__',\n",
    "#  '__ne__',\n",
    "#  '__new__',\n",
    "#  '__reduce__',\n",
    "#  '__reduce_ex__',\n",
    "#  '__repr__',\n",
    "#  '__rmul__',\n",
    "#  '__setattr__',\n",
    "#  '__sizeof__',\n",
    "#  '__str__',\n",
    "#  '__subclasshook__',\n",
    "#  'count',\n",
    "#  'index']    "
   ]
  },
  {
   "cell_type": "code",
   "execution_count": null,
   "metadata": {},
   "outputs": [],
   "source": [
    "Tupla1.__add__((85,))\n",
    "# Output\n",
    "# (1, 2, 3, 4, 5, 6, 85)"
   ]
  },
  {
   "cell_type": "code",
   "execution_count": null,
   "metadata": {},
   "outputs": [],
   "source": [
    "Tupla1.count(4)\n",
    "# Output\n",
    "# 1    "
   ]
  },
  {
   "cell_type": "code",
   "execution_count": null,
   "metadata": {},
   "outputs": [],
   "source": [
    "Tupla1.index(4)\n",
    "# Output\n",
    "# 3\n",
    "    \n",
    "dir (listadiprova)\n",
    "# Output\n",
    "# ['__add__',\n",
    "#  '__class__',\n",
    "#  '__contains__',\n",
    "#  '__delattr__',\n",
    "#  '__delitem__',\n",
    "#  '__dir__',\n",
    "#  '__doc__',\n",
    "#  '__eq__',\n",
    "#  '__format__',\n",
    "#  '__ge__',\n",
    "#  '__getattribute__',\n",
    "#  '__getitem__',\n",
    "#  '__gt__',\n",
    "#  '__hash__',\n",
    "#  '__iadd__',\n",
    "#  '__imul__',\n",
    "#  '__init__',\n",
    "#  '__init_subclass__',\n",
    "#  '__iter__',\n",
    "#  '__le__',\n",
    "#  '__len__',\n",
    "#  '__lt__',\n",
    "#  '__mul__',\n",
    "#  '__ne__',\n",
    "#  '__new__',\n",
    "#  '__reduce__',\n",
    "#  '__reduce_ex__',\n",
    "#  '__repr__',\n",
    "#  '__reversed__',\n",
    "#  '__rmul__',\n",
    "#  '__setattr__',\n",
    "#  '__setitem__',\n",
    "#  '__sizeof__',\n",
    "#  '__str__',\n",
    "#  '__subclasshook__',\n",
    "#  'append',\n",
    "#  'clear',\n",
    "#  'copy',\n",
    "#  'count',\n",
    "#  'extend',\n",
    "#  'index',\n",
    "#  'insert',\n",
    "#  'pop',\n",
    "#  'remove',\n",
    "#  'reverse',\n",
    "#  'sort']    "
   ]
  },
  {
   "cell_type": "code",
   "execution_count": null,
   "metadata": {},
   "outputs": [],
   "source": [
    "listadiprova = ['a','b','c',12,3,5]\n",
    "listadiprova.__delitem__(2)"
   ]
  },
  {
   "cell_type": "code",
   "execution_count": null,
   "metadata": {},
   "outputs": [],
   "source": [
    "listadiprova\n",
    "# Output\n",
    "# ['a', 'b', 12, 3, 5]  "
   ]
  }
 ],
 "metadata": {
  "kernelspec": {
   "display_name": "Python 3",
   "language": "python",
   "name": "python3"
  },
  "language_info": {
   "codemirror_mode": {
    "name": "ipython",
    "version": 3
   },
   "file_extension": ".py",
   "mimetype": "text/x-python",
   "name": "python",
   "nbconvert_exporter": "python",
   "pygments_lexer": "ipython3",
   "version": "3.10.13"
  }
 },
 "nbformat": 4,
 "nbformat_minor": 2
}
