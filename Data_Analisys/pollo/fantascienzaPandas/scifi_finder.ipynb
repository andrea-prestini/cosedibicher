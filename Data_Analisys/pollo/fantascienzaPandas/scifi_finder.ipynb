{
 "cells": [
  {
   "cell_type": "markdown",
   "metadata": {},
   "source": [
    "# Trova i migliori film di fantascienza con Pandas"
   ]
  },
  {
   "cell_type": "markdown",
   "metadata": {},
   "source": [
    "> [Video spiegazione metodologia](https://www.youtube.com/watch?v=eFavjhKcCTg&list=PLa-sizbCyh92Urd3iugqe5ji_qKux3h6Y&index=5)    "
   ]
  },
  {
   "cell_type": "code",
   "execution_count": 3,
   "metadata": {},
   "outputs": [],
   "source": [
    "import pandas as pd \n",
    "import numpy as np \n",
    "import matplotlib.pyplot as plt\n",
    "\n",
    "pd.set_option('display.float_format', lambda x: '%.2f' % x)"
   ]
  },
  {
   "cell_type": "code",
   "execution_count": 4,
   "metadata": {},
   "outputs": [
    {
     "name": "stderr",
     "output_type": "stream",
     "text": [
      "/tmp/ipykernel_16699/1819926725.py:1: DtypeWarning: Columns (4,5) have mixed types. Specify dtype option on import or set low_memory=False.\n",
      "  basics = pd.read_csv(\"./title.basics.tsv.gz\", sep=\"\\t\" )\n"
     ]
    }
   ],
   "source": [
    "basics = pd.read_csv(\"./title.basics.tsv.gz\", sep=\"\\t\" )"
   ]
  },
  {
   "cell_type": "code",
   "execution_count": 5,
   "metadata": {},
   "outputs": [
    {
     "data": {
      "text/html": [
       "<div>\n",
       "<style scoped>\n",
       "    .dataframe tbody tr th:only-of-type {\n",
       "        vertical-align: middle;\n",
       "    }\n",
       "\n",
       "    .dataframe tbody tr th {\n",
       "        vertical-align: top;\n",
       "    }\n",
       "\n",
       "    .dataframe thead th {\n",
       "        text-align: right;\n",
       "    }\n",
       "</style>\n",
       "<table border=\"1\" class=\"dataframe\">\n",
       "  <thead>\n",
       "    <tr style=\"text-align: right;\">\n",
       "      <th></th>\n",
       "      <th>tconst</th>\n",
       "      <th>titleType</th>\n",
       "      <th>primaryTitle</th>\n",
       "      <th>originalTitle</th>\n",
       "      <th>isAdult</th>\n",
       "      <th>startYear</th>\n",
       "      <th>endYear</th>\n",
       "      <th>runtimeMinutes</th>\n",
       "      <th>genres</th>\n",
       "    </tr>\n",
       "  </thead>\n",
       "  <tbody>\n",
       "    <tr>\n",
       "      <th>6476197</th>\n",
       "      <td>tt4350558</td>\n",
       "      <td>tvEpisode</td>\n",
       "      <td>Episode #1.47</td>\n",
       "      <td>Episode #1.47</td>\n",
       "      <td>0</td>\n",
       "      <td>\\N</td>\n",
       "      <td>\\N</td>\n",
       "      <td>\\N</td>\n",
       "      <td>Drama</td>\n",
       "    </tr>\n",
       "    <tr>\n",
       "      <th>3731397</th>\n",
       "      <td>tt15034876</td>\n",
       "      <td>tvEpisode</td>\n",
       "      <td>Sandy Summer and Georgia South</td>\n",
       "      <td>Sandy Summer and Georgia South</td>\n",
       "      <td>1</td>\n",
       "      <td>2006</td>\n",
       "      <td>\\N</td>\n",
       "      <td>9</td>\n",
       "      <td>Adult</td>\n",
       "    </tr>\n",
       "    <tr>\n",
       "      <th>2845702</th>\n",
       "      <td>tt13415612</td>\n",
       "      <td>tvEpisode</td>\n",
       "      <td>Dmitry Medvedev</td>\n",
       "      <td>Dmitry Medvedev</td>\n",
       "      <td>0</td>\n",
       "      <td>2012</td>\n",
       "      <td>\\N</td>\n",
       "      <td>\\N</td>\n",
       "      <td>Talk-Show</td>\n",
       "    </tr>\n",
       "  </tbody>\n",
       "</table>\n",
       "</div>"
      ],
      "text/plain": [
       "             tconst  titleType                    primaryTitle  \\\n",
       "6476197   tt4350558  tvEpisode                   Episode #1.47   \n",
       "3731397  tt15034876  tvEpisode  Sandy Summer and Georgia South   \n",
       "2845702  tt13415612  tvEpisode                 Dmitry Medvedev   \n",
       "\n",
       "                          originalTitle isAdult startYear endYear  \\\n",
       "6476197                   Episode #1.47       0        \\N      \\N   \n",
       "3731397  Sandy Summer and Georgia South       1      2006      \\N   \n",
       "2845702                 Dmitry Medvedev       0      2012      \\N   \n",
       "\n",
       "        runtimeMinutes     genres  \n",
       "6476197             \\N      Drama  \n",
       "3731397              9      Adult  \n",
       "2845702             \\N  Talk-Show  "
      ]
     },
     "execution_count": 5,
     "metadata": {},
     "output_type": "execute_result"
    }
   ],
   "source": [
    "basics.sample(3)"
   ]
  },
  {
   "cell_type": "code",
   "execution_count": 6,
   "metadata": {},
   "outputs": [
    {
     "data": {
      "text/plain": [
       "8994706"
      ]
     },
     "execution_count": 6,
     "metadata": {},
     "output_type": "execute_result"
    }
   ],
   "source": [
    "len(basics) # quanti elementi ci sono nel nostro DataFrame?"
   ]
  },
  {
   "cell_type": "code",
   "execution_count": 7,
   "metadata": {},
   "outputs": [
    {
     "data": {
      "text/plain": [
       "612600"
      ]
     },
     "execution_count": 7,
     "metadata": {},
     "output_type": "execute_result"
    }
   ],
   "source": [
    "movie_filter = basics['titleType'] == 'movie'\n",
    "basics_movies = basics[movie_filter]\n",
    "len(basics_movies) # quanti film nel DataFrame?\n"
   ]
  },
  {
   "cell_type": "code",
   "execution_count": 8,
   "metadata": {},
   "outputs": [],
   "source": [
    "ratings = pd.read_csv(\"./title.ratings.tsv.gz\", sep=\"\\t\")"
   ]
  },
  {
   "cell_type": "code",
   "execution_count": 9,
   "metadata": {},
   "outputs": [
    {
     "data": {
      "text/html": [
       "<div>\n",
       "<style scoped>\n",
       "    .dataframe tbody tr th:only-of-type {\n",
       "        vertical-align: middle;\n",
       "    }\n",
       "\n",
       "    .dataframe tbody tr th {\n",
       "        vertical-align: top;\n",
       "    }\n",
       "\n",
       "    .dataframe thead th {\n",
       "        text-align: right;\n",
       "    }\n",
       "</style>\n",
       "<table border=\"1\" class=\"dataframe\">\n",
       "  <thead>\n",
       "    <tr style=\"text-align: right;\">\n",
       "      <th></th>\n",
       "      <th>tconst</th>\n",
       "      <th>averageRating</th>\n",
       "      <th>numVotes</th>\n",
       "    </tr>\n",
       "  </thead>\n",
       "  <tbody>\n",
       "    <tr>\n",
       "      <th>1185330</th>\n",
       "      <td>tt8030868</td>\n",
       "      <td>5.20</td>\n",
       "      <td>9</td>\n",
       "    </tr>\n",
       "    <tr>\n",
       "      <th>822349</th>\n",
       "      <td>tt2142693</td>\n",
       "      <td>9.60</td>\n",
       "      <td>17</td>\n",
       "    </tr>\n",
       "    <tr>\n",
       "      <th>403388</th>\n",
       "      <td>tt0828598</td>\n",
       "      <td>6.20</td>\n",
       "      <td>155</td>\n",
       "    </tr>\n",
       "  </tbody>\n",
       "</table>\n",
       "</div>"
      ],
      "text/plain": [
       "            tconst  averageRating  numVotes\n",
       "1185330  tt8030868           5.20         9\n",
       "822349   tt2142693           9.60        17\n",
       "403388   tt0828598           6.20       155"
      ]
     },
     "execution_count": 9,
     "metadata": {},
     "output_type": "execute_result"
    }
   ],
   "source": [
    "ratings.sample(3)"
   ]
  },
  {
   "cell_type": "markdown",
   "metadata": {},
   "source": [
    "## Statistiche Descrittive"
   ]
  },
  {
   "cell_type": "code",
   "execution_count": 10,
   "metadata": {},
   "outputs": [
    {
     "data": {
      "text/html": [
       "<div>\n",
       "<style scoped>\n",
       "    .dataframe tbody tr th:only-of-type {\n",
       "        vertical-align: middle;\n",
       "    }\n",
       "\n",
       "    .dataframe tbody tr th {\n",
       "        vertical-align: top;\n",
       "    }\n",
       "\n",
       "    .dataframe thead th {\n",
       "        text-align: right;\n",
       "    }\n",
       "</style>\n",
       "<table border=\"1\" class=\"dataframe\">\n",
       "  <thead>\n",
       "    <tr style=\"text-align: right;\">\n",
       "      <th></th>\n",
       "      <th>averageRating</th>\n",
       "      <th>numVotes</th>\n",
       "    </tr>\n",
       "  </thead>\n",
       "  <tbody>\n",
       "    <tr>\n",
       "      <th>count</th>\n",
       "      <td>1253550.00</td>\n",
       "      <td>1253550.00</td>\n",
       "    </tr>\n",
       "    <tr>\n",
       "      <th>mean</th>\n",
       "      <td>6.92</td>\n",
       "      <td>998.39</td>\n",
       "    </tr>\n",
       "    <tr>\n",
       "      <th>std</th>\n",
       "      <td>1.39</td>\n",
       "      <td>16776.33</td>\n",
       "    </tr>\n",
       "    <tr>\n",
       "      <th>min</th>\n",
       "      <td>1.00</td>\n",
       "      <td>5.00</td>\n",
       "    </tr>\n",
       "    <tr>\n",
       "      <th>25%</th>\n",
       "      <td>6.20</td>\n",
       "      <td>11.00</td>\n",
       "    </tr>\n",
       "    <tr>\n",
       "      <th>50%</th>\n",
       "      <td>7.10</td>\n",
       "      <td>24.00</td>\n",
       "    </tr>\n",
       "    <tr>\n",
       "      <th>75%</th>\n",
       "      <td>7.90</td>\n",
       "      <td>94.00</td>\n",
       "    </tr>\n",
       "    <tr>\n",
       "      <th>max</th>\n",
       "      <td>10.00</td>\n",
       "      <td>2597650.00</td>\n",
       "    </tr>\n",
       "  </tbody>\n",
       "</table>\n",
       "</div>"
      ],
      "text/plain": [
       "       averageRating   numVotes\n",
       "count     1253550.00 1253550.00\n",
       "mean            6.92     998.39\n",
       "std             1.39   16776.33\n",
       "min             1.00       5.00\n",
       "25%             6.20      11.00\n",
       "50%             7.10      24.00\n",
       "75%             7.90      94.00\n",
       "max            10.00 2597650.00"
      ]
     },
     "execution_count": 10,
     "metadata": {},
     "output_type": "execute_result"
    }
   ],
   "source": [
    "ratings.describe()"
   ]
  },
  {
   "cell_type": "code",
   "execution_count": 11,
   "metadata": {},
   "outputs": [
    {
     "data": {
      "text/plain": [
       "<AxesSubplot:>"
      ]
     },
     "execution_count": 11,
     "metadata": {},
     "output_type": "execute_result"
    },
    {
     "data": {
      "image/png": "[encoded data removed]",
      "text/plain": [
       "<Figure size 432x288 with 1 Axes>"
      ]
     },
     "metadata": {
      "needs_background": "light"
     },
     "output_type": "display_data"
    }
   ],
   "source": [
    "ratings['averageRating'].hist()"
   ]
  },
  {
   "cell_type": "code",
   "execution_count": 12,
   "metadata": {},
   "outputs": [
    {
     "data": {
      "text/plain": [
       "(0.0, 100000.0)"
      ]
     },
     "execution_count": 12,
     "metadata": {},
     "output_type": "execute_result"
    },
    {
     "data": {
      "image/png": "[encoded data removed]",
      "text/plain": [
       "<Figure size 432x288 with 1 Axes>"
      ]
     },
     "metadata": {
      "needs_background": "light"
     },
     "output_type": "display_data"
    }
   ],
   "source": [
    "p = ratings['numVotes'].hist(bins=50)\n",
    "p.set_xlim(0, 100000)"
   ]
  },
  {
   "cell_type": "code",
   "execution_count": 13,
   "metadata": {},
   "outputs": [
    {
     "data": {
      "text/plain": [
       "(0.0, 50000.0)"
      ]
     },
     "execution_count": 13,
     "metadata": {},
     "output_type": "execute_result"
    },
    {
     "data": {
      "image/png": "[encoded data removed]",
      "text/plain": [
       "<Figure size 432x288 with 1 Axes>"
      ]
     },
     "metadata": {
      "needs_background": "light"
     },
     "output_type": "display_data"
    }
   ],
   "source": [
    "p = ratings['numVotes'].hist(bins=10000)\n",
    "p.set_xlim(0, 50000)\n",
    "p.set_ylim(0, 50000)"
   ]
  },
  {
   "cell_type": "markdown",
   "metadata": {},
   "source": [
    "## LOG Scaling"
   ]
  },
  {
   "cell_type": "code",
   "execution_count": 14,
   "metadata": {},
   "outputs": [
    {
     "data": {
      "text/html": [
       "<div>\n",
       "<style scoped>\n",
       "    .dataframe tbody tr th:only-of-type {\n",
       "        vertical-align: middle;\n",
       "    }\n",
       "\n",
       "    .dataframe tbody tr th {\n",
       "        vertical-align: top;\n",
       "    }\n",
       "\n",
       "    .dataframe thead th {\n",
       "        text-align: right;\n",
       "    }\n",
       "</style>\n",
       "<table border=\"1\" class=\"dataframe\">\n",
       "  <thead>\n",
       "    <tr style=\"text-align: right;\">\n",
       "      <th></th>\n",
       "      <th>tconst</th>\n",
       "      <th>averageRating</th>\n",
       "      <th>numVotes</th>\n",
       "      <th>logNumVotes</th>\n",
       "    </tr>\n",
       "  </thead>\n",
       "  <tbody>\n",
       "    <tr>\n",
       "      <th>0</th>\n",
       "      <td>tt0000001</td>\n",
       "      <td>5.70</td>\n",
       "      <td>1888</td>\n",
       "      <td>7.54</td>\n",
       "    </tr>\n",
       "    <tr>\n",
       "      <th>1</th>\n",
       "      <td>tt0000002</td>\n",
       "      <td>5.90</td>\n",
       "      <td>250</td>\n",
       "      <td>5.52</td>\n",
       "    </tr>\n",
       "    <tr>\n",
       "      <th>2</th>\n",
       "      <td>tt0000003</td>\n",
       "      <td>6.50</td>\n",
       "      <td>1677</td>\n",
       "      <td>7.42</td>\n",
       "    </tr>\n",
       "    <tr>\n",
       "      <th>3</th>\n",
       "      <td>tt0000004</td>\n",
       "      <td>5.80</td>\n",
       "      <td>163</td>\n",
       "      <td>5.09</td>\n",
       "    </tr>\n",
       "    <tr>\n",
       "      <th>4</th>\n",
       "      <td>tt0000005</td>\n",
       "      <td>6.20</td>\n",
       "      <td>2498</td>\n",
       "      <td>7.82</td>\n",
       "    </tr>\n",
       "    <tr>\n",
       "      <th>...</th>\n",
       "      <td>...</td>\n",
       "      <td>...</td>\n",
       "      <td>...</td>\n",
       "      <td>...</td>\n",
       "    </tr>\n",
       "    <tr>\n",
       "      <th>1253545</th>\n",
       "      <td>tt9916690</td>\n",
       "      <td>6.50</td>\n",
       "      <td>6</td>\n",
       "      <td>1.79</td>\n",
       "    </tr>\n",
       "    <tr>\n",
       "      <th>1253546</th>\n",
       "      <td>tt9916720</td>\n",
       "      <td>5.30</td>\n",
       "      <td>223</td>\n",
       "      <td>5.41</td>\n",
       "    </tr>\n",
       "    <tr>\n",
       "      <th>1253547</th>\n",
       "      <td>tt9916730</td>\n",
       "      <td>8.40</td>\n",
       "      <td>6</td>\n",
       "      <td>1.79</td>\n",
       "    </tr>\n",
       "    <tr>\n",
       "      <th>1253548</th>\n",
       "      <td>tt9916766</td>\n",
       "      <td>6.70</td>\n",
       "      <td>20</td>\n",
       "      <td>3.00</td>\n",
       "    </tr>\n",
       "    <tr>\n",
       "      <th>1253549</th>\n",
       "      <td>tt9916778</td>\n",
       "      <td>7.20</td>\n",
       "      <td>35</td>\n",
       "      <td>3.56</td>\n",
       "    </tr>\n",
       "  </tbody>\n",
       "</table>\n",
       "<p>1253550 rows × 4 columns</p>\n",
       "</div>"
      ],
      "text/plain": [
       "            tconst  averageRating  numVotes  logNumVotes\n",
       "0        tt0000001           5.70      1888         7.54\n",
       "1        tt0000002           5.90       250         5.52\n",
       "2        tt0000003           6.50      1677         7.42\n",
       "3        tt0000004           5.80       163         5.09\n",
       "4        tt0000005           6.20      2498         7.82\n",
       "...            ...            ...       ...          ...\n",
       "1253545  tt9916690           6.50         6         1.79\n",
       "1253546  tt9916720           5.30       223         5.41\n",
       "1253547  tt9916730           8.40         6         1.79\n",
       "1253548  tt9916766           6.70        20         3.00\n",
       "1253549  tt9916778           7.20        35         3.56\n",
       "\n",
       "[1253550 rows x 4 columns]"
      ]
     },
     "execution_count": 14,
     "metadata": {},
     "output_type": "execute_result"
    }
   ],
   "source": [
    "ratings['logNumVotes'] = np.log(ratings['numVotes'])\n",
    "ratings"
   ]
  },
  {
   "cell_type": "code",
   "execution_count": 15,
   "metadata": {},
   "outputs": [
    {
     "data": {
      "text/plain": [
       "<AxesSubplot:>"
      ]
     },
     "execution_count": 15,
     "metadata": {},
     "output_type": "execute_result"
    },
    {
     "data": {
      "image/png": "[encoded data removed]",
      "text/plain": [
       "<Figure size 432x288 with 1 Axes>"
      ]
     },
     "metadata": {
      "needs_background": "light"
     },
     "output_type": "display_data"
    }
   ],
   "source": [
    "ratings['logNumVotes'].hist()\n",
    "# abbiamo ridotto impatto di valori estremi nella distribuzione"
   ]
  },
  {
   "cell_type": "markdown",
   "metadata": {},
   "source": [
    "## Mettiamo il voto ed il numero di voti in uno stesso RANGE"
   ]
  },
  {
   "cell_type": "code",
   "execution_count": 16,
   "metadata": {},
   "outputs": [
    {
     "data": {
      "text/plain": [
       "tconst           tt9916778\n",
       "averageRating        10.00\n",
       "numVotes           2597650\n",
       "logNumVotes          14.77\n",
       "dtype: object"
      ]
     },
     "execution_count": 16,
     "metadata": {},
     "output_type": "execute_result"
    }
   ],
   "source": [
    "ratings.max()"
   ]
  },
  {
   "cell_type": "code",
   "execution_count": 17,
   "metadata": {},
   "outputs": [],
   "source": [
    "ratings['averageRating'] /= ratings['averageRating'].max()\n",
    "ratings['logNumVotes'] /= ratings['logNumVotes'].max()"
   ]
  },
  {
   "cell_type": "code",
   "execution_count": 18,
   "metadata": {},
   "outputs": [
    {
     "data": {
      "text/html": [
       "<div>\n",
       "<style scoped>\n",
       "    .dataframe tbody tr th:only-of-type {\n",
       "        vertical-align: middle;\n",
       "    }\n",
       "\n",
       "    .dataframe tbody tr th {\n",
       "        vertical-align: top;\n",
       "    }\n",
       "\n",
       "    .dataframe thead th {\n",
       "        text-align: right;\n",
       "    }\n",
       "</style>\n",
       "<table border=\"1\" class=\"dataframe\">\n",
       "  <thead>\n",
       "    <tr style=\"text-align: right;\">\n",
       "      <th></th>\n",
       "      <th>averageRating</th>\n",
       "      <th>numVotes</th>\n",
       "      <th>logNumVotes</th>\n",
       "    </tr>\n",
       "  </thead>\n",
       "  <tbody>\n",
       "    <tr>\n",
       "      <th>count</th>\n",
       "      <td>1253550.00</td>\n",
       "      <td>1253550.00</td>\n",
       "      <td>1253550.00</td>\n",
       "    </tr>\n",
       "    <tr>\n",
       "      <th>mean</th>\n",
       "      <td>0.69</td>\n",
       "      <td>998.39</td>\n",
       "      <td>0.25</td>\n",
       "    </tr>\n",
       "    <tr>\n",
       "      <th>std</th>\n",
       "      <td>0.14</td>\n",
       "      <td>16776.33</td>\n",
       "      <td>0.12</td>\n",
       "    </tr>\n",
       "    <tr>\n",
       "      <th>min</th>\n",
       "      <td>0.10</td>\n",
       "      <td>5.00</td>\n",
       "      <td>0.11</td>\n",
       "    </tr>\n",
       "    <tr>\n",
       "      <th>25%</th>\n",
       "      <td>0.62</td>\n",
       "      <td>11.00</td>\n",
       "      <td>0.16</td>\n",
       "    </tr>\n",
       "    <tr>\n",
       "      <th>50%</th>\n",
       "      <td>0.71</td>\n",
       "      <td>24.00</td>\n",
       "      <td>0.22</td>\n",
       "    </tr>\n",
       "    <tr>\n",
       "      <th>75%</th>\n",
       "      <td>0.79</td>\n",
       "      <td>94.00</td>\n",
       "      <td>0.31</td>\n",
       "    </tr>\n",
       "    <tr>\n",
       "      <th>max</th>\n",
       "      <td>1.00</td>\n",
       "      <td>2597650.00</td>\n",
       "      <td>1.00</td>\n",
       "    </tr>\n",
       "  </tbody>\n",
       "</table>\n",
       "</div>"
      ],
      "text/plain": [
       "       averageRating   numVotes  logNumVotes\n",
       "count     1253550.00 1253550.00   1253550.00\n",
       "mean            0.69     998.39         0.25\n",
       "std             0.14   16776.33         0.12\n",
       "min             0.10       5.00         0.11\n",
       "25%             0.62      11.00         0.16\n",
       "50%             0.71      24.00         0.22\n",
       "75%             0.79      94.00         0.31\n",
       "max             1.00 2597650.00         1.00"
      ]
     },
     "execution_count": 18,
     "metadata": {},
     "output_type": "execute_result"
    }
   ],
   "source": [
    "ratings.describe()"
   ]
  },
  {
   "cell_type": "code",
   "execution_count": 19,
   "metadata": {},
   "outputs": [],
   "source": [
    "ratings['PolloRating'] = ratings['averageRating'] * ratings['logNumVotes']"
   ]
  },
  {
   "cell_type": "code",
   "execution_count": 20,
   "metadata": {},
   "outputs": [
    {
     "data": {
      "text/html": [
       "<div>\n",
       "<style scoped>\n",
       "    .dataframe tbody tr th:only-of-type {\n",
       "        vertical-align: middle;\n",
       "    }\n",
       "\n",
       "    .dataframe tbody tr th {\n",
       "        vertical-align: top;\n",
       "    }\n",
       "\n",
       "    .dataframe thead th {\n",
       "        text-align: right;\n",
       "    }\n",
       "</style>\n",
       "<table border=\"1\" class=\"dataframe\">\n",
       "  <thead>\n",
       "    <tr style=\"text-align: right;\">\n",
       "      <th></th>\n",
       "      <th>tconst</th>\n",
       "      <th>averageRating</th>\n",
       "      <th>numVotes</th>\n",
       "      <th>logNumVotes</th>\n",
       "      <th>PolloRating</th>\n",
       "    </tr>\n",
       "  </thead>\n",
       "  <tbody>\n",
       "    <tr>\n",
       "      <th>0</th>\n",
       "      <td>tt0000001</td>\n",
       "      <td>0.57</td>\n",
       "      <td>1888</td>\n",
       "      <td>0.51</td>\n",
       "      <td>0.29</td>\n",
       "    </tr>\n",
       "    <tr>\n",
       "      <th>1</th>\n",
       "      <td>tt0000002</td>\n",
       "      <td>0.59</td>\n",
       "      <td>250</td>\n",
       "      <td>0.37</td>\n",
       "      <td>0.22</td>\n",
       "    </tr>\n",
       "    <tr>\n",
       "      <th>2</th>\n",
       "      <td>tt0000003</td>\n",
       "      <td>0.65</td>\n",
       "      <td>1677</td>\n",
       "      <td>0.50</td>\n",
       "      <td>0.33</td>\n",
       "    </tr>\n",
       "    <tr>\n",
       "      <th>3</th>\n",
       "      <td>tt0000004</td>\n",
       "      <td>0.58</td>\n",
       "      <td>163</td>\n",
       "      <td>0.34</td>\n",
       "      <td>0.20</td>\n",
       "    </tr>\n",
       "    <tr>\n",
       "      <th>4</th>\n",
       "      <td>tt0000005</td>\n",
       "      <td>0.62</td>\n",
       "      <td>2498</td>\n",
       "      <td>0.53</td>\n",
       "      <td>0.33</td>\n",
       "    </tr>\n",
       "    <tr>\n",
       "      <th>...</th>\n",
       "      <td>...</td>\n",
       "      <td>...</td>\n",
       "      <td>...</td>\n",
       "      <td>...</td>\n",
       "      <td>...</td>\n",
       "    </tr>\n",
       "    <tr>\n",
       "      <th>1253545</th>\n",
       "      <td>tt9916690</td>\n",
       "      <td>0.65</td>\n",
       "      <td>6</td>\n",
       "      <td>0.12</td>\n",
       "      <td>0.08</td>\n",
       "    </tr>\n",
       "    <tr>\n",
       "      <th>1253546</th>\n",
       "      <td>tt9916720</td>\n",
       "      <td>0.53</td>\n",
       "      <td>223</td>\n",
       "      <td>0.37</td>\n",
       "      <td>0.19</td>\n",
       "    </tr>\n",
       "    <tr>\n",
       "      <th>1253547</th>\n",
       "      <td>tt9916730</td>\n",
       "      <td>0.84</td>\n",
       "      <td>6</td>\n",
       "      <td>0.12</td>\n",
       "      <td>0.10</td>\n",
       "    </tr>\n",
       "    <tr>\n",
       "      <th>1253548</th>\n",
       "      <td>tt9916766</td>\n",
       "      <td>0.67</td>\n",
       "      <td>20</td>\n",
       "      <td>0.20</td>\n",
       "      <td>0.14</td>\n",
       "    </tr>\n",
       "    <tr>\n",
       "      <th>1253549</th>\n",
       "      <td>tt9916778</td>\n",
       "      <td>0.72</td>\n",
       "      <td>35</td>\n",
       "      <td>0.24</td>\n",
       "      <td>0.17</td>\n",
       "    </tr>\n",
       "  </tbody>\n",
       "</table>\n",
       "<p>1253550 rows × 5 columns</p>\n",
       "</div>"
      ],
      "text/plain": [
       "            tconst  averageRating  numVotes  logNumVotes  PolloRating\n",
       "0        tt0000001           0.57      1888         0.51         0.29\n",
       "1        tt0000002           0.59       250         0.37         0.22\n",
       "2        tt0000003           0.65      1677         0.50         0.33\n",
       "3        tt0000004           0.58       163         0.34         0.20\n",
       "4        tt0000005           0.62      2498         0.53         0.33\n",
       "...            ...            ...       ...          ...          ...\n",
       "1253545  tt9916690           0.65         6         0.12         0.08\n",
       "1253546  tt9916720           0.53       223         0.37         0.19\n",
       "1253547  tt9916730           0.84         6         0.12         0.10\n",
       "1253548  tt9916766           0.67        20         0.20         0.14\n",
       "1253549  tt9916778           0.72        35         0.24         0.17\n",
       "\n",
       "[1253550 rows x 5 columns]"
      ]
     },
     "execution_count": 20,
     "metadata": {},
     "output_type": "execute_result"
    }
   ],
   "source": [
    "ratings # pollo rating esprime sia la popolarità ed il voto assegnato"
   ]
  },
  {
   "cell_type": "code",
   "execution_count": 21,
   "metadata": {},
   "outputs": [
    {
     "data": {
      "text/plain": [
       "<AxesSubplot:>"
      ]
     },
     "execution_count": 21,
     "metadata": {},
     "output_type": "execute_result"
    },
    {
     "data": {
      "image/png": "[encoded data removed]",
      "text/plain": [
       "<Figure size 432x288 with 1 Axes>"
      ]
     },
     "metadata": {
      "needs_background": "light"
     },
     "output_type": "display_data"
    }
   ],
   "source": [
    "ratings['PolloRating'].hist()"
   ]
  },
  {
   "cell_type": "markdown",
   "metadata": {},
   "source": [
    "## Join tra i 2 dataframe: MERGE - JOIN"
   ]
  },
  {
   "cell_type": "code",
   "execution_count": 22,
   "metadata": {},
   "outputs": [
    {
     "data": {
      "text/html": [
       "<div>\n",
       "<style scoped>\n",
       "    .dataframe tbody tr th:only-of-type {\n",
       "        vertical-align: middle;\n",
       "    }\n",
       "\n",
       "    .dataframe tbody tr th {\n",
       "        vertical-align: top;\n",
       "    }\n",
       "\n",
       "    .dataframe thead th {\n",
       "        text-align: right;\n",
       "    }\n",
       "</style>\n",
       "<table border=\"1\" class=\"dataframe\">\n",
       "  <thead>\n",
       "    <tr style=\"text-align: right;\">\n",
       "      <th></th>\n",
       "      <th>tconst</th>\n",
       "      <th>titleType</th>\n",
       "      <th>primaryTitle</th>\n",
       "      <th>originalTitle</th>\n",
       "      <th>isAdult</th>\n",
       "      <th>startYear</th>\n",
       "      <th>endYear</th>\n",
       "      <th>runtimeMinutes</th>\n",
       "      <th>genres</th>\n",
       "      <th>averageRating</th>\n",
       "      <th>numVotes</th>\n",
       "      <th>logNumVotes</th>\n",
       "      <th>PolloRating</th>\n",
       "    </tr>\n",
       "  </thead>\n",
       "  <tbody>\n",
       "    <tr>\n",
       "      <th>0</th>\n",
       "      <td>tt0000502</td>\n",
       "      <td>movie</td>\n",
       "      <td>Bohemios</td>\n",
       "      <td>Bohemios</td>\n",
       "      <td>0</td>\n",
       "      <td>1905</td>\n",
       "      <td>\\N</td>\n",
       "      <td>100</td>\n",
       "      <td>\\N</td>\n",
       "      <td>0.45</td>\n",
       "      <td>14</td>\n",
       "      <td>0.18</td>\n",
       "      <td>0.08</td>\n",
       "    </tr>\n",
       "    <tr>\n",
       "      <th>1</th>\n",
       "      <td>tt0000574</td>\n",
       "      <td>movie</td>\n",
       "      <td>The Story of the Kelly Gang</td>\n",
       "      <td>The Story of the Kelly Gang</td>\n",
       "      <td>0</td>\n",
       "      <td>1906</td>\n",
       "      <td>\\N</td>\n",
       "      <td>70</td>\n",
       "      <td>Action,Adventure,Biography</td>\n",
       "      <td>0.60</td>\n",
       "      <td>772</td>\n",
       "      <td>0.45</td>\n",
       "      <td>0.27</td>\n",
       "    </tr>\n",
       "    <tr>\n",
       "      <th>2</th>\n",
       "      <td>tt0000591</td>\n",
       "      <td>movie</td>\n",
       "      <td>The Prodigal Son</td>\n",
       "      <td>L'enfant prodigue</td>\n",
       "      <td>0</td>\n",
       "      <td>1907</td>\n",
       "      <td>\\N</td>\n",
       "      <td>90</td>\n",
       "      <td>Drama</td>\n",
       "      <td>0.45</td>\n",
       "      <td>18</td>\n",
       "      <td>0.20</td>\n",
       "      <td>0.09</td>\n",
       "    </tr>\n",
       "    <tr>\n",
       "      <th>3</th>\n",
       "      <td>tt0000615</td>\n",
       "      <td>movie</td>\n",
       "      <td>Robbery Under Arms</td>\n",
       "      <td>Robbery Under Arms</td>\n",
       "      <td>0</td>\n",
       "      <td>1907</td>\n",
       "      <td>\\N</td>\n",
       "      <td>\\N</td>\n",
       "      <td>Drama</td>\n",
       "      <td>0.45</td>\n",
       "      <td>23</td>\n",
       "      <td>0.21</td>\n",
       "      <td>0.10</td>\n",
       "    </tr>\n",
       "    <tr>\n",
       "      <th>4</th>\n",
       "      <td>tt0000630</td>\n",
       "      <td>movie</td>\n",
       "      <td>Hamlet</td>\n",
       "      <td>Amleto</td>\n",
       "      <td>0</td>\n",
       "      <td>1908</td>\n",
       "      <td>\\N</td>\n",
       "      <td>\\N</td>\n",
       "      <td>Drama</td>\n",
       "      <td>0.39</td>\n",
       "      <td>25</td>\n",
       "      <td>0.22</td>\n",
       "      <td>0.08</td>\n",
       "    </tr>\n",
       "    <tr>\n",
       "      <th>...</th>\n",
       "      <td>...</td>\n",
       "      <td>...</td>\n",
       "      <td>...</td>\n",
       "      <td>...</td>\n",
       "      <td>...</td>\n",
       "      <td>...</td>\n",
       "      <td>...</td>\n",
       "      <td>...</td>\n",
       "      <td>...</td>\n",
       "      <td>...</td>\n",
       "      <td>...</td>\n",
       "      <td>...</td>\n",
       "      <td>...</td>\n",
       "    </tr>\n",
       "    <tr>\n",
       "      <th>279372</th>\n",
       "      <td>tt9916270</td>\n",
       "      <td>movie</td>\n",
       "      <td>Il talento del calabrone</td>\n",
       "      <td>Il talento del calabrone</td>\n",
       "      <td>0</td>\n",
       "      <td>2020</td>\n",
       "      <td>\\N</td>\n",
       "      <td>84</td>\n",
       "      <td>Thriller</td>\n",
       "      <td>0.58</td>\n",
       "      <td>1340</td>\n",
       "      <td>0.49</td>\n",
       "      <td>0.28</td>\n",
       "    </tr>\n",
       "    <tr>\n",
       "      <th>279373</th>\n",
       "      <td>tt9916362</td>\n",
       "      <td>movie</td>\n",
       "      <td>Coven</td>\n",
       "      <td>Akelarre</td>\n",
       "      <td>0</td>\n",
       "      <td>2020</td>\n",
       "      <td>\\N</td>\n",
       "      <td>92</td>\n",
       "      <td>Drama,History</td>\n",
       "      <td>0.64</td>\n",
       "      <td>4703</td>\n",
       "      <td>0.57</td>\n",
       "      <td>0.37</td>\n",
       "    </tr>\n",
       "    <tr>\n",
       "      <th>279374</th>\n",
       "      <td>tt9916428</td>\n",
       "      <td>movie</td>\n",
       "      <td>The Secret of China</td>\n",
       "      <td>Hong xing zhao yao Zhong guo</td>\n",
       "      <td>0</td>\n",
       "      <td>2019</td>\n",
       "      <td>\\N</td>\n",
       "      <td>\\N</td>\n",
       "      <td>Adventure,History,War</td>\n",
       "      <td>0.38</td>\n",
       "      <td>14</td>\n",
       "      <td>0.18</td>\n",
       "      <td>0.07</td>\n",
       "    </tr>\n",
       "    <tr>\n",
       "      <th>279375</th>\n",
       "      <td>tt9916538</td>\n",
       "      <td>movie</td>\n",
       "      <td>Kuambil Lagi Hatiku</td>\n",
       "      <td>Kuambil Lagi Hatiku</td>\n",
       "      <td>0</td>\n",
       "      <td>2019</td>\n",
       "      <td>\\N</td>\n",
       "      <td>123</td>\n",
       "      <td>Drama</td>\n",
       "      <td>0.83</td>\n",
       "      <td>6</td>\n",
       "      <td>0.12</td>\n",
       "      <td>0.10</td>\n",
       "    </tr>\n",
       "    <tr>\n",
       "      <th>279376</th>\n",
       "      <td>tt9916730</td>\n",
       "      <td>movie</td>\n",
       "      <td>6 Gunn</td>\n",
       "      <td>6 Gunn</td>\n",
       "      <td>0</td>\n",
       "      <td>2017</td>\n",
       "      <td>\\N</td>\n",
       "      <td>116</td>\n",
       "      <td>\\N</td>\n",
       "      <td>0.84</td>\n",
       "      <td>6</td>\n",
       "      <td>0.12</td>\n",
       "      <td>0.10</td>\n",
       "    </tr>\n",
       "  </tbody>\n",
       "</table>\n",
       "<p>279377 rows × 13 columns</p>\n",
       "</div>"
      ],
      "text/plain": [
       "           tconst titleType                 primaryTitle  \\\n",
       "0       tt0000502     movie                     Bohemios   \n",
       "1       tt0000574     movie  The Story of the Kelly Gang   \n",
       "2       tt0000591     movie             The Prodigal Son   \n",
       "3       tt0000615     movie           Robbery Under Arms   \n",
       "4       tt0000630     movie                       Hamlet   \n",
       "...           ...       ...                          ...   \n",
       "279372  tt9916270     movie     Il talento del calabrone   \n",
       "279373  tt9916362     movie                        Coven   \n",
       "279374  tt9916428     movie          The Secret of China   \n",
       "279375  tt9916538     movie          Kuambil Lagi Hatiku   \n",
       "279376  tt9916730     movie                       6 Gunn   \n",
       "\n",
       "                       originalTitle isAdult startYear endYear runtimeMinutes  \\\n",
       "0                           Bohemios       0      1905      \\N            100   \n",
       "1        The Story of the Kelly Gang       0      1906      \\N             70   \n",
       "2                  L'enfant prodigue       0      1907      \\N             90   \n",
       "3                 Robbery Under Arms       0      1907      \\N             \\N   \n",
       "4                             Amleto       0      1908      \\N             \\N   \n",
       "...                              ...     ...       ...     ...            ...   \n",
       "279372      Il talento del calabrone       0      2020      \\N             84   \n",
       "279373                      Akelarre       0      2020      \\N             92   \n",
       "279374  Hong xing zhao yao Zhong guo       0      2019      \\N             \\N   \n",
       "279375           Kuambil Lagi Hatiku       0      2019      \\N            123   \n",
       "279376                        6 Gunn       0      2017      \\N            116   \n",
       "\n",
       "                            genres  averageRating  numVotes  logNumVotes  \\\n",
       "0                               \\N           0.45        14         0.18   \n",
       "1       Action,Adventure,Biography           0.60       772         0.45   \n",
       "2                            Drama           0.45        18         0.20   \n",
       "3                            Drama           0.45        23         0.21   \n",
       "4                            Drama           0.39        25         0.22   \n",
       "...                            ...            ...       ...          ...   \n",
       "279372                    Thriller           0.58      1340         0.49   \n",
       "279373               Drama,History           0.64      4703         0.57   \n",
       "279374       Adventure,History,War           0.38        14         0.18   \n",
       "279375                       Drama           0.83         6         0.12   \n",
       "279376                          \\N           0.84         6         0.12   \n",
       "\n",
       "        PolloRating  \n",
       "0              0.08  \n",
       "1              0.27  \n",
       "2              0.09  \n",
       "3              0.10  \n",
       "4              0.08  \n",
       "...             ...  \n",
       "279372         0.28  \n",
       "279373         0.37  \n",
       "279374         0.07  \n",
       "279375         0.10  \n",
       "279376         0.10  \n",
       "\n",
       "[279377 rows x 13 columns]"
      ]
     },
     "execution_count": 22,
     "metadata": {},
     "output_type": "execute_result"
    }
   ],
   "source": [
    "rated_movies = basics_movies.merge(ratings, on='tconst')\n",
    "rated_movies"
   ]
  },
  {
   "cell_type": "code",
   "execution_count": 23,
   "metadata": {},
   "outputs": [],
   "source": [
    "scifi_filter = rated_movies['genres'].str.contains('Sci-Fi')\n",
    "scifi_movies = rated_movies[scifi_filter]"
   ]
  },
  {
   "cell_type": "code",
   "execution_count": 24,
   "metadata": {},
   "outputs": [
    {
     "data": {
      "text/plain": [
       "False    272746\n",
       "True       6631\n",
       "Name: genres, dtype: int64"
      ]
     },
     "execution_count": 24,
     "metadata": {},
     "output_type": "execute_result"
    }
   ],
   "source": [
    "scifi_filter.value_counts()"
   ]
  },
  {
   "cell_type": "code",
   "execution_count": 25,
   "metadata": {},
   "outputs": [
    {
     "data": {
      "text/html": [
       "<div>\n",
       "<style scoped>\n",
       "    .dataframe tbody tr th:only-of-type {\n",
       "        vertical-align: middle;\n",
       "    }\n",
       "\n",
       "    .dataframe tbody tr th {\n",
       "        vertical-align: top;\n",
       "    }\n",
       "\n",
       "    .dataframe thead th {\n",
       "        text-align: right;\n",
       "    }\n",
       "</style>\n",
       "<table border=\"1\" class=\"dataframe\">\n",
       "  <thead>\n",
       "    <tr style=\"text-align: right;\">\n",
       "      <th></th>\n",
       "      <th>tconst</th>\n",
       "      <th>titleType</th>\n",
       "      <th>primaryTitle</th>\n",
       "      <th>originalTitle</th>\n",
       "      <th>isAdult</th>\n",
       "      <th>startYear</th>\n",
       "      <th>endYear</th>\n",
       "      <th>runtimeMinutes</th>\n",
       "      <th>genres</th>\n",
       "      <th>averageRating</th>\n",
       "      <th>numVotes</th>\n",
       "      <th>logNumVotes</th>\n",
       "      <th>PolloRating</th>\n",
       "    </tr>\n",
       "  </thead>\n",
       "  <tbody>\n",
       "    <tr>\n",
       "      <th>53643</th>\n",
       "      <td>tt0097228</td>\n",
       "      <td>movie</td>\n",
       "      <td>Dr. Caligari</td>\n",
       "      <td>Dr. Caligari</td>\n",
       "      <td>0</td>\n",
       "      <td>1989</td>\n",
       "      <td>\\N</td>\n",
       "      <td>80</td>\n",
       "      <td>Comedy,Horror,Sci-Fi</td>\n",
       "      <td>0.60</td>\n",
       "      <td>1146</td>\n",
       "      <td>0.48</td>\n",
       "      <td>0.29</td>\n",
       "    </tr>\n",
       "    <tr>\n",
       "      <th>273601</th>\n",
       "      <td>tt8808166</td>\n",
       "      <td>movie</td>\n",
       "      <td>The Cage</td>\n",
       "      <td>The Cage</td>\n",
       "      <td>0</td>\n",
       "      <td>2018</td>\n",
       "      <td>\\N</td>\n",
       "      <td>83</td>\n",
       "      <td>Drama,Fantasy,Sci-Fi</td>\n",
       "      <td>0.72</td>\n",
       "      <td>6</td>\n",
       "      <td>0.12</td>\n",
       "      <td>0.09</td>\n",
       "    </tr>\n",
       "    <tr>\n",
       "      <th>91614</th>\n",
       "      <td>tt0214468</td>\n",
       "      <td>movie</td>\n",
       "      <td>Space Armageddon</td>\n",
       "      <td>Amagedon</td>\n",
       "      <td>0</td>\n",
       "      <td>1996</td>\n",
       "      <td>\\N</td>\n",
       "      <td>86</td>\n",
       "      <td>Animation,Fantasy,Sci-Fi</td>\n",
       "      <td>0.44</td>\n",
       "      <td>108</td>\n",
       "      <td>0.32</td>\n",
       "      <td>0.14</td>\n",
       "    </tr>\n",
       "    <tr>\n",
       "      <th>53892</th>\n",
       "      <td>tt0097630</td>\n",
       "      <td>movie</td>\n",
       "      <td>Journey to the Center of the Earth</td>\n",
       "      <td>Journey to the Center of the Earth</td>\n",
       "      <td>0</td>\n",
       "      <td>1988</td>\n",
       "      <td>\\N</td>\n",
       "      <td>100</td>\n",
       "      <td>Adventure,Sci-Fi</td>\n",
       "      <td>0.26</td>\n",
       "      <td>1243</td>\n",
       "      <td>0.48</td>\n",
       "      <td>0.13</td>\n",
       "    </tr>\n",
       "    <tr>\n",
       "      <th>155817</th>\n",
       "      <td>tt1125254</td>\n",
       "      <td>movie</td>\n",
       "      <td>Dragon Ball Z: Cooler's Revenge</td>\n",
       "      <td>Dragon Ball Z: Tobikkiri no Saikyô tai Saikyô</td>\n",
       "      <td>0</td>\n",
       "      <td>1991</td>\n",
       "      <td>\\N</td>\n",
       "      <td>47</td>\n",
       "      <td>Action,Animation,Sci-Fi</td>\n",
       "      <td>0.71</td>\n",
       "      <td>7185</td>\n",
       "      <td>0.60</td>\n",
       "      <td>0.43</td>\n",
       "    </tr>\n",
       "  </tbody>\n",
       "</table>\n",
       "</div>"
      ],
      "text/plain": [
       "           tconst titleType                        primaryTitle  \\\n",
       "53643   tt0097228     movie                        Dr. Caligari   \n",
       "273601  tt8808166     movie                            The Cage   \n",
       "91614   tt0214468     movie                    Space Armageddon   \n",
       "53892   tt0097630     movie  Journey to the Center of the Earth   \n",
       "155817  tt1125254     movie     Dragon Ball Z: Cooler's Revenge   \n",
       "\n",
       "                                        originalTitle isAdult startYear  \\\n",
       "53643                                    Dr. Caligari       0      1989   \n",
       "273601                                       The Cage       0      2018   \n",
       "91614                                        Amagedon       0      1996   \n",
       "53892              Journey to the Center of the Earth       0      1988   \n",
       "155817  Dragon Ball Z: Tobikkiri no Saikyô tai Saikyô       0      1991   \n",
       "\n",
       "       endYear runtimeMinutes                    genres  averageRating  \\\n",
       "53643       \\N             80      Comedy,Horror,Sci-Fi           0.60   \n",
       "273601      \\N             83      Drama,Fantasy,Sci-Fi           0.72   \n",
       "91614       \\N             86  Animation,Fantasy,Sci-Fi           0.44   \n",
       "53892       \\N            100          Adventure,Sci-Fi           0.26   \n",
       "155817      \\N             47   Action,Animation,Sci-Fi           0.71   \n",
       "\n",
       "        numVotes  logNumVotes  PolloRating  \n",
       "53643       1146         0.48         0.29  \n",
       "273601         6         0.12         0.09  \n",
       "91614        108         0.32         0.14  \n",
       "53892       1243         0.48         0.13  \n",
       "155817      7185         0.60         0.43  "
      ]
     },
     "execution_count": 25,
     "metadata": {},
     "output_type": "execute_result"
    }
   ],
   "source": [
    "scifi_movies.sample(5)"
   ]
  },
  {
   "cell_type": "code",
   "execution_count": 26,
   "metadata": {},
   "outputs": [],
   "source": [
    "columns_of_interest = [ \n",
    "    \"titleType\",\n",
    "   \t\"primaryTitle\",\n",
    "   \t\"startYear\",\n",
    "   \t\"runtimeMinutes\",\n",
    "    \"genres\",\t\n",
    "    \"PolloRating\",\n",
    "]"
   ]
  },
  {
   "cell_type": "code",
   "execution_count": 27,
   "metadata": {},
   "outputs": [
    {
     "name": "stderr",
     "output_type": "stream",
     "text": [
      "/tmp/ipykernel_16699/2295393136.py:2: SettingWithCopyWarning: \n",
      "A value is trying to be set on a copy of a slice from a DataFrame\n",
      "\n",
      "See the caveats in the documentation: https://pandas.pydata.org/pandas-docs/stable/user_guide/indexing.html#returning-a-view-versus-a-copy\n",
      "  scifi_final.sort_values(by='PolloRating', ascending=False, inplace=True)\n"
     ]
    }
   ],
   "source": [
    "scifi_final = scifi_movies[columns_of_interest]\n",
    "scifi_final.sort_values(by='PolloRating', ascending=False, inplace=True)"
   ]
  },
  {
   "cell_type": "code",
   "execution_count": 30,
   "metadata": {},
   "outputs": [
    {
     "data": {
      "text/html": [
       "<div>\n",
       "<style scoped>\n",
       "    .dataframe tbody tr th:only-of-type {\n",
       "        vertical-align: middle;\n",
       "    }\n",
       "\n",
       "    .dataframe tbody tr th {\n",
       "        vertical-align: top;\n",
       "    }\n",
       "\n",
       "    .dataframe thead th {\n",
       "        text-align: right;\n",
       "    }\n",
       "</style>\n",
       "<table border=\"1\" class=\"dataframe\">\n",
       "  <thead>\n",
       "    <tr style=\"text-align: right;\">\n",
       "      <th></th>\n",
       "      <th>titleType</th>\n",
       "      <th>primaryTitle</th>\n",
       "      <th>startYear</th>\n",
       "      <th>runtimeMinutes</th>\n",
       "      <th>genres</th>\n",
       "      <th>PolloRating</th>\n",
       "    </tr>\n",
       "  </thead>\n",
       "  <tbody>\n",
       "    <tr>\n",
       "      <th>172784</th>\n",
       "      <td>movie</td>\n",
       "      <td>Inception</td>\n",
       "      <td>2010</td>\n",
       "      <td>148</td>\n",
       "      <td>Action,Adventure,Sci-Fi</td>\n",
       "      <td>0.87</td>\n",
       "    </tr>\n",
       "    <tr>\n",
       "      <th>69803</th>\n",
       "      <td>movie</td>\n",
       "      <td>The Matrix</td>\n",
       "      <td>1999</td>\n",
       "      <td>136</td>\n",
       "      <td>Action,Sci-Fi</td>\n",
       "      <td>0.85</td>\n",
       "    </tr>\n",
       "    <tr>\n",
       "      <th>141241</th>\n",
       "      <td>movie</td>\n",
       "      <td>Interstellar</td>\n",
       "      <td>2014</td>\n",
       "      <td>169</td>\n",
       "      <td>Adventure,Drama,Sci-Fi</td>\n",
       "      <td>0.84</td>\n",
       "    </tr>\n",
       "    <tr>\n",
       "      <th>137194</th>\n",
       "      <td>movie</td>\n",
       "      <td>The Prestige</td>\n",
       "      <td>2006</td>\n",
       "      <td>130</td>\n",
       "      <td>Drama,Mystery,Sci-Fi</td>\n",
       "      <td>0.81</td>\n",
       "    </tr>\n",
       "    <tr>\n",
       "      <th>56940</th>\n",
       "      <td>movie</td>\n",
       "      <td>Terminator 2: Judgment Day</td>\n",
       "      <td>1991</td>\n",
       "      <td>137</td>\n",
       "      <td>Action,Sci-Fi</td>\n",
       "      <td>0.81</td>\n",
       "    </tr>\n",
       "    <tr>\n",
       "      <th>48682</th>\n",
       "      <td>movie</td>\n",
       "      <td>Back to the Future</td>\n",
       "      <td>1985</td>\n",
       "      <td>116</td>\n",
       "      <td>Adventure,Comedy,Sci-Fi</td>\n",
       "      <td>0.80</td>\n",
       "    </tr>\n",
       "    <tr>\n",
       "      <th>233735</th>\n",
       "      <td>movie</td>\n",
       "      <td>Avengers: Infinity War</td>\n",
       "      <td>2018</td>\n",
       "      <td>149</td>\n",
       "      <td>Action,Adventure,Sci-Fi</td>\n",
       "      <td>0.79</td>\n",
       "    </tr>\n",
       "    <tr>\n",
       "      <th>42666</th>\n",
       "      <td>movie</td>\n",
       "      <td>Alien</td>\n",
       "      <td>1979</td>\n",
       "      <td>117</td>\n",
       "      <td>Horror,Sci-Fi</td>\n",
       "      <td>0.79</td>\n",
       "    </tr>\n",
       "    <tr>\n",
       "      <th>117391</th>\n",
       "      <td>movie</td>\n",
       "      <td>Eternal Sunshine of the Spotless Mind</td>\n",
       "      <td>2004</td>\n",
       "      <td>108</td>\n",
       "      <td>Drama,Romance,Sci-Fi</td>\n",
       "      <td>0.78</td>\n",
       "    </tr>\n",
       "    <tr>\n",
       "      <th>131445</th>\n",
       "      <td>movie</td>\n",
       "      <td>V for Vendetta</td>\n",
       "      <td>2005</td>\n",
       "      <td>132</td>\n",
       "      <td>Action,Drama,Sci-Fi</td>\n",
       "      <td>0.77</td>\n",
       "    </tr>\n",
       "  </tbody>\n",
       "</table>\n",
       "</div>"
      ],
      "text/plain": [
       "       titleType                           primaryTitle startYear  \\\n",
       "172784     movie                              Inception      2010   \n",
       "69803      movie                             The Matrix      1999   \n",
       "141241     movie                           Interstellar      2014   \n",
       "137194     movie                           The Prestige      2006   \n",
       "56940      movie             Terminator 2: Judgment Day      1991   \n",
       "48682      movie                     Back to the Future      1985   \n",
       "233735     movie                 Avengers: Infinity War      2018   \n",
       "42666      movie                                  Alien      1979   \n",
       "117391     movie  Eternal Sunshine of the Spotless Mind      2004   \n",
       "131445     movie                         V for Vendetta      2005   \n",
       "\n",
       "       runtimeMinutes                   genres  PolloRating  \n",
       "172784            148  Action,Adventure,Sci-Fi         0.87  \n",
       "69803             136            Action,Sci-Fi         0.85  \n",
       "141241            169   Adventure,Drama,Sci-Fi         0.84  \n",
       "137194            130     Drama,Mystery,Sci-Fi         0.81  \n",
       "56940             137            Action,Sci-Fi         0.81  \n",
       "48682             116  Adventure,Comedy,Sci-Fi         0.80  \n",
       "233735            149  Action,Adventure,Sci-Fi         0.79  \n",
       "42666             117            Horror,Sci-Fi         0.79  \n",
       "117391            108     Drama,Romance,Sci-Fi         0.78  \n",
       "131445            132      Action,Drama,Sci-Fi         0.77  "
      ]
     },
     "execution_count": 30,
     "metadata": {},
     "output_type": "execute_result"
    }
   ],
   "source": [
    "scifi_final.head(10)"
   ]
  },
  {
   "cell_type": "code",
   "execution_count": 33,
   "metadata": {},
   "outputs": [
    {
     "data": {
      "text/html": [
       "<div>\n",
       "<style scoped>\n",
       "    .dataframe tbody tr th:only-of-type {\n",
       "        vertical-align: middle;\n",
       "    }\n",
       "\n",
       "    .dataframe tbody tr th {\n",
       "        vertical-align: top;\n",
       "    }\n",
       "\n",
       "    .dataframe thead th {\n",
       "        text-align: right;\n",
       "    }\n",
       "</style>\n",
       "<table border=\"1\" class=\"dataframe\">\n",
       "  <thead>\n",
       "    <tr style=\"text-align: right;\">\n",
       "      <th></th>\n",
       "      <th>titleType</th>\n",
       "      <th>primaryTitle</th>\n",
       "      <th>startYear</th>\n",
       "      <th>runtimeMinutes</th>\n",
       "      <th>genres</th>\n",
       "      <th>PolloRating</th>\n",
       "    </tr>\n",
       "  </thead>\n",
       "  <tbody>\n",
       "    <tr>\n",
       "      <th>177417</th>\n",
       "      <td>movie</td>\n",
       "      <td>Invasion of the Empire of the Apes</td>\n",
       "      <td>2021</td>\n",
       "      <td>74</td>\n",
       "      <td>Action,Fantasy,Sci-Fi</td>\n",
       "      <td>0.03</td>\n",
       "    </tr>\n",
       "    <tr>\n",
       "      <th>252251</th>\n",
       "      <td>movie</td>\n",
       "      <td>Alien brainsuckers</td>\n",
       "      <td>2006</td>\n",
       "      <td>67</td>\n",
       "      <td>Comedy,Horror,Sci-Fi</td>\n",
       "      <td>0.03</td>\n",
       "    </tr>\n",
       "    <tr>\n",
       "      <th>253268</th>\n",
       "      <td>movie</td>\n",
       "      <td>Mastera poroka</td>\n",
       "      <td>2010</td>\n",
       "      <td>112</td>\n",
       "      <td>Drama,Sci-Fi</td>\n",
       "      <td>0.03</td>\n",
       "    </tr>\n",
       "    <tr>\n",
       "      <th>187642</th>\n",
       "      <td>movie</td>\n",
       "      <td>The Revenge of Plant</td>\n",
       "      <td>2018</td>\n",
       "      <td>\\N</td>\n",
       "      <td>Fantasy,Romance,Sci-Fi</td>\n",
       "      <td>0.03</td>\n",
       "    </tr>\n",
       "    <tr>\n",
       "      <th>199561</th>\n",
       "      <td>movie</td>\n",
       "      <td>Timeserver</td>\n",
       "      <td>2004</td>\n",
       "      <td>113</td>\n",
       "      <td>Drama,Romance,Sci-Fi</td>\n",
       "      <td>0.03</td>\n",
       "    </tr>\n",
       "  </tbody>\n",
       "</table>\n",
       "</div>"
      ],
      "text/plain": [
       "       titleType                        primaryTitle startYear runtimeMinutes  \\\n",
       "177417     movie  Invasion of the Empire of the Apes      2021             74   \n",
       "252251     movie                  Alien brainsuckers      2006             67   \n",
       "253268     movie                      Mastera poroka      2010            112   \n",
       "187642     movie                The Revenge of Plant      2018             \\N   \n",
       "199561     movie                          Timeserver      2004            113   \n",
       "\n",
       "                        genres  PolloRating  \n",
       "177417   Action,Fantasy,Sci-Fi         0.03  \n",
       "252251    Comedy,Horror,Sci-Fi         0.03  \n",
       "253268            Drama,Sci-Fi         0.03  \n",
       "187642  Fantasy,Romance,Sci-Fi         0.03  \n",
       "199561    Drama,Romance,Sci-Fi         0.03  "
      ]
     },
     "execution_count": 33,
     "metadata": {},
     "output_type": "execute_result"
    }
   ],
   "source": [
    "scifi_final.tail(5)"
   ]
  },
  {
   "cell_type": "code",
   "execution_count": 29,
   "metadata": {},
   "outputs": [],
   "source": [
    "scifi_final.to_csv('scifiFinal.csv')"
   ]
  }
 ],
 "metadata": {
  "kernelspec": {
   "display_name": "Python 3.9.12 ('base')",
   "language": "python",
   "name": "python3"
  },
  "language_info": {
   "codemirror_mode": {
    "name": "ipython",
    "version": 3
   },
   "file_extension": ".py",
   "mimetype": "text/x-python",
   "name": "python",
   "nbconvert_exporter": "python",
   "pygments_lexer": "ipython3",
   "version": "3.9.12"
  },
  "orig_nbformat": 4,
  "vscode": {
   "interpreter": {
    "hash": "7473d73b0517ab6f64aa731f2cb80c0acf19c95420055020da77d830c23b4531"
   }
  }
 },
 "nbformat": 4,
 "nbformat_minor": 2
}
