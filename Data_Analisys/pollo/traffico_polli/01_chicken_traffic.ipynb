{
 "cells": [
  {
   "cell_type": "code",
   "execution_count": 2,
   "metadata": {},
   "outputs": [],
   "source": [
    "import pandas as pd \n",
    "import seaborn as sns \n",
    "pd.set_option('display.float_format', '{:,.2f}'.format)\n"
   ]
  },
  {
   "cell_type": "code",
   "execution_count": 3,
   "metadata": {},
   "outputs": [],
   "source": [
    "df = pd.read_csv(\"./FAO.csv\")\n"
   ]
  },
  {
   "cell_type": "markdown",
   "metadata": {},
   "source": [
    "## Spulciamo alcune info dal nostro DATAFRAME"
   ]
  },
  {
   "cell_type": "code",
   "execution_count": 4,
   "metadata": {},
   "outputs": [
    {
     "data": {
      "text/html": [
       "<div>\n",
       "<style scoped>\n",
       "    .dataframe tbody tr th:only-of-type {\n",
       "        vertical-align: middle;\n",
       "    }\n",
       "\n",
       "    .dataframe tbody tr th {\n",
       "        vertical-align: top;\n",
       "    }\n",
       "\n",
       "    .dataframe thead th {\n",
       "        text-align: right;\n",
       "    }\n",
       "</style>\n",
       "<table border=\"1\" class=\"dataframe\">\n",
       "  <thead>\n",
       "    <tr style=\"text-align: right;\">\n",
       "      <th></th>\n",
       "      <th>Domain Code</th>\n",
       "      <th>Domain</th>\n",
       "      <th>Area Code</th>\n",
       "      <th>Area</th>\n",
       "      <th>Element Code</th>\n",
       "      <th>Element</th>\n",
       "      <th>Item Code</th>\n",
       "      <th>Item</th>\n",
       "      <th>Year Code</th>\n",
       "      <th>Year</th>\n",
       "      <th>Unit</th>\n",
       "      <th>Value</th>\n",
       "      <th>Flag</th>\n",
       "      <th>Flag Description</th>\n",
       "    </tr>\n",
       "  </thead>\n",
       "  <tbody>\n",
       "    <tr>\n",
       "      <th>3152</th>\n",
       "      <td>TA</td>\n",
       "      <td>Live animals</td>\n",
       "      <td>16</td>\n",
       "      <td>Bangladesh</td>\n",
       "      <td>5622</td>\n",
       "      <td>Import Value</td>\n",
       "      <td>1140</td>\n",
       "      <td>Rabbits and hares</td>\n",
       "      <td>2017</td>\n",
       "      <td>2017</td>\n",
       "      <td>1000 US$</td>\n",
       "      <td>5.00</td>\n",
       "      <td>*</td>\n",
       "      <td>Unofficial figure</td>\n",
       "    </tr>\n",
       "    <tr>\n",
       "      <th>25522</th>\n",
       "      <td>TA</td>\n",
       "      <td>Live animals</td>\n",
       "      <td>256</td>\n",
       "      <td>Luxembourg</td>\n",
       "      <td>5922</td>\n",
       "      <td>Export Value</td>\n",
       "      <td>1157</td>\n",
       "      <td>Camelids, other</td>\n",
       "      <td>2010</td>\n",
       "      <td>2010</td>\n",
       "      <td>1000 US$</td>\n",
       "      <td>0.00</td>\n",
       "      <td>F</td>\n",
       "      <td>FAO estimate</td>\n",
       "    </tr>\n",
       "    <tr>\n",
       "      <th>24649</th>\n",
       "      <td>TA</td>\n",
       "      <td>Live animals</td>\n",
       "      <td>122</td>\n",
       "      <td>Lesotho</td>\n",
       "      <td>5622</td>\n",
       "      <td>Import Value</td>\n",
       "      <td>1171</td>\n",
       "      <td>Animals live nes</td>\n",
       "      <td>2016</td>\n",
       "      <td>2016</td>\n",
       "      <td>1000 US$</td>\n",
       "      <td>69.00</td>\n",
       "      <td>R</td>\n",
       "      <td>Estimated data using trading partners database</td>\n",
       "    </tr>\n",
       "  </tbody>\n",
       "</table>\n",
       "</div>"
      ],
      "text/plain": [
       "      Domain Code        Domain  Area Code        Area  Element Code  \\\n",
       "3152           TA  Live animals         16  Bangladesh          5622   \n",
       "25522          TA  Live animals        256  Luxembourg          5922   \n",
       "24649          TA  Live animals        122     Lesotho          5622   \n",
       "\n",
       "            Element  Item Code               Item  Year Code  Year      Unit  \\\n",
       "3152   Import Value       1140  Rabbits and hares       2017  2017  1000 US$   \n",
       "25522  Export Value       1157    Camelids, other       2010  2010  1000 US$   \n",
       "24649  Import Value       1171   Animals live nes       2016  2016  1000 US$   \n",
       "\n",
       "       Value Flag                                Flag Description  \n",
       "3152    5.00    *                               Unofficial figure  \n",
       "25522   0.00    F                                    FAO estimate  \n",
       "24649  69.00    R  Estimated data using trading partners database  "
      ]
     },
     "execution_count": 4,
     "metadata": {},
     "output_type": "execute_result"
    }
   ],
   "source": [
    "df.sample(3)"
   ]
  },
  {
   "cell_type": "code",
   "execution_count": 5,
   "metadata": {},
   "outputs": [
    {
     "data": {
      "text/html": [
       "<div>\n",
       "<style scoped>\n",
       "    .dataframe tbody tr th:only-of-type {\n",
       "        vertical-align: middle;\n",
       "    }\n",
       "\n",
       "    .dataframe tbody tr th {\n",
       "        vertical-align: top;\n",
       "    }\n",
       "\n",
       "    .dataframe thead th {\n",
       "        text-align: right;\n",
       "    }\n",
       "</style>\n",
       "<table border=\"1\" class=\"dataframe\">\n",
       "  <thead>\n",
       "    <tr style=\"text-align: right;\">\n",
       "      <th></th>\n",
       "      <th>Area Code</th>\n",
       "      <th>Element Code</th>\n",
       "      <th>Item Code</th>\n",
       "      <th>Year Code</th>\n",
       "      <th>Year</th>\n",
       "      <th>Value</th>\n",
       "    </tr>\n",
       "  </thead>\n",
       "  <tbody>\n",
       "    <tr>\n",
       "      <th>count</th>\n",
       "      <td>47,780.00</td>\n",
       "      <td>47,780.00</td>\n",
       "      <td>47,780.00</td>\n",
       "      <td>47,780.00</td>\n",
       "      <td>47,780.00</td>\n",
       "      <td>44,440.00</td>\n",
       "    </tr>\n",
       "    <tr>\n",
       "      <th>mean</th>\n",
       "      <td>132.72</td>\n",
       "      <td>5,744.66</td>\n",
       "      <td>1,053.36</td>\n",
       "      <td>2,012.96</td>\n",
       "      <td>2,012.96</td>\n",
       "      <td>34,889.01</td>\n",
       "    </tr>\n",
       "    <tr>\n",
       "      <th>std</th>\n",
       "      <td>77.43</td>\n",
       "      <td>148.72</td>\n",
       "      <td>87.00</td>\n",
       "      <td>2.23</td>\n",
       "      <td>2.23</td>\n",
       "      <td>344,940.24</td>\n",
       "    </tr>\n",
       "    <tr>\n",
       "      <th>min</th>\n",
       "      <td>1.00</td>\n",
       "      <td>5,607.00</td>\n",
       "      <td>866.00</td>\n",
       "      <td>2,010.00</td>\n",
       "      <td>2,010.00</td>\n",
       "      <td>0.00</td>\n",
       "    </tr>\n",
       "    <tr>\n",
       "      <th>25%</th>\n",
       "      <td>67.00</td>\n",
       "      <td>5,609.00</td>\n",
       "      <td>1,016.00</td>\n",
       "      <td>2,011.00</td>\n",
       "      <td>2,011.00</td>\n",
       "      <td>0.00</td>\n",
       "    </tr>\n",
       "    <tr>\n",
       "      <th>50%</th>\n",
       "      <td>130.00</td>\n",
       "      <td>5,622.00</td>\n",
       "      <td>1,068.00</td>\n",
       "      <td>2,013.00</td>\n",
       "      <td>2,013.00</td>\n",
       "      <td>46.00</td>\n",
       "    </tr>\n",
       "    <tr>\n",
       "      <th>75%</th>\n",
       "      <td>199.00</td>\n",
       "      <td>5,909.00</td>\n",
       "      <td>1,110.00</td>\n",
       "      <td>2,015.00</td>\n",
       "      <td>2,015.00</td>\n",
       "      <td>1,585.00</td>\n",
       "    </tr>\n",
       "    <tr>\n",
       "      <th>max</th>\n",
       "      <td>351.00</td>\n",
       "      <td>5,922.00</td>\n",
       "      <td>1,181.00</td>\n",
       "      <td>2,017.00</td>\n",
       "      <td>2,017.00</td>\n",
       "      <td>15,542,605.00</td>\n",
       "    </tr>\n",
       "  </tbody>\n",
       "</table>\n",
       "</div>"
      ],
      "text/plain": [
       "       Area Code  Element Code  Item Code  Year Code      Year         Value\n",
       "count  47,780.00     47,780.00  47,780.00  47,780.00 47,780.00     44,440.00\n",
       "mean      132.72      5,744.66   1,053.36   2,012.96  2,012.96     34,889.01\n",
       "std        77.43        148.72      87.00       2.23      2.23    344,940.24\n",
       "min         1.00      5,607.00     866.00   2,010.00  2,010.00          0.00\n",
       "25%        67.00      5,609.00   1,016.00   2,011.00  2,011.00          0.00\n",
       "50%       130.00      5,622.00   1,068.00   2,013.00  2,013.00         46.00\n",
       "75%       199.00      5,909.00   1,110.00   2,015.00  2,015.00      1,585.00\n",
       "max       351.00      5,922.00   1,181.00   2,017.00  2,017.00 15,542,605.00"
      ]
     },
     "execution_count": 5,
     "metadata": {},
     "output_type": "execute_result"
    }
   ],
   "source": [
    "df.describe()"
   ]
  },
  {
   "cell_type": "code",
   "execution_count": 6,
   "metadata": {},
   "outputs": [
    {
     "data": {
      "text/plain": [
       "array(['Animals live nes', 'Animals, live, non-food', 'Buffaloes',\n",
       "       'Camels', 'Cattle', 'Chickens', 'Ducks', 'Goats', 'Horses', 'Pigs',\n",
       "       'Sheep', 'Turkeys', 'Asses', 'Beehives', 'Mules',\n",
       "       'Camelids, other', 'Rabbits and hares', 'Rodents, other'],\n",
       "      dtype=object)"
      ]
     },
     "execution_count": 6,
     "metadata": {},
     "output_type": "execute_result"
    }
   ],
   "source": [
    "df['Item'].unique()"
   ]
  },
  {
   "cell_type": "code",
   "execution_count": 7,
   "metadata": {},
   "outputs": [
    {
     "data": {
      "text/plain": [
       "<AxesSubplot:>"
      ]
     },
     "execution_count": 7,
     "metadata": {},
     "output_type": "execute_result"
    },
    {
     "data": {
      "image/png": "[encoded data removed]",
      "text/plain": [
       "<Figure size 432x288 with 1 Axes>"
      ]
     },
     "metadata": {
      "needs_background": "light"
     },
     "output_type": "display_data"
    }
   ],
   "source": [
    "counts = df['Item'].value_counts()\n",
    "counts.plot.bar()"
   ]
  },
  {
   "cell_type": "markdown",
   "metadata": {},
   "source": [
    "## Usiamo tabella pivot, strumento potente e versatile"
   ]
  },
  {
   "cell_type": "code",
   "execution_count": 8,
   "metadata": {},
   "outputs": [],
   "source": [
    "pivot = df.pivot_table(index=[\"Area\", \"Year\"], columns=[\"Element\"], values=\"Value\")\n",
    "# TODO Rivedere bene tabelle pivot con PANDAS"
   ]
  },
  {
   "cell_type": "code",
   "execution_count": 9,
   "metadata": {},
   "outputs": [
    {
     "data": {
      "text/html": [
       "<div>\n",
       "<style scoped>\n",
       "    .dataframe tbody tr th:only-of-type {\n",
       "        vertical-align: middle;\n",
       "    }\n",
       "\n",
       "    .dataframe tbody tr th {\n",
       "        vertical-align: top;\n",
       "    }\n",
       "\n",
       "    .dataframe thead th {\n",
       "        text-align: right;\n",
       "    }\n",
       "</style>\n",
       "<table border=\"1\" class=\"dataframe\">\n",
       "  <thead>\n",
       "    <tr style=\"text-align: right;\">\n",
       "      <th></th>\n",
       "      <th>Element</th>\n",
       "      <th>Export Quantity</th>\n",
       "      <th>Export Value</th>\n",
       "      <th>Import Quantity</th>\n",
       "      <th>Import Value</th>\n",
       "    </tr>\n",
       "    <tr>\n",
       "      <th>Area</th>\n",
       "      <th>Year</th>\n",
       "      <th></th>\n",
       "      <th></th>\n",
       "      <th></th>\n",
       "      <th></th>\n",
       "    </tr>\n",
       "  </thead>\n",
       "  <tbody>\n",
       "    <tr>\n",
       "      <th rowspan=\"5\" valign=\"top\">Afghanistan</th>\n",
       "      <th>2010</th>\n",
       "      <td>0.00</td>\n",
       "      <td>0.00</td>\n",
       "      <td>1,474.67</td>\n",
       "      <td>1,191.00</td>\n",
       "    </tr>\n",
       "    <tr>\n",
       "      <th>2011</th>\n",
       "      <td>0.00</td>\n",
       "      <td>0.00</td>\n",
       "      <td>1,594.00</td>\n",
       "      <td>2,142.00</td>\n",
       "    </tr>\n",
       "    <tr>\n",
       "      <th>2012</th>\n",
       "      <td>0.00</td>\n",
       "      <td>0.00</td>\n",
       "      <td>2,817.67</td>\n",
       "      <td>1,474.00</td>\n",
       "    </tr>\n",
       "    <tr>\n",
       "      <th>2013</th>\n",
       "      <td>0.00</td>\n",
       "      <td>0.00</td>\n",
       "      <td>30,923.33</td>\n",
       "      <td>7,942.33</td>\n",
       "    </tr>\n",
       "    <tr>\n",
       "      <th>2014</th>\n",
       "      <td>565.00</td>\n",
       "      <td>182.25</td>\n",
       "      <td>20,224.20</td>\n",
       "      <td>5,769.00</td>\n",
       "    </tr>\n",
       "    <tr>\n",
       "      <th>...</th>\n",
       "      <th>...</th>\n",
       "      <td>...</td>\n",
       "      <td>...</td>\n",
       "      <td>...</td>\n",
       "      <td>...</td>\n",
       "    </tr>\n",
       "    <tr>\n",
       "      <th rowspan=\"5\" valign=\"top\">Zimbabwe</th>\n",
       "      <th>2013</th>\n",
       "      <td>94.91</td>\n",
       "      <td>166.77</td>\n",
       "      <td>710.60</td>\n",
       "      <td>550.45</td>\n",
       "    </tr>\n",
       "    <tr>\n",
       "      <th>2014</th>\n",
       "      <td>513.00</td>\n",
       "      <td>742.50</td>\n",
       "      <td>1,495.67</td>\n",
       "      <td>967.57</td>\n",
       "    </tr>\n",
       "    <tr>\n",
       "      <th>2015</th>\n",
       "      <td>758.33</td>\n",
       "      <td>973.00</td>\n",
       "      <td>921.50</td>\n",
       "      <td>1,180.43</td>\n",
       "    </tr>\n",
       "    <tr>\n",
       "      <th>2016</th>\n",
       "      <td>227.00</td>\n",
       "      <td>614.00</td>\n",
       "      <td>452.86</td>\n",
       "      <td>639.38</td>\n",
       "    </tr>\n",
       "    <tr>\n",
       "      <th>2017</th>\n",
       "      <td>142.67</td>\n",
       "      <td>557.75</td>\n",
       "      <td>537.71</td>\n",
       "      <td>444.50</td>\n",
       "    </tr>\n",
       "  </tbody>\n",
       "</table>\n",
       "<p>1634 rows × 4 columns</p>\n",
       "</div>"
      ],
      "text/plain": [
       "Element           Export Quantity  Export Value  Import Quantity  Import Value\n",
       "Area        Year                                                              \n",
       "Afghanistan 2010             0.00          0.00         1,474.67      1,191.00\n",
       "            2011             0.00          0.00         1,594.00      2,142.00\n",
       "            2012             0.00          0.00         2,817.67      1,474.00\n",
       "            2013             0.00          0.00        30,923.33      7,942.33\n",
       "            2014           565.00        182.25        20,224.20      5,769.00\n",
       "...                           ...           ...              ...           ...\n",
       "Zimbabwe    2013            94.91        166.77           710.60        550.45\n",
       "            2014           513.00        742.50         1,495.67        967.57\n",
       "            2015           758.33        973.00           921.50      1,180.43\n",
       "            2016           227.00        614.00           452.86        639.38\n",
       "            2017           142.67        557.75           537.71        444.50\n",
       "\n",
       "[1634 rows x 4 columns]"
      ]
     },
     "execution_count": 9,
     "metadata": {},
     "output_type": "execute_result"
    }
   ],
   "source": [
    "pivot"
   ]
  },
  {
   "cell_type": "code",
   "execution_count": 10,
   "metadata": {},
   "outputs": [],
   "source": [
    "pivot.to_excel('pivot.xlsx')"
   ]
  },
  {
   "cell_type": "code",
   "execution_count": 11,
   "metadata": {},
   "outputs": [],
   "source": [
    "chicken_filter = df['Item'] == 'Chickens' # Series di valori booleani"
   ]
  },
  {
   "cell_type": "code",
   "execution_count": 12,
   "metadata": {},
   "outputs": [],
   "source": [
    "chickens = df[chicken_filter]"
   ]
  },
  {
   "cell_type": "markdown",
   "metadata": {},
   "source": [
    "## Costruiamo una colonna per valori non confrontabili\n",
    "Ci sono alcuni animali in cui i valori sono espressi in migliaia di capi ed altri in migliaia di dollari."
   ]
  },
  {
   "cell_type": "code",
   "execution_count": 13,
   "metadata": {},
   "outputs": [
    {
     "data": {
      "text/plain": [
       "1000 Head    2576\n",
       "1000 US$     2576\n",
       "Name: Unit, dtype: int64"
      ]
     },
     "execution_count": 13,
     "metadata": {},
     "output_type": "execute_result"
    }
   ],
   "source": [
    "chickens['Unit'].value_counts()"
   ]
  },
  {
   "cell_type": "code",
   "execution_count": 14,
   "metadata": {},
   "outputs": [
    {
     "name": "stderr",
     "output_type": "stream",
     "text": [
      "/tmp/ipykernel_45750/2807612244.py:1: SettingWithCopyWarning: \n",
      "A value is trying to be set on a copy of a slice from a DataFrame.\n",
      "Try using .loc[row_indexer,col_indexer] = value instead\n",
      "\n",
      "See the caveats in the documentation: https://pandas.pydata.org/pandas-docs/stable/user_guide/indexing.html#returning-a-view-versus-a-copy\n",
      "  chickens['Value_Extended'] = chickens['Value'] * 1000\n"
     ]
    }
   ],
   "source": [
    "chickens['Value_Extended'] = chickens['Value'] * 1000\n",
    "# ora capi e dollari sono rappresentati dal numero naturale!"
   ]
  },
  {
   "cell_type": "code",
   "execution_count": 15,
   "metadata": {},
   "outputs": [],
   "source": [
    "chickens.loc[chickens.Unit == '1000 Head', 'Unit'] = 'Head'\n",
    "chickens.loc[chickens.Unit == '1000 US$', 'Unit'] = 'Dollars'"
   ]
  },
  {
   "cell_type": "code",
   "execution_count": 16,
   "metadata": {},
   "outputs": [],
   "source": [
    "chick_ita = chickens[chickens.Area == 'Italy']\n"
   ]
  },
  {
   "cell_type": "code",
   "execution_count": 17,
   "metadata": {},
   "outputs": [
    {
     "data": {
      "text/plain": [
       "<AxesSubplot:xlabel='Year', ylabel='Value_Extended'>"
      ]
     },
     "execution_count": 17,
     "metadata": {},
     "output_type": "execute_result"
    },
    {
     "data": {
      "image/png": "[encoded data removed]",
      "text/plain": [
       "<Figure size 432x288 with 1 Axes>"
      ]
     },
     "metadata": {
      "needs_background": "light"
     },
     "output_type": "display_data"
    }
   ],
   "source": [
    "sns.lineplot(data=chick_ita, x='Year', y='Value_Extended', hue='Element')"
   ]
  },
  {
   "cell_type": "code",
   "execution_count": 18,
   "metadata": {},
   "outputs": [],
   "source": [
    "chickens.to_csv(\"chickens.csv\")"
   ]
  }
 ],
 "metadata": {
  "kernelspec": {
   "display_name": "Python 3.9.12 ('base')",
   "language": "python",
   "name": "python3"
  },
  "language_info": {
   "codemirror_mode": {
    "name": "ipython",
    "version": 3
   },
   "file_extension": ".py",
   "mimetype": "text/x-python",
   "name": "python",
   "nbconvert_exporter": "python",
   "pygments_lexer": "ipython3",
   "version": "3.9.12"
  },
  "orig_nbformat": 4,
  "vscode": {
   "interpreter": {
    "hash": "7473d73b0517ab6f64aa731f2cb80c0acf19c95420055020da77d830c23b4531"
   }
  }
 },
 "nbformat": 4,
 "nbformat_minor": 2
}
