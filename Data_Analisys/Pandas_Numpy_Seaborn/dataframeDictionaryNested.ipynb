{
 "cells": [
  {
   "cell_type": "code",
   "execution_count": 3,
   "metadata": {},
   "outputs": [],
   "source": [
    "import pandas as pd"
   ]
  },
  {
   "cell_type": "code",
   "execution_count": 4,
   "metadata": {},
   "outputs": [],
   "source": [
    "elenco_dict = {\n",
    "    \"primo grado\":  {\n",
    "        \"classe A\": {\"nome\": \"andrea\", \"cognome\": \"prestini\"},\n",
    "        \"classe B\": {\"nome\": \"eleonora\", \"cognome\": \"favagrossa\"}\n",
    "    },\n",
    "    \"secondo grado\": {\n",
    "        \"classe A\": {\"nome\": \"mario\", \"cognome\": \"mometto\"},\n",
    "        \"classe B\": {\"nome\": \"roberto\", \"cognome\": \"tanzini\"}\n",
    "    }\n",
    "}\n"
   ]
  },
  {
   "cell_type": "code",
   "execution_count": 5,
   "metadata": {},
   "outputs": [
    {
     "data": {
      "text/html": [
       "<div>\n",
       "<style scoped>\n",
       "    .dataframe tbody tr th:only-of-type {\n",
       "        vertical-align: middle;\n",
       "    }\n",
       "\n",
       "    .dataframe tbody tr th {\n",
       "        vertical-align: top;\n",
       "    }\n",
       "\n",
       "    .dataframe thead th {\n",
       "        text-align: right;\n",
       "    }\n",
       "</style>\n",
       "<table border=\"1\" class=\"dataframe\">\n",
       "  <thead>\n",
       "    <tr style=\"text-align: right;\">\n",
       "      <th></th>\n",
       "      <th></th>\n",
       "      <th>nome</th>\n",
       "      <th>cognome</th>\n",
       "    </tr>\n",
       "  </thead>\n",
       "  <tbody>\n",
       "    <tr>\n",
       "      <th rowspan=\"2\" valign=\"top\">primo grado</th>\n",
       "      <th>classe A</th>\n",
       "      <td>andrea</td>\n",
       "      <td>prestini</td>\n",
       "    </tr>\n",
       "    <tr>\n",
       "      <th>classe B</th>\n",
       "      <td>eleonora</td>\n",
       "      <td>favagrossa</td>\n",
       "    </tr>\n",
       "    <tr>\n",
       "      <th rowspan=\"2\" valign=\"top\">secondo grado</th>\n",
       "      <th>classe A</th>\n",
       "      <td>mario</td>\n",
       "      <td>mometto</td>\n",
       "    </tr>\n",
       "    <tr>\n",
       "      <th>classe B</th>\n",
       "      <td>roberto</td>\n",
       "      <td>tanzini</td>\n",
       "    </tr>\n",
       "  </tbody>\n",
       "</table>\n",
       "</div>"
      ],
      "text/plain": [
       "                            nome     cognome\n",
       "primo grado   classe A    andrea    prestini\n",
       "              classe B  eleonora  favagrossa\n",
       "secondo grado classe A     mario     mometto\n",
       "              classe B   roberto     tanzini"
      ]
     },
     "execution_count": 5,
     "metadata": {},
     "output_type": "execute_result"
    }
   ],
   "source": [
    "elenco_df = pd.DataFrame.from_dict({(i, j): elenco_dict[i][j]\n",
    "                                    for i in elenco_dict.keys()\n",
    "                                    for j in elenco_dict[i].keys()},\n",
    "                                   orient='index')\n",
    "elenco_df\n"
   ]
  }
 ],
 "metadata": {
  "kernelspec": {
   "display_name": "Python 3.9.12 ('base')",
   "language": "python",
   "name": "python3"
  },
  "language_info": {
   "codemirror_mode": {
    "name": "ipython",
    "version": 3
   },
   "file_extension": ".py",
   "mimetype": "text/x-python",
   "name": "python",
   "nbconvert_exporter": "python",
   "pygments_lexer": "ipython3",
   "version": "3.9.12"
  },
  "orig_nbformat": 4,
  "vscode": {
   "interpreter": {
    "hash": "7473d73b0517ab6f64aa731f2cb80c0acf19c95420055020da77d830c23b4531"
   }
  }
 },
 "nbformat": 4,
 "nbformat_minor": 2
}
