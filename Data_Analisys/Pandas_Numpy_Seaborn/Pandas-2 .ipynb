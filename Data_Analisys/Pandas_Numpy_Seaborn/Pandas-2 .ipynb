{
 "cells": [
  {
   "cell_type": "code",
   "execution_count": 1,
   "id": "f29045dc-2017-4995-8755-d6fca113a4b9",
   "metadata": {},
   "outputs": [],
   "source": [
    "import pandas as pd"
   ]
  },
  {
   "cell_type": "code",
   "execution_count": 2,
   "id": "0b9e1ad8-d76a-40b1-94d5-865f2285ac48",
   "metadata": {},
   "outputs": [],
   "source": [
    "df = pd.read_csv(\"giocatori.csv\")"
   ]
  },
  {
   "cell_type": "code",
   "execution_count": 3,
   "id": "81f152fb-d786-42a2-9d60-ab26007434ce",
   "metadata": {},
   "outputs": [
    {
     "data": {
      "text/plain": [
       "(92487, 3)"
      ]
     },
     "execution_count": 3,
     "metadata": {},
     "output_type": "execute_result"
    }
   ],
   "source": [
    "df.shape"
   ]
  },
  {
   "cell_type": "code",
   "execution_count": 4,
   "id": "6f824b6d-af4f-4f60-a3ba-b73d5af9cce3",
   "metadata": {},
   "outputs": [
    {
     "name": "stdout",
     "output_type": "stream",
     "text": [
      "<class 'pandas.core.frame.DataFrame'>\n",
      "RangeIndex: 92487 entries, 0 to 92486\n",
      "Data columns (total 3 columns):\n",
      " #   Column     Non-Null Count  Dtype \n",
      "---  ------     --------------  ----- \n",
      " 0   genere     92487 non-null  int64 \n",
      " 1   anni       92487 non-null  int64 \n",
      " 2   videogame  92487 non-null  object\n",
      "dtypes: int64(2), object(1)\n",
      "memory usage: 2.1+ MB\n"
     ]
    }
   ],
   "source": [
    "df.info()"
   ]
  },
  {
   "cell_type": "code",
   "execution_count": 5,
   "id": "6c95faa4-e4da-466b-bf56-36c3f5dcd761",
   "metadata": {},
   "outputs": [
    {
     "name": "stdout",
     "output_type": "stream",
     "text": [
      "       genere  anni   videogame\n",
      "1           1    27  gestionale\n",
      "4           0    17  gestionale\n",
      "9           0    29  gestionale\n",
      "10          1    40  gestionale\n",
      "14          0    29  gestionale\n",
      "...       ...   ...         ...\n",
      "92471       0    12  gestionale\n",
      "92477       0    42  gestionale\n",
      "92484       1    23  gestionale\n",
      "92485       0    28  gestionale\n",
      "92486       1    36  gestionale\n",
      "\n",
      "[18886 rows x 3 columns]\n"
     ]
    }
   ],
   "source": [
    "gestionale = df.loc[df[\"videogame\"] == \"gestionale\"]\n",
    "print(gestionale)"
   ]
  },
  {
   "cell_type": "code",
   "execution_count": 6,
   "id": "c94a7fd8-8861-4303-a410-188e0da95613",
   "metadata": {},
   "outputs": [
    {
     "name": "stdout",
     "output_type": "stream",
     "text": [
      "il gestinale è stato scelto da: 18886 persone\n"
     ]
    }
   ],
   "source": [
    "print(\"il gestinale è stato scelto da:\", len(gestionale), \"persone\")"
   ]
  },
  {
   "cell_type": "code",
   "execution_count": 7,
   "id": "1701bfb5-3314-4e8f-96eb-f6f5d447f7e8",
   "metadata": {},
   "outputs": [
    {
     "data": {
      "text/plain": [
       "genere\n",
       "0    27.674336\n",
       "1    27.674329\n",
       "Name: anni, dtype: float64"
      ]
     },
     "execution_count": 7,
     "metadata": {},
     "output_type": "execute_result"
    }
   ],
   "source": [
    "df.groupby([\"genere\"])[\"anni\"].mean()"
   ]
  },
  {
   "cell_type": "code",
   "execution_count": 8,
   "id": "4ee394f8-4124-40d7-a7b7-b163335763a9",
   "metadata": {},
   "outputs": [
    {
     "data": {
      "text/plain": [
       "27.674332608907196"
      ]
     },
     "execution_count": 8,
     "metadata": {},
     "output_type": "execute_result"
    }
   ],
   "source": [
    "df[\"anni\"].mean()"
   ]
  },
  {
   "cell_type": "code",
   "execution_count": 9,
   "id": "312a37f2-8c20-4c89-a249-279ccf873f2e",
   "metadata": {},
   "outputs": [
    {
     "name": "stdout",
     "output_type": "stream",
     "text": [
      "Numero casi per tipologia di videogioco:\n",
      " videogame\n",
      "combattimento    16590\n",
      "fantasy          17109\n",
      "gestionale       18886\n",
      "platform         19643\n",
      "sparatutto       20259\n",
      "Name: anni, dtype: int64\n"
     ]
    }
   ],
   "source": [
    "print(\"Numero casi per tipologia di videogioco:\\n\",df.groupby([\"videogame\"])[\"anni\"].count())"
   ]
  },
  {
   "cell_type": "code",
   "execution_count": 10,
   "id": "bb2c41a3-a198-4154-be26-3bb781913778",
   "metadata": {},
   "outputs": [
    {
     "data": {
      "text/html": [
       "<div>\n",
       "<style scoped>\n",
       "    .dataframe tbody tr th:only-of-type {\n",
       "        vertical-align: middle;\n",
       "    }\n",
       "\n",
       "    .dataframe tbody tr th {\n",
       "        vertical-align: top;\n",
       "    }\n",
       "\n",
       "    .dataframe thead th {\n",
       "        text-align: right;\n",
       "    }\n",
       "</style>\n",
       "<table border=\"1\" class=\"dataframe\">\n",
       "  <thead>\n",
       "    <tr style=\"text-align: right;\">\n",
       "      <th></th>\n",
       "      <th>genere</th>\n",
       "      <th>anni</th>\n",
       "    </tr>\n",
       "    <tr>\n",
       "      <th>videogame</th>\n",
       "      <th></th>\n",
       "      <th></th>\n",
       "    </tr>\n",
       "  </thead>\n",
       "  <tbody>\n",
       "    <tr>\n",
       "      <th>combattimento</th>\n",
       "      <td>16590</td>\n",
       "      <td>16590</td>\n",
       "    </tr>\n",
       "    <tr>\n",
       "      <th>fantasy</th>\n",
       "      <td>17109</td>\n",
       "      <td>17109</td>\n",
       "    </tr>\n",
       "    <tr>\n",
       "      <th>gestionale</th>\n",
       "      <td>18886</td>\n",
       "      <td>18886</td>\n",
       "    </tr>\n",
       "    <tr>\n",
       "      <th>platform</th>\n",
       "      <td>19643</td>\n",
       "      <td>19643</td>\n",
       "    </tr>\n",
       "    <tr>\n",
       "      <th>sparatutto</th>\n",
       "      <td>20259</td>\n",
       "      <td>20259</td>\n",
       "    </tr>\n",
       "  </tbody>\n",
       "</table>\n",
       "</div>"
      ],
      "text/plain": [
       "               genere   anni\n",
       "videogame                   \n",
       "combattimento   16590  16590\n",
       "fantasy         17109  17109\n",
       "gestionale      18886  18886\n",
       "platform        19643  19643\n",
       "sparatutto      20259  20259"
      ]
     },
     "execution_count": 10,
     "metadata": {},
     "output_type": "execute_result"
    }
   ],
   "source": [
    "df.groupby([\"videogame\"]).count()"
   ]
  },
  {
   "cell_type": "code",
   "execution_count": 28,
   "id": "4a78fa17-1d8e-40ba-b2e3-4c5db9895be1",
   "metadata": {},
   "outputs": [
    {
     "data": {
      "text/html": [
       "<div>\n",
       "<style scoped>\n",
       "    .dataframe tbody tr th:only-of-type {\n",
       "        vertical-align: middle;\n",
       "    }\n",
       "\n",
       "    .dataframe tbody tr th {\n",
       "        vertical-align: top;\n",
       "    }\n",
       "\n",
       "    .dataframe thead th {\n",
       "        text-align: right;\n",
       "    }\n",
       "</style>\n",
       "<table border=\"1\" class=\"dataframe\">\n",
       "  <thead>\n",
       "    <tr style=\"text-align: right;\">\n",
       "      <th></th>\n",
       "      <th>genere</th>\n",
       "      <th>anni</th>\n",
       "      <th>videogame</th>\n",
       "    </tr>\n",
       "  </thead>\n",
       "  <tbody>\n",
       "    <tr>\n",
       "      <th>0</th>\n",
       "      <td>1</td>\n",
       "      <td>27</td>\n",
       "      <td>sparatutto</td>\n",
       "    </tr>\n",
       "    <tr>\n",
       "      <th>5</th>\n",
       "      <td>0</td>\n",
       "      <td>19</td>\n",
       "      <td>fantasy</td>\n",
       "    </tr>\n",
       "    <tr>\n",
       "      <th>10</th>\n",
       "      <td>1</td>\n",
       "      <td>40</td>\n",
       "      <td>gestionale</td>\n",
       "    </tr>\n",
       "  </tbody>\n",
       "</table>\n",
       "</div>"
      ],
      "text/plain": [
       "    genere  anni   videogame\n",
       "0        1    27  sparatutto\n",
       "5        0    19     fantasy\n",
       "10       1    40  gestionale"
      ]
     },
     "execution_count": 28,
     "metadata": {},
     "output_type": "execute_result"
    }
   ],
   "source": [
    "df.loc[[0, 5, 10]]"
   ]
  },
  {
   "cell_type": "code",
   "execution_count": 30,
   "id": "3299ba39-19a0-42f2-a535-587e14896ac4",
   "metadata": {},
   "outputs": [
    {
     "data": {
      "text/plain": [
       "0     sparatutto\n",
       "5        fantasy\n",
       "10    gestionale\n",
       "Name: videogame, dtype: object"
      ]
     },
     "execution_count": 30,
     "metadata": {},
     "output_type": "execute_result"
    }
   ],
   "source": [
    "df.loc[[0, 5, 10], \"videogame\"]"
   ]
  },
  {
   "cell_type": "code",
   "execution_count": 34,
   "id": "8f8c4f29-df43-4ef4-a459-e5e5c47f09cb",
   "metadata": {},
   "outputs": [
    {
     "data": {
      "text/html": [
       "<div>\n",
       "<style scoped>\n",
       "    .dataframe tbody tr th:only-of-type {\n",
       "        vertical-align: middle;\n",
       "    }\n",
       "\n",
       "    .dataframe tbody tr th {\n",
       "        vertical-align: top;\n",
       "    }\n",
       "\n",
       "    .dataframe thead th {\n",
       "        text-align: right;\n",
       "    }\n",
       "</style>\n",
       "<table border=\"1\" class=\"dataframe\">\n",
       "  <thead>\n",
       "    <tr style=\"text-align: right;\">\n",
       "      <th></th>\n",
       "      <th>anni</th>\n",
       "      <th>videogame</th>\n",
       "    </tr>\n",
       "  </thead>\n",
       "  <tbody>\n",
       "    <tr>\n",
       "      <th>0</th>\n",
       "      <td>27</td>\n",
       "      <td>sparatutto</td>\n",
       "    </tr>\n",
       "    <tr>\n",
       "      <th>1</th>\n",
       "      <td>27</td>\n",
       "      <td>gestionale</td>\n",
       "    </tr>\n",
       "    <tr>\n",
       "      <th>2</th>\n",
       "      <td>27</td>\n",
       "      <td>combattimento</td>\n",
       "    </tr>\n",
       "    <tr>\n",
       "      <th>3</th>\n",
       "      <td>27</td>\n",
       "      <td>fantasy</td>\n",
       "    </tr>\n",
       "    <tr>\n",
       "      <th>4</th>\n",
       "      <td>17</td>\n",
       "      <td>gestionale</td>\n",
       "    </tr>\n",
       "    <tr>\n",
       "      <th>5</th>\n",
       "      <td>19</td>\n",
       "      <td>fantasy</td>\n",
       "    </tr>\n",
       "    <tr>\n",
       "      <th>6</th>\n",
       "      <td>30</td>\n",
       "      <td>sparatutto</td>\n",
       "    </tr>\n",
       "    <tr>\n",
       "      <th>7</th>\n",
       "      <td>32</td>\n",
       "      <td>fantasy</td>\n",
       "    </tr>\n",
       "    <tr>\n",
       "      <th>8</th>\n",
       "      <td>34</td>\n",
       "      <td>platform</td>\n",
       "    </tr>\n",
       "  </tbody>\n",
       "</table>\n",
       "</div>"
      ],
      "text/plain": [
       "   anni      videogame\n",
       "0    27     sparatutto\n",
       "1    27     gestionale\n",
       "2    27  combattimento\n",
       "3    27        fantasy\n",
       "4    17     gestionale\n",
       "5    19        fantasy\n",
       "6    30     sparatutto\n",
       "7    32        fantasy\n",
       "8    34       platform"
      ]
     },
     "execution_count": 34,
     "metadata": {},
     "output_type": "execute_result"
    }
   ],
   "source": [
    "df.loc[0:8,[\"anni\", \"videogame\"]]"
   ]
  },
  {
   "cell_type": "code",
   "execution_count": 50,
   "id": "9cca1f0d-ef51-45a3-a820-adf6f233d023",
   "metadata": {},
   "outputs": [
    {
     "data": {
      "text/html": [
       "<div>\n",
       "<style scoped>\n",
       "    .dataframe tbody tr th:only-of-type {\n",
       "        vertical-align: middle;\n",
       "    }\n",
       "\n",
       "    .dataframe tbody tr th {\n",
       "        vertical-align: top;\n",
       "    }\n",
       "\n",
       "    .dataframe thead th {\n",
       "        text-align: right;\n",
       "    }\n",
       "</style>\n",
       "<table border=\"1\" class=\"dataframe\">\n",
       "  <thead>\n",
       "    <tr style=\"text-align: right;\">\n",
       "      <th></th>\n",
       "      <th>genere</th>\n",
       "      <th>anni</th>\n",
       "      <th>videogame</th>\n",
       "    </tr>\n",
       "  </thead>\n",
       "  <tbody>\n",
       "    <tr>\n",
       "      <th>738</th>\n",
       "      <td>1</td>\n",
       "      <td>12</td>\n",
       "      <td>gestionale</td>\n",
       "    </tr>\n",
       "    <tr>\n",
       "      <th>745</th>\n",
       "      <td>0</td>\n",
       "      <td>12</td>\n",
       "      <td>gestionale</td>\n",
       "    </tr>\n",
       "    <tr>\n",
       "      <th>1619</th>\n",
       "      <td>1</td>\n",
       "      <td>12</td>\n",
       "      <td>gestionale</td>\n",
       "    </tr>\n",
       "    <tr>\n",
       "      <th>2727</th>\n",
       "      <td>1</td>\n",
       "      <td>12</td>\n",
       "      <td>gestionale</td>\n",
       "    </tr>\n",
       "    <tr>\n",
       "      <th>2968</th>\n",
       "      <td>1</td>\n",
       "      <td>12</td>\n",
       "      <td>gestionale</td>\n",
       "    </tr>\n",
       "    <tr>\n",
       "      <th>...</th>\n",
       "      <td>...</td>\n",
       "      <td>...</td>\n",
       "      <td>...</td>\n",
       "    </tr>\n",
       "    <tr>\n",
       "      <th>91083</th>\n",
       "      <td>0</td>\n",
       "      <td>12</td>\n",
       "      <td>gestionale</td>\n",
       "    </tr>\n",
       "    <tr>\n",
       "      <th>91273</th>\n",
       "      <td>0</td>\n",
       "      <td>12</td>\n",
       "      <td>gestionale</td>\n",
       "    </tr>\n",
       "    <tr>\n",
       "      <th>91471</th>\n",
       "      <td>0</td>\n",
       "      <td>12</td>\n",
       "      <td>gestionale</td>\n",
       "    </tr>\n",
       "    <tr>\n",
       "      <th>92153</th>\n",
       "      <td>0</td>\n",
       "      <td>12</td>\n",
       "      <td>gestionale</td>\n",
       "    </tr>\n",
       "    <tr>\n",
       "      <th>92471</th>\n",
       "      <td>0</td>\n",
       "      <td>12</td>\n",
       "      <td>gestionale</td>\n",
       "    </tr>\n",
       "  </tbody>\n",
       "</table>\n",
       "<p>158 rows × 3 columns</p>\n",
       "</div>"
      ],
      "text/plain": [
       "       genere  anni   videogame\n",
       "738         1    12  gestionale\n",
       "745         0    12  gestionale\n",
       "1619        1    12  gestionale\n",
       "2727        1    12  gestionale\n",
       "2968        1    12  gestionale\n",
       "...       ...   ...         ...\n",
       "91083       0    12  gestionale\n",
       "91273       0    12  gestionale\n",
       "91471       0    12  gestionale\n",
       "92153       0    12  gestionale\n",
       "92471       0    12  gestionale\n",
       "\n",
       "[158 rows x 3 columns]"
      ]
     },
     "execution_count": 50,
     "metadata": {},
     "output_type": "execute_result"
    }
   ],
   "source": [
    "df.loc[(df[\"anni\"] < 13) & (df[\"videogame\"] == \"gestionale\")]\n"
   ]
  },
  {
   "cell_type": "code",
   "execution_count": 81,
   "id": "8fae9d03-18af-4438-97d4-59fe46ec8f77",
   "metadata": {},
   "outputs": [
    {
     "data": {
      "text/plain": [
       "videogame\n",
       "combattimento    402\n",
       "fantasy          163\n",
       "gestionale       158\n",
       "platform         421\n",
       "sparatutto       270\n",
       "Name: anni, dtype: int64"
      ]
     },
     "execution_count": 81,
     "metadata": {},
     "output_type": "execute_result"
    }
   ],
   "source": [
    "df.loc[df[\"anni\"] < 13].groupby([\"videogame\"])[\"anni\"].count()"
   ]
  },
  {
   "cell_type": "code",
   "execution_count": null,
   "id": "08d0960c-b3f1-4096-acbd-213c2489fa6b",
   "metadata": {},
   "outputs": [],
   "source": []
  }
 ],
 "metadata": {
  "kernelspec": {
   "display_name": "Python 3 (ipykernel)",
   "language": "python",
   "name": "python3"
  },
  "language_info": {
   "codemirror_mode": {
    "name": "ipython",
    "version": 3
   },
   "file_extension": ".py",
   "mimetype": "text/x-python",
   "name": "python",
   "nbconvert_exporter": "python",
   "pygments_lexer": "ipython3",
   "version": "3.9.12"
  }
 },
 "nbformat": 4,
 "nbformat_minor": 5
}
