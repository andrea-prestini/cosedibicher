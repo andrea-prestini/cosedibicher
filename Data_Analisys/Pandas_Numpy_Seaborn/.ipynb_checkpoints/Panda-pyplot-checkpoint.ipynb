{
 "cells": [
  {
   "cell_type": "code",
   "execution_count": 2,
   "metadata": {},
   "outputs": [],
   "source": [
    "import numpy as np\n",
    "import matplotlib.pyplot as plt\n",
    "import pandas as pd"
   ]
  },
  {
   "cell_type": "code",
   "execution_count": 3,
   "metadata": {},
   "outputs": [],
   "source": [
    "%matplotlib inline"
   ]
  },
  {
   "cell_type": "code",
   "execution_count": 4,
   "metadata": {},
   "outputs": [],
   "source": [
    "dfield = pd.read_csv(\"incassi.csv\", index_col=None)"
   ]
  },
  {
   "cell_type": "code",
   "execution_count": 6,
   "metadata": {},
   "outputs": [
    {
     "data": {
      "text/html": [
       "<div>\n",
       "<style scoped>\n",
       "    .dataframe tbody tr th:only-of-type {\n",
       "        vertical-align: middle;\n",
       "    }\n",
       "\n",
       "    .dataframe tbody tr th {\n",
       "        vertical-align: top;\n",
       "    }\n",
       "\n",
       "    .dataframe thead th {\n",
       "        text-align: right;\n",
       "    }\n",
       "</style>\n",
       "<table border=\"1\" class=\"dataframe\">\n",
       "  <thead>\n",
       "    <tr style=\"text-align: right;\">\n",
       "      <th></th>\n",
       "      <th>descrizione</th>\n",
       "      <th>ente</th>\n",
       "      <th>cap</th>\n",
       "      <th>provincia</th>\n",
       "      <th>tipo</th>\n",
       "      <th>importo</th>\n",
       "    </tr>\n",
       "  </thead>\n",
       "  <tbody>\n",
       "    <tr>\n",
       "      <th>0</th>\n",
       "      <td>Intesa Sanpaolo</td>\n",
       "      <td>Comunità Montana di Valle Trompia</td>\n",
       "      <td>25063</td>\n",
       "      <td>BS</td>\n",
       "      <td>sportellotelematico</td>\n",
       "      <td>5.10</td>\n",
       "    </tr>\n",
       "    <tr>\n",
       "      <th>1</th>\n",
       "      <td>Paytipper S.p.A.</td>\n",
       "      <td>Comune di Vigevano</td>\n",
       "      <td>27029</td>\n",
       "      <td>PV</td>\n",
       "      <td>acm_rettascuola</td>\n",
       "      <td>5.10</td>\n",
       "    </tr>\n",
       "    <tr>\n",
       "      <th>2</th>\n",
       "      <td>Paytipper S.p.A.</td>\n",
       "      <td>Comune di Vigevano</td>\n",
       "      <td>27029</td>\n",
       "      <td>PV</td>\n",
       "      <td>acm_rettascuola</td>\n",
       "      <td>5.10</td>\n",
       "    </tr>\n",
       "    <tr>\n",
       "      <th>3</th>\n",
       "      <td>SISAL</td>\n",
       "      <td>Comune di Lurate Caccivio</td>\n",
       "      <td>22075</td>\n",
       "      <td>CO</td>\n",
       "      <td>mensascolastica</td>\n",
       "      <td>5.10</td>\n",
       "    </tr>\n",
       "    <tr>\n",
       "      <th>4</th>\n",
       "      <td>SISAL</td>\n",
       "      <td>Comune di Vigevano</td>\n",
       "      <td>27029</td>\n",
       "      <td>PV</td>\n",
       "      <td>dirittisegreteria</td>\n",
       "      <td>5.10</td>\n",
       "    </tr>\n",
       "  </tbody>\n",
       "</table>\n",
       "</div>"
      ],
      "text/plain": [
       "        descrizione                               ente    cap provincia  \\\n",
       "0   Intesa Sanpaolo  Comunità Montana di Valle Trompia  25063        BS   \n",
       "1  Paytipper S.p.A.                 Comune di Vigevano  27029        PV   \n",
       "2  Paytipper S.p.A.                 Comune di Vigevano  27029        PV   \n",
       "3             SISAL          Comune di Lurate Caccivio  22075        CO   \n",
       "4             SISAL                 Comune di Vigevano  27029        PV   \n",
       "\n",
       "                  tipo importo  \n",
       "0  sportellotelematico    5.10  \n",
       "1      acm_rettascuola    5.10  \n",
       "2      acm_rettascuola    5.10  \n",
       "3      mensascolastica    5.10  \n",
       "4    dirittisegreteria    5.10  "
      ]
     },
     "execution_count": 6,
     "metadata": {},
     "output_type": "execute_result"
    }
   ],
   "source": [
    "dfield.head(5)"
   ]
  },
  {
   "cell_type": "code",
   "execution_count": 108,
   "metadata": {},
   "outputs": [
    {
     "data": {
      "text/plain": [
       "count     45323\n",
       "unique     3373\n",
       "top        18.3\n",
       "freq       3321\n",
       "Name: importo, dtype: object"
      ]
     },
     "execution_count": 108,
     "metadata": {},
     "output_type": "execute_result"
    }
   ],
   "source": [
    "dfield.importo.describe()"
   ]
  },
  {
   "cell_type": "code",
   "execution_count": 109,
   "metadata": {},
   "outputs": [
    {
     "data": {
      "text/plain": [
       "count     43572\n",
       "unique       14\n",
       "top          MI\n",
       "freq      18153\n",
       "Name: provincia, dtype: object"
      ]
     },
     "execution_count": 109,
     "metadata": {},
     "output_type": "execute_result"
    }
   ],
   "source": [
    "dfield.provincia.describe()"
   ]
  },
  {
   "cell_type": "code",
   "execution_count": 110,
   "metadata": {},
   "outputs": [
    {
     "data": {
      "text/plain": [
       "descrizione               object\n",
       "ente                      object\n",
       "cap                       object\n",
       "provincia                 object\n",
       "tipo                      object\n",
       "giorno_della_settimana     int64\n",
       "importo                   object\n",
       "dtype: object"
      ]
     },
     "execution_count": 110,
     "metadata": {},
     "output_type": "execute_result"
    }
   ],
   "source": [
    "dfield.dtypes"
   ]
  },
  {
   "cell_type": "code",
   "execution_count": 111,
   "metadata": {},
   "outputs": [
    {
     "data": {
      "text/plain": [
       "count     45323\n",
       "unique     3373\n",
       "top        18.3\n",
       "freq       3321\n",
       "Name: importo, dtype: object"
      ]
     },
     "execution_count": 111,
     "metadata": {},
     "output_type": "execute_result"
    }
   ],
   "source": [
    "dfield.importo.describe()"
   ]
  },
  {
   "cell_type": "code",
   "execution_count": 112,
   "metadata": {},
   "outputs": [
    {
     "data": {
      "text/html": [
       "<div>\n",
       "<style scoped>\n",
       "    .dataframe tbody tr th:only-of-type {\n",
       "        vertical-align: middle;\n",
       "    }\n",
       "\n",
       "    .dataframe tbody tr th {\n",
       "        vertical-align: top;\n",
       "    }\n",
       "\n",
       "    .dataframe thead th {\n",
       "        text-align: right;\n",
       "    }\n",
       "</style>\n",
       "<table border=\"1\" class=\"dataframe\">\n",
       "  <thead>\n",
       "    <tr style=\"text-align: right;\">\n",
       "      <th></th>\n",
       "      <th>descrizione</th>\n",
       "      <th>ente</th>\n",
       "      <th>provincia</th>\n",
       "      <th>tipo</th>\n",
       "      <th>importo</th>\n",
       "    </tr>\n",
       "  </thead>\n",
       "  <tbody>\n",
       "    <tr>\n",
       "      <th>0</th>\n",
       "      <td>Intesa Sanpaolo</td>\n",
       "      <td>Comunità Montana di Valle Trompia</td>\n",
       "      <td>BS</td>\n",
       "      <td>sportellotelematico</td>\n",
       "      <td>75</td>\n",
       "    </tr>\n",
       "    <tr>\n",
       "      <th>1</th>\n",
       "      <td>Paytipper S.p.A.</td>\n",
       "      <td>Comune di Vigevano</td>\n",
       "      <td>PV</td>\n",
       "      <td>acm_rettascuola</td>\n",
       "      <td>58.64</td>\n",
       "    </tr>\n",
       "    <tr>\n",
       "      <th>2</th>\n",
       "      <td>Paytipper S.p.A.</td>\n",
       "      <td>Comune di Vigevano</td>\n",
       "      <td>PV</td>\n",
       "      <td>acm_rettascuola</td>\n",
       "      <td>72.38</td>\n",
       "    </tr>\n",
       "    <tr>\n",
       "      <th>3</th>\n",
       "      <td>SISAL</td>\n",
       "      <td>Comune di Lurate Caccivio</td>\n",
       "      <td>CO</td>\n",
       "      <td>mensascolastica</td>\n",
       "      <td>120</td>\n",
       "    </tr>\n",
       "    <tr>\n",
       "      <th>4</th>\n",
       "      <td>SISAL</td>\n",
       "      <td>Comune di Vigevano</td>\n",
       "      <td>PV</td>\n",
       "      <td>dirittisegreteria</td>\n",
       "      <td>83.65</td>\n",
       "    </tr>\n",
       "    <tr>\n",
       "      <th>5</th>\n",
       "      <td>Lottomatica</td>\n",
       "      <td>Comune di Vigevano</td>\n",
       "      <td>PV</td>\n",
       "      <td>dirittisegreteria</td>\n",
       "      <td>83.65</td>\n",
       "    </tr>\n",
       "    <tr>\n",
       "      <th>6</th>\n",
       "      <td>SISAL</td>\n",
       "      <td>Comune di Vigevano</td>\n",
       "      <td>PV</td>\n",
       "      <td>acm_mensascuola</td>\n",
       "      <td>100</td>\n",
       "    </tr>\n",
       "    <tr>\n",
       "      <th>7</th>\n",
       "      <td>Lottomatica</td>\n",
       "      <td>Comune di Vigevano</td>\n",
       "      <td>PV</td>\n",
       "      <td>acm_mensascuola</td>\n",
       "      <td>100</td>\n",
       "    </tr>\n",
       "    <tr>\n",
       "      <th>8</th>\n",
       "      <td>Intesa Sanpaolo</td>\n",
       "      <td>Comune di Cantù</td>\n",
       "      <td>CO</td>\n",
       "      <td>mensascolastica</td>\n",
       "      <td>55</td>\n",
       "    </tr>\n",
       "    <tr>\n",
       "      <th>9</th>\n",
       "      <td>SISAL</td>\n",
       "      <td>Comune di Vigevano</td>\n",
       "      <td>PV</td>\n",
       "      <td>acm_mensascuola</td>\n",
       "      <td>100</td>\n",
       "    </tr>\n",
       "  </tbody>\n",
       "</table>\n",
       "</div>"
      ],
      "text/plain": [
       "        descrizione                               ente provincia  \\\n",
       "0   Intesa Sanpaolo  Comunità Montana di Valle Trompia        BS   \n",
       "1  Paytipper S.p.A.                 Comune di Vigevano        PV   \n",
       "2  Paytipper S.p.A.                 Comune di Vigevano        PV   \n",
       "3             SISAL          Comune di Lurate Caccivio        CO   \n",
       "4             SISAL                 Comune di Vigevano        PV   \n",
       "5       Lottomatica                 Comune di Vigevano        PV   \n",
       "6             SISAL                 Comune di Vigevano        PV   \n",
       "7       Lottomatica                 Comune di Vigevano        PV   \n",
       "8   Intesa Sanpaolo                    Comune di Cantù        CO   \n",
       "9             SISAL                 Comune di Vigevano        PV   \n",
       "\n",
       "                  tipo importo  \n",
       "0  sportellotelematico      75  \n",
       "1      acm_rettascuola   58.64  \n",
       "2      acm_rettascuola   72.38  \n",
       "3      mensascolastica     120  \n",
       "4    dirittisegreteria   83.65  \n",
       "5    dirittisegreteria   83.65  \n",
       "6      acm_mensascuola     100  \n",
       "7      acm_mensascuola     100  \n",
       "8      mensascolastica      55  \n",
       "9      acm_mensascuola     100  "
      ]
     },
     "execution_count": 112,
     "metadata": {},
     "output_type": "execute_result"
    }
   ],
   "source": [
    "dfield.drop([\"cap\", \"giorno_della_settimana\"], axis=1).head(10)"
   ]
  },
  {
   "cell_type": "code",
   "execution_count": 113,
   "metadata": {
    "scrolled": false
   },
   "outputs": [
    {
     "data": {
      "text/plain": [
       "<matplotlib.axes._subplots.AxesSubplot at 0x7f26bc51fad0>"
      ]
     },
     "execution_count": 113,
     "metadata": {},
     "output_type": "execute_result"
    },
    {
     "data": {
      "image/png": "[encoded data removed]",
      "text/plain": [
       "<Figure size 432x288 with 1 Axes>"
      ]
     },
     "metadata": {
      "needs_background": "light"
     },
     "output_type": "display_data"
    }
   ],
   "source": [
    "pd.value_counts(dfield[\"provincia\"]).plot.bar()"
   ]
  },
  {
   "cell_type": "code",
   "execution_count": 124,
   "metadata": {},
   "outputs": [
    {
     "data": {
      "text/html": [
       "<div>\n",
       "<style scoped>\n",
       "    .dataframe tbody tr th:only-of-type {\n",
       "        vertical-align: middle;\n",
       "    }\n",
       "\n",
       "    .dataframe tbody tr th {\n",
       "        vertical-align: top;\n",
       "    }\n",
       "\n",
       "    .dataframe thead th {\n",
       "        text-align: right;\n",
       "    }\n",
       "</style>\n",
       "<table border=\"1\" class=\"dataframe\">\n",
       "  <thead>\n",
       "    <tr style=\"text-align: right;\">\n",
       "      <th></th>\n",
       "      <th>descrizione</th>\n",
       "      <th>ente</th>\n",
       "      <th>cap</th>\n",
       "      <th>tipo</th>\n",
       "      <th>giorno_della_settimana</th>\n",
       "      <th>importo</th>\n",
       "    </tr>\n",
       "    <tr>\n",
       "      <th>provincia</th>\n",
       "      <th></th>\n",
       "      <th></th>\n",
       "      <th></th>\n",
       "      <th></th>\n",
       "      <th></th>\n",
       "      <th></th>\n",
       "    </tr>\n",
       "  </thead>\n",
       "  <tbody>\n",
       "    <tr>\n",
       "      <th>22063</th>\n",
       "      <td>4</td>\n",
       "      <td>4</td>\n",
       "      <td>0</td>\n",
       "      <td>4</td>\n",
       "      <td>4</td>\n",
       "      <td>4</td>\n",
       "    </tr>\n",
       "    <tr>\n",
       "      <th>25063</th>\n",
       "      <td>18</td>\n",
       "      <td>20</td>\n",
       "      <td>20</td>\n",
       "      <td>20</td>\n",
       "      <td>20</td>\n",
       "      <td>20</td>\n",
       "    </tr>\n",
       "    <tr>\n",
       "      <th>BG</th>\n",
       "      <td>5736</td>\n",
       "      <td>5736</td>\n",
       "      <td>5736</td>\n",
       "      <td>5736</td>\n",
       "      <td>5736</td>\n",
       "      <td>5736</td>\n",
       "    </tr>\n",
       "    <tr>\n",
       "      <th>BS</th>\n",
       "      <td>3668</td>\n",
       "      <td>3668</td>\n",
       "      <td>3668</td>\n",
       "      <td>3668</td>\n",
       "      <td>3668</td>\n",
       "      <td>3668</td>\n",
       "    </tr>\n",
       "    <tr>\n",
       "      <th>CO</th>\n",
       "      <td>4800</td>\n",
       "      <td>4800</td>\n",
       "      <td>4800</td>\n",
       "      <td>4800</td>\n",
       "      <td>4800</td>\n",
       "      <td>4800</td>\n",
       "    </tr>\n",
       "    <tr>\n",
       "      <th>CR</th>\n",
       "      <td>540</td>\n",
       "      <td>540</td>\n",
       "      <td>540</td>\n",
       "      <td>540</td>\n",
       "      <td>540</td>\n",
       "      <td>540</td>\n",
       "    </tr>\n",
       "    <tr>\n",
       "      <th>LC</th>\n",
       "      <td>450</td>\n",
       "      <td>450</td>\n",
       "      <td>450</td>\n",
       "      <td>450</td>\n",
       "      <td>450</td>\n",
       "      <td>450</td>\n",
       "    </tr>\n",
       "    <tr>\n",
       "      <th>LO</th>\n",
       "      <td>26</td>\n",
       "      <td>26</td>\n",
       "      <td>26</td>\n",
       "      <td>26</td>\n",
       "      <td>26</td>\n",
       "      <td>26</td>\n",
       "    </tr>\n",
       "    <tr>\n",
       "      <th>MB</th>\n",
       "      <td>1904</td>\n",
       "      <td>1904</td>\n",
       "      <td>1904</td>\n",
       "      <td>1904</td>\n",
       "      <td>1904</td>\n",
       "      <td>1904</td>\n",
       "    </tr>\n",
       "    <tr>\n",
       "      <th>MI</th>\n",
       "      <td>18153</td>\n",
       "      <td>18153</td>\n",
       "      <td>18153</td>\n",
       "      <td>18153</td>\n",
       "      <td>18153</td>\n",
       "      <td>18153</td>\n",
       "    </tr>\n",
       "    <tr>\n",
       "      <th>MN</th>\n",
       "      <td>542</td>\n",
       "      <td>542</td>\n",
       "      <td>542</td>\n",
       "      <td>542</td>\n",
       "      <td>542</td>\n",
       "      <td>542</td>\n",
       "    </tr>\n",
       "    <tr>\n",
       "      <th>PV</th>\n",
       "      <td>6000</td>\n",
       "      <td>6000</td>\n",
       "      <td>6000</td>\n",
       "      <td>6000</td>\n",
       "      <td>6000</td>\n",
       "      <td>6000</td>\n",
       "    </tr>\n",
       "    <tr>\n",
       "      <th>SO</th>\n",
       "      <td>426</td>\n",
       "      <td>426</td>\n",
       "      <td>426</td>\n",
       "      <td>426</td>\n",
       "      <td>426</td>\n",
       "      <td>426</td>\n",
       "    </tr>\n",
       "    <tr>\n",
       "      <th>VA</th>\n",
       "      <td>1303</td>\n",
       "      <td>1303</td>\n",
       "      <td>1303</td>\n",
       "      <td>1303</td>\n",
       "      <td>1303</td>\n",
       "      <td>1303</td>\n",
       "    </tr>\n",
       "  </tbody>\n",
       "</table>\n",
       "</div>"
      ],
      "text/plain": [
       "           descrizione   ente    cap   tipo  giorno_della_settimana  importo\n",
       "provincia                                                                   \n",
       "22063                4      4      0      4                       4        4\n",
       "25063               18     20     20     20                      20       20\n",
       "BG                5736   5736   5736   5736                    5736     5736\n",
       "BS                3668   3668   3668   3668                    3668     3668\n",
       "CO                4800   4800   4800   4800                    4800     4800\n",
       "CR                 540    540    540    540                     540      540\n",
       "LC                 450    450    450    450                     450      450\n",
       "LO                  26     26     26     26                      26       26\n",
       "MB                1904   1904   1904   1904                    1904     1904\n",
       "MI               18153  18153  18153  18153                   18153    18153\n",
       "MN                 542    542    542    542                     542      542\n",
       "PV                6000   6000   6000   6000                    6000     6000\n",
       "SO                 426    426    426    426                     426      426\n",
       "VA                1303   1303   1303   1303                    1303     1303"
      ]
     },
     "execution_count": 124,
     "metadata": {},
     "output_type": "execute_result"
    }
   ],
   "source": [
    "dfield.groupby(\"provincia\").count()\n",
    " "
   ]
  },
  {
   "cell_type": "code",
   "execution_count": 128,
   "metadata": {},
   "outputs": [
    {
     "data": {
      "text/plain": [
       "<matplotlib.axes._subplots.AxesSubplot at 0x7f26bc51f2d0>"
      ]
     },
     "execution_count": 128,
     "metadata": {},
     "output_type": "execute_result"
    },
    {
     "data": {
      "image/png": "[encoded data removed]",
      "text/plain": [
       "<Figure size 432x288 with 1 Axes>"
      ]
     },
     "metadata": {
      "needs_background": "light"
     },
     "output_type": "display_data"
    }
   ],
   "source": [
    "pd.value_counts(dfield[\"ente\"]).plot.bar()"
   ]
  },
  {
   "cell_type": "code",
   "execution_count": null,
   "metadata": {},
   "outputs": [],
   "source": []
  }
 ],
 "metadata": {
  "interpreter": {
   "hash": "7473d73b0517ab6f64aa731f2cb80c0acf19c95420055020da77d830c23b4531"
  },
  "kernelspec": {
   "display_name": "Python 3.9.12 ('base')",
   "language": "python",
   "name": "python3"
  },
  "language_info": {
   "codemirror_mode": {
    "name": "ipython",
    "version": 3
   },
   "file_extension": ".py",
   "mimetype": "text/x-python",
   "name": "python",
   "nbconvert_exporter": "python",
   "pygments_lexer": "ipython3",
   "version": "3.9.12"
  }
 },
 "nbformat": 4,
 "nbformat_minor": 2
}
