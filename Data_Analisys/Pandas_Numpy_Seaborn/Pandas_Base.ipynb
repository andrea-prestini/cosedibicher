{
 "cells": [
  {
   "cell_type": "code",
   "execution_count": 43,
   "id": "539d2bb7-ef85-42bb-b2e1-a62afb5315bc",
   "metadata": {},
   "outputs": [],
   "source": [
    "import pandas as pd"
   ]
  },
  {
   "cell_type": "code",
   "execution_count": 44,
   "id": "312f9c21-81b9-412c-a18d-bdb1b82dcbe1",
   "metadata": {},
   "outputs": [],
   "source": [
    "cibo = {\n",
    "    \"gatto\": \"crocchette\",\n",
    "    \"cane\": \"ossi\",\n",
    "    \"cavallo\": \"erba medica\"\n",
    "}\n",
    "\n",
    "\n",
    "peso = {\n",
    "    \"squalo\": 4,\n",
    "    \"cane\": 10,\n",
    "    \"cavallo\": 120,\n",
    "    \"gallina\": 1\n",
    "}\n",
    "\n",
    "colore = {\n",
    "    \"cane\": \"nero\",\n",
    "    \"gatto\": \"rosso\",\n",
    "    \"cavallo\": \"marrone\",\n",
    "    \"uomo\": \"bianco\"\n",
    "}"
   ]
  },
  {
   "cell_type": "code",
   "execution_count": 45,
   "id": "4cc7533a-12c3-4378-a679-7e3ec96ba5ac",
   "metadata": {},
   "outputs": [],
   "source": [
    "df = pd.DataFrame({\"cibo\": cibo, \"peso\":peso, \"colore\":colore})"
   ]
  },
  {
   "cell_type": "code",
   "execution_count": 46,
   "id": "6d08dce3-f30e-4826-bebe-5384ceb58803",
   "metadata": {},
   "outputs": [
    {
     "name": "stdout",
     "output_type": "stream",
     "text": [
      "                cibo   peso   colore\n",
      "gatto     crocchette    NaN    rosso\n",
      "cane            ossi   10.0     nero\n",
      "cavallo  erba medica  120.0  marrone\n",
      "squalo           NaN    4.0      NaN\n",
      "gallina          NaN    1.0      NaN\n",
      "uomo             NaN    NaN   bianco\n"
     ]
    }
   ],
   "source": [
    "print(df)"
   ]
  },
  {
   "cell_type": "code",
   "execution_count": 47,
   "id": "3cd5a183-3a92-4251-92f3-5109f17aa738",
   "metadata": {},
   "outputs": [
    {
     "name": "stdout",
     "output_type": "stream",
     "text": [
      "\n",
      "      il peso di cane é\n",
      "      10.0 kg\n"
     ]
    }
   ],
   "source": [
    "print(f'''\n",
    "      il peso di cane é\n",
    "      {df.loc[\"cane\", \"peso\"]} kg''')"
   ]
  },
  {
   "cell_type": "code",
   "execution_count": 48,
   "id": "1e7fb61c-906c-4c8f-8045-7e6ca17527b6",
   "metadata": {},
   "outputs": [],
   "source": [
    "df = pd.read_csv(\"./prodotti.csv\", index_col=0)"
   ]
  },
  {
   "cell_type": "code",
   "execution_count": 49,
   "id": "1c84010c-301a-4263-906a-3cfbd041ce9f",
   "metadata": {},
   "outputs": [
    {
     "data": {
      "text/plain": [
       "pandas.core.frame.DataFrame"
      ]
     },
     "execution_count": 49,
     "metadata": {},
     "output_type": "execute_result"
    }
   ],
   "source": [
    "type(df)"
   ]
  },
  {
   "cell_type": "code",
   "execution_count": 50,
   "id": "15e4c2b8-ca71-4df9-9eb1-cde5f36555e1",
   "metadata": {},
   "outputs": [
    {
     "data": {
      "text/html": [
       "<div>\n",
       "<style scoped>\n",
       "    .dataframe tbody tr th:only-of-type {\n",
       "        vertical-align: middle;\n",
       "    }\n",
       "\n",
       "    .dataframe tbody tr th {\n",
       "        vertical-align: top;\n",
       "    }\n",
       "\n",
       "    .dataframe thead th {\n",
       "        text-align: right;\n",
       "    }\n",
       "</style>\n",
       "<table border=\"1\" class=\"dataframe\">\n",
       "  <thead>\n",
       "    <tr style=\"text-align: right;\">\n",
       "      <th></th>\n",
       "      <th>indice1</th>\n",
       "      <th>indice2</th>\n",
       "      <th>indice3</th>\n",
       "    </tr>\n",
       "    <tr>\n",
       "      <th>prodotto</th>\n",
       "      <th></th>\n",
       "      <th></th>\n",
       "      <th></th>\n",
       "    </tr>\n",
       "  </thead>\n",
       "  <tbody>\n",
       "    <tr>\n",
       "      <th>focaccia</th>\n",
       "      <td>114</td>\n",
       "      <td>3</td>\n",
       "      <td>10</td>\n",
       "    </tr>\n",
       "    <tr>\n",
       "      <th>pane</th>\n",
       "      <td>13</td>\n",
       "      <td>20</td>\n",
       "      <td>10</td>\n",
       "    </tr>\n",
       "    <tr>\n",
       "      <th>pasta</th>\n",
       "      <td>2</td>\n",
       "      <td>10</td>\n",
       "      <td>10</td>\n",
       "    </tr>\n",
       "  </tbody>\n",
       "</table>\n",
       "</div>"
      ],
      "text/plain": [
       "          indice1  indice2  indice3\n",
       "prodotto                           \n",
       "focaccia      114        3       10\n",
       "pane           13       20       10\n",
       "pasta           2       10       10"
      ]
     },
     "execution_count": 50,
     "metadata": {},
     "output_type": "execute_result"
    }
   ],
   "source": [
    "df.head(3)"
   ]
  },
  {
   "cell_type": "code",
   "execution_count": 51,
   "id": "b4b11477-6148-4c9b-89ff-971906ad2436",
   "metadata": {},
   "outputs": [
    {
     "data": {
      "text/plain": [
       "(20, 3)"
      ]
     },
     "execution_count": 51,
     "metadata": {},
     "output_type": "execute_result"
    }
   ],
   "source": [
    "df.shape"
   ]
  },
  {
   "cell_type": "code",
   "execution_count": 52,
   "id": "e79183a4-5bed-4df4-9900-7d6f8d18773c",
   "metadata": {},
   "outputs": [
    {
     "name": "stdout",
     "output_type": "stream",
     "text": [
      "<class 'pandas.core.frame.DataFrame'>\n",
      "Index: 20 entries, focaccia to limoni\n",
      "Data columns (total 3 columns):\n",
      " #   Column   Non-Null Count  Dtype\n",
      "---  ------   --------------  -----\n",
      " 0   indice1  20 non-null     int64\n",
      " 1   indice2  20 non-null     int64\n",
      " 2   indice3  20 non-null     int64\n",
      "dtypes: int64(3)\n",
      "memory usage: 640.0+ bytes\n"
     ]
    }
   ],
   "source": [
    "df.info()"
   ]
  },
  {
   "cell_type": "code",
   "execution_count": 53,
   "id": "af912521-b84d-40ff-b2a9-8e8d883c3ddc",
   "metadata": {},
   "outputs": [
    {
     "data": {
      "text/plain": [
       "array([[114,   3,  10],\n",
       "       [ 13,  20,  10],\n",
       "       [  2,  10,  10]])"
      ]
     },
     "execution_count": 53,
     "metadata": {},
     "output_type": "execute_result"
    }
   ],
   "source": [
    "df.head(3).values"
   ]
  },
  {
   "cell_type": "code",
   "execution_count": 54,
   "id": "d8314e19-ba7a-420a-bca0-c8db23a81357",
   "metadata": {},
   "outputs": [
    {
     "data": {
      "text/plain": [
       "Index(['indice1', 'indice2', 'indice3'], dtype='object')"
      ]
     },
     "execution_count": 54,
     "metadata": {},
     "output_type": "execute_result"
    }
   ],
   "source": [
    "df.columns"
   ]
  },
  {
   "cell_type": "code",
   "execution_count": 55,
   "id": "f72b4575-bb7b-4dd4-8625-dc1f12b29536",
   "metadata": {},
   "outputs": [
    {
     "data": {
      "text/plain": [
       "Index(['focaccia', 'pane', 'pasta'], dtype='object', name='prodotto')"
      ]
     },
     "execution_count": 55,
     "metadata": {},
     "output_type": "execute_result"
    }
   ],
   "source": [
    "df.head(3).index"
   ]
  },
  {
   "cell_type": "code",
   "execution_count": 56,
   "id": "5ae9f2e2-d8b0-4fc3-8821-a98dccc6c962",
   "metadata": {},
   "outputs": [
    {
     "data": {
      "text/html": [
       "<div>\n",
       "<style scoped>\n",
       "    .dataframe tbody tr th:only-of-type {\n",
       "        vertical-align: middle;\n",
       "    }\n",
       "\n",
       "    .dataframe tbody tr th {\n",
       "        vertical-align: top;\n",
       "    }\n",
       "\n",
       "    .dataframe thead th {\n",
       "        text-align: right;\n",
       "    }\n",
       "</style>\n",
       "<table border=\"1\" class=\"dataframe\">\n",
       "  <thead>\n",
       "    <tr style=\"text-align: right;\">\n",
       "      <th></th>\n",
       "      <th>indice1</th>\n",
       "      <th>indice2</th>\n",
       "      <th>indice3</th>\n",
       "    </tr>\n",
       "    <tr>\n",
       "      <th>prodotto</th>\n",
       "      <th></th>\n",
       "      <th></th>\n",
       "      <th></th>\n",
       "    </tr>\n",
       "  </thead>\n",
       "  <tbody>\n",
       "    <tr>\n",
       "      <th>focaccia</th>\n",
       "      <td>114</td>\n",
       "      <td>3</td>\n",
       "      <td>10</td>\n",
       "    </tr>\n",
       "    <tr>\n",
       "      <th>pane</th>\n",
       "      <td>13</td>\n",
       "      <td>20</td>\n",
       "      <td>10</td>\n",
       "    </tr>\n",
       "  </tbody>\n",
       "</table>\n",
       "</div>"
      ],
      "text/plain": [
       "          indice1  indice2  indice3\n",
       "prodotto                           \n",
       "focaccia      114        3       10\n",
       "pane           13       20       10"
      ]
     },
     "execution_count": 56,
     "metadata": {},
     "output_type": "execute_result"
    }
   ],
   "source": [
    "df.head(2)"
   ]
  },
  {
   "cell_type": "code",
   "execution_count": 57,
   "id": "16251a0d-a138-44ad-b340-9b7ade651595",
   "metadata": {},
   "outputs": [
    {
     "data": {
      "text/plain": [
       "indice1    int64\n",
       "indice2    int64\n",
       "indice3    int64\n",
       "dtype: object"
      ]
     },
     "execution_count": 57,
     "metadata": {},
     "output_type": "execute_result"
    }
   ],
   "source": [
    "df.dtypes"
   ]
  },
  {
   "cell_type": "code",
   "execution_count": 58,
   "id": "dfc39333-3014-41af-bac7-ac83067080b9",
   "metadata": {},
   "outputs": [],
   "source": [
    "indice1 = df[\"indice1\"]"
   ]
  },
  {
   "cell_type": "code",
   "execution_count": 59,
   "id": "12b7ccfe-9976-4504-834c-ef8e519298db",
   "metadata": {},
   "outputs": [
    {
     "data": {
      "text/plain": [
       "prodotto\n",
       "focaccia       114\n",
       "pane            13\n",
       "pasta            2\n",
       "birra          115\n",
       "latte            2\n",
       "patate          13\n",
       "sale           114\n",
       "pepe           117\n",
       "olio            13\n",
       "coca cola        8\n",
       "vino rosso      12\n",
       "farina           2\n",
       "mele           114\n",
       "pere           114\n",
       "banane          67\n",
       "marmellata      44\n",
       "riso bianco     78\n",
       "riso nero       88\n",
       "seppie         114\n",
       "limoni           2\n",
       "Name: indice1, dtype: int64"
      ]
     },
     "execution_count": 59,
     "metadata": {},
     "output_type": "execute_result"
    }
   ],
   "source": [
    "indice1"
   ]
  },
  {
   "cell_type": "code",
   "execution_count": 60,
   "id": "0c9a7bc4-1223-4e23-84c6-465640cfa053",
   "metadata": {},
   "outputs": [
    {
     "data": {
      "text/plain": [
       "pandas.core.series.Series"
      ]
     },
     "execution_count": 60,
     "metadata": {},
     "output_type": "execute_result"
    }
   ],
   "source": [
    "type(indice1)"
   ]
  },
  {
   "cell_type": "code",
   "execution_count": 61,
   "id": "322b1395-c909-4e31-8377-8655b7c1a7f4",
   "metadata": {},
   "outputs": [],
   "source": [
    "indiceDF =  df[[\"indice1\"]]"
   ]
  },
  {
   "cell_type": "code",
   "execution_count": 62,
   "id": "cdffab75-265d-44d9-b149-08d4e158bf27",
   "metadata": {},
   "outputs": [
    {
     "name": "stdout",
     "output_type": "stream",
     "text": [
      "             indice1\n",
      "prodotto            \n",
      "focaccia         114\n",
      "pane              13\n",
      "pasta              2\n",
      "birra            115\n",
      "latte              2\n",
      "patate            13\n",
      "sale             114\n",
      "pepe             117\n",
      "olio              13\n",
      "coca cola          8\n",
      "vino rosso        12\n",
      "farina             2\n",
      "mele             114\n",
      "pere             114\n",
      "banane            67\n",
      "marmellata        44\n",
      "riso bianco       78\n",
      "riso nero         88\n",
      "seppie           114\n",
      "limoni             2\n"
     ]
    }
   ],
   "source": [
    "print(indiceDF)"
   ]
  },
  {
   "cell_type": "code",
   "execution_count": 63,
   "id": "693dbea4-aa50-47d1-81f9-d0063a3c0113",
   "metadata": {},
   "outputs": [
    {
     "data": {
      "text/plain": [
       "pandas.core.frame.DataFrame"
      ]
     },
     "execution_count": 63,
     "metadata": {},
     "output_type": "execute_result"
    }
   ],
   "source": [
    "type(indiceDF)"
   ]
  },
  {
   "cell_type": "code",
   "execution_count": 64,
   "id": "eb6606b8-1d6b-4a4f-915d-4b86bcdcba11",
   "metadata": {},
   "outputs": [
    {
     "data": {
      "text/plain": [
       "indice1    115\n",
       "indice2     59\n",
       "indice3     10\n",
       "Name: birra, dtype: int64"
      ]
     },
     "execution_count": 64,
     "metadata": {},
     "output_type": "execute_result"
    }
   ],
   "source": [
    "df.loc[\"birra\"]"
   ]
  },
  {
   "cell_type": "code",
   "execution_count": 65,
   "id": "d26720f4-5ca1-42a8-8ce6-af1e0e58daf4",
   "metadata": {},
   "outputs": [
    {
     "data": {
      "text/plain": [
       "10"
      ]
     },
     "execution_count": 65,
     "metadata": {},
     "output_type": "execute_result"
    }
   ],
   "source": [
    "df.loc[\"birra\", \"indice3\"]"
   ]
  },
  {
   "cell_type": "code",
   "execution_count": 66,
   "id": "e3db9a51-47db-4d8c-b5ed-199a3878a5c3",
   "metadata": {},
   "outputs": [
    {
     "data": {
      "text/html": [
       "<div>\n",
       "<style scoped>\n",
       "    .dataframe tbody tr th:only-of-type {\n",
       "        vertical-align: middle;\n",
       "    }\n",
       "\n",
       "    .dataframe tbody tr th {\n",
       "        vertical-align: top;\n",
       "    }\n",
       "\n",
       "    .dataframe thead th {\n",
       "        text-align: right;\n",
       "    }\n",
       "</style>\n",
       "<table border=\"1\" class=\"dataframe\">\n",
       "  <thead>\n",
       "    <tr style=\"text-align: right;\">\n",
       "      <th></th>\n",
       "      <th>indice1</th>\n",
       "      <th>indice2</th>\n",
       "      <th>indice3</th>\n",
       "    </tr>\n",
       "    <tr>\n",
       "      <th>prodotto</th>\n",
       "      <th></th>\n",
       "      <th></th>\n",
       "      <th></th>\n",
       "    </tr>\n",
       "  </thead>\n",
       "  <tbody>\n",
       "    <tr>\n",
       "      <th>pane</th>\n",
       "      <td>13</td>\n",
       "      <td>20</td>\n",
       "      <td>10</td>\n",
       "    </tr>\n",
       "    <tr>\n",
       "      <th>pepe</th>\n",
       "      <td>117</td>\n",
       "      <td>5</td>\n",
       "      <td>10</td>\n",
       "    </tr>\n",
       "  </tbody>\n",
       "</table>\n",
       "</div>"
      ],
      "text/plain": [
       "          indice1  indice2  indice3\n",
       "prodotto                           \n",
       "pane           13       20       10\n",
       "pepe          117        5       10"
      ]
     },
     "execution_count": 66,
     "metadata": {},
     "output_type": "execute_result"
    }
   ],
   "source": [
    "df.loc[[\"pane\", \"pepe\"]]"
   ]
  },
  {
   "cell_type": "code",
   "execution_count": 67,
   "id": "f074848a-f37f-4f04-88a8-9151f1a3e9b4",
   "metadata": {},
   "outputs": [
    {
     "data": {
      "text/plain": [
       "prodotto\n",
       "pane    20\n",
       "pepe     5\n",
       "Name: indice2, dtype: int64"
      ]
     },
     "execution_count": 67,
     "metadata": {},
     "output_type": "execute_result"
    }
   ],
   "source": [
    "df.loc[[\"pane\", \"pepe\"], \"indice2\"]"
   ]
  },
  {
   "cell_type": "code",
   "execution_count": 68,
   "id": "b35454b8-1ab9-46f9-a692-b718dde69f1f",
   "metadata": {},
   "outputs": [
    {
     "data": {
      "text/html": [
       "<div>\n",
       "<style scoped>\n",
       "    .dataframe tbody tr th:only-of-type {\n",
       "        vertical-align: middle;\n",
       "    }\n",
       "\n",
       "    .dataframe tbody tr th {\n",
       "        vertical-align: top;\n",
       "    }\n",
       "\n",
       "    .dataframe thead th {\n",
       "        text-align: right;\n",
       "    }\n",
       "</style>\n",
       "<table border=\"1\" class=\"dataframe\">\n",
       "  <thead>\n",
       "    <tr style=\"text-align: right;\">\n",
       "      <th></th>\n",
       "      <th>indice1</th>\n",
       "      <th>indice2</th>\n",
       "      <th>indice3</th>\n",
       "    </tr>\n",
       "    <tr>\n",
       "      <th>prodotto</th>\n",
       "      <th></th>\n",
       "      <th></th>\n",
       "      <th></th>\n",
       "    </tr>\n",
       "  </thead>\n",
       "  <tbody>\n",
       "    <tr>\n",
       "      <th>focaccia</th>\n",
       "      <td>114</td>\n",
       "      <td>3</td>\n",
       "      <td>10</td>\n",
       "    </tr>\n",
       "    <tr>\n",
       "      <th>pane</th>\n",
       "      <td>13</td>\n",
       "      <td>20</td>\n",
       "      <td>10</td>\n",
       "    </tr>\n",
       "    <tr>\n",
       "      <th>limoni</th>\n",
       "      <td>2</td>\n",
       "      <td>100</td>\n",
       "      <td>10</td>\n",
       "    </tr>\n",
       "  </tbody>\n",
       "</table>\n",
       "</div>"
      ],
      "text/plain": [
       "          indice1  indice2  indice3\n",
       "prodotto                           \n",
       "focaccia      114        3       10\n",
       "pane           13       20       10\n",
       "limoni          2      100       10"
      ]
     },
     "execution_count": 68,
     "metadata": {},
     "output_type": "execute_result"
    }
   ],
   "source": [
    "df.iloc[[0,1, -1]]"
   ]
  },
  {
   "cell_type": "code",
   "execution_count": 69,
   "id": "d1b8e798-109a-4635-8210-8261e796c009",
   "metadata": {},
   "outputs": [],
   "source": [
    "subset = df.loc[:, [\"indice1\", \"indice3\"]]"
   ]
  },
  {
   "cell_type": "code",
   "execution_count": 70,
   "id": "6de2fea4-caab-421e-beb5-4569c6d50b67",
   "metadata": {},
   "outputs": [
    {
     "data": {
      "text/html": [
       "<div>\n",
       "<style scoped>\n",
       "    .dataframe tbody tr th:only-of-type {\n",
       "        vertical-align: middle;\n",
       "    }\n",
       "\n",
       "    .dataframe tbody tr th {\n",
       "        vertical-align: top;\n",
       "    }\n",
       "\n",
       "    .dataframe thead th {\n",
       "        text-align: right;\n",
       "    }\n",
       "</style>\n",
       "<table border=\"1\" class=\"dataframe\">\n",
       "  <thead>\n",
       "    <tr style=\"text-align: right;\">\n",
       "      <th></th>\n",
       "      <th>indice1</th>\n",
       "      <th>indice3</th>\n",
       "    </tr>\n",
       "    <tr>\n",
       "      <th>prodotto</th>\n",
       "      <th></th>\n",
       "      <th></th>\n",
       "    </tr>\n",
       "  </thead>\n",
       "  <tbody>\n",
       "    <tr>\n",
       "      <th>focaccia</th>\n",
       "      <td>114</td>\n",
       "      <td>10</td>\n",
       "    </tr>\n",
       "    <tr>\n",
       "      <th>pane</th>\n",
       "      <td>13</td>\n",
       "      <td>10</td>\n",
       "    </tr>\n",
       "    <tr>\n",
       "      <th>pasta</th>\n",
       "      <td>2</td>\n",
       "      <td>10</td>\n",
       "    </tr>\n",
       "  </tbody>\n",
       "</table>\n",
       "</div>"
      ],
      "text/plain": [
       "          indice1  indice3\n",
       "prodotto                  \n",
       "focaccia      114       10\n",
       "pane           13       10\n",
       "pasta           2       10"
      ]
     },
     "execution_count": 70,
     "metadata": {},
     "output_type": "execute_result"
    }
   ],
   "source": [
    "subset.head(3)"
   ]
  },
  {
   "cell_type": "code",
   "execution_count": 71,
   "id": "c2f08c69-0572-4ccb-af40-8700b05d051d",
   "metadata": {},
   "outputs": [],
   "source": [
    "subset = df.iloc[:, [2]] # usare indici e non label, diversamente ERRORE! iloc usa INDICI!"
   ]
  },
  {
   "cell_type": "code",
   "execution_count": 72,
   "id": "1a7c0a32-4a66-437d-8065-a8045cc9c1d3",
   "metadata": {},
   "outputs": [
    {
     "data": {
      "text/html": [
       "<div>\n",
       "<style scoped>\n",
       "    .dataframe tbody tr th:only-of-type {\n",
       "        vertical-align: middle;\n",
       "    }\n",
       "\n",
       "    .dataframe tbody tr th {\n",
       "        vertical-align: top;\n",
       "    }\n",
       "\n",
       "    .dataframe thead th {\n",
       "        text-align: right;\n",
       "    }\n",
       "</style>\n",
       "<table border=\"1\" class=\"dataframe\">\n",
       "  <thead>\n",
       "    <tr style=\"text-align: right;\">\n",
       "      <th></th>\n",
       "      <th>indice3</th>\n",
       "    </tr>\n",
       "    <tr>\n",
       "      <th>prodotto</th>\n",
       "      <th></th>\n",
       "    </tr>\n",
       "  </thead>\n",
       "  <tbody>\n",
       "    <tr>\n",
       "      <th>focaccia</th>\n",
       "      <td>10</td>\n",
       "    </tr>\n",
       "    <tr>\n",
       "      <th>pane</th>\n",
       "      <td>10</td>\n",
       "    </tr>\n",
       "    <tr>\n",
       "      <th>pasta</th>\n",
       "      <td>10</td>\n",
       "    </tr>\n",
       "  </tbody>\n",
       "</table>\n",
       "</div>"
      ],
      "text/plain": [
       "          indice3\n",
       "prodotto         \n",
       "focaccia       10\n",
       "pane           10\n",
       "pasta          10"
      ]
     },
     "execution_count": 72,
     "metadata": {},
     "output_type": "execute_result"
    }
   ],
   "source": [
    "subset.head(3)"
   ]
  },
  {
   "cell_type": "code",
   "execution_count": 73,
   "id": "9bd69ab3-eac2-4006-a2e0-11a28bbf7117",
   "metadata": {},
   "outputs": [
    {
     "data": {
      "text/html": [
       "<div>\n",
       "<style scoped>\n",
       "    .dataframe tbody tr th:only-of-type {\n",
       "        vertical-align: middle;\n",
       "    }\n",
       "\n",
       "    .dataframe tbody tr th {\n",
       "        vertical-align: top;\n",
       "    }\n",
       "\n",
       "    .dataframe thead th {\n",
       "        text-align: right;\n",
       "    }\n",
       "</style>\n",
       "<table border=\"1\" class=\"dataframe\">\n",
       "  <thead>\n",
       "    <tr style=\"text-align: right;\">\n",
       "      <th></th>\n",
       "      <th>indice1</th>\n",
       "      <th>indice2</th>\n",
       "      <th>indice3</th>\n",
       "    </tr>\n",
       "    <tr>\n",
       "      <th>prodotto</th>\n",
       "      <th></th>\n",
       "      <th></th>\n",
       "      <th></th>\n",
       "    </tr>\n",
       "  </thead>\n",
       "  <tbody>\n",
       "    <tr>\n",
       "      <th>pasta</th>\n",
       "      <td>2</td>\n",
       "      <td>10</td>\n",
       "      <td>10</td>\n",
       "    </tr>\n",
       "    <tr>\n",
       "      <th>latte</th>\n",
       "      <td>2</td>\n",
       "      <td>45</td>\n",
       "      <td>10</td>\n",
       "    </tr>\n",
       "    <tr>\n",
       "      <th>coca cola</th>\n",
       "      <td>8</td>\n",
       "      <td>3</td>\n",
       "      <td>10</td>\n",
       "    </tr>\n",
       "    <tr>\n",
       "      <th>farina</th>\n",
       "      <td>2</td>\n",
       "      <td>11</td>\n",
       "      <td>10</td>\n",
       "    </tr>\n",
       "    <tr>\n",
       "      <th>limoni</th>\n",
       "      <td>2</td>\n",
       "      <td>100</td>\n",
       "      <td>10</td>\n",
       "    </tr>\n",
       "  </tbody>\n",
       "</table>\n",
       "</div>"
      ],
      "text/plain": [
       "           indice1  indice2  indice3\n",
       "prodotto                            \n",
       "pasta            2       10       10\n",
       "latte            2       45       10\n",
       "coca cola        8        3       10\n",
       "farina           2       11       10\n",
       "limoni           2      100       10"
      ]
     },
     "execution_count": 73,
     "metadata": {},
     "output_type": "execute_result"
    }
   ],
   "source": [
    "df.loc[df[\"indice1\"]<10]"
   ]
  },
  {
   "cell_type": "code",
   "execution_count": 74,
   "id": "19ef16ae-5a06-4d84-82d9-6c2a55864e4e",
   "metadata": {},
   "outputs": [
    {
     "data": {
      "text/html": [
       "<div>\n",
       "<style scoped>\n",
       "    .dataframe tbody tr th:only-of-type {\n",
       "        vertical-align: middle;\n",
       "    }\n",
       "\n",
       "    .dataframe tbody tr th {\n",
       "        vertical-align: top;\n",
       "    }\n",
       "\n",
       "    .dataframe thead th {\n",
       "        text-align: right;\n",
       "    }\n",
       "</style>\n",
       "<table border=\"1\" class=\"dataframe\">\n",
       "  <thead>\n",
       "    <tr style=\"text-align: right;\">\n",
       "      <th></th>\n",
       "      <th>indice2</th>\n",
       "      <th>indice3</th>\n",
       "    </tr>\n",
       "    <tr>\n",
       "      <th>prodotto</th>\n",
       "      <th></th>\n",
       "      <th></th>\n",
       "    </tr>\n",
       "  </thead>\n",
       "  <tbody>\n",
       "    <tr>\n",
       "      <th>pasta</th>\n",
       "      <td>10</td>\n",
       "      <td>10</td>\n",
       "    </tr>\n",
       "    <tr>\n",
       "      <th>latte</th>\n",
       "      <td>45</td>\n",
       "      <td>10</td>\n",
       "    </tr>\n",
       "    <tr>\n",
       "      <th>coca cola</th>\n",
       "      <td>3</td>\n",
       "      <td>10</td>\n",
       "    </tr>\n",
       "    <tr>\n",
       "      <th>farina</th>\n",
       "      <td>11</td>\n",
       "      <td>10</td>\n",
       "    </tr>\n",
       "    <tr>\n",
       "      <th>limoni</th>\n",
       "      <td>100</td>\n",
       "      <td>10</td>\n",
       "    </tr>\n",
       "  </tbody>\n",
       "</table>\n",
       "</div>"
      ],
      "text/plain": [
       "           indice2  indice3\n",
       "prodotto                   \n",
       "pasta           10       10\n",
       "latte           45       10\n",
       "coca cola        3       10\n",
       "farina          11       10\n",
       "limoni         100       10"
      ]
     },
     "execution_count": 74,
     "metadata": {},
     "output_type": "execute_result"
    }
   ],
   "source": [
    "df.loc[df[\"indice1\"]<10, \"indice2\":\"indice3\"]"
   ]
  },
  {
   "cell_type": "code",
   "execution_count": 75,
   "id": "812366ef-3d4a-443a-b39e-9f2f5a54a56f",
   "metadata": {},
   "outputs": [
    {
     "data": {
      "text/html": [
       "<div>\n",
       "<style scoped>\n",
       "    .dataframe tbody tr th:only-of-type {\n",
       "        vertical-align: middle;\n",
       "    }\n",
       "\n",
       "    .dataframe tbody tr th {\n",
       "        vertical-align: top;\n",
       "    }\n",
       "\n",
       "    .dataframe thead th {\n",
       "        text-align: right;\n",
       "    }\n",
       "</style>\n",
       "<table border=\"1\" class=\"dataframe\">\n",
       "  <thead>\n",
       "    <tr style=\"text-align: right;\">\n",
       "      <th></th>\n",
       "      <th>indice2</th>\n",
       "      <th>indice3</th>\n",
       "    </tr>\n",
       "    <tr>\n",
       "      <th>prodotto</th>\n",
       "      <th></th>\n",
       "      <th></th>\n",
       "    </tr>\n",
       "  </thead>\n",
       "  <tbody>\n",
       "    <tr>\n",
       "      <th>pasta</th>\n",
       "      <td>10</td>\n",
       "      <td>10</td>\n",
       "    </tr>\n",
       "    <tr>\n",
       "      <th>latte</th>\n",
       "      <td>45</td>\n",
       "      <td>10</td>\n",
       "    </tr>\n",
       "    <tr>\n",
       "      <th>coca cola</th>\n",
       "      <td>3</td>\n",
       "      <td>10</td>\n",
       "    </tr>\n",
       "    <tr>\n",
       "      <th>farina</th>\n",
       "      <td>11</td>\n",
       "      <td>10</td>\n",
       "    </tr>\n",
       "    <tr>\n",
       "      <th>limoni</th>\n",
       "      <td>100</td>\n",
       "      <td>10</td>\n",
       "    </tr>\n",
       "  </tbody>\n",
       "</table>\n",
       "</div>"
      ],
      "text/plain": [
       "           indice2  indice3\n",
       "prodotto                   \n",
       "pasta           10       10\n",
       "latte           45       10\n",
       "coca cola        3       10\n",
       "farina          11       10\n",
       "limoni         100       10"
      ]
     },
     "execution_count": 75,
     "metadata": {},
     "output_type": "execute_result"
    }
   ],
   "source": [
    "df.loc[df[\"indice1\"]<10][[\"indice2\", \"indice3\"]]"
   ]
  },
  {
   "cell_type": "code",
   "execution_count": 76,
   "id": "1d3d53dc-6f1e-4b26-a2db-6efd64a11e2e",
   "metadata": {},
   "outputs": [
    {
     "data": {
      "text/html": [
       "<div>\n",
       "<style scoped>\n",
       "    .dataframe tbody tr th:only-of-type {\n",
       "        vertical-align: middle;\n",
       "    }\n",
       "\n",
       "    .dataframe tbody tr th {\n",
       "        vertical-align: top;\n",
       "    }\n",
       "\n",
       "    .dataframe thead th {\n",
       "        text-align: right;\n",
       "    }\n",
       "</style>\n",
       "<table border=\"1\" class=\"dataframe\">\n",
       "  <thead>\n",
       "    <tr style=\"text-align: right;\">\n",
       "      <th></th>\n",
       "      <th>indice1</th>\n",
       "      <th>indice2</th>\n",
       "      <th>indice3</th>\n",
       "    </tr>\n",
       "    <tr>\n",
       "      <th>prodotto</th>\n",
       "      <th></th>\n",
       "      <th></th>\n",
       "      <th></th>\n",
       "    </tr>\n",
       "  </thead>\n",
       "  <tbody>\n",
       "    <tr>\n",
       "      <th>latte</th>\n",
       "      <td>2</td>\n",
       "      <td>45</td>\n",
       "      <td>10</td>\n",
       "    </tr>\n",
       "    <tr>\n",
       "      <th>limoni</th>\n",
       "      <td>2</td>\n",
       "      <td>100</td>\n",
       "      <td>10</td>\n",
       "    </tr>\n",
       "  </tbody>\n",
       "</table>\n",
       "</div>"
      ],
      "text/plain": [
       "          indice1  indice2  indice3\n",
       "prodotto                           \n",
       "latte           2       45       10\n",
       "limoni          2      100       10"
      ]
     },
     "execution_count": 76,
     "metadata": {},
     "output_type": "execute_result"
    }
   ],
   "source": [
    "df.loc[(df[\"indice1\"]<10) & (df[\"indice2\"] > 40)]"
   ]
  },
  {
   "cell_type": "code",
   "execution_count": 77,
   "id": "7ca5769c-56c5-47ce-b659-8535703cd949",
   "metadata": {},
   "outputs": [
    {
     "data": {
      "text/plain": [
       "prodotto\n",
       "pasta        10\n",
       "latte        10\n",
       "coca cola    10\n",
       "farina       10\n",
       "limoni       10\n",
       "Name: indice3, dtype: int64"
      ]
     },
     "execution_count": 77,
     "metadata": {},
     "output_type": "execute_result"
    }
   ],
   "source": [
    "df.loc[df[\"indice1\"]<10][\"indice3\"]"
   ]
  },
  {
   "cell_type": "code",
   "execution_count": 78,
   "id": "c98a50a8-0562-402d-b2b4-20a83501c68d",
   "metadata": {},
   "outputs": [
    {
     "data": {
      "text/html": [
       "<div>\n",
       "<style scoped>\n",
       "    .dataframe tbody tr th:only-of-type {\n",
       "        vertical-align: middle;\n",
       "    }\n",
       "\n",
       "    .dataframe tbody tr th {\n",
       "        vertical-align: top;\n",
       "    }\n",
       "\n",
       "    .dataframe thead th {\n",
       "        text-align: right;\n",
       "    }\n",
       "</style>\n",
       "<table border=\"1\" class=\"dataframe\">\n",
       "  <thead>\n",
       "    <tr style=\"text-align: right;\">\n",
       "      <th></th>\n",
       "      <th>indice1</th>\n",
       "      <th>indice2</th>\n",
       "      <th>indice3</th>\n",
       "    </tr>\n",
       "    <tr>\n",
       "      <th>prodotto</th>\n",
       "      <th></th>\n",
       "      <th></th>\n",
       "      <th></th>\n",
       "    </tr>\n",
       "  </thead>\n",
       "  <tbody>\n",
       "    <tr>\n",
       "      <th>focaccia</th>\n",
       "      <td>114</td>\n",
       "      <td>3</td>\n",
       "      <td>10</td>\n",
       "    </tr>\n",
       "    <tr>\n",
       "      <th>sale</th>\n",
       "      <td>114</td>\n",
       "      <td>12</td>\n",
       "      <td>10</td>\n",
       "    </tr>\n",
       "    <tr>\n",
       "      <th>mele</th>\n",
       "      <td>114</td>\n",
       "      <td>56</td>\n",
       "      <td>10</td>\n",
       "    </tr>\n",
       "    <tr>\n",
       "      <th>pere</th>\n",
       "      <td>114</td>\n",
       "      <td>55</td>\n",
       "      <td>10</td>\n",
       "    </tr>\n",
       "    <tr>\n",
       "      <th>seppie</th>\n",
       "      <td>114</td>\n",
       "      <td>99</td>\n",
       "      <td>10</td>\n",
       "    </tr>\n",
       "  </tbody>\n",
       "</table>\n",
       "</div>"
      ],
      "text/plain": [
       "          indice1  indice2  indice3\n",
       "prodotto                           \n",
       "focaccia      114        3       10\n",
       "sale          114       12       10\n",
       "mele          114       56       10\n",
       "pere          114       55       10\n",
       "seppie        114       99       10"
      ]
     },
     "execution_count": 78,
     "metadata": {},
     "output_type": "execute_result"
    }
   ],
   "source": [
    "df.loc[df[\"indice1\"] == 114]"
   ]
  },
  {
   "cell_type": "code",
   "execution_count": 79,
   "id": "c7a406a7-01d7-4b1d-8929-1f960604521a",
   "metadata": {},
   "outputs": [
    {
     "data": {
      "text/plain": [
       "indice1\n",
       "2      41.500000\n",
       "8       3.000000\n",
       "12      3.000000\n",
       "13     20.333333\n",
       "44      3.000000\n",
       "67      3.000000\n",
       "78      3.000000\n",
       "88      3.000000\n",
       "114    45.000000\n",
       "115    59.000000\n",
       "117     5.000000\n",
       "Name: indice2, dtype: float64"
      ]
     },
     "execution_count": 79,
     "metadata": {},
     "output_type": "execute_result"
    }
   ],
   "source": [
    "df.groupby([\"indice1\"])[\"indice2\"].mean()"
   ]
  },
  {
   "cell_type": "code",
   "execution_count": 80,
   "id": "8fdc4310-f577-4588-86d4-dc743edb08e8",
   "metadata": {},
   "outputs": [
    {
     "data": {
      "text/plain": [
       "indice1\n",
       "2      42.257149\n",
       "8            NaN\n",
       "12           NaN\n",
       "13     13.503086\n",
       "44           NaN\n",
       "67           NaN\n",
       "78           NaN\n",
       "88           NaN\n",
       "114    38.697545\n",
       "115          NaN\n",
       "117          NaN\n",
       "Name: indice2, dtype: float64"
      ]
     },
     "execution_count": 80,
     "metadata": {},
     "output_type": "execute_result"
    }
   ],
   "source": [
    "import numpy as np\n",
    "df.groupby([\"indice1\"])[\"indice2\"].agg(np.std)"
   ]
  },
  {
   "cell_type": "code",
   "execution_count": 81,
   "id": "32320445-12c0-4a16-ba02-2dee3783ab54",
   "metadata": {},
   "outputs": [],
   "source": [
    "risultato = df.groupby([\"indice1\"])[[\"indice2\", \"indice3\"]].agg(np.mean)"
   ]
  },
  {
   "cell_type": "code",
   "execution_count": 82,
   "id": "c6bf86f9-673e-42fc-8cf8-a0799cf19dad",
   "metadata": {},
   "outputs": [
    {
     "name": "stdout",
     "output_type": "stream",
     "text": [
      "           indice2  indice3\n",
      "indice1                    \n",
      "2        41.500000     10.0\n",
      "8         3.000000     10.0\n",
      "12        3.000000     10.0\n",
      "13       20.333333     10.0\n",
      "44        3.000000     10.0\n",
      "67        3.000000     10.0\n",
      "78        3.000000     10.0\n",
      "88        3.000000     10.0\n",
      "114      45.000000     10.0\n",
      "115      59.000000     10.0\n",
      "117       5.000000     10.0\n"
     ]
    }
   ],
   "source": [
    "print(risultato)"
   ]
  },
  {
   "cell_type": "code",
   "execution_count": 83,
   "id": "fda840bd-b234-42e7-8370-83111c2e6a93",
   "metadata": {},
   "outputs": [
    {
     "name": "stdout",
     "output_type": "stream",
     "text": [
      "la classe 115 presente un indice 2 di : 59.0\n"
     ]
    }
   ],
   "source": [
    "print(\"la classe 115 presente un indice 2 di :\", risultato.loc[115][\"indice2\"])"
   ]
  },
  {
   "cell_type": "markdown",
   "id": "f9a433da-9366-4f7e-88a3-5d043216db4b",
   "metadata": {},
   "source": [
    "Altra sintassi per filtrare il dataframe, no quadre ma punto per membro di... Attenzione se il nome colonna è uguale ad un modulo presente nella libreria (es. shape)"
   ]
  },
  {
   "cell_type": "code",
   "execution_count": 84,
   "id": "54c63980-de51-488d-a2f8-7db73fafd613",
   "metadata": {},
   "outputs": [
    {
     "data": {
      "text/html": [
       "<div>\n",
       "<style scoped>\n",
       "    .dataframe tbody tr th:only-of-type {\n",
       "        vertical-align: middle;\n",
       "    }\n",
       "\n",
       "    .dataframe tbody tr th {\n",
       "        vertical-align: top;\n",
       "    }\n",
       "\n",
       "    .dataframe thead th {\n",
       "        text-align: right;\n",
       "    }\n",
       "</style>\n",
       "<table border=\"1\" class=\"dataframe\">\n",
       "  <thead>\n",
       "    <tr style=\"text-align: right;\">\n",
       "      <th></th>\n",
       "      <th>indice1</th>\n",
       "      <th>indice2</th>\n",
       "      <th>indice3</th>\n",
       "    </tr>\n",
       "    <tr>\n",
       "      <th>prodotto</th>\n",
       "      <th></th>\n",
       "      <th></th>\n",
       "      <th></th>\n",
       "    </tr>\n",
       "  </thead>\n",
       "  <tbody>\n",
       "    <tr>\n",
       "      <th>birra</th>\n",
       "      <td>115</td>\n",
       "      <td>59</td>\n",
       "      <td>10</td>\n",
       "    </tr>\n",
       "    <tr>\n",
       "      <th>pepe</th>\n",
       "      <td>117</td>\n",
       "      <td>5</td>\n",
       "      <td>10</td>\n",
       "    </tr>\n",
       "  </tbody>\n",
       "</table>\n",
       "</div>"
      ],
      "text/plain": [
       "          indice1  indice2  indice3\n",
       "prodotto                           \n",
       "birra         115       59       10\n",
       "pepe          117        5       10"
      ]
     },
     "execution_count": 84,
     "metadata": {},
     "output_type": "execute_result"
    }
   ],
   "source": [
    "df.loc[(df.indice1 > 114) & (df.indice3 == 10)]"
   ]
  },
  {
   "cell_type": "code",
   "execution_count": null,
   "id": "ca4c03ab-e462-4e1b-8684-6e9df33c94e4",
   "metadata": {},
   "outputs": [],
   "source": []
  }
 ],
 "metadata": {
  "kernelspec": {
   "display_name": "Python 3 (ipykernel)",
   "language": "python",
   "name": "python3"
  },
  "language_info": {
   "codemirror_mode": {
    "name": "ipython",
    "version": 3
   },
   "file_extension": ".py",
   "mimetype": "text/x-python",
   "name": "python",
   "nbconvert_exporter": "python",
   "pygments_lexer": "ipython3",
   "version": "3.9.12"
  }
 },
 "nbformat": 4,
 "nbformat_minor": 5
}
