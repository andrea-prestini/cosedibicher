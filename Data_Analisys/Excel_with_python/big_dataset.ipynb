{
 "cells": [
  {
   "cell_type": "code",
   "execution_count": 3,
   "metadata": {},
   "outputs": [],
   "source": [
    "import pandas as pd\n",
    "import numpy as np\n",
    "import vaex as va "
   ]
  },
  {
   "cell_type": "code",
   "execution_count": 4,
   "metadata": {},
   "outputs": [],
   "source": [
    "def get_dataset(size):\n",
    "    df = pd.DataFrame()\n",
    "    df[\"position\"] = np.random.choice([\"left\", \"middle\", \"right\"], size)\n",
    "    df[\"age\"] = np.random.randint(1, 50)\n",
    "    df[\"team\"] = np.random.choice([\"red\", \"blue\", \"yellow\", \"green\"], size)\n",
    "    df[\"win\"] = np.random.choice([\"yes\", \"no\"], size)\n",
    "    df[\"prob\"] = np.random.uniform(0, 1, size)\n",
    "    return df\n"
   ]
  },
  {
   "cell_type": "code",
   "execution_count": 6,
   "metadata": {},
   "outputs": [
    {
     "name": "stdout",
     "output_type": "stream",
     "text": [
      "<class 'pandas.core.frame.DataFrame'>\n",
      "RangeIndex: 10000000 entries, 0 to 9999999\n",
      "Columns: 5 entries, position to prob\n",
      "dtypes: float64(1), int64(1), object(3)\n",
      "memory usage: 1.9 GB\n"
     ]
    }
   ],
   "source": [
    "df = get_dataset(10_000_000)\n",
    "df.info(verbose=False, memory_usage=\"deep\")\n"
   ]
  },
  {
   "cell_type": "code",
   "execution_count": 10,
   "metadata": {},
   "outputs": [
    {
     "data": {
      "text/html": [
       "<style>.vaex-description pre {\n",
       "          max-width : 450px;\n",
       "          white-space : nowrap;\n",
       "          overflow : hidden;\n",
       "          text-overflow: ellipsis;\n",
       "        }\n",
       "\n",
       "        .vex-description pre:hover {\n",
       "          max-width : initial;\n",
       "          white-space: pre;\n",
       "        }</style>"
      ],
      "text/plain": [
       "<IPython.core.display.HTML object>"
      ]
     },
     "metadata": {},
     "output_type": "display_data"
    },
    {
     "data": {
      "text/html": [
       "<div><h2>no-name</h2> <b>rows</b>: 10,000,000</div><h2>Columns:</h2><table class='table-striped'><thead><tr><th>column</th><th>type</th><th>unit</th><th>description</th><th>expression</th></tr></thead><tr><td>position</td><td>str</td><td></td><td ><pre></pre></td><td></td></tr><tr><td>age</td><td>int64</td><td></td><td ><pre></pre></td><td></td></tr><tr><td>team</td><td>str</td><td></td><td ><pre></pre></td><td></td></tr><tr><td>win</td><td>str</td><td></td><td ><pre></pre></td><td></td></tr><tr><td>prob</td><td>float64</td><td></td><td ><pre></pre></td><td></td></tr></table><h2>Data:</h2><table>\n",
       "<thead>\n",
       "<tr><th>#                                    </th><th>position  </th><th>age  </th><th>team  </th><th>win  </th><th>prob               </th></tr>\n",
       "</thead>\n",
       "<tbody>\n",
       "<tr><td><i style='opacity: 0.6'>0</i>        </td><td>left      </td><td>35   </td><td>yellow</td><td>yes  </td><td>0.8640728431132727 </td></tr>\n",
       "<tr><td><i style='opacity: 0.6'>1</i>        </td><td>middle    </td><td>35   </td><td>blue  </td><td>no   </td><td>0.10040635970133838</td></tr>\n",
       "<tr><td><i style='opacity: 0.6'>2</i>        </td><td>right     </td><td>35   </td><td>green </td><td>yes  </td><td>0.9092958975352959 </td></tr>\n",
       "<tr><td><i style='opacity: 0.6'>3</i>        </td><td>right     </td><td>35   </td><td>blue  </td><td>no   </td><td>0.3196169320833133 </td></tr>\n",
       "<tr><td><i style='opacity: 0.6'>4</i>        </td><td>left      </td><td>35   </td><td>blue  </td><td>no   </td><td>0.9177234011703803 </td></tr>\n",
       "<tr><td>...                                  </td><td>...       </td><td>...  </td><td>...   </td><td>...  </td><td>...                </td></tr>\n",
       "<tr><td><i style='opacity: 0.6'>9,999,995</i></td><td>left      </td><td>35   </td><td>yellow</td><td>no   </td><td>0.8737994741052032 </td></tr>\n",
       "<tr><td><i style='opacity: 0.6'>9,999,996</i></td><td>left      </td><td>35   </td><td>red   </td><td>no   </td><td>0.14470004526102076</td></tr>\n",
       "<tr><td><i style='opacity: 0.6'>9,999,997</i></td><td>right     </td><td>35   </td><td>yellow</td><td>no   </td><td>0.8542159839909356 </td></tr>\n",
       "<tr><td><i style='opacity: 0.6'>9,999,998</i></td><td>left      </td><td>35   </td><td>blue  </td><td>no   </td><td>0.862891387845136  </td></tr>\n",
       "<tr><td><i style='opacity: 0.6'>9,999,999</i></td><td>left      </td><td>35   </td><td>blue  </td><td>yes  </td><td>0.9899912983143375 </td></tr>\n",
       "</tbody>\n",
       "</table>"
      ],
      "text/plain": [
       "<IPython.core.display.HTML object>"
      ]
     },
     "metadata": {},
     "output_type": "display_data"
    }
   ],
   "source": [
    "data = va.from_pandas(df)\n",
    "data.info()"
   ]
  },
  {
   "cell_type": "markdown",
   "metadata": {},
   "source": [
    "### Casting colonna team e position da stringa a category: riduzione dimensione max dataframe di circa 140 MB..."
   ]
  },
  {
   "cell_type": "code",
   "execution_count": 11,
   "metadata": {},
   "outputs": [
    {
     "name": "stdout",
     "output_type": "stream",
     "text": [
      "<class 'pandas.core.frame.DataFrame'>\n",
      "RangeIndex: 10000000 entries, 0 to 9999999\n",
      "Columns: 5 entries, position to prob\n",
      "dtypes: category(2), float64(1), int64(1), object(1)\n",
      "memory usage: 739.1 MB\n"
     ]
    }
   ],
   "source": [
    "df[\"position\"] = df[\"position\"].astype(\"category\")\n",
    "df[\"team\"] = df[\"team\"].astype(\"category\")\n",
    "df.info(verbose=False, memory_usage=\"deep\")"
   ]
  },
  {
   "cell_type": "markdown",
   "metadata": {},
   "source": [
    "### Casting age da int16 ad int8; verificare che il range contenga tutti i dati del nostro dataframe. Diversamente perderemmo dei record!\n",
    "\n",
    "- int8    can store integers from -128 to 127\n",
    "- int16   can store integers from -32768 to 32767\n",
    "- int64   cant store integers from -9223372036854775808 to 9223372036854775807"
   ]
  },
  {
   "cell_type": "code",
   "execution_count": 12,
   "metadata": {},
   "outputs": [
    {
     "name": "stdout",
     "output_type": "stream",
     "text": [
      "<class 'pandas.core.frame.DataFrame'>\n",
      "RangeIndex: 10000000 entries, 0 to 9999999\n",
      "Columns: 5 entries, position to prob\n",
      "dtypes: category(2), float64(1), int8(1), object(1)\n",
      "memory usage: 672.3 MB\n"
     ]
    }
   ],
   "source": [
    "df[\"age\"] = df[\"age\"].astype(\"int8\")\n",
    "df.info(verbose=False, memory_usage=\"deep\")"
   ]
  },
  {
   "cell_type": "markdown",
   "metadata": {},
   "source": [
    "### Cast win da object (stringa) a bool (True of False).\n",
    "Recuperati altri 70 MB"
   ]
  },
  {
   "cell_type": "code",
   "execution_count": 13,
   "metadata": {},
   "outputs": [
    {
     "name": "stdout",
     "output_type": "stream",
     "text": [
      "<class 'pandas.core.frame.DataFrame'>\n",
      "RangeIndex: 10000000 entries, 0 to 9999999\n",
      "Columns: 5 entries, position to prob\n",
      "dtypes: bool(1), category(2), float64(1), int8(1)\n",
      "memory usage: 114.4 MB\n"
     ]
    }
   ],
   "source": [
    "df[\"win\"] = df[\"win\"].map({\"yes\": True, \"no\": False})\n",
    "df.info(verbose=False, memory_usage=\"deep\")"
   ]
  }
 ],
 "metadata": {
  "interpreter": {
   "hash": "7473d73b0517ab6f64aa731f2cb80c0acf19c95420055020da77d830c23b4531"
  },
  "kernelspec": {
   "display_name": "Python 3.9.12 ('base')",
   "language": "python",
   "name": "python3"
  },
  "language_info": {
   "codemirror_mode": {
    "name": "ipython",
    "version": 3
   },
   "file_extension": ".py",
   "mimetype": "text/x-python",
   "name": "python",
   "nbconvert_exporter": "python",
   "pygments_lexer": "ipython3",
   "version": "3.9.12"
  },
  "orig_nbformat": 4
 },
 "nbformat": 4,
 "nbformat_minor": 2
}
