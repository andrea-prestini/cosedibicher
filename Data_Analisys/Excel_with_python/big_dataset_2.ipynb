{
 "cells": [
  {
   "cell_type": "code",
   "execution_count": 2,
   "metadata": {},
   "outputs": [],
   "source": [
    "import pandas as pd \n",
    "import numpy as np"
   ]
  },
  {
   "cell_type": "markdown",
   "metadata": {},
   "source": [
    "## Best Practice (from csv or xls)"
   ]
  },
  {
   "cell_type": "markdown",
   "metadata": {},
   "source": [
    "## 1 Don't load all the columns \n",
    "`pd.read_csv(\"miofile.csv\", usecols=[\"uno\", \"due\"])`"
   ]
  },
  {
   "cell_type": "markdown",
   "metadata": {},
   "source": [
    "## 2 Cast numerical columns with smaller dtypes\n",
    "- int8    can store integers from -128 to 127\n",
    "- int16   can store integers from -32768 to 32767\n",
    "- int64   cant store integers from -9223372036854775808 to 9223372036854775807\n",
    "\n",
    "`pd.read_csv(\"miofile.csv\", dtype={\"Ward Number\": \"int8\"})`"
   ]
  },
  {
   "cell_type": "markdown",
   "metadata": {},
   "source": [
    "## 3 Shrink categorical data using Categorical dtypes"
   ]
  },
  {
   "cell_type": "markdown",
   "metadata": {},
   "source": [
    "## 4 Sparse series\n",
    "`series.miacolonna.dropna()`"
   ]
  },
  {
   "cell_type": "code",
   "execution_count": 3,
   "metadata": {},
   "outputs": [],
   "source": [
    "size = 100_000_000\n",
    "df = pd.DataFrame()\n",
    "df[\"nome\"] = np.random.choice([\"andrea\", \"eleonora\"], size)\n",
    "df[\"cognome\"] = np.random.choice([\"prestini\", \"favagrossa\"], size)\n",
    "df[\"paese\"] = np.random.choice([\"esine\", \"breno\"], size)"
   ]
  },
  {
   "cell_type": "code",
   "execution_count": 4,
   "metadata": {},
   "outputs": [
    {
     "name": "stdout",
     "output_type": "stream",
     "text": [
      "<class 'pandas.core.frame.DataFrame'>\n",
      "RangeIndex: 100000000 entries, 0 to 99999999\n",
      "Columns: 3 entries, nome to paese\n",
      "dtypes: object(3)\n",
      "memory usage: 17.9 GB\n"
     ]
    }
   ],
   "source": [
    "df.info(verbose=False, memory_usage=\"deep\")"
   ]
  }
 ],
 "metadata": {
  "interpreter": {
   "hash": "7473d73b0517ab6f64aa731f2cb80c0acf19c95420055020da77d830c23b4531"
  },
  "kernelspec": {
   "display_name": "Python 3.9.12 ('base')",
   "language": "python",
   "name": "python3"
  },
  "language_info": {
   "codemirror_mode": {
    "name": "ipython",
    "version": 3
   },
   "file_extension": ".py",
   "mimetype": "text/x-python",
   "name": "python",
   "nbconvert_exporter": "python",
   "pygments_lexer": "ipython3",
   "version": "3.9.12"
  },
  "orig_nbformat": 4
 },
 "nbformat": 4,
 "nbformat_minor": 2
}
