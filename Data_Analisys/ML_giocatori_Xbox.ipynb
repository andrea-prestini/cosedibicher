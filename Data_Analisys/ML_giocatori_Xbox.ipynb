{
 "cells": [
  {
   "cell_type": "code",
   "execution_count": 7,
   "id": "ba931141-6d0d-417b-8915-9111f28495b8",
   "metadata": {},
   "outputs": [],
   "source": [
    "from pandas import read_csv\n",
    "from sklearn.tree import DecisionTreeClassifier"
   ]
  },
  {
   "cell_type": "code",
   "execution_count": 6,
   "id": "14bb1bb1-604f-4668-8b5b-e23eb740ad50",
   "metadata": {},
   "outputs": [],
   "source": [
    "# 0 femmina 1 maschio\n",
    "giocatori = read_csv(\"./giocatori.csv\")"
   ]
  },
  {
   "cell_type": "code",
   "execution_count": 8,
   "id": "64f1358d-b6d7-4137-a989-27492ff98b72",
   "metadata": {},
   "outputs": [
    {
     "name": "stdout",
     "output_type": "stream",
     "text": [
      "       genere  anni      videogame\n",
      "0           1    27     sparatutto\n",
      "1           1    27     gestionale\n",
      "2           1    27  combattimento\n",
      "3           0    27        fantasy\n",
      "4           0    17     gestionale\n",
      "...       ...   ...            ...\n",
      "92482       1    18       platform\n",
      "92483       1    20     sparatutto\n",
      "92484       1    23     gestionale\n",
      "92485       0    28     gestionale\n",
      "92486       1    36     gestionale\n",
      "\n",
      "[92487 rows x 3 columns]\n"
     ]
    }
   ],
   "source": [
    "print(giocatori)"
   ]
  },
  {
   "cell_type": "code",
   "execution_count": 9,
   "id": "9b1117e8-a036-4e08-9ef6-23f80518b2cb",
   "metadata": {},
   "outputs": [
    {
     "data": {
      "text/plain": [
       "DecisionTreeClassifier()"
      ]
     },
     "execution_count": 9,
     "metadata": {},
     "output_type": "execute_result"
    }
   ],
   "source": [
    "#colonne di INPUT X\n",
    "X = giocatori.drop(columns=[\"videogame\"])\n",
    "y = giocatori[\"videogame\"]\n",
    "\n",
    "modello = DecisionTreeClassifier()\n",
    "# il metodo fit addestra modello usando i dati input\n",
    "modello.fit(X.values, y.values) "
   ]
  },
  {
   "cell_type": "code",
   "execution_count": 10,
   "id": "714cebb4-3c42-42b7-9de4-8a146c8ddbe1",
   "metadata": {},
   "outputs": [
    {
     "name": "stdout",
     "output_type": "stream",
     "text": [
      "------------------------------\n",
      "previsione: femmina, anni 31\n",
      "['fantasy']\n",
      "\n",
      "previsione: maschio, anni 16\n",
      "['combattimento']\n"
     ]
    }
   ],
   "source": [
    "print(\"-\" * 30)\n",
    "# previsione femmina anni 31\n",
    "previsione = modello.predict([[0, 31]])\n",
    "print(\"previsione: femmina, anni 31\")\n",
    "print(previsione)\n",
    "\n",
    "print()\n",
    "print(\"previsione: maschio, anni 16\")\n",
    "print(modello.predict([[1,16]]))"
   ]
  }
 ],
 "metadata": {
  "kernelspec": {
   "display_name": "Python 3 (ipykernel)",
   "language": "python",
   "name": "python3"
  },
  "language_info": {
   "codemirror_mode": {
    "name": "ipython",
    "version": 3
   },
   "file_extension": ".py",
   "mimetype": "text/x-python",
   "name": "python",
   "nbconvert_exporter": "python",
   "pygments_lexer": "ipython3",
   "version": "3.9.12"
  }
 },
 "nbformat": 4,
 "nbformat_minor": 5
}
