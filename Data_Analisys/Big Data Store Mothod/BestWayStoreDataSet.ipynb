{
 "cells": [
  {
   "cell_type": "code",
   "execution_count": 5,
   "metadata": {},
   "outputs": [],
   "source": [
    "import pandas as pd\n",
    "import numpy as np\n",
    "\n",
    "def get_dataset(size):\n",
    "    # create fake Dataset\n",
    "    df = pd.DataFrame()\n",
    "    df[\"size\"] = np.random.choice([\"big\", \"medium\", \"small\"], size)\n",
    "    df[\"age\"] = np.random.randint(1, 50, size)\n",
    "    df[\"team\"] = np.random.choice([\"red\", \"blue\", \"yellow\", \"green\"], size)\n",
    "    df[\"win\"] = np.random.choice([\"yes\", \"no\"], size)\n",
    "    dates = pd.date_range(\"2020-01-01\", \"2022-12-31\")\n",
    "    df[\"date\"] = np.random.choice(dates, size)\n",
    "    df[\"prob\"] = np.random.uniform(0, 1, size)\n",
    "    return df\n",
    "\n",
    "\n",
    "def set_dtypes(df):\n",
    "    df[\"size\"] = df[\"size\"].astype(\"category\")\n",
    "    df[\"age\"] = df[\"age\"].astype(\"int16\")\n",
    "    df[\"team\"] = df[\"team\"].astype(\"category\")\n",
    "    df[\"win\"] = df[\"win\"].astype(\"bool\")\n",
    "    dates = pd.date_range(\"2020-01-01\", \"2022-12-31\")\n",
    "    df[\"prob\"] = df[\"prob\"].astype(\"float16\")\n",
    "    return df\n"
   ]
  },
  {
   "cell_type": "markdown",
   "metadata": {},
   "source": [
    "# Generate BIG dataset"
   ]
  },
  {
   "cell_type": "code",
   "execution_count": 8,
   "metadata": {},
   "outputs": [],
   "source": [
    "df = get_dataset(1_000_000)"
   ]
  },
  {
   "cell_type": "markdown",
   "metadata": {},
   "source": [
    "## CSV\n",
    "\n",
    "- WRITE 3.21 s\n",
    "- READ 0.489 s\n",
    "- 46 MB\n",
    "  \n",
    "**Perde** il Casting una volta ricaricato il file csv!"
   ]
  },
  {
   "cell_type": "code",
   "execution_count": 4,
   "metadata": {},
   "outputs": [
    {
     "name": "stdout",
     "output_type": "stream",
     "text": [
      "11 s ± 295 ms per loop (mean ± std. dev. of 7 runs, 1 loop each)\n"
     ]
    }
   ],
   "source": [
    "%%timeit\n",
    "df.to_csv(\"bigfile.csv\", index=False)"
   ]
  },
  {
   "cell_type": "code",
   "execution_count": 5,
   "metadata": {},
   "outputs": [
    {
     "name": "stdout",
     "output_type": "stream",
     "text": [
      "ls: opzione non valida -- \"j\"\n",
      "Try 'ls --help' for more information.\n"
     ]
    }
   ],
   "source": [
    "!ls -GFlashj bigfile.csv"
   ]
  },
  {
   "cell_type": "code",
   "execution_count": 6,
   "metadata": {},
   "outputs": [
    {
     "name": "stdout",
     "output_type": "stream",
     "text": [
      "539 ms ± 4.9 ms per loop (mean ± std. dev. of 7 runs, 1 loop each)\n"
     ]
    }
   ],
   "source": [
    "%%timeit\n",
    "df = pd.read_csv(\"bigfile.csv\")"
   ]
  },
  {
   "cell_type": "markdown",
   "metadata": {},
   "source": [
    "## PICKLE\n",
    "\n",
    "- WRITE 0,955 s\n",
    "- READ 0.338 s\n",
    "- MB 43\n",
    "\n",
    "**Mantiene** il casting una volta ricaricato"
   ]
  },
  {
   "cell_type": "code",
   "execution_count": 7,
   "metadata": {},
   "outputs": [
    {
     "name": "stdout",
     "output_type": "stream",
     "text": [
      "961 ms ± 11.5 ms per loop (mean ± std. dev. of 7 runs, 1 loop each)\n"
     ]
    }
   ],
   "source": [
    "df = get_dataset(1_000_000)\n",
    "%timeit df.to_pickle(\"bigfile.pickle\")"
   ]
  },
  {
   "cell_type": "code",
   "execution_count": 8,
   "metadata": {},
   "outputs": [
    {
     "name": "stdout",
     "output_type": "stream",
     "text": [
      "330 ms ± 5.42 ms per loop (mean ± std. dev. of 7 runs, 1 loop each)\n"
     ]
    }
   ],
   "source": [
    "%%timeit \n",
    "df_pickle = pd.read_pickle(\"bigfile.pickle\")"
   ]
  },
  {
   "cell_type": "code",
   "execution_count": 9,
   "metadata": {},
   "outputs": [
    {
     "name": "stdout",
     "output_type": "stream",
     "text": [
      "43M -rw-rw-r-- 1 andrea 43M giu  1 00:55 bigfile.pickle\n"
     ]
    }
   ],
   "source": [
    "!ls -GFlash bigfile.pickle"
   ]
  },
  {
   "cell_type": "markdown",
   "metadata": {},
   "source": [
    "## Parquet\n",
    "\n",
    "- WRITE 1.21 s\n",
    "-  0.271 s\n",
    "- MB 18"
   ]
  },
  {
   "cell_type": "code",
   "execution_count": 10,
   "metadata": {},
   "outputs": [],
   "source": [
    "import fastparquet"
   ]
  },
  {
   "cell_type": "code",
   "execution_count": 11,
   "metadata": {},
   "outputs": [],
   "source": [
    "df = get_dataset(1_000_000)"
   ]
  },
  {
   "cell_type": "code",
   "execution_count": 12,
   "metadata": {},
   "outputs": [
    {
     "name": "stdout",
     "output_type": "stream",
     "text": [
      "305 ms ± 12.6 ms per loop (mean ± std. dev. of 7 runs, 1 loop each)\n"
     ]
    }
   ],
   "source": [
    "%%timeit\n",
    "df.to_parquet(\"bigfile.parquet\")"
   ]
  },
  {
   "cell_type": "code",
   "execution_count": 13,
   "metadata": {},
   "outputs": [
    {
     "name": "stdout",
     "output_type": "stream",
     "text": [
      "101 ms ± 3.24 ms per loop (mean ± std. dev. of 7 runs, 10 loops each)\n"
     ]
    }
   ],
   "source": [
    "%%timeit\n",
    "df_parquet= pd.read_parquet(\"bigfile.parquet\")"
   ]
  },
  {
   "cell_type": "code",
   "execution_count": 14,
   "metadata": {},
   "outputs": [
    {
     "name": "stdout",
     "output_type": "stream",
     "text": [
      "11M -rw-rw-r-- 1 andrea 11M giu  1 00:55 bigfile.parquet\n"
     ]
    }
   ],
   "source": [
    "!ls -GFlash bigfile.parquet"
   ]
  },
  {
   "cell_type": "code",
   "execution_count": 15,
   "metadata": {},
   "outputs": [
    {
     "data": {
      "text/html": [
       "<div>\n",
       "<style scoped>\n",
       "    .dataframe tbody tr th:only-of-type {\n",
       "        vertical-align: middle;\n",
       "    }\n",
       "\n",
       "    .dataframe tbody tr th {\n",
       "        vertical-align: top;\n",
       "    }\n",
       "\n",
       "    .dataframe thead th {\n",
       "        text-align: right;\n",
       "    }\n",
       "</style>\n",
       "<table border=\"1\" class=\"dataframe\">\n",
       "  <thead>\n",
       "    <tr style=\"text-align: right;\">\n",
       "      <th></th>\n",
       "      <th>date</th>\n",
       "      <th>win</th>\n",
       "    </tr>\n",
       "  </thead>\n",
       "  <tbody>\n",
       "    <tr>\n",
       "      <th>0</th>\n",
       "      <td>2022-03-23</td>\n",
       "      <td>no</td>\n",
       "    </tr>\n",
       "    <tr>\n",
       "      <th>1</th>\n",
       "      <td>2020-07-01</td>\n",
       "      <td>yes</td>\n",
       "    </tr>\n",
       "    <tr>\n",
       "      <th>2</th>\n",
       "      <td>2021-02-07</td>\n",
       "      <td>yes</td>\n",
       "    </tr>\n",
       "    <tr>\n",
       "      <th>3</th>\n",
       "      <td>2021-11-08</td>\n",
       "      <td>no</td>\n",
       "    </tr>\n",
       "    <tr>\n",
       "      <th>4</th>\n",
       "      <td>2020-11-14</td>\n",
       "      <td>no</td>\n",
       "    </tr>\n",
       "  </tbody>\n",
       "</table>\n",
       "</div>"
      ],
      "text/plain": [
       "        date  win\n",
       "0 2022-03-23   no\n",
       "1 2020-07-01  yes\n",
       "2 2021-02-07  yes\n",
       "3 2021-11-08   no\n",
       "4 2020-11-14   no"
      ]
     },
     "execution_count": 15,
     "metadata": {},
     "output_type": "execute_result"
    }
   ],
   "source": [
    "# Read in specific columns\n",
    "df_example = pd.read_parquet(\"bigfile.parquet\", columns=[\"date\", \"win\"])\n",
    "df_example.head(5)"
   ]
  },
  {
   "cell_type": "code",
   "execution_count": 18,
   "metadata": {},
   "outputs": [
    {
     "name": "stdout",
     "output_type": "stream",
     "text": [
      "46M -rw-rw-r-- 1 andrea 46M giu  1 00:55 bigfile.csv\n",
      "11M -rw-rw-r-- 1 andrea 11M giu  1 00:55 bigfile.parquet\n",
      "43M -rw-rw-r-- 1 andrea 43M giu  1 00:55 bigfile.pickle\n"
     ]
    }
   ],
   "source": [
    "!ls -GFlash big*"
   ]
  },
  {
   "cell_type": "markdown",
   "metadata": {},
   "source": [
    "## CSV\n",
    "\n",
    "- WRITE 3.21 s\n",
    "- READ 0.489 s\n",
    "- 46 MB\n",
    "\n",
    "## PICKLE\n",
    "**Perde** il Casting una volta ricaricato il file csv!\n",
    "\n",
    "- WRITE 0,955 s\n",
    "- READ 0.338 s\n",
    "- MB 43\n",
    "\n",
    "**Mantiene** il casting una volta ricaricato\n",
    "\n",
    "## PARQUET\n",
    "\n",
    "- WRITE 1.21 s\n",
    "-  0.271 s\n",
    "- MB 18\n"
   ]
  }
 ],
 "metadata": {
  "interpreter": {
   "hash": "030d33b0269fbc41907af1949942be6d62118f33c8136f2ad94e7cb89a2fbdb8"
  },
  "kernelspec": {
   "display_name": "Python 3.8.13",
   "language": "python",
   "name": "python3"
  },
  "language_info": {
   "codemirror_mode": {
    "name": "ipython",
    "version": 3
   },
   "file_extension": ".py",
   "mimetype": "text/x-python",
   "name": "python",
   "nbconvert_exporter": "python",
   "pygments_lexer": "ipython3",
   "version": "3.8.13"
  },
  "orig_nbformat": 4
 },
 "nbformat": 4,
 "nbformat_minor": 2
}
