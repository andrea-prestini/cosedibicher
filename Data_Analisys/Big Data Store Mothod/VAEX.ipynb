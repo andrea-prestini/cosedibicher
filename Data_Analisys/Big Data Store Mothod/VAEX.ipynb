{
 "cells": [
  {
   "cell_type": "code",
   "execution_count": 2,
   "metadata": {},
   "outputs": [],
   "source": [
    "import pandas as pd\n",
    "import numpy as np\n",
    "import vaex\n"
   ]
  },
  {
   "cell_type": "code",
   "execution_count": 3,
   "metadata": {},
   "outputs": [],
   "source": [
    "n_rows = 1_000_000\n",
    "n_cols = 20\n",
    "\n",
    "\n",
    "df = pd.DataFrame(\n",
    "    np.random.randint(\n",
    "    100_000_000, 1000_000_000,\n",
    "    size=(n_rows, n_cols)),\n",
    "    columns=[\"c%d\" % i for i in range(n_cols)])\n"
   ]
  },
  {
   "cell_type": "code",
   "execution_count": 5,
   "metadata": {},
   "outputs": [],
   "source": [
    "df.to_csv(\"filegrande.csv\", index=False)"
   ]
  },
  {
   "cell_type": "code",
   "execution_count": 7,
   "metadata": {},
   "outputs": [
    {
     "name": "stdout",
     "output_type": "stream",
     "text": [
      "CPU times: user 3 µs, sys: 0 ns, total: 3 µs\n",
      "Wall time: 5.96 µs\n"
     ]
    }
   ],
   "source": [
    "%time\n",
    "vaex_df = vaex.from_csv(\"filegrande.csv\", convert=True, chunk_size=5_000)"
   ]
  },
  {
   "cell_type": "code",
   "execution_count": 8,
   "metadata": {},
   "outputs": [
    {
     "name": "stdout",
     "output_type": "stream",
     "text": [
      "CPU times: user 4 µs, sys: 0 ns, total: 4 µs\n",
      "Wall time: 8.58 µs\n"
     ]
    }
   ],
   "source": [
    "%time\n",
    "df_test = pd.read_csv(\"filegrande.csv\")"
   ]
  },
  {
   "cell_type": "code",
   "execution_count": 12,
   "metadata": {},
   "outputs": [
    {
     "data": {
      "text/html": [
       "<table>\n",
       "<thead>\n",
       "<tr><th>#                                  </th><th>c11      </th><th>c12      </th><th>c13      </th></tr>\n",
       "</thead>\n",
       "<tbody>\n",
       "<tr><td><i style='opacity: 0.6'>0</i>      </td><td>168394221</td><td>694764391</td><td>257203402</td></tr>\n",
       "<tr><td><i style='opacity: 0.6'>1</i>      </td><td>966463465</td><td>961630739</td><td>373153280</td></tr>\n",
       "<tr><td><i style='opacity: 0.6'>2</i>      </td><td>111252969</td><td>860943648</td><td>748983135</td></tr>\n",
       "<tr><td><i style='opacity: 0.6'>3</i>      </td><td>873770192</td><td>662984873</td><td>362385534</td></tr>\n",
       "<tr><td><i style='opacity: 0.6'>4</i>      </td><td>699686612</td><td>836135427</td><td>331164480</td></tr>\n",
       "<tr><td>...                                </td><td>...      </td><td>...      </td><td>...      </td></tr>\n",
       "<tr><td><i style='opacity: 0.6'>999,995</i></td><td>861035290</td><td>154422723</td><td>881645391</td></tr>\n",
       "<tr><td><i style='opacity: 0.6'>999,996</i></td><td>800170555</td><td>316599403</td><td>671606375</td></tr>\n",
       "<tr><td><i style='opacity: 0.6'>999,997</i></td><td>780158330</td><td>252955941</td><td>629381770</td></tr>\n",
       "<tr><td><i style='opacity: 0.6'>999,998</i></td><td>873389525</td><td>241546445</td><td>744648480</td></tr>\n",
       "<tr><td><i style='opacity: 0.6'>999,999</i></td><td>182245108</td><td>962952590</td><td>696632413</td></tr>\n",
       "</tbody>\n",
       "</table>"
      ],
      "text/plain": [
       "#        c11        c12        c13\n",
       "0        168394221  694764391  257203402\n",
       "1        966463465  961630739  373153280\n",
       "2        111252969  860943648  748983135\n",
       "3        873770192  662984873  362385534\n",
       "4        699686612  836135427  331164480\n",
       "...      ...        ...        ...\n",
       "999,995  861035290  154422723  881645391\n",
       "999,996  800170555  316599403  671606375\n",
       "999,997  780158330  252955941  629381770\n",
       "999,998  873389525  241546445  744648480\n",
       "999,999  182245108  962952590  696632413"
      ]
     },
     "execution_count": 12,
     "metadata": {},
     "output_type": "execute_result"
    }
   ],
   "source": [
    "df_vaex[df_vaex[\"c12\"] > 1_000_000][\"c11\", \"c12\", \"c13\"]"
   ]
  }
 ],
 "metadata": {
  "kernelspec": {
   "display_name": "Python 3.9.12 ('base')",
   "language": "python",
   "name": "python3"
  },
  "language_info": {
   "codemirror_mode": {
    "name": "ipython",
    "version": 3
   },
   "file_extension": ".py",
   "mimetype": "text/x-python",
   "name": "python",
   "nbconvert_exporter": "python",
   "pygments_lexer": "ipython3",
   "version": "3.9.12"
  },
  "orig_nbformat": 4,
  "vscode": {
   "interpreter": {
    "hash": "7473d73b0517ab6f64aa731f2cb80c0acf19c95420055020da77d830c23b4531"
   }
  }
 },
 "nbformat": 4,
 "nbformat_minor": 2
}
