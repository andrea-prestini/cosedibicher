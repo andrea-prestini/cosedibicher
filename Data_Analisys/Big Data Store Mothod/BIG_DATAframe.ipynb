{
 "cells": [
  {
   "cell_type": "code",
   "execution_count": 1,
   "metadata": {},
   "outputs": [],
   "source": [
    "import pandas as pd\n",
    "import numpy as np\n",
    "\n",
    "def get_dataset(size):\n",
    "    # create fake Dataset\n",
    "    df = pd.DataFrame()\n",
    "    df[\"size\"] = np.random.choice([\"big\", \"medium\", \"small\"], size)\n",
    "    df[\"age\"] = np.random.randint(1, 50, size)\n",
    "    df[\"team\"] = np.random.choice([\"red\", \"blue\", \"yellow\", \"green\"], size)\n",
    "    df[\"win\"] = np.random.choice([\"yes\", \"no\"], size)\n",
    "    dates = pd.date_range(\"2020-01-01\", \"2022-12-31\")\n",
    "    df[\"date\"] = np.random.choice(dates, size)\n",
    "    df[\"prob\"] = np.random.uniform(0, 1, size)\n",
    "    return df\n",
    "\n",
    "\n",
    "def set_dtypes(df):\n",
    "    df[\"size\"] = df[\"size\"].astype(\"category\")\n",
    "    df[\"age\"] = df[\"age\"].astype(\"int16\")\n",
    "    df[\"team\"] = df[\"team\"].astype(\"category\")\n",
    "    df[\"win\"] = df[\"win\"].astype(\"bool\")\n",
    "    dates = pd.date_range(\"2020-01-01\", \"2022-12-31\")\n",
    "    df[\"prob\"] = df[\"prob\"].astype(\"float16\")\n",
    "    return df\n"
   ]
  },
  {
   "cell_type": "markdown",
   "metadata": {},
   "source": [
    "# Generate BIG dataset"
   ]
  },
  {
   "cell_type": "code",
   "execution_count": 2,
   "metadata": {},
   "outputs": [],
   "source": [
    "df = get_dataset(100_000_000)"
   ]
  },
  {
   "cell_type": "code",
   "execution_count": null,
   "metadata": {},
   "outputs": [],
   "source": [
    "df[df[\"age\"] > 49]"
   ]
  },
  {
   "cell_type": "markdown",
   "metadata": {},
   "source": [
    "## CSV\n",
    "\n",
    "- WRITE 3.21 s\n",
    "- READ 0.489 s\n",
    "- 46 MB\n",
    "  \n",
    "**Perde** il Casting una volta ricaricato il file csv!"
   ]
  },
  {
   "cell_type": "code",
   "execution_count": 4,
   "metadata": {},
   "outputs": [
    {
     "name": "stdout",
     "output_type": "stream",
     "text": [
      "11 s ± 295 ms per loop (mean ± std. dev. of 7 runs, 1 loop each)\n"
     ]
    }
   ],
   "source": [
    "%%timeit\n",
    "df.to_csv(\"bigfile.csv\", index=False)"
   ]
  },
  {
   "cell_type": "code",
   "execution_count": 5,
   "metadata": {},
   "outputs": [
    {
     "name": "stdout",
     "output_type": "stream",
     "text": [
      "ls: opzione non valida -- \"j\"\n",
      "Try 'ls --help' for more information.\n"
     ]
    }
   ],
   "source": [
    "!ls -GFlashj bigfile.csv"
   ]
  }
 ],
 "metadata": {
  "interpreter": {
   "hash": "030d33b0269fbc41907af1949942be6d62118f33c8136f2ad94e7cb89a2fbdb8"
  },
  "kernelspec": {
   "display_name": "Python 3.8.13",
   "language": "python",
   "name": "python3"
  },
  "language_info": {
   "codemirror_mode": {
    "name": "ipython",
    "version": 3
   },
   "file_extension": ".py",
   "mimetype": "text/x-python",
   "name": "python",
   "nbconvert_exporter": "python",
   "pygments_lexer": "ipython3",
   "version": "3.8.13"
  },
  "orig_nbformat": 4
 },
 "nbformat": 4,
 "nbformat_minor": 2
}
