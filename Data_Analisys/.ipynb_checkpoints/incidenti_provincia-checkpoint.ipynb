{
 "cells": [
  {
   "cell_type": "code",
   "execution_count": 1,
   "id": "b3c8e54e-e17f-46e6-a608-4a9da6feca7d",
   "metadata": {},
   "outputs": [],
   "source": [
    "import pandas as pd\n",
    "import matplotlib.pyplot as plt"
   ]
  },
  {
   "cell_type": "code",
   "execution_count": 2,
   "id": "874add39-a832-4d3a-89fb-c989ba490573",
   "metadata": {},
   "outputs": [],
   "source": [
    "df = pd.read_csv(\"Incidenti_stradali.csv\")"
   ]
  },
  {
   "cell_type": "code",
   "execution_count": 3,
   "id": "1cc47a1c-5ad5-45ae-a460-b8ad2c5df73f",
   "metadata": {},
   "outputs": [
    {
     "data": {
      "text/plain": [
       "Index(['Anno_Incidente', 'Codice Istat provincia', 'Provincia',\n",
       "       'Codice Istat comune', 'Comune', 'Numero incidenti', 'Totale morti',\n",
       "       'Totale Feriti'],\n",
       "      dtype='object')"
      ]
     },
     "execution_count": 3,
     "metadata": {},
     "output_type": "execute_result"
    }
   ],
   "source": [
    "df.columns"
   ]
  },
  {
   "cell_type": "code",
   "execution_count": 4,
   "id": "308a7ab5-e1fb-401f-bcc4-52ff455dd021",
   "metadata": {},
   "outputs": [],
   "source": [
    "df = df.drop(columns=[\"Codice Istat provincia\", \"Codice Istat comune\"])"
   ]
  },
  {
   "cell_type": "code",
   "execution_count": 5,
   "id": "9a283156-203c-4eb1-b455-90b509f2563a",
   "metadata": {},
   "outputs": [
    {
     "data": {
      "text/html": [
       "<div>\n",
       "<style scoped>\n",
       "    .dataframe tbody tr th:only-of-type {\n",
       "        vertical-align: middle;\n",
       "    }\n",
       "\n",
       "    .dataframe tbody tr th {\n",
       "        vertical-align: top;\n",
       "    }\n",
       "\n",
       "    .dataframe thead th {\n",
       "        text-align: right;\n",
       "    }\n",
       "</style>\n",
       "<table border=\"1\" class=\"dataframe\">\n",
       "  <thead>\n",
       "    <tr style=\"text-align: right;\">\n",
       "      <th></th>\n",
       "      <th>Anno_Incidente</th>\n",
       "      <th>Provincia</th>\n",
       "      <th>Comune</th>\n",
       "      <th>Numero incidenti</th>\n",
       "      <th>Totale morti</th>\n",
       "      <th>Totale Feriti</th>\n",
       "    </tr>\n",
       "  </thead>\n",
       "  <tbody>\n",
       "    <tr>\n",
       "      <th>0</th>\n",
       "      <td>2010</td>\n",
       "      <td>BG</td>\n",
       "      <td>BERGAMO</td>\n",
       "      <td>1066</td>\n",
       "      <td>6</td>\n",
       "      <td>1386</td>\n",
       "    </tr>\n",
       "    <tr>\n",
       "      <th>1</th>\n",
       "      <td>2010</td>\n",
       "      <td>BS</td>\n",
       "      <td>BRESCIA</td>\n",
       "      <td>1003</td>\n",
       "      <td>6</td>\n",
       "      <td>1421</td>\n",
       "    </tr>\n",
       "    <tr>\n",
       "      <th>2</th>\n",
       "      <td>2010</td>\n",
       "      <td>BG</td>\n",
       "      <td>SERIATE</td>\n",
       "      <td>99</td>\n",
       "      <td>3</td>\n",
       "      <td>158</td>\n",
       "    </tr>\n",
       "  </tbody>\n",
       "</table>\n",
       "</div>"
      ],
      "text/plain": [
       "   Anno_Incidente Provincia   Comune  Numero incidenti  Totale morti  \\\n",
       "0            2010        BG  BERGAMO              1066             6   \n",
       "1            2010        BS  BRESCIA              1003             6   \n",
       "2            2010        BG  SERIATE                99             3   \n",
       "\n",
       "   Totale Feriti  \n",
       "0           1386  \n",
       "1           1421  \n",
       "2            158  "
      ]
     },
     "execution_count": 5,
     "metadata": {},
     "output_type": "execute_result"
    }
   ],
   "source": [
    "df.head(3)"
   ]
  },
  {
   "cell_type": "code",
   "execution_count": 6,
   "id": "c1721fb7-026e-4470-a2ca-9c3a5e397196",
   "metadata": {},
   "outputs": [],
   "source": [
    "df_brescia_prov= df.loc[(df[\"Provincia\"] == \"BS\") & (df[\"Comune\"] != \"BRESCIA\")]"
   ]
  },
  {
   "cell_type": "code",
   "execution_count": 7,
   "id": "db0f1f13-d431-4037-891d-574dea767e70",
   "metadata": {},
   "outputs": [
    {
     "data": {
      "text/html": [
       "<div>\n",
       "<style scoped>\n",
       "    .dataframe tbody tr th:only-of-type {\n",
       "        vertical-align: middle;\n",
       "    }\n",
       "\n",
       "    .dataframe tbody tr th {\n",
       "        vertical-align: top;\n",
       "    }\n",
       "\n",
       "    .dataframe thead th {\n",
       "        text-align: right;\n",
       "    }\n",
       "</style>\n",
       "<table border=\"1\" class=\"dataframe\">\n",
       "  <thead>\n",
       "    <tr style=\"text-align: right;\">\n",
       "      <th></th>\n",
       "      <th>Anno_Incidente</th>\n",
       "      <th>Provincia</th>\n",
       "      <th>Comune</th>\n",
       "      <th>Numero incidenti</th>\n",
       "      <th>Totale morti</th>\n",
       "      <th>Totale Feriti</th>\n",
       "    </tr>\n",
       "  </thead>\n",
       "  <tbody>\n",
       "    <tr>\n",
       "      <th>412</th>\n",
       "      <td>2016</td>\n",
       "      <td>BS</td>\n",
       "      <td>DESENZANO DEL GARDA</td>\n",
       "      <td>155</td>\n",
       "      <td>2</td>\n",
       "      <td>244</td>\n",
       "    </tr>\n",
       "    <tr>\n",
       "      <th>423</th>\n",
       "      <td>2016</td>\n",
       "      <td>BS</td>\n",
       "      <td>MONTICHIARI</td>\n",
       "      <td>90</td>\n",
       "      <td>1</td>\n",
       "      <td>139</td>\n",
       "    </tr>\n",
       "    <tr>\n",
       "      <th>467</th>\n",
       "      <td>2016</td>\n",
       "      <td>BS</td>\n",
       "      <td>LUMEZZANE</td>\n",
       "      <td>31</td>\n",
       "      <td>1</td>\n",
       "      <td>38</td>\n",
       "    </tr>\n",
       "    <tr>\n",
       "      <th>414</th>\n",
       "      <td>2016</td>\n",
       "      <td>BS</td>\n",
       "      <td>PALAZZOLO SULL'OGLIO</td>\n",
       "      <td>64</td>\n",
       "      <td>0</td>\n",
       "      <td>89</td>\n",
       "    </tr>\n",
       "    <tr>\n",
       "      <th>397</th>\n",
       "      <td>2015</td>\n",
       "      <td>BS</td>\n",
       "      <td>DESENZANO DEL GARDA</td>\n",
       "      <td>152</td>\n",
       "      <td>5</td>\n",
       "      <td>201</td>\n",
       "    </tr>\n",
       "  </tbody>\n",
       "</table>\n",
       "</div>"
      ],
      "text/plain": [
       "     Anno_Incidente Provincia                Comune  Numero incidenti  \\\n",
       "412            2016        BS   DESENZANO DEL GARDA               155   \n",
       "423            2016        BS           MONTICHIARI                90   \n",
       "467            2016        BS             LUMEZZANE                31   \n",
       "414            2016        BS  PALAZZOLO SULL'OGLIO                64   \n",
       "397            2015        BS   DESENZANO DEL GARDA               152   \n",
       "\n",
       "     Totale morti  Totale Feriti  \n",
       "412             2            244  \n",
       "423             1            139  \n",
       "467             1             38  \n",
       "414             0             89  \n",
       "397             5            201  "
      ]
     },
     "execution_count": 7,
     "metadata": {},
     "output_type": "execute_result"
    }
   ],
   "source": [
    "df_brescia_prov.sort_values([\"Anno_Incidente\",\"Totale morti\"], ascending = False).head(5)"
   ]
  },
  {
   "cell_type": "code",
   "execution_count": 8,
   "id": "9f479bfa-962c-45d6-9adc-2792fe989eb9",
   "metadata": {},
   "outputs": [],
   "source": [
    "df2 = df_brescia_prov.loc[:, [\"Anno_Incidente\", \"Comune\", \"Numero incidenti\", \"Totale morti\", \"Totale Feriti\"]]"
   ]
  },
  {
   "cell_type": "code",
   "execution_count": 9,
   "id": "ec596fea-2775-41fa-a3cf-dd730fe4f42e",
   "metadata": {},
   "outputs": [],
   "source": [
    "df2_sorted = df2.sort_values([\"Anno_Incidente\",\"Totale morti\"], ascending = False).head(10)"
   ]
  },
  {
   "cell_type": "code",
   "execution_count": 10,
   "id": "81a0e815-4367-41a6-a025-7e2e42450710",
   "metadata": {},
   "outputs": [
    {
     "data": {
      "text/plain": [
       "<AxesSubplot:xlabel='Comune'>"
      ]
     },
     "execution_count": 10,
     "metadata": {},
     "output_type": "execute_result"
    },
    {
     "data": {
      "image/png": "[encoded data removed]",
      "text/plain": [
       "<Figure size 432x288 with 1 Axes>"
      ]
     },
     "metadata": {
      "needs_background": "light"
     },
     "output_type": "display_data"
    }
   ],
   "source": [
    "df2_sorted.plot(x=\"Comune\", y=\"Numero incidenti\", kind = \"bar\")"
   ]
  },
  {
   "cell_type": "code",
   "execution_count": 11,
   "id": "da480e46-32f5-4451-bef1-ca1d12ca2a5b",
   "metadata": {},
   "outputs": [],
   "source": [
    "montichiari = (df2.loc[df2[\"Comune\"] == \"MONTICHIARI\"])\n",
    "lumezzane = (df2.loc[df2[\"Comune\"] == \"LUMEZZANE\"])"
   ]
  },
  {
   "cell_type": "code",
   "execution_count": 14,
   "id": "c2811f18-5009-4a84-9088-9792ec92f757",
   "metadata": {},
   "outputs": [
    {
     "name": "stdout",
     "output_type": "stream",
     "text": [
      "     Anno_Incidente     Comune  Numero incidenti  Totale morti  Totale Feriti\n",
      "35             2010  LUMEZZANE                37             0             53\n",
      "71             2011  LUMEZZANE                41             1             50\n",
      "144            2012  LUMEZZANE                36             0             42\n",
      "272            2013  LUMEZZANE                39             1             49\n",
      "321            2014  LUMEZZANE                34             0             53\n",
      "389            2015  LUMEZZANE                26             0             34\n",
      "467            2016  LUMEZZANE                31             1             38\n",
      "il totale dei feriti a lumezzane è 319\n"
     ]
    }
   ],
   "source": [
    "print(lumezzane)\n",
    "print(\"il totale dei feriti a lumezzane è\", lumezzane[\"Totale Feriti\"].sum())"
   ]
  },
  {
   "cell_type": "code",
   "execution_count": 17,
   "id": "50299e56-655f-4135-84b1-37f7c0ca8b66",
   "metadata": {},
   "outputs": [
    {
     "name": "stdout",
     "output_type": "stream",
     "text": [
      "     Anno_Incidente       Comune  Numero incidenti  Totale morti  \\\n",
      "44             2010  MONTICHIARI                89             1   \n",
      "114            2011  MONTICHIARI                99             5   \n",
      "143            2012  MONTICHIARI                91             8   \n",
      "208            2013  MONTICHIARI                81             1   \n",
      "304            2014  MONTICHIARI                78             3   \n",
      "385            2015  MONTICHIARI                84             3   \n",
      "423            2016  MONTICHIARI                90             1   \n",
      "\n",
      "     Totale Feriti  \n",
      "44             134  \n",
      "114            137  \n",
      "143            125  \n",
      "208            122  \n",
      "304            101  \n",
      "385            122  \n",
      "423            139  \n",
      "il totale dei feriti a montichiari è 880\n"
     ]
    }
   ],
   "source": [
    "print(montichiari)\n",
    "print(\"il totale dei feriti a montichiari è\", montichiari[\"Totale Feriti\"].sum())"
   ]
  }
 ],
 "metadata": {
  "kernelspec": {
   "display_name": "Python 3 (ipykernel)",
   "language": "python",
   "name": "python3"
  },
  "language_info": {
   "codemirror_mode": {
    "name": "ipython",
    "version": 3
   },
   "file_extension": ".py",
   "mimetype": "text/x-python",
   "name": "python",
   "nbconvert_exporter": "python",
   "pygments_lexer": "ipython3",
   "version": "3.8.13"
  },
  "widgets": {
   "application/vnd.jupyter.widget-state+json": {
    "state": {},
    "version_major": 2,
    "version_minor": 0
   }
  }
 },
 "nbformat": 4,
 "nbformat_minor": 5
}
