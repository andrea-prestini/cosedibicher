{
 "cells": [
  {
   "cell_type": "code",
   "execution_count": 1,
   "id": "8b234785-7b75-4b23-9c90-9bfce8520987",
   "metadata": {},
   "outputs": [],
   "source": [
    "grid = [\n",
    "        [5,3,0,0,7,0,0,0,0],\n",
    "        [6,0,0,1,9,5,0,0,0],\n",
    "        [0,9,8,0,0,0,0,6,0],\n",
    "        [8,0,0,0,6,0,0,0,3],\n",
    "        [4,0,0,8,0,3,0,0,1],\n",
    "        [7,0,0,0,2,0,0,0,6],\n",
    "        [0,6,0,0,0,0,2,8,0],\n",
    "        [0,0,0,0,8,0,0,7,9],\n",
    "        [0,0,0,0,8,0,0,7,9]\n",
    "]"
   ]
  },
  {
   "cell_type": "code",
   "execution_count": 2,
   "id": "cf7d6da7-deca-4041-aa63-be125d969165",
   "metadata": {},
   "outputs": [
    {
     "name": "stdout",
     "output_type": "stream",
     "text": [
      "[[5, 3, 0, 0, 7, 0, 0, 0, 0], [6, 0, 0, 1, 9, 5, 0, 0, 0], [0, 9, 8, 0, 0, 0, 0, 6, 0], [8, 0, 0, 0, 6, 0, 0, 0, 3], [4, 0, 0, 8, 0, 3, 0, 0, 1], [7, 0, 0, 0, 2, 0, 0, 0, 6], [0, 6, 0, 0, 0, 0, 2, 8, 0], [0, 0, 0, 0, 8, 0, 0, 7, 9], [0, 0, 0, 0, 8, 0, 0, 7, 9]]\n"
     ]
    }
   ],
   "source": [
    "print(grid)"
   ]
  },
  {
   "cell_type": "code",
   "execution_count": 3,
   "id": "729d360a-f226-4cd6-bf24-e31fa7ea53d5",
   "metadata": {},
   "outputs": [],
   "source": [
    "import numpy as np"
   ]
  },
  {
   "cell_type": "code",
   "execution_count": 4,
   "id": "e352ea3f-732f-4ed6-b96e-7331eb2a6b71",
   "metadata": {},
   "outputs": [
    {
     "name": "stdout",
     "output_type": "stream",
     "text": [
      "[[5 3 0 0 7 0 0 0 0]\n",
      " [6 0 0 1 9 5 0 0 0]\n",
      " [0 9 8 0 0 0 0 6 0]\n",
      " [8 0 0 0 6 0 0 0 3]\n",
      " [4 0 0 8 0 3 0 0 1]\n",
      " [7 0 0 0 2 0 0 0 6]\n",
      " [0 6 0 0 0 0 2 8 0]\n",
      " [0 0 0 0 8 0 0 7 9]\n",
      " [0 0 0 0 8 0 0 7 9]]\n"
     ]
    }
   ],
   "source": [
    "print(np.matrix(grid))"
   ]
  },
  {
   "cell_type": "markdown",
   "id": "d64435c0-aa91-4920-9ca5-04aa79198917",
   "metadata": {},
   "source": [
    "## Funzione analizza possibilità inserimento numero nella posizione aperta"
   ]
  },
  {
   "cell_type": "markdown",
   "id": "879a8cbe-b8d9-4e60-a166-e71b3ca532ed",
   "metadata": {},
   "source": [
    "X = colonna Y = riga N = numero da verificare"
   ]
  },
  {
   "cell_type": "code",
   "execution_count": 5,
   "id": "4915490a-348f-40c6-8089-380c8706879a",
   "metadata": {},
   "outputs": [],
   "source": [
    "def possible(y,x,n):\n",
    "    global grid\n",
    "    for i in range(0,9):\n",
    "        if grid[y][i] == n:\n",
    "            return False\n",
    "    for i in range(0,9):\n",
    "        if grid[i][x] == n:\n",
    "            return False\n",
    "    x0 = (x//3)*3\n",
    "    y0 = (y//3)*3\n",
    "    for i in range(0,3):\n",
    "        for j in range(0,3):\n",
    "            if grid[y0+i][x0+j] == n:\n",
    "                return False\n",
    "    return True"
   ]
  },
  {
   "cell_type": "markdown",
   "id": "eed5bed3-c7bd-4c37-859e-045fc979404a",
   "metadata": {},
   "source": [
    "Verifichiamo se possiamo inserire N nella posizione centrale (indice parte da ZERO)"
   ]
  },
  {
   "cell_type": "code",
   "execution_count": 6,
   "id": "db5cfa1a-1ca4-4842-a275-997c8044177d",
   "metadata": {},
   "outputs": [
    {
     "data": {
      "text/plain": [
       "False"
      ]
     },
     "execution_count": 6,
     "metadata": {},
     "output_type": "execute_result"
    }
   ],
   "source": [
    "possible(4,4,3)"
   ]
  },
  {
   "cell_type": "code",
   "execution_count": 7,
   "id": "0631bd53-e210-4223-911b-22adb06cd7b5",
   "metadata": {},
   "outputs": [
    {
     "data": {
      "text/plain": [
       "False"
      ]
     },
     "execution_count": 7,
     "metadata": {},
     "output_type": "execute_result"
    }
   ],
   "source": [
    "possible(4,4,6)"
   ]
  },
  {
   "cell_type": "code",
   "execution_count": 8,
   "id": "cdcd5a81-97ce-4a56-ad86-ad1960ab8315",
   "metadata": {},
   "outputs": [
    {
     "data": {
      "text/plain": [
       "True"
      ]
     },
     "execution_count": 8,
     "metadata": {},
     "output_type": "execute_result"
    }
   ],
   "source": [
    "possible(4,4,5)"
   ]
  },
  {
   "cell_type": "code",
   "execution_count": 14,
   "id": "753816c3-5b4e-45c8-b48b-f552300e77b7",
   "metadata": {},
   "outputs": [],
   "source": [
    "def solve():\n",
    "    global grid\n",
    "    for y in range(9):\n",
    "        for x in range(9):\n",
    "            if grid[y][x] == 0:\n",
    "                for n in range(1,10):\n",
    "                    if possible(y,x,n):\n",
    "                        grid[y][x] = n\n",
    "                        solve()\n",
    "                        grid[y][x] = 0\n",
    "                return\n",
    "    print(np.matrix(grid))       "
   ]
  },
  {
   "cell_type": "code",
   "execution_count": 15,
   "id": "20904cc0-47cf-45f0-b715-514227177299",
   "metadata": {},
   "outputs": [],
   "source": [
    "solve()"
   ]
  },
  {
   "cell_type": "code",
   "execution_count": null,
   "id": "a96b48cf-e6f5-45e5-bea8-0c9f3abbec7b",
   "metadata": {},
   "outputs": [],
   "source": []
  }
 ],
 "metadata": {
  "kernelspec": {
   "display_name": "Python 3 (ipykernel)",
   "language": "python",
   "name": "python3"
  },
  "language_info": {
   "codemirror_mode": {
    "name": "ipython",
    "version": 3
   },
   "file_extension": ".py",
   "mimetype": "text/x-python",
   "name": "python",
   "nbconvert_exporter": "python",
   "pygments_lexer": "ipython3",
   "version": "3.9.7"
  }
 },
 "nbformat": 4,
 "nbformat_minor": 5
}
