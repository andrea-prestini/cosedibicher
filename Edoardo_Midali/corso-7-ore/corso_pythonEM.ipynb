{
 "cells": [
  {
   "cell_type": "markdown",
   "metadata": {},
   "source": [
    "# Nomenclatura delle variabili.\n",
    "- Camel Case\n",
    "- Pascal Case\n",
    "- snake_case"
   ]
  },
  {
   "cell_type": "code",
   "execution_count": 108,
   "metadata": {},
   "outputs": [],
   "source": [
    "pesoPersona = 10\n",
    "PesoPersona = 10\n",
    "peso_persona = 10"
   ]
  },
  {
   "cell_type": "code",
   "execution_count": 109,
   "metadata": {},
   "outputs": [],
   "source": [
    "x, y, z = 1, 2, 3\n",
    "numeri = [1, 2, 3]\n",
    "a, b, c = numeri"
   ]
  },
  {
   "cell_type": "markdown",
   "metadata": {},
   "source": [
    "Tipi di variabili:\n",
    "- str: \"ciao\"\n",
    "- int: 42\n",
    "- float: 3.141592653589793\n",
    "- bool: True\n",
    "- list : [1, 2, 3, 4]\n",
    "- tuple : (1, 2, 3, 4)\n",
    "- set : {1, 2, 3, 4}\n",
    "- dict : {'a': 1, 'b': 2, 'c': 3}\n",
    "- None : None\n",
    "- range : range(10)"
   ]
  },
  {
   "cell_type": "code",
   "execution_count": 110,
   "metadata": {},
   "outputs": [
    {
     "name": "stdout",
     "output_type": "stream",
     "text": [
      "<class 'list'>\n"
     ]
    }
   ],
   "source": [
    "# Tipo di dato\n",
    "print(type(numeri))"
   ]
  },
  {
   "cell_type": "markdown",
   "metadata": {},
   "source": [
    "# Casting delle variabili\n",
    "Modificare il tipo di dato di un valore!"
   ]
  },
  {
   "cell_type": "code",
   "execution_count": 111,
   "metadata": {},
   "outputs": [
    {
     "name": "stdout",
     "output_type": "stream",
     "text": [
      "risultato: 10\n"
     ]
    }
   ],
   "source": [
    "x = \"5\"\n",
    "y = 5\n",
    "x = int(x)\n",
    "print(\"risultato:\", x+y)"
   ]
  },
  {
   "cell_type": "markdown",
   "metadata": {},
   "source": [
    "# Le Stringhe\n",
    "- creare una stringa, parlare di apici doppi e singoli\n",
    "- mandare a schermo stringa e variabile stringa\n",
    "- strighe multi riga con triplo apice\n",
    "- trattare stringhe come array (prendere carattere, lenght, loop)\n",
    "- prendere parte di stringa str[:5], str[2:], str[2:5], str[2:5:-2]\n",
    "- concatenare stringhe\n",
    "- usare format() per combianre stringhe e numeri\n",
    "- escape dei caratteri"
   ]
  },
  {
   "cell_type": "markdown",
   "metadata": {},
   "source": [
    "stringa = \"Ciao sono un 'semplice' amico della Valle\""
   ]
  },
  {
   "cell_type": "code",
   "execution_count": 112,
   "metadata": {},
   "outputs": [
    {
     "name": "stdout",
     "output_type": "stream",
     "text": [
      "Ciao sono un 'amico' della Valle\n",
      "Ciao so\n",
      "32\n"
     ]
    }
   ],
   "source": [
    "stringa = \"Ciao sono un 'amico' della Valle\"\n",
    "print(stringa)\n",
    "print(stringa[0:7])\n",
    "print(len(stringa))"
   ]
  },
  {
   "cell_type": "code",
   "execution_count": 113,
   "metadata": {},
   "outputs": [
    {
     "name": "stdout",
     "output_type": "stream",
     "text": [
      "ellaV alled 'ocima' nu onos oaiC\n",
      "CIAO SONO UN 'AMICO' DELLA VALLE\n",
      "Ciao sono un 'amico' della valle\n",
      "Ciao Sono Un 'Amico' Della Valle\n"
     ]
    }
   ],
   "source": [
    "print(stringa[::-1])\n",
    "print(stringa.upper())\n",
    "print(stringa.capitalize())\n",
    "print(stringa.title())"
   ]
  },
  {
   "cell_type": "code",
   "execution_count": 114,
   "metadata": {},
   "outputs": [
    {
     "name": "stdout",
     "output_type": "stream",
     "text": [
      "Ciao sono Andrea abito al numero 5\n"
     ]
    }
   ],
   "source": [
    "stringa1 = \"Ciao sono Andrea abito al numero {}\"\n",
    "print(stringa1.format(y))"
   ]
  },
  {
   "cell_type": "code",
   "execution_count": 115,
   "metadata": {},
   "outputs": [
    {
     "name": "stdout",
     "output_type": "stream",
     "text": [
      "Ciao sono Brescia e vivo a Esine provengo da padania\n",
      "Ciao sono Esine e vivo a padania provengo da Brescia\n"
     ]
    }
   ],
   "source": [
    "stringa2 = \"Ciao sono {0} e vivo a {1} provengo da {2}\"\n",
    "print(stringa2.format(\"Brescia\", \"Esine\", \"padania\"))\n",
    "print(stringa2.format(\"Esine\", \"padania\", \"Brescia\"))"
   ]
  },
  {
   "cell_type": "markdown",
   "metadata": {},
   "source": [
    "## Utilizziamo i Booleans"
   ]
  },
  {
   "cell_type": "code",
   "execution_count": 116,
   "metadata": {},
   "outputs": [
    {
     "name": "stdout",
     "output_type": "stream",
     "text": [
      "False\n"
     ]
    }
   ],
   "source": [
    "print(11>14) # ritorna False"
   ]
  },
  {
   "cell_type": "code",
   "execution_count": 117,
   "metadata": {},
   "outputs": [
    {
     "name": "stdout",
     "output_type": "stream",
     "text": [
      "sono minore di 10\n"
     ]
    }
   ],
   "source": [
    "if 5 < 10:\n",
    "    print(\"sono minore di 10\")\n",
    "else:\n",
    "    print(\"sono maggiore di 10\")\n",
    "    \n",
    "  "
   ]
  },
  {
   "cell_type": "code",
   "execution_count": 118,
   "metadata": {},
   "outputs": [
    {
     "name": "stdout",
     "output_type": "stream",
     "text": [
      "False\n"
     ]
    }
   ],
   "source": [
    "x = 0\n",
    "print(x > 0)"
   ]
  },
  {
   "cell_type": "code",
   "execution_count": 119,
   "metadata": {},
   "outputs": [
    {
     "name": "stdout",
     "output_type": "stream",
     "text": [
      "Franco è nella lista: True\n",
      "Luigi è nella lista: False\n"
     ]
    }
   ],
   "source": [
    "lista1 = [\"andrea\", \"mario\", \"franco\"]\n",
    "print(\"Franco è nella lista:\", \"franco\" in lista1)\n",
    "print(\"Luigi è nella lista:\", \"luigi\" in lista1)"
   ]
  },
  {
   "cell_type": "markdown",
   "metadata": {},
   "source": [
    "## Operatori matematici:\n",
    "- operazioni aritmetiche\n",
    "- operatori matematici\n",
    "- operatori di assegnamento\n",
    "- precedenza operatori\n",
    "- metodi min, max, abs, pow"
   ]
  },
  {
   "cell_type": "code",
   "execution_count": 120,
   "metadata": {},
   "outputs": [
    {
     "name": "stdout",
     "output_type": "stream",
     "text": [
      " x elevato a y= 59049\n",
      "intero di x diviso y= 1\n",
      "x diviso y= 1.8\n",
      "resto di x diviso y= 4\n"
     ]
    }
   ],
   "source": [
    "x = 9\n",
    "y = 5\n",
    "print(\" x elevato a y=\", x ** y)\n",
    "print(\"intero di x diviso y=\", x // y)\n",
    "print(\"x diviso y=\", x / y)\n",
    "print(\"resto di x diviso y=\", x % y)"
   ]
  },
  {
   "cell_type": "code",
   "execution_count": 121,
   "metadata": {},
   "outputs": [
    {
     "name": "stdout",
     "output_type": "stream",
     "text": [
      "11\n",
      "9\n"
     ]
    }
   ],
   "source": [
    "x += 2\n",
    "print(x)\n",
    "x -= 2\n",
    "print(x)"
   ]
  },
  {
   "cell_type": "code",
   "execution_count": 122,
   "metadata": {},
   "outputs": [
    {
     "name": "stdout",
     "output_type": "stream",
     "text": [
      "min valori in x 1\n",
      "abs di x con segno 5\n",
      "pow dei 2 parametri passati 8\n"
     ]
    }
   ],
   "source": [
    "x = min(5, 12, 1)\n",
    "print(\"min valori in x\", x)\n",
    "x = -5\n",
    "print(\"abs di x con segno\", abs(x))\n",
    "x = pow(2, 3)\n",
    "print(\"pow dei 2 parametri passati\", x)\n"
   ]
  },
  {
   "cell_type": "markdown",
   "metadata": {},
   "source": [
    "## ciclo IF"
   ]
  },
  {
   "cell_type": "code",
   "execution_count": 123,
   "metadata": {},
   "outputs": [
    {
     "name": "stdout",
     "output_type": "stream",
     "text": [
      "5 is greater than 2\n"
     ]
    }
   ],
   "source": [
    "if 5 > 2:\n",
    "    print(\"5 is greater than 2\")\n",
    "\n",
    "if 5 < 2:\n",
    "    print(\"5 is less than 2\") # non viene eseguito"
   ]
  },
  {
   "cell_type": "markdown",
   "metadata": {},
   "source": [
    "### Operatori di comparazione\n",
    "- ==\n",
    "- >\n",
    "- <\n",
    "- >=\n",
    "- <=\n",
    "- in\n",
    "- not in\n",
    "- is\n",
    "- is not\n",
    "- !="
   ]
  },
  {
   "cell_type": "code",
   "execution_count": 124,
   "metadata": {},
   "outputs": [
    {
     "name": "stdout",
     "output_type": "stream",
     "text": [
      "x is greater than 10\n"
     ]
    }
   ],
   "source": [
    "x = 11\n",
    "\n",
    "if x < 10:\n",
    "    print(\"x is less than 10\")\n",
    "elif x == 10:\n",
    "    print(\"x is equal to 10\")\n",
    "else:\n",
    "    print(\"x is greater than 10\")\n",
    "    "
   ]
  },
  {
   "cell_type": "code",
   "execution_count": 125,
   "metadata": {},
   "outputs": [
    {
     "name": "stdout",
     "output_type": "stream",
     "text": [
      "condizione verificata 14 < x < 16\n"
     ]
    }
   ],
   "source": [
    "if 10 < x < 16:\n",
    "    print(\"condizione verificata \" + \"14 < x < 16\")\n",
    "    "
   ]
  },
  {
   "cell_type": "markdown",
   "metadata": {},
   "source": [
    "## AND or OR:\n",
    "a and b  --> entrambe verificate\n",
    "\n",
    "a or b --> almeno una verificata"
   ]
  },
  {
   "cell_type": "markdown",
   "metadata": {},
   "source": [
    "### Shorthand per il costrutto IF"
   ]
  },
  {
   "cell_type": "code",
   "execution_count": 126,
   "metadata": {},
   "outputs": [],
   "source": [
    "x = 10\n",
    "\n",
    "if x > 10: print(\"x is greater than 10\")"
   ]
  },
  {
   "cell_type": "code",
   "execution_count": 127,
   "metadata": {},
   "outputs": [
    {
     "name": "stdout",
     "output_type": "stream",
     "text": [
      "x is not greater than 10\n"
     ]
    }
   ],
   "source": [
    "print(\"x is greater than 10\") if x > 10 else print(\"x is not greater than 10\")"
   ]
  },
  {
   "cell_type": "code",
   "execution_count": 128,
   "metadata": {},
   "outputs": [
    {
     "name": "stdout",
     "output_type": "stream",
     "text": [
      "8 Numero pari\n",
      "8 Numero pari e minore di 10\n",
      "5 numero dispari, non mi interessa se è minore di 10\n"
     ]
    }
   ],
   "source": [
    "x = 8\n",
    "y = 5\n",
    "\n",
    "if x % 2 == 0:\n",
    "    print(x, \"Numero pari\")\n",
    "    if (x < 10):\n",
    "        print(x, \"Numero pari e minore di 10\")\n",
    "else:\n",
    "    print(x, \"numero dispari, non mi interessa se è minore di 10\")\n",
    "\n",
    "    \n",
    "if y % 2 == 0:\n",
    "    print(y, \"Numero pari\")\n",
    "    if (y < 10):\n",
    "        print(y, \"Numero pari e minore di 10\")\n",
    "else:\n",
    "    print(y, \"numero dispari, non mi interessa se è minore di 10\")"
   ]
  },
  {
   "cell_type": "code",
   "execution_count": 129,
   "metadata": {},
   "outputs": [
    {
     "name": "stdout",
     "output_type": "stream",
     "text": [
      "(12, True, 'pari')\n",
      "(15, False, 'dispari')\n",
      "(18, True, 'pari')\n",
      "(21, False, 'dispari')\n",
      "(25, False, 'dispari')\n",
      "(48, True, 'pari')\n",
      "(56, True, 'pari')\n"
     ]
    }
   ],
   "source": [
    "elenco = [12, 15, 18, 21, 25, 48, 56]\n",
    "\n",
    "def divisore_2(x):\n",
    "    if x % 2:\n",
    "        return x, False, \"dispari\"\n",
    "    else:\n",
    "        return x, True, \"pari\"\n",
    "\n",
    "for x in elenco:\n",
    "    print(divisore_2(x))\n",
    "    "
   ]
  },
  {
   "cell_type": "markdown",
   "metadata": {},
   "source": [
    "## Ciclo While\n",
    "- cosa sono i loop/cicli\n",
    "- sintassi di while\n",
    "- break, continue, else"
   ]
  },
  {
   "cell_type": "code",
   "execution_count": 130,
   "metadata": {},
   "outputs": [
    {
     "name": "stdout",
     "output_type": "stream",
     "text": [
      "milano\n",
      "roma\n",
      "napoli\n"
     ]
    }
   ],
   "source": [
    "x = [\"milano\", \"roma\", \"napoli\"]\n",
    "i = 0\n",
    "\n",
    "while i < len(x):\n",
    "    print(x[i])\n",
    "    i += 1"
   ]
  },
  {
   "cell_type": "markdown",
   "metadata": {},
   "source": [
    "# Ciclo FOR\n",
    "- sintassi del for\n",
    "- esempio stringa, lista, range\n",
    "- break, continue, else"
   ]
  },
  {
   "cell_type": "code",
   "execution_count": 131,
   "metadata": {},
   "outputs": [
    {
     "name": "stdout",
     "output_type": "stream",
     "text": [
      "1\n",
      "2\n",
      "3\n",
      "4\n",
      "salto il numero 5\n",
      "6\n",
      "7\n",
      "8\n"
     ]
    }
   ],
   "source": [
    "lista_numeri = [1, 2, 3, 4, 5, 6, 7, 8, 9, 10]\n",
    "\n",
    "for i in lista_numeri:\n",
    "        if i == 5:\n",
    "                print(\"salto il numero\", i)\n",
    "                continue\n",
    "        if i == 9:\n",
    "                break\n",
    "        print(i)\n",
    "        \n",
    "        \n",
    "    "
   ]
  },
  {
   "cell_type": "markdown",
   "metadata": {},
   "source": [
    "# Introduzione teorica alle collezioni di dati\n",
    "- list, tuple, dizionari\n",
    "- spiegazione di collezione\n",
    "- termini\n",
    "  - ordinato : quando ha un ordine ben definito ed i nuovi elementi non modifcano l'ordine precedente\n",
    "  - indicizzato: possiamo accedere agli elementi tramite indice (index)\n",
    "  - modificabile: possiamo aggiungere, cambiare e rimuovere elementi una volta creata la collezione\n",
    "  - immutabile: non possiamo aggiungere, cambiare e rimuovere elementi\n",
    "  - permette duplicati: possono esserci più elementi con lo stesso valore\n",
    "  "
   ]
  },
  {
   "cell_type": "markdown",
   "metadata": {},
   "source": [
    "- Le **liste** sono collezioni ordinate e modificabili. Permettono duplicati\n",
    "- Le **tuple** sono collezioni ordinate ma immutabili. Permettono duplicati\n",
    "- I **set** sono collezioni non ordinate e perciò non indicizzate. Non permettono duplicati\n",
    "- I **dizionari** sono collezioni ordinate e modificabili. Non permettono duplicati"
   ]
  },
  {
   "cell_type": "code",
   "execution_count": 132,
   "metadata": {},
   "outputs": [
    {
     "name": "stdout",
     "output_type": "stream",
     "text": [
      "['milano']\n",
      "['roma', 'napoli']\n",
      "['venezia', 'napoli', 'roma', 'milano']\n",
      "['roma', 'venezia']\n",
      "['milano', 'roma', 'napoli', 'venezia']\n"
     ]
    }
   ],
   "source": [
    "x = [\"milano\", \"roma\", \"napoli\", \"venezia\"] # indici da 0 a 3\n",
    "print(x[:1])\n",
    "print(x[1:3])\n",
    "print(x[::-1])\n",
    "print(x[1:4:2])\n",
    "print(x[:])\n"
   ]
  },
  {
   "cell_type": "code",
   "execution_count": 133,
   "metadata": {},
   "outputs": [
    {
     "name": "stdout",
     "output_type": "stream",
     "text": [
      "['bicher', 4, 5]\n"
     ]
    }
   ],
   "source": [
    "# ATTENZIONE!\n",
    "y = [1, 2, 3, 4, 5]\n",
    "y[0:3] = [\"bicher\"]\n",
    "print(y)"
   ]
  },
  {
   "cell_type": "code",
   "execution_count": 134,
   "metadata": {},
   "outputs": [
    {
     "name": "stdout",
     "output_type": "stream",
     "text": [
      "['milano', 'roma', 'bicher', 'napoli', 'venezia', 'gambara', 'esine', 'leno']\n"
     ]
    }
   ],
   "source": [
    "x.insert(2, \"bicher\") # inserimento con posizione, diverso da append\n",
    "k = [\"gambara\", \"esine\", \"leno\"]\n",
    "x.extend(k)\n",
    "print(x)"
   ]
  },
  {
   "cell_type": "markdown",
   "metadata": {},
   "source": [
    "```python\n",
    "x.remove(\"leno\")\n",
    "x.pop() # versione con indice x.pop(2)\n",
    "del x[3]\n",
    "del x # rimozione lista\n",
    "x.clear() # svuota la lista, non la elimina!\n",
    "print(x)\n",
    "\n",
    "```"
   ]
  },
  {
   "cell_type": "code",
   "execution_count": 135,
   "metadata": {},
   "outputs": [
    {
     "name": "stdout",
     "output_type": "stream",
     "text": [
      "['milano', 'roma', 'napoli', 'venezia', 'gambara', 'esine', 'leno']\n"
     ]
    }
   ],
   "source": [
    "# LIST comprehension\n",
    "s = [ val for val in x if val != \"bicher\"]\n",
    "print(s)"
   ]
  },
  {
   "cell_type": "markdown",
   "metadata": {},
   "source": [
    "## Approfondiamo le **TUPLE**"
   ]
  },
  {
   "cell_type": "code",
   "execution_count": 136,
   "metadata": {},
   "outputs": [
    {
     "name": "stdout",
     "output_type": "stream",
     "text": [
      "<class 'tuple'>\n",
      "<class 'str'>\n",
      "<class 'tuple'>\n"
     ]
    }
   ],
   "source": [
    "mia_tupla = (\"milano\", \"roma\", \"napoli\")\n",
    "# la tupla con 1 solo valore\n",
    "tupla_singola = (\"bicher\",)\n",
    "finta_tupla = (\"parole\")\n",
    "tupla_espressa = ((\"uno\", \"due\", \"tre\"))\n",
    "\n",
    "print(type(tupla_singola))\n",
    "print(type(finta_tupla))\n",
    "print(type(tupla_espressa))\n",
    "\n"
   ]
  },
  {
   "cell_type": "code",
   "execution_count": 137,
   "metadata": {},
   "outputs": [
    {
     "name": "stdout",
     "output_type": "stream",
     "text": [
      "('Valle', 'roma', 'bicher', 'napoli', 'venezia', 'gambara', 'esine', 'leno')\n"
     ]
    }
   ],
   "source": [
    "# Escamotage per modificare contenuto tupla\n",
    "y = list(x)\n",
    "y[0] = \"Valle\"\n",
    "x = tuple(y)\n",
    "print(x)\n"
   ]
  },
  {
   "cell_type": "code",
   "execution_count": 140,
   "metadata": {},
   "outputs": [
    {
     "name": "stdout",
     "output_type": "stream",
     "text": [
      "Valle\n",
      "roma\n",
      "['bicher', 'napoli', 'venezia', 'gambara', 'esine', 'leno']\n",
      "<class 'str'>\n",
      "<class 'list'>\n"
     ]
    }
   ],
   "source": [
    "# del x rimuove la tupla\n",
    "(a, b, *c) = x\n",
    "print(a)\n",
    "print(b)\n",
    "print(c)\n",
    "print(type(a))\n",
    "print(type(c))\n"
   ]
  },
  {
   "cell_type": "code",
   "execution_count": 146,
   "metadata": {},
   "outputs": [
    {
     "name": "stdout",
     "output_type": "stream",
     "text": [
      "('uno', 'due', 'tre', 'andrea', 'mario', 'franco')\n",
      "('uno', 'due', 'tre', 'uno', 'due', 'tre')\n"
     ]
    }
   ],
   "source": [
    "tupla1 = (\"uno\", \"due\", \"tre\")\n",
    "tupla2 = (\"andrea\", \"mario\", \"franco\")\n",
    "tupla3 = tupla1 + tupla2\n",
    "tupla4 = tupla1 * 2\n",
    "\n",
    "print(tupla3)\n",
    "print(tupla4)"
   ]
  },
  {
   "cell_type": "markdown",
   "metadata": {},
   "source": [
    "## Approfondiamo i **SET**"
   ]
  },
  {
   "cell_type": "code",
   "execution_count": 154,
   "metadata": {},
   "outputs": [
    {
     "name": "stdout",
     "output_type": "stream",
     "text": [
      "{'roma', 'milano', 'napoli'}\n",
      "uno\n",
      "due\n",
      "tre\n",
      "andrea\n",
      "mario\n",
      "franco\n",
      "True\n",
      "{True, 34, 'roma', 'valle camonica', 'napoli', 'milano'}\n",
      "None\n"
     ]
    }
   ],
   "source": [
    "x = {\"milano\", \"roma\", \"napoli\"}\n",
    "y = {\"milano\", 34, True}\n",
    "z = set((\"uno\", \"due\", \"tre\")) # il costruttore di set\n",
    "\n",
    "print(x)\n",
    "\n",
    "for val in tupla3:\n",
    "    print(val)\n",
    "\n",
    "print(\"milano\" in x)\n",
    "\n",
    "k = x.update(y)\n",
    "    \n",
    "x.add(\"valle camonica\")\n",
    "print(x)\n",
    "print(k)\n"
   ]
  },
  {
   "cell_type": "code",
   "execution_count": 155,
   "metadata": {},
   "outputs": [],
   "source": [
    "x.remove(\"milano\") # genera errore nel caso l'elemento non sia presente\n",
    "x.discard(\"roma\") # non genera errore nel caso l'elemento non sia presente\n",
    "x.pop() # rimuove l'ultimo elemento dal set\n",
    "x.clear() # rimuove tutti gli elementi dal set\n",
    "# del x elimina il set\n"
   ]
  },
  {
   "cell_type": "code",
   "execution_count": 5,
   "metadata": {},
   "outputs": [
    {
     "name": "stdout",
     "output_type": "stream",
     "text": [
      "sono il set x dopo update, no duplicati {1, 2, 3, 10, 20, 30}\n",
      "sono il set z union tra x e y {1, 2, 3, 10, 20, 30}\n",
      "sono il set k intersection con y {10, 20, 30}\n",
      "sono il set k1 symmetric difference con y {1, 2, 3}\n"
     ]
    }
   ],
   "source": [
    "x = {1, 2, 3, 10, 20, 30}\n",
    "y = {10, 20, 30}\n",
    "z = x.union(y) # unione di x e y creando un nuovo set\n",
    "x.update(y) # aggiorna x con y\n",
    "k = x.intersection(y)\n",
    "k1 = x.symmetric_difference(y)\n",
    "print(\"sono il set x dopo update, no duplicati\",x)\n",
    "print(\"sono il set z union tra x e y\",z)\n",
    "print(\"sono il set k intersection con y\",k)\n",
    "print(\"sono il set k1 symmetric difference con y\",k1)\n",
    "# intersection diverso da intersection_update che aggiorna x con y ma non crea un nuovo set\n",
    "# simmetric diverso da simmetric_difference_update che aggiorna x con y ma non crea un nuovo set\n"
   ]
  }
 ],
 "metadata": {
  "kernelspec": {
   "display_name": "Python 3",
   "language": "python",
   "name": "python3"
  },
  "language_info": {
   "codemirror_mode": {
    "name": "ipython",
    "version": 3
   },
   "file_extension": ".py",
   "mimetype": "text/x-python",
   "name": "python",
   "nbconvert_exporter": "python",
   "pygments_lexer": "ipython3",
   "version": "3.11.5"
  }
 },
 "nbformat": 4,
 "nbformat_minor": 2
}
