{
 "cells": [
  {
   "cell_type": "markdown",
   "metadata": {},
   "source": [
    "## Lezione 3 Enkk - StudyTme\n",
    "\n",
    "[Link Video](https://www.youtube.com/watch?v=eQaZOMBvGPE)"
   ]
  },
  {
   "cell_type": "markdown",
   "metadata": {},
   "source": [
    "> L'uso più comune dei **set** è trasformafe liste contenenti duplicati in liste SENZA duplicati."
   ]
  },
  {
   "cell_type": "markdown",
   "metadata": {},
   "source": [
    "## Manipolazione stringhe"
   ]
  },
  {
   "cell_type": "code",
   "execution_count": 3,
   "metadata": {},
   "outputs": [
    {
     "name": "stdout",
     "output_type": "stream",
     "text": [
      "Ciao sono \"abitante\" in valle camonica!\n"
     ]
    }
   ],
   "source": [
    "txt = \"Ciao sono \\\"abitante\\\" in valle camonica!\"\n",
    "print(txt) # uso carattere Escaping \\"
   ]
  },
  {
   "cell_type": "markdown",
   "metadata": {},
   "source": [
    "## Stringa FIND"
   ]
  },
  {
   "cell_type": "code",
   "execution_count": 12,
   "metadata": {},
   "outputs": [
    {
     "data": {
      "text/plain": [
       "1"
      ]
     },
     "execution_count": 12,
     "metadata": {},
     "output_type": "execute_result"
    }
   ],
   "source": [
    "txt.find(\"i\") # restituisce la prima istanza di un carattere all'interno di una stringa"
   ]
  },
  {
   "cell_type": "markdown",
   "metadata": {},
   "source": [
    "## Stringa STRIP"
   ]
  },
  {
   "cell_type": "code",
   "execution_count": 23,
   "metadata": {},
   "outputs": [],
   "source": [
    "text2 = \" ...+...lemons and limes...-...\""
   ]
  },
  {
   "cell_type": "code",
   "execution_count": 26,
   "metadata": {},
   "outputs": [
    {
     "data": {
      "text/plain": [
       "'lemons and limes'"
      ]
     },
     "execution_count": 26,
     "metadata": {},
     "output_type": "execute_result"
    }
   ],
   "source": [
    "text2.strip(\" .+-\") \n",
    "# eliminiamo spazio, punti, più, meno dalla stringa!"
   ]
  },
  {
   "cell_type": "markdown",
   "metadata": {},
   "source": [
    "## Stringa Replace"
   ]
  },
  {
   "cell_type": "code",
   "execution_count": 28,
   "metadata": {},
   "outputs": [
    {
     "name": "stdout",
     "output_type": "stream",
     "text": [
      "Benvenuto sono \"abitante\" in valle camonica!\n"
     ]
    }
   ],
   "source": [
    "print(txt.replace(\"Ciao\", \"Benvenuto\"))"
   ]
  },
  {
   "cell_type": "markdown",
   "metadata": {},
   "source": [
    "## Stringa SPLIT & JOIN"
   ]
  },
  {
   "cell_type": "code",
   "execution_count": 38,
   "metadata": {},
   "outputs": [
    {
     "name": "stdout",
     "output_type": "stream",
     "text": [
      "['Ciao', 'sono', '\"abitante\"', 'in', 'valle', 'camonica!']\n"
     ]
    }
   ],
   "source": [
    "print(txt.split()) \n",
    "# otteniamo lista come separatore lo spazio\n",
    "#! il carattere di separazione NON viene inserito nella lista"
   ]
  },
  {
   "cell_type": "code",
   "execution_count": 39,
   "metadata": {},
   "outputs": [
    {
     "name": "stdout",
     "output_type": "stream",
     "text": [
      "['Ciao sono \"abitante\" ', ' valle camonica!']\n"
     ]
    }
   ],
   "source": [
    "print(txt.split(\"in\"))"
   ]
  },
  {
   "cell_type": "code",
   "execution_count": 37,
   "metadata": {},
   "outputs": [
    {
     "data": {
      "text/plain": [
       "'Codecacademy-is-awesome'"
      ]
     },
     "execution_count": 37,
     "metadata": {},
     "output_type": "execute_result"
    }
   ],
   "source": [
    "x = \"-\".join([\"Codecacademy\", \"is\", \"awesome\"])\n",
    "x"
   ]
  },
  {
   "cell_type": "markdown",
   "metadata": {},
   "source": [
    "## Stringhe FORMAT - F strings - %"
   ]
  },
  {
   "cell_type": "code",
   "execution_count": 48,
   "metadata": {},
   "outputs": [
    {
     "name": "stdout",
     "output_type": "stream",
     "text": [
      "questa è di Mario Legna con format\n",
      "questa è di Mario Legna con %\n",
      "questo è di Mario Legna con f-string\n"
     ]
    }
   ],
   "source": [
    "frase1 = \"questa è di {}\".format(\"Mario Legna\")\n",
    "frase2 = \"questa è di %s\" % (\"Mario Legna\")\n",
    "nome = \"Mario Legna\"\n",
    "frase3 = f'''questo è di {nome}'''\n",
    "print(frase, \"con format\")\n",
    "print(frase2, \"con %\")\n",
    "print(frase3, \"con f-string\")"
   ]
  },
  {
   "cell_type": "markdown",
   "metadata": {},
   "source": [
    "## SLICING - stringhe o liste"
   ]
  },
  {
   "cell_type": "code",
   "execution_count": 50,
   "metadata": {},
   "outputs": [],
   "source": [
    "my_str = \"yellow\""
   ]
  },
  {
   "cell_type": "code",
   "execution_count": 54,
   "metadata": {},
   "outputs": [
    {
     "name": "stdout",
     "output_type": "stream",
     "text": [
      "e\n",
      "w\n",
      "ow\n",
      "yell\n",
      "low\n"
     ]
    }
   ],
   "source": [
    "print(my_str[1])\n",
    "print(my_str[-1])\n",
    "print(my_str[4:6])\n",
    "print(my_str[:4])\n",
    "print(my_str[-3:])"
   ]
  },
  {
   "cell_type": "markdown",
   "metadata": {},
   "source": [
    "## Compitino stringa"
   ]
  },
  {
   "cell_type": "code",
   "execution_count": 15,
   "metadata": {},
   "outputs": [],
   "source": [
    "personal_games = []\n",
    "games = input(\"Inserisci i giochi preferiti separati da virgola \")\n",
    "for game in games.split(\",\"):\n",
    "    personal_games.append(game.strip())"
   ]
  },
  {
   "cell_type": "code",
   "execution_count": 16,
   "metadata": {},
   "outputs": [
    {
     "name": "stdout",
     "output_type": "stream",
     "text": [
      "['poker', 'scala', 'ramino']\n"
     ]
    }
   ],
   "source": [
    "print(personal_games)"
   ]
  },
  {
   "cell_type": "code",
   "execution_count": 17,
   "metadata": {},
   "outputs": [],
   "source": [
    "games = input(\"Inserisci i giochi preferiti separati da virgola\").split((\",\"))"
   ]
  },
  {
   "cell_type": "code",
   "execution_count": 18,
   "metadata": {},
   "outputs": [
    {
     "name": "stdout",
     "output_type": "stream",
     "text": [
      "['scala1', 'scala2', 'scala3']\n"
     ]
    }
   ],
   "source": [
    "for i in range(len(games)):\n",
    "    games[i] = games[i].strip()\n",
    "\n",
    "print(games)"
   ]
  },
  {
   "cell_type": "markdown",
   "metadata": {},
   "source": [
    "## Compitino statistiche sui giochi scelti..."
   ]
  },
  {
   "cell_type": "markdown",
   "metadata": {},
   "source": [
    "> Vogliamo sapere qual'è il gioco preferito dai nostri utenti, anche se non univoco ce ne basta uno!"
   ]
  },
  {
   "cell_type": "markdown",
   "metadata": {},
   "source": [
    "1. Cerchiamo di risolvere il problema senza la programmazione\n",
    "2. costruiamo un algoritmo logico mentale che ci porti alla soluzione\n",
    "3. traduciamo il nostro algoritmo in codice secono la sintasis del linguaggio che stiamo utilizzando"
   ]
  },
  {
   "cell_type": "code",
   "execution_count": 36,
   "metadata": {},
   "outputs": [],
   "source": [
    "u1 =  {\n",
    "    \"nickname\": \"enkk\",\n",
    "    \"gender\": \"F\",\n",
    "    \"games\": [\"blackjack\", \"slots\"]\n",
    "    }\n",
    "\n",
    "u2 =  {\n",
    "    \"nickname\": \"Shin\",\n",
    "    \"gender\": \"F\",\n",
    "    \"games\": [\"blackjack\", \"roulette\"]\n",
    "    }\n",
    "\n",
    "u3 = {\n",
    "    \"nickname\": \"Giulia\",\n",
    "    \"gender\": \"F\",\n",
    "    \"games\": [\"blackjack\", \"crazy time\"]\n",
    "    }\n",
    "\n",
    "users =   [u1, u2, u3]"
   ]
  },
  {
   "cell_type": "markdown",
   "metadata": {},
   "source": [
    "> Creare una struttura dati che contenga il numero di preferenze associato al gioco"
   ]
  },
  {
   "cell_type": "code",
   "execution_count": 41,
   "metadata": {},
   "outputs": [],
   "source": [
    "games_pref = {}\n",
    "for user in users:\n",
    "    for game in user[\"games\"]:\n",
    "        if game in games_pref: # default cerca nelle keys\n",
    "            games_pref[game] += 1\n",
    "        else:\n",
    "            games_pref[game] = 1\n",
    "\n"
   ]
  },
  {
   "cell_type": "code",
   "execution_count": 103,
   "metadata": {},
   "outputs": [
    {
     "name": "stdout",
     "output_type": "stream",
     "text": [
      "{'blackjack': 3, 'slots': 1, 'roulette': 1, 'crazy time': 1}\n"
     ]
    }
   ],
   "source": [
    "print(games_pref)"
   ]
  },
  {
   "cell_type": "markdown",
   "metadata": {},
   "source": [
    "## MAX valore in DIZIONARIO"
   ]
  },
  {
   "cell_type": "code",
   "execution_count": 53,
   "metadata": {},
   "outputs": [
    {
     "name": "stdout",
     "output_type": "stream",
     "text": [
      "\n",
      "Il gioco più richiesto è blackjack\n",
      "Numero richieste: 3\n",
      "\n"
     ]
    }
   ],
   "source": [
    "print(f'''\n",
    "Il gioco più richiesto è {max(games_pref, key=games_pref.get)}\n",
    "Numero richieste: {games_pref[max(games_pref, key=games_pref.get)]}\n",
    "''')"
   ]
  },
  {
   "cell_type": "markdown",
   "metadata": {},
   "source": [
    "## MAX valore in lista di TUPLE"
   ]
  },
  {
   "cell_type": "code",
   "execution_count": 65,
   "metadata": {},
   "outputs": [],
   "source": [
    "best_game = (max(zip(games_pref.values(), games_pref.keys())))"
   ]
  },
  {
   "cell_type": "code",
   "execution_count": 67,
   "metadata": {},
   "outputs": [
    {
     "name": "stdout",
     "output_type": "stream",
     "text": [
      "\n",
      "Il gioco più richiesto è blackjack\n",
      "Numero richieste: 3\n",
      "\n"
     ]
    }
   ],
   "source": [
    "print(f'''\n",
    "Il gioco più richiesto è {best_game[1]}\n",
    "Numero richieste: {best_game[0]}\n",
    "''')\n"
   ]
  },
  {
   "cell_type": "code",
   "execution_count": 9,
   "metadata": {},
   "outputs": [],
   "source": [
    "tupla1 = (1, \"andrea\", 10, \"esine\", 50)\n",
    "tupla2 = (2, \"eleonora\", 9, \"breno\", 5000) \n",
    "tupla3 = (11, \"roberto\", 100, \"breno\", 48)\n",
    "\n",
    "my_tuples = [tupla1, tupla2, tupla3]"
   ]
  },
  {
   "cell_type": "code",
   "execution_count": 2,
   "metadata": {},
   "outputs": [
    {
     "data": {
      "text/plain": [
       "(12, 'eleonora', 9, 'breno')"
      ]
     },
     "execution_count": 2,
     "metadata": {},
     "output_type": "execute_result"
    }
   ],
   "source": [
    "max(my_tuples)"
   ]
  },
  {
   "cell_type": "code",
   "execution_count": 10,
   "metadata": {},
   "outputs": [
    {
     "data": {
      "text/plain": [
       "(11, 'roberto', 100, 'breno', 48)"
      ]
     },
     "execution_count": 10,
     "metadata": {},
     "output_type": "execute_result"
    }
   ],
   "source": [
    "max(my_tuples, key=lambda item:item[2])"
   ]
  },
  {
   "cell_type": "code",
   "execution_count": 11,
   "metadata": {},
   "outputs": [
    {
     "data": {
      "text/plain": [
       "(2, 'eleonora', 9, 'breno', 5000)"
      ]
     },
     "execution_count": 11,
     "metadata": {},
     "output_type": "execute_result"
    }
   ],
   "source": [
    "max(my_tuples, key=lambda item:item[4])"
   ]
  },
  {
   "cell_type": "code",
   "execution_count": 7,
   "metadata": {},
   "outputs": [
    {
     "data": {
      "text/plain": [
       "{'uno': 10, 'due': 10, 'tre': 10}"
      ]
     },
     "execution_count": 7,
     "metadata": {},
     "output_type": "execute_result"
    }
   ],
   "source": [
    "dic1 = {\"uno\": 10}\n",
    "dic2 = {\"due\": 10}\n",
    "dic3 = {\"tre\": 10}\n",
    "dic4 = {\"quattro\": 10}\n",
    "dic5 = {\"cinque\": 10}\n",
    "\n",
    "dizionario = {**dic1, **dic2, **dic3}\n",
    "dizionario"
   ]
  },
  {
   "cell_type": "code",
   "execution_count": 142,
   "metadata": {},
   "outputs": [
    {
     "data": {
      "text/plain": [
       "{'uno': 10, 'cinque': 10}"
      ]
     },
     "execution_count": 142,
     "metadata": {},
     "output_type": "execute_result"
    }
   ],
   "source": [
    "andrea = dic1 | dic5\n",
    "andrea"
   ]
  },
  {
   "cell_type": "code",
   "execution_count": 146,
   "metadata": {},
   "outputs": [],
   "source": [
    "andrea.update(chiave1=100, chiave2= 1000)"
   ]
  },
  {
   "cell_type": "code",
   "execution_count": 147,
   "metadata": {},
   "outputs": [
    {
     "data": {
      "text/plain": [
       "{'uno': 10, 'cinque': 10, 'chiave1': 100, 'chiave2': 1000}"
      ]
     },
     "execution_count": 147,
     "metadata": {},
     "output_type": "execute_result"
    }
   ],
   "source": [
    "andrea"
   ]
  },
  {
   "cell_type": "markdown",
   "metadata": {},
   "source": [
    "## Le FUNZIONI"
   ]
  },
  {
   "cell_type": "markdown",
   "metadata": {},
   "source": [
    "1. Funzioni create dall'utente (UDF)\n",
    "2. Funzioni build - in"
   ]
  },
  {
   "cell_type": "markdown",
   "metadata": {},
   "source": [
    "f(x) funzione unaria\n",
    "\n",
    "f(x, y) funzione duaria\n",
    "\n",
    "f(x, y, z) funzione ternaria"
   ]
  },
  {
   "cell_type": "markdown",
   "metadata": {},
   "source": [
    "> La funzione deve essere dichiarata **PRIMA** di essere chiamata!"
   ]
  },
  {
   "cell_type": "code",
   "execution_count": 148,
   "metadata": {},
   "outputs": [],
   "source": [
    "def la_mia_funzione(arg1, arg2):\n",
    "    # faccio cose interessanti coi miei argomenti\n",
    "    x = \"qui abbiamo il risultato della computazione\"\n",
    "    return x # il mio ritorno\n"
   ]
  },
  {
   "cell_type": "code",
   "execution_count": 150,
   "metadata": {},
   "outputs": [],
   "source": [
    "def la_mia_funzione_new(arg1, arg2):\n",
    "    print(\"arg1\", arg1) # le cose che fà la funzione\n",
    "    print(\"arg2\", arg2)\n",
    "    return \"ciao amico mio\" # il ritorno della funzione, posso metterlo in variabile"
   ]
  },
  {
   "cell_type": "code",
   "execution_count": 153,
   "metadata": {},
   "outputs": [
    {
     "name": "stdout",
     "output_type": "stream",
     "text": [
      "arg1 uno\n",
      "arg2 due\n"
     ]
    }
   ],
   "source": [
    "z = la_mia_funzione_new(\"uno\", \"due\")\n"
   ]
  },
  {
   "cell_type": "code",
   "execution_count": 154,
   "metadata": {},
   "outputs": [
    {
     "name": "stdout",
     "output_type": "stream",
     "text": [
      "ciao amico mio\n"
     ]
    }
   ],
   "source": [
    "print(z)"
   ]
  },
  {
   "cell_type": "code",
   "execution_count": 158,
   "metadata": {},
   "outputs": [
    {
     "name": "stdout",
     "output_type": "stream",
     "text": [
      "faccio cose primo parametro default\n",
      "faccio cose primo parametro secondo parametro\n",
      "faccio cose primo parametro secondo parametro\n",
      "faccio cose ('uno', 'due') default\n"
     ]
    }
   ],
   "source": [
    "def funzioncina(a, b=\"default\"):\n",
    "    print(\"faccio cose\", a, b)\n",
    "\n",
    "# possiamo chiamare la funzione in diversi modi\n",
    "funzioncina(\"primo parametro\")\n",
    "funzioncina(\"primo parametro\", \"secondo parametro\")\n",
    "funzioncina(b=\"secondo parametro\", a=\"primo parametro\")\n",
    "funzioncina((\"uno\", \"due\")) # caso particolare il primo paramentro è una tupla"
   ]
  },
  {
   "cell_type": "markdown",
   "metadata": {},
   "source": [
    "## Lo SCOPE delle variabili"
   ]
  },
  {
   "cell_type": "markdown",
   "metadata": {},
   "source": [
    "1. scope GLOBALE\n",
    "2. scope LOCALE (es. nel ciclo for)"
   ]
  },
  {
   "cell_type": "code",
   "execution_count": 166,
   "metadata": {},
   "outputs": [],
   "source": [
    "variabile_globale = 100\n",
    "\n",
    "def variabile():\n",
    "    testo = \"il mio testo\" # variabile locale\n",
    "    return f'testo {testo}'"
   ]
  },
  {
   "cell_type": "code",
   "execution_count": 165,
   "metadata": {},
   "outputs": [
    {
     "data": {
      "text/plain": [
       "'testo il mio testo'"
      ]
     },
     "execution_count": 165,
     "metadata": {},
     "output_type": "execute_result"
    }
   ],
   "source": [
    "variabile()"
   ]
  }
 ],
 "metadata": {
  "kernelspec": {
   "display_name": "Python 3.9.12 ('base')",
   "language": "python",
   "name": "python3"
  },
  "language_info": {
   "codemirror_mode": {
    "name": "ipython",
    "version": 3
   },
   "file_extension": ".py",
   "mimetype": "text/x-python",
   "name": "python",
   "nbconvert_exporter": "python",
   "pygments_lexer": "ipython3",
   "version": "3.9.12"
  },
  "orig_nbformat": 4,
  "vscode": {
   "interpreter": {
    "hash": "7473d73b0517ab6f64aa731f2cb80c0acf19c95420055020da77d830c23b4531"
   }
  }
 },
 "nbformat": 4,
 "nbformat_minor": 2
}
