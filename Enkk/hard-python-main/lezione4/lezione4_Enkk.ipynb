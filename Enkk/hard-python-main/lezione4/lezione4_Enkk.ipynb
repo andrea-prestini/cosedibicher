{
 "cells": [
  {
   "cell_type": "markdown",
   "metadata": {},
   "source": [
    "# List Comprehension \n",
    "Lo **Zucchero Sintattico**"
   ]
  },
  {
   "cell_type": "code",
   "execution_count": 17,
   "metadata": {},
   "outputs": [],
   "source": [
    "fruits = [\"apple\", \"banana\", \"cherry\", \"kiwi\", \"mango\"]\n",
    "newlist1 = []"
   ]
  },
  {
   "cell_type": "code",
   "execution_count": 18,
   "metadata": {},
   "outputs": [
    {
     "name": "stdout",
     "output_type": "stream",
     "text": [
      "['apple', 'banana', 'mango']\n"
     ]
    }
   ],
   "source": [
    "for x in fruits:\n",
    "    if \"a\" in x:\n",
    "        newlist1.append(x)\n",
    "\n",
    "print(newlist1)"
   ]
  },
  {
   "cell_type": "code",
   "execution_count": 19,
   "metadata": {},
   "outputs": [
    {
     "name": "stdout",
     "output_type": "stream",
     "text": [
      "['apple', 'banana', 'mango']\n"
     ]
    }
   ],
   "source": [
    "newlist2 = [x for x in fruits if \"a\" in x] # list comprehension\n",
    "print(newlist2)"
   ]
  },
  {
   "cell_type": "markdown",
   "metadata": {},
   "source": [
    "Sintassi generale:\n",
    "\n",
    "***newlist = [expression for item in iterable if condition]***"
   ]
  },
  {
   "cell_type": "code",
   "execution_count": 20,
   "metadata": {},
   "outputs": [
    {
     "name": "stdout",
     "output_type": "stream",
     "text": [
      "['apple', 'orange', 'cherry', 'kiwi', 'mango']\n"
     ]
    }
   ],
   "source": [
    "newlist3 = [x if x !=\"banana\" else \"orange\" for x in fruits]\n",
    "print(newlist3)"
   ]
  },
  {
   "cell_type": "code",
   "execution_count": 21,
   "metadata": {},
   "outputs": [],
   "source": [
    "listone = [\"uno\", \"due\", \"tre\", \"quattro\", \"cinque\", \"sei\", \"sette\", \"otto\", \"nove\", \"dieci\"]\n",
    "lista1 = [\"uno\", \"due\", \"tre\"]\n",
    "lista2 = [\"otto\", \"nove\", \"dieci\"]"
   ]
  },
  {
   "cell_type": "code",
   "execution_count": 22,
   "metadata": {},
   "outputs": [
    {
     "name": "stdout",
     "output_type": "stream",
     "text": [
      "['quattro', 'cinque', 'sei', 'sette']\n"
     ]
    }
   ],
   "source": [
    "lista_particolare = [x for x in listone if x not in lista1+lista2 ]\n",
    "print(lista_particolare)"
   ]
  },
  {
   "cell_type": "markdown",
   "metadata": {},
   "source": [
    "> Uso somma per ottenere una lista ***UNICA***    "
   ]
  },
  {
   "cell_type": "code",
   "execution_count": 23,
   "metadata": {},
   "outputs": [
    {
     "name": "stdout",
     "output_type": "stream",
     "text": [
      "['uno', 'due', 'tre', 'otto', 'nove', 'dieci']\n"
     ]
    }
   ],
   "source": [
    "print(lista1 + lista2) "
   ]
  },
  {
   "cell_type": "code",
   "execution_count": 119,
   "metadata": {},
   "outputs": [],
   "source": [
    "from prettytable import PrettyTable"
   ]
  },
  {
   "cell_type": "code",
   "execution_count": 120,
   "metadata": {},
   "outputs": [],
   "source": [
    "x = PrettyTable()"
   ]
  },
  {
   "cell_type": "code",
   "execution_count": 121,
   "metadata": {},
   "outputs": [],
   "source": [
    "x.field_names = [\"Nome\", \"Cognome\", \"Paese\"]\n",
    "x.add_row([\"Andrea\", \"Prestini\", \"Esine\"])\n",
    "x.add_row([\"Eleonora\", \"Favagrossa\", \"Leno\"])\n",
    "x.add_row([\"Roberto\", \"Tanzini\", \"Breno\"])\n",
    "x.add_row([\"Aldo\", \"Tanzini\", \"Breno\"])\n",
    "x.add_row([\"Federica\", \"Braccagnini\", \"Breno\"])"
   ]
  },
  {
   "cell_type": "code",
   "execution_count": 122,
   "metadata": {},
   "outputs": [
    {
     "name": "stdout",
     "output_type": "stream",
     "text": [
      "+----------+-------------+-------+\n",
      "|   Nome   |   Cognome   | Paese |\n",
      "+----------+-------------+-------+\n",
      "|  Andrea  |   Prestini  | Esine |\n",
      "| Eleonora |  Favagrossa |  Leno |\n",
      "| Roberto  |   Tanzini   | Breno |\n",
      "|   Aldo   |   Tanzini   | Breno |\n",
      "| Federica | Braccagnini | Breno |\n",
      "+----------+-------------+-------+\n"
     ]
    }
   ],
   "source": [
    "print(x)"
   ]
  },
  {
   "cell_type": "code",
   "execution_count": 125,
   "metadata": {},
   "outputs": [
    {
     "name": "stdout",
     "output_type": "stream",
     "text": [
      "elemento: 10\n",
      "elemento: 9\n",
      "elemento: 8\n",
      "elemento: 7\n",
      "elemento: 6\n",
      "elemento: 5\n",
      "elemento: 4\n",
      "elemento: 3\n",
      "elemento: 2\n",
      "elemento: 1\n",
      "elemento: 0\n"
     ]
    }
   ],
   "source": [
    "for i in range(10, -1, -1): # valore massimo non compreso ergo prende 0\n",
    "    print(f'elemento: {i}')"
   ]
  },
  {
   "cell_type": "code",
   "execution_count": 132,
   "metadata": {},
   "outputs": [
    {
     "name": "stdout",
     "output_type": "stream",
     "text": [
      "valore: 10\n",
      "valore: 9\n",
      "valore: 8\n",
      "valore: 7\n",
      "valore: 6\n",
      "valore: 5\n",
      "valore: 4\n",
      "valore: 3\n",
      "valore: 2\n",
      "valore: 1\n",
      "valore: 0\n"
     ]
    }
   ],
   "source": [
    "lunghezza = 10\n",
    "i = lunghezza\n",
    "while (i <= lunghezza and i >= 0):\n",
    "    print(f'valore: {i}')\n",
    "    i -= 1"
   ]
  }
 ],
 "metadata": {
  "kernelspec": {
   "display_name": "Python 3.9.12 ('base')",
   "language": "python",
   "name": "python3"
  },
  "language_info": {
   "codemirror_mode": {
    "name": "ipython",
    "version": 3
   },
   "file_extension": ".py",
   "mimetype": "text/x-python",
   "name": "python",
   "nbconvert_exporter": "python",
   "pygments_lexer": "ipython3",
   "version": "3.9.12"
  },
  "orig_nbformat": 4,
  "vscode": {
   "interpreter": {
    "hash": "7473d73b0517ab6f64aa731f2cb80c0acf19c95420055020da77d830c23b4531"
   }
  }
 },
 "nbformat": 4,
 "nbformat_minor": 2
}
