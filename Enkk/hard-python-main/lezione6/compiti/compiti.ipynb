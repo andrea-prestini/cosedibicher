{
 "cells": [
  {
   "cell_type": "code",
   "execution_count": 272,
   "metadata": {},
   "outputs": [],
   "source": [
    "import requests\n",
    "import json\n",
    "import numpy as np"
   ]
  },
  {
   "cell_type": "code",
   "execution_count": 273,
   "metadata": {},
   "outputs": [],
   "source": [
    "ARTIST_BASE_URL = \"https://api.deezer.com/artist/\""
   ]
  },
  {
   "cell_type": "code",
   "execution_count": 274,
   "metadata": {},
   "outputs": [
    {
     "name": "stdout",
     "output_type": "stream",
     "text": [
      "prima del casting: <class 'numpy.ndarray'>\n",
      "dopo il casting <class 'list'>\n",
      "['Mina', 'Mina']\n"
     ]
    }
   ],
   "source": [
    "with open(\"../data/artists.json\", \"r\") as f:\n",
    "    artists = json.load(f)\n",
    "\n",
    "two_artists = (np.random.choice(list(artists.keys()), 2)) # random choice sceglie tra elementi di una lista, non dict_keys\n",
    "print(\"prima del casting:\", type(two_artists))\n",
    "two_artists = two_artists.tolist()\n",
    "print(\"dopo il casting\", type(two_artists))\n",
    "print(two_artists)"
   ]
  },
  {
   "cell_type": "code",
   "execution_count": 275,
   "metadata": {},
   "outputs": [],
   "source": [
    "# creare input chiedendo 2 autori\n",
    "user_answer = input(\"Chi ha pubblicato più album tra {} (1) e {} (2): \".format(two_artists[0], two_artists[1]))"
   ]
  },
  {
   "cell_type": "code",
   "execution_count": 276,
   "metadata": {},
   "outputs": [],
   "source": [
    "if user_answer not in [\"1\", \"2\"]:\n",
    "    raise Exception(\"Risposta non accettata\")"
   ]
  },
  {
   "cell_type": "code",
   "execution_count": 277,
   "metadata": {},
   "outputs": [],
   "source": [
    "# funzione accesso API e ricava i dati dei 2 artisti\n",
    "def get_album(artistID):\n",
    "    a_name = requests.get(ARTIST_BASE_URL + str(artistID)).json()[\"name\"]\n",
    "    a_album = requests.get(ARTIST_BASE_URL + str(artistID)).json()[\"nb_album\"]\n",
    "    return a_album"
   ]
  },
  {
   "cell_type": "code",
   "execution_count": 278,
   "metadata": {},
   "outputs": [],
   "source": [
    "artistID1 = artists[two_artists[0]]\n",
    "artistID2 = artists[two_artists[1]]\n"
   ]
  },
  {
   "cell_type": "code",
   "execution_count": 281,
   "metadata": {},
   "outputs": [
    {
     "name": "stdout",
     "output_type": "stream",
     "text": [
      "risultato Mina con 165 album\n",
      "contro Mina con 165 album\n"
     ]
    }
   ],
   "source": [
    "# confrontare i valori e trovare la risposta corretta\n",
    "winner = []\n",
    "if get_album(artistID1) > get_album(artistID2):\n",
    "    print(f\"risultato {two_artists[0]} con {get_album(artistID1)} album\")\n",
    "    print(f\"contro {two_artists[1]} con {get_album(artistID2)} album\")\n",
    "    winner = winner + \"1\"\n",
    "elif get_album(artistID1) == get_album(artistID2):\n",
    "    print(f\"risultato {two_artists[1]} con {get_album(artistID2)} album\")\n",
    "    print(f\"contro {two_artists[0]} con {get_album(artistID1)} album\")\n",
    "    winner = winner + [\"1\", \"2\"]\n",
    "else:\n",
    "    print(f\"risultato {two_artists[1]} con {get_album(artistID2)} album\")\n",
    "    print(f\"contro {two_artists[0]} con {get_album(artistID1)} album\")\n",
    "    winner = winner + \"2\"\n"
   ]
  },
  {
   "cell_type": "code",
   "execution_count": 282,
   "metadata": {},
   "outputs": [
    {
     "name": "stdout",
     "output_type": "stream",
     "text": [
      "risposta 2: Mina\n",
      "hai vinto!\n"
     ]
    }
   ],
   "source": [
    "# confrontare risposta corretta con quella fornita dall'utente, feedback finale\n",
    "if user_answer == \"1\":\n",
    "    print(\"risposta {}: {}\".format(user_answer, two_artists[0]))\n",
    "else:\n",
    "    print(\"risposta {}: {}\".format(user_answer, two_artists[1]))\n",
    "if user_answer in winner:\n",
    "    print(\"hai vinto!\")\n",
    "else:\n",
    "    print(\"hai perso, mi dispiace!\")\n"
   ]
  },
  {
   "cell_type": "markdown",
   "metadata": {},
   "source": [
    "> dare esito vittoria / sconfitta e chiedere se andare avanti\n",
    "\n",
    "> da scrivere in un file py non nel notebook!\n",
    "[file python](\"../compiti/versionePyhon_Quiz.py\")"
   ]
  }
 ],
 "metadata": {
  "kernelspec": {
   "display_name": "Python 3.9.12 ('base')",
   "language": "python",
   "name": "python3"
  },
  "language_info": {
   "codemirror_mode": {
    "name": "ipython",
    "version": 3
   },
   "file_extension": ".py",
   "mimetype": "text/x-python",
   "name": "python",
   "nbconvert_exporter": "python",
   "pygments_lexer": "ipython3",
   "version": "3.9.12"
  },
  "orig_nbformat": 4,
  "vscode": {
   "interpreter": {
    "hash": "7473d73b0517ab6f64aa731f2cb80c0acf19c95420055020da77d830c23b4531"
   }
  }
 },
 "nbformat": 4,
 "nbformat_minor": 2
}
