{
 "cells": [
  {
   "cell_type": "code",
   "execution_count": 33,
   "metadata": {},
   "outputs": [],
   "source": [
    "import requests\n",
    "import json\n",
    "import numpy as np"
   ]
  },
  {
   "cell_type": "code",
   "execution_count": 34,
   "metadata": {},
   "outputs": [],
   "source": [
    "ARTIST_BASE_URL = \"https://api.deezer.com/artist/\""
   ]
  },
  {
   "cell_type": "code",
   "execution_count": 35,
   "metadata": {},
   "outputs": [
    {
     "name": "stdout",
     "output_type": "stream",
     "text": [
      "prima del casting: <class 'numpy.ndarray'>\n",
      "dopo il casting <class 'list'>\n",
      "['Muse', 'Queen']\n"
     ]
    }
   ],
   "source": [
    "with open(\"../data/artists.json\", \"r\") as f:\n",
    "    artists = json.load(f)\n",
    "\n",
    "two_artists = (np.random.choice(list(artists.keys()), 2)) # random choice sceglie tra elementi di una lista, non dict_keys\n",
    "print(\"prima del casting:\", type(two_artists))\n",
    "two_artists = two_artists.tolist()\n",
    "print(\"dopo il casting\", type(two_artists))\n",
    "print(two_artists)"
   ]
  },
  {
   "cell_type": "code",
   "execution_count": 44,
   "metadata": {},
   "outputs": [],
   "source": [
    "# creare input chiedendo 2 autori\n",
    "user_answer = input(\"Chi ha pubblicato più album tra {} (1) e {} (2): \".format(two_artists[0], two_artists[1]))\n",
    "user_answer = int(user_answer)"
   ]
  },
  {
   "cell_type": "code",
   "execution_count": 46,
   "metadata": {},
   "outputs": [],
   "source": [
    "if user_answer not in [1, 2]:\n",
    "    raise Exception(\"Risposta non accettata\")"
   ]
  },
  {
   "cell_type": "code",
   "execution_count": 47,
   "metadata": {},
   "outputs": [
    {
     "name": "stdout",
     "output_type": "stream",
     "text": [
      "https://api.deezer.com/artist/705\n",
      "https://api.deezer.com/artist/412\n",
      "705\n",
      "412\n",
      "Muse album 52\n",
      "Queen album 60\n"
     ]
    }
   ],
   "source": [
    "# accedere API e ricavare i dati per i due artisti\n",
    "primo_autore_ID = artists[two_artists[0]]\n",
    "secondo_autore_ID = artists[two_artists[1]]\n",
    "primo_autore_ID__album = ARTIST_BASE_URL + str(primo_autore_ID)\n",
    "secondo_autore_ID_album = ARTIST_BASE_URL + str(secondo_autore_ID)\n",
    "\n",
    "print(primo_autore_ID__album)\n",
    "print(secondo_autore_ID_album)\n",
    "print(primo_autore_ID)\n",
    "print(secondo_autore_ID)\n",
    "\n",
    "album_1 = requests.get(primo_autore_ID__album).json()[\"nb_album\"]\n",
    "album_2 = requests.get(secondo_autore_ID_album).json()[\"nb_album\"]\n",
    "\n",
    "print(\"{} album\".format(two_artists[0]), album_1)\n",
    "print(\"{} album\".format(two_artists[1]), album_2)"
   ]
  },
  {
   "cell_type": "code",
   "execution_count": 48,
   "metadata": {},
   "outputs": [],
   "source": [
    "# funzione accesso API e ricava i dati dei 2 artisti\n",
    "def get_album(artistID):\n",
    "    a_name = requests.get(ARTIST_BASE_URL + str(artistID)).json()[\"name\"]\n",
    "    a_album = requests.get(ARTIST_BASE_URL + str(artistID)).json()[\"nb_album\"]\n",
    "    return a_album"
   ]
  },
  {
   "cell_type": "code",
   "execution_count": 49,
   "metadata": {},
   "outputs": [],
   "source": [
    "artistID1 = artists[two_artists[0]]\n",
    "artistID2 = artists[two_artists[1]]\n"
   ]
  },
  {
   "cell_type": "code",
   "execution_count": 55,
   "metadata": {},
   "outputs": [
    {
     "name": "stdout",
     "output_type": "stream",
     "text": [
      "risultato Queen con 60 album\n",
      "contro Muse con 52 album\n"
     ]
    }
   ],
   "source": [
    "# confrontare i valori e trovare la risposta corretta\n",
    "winner = 0\n",
    "if get_album(artistID1) > get_album(artistID2):\n",
    "    print(f\"risultato {two_artists[0]} con {get_album(artistID1)} album\")\n",
    "    print(f\"contro {two_artists[1]} con {get_album(artistID2)} album\")\n",
    "    winner = 1\n",
    "else:\n",
    "    print(f\"risultato {two_artists[1]} con {get_album(artistID2)} album\")\n",
    "    print(f\"contro {two_artists[0]} con {get_album(artistID1)} album\")\n",
    "    winner = 2"
   ]
  },
  {
   "cell_type": "code",
   "execution_count": 59,
   "metadata": {},
   "outputs": [
    {
     "name": "stdout",
     "output_type": "stream",
     "text": [
      "risposta 2: Queen\n",
      "hai vinto!\n"
     ]
    }
   ],
   "source": [
    "# confrontare risposta corretta con quella fornita dall'utente, feedback finale\n",
    "\n",
    "if user_answer == 1:\n",
    "    print(\"risposta {}: {}\".format(user_answer, two_artists[0]))\n",
    "else:\n",
    "    print(\"risposta {}: {}\".format(user_answer, two_artists[1]))\n",
    "if user_answer == winner:\n",
    "    print(\"hai vinto!\")\n",
    "else:\n",
    "    print(\"hai perso, mi dispiace!\")\n"
   ]
  },
  {
   "cell_type": "markdown",
   "metadata": {},
   "source": [
    "> dare esito vittoria / sconfitta e chiedere se andare avanti\n",
    "\n",
    "> da scrivere in un file py non nel notebook!\n",
    "[file python](\"../compiti/versionePyhon_Quiz.py\")"
   ]
  }
 ],
 "metadata": {
  "kernelspec": {
   "display_name": "Python 3.9.12 ('base')",
   "language": "python",
   "name": "python3"
  },
  "language_info": {
   "codemirror_mode": {
    "name": "ipython",
    "version": 3
   },
   "file_extension": ".py",
   "mimetype": "text/x-python",
   "name": "python",
   "nbconvert_exporter": "python",
   "pygments_lexer": "ipython3",
   "version": "3.9.12"
  },
  "orig_nbformat": 4,
  "vscode": {
   "interpreter": {
    "hash": "7473d73b0517ab6f64aa731f2cb80c0acf19c95420055020da77d830c23b4531"
   }
  }
 },
 "nbformat": 4,
 "nbformat_minor": 2
}
