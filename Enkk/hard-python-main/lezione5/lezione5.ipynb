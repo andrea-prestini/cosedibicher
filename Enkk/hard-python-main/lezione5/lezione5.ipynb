{
 "cells": [
  {
   "cell_type": "markdown",
   "metadata": {},
   "source": [
    "# JSON, Requests, Exceptions"
   ]
  },
  {
   "cell_type": "code",
   "execution_count": 2,
   "metadata": {},
   "outputs": [],
   "source": [
    "import json"
   ]
  },
  {
   "cell_type": "code",
   "execution_count": 7,
   "metadata": {},
   "outputs": [],
   "source": [
    "# stringa python da convertire in formato json\n",
    "my_json_string = '{\"name\": \"Bob\", \"languages\":[\"python\", \"java\", \"C++\"]}'"
   ]
  },
  {
   "cell_type": "code",
   "execution_count": 12,
   "metadata": {},
   "outputs": [
    {
     "name": "stdout",
     "output_type": "stream",
     "text": [
      "{'name': 'Bob', 'languages': ['python', 'java', 'C++']}\n",
      "<class 'dict'>\n"
     ]
    }
   ],
   "source": [
    "# creo oggetto python da stringa scritta in json\n",
    "now_an_object = json.loads(my_json_string)\n",
    "print(now_an_object)\n",
    "print(type(now_an_object))"
   ]
  },
  {
   "cell_type": "code",
   "execution_count": 10,
   "metadata": {},
   "outputs": [],
   "source": [
    "# dizionario di python\n",
    "mio_dizionario = {\"nome\": \"Andrea\", \"cognome\": \"Prestini\", \"paese\":\"Esine\"}"
   ]
  },
  {
   "cell_type": "code",
   "execution_count": 11,
   "metadata": {},
   "outputs": [
    {
     "name": "stdout",
     "output_type": "stream",
     "text": [
      "{\"nome\": \"Andrea\", \"cognome\": \"Prestini\", \"paese\": \"Esine\"}\n",
      "<class 'str'>\n"
     ]
    }
   ],
   "source": [
    "# converto il dizionario in formato json\n",
    "oggetto_json = json.dumps(mio_dizionario)\n",
    "print(oggetto_json)\n",
    "print(type(oggetto_json))"
   ]
  },
  {
   "cell_type": "markdown",
   "metadata": {},
   "source": [
    "## Trasformazione bi-direzionale\n",
    "Come possiamo notare nel primo caso avremo un dizionario, nel secondo una stringa!"
   ]
  },
  {
   "cell_type": "markdown",
   "metadata": {},
   "source": [
    "## Utilizzo dei file JSON"
   ]
  },
  {
   "cell_type": "markdown",
   "metadata": {},
   "source": [
    "> Attenzione:\n",
    "> - oggetti python metodo ***LOADS, DUMPS***\n",
    "> - file json metodo ***LOAD, DUMP***"
   ]
  },
  {
   "cell_type": "code",
   "execution_count": 22,
   "metadata": {},
   "outputs": [
    {
     "name": "stdout",
     "output_type": "stream",
     "text": [
      "<class 'list'>\n",
      "--------------------------------------------------------------------------------\n",
      "{'_id': '62d7f116a704ffbed5080dee', 'index': 1, 'guid': '9985faf5-c006-4731-a148-249d90573a55', 'isActive': True, 'balance': '$2,835.14', 'picture': 'http://placehold.it/32x32', 'age': 34, 'eyeColor': 'blue', 'name': 'Mona Heath', 'gender': 'female', 'company': 'TROPOLIS', 'email': 'monaheath@tropolis.com', 'phone': '+1 (993) 462-3074', 'address': '708 Wyckoff Avenue, Outlook, Florida, 5324', 'about': 'Id officia velit nisi mollit. Labore cupidatat aliquip cupidatat ex dolor labore sunt culpa. Ea aliqua laboris reprehenderit dolore.\\r\\n', 'registered': '2021-12-03T05:24:33 -01:00', 'latitude': 25.678483, 'longitude': 123.838688, 'tags': ['Lorem', 'laborum', 'incididunt', 'Lorem', 'proident', 'cillum', 'ex'], 'friends': [{'id': 0, 'name': 'Paige Meyer'}, {'id': 1, 'name': 'Davidson Chen'}, {'id': 2, 'name': 'Trudy Gilliam'}], 'greeting': 'Hello, Mona Heath! You have 4 unread messages.', 'favoriteFruit': 'banana'}\n"
     ]
    }
   ],
   "source": [
    "with open(\"data/01_data.json\", \"r\") as f:\n",
    "    data = json.load(f)\n",
    "\n",
    "print(type(data))\n",
    "print(\"-\" * 80)\n",
    "print(data[1])\n"
   ]
  },
  {
   "cell_type": "markdown",
   "metadata": {},
   "source": [
    "## file json parametro INDENT"
   ]
  },
  {
   "cell_type": "markdown",
   "metadata": {},
   "source": [
    "per avere una versione leggibile del file json meglio utilizzare il parametro:\n",
    "\n",
    "```python\n",
    "with open(\"miofile.json\", \"w\") as f:\n",
    "    json.dump(data, f, indent=3)\n",
    "```\n",
    "- miofile = dizionario da convertire e scrivere nel file\n",
    "- f = nome del file json su cui scrivere\n",
    "- indent = 3 miglior indentazione per leggibilità file json"
   ]
  },
  {
   "cell_type": "markdown",
   "metadata": {},
   "source": [
    "# le REQUEST\n",
    "\n",
    "Codice che ci permette di collegarci al mondo ESTERNO!\n",
    "\n",
    "Il protocollo necessario per usare dati presi da INTERNET è request.\n",
    "\n",
    "Le request parlano in HTTP, hanno un header ed un body.\n",
    "\n",
    "Le request sono generiche richieste HTTP, le stesse usate dal browser.\n",
    "\n",
    "Hanno dei metodi:\n",
    "- get\n",
    "- post\n",
    "- put\n",
    "- altri"
   ]
  },
  {
   "cell_type": "code",
   "execution_count": 41,
   "metadata": {},
   "outputs": [],
   "source": [
    "import requests"
   ]
  },
  {
   "cell_type": "code",
   "execution_count": 28,
   "metadata": {},
   "outputs": [
    {
     "name": "stdout",
     "output_type": "stream",
     "text": [
      "<Response [200]>\n"
     ]
    }
   ],
   "source": [
    "response = requests.get(\"https://github.com\")\n",
    "print(response)\n",
    "# response codice 200 ci dice che è tutto OK\n",
    "# codice 404 codice page not found!\n",
    "# codice 201, 202 positivi\n",
    "# codice 500 server error\n",
    "# codice 401 anouthorize"
   ]
  },
  {
   "cell_type": "code",
   "execution_count": 29,
   "metadata": {},
   "outputs": [
    {
     "name": "stdout",
     "output_type": "stream",
     "text": [
      "{'Server': 'GitHub.com', 'Date': 'Tue, 02 Aug 2022 10:27:28 GMT', 'Content-Type': 'text/html; charset=utf-8', 'Vary': 'X-PJAX, X-PJAX-Container, Turbo-Visit, Turbo-Frame, Accept-Language, Accept-Encoding, Accept, X-Requested-With', 'permissions-policy': 'interest-cohort=()', 'content-language': 'en-US', 'ETag': 'W/\"71bf732b22fa6040eb52927702d0ee43\"', 'Cache-Control': 'max-age=0, private, must-revalidate', 'Strict-Transport-Security': 'max-age=31536000; includeSubdomains; preload', 'X-Frame-Options': 'deny', 'X-Content-Type-Options': 'nosniff', 'X-XSS-Protection': '0', 'Referrer-Policy': 'origin-when-cross-origin, strict-origin-when-cross-origin', 'Expect-CT': 'max-age=2592000, report-uri=\"https://api.github.com/_private/browser/errors\"', 'Content-Security-Policy': \"default-src 'none'; base-uri 'self'; block-all-mixed-content; child-src github.com/assets-cdn/worker/ gist.github.com/assets-cdn/worker/; connect-src 'self' uploads.github.com objects-origin.githubusercontent.com www.githubstatus.com collector.github.com raw.githubusercontent.com api.github.com github-cloud.s3.amazonaws.com github-production-repository-file-5c1aeb.s3.amazonaws.com github-production-upload-manifest-file-7fdce7.s3.amazonaws.com github-production-user-asset-6210df.s3.amazonaws.com cdn.optimizely.com logx.optimizely.com/v1/events *.actions.githubusercontent.com wss://*.actions.githubusercontent.com online.visualstudio.com/api/v1/locations github-production-repository-image-32fea6.s3.amazonaws.com github-production-release-asset-2e65be.s3.amazonaws.com insights.github.com wss://alive.github.com github.githubassets.com; font-src github.githubassets.com; form-action 'self' github.com gist.github.com objects-origin.githubusercontent.com; frame-ancestors 'none'; frame-src render.githubusercontent.com viewscreen.githubusercontent.com notebooks.githubusercontent.com; img-src 'self' data: github.githubassets.com identicons.github.com github-cloud.s3.amazonaws.com secured-user-images.githubusercontent.com/ github-production-user-asset-6210df.s3.amazonaws.com *.githubusercontent.com customer-stories-feed.github.com spotlights-feed.github.com; manifest-src 'self'; media-src github.com user-images.githubusercontent.com/ secured-user-images.githubusercontent.com/ github.githubassets.com; script-src github.githubassets.com; style-src 'unsafe-inline' github.githubassets.com; worker-src github.com/assets-cdn/worker/ gist.github.com/assets-cdn/worker/\", 'Content-Encoding': 'gzip', 'Set-Cookie': '_gh_sess=%2BtI%2FfzzmGUTrrRGQYZm5wnx4iX9ILHfBuUVnG3B16sDwSkMFvFNE1je%2FMnpegNv8wuKDJQKmDZg%2B%2Fpu%2B17CmCrxyQ4aOMa5586O%2BCV141rmgnSRSxTmBOYvpEnksNOj%2Fke7E6O1TQHOnt9aG6wxI0xl8%2FQ4dj2%2Bq3ny2peUvvIG%2FX22JTUecDJa3mBrZsj418XLENTEsWy%2Bf3T9bxMRIWrTpZp91qM2fn0cV6Ej8ZYe6VB9Flxy8ttnOGkvUyQ0NVRXQHsNsanTA2etapG66xw%3D%3D--nTrLrswdd8mmvYZ2--TecviyX7udK3wcKXGzxm%2Fw%3D%3D; Path=/; HttpOnly; Secure; SameSite=Lax, _octo=GH1.1.161344304.1659436055; Path=/; Domain=github.com; Expires=Wed, 02 Aug 2023 10:27:35 GMT; Secure; SameSite=Lax, logged_in=no; Path=/; Domain=github.com; Expires=Wed, 02 Aug 2023 10:27:35 GMT; HttpOnly; Secure; SameSite=Lax', 'Accept-Ranges': 'bytes', 'Transfer-Encoding': 'chunked', 'X-GitHub-Request-Id': '6E01:D20F:32008E:373AA7:62E8FC17'}\n"
     ]
    }
   ],
   "source": [
    "response = requests.get(\"https://github.com\")\n",
    "print(response.headers)\n"
   ]
  },
  {
   "cell_type": "markdown",
   "metadata": {},
   "source": [
    "Essendo un sito avremo come risposta:\n",
    "- *HEADER* un JSON\n",
    "- *CONTENT* un HTML\n",
    "\n",
    "> Se vogliamo interagire con un servizio web andiamo a cercare le\n",
    ">  ***API REST*** che ci interessano. Nella documentazione saranno presenti tutte le informazioni necessarie al nostro fine."
   ]
  },
  {
   "cell_type": "markdown",
   "metadata": {},
   "source": [
    "Le pagine che offrono le ***API REST*** restituiscono anche il contenuto body della pagina come formato JSON.\n",
    "\n",
    "Potremmo dire che si tratta di uno scambio di JSON"
   ]
  },
  {
   "cell_type": "code",
   "execution_count": 31,
   "metadata": {},
   "outputs": [
    {
     "name": "stdout",
     "output_type": "stream",
     "text": [
      "b'{\\n  \"userId\": 1,\\n  \"id\": 1,\\n  \"title\": \"delectus aut autem\",\\n  \"completed\": false\\n}'\n"
     ]
    }
   ],
   "source": [
    "rest_response = requests.get(\"https://jsonplaceholder.typicode.com/todos/1\")\n",
    "print(rest_response.content)"
   ]
  },
  {
   "cell_type": "code",
   "execution_count": 35,
   "metadata": {},
   "outputs": [
    {
     "name": "stdout",
     "output_type": "stream",
     "text": [
      "{'userId': 1, 'id': 1, 'title': 'delectus aut autem', 'completed': False}\n"
     ]
    }
   ],
   "source": [
    "rest_response = requests.get(\"https://jsonplaceholder.typicode.com/todos/1\")\n",
    "print(rest_response.json()) # metodo per parsificare in json"
   ]
  },
  {
   "cell_type": "code",
   "execution_count": 37,
   "metadata": {},
   "outputs": [
    {
     "name": "stdout",
     "output_type": "stream",
     "text": [
      " \n",
      "il titolo è: delectus aut autem\n",
      "lo stato è: False\n",
      "\n"
     ]
    }
   ],
   "source": [
    "print(f''' \n",
    "il titolo è: {rest_response.json()[\"title\"]}\n",
    "lo stato è: {rest_response.json()[\"completed\"]}\n",
    "''')"
   ]
  },
  {
   "cell_type": "markdown",
   "metadata": {},
   "source": [
    "## Voglio chiedere cose a...\n",
    "\n",
    "- verificare le documentation API del servizio che voglio utilizzare\n",
    "- seguire le indicazioni per ottenere info\n",
    "\n",
    "es twitter:\n",
    "[Twitter API 1.1 standard](https://developer.twitter.com/en/docs/twitter-api/v1/tweets/post-and-engage/overview)\n",
    "\n",
    "> \n",
    "\n",
    "Account setup\n",
    "\n",
    "To access these endpoints, you will need:\n",
    "\n",
    "    An approved developer account.\n",
    "    To authenticate using the keys and tokens from a developer App that is located within a Project. \n",
    "\n",
    "Learn more about getting access to the Twitter API v2 endpoints in our getting started guide.\n"
   ]
  },
  {
   "cell_type": "markdown",
   "metadata": {},
   "source": [
    "***ENDPOINT*** il punto da cui succhiare le informazioni\n",
    "***\n",
    "Attenzione al RATE Limits (quante chiamate posso fare?)"
   ]
  },
  {
   "cell_type": "markdown",
   "metadata": {},
   "source": [
    "## Definire Token ed URL"
   ]
  },
  {
   "cell_type": "markdown",
   "metadata": {},
   "source": [
    "token = \"LMAO-IL-TOKENOME\"\n",
    "url = \"URL per la richiesta\"\n",
    "\n",
    "L'Header è un dizionario!\n",
    "```python\n",
    "headers = {'Authorization':\"Bearer{}\".format(token)}\n",
    "```\n",
    "\n",
    "Finalmente fare la richiesta\n",
    "```python\n",
    "response = request.get(url, headers=headers)\n",
    "```"
   ]
  },
  {
   "cell_type": "markdown",
   "metadata": {},
   "source": [
    "## Appunti Compiti"
   ]
  },
  {
   "cell_type": "markdown",
   "metadata": {},
   "source": [
    "La soluzione di Enkk è generica per lo scorrimento di ***MATRICI***"
   ]
  },
  {
   "cell_type": "code",
   "execution_count": 1,
   "metadata": {},
   "outputs": [],
   "source": [
    "l1 = [2, 1, 3]\n",
    "l2 = [3, 1, 5]"
   ]
  },
  {
   "cell_type": "code",
   "execution_count": 3,
   "metadata": {},
   "outputs": [
    {
     "name": "stdout",
     "output_type": "stream",
     "text": [
      "[[5, 0, 0], [0, 2, 0], [0, 0, 8]]\n"
     ]
    }
   ],
   "source": [
    "matrix2 = []\n",
    "for i in range(len(l1)):\n",
    "    matrix2.append([0] * len(l1))\n",
    "    for j in range(len(l2)):\n",
    "        if i == j:\n",
    "            matrix2[i][j] = l1[i] + l2[j]\n",
    "\n",
    "print(matrix2)\n",
    "\n"
   ]
  },
  {
   "cell_type": "markdown",
   "metadata": {},
   "source": [
    "## Compito B1 in live\n",
    "Creare un programma che stampi tutte le mail degli utenti nel file data/01_data.json"
   ]
  },
  {
   "cell_type": "code",
   "execution_count": 3,
   "metadata": {},
   "outputs": [],
   "source": [
    "with open(\"./data/01_data.json\", \"r\") as f:\n",
    "    file = json.load(f)\n"
   ]
  },
  {
   "cell_type": "code",
   "execution_count": 28,
   "metadata": {},
   "outputs": [
    {
     "name": "stdout",
     "output_type": "stream",
     "text": [
      "gibsonlara@incubus.com\n",
      "monaheath@tropolis.com\n",
      "hollandoliver@electonic.com\n",
      "owenruiz@overfork.com\n",
      "dellawall@ziggles.com\n",
      "schultzkeith@assurity.com\n"
     ]
    }
   ],
   "source": [
    "for i in range(len(file)):\n",
    "   print(file[i][\"email\"])"
   ]
  },
  {
   "cell_type": "code",
   "execution_count": 30,
   "metadata": {},
   "outputs": [
    {
     "name": "stdout",
     "output_type": "stream",
     "text": [
      "Gibson Lara\n",
      "Mona Heath\n",
      "Holland Oliver\n",
      "Owen Ruiz\n",
      "Della Wall\n",
      "Schultz Keith\n"
     ]
    }
   ],
   "source": [
    "for val in file:\n",
    "    print(val[\"name\"])"
   ]
  },
  {
   "cell_type": "markdown",
   "metadata": {},
   "source": [
    "## Quanti friends ha l'utente con email hollandoliver@electonic.com"
   ]
  },
  {
   "cell_type": "code",
   "execution_count": 36,
   "metadata": {},
   "outputs": [
    {
     "name": "stdout",
     "output_type": "stream",
     "text": [
      "\n",
      "        L'utente Holland Oliver\n",
      "        ha 3 amici\n"
     ]
    }
   ],
   "source": [
    "posta = \"hollandoliver@electonic.com\"\n",
    "\n",
    "for val in file:\n",
    "    if val[\"email\"] == posta:\n",
    "        print(f'''\n",
    "        L'utente {val[\"name\"]}\n",
    "        ha {len(val[\"friends\"])} amici''')"
   ]
  },
  {
   "cell_type": "code",
   "execution_count": 41,
   "metadata": {},
   "outputs": [
    {
     "name": "stdout",
     "output_type": "stream",
     "text": [
      "Utente attivo--> Gibson Lara\n",
      "Utente attivo--> Mona Heath\n",
      "Utente NON attivo--> Holland Oliver\n",
      "Utente NON attivo--> Owen Ruiz\n",
      "Utente NON attivo--> Della Wall\n",
      "Utente attivo--> Schultz Keith\n"
     ]
    }
   ],
   "source": [
    "for val in file:\n",
    "    if val[\"isActive\"] == True:\n",
    "        print(\"Utente attivo-->\", val[\"name\"])\n",
    "    else:\n",
    "        print(\"Utente NON attivo-->\", val[\"name\"])"
   ]
  },
  {
   "cell_type": "code",
   "execution_count": 95,
   "metadata": {},
   "outputs": [
    {
     "name": "stdout",
     "output_type": "stream",
     "text": [
      "nome: Della Wall, bilancio: $3,395.11\n"
     ]
    }
   ],
   "source": [
    "bilanci = []\n",
    "for val in file:\n",
    "    valore = float(val[\"balance\"].replace(\"$\", \"\").replace(\",\",\"\"))\n",
    "    bilanci.append(valore)\n",
    "    max_balance = max(bilanci)\n",
    "for val in file:\n",
    "    if float(val[\"balance\"].replace(\"$\", \"\").replace(\",\",\"\")) == max_balance:\n",
    "        print(f'nome: {val[\"name\"]}, bilancio: {val[\"balance\"]}')    \n"
   ]
  },
  {
   "cell_type": "code",
   "execution_count": 9,
   "metadata": {},
   "outputs": [
    {
     "name": "stdout",
     "output_type": "stream",
     "text": [
      "Della Wall $3,395.11\n"
     ]
    }
   ],
   "source": [
    "borsellino = 0\n",
    "for val in file:\n",
    "    valore = float(val[\"balance\"].replace(\"$\", \"\").replace(\",\",\"\"))\n",
    "    if valore >= borsellino:\n",
    "        borsellino = valore\n",
    "for val in file:\n",
    "    if float(val[\"balance\"].replace(\"$\", \"\").replace(\",\", \"\")) == borsellino:\n",
    "        print(val[\"name\"], val[\"balance\"])\n"
   ]
  },
  {
   "cell_type": "markdown",
   "metadata": {},
   "source": [
    "## Le Eccezioni"
   ]
  },
  {
   "cell_type": "code",
   "execution_count": 99,
   "metadata": {},
   "outputs": [
    {
     "ename": "Exception",
     "evalue": "Ti avevo detto che deve essere maggiore di 5!",
     "output_type": "error",
     "traceback": [
      "\u001b[0;31m---------------------------------------------------------------------------\u001b[0m",
      "\u001b[0;31mException\u001b[0m                                 Traceback (most recent call last)",
      "\u001b[1;32m/home/andrea/Dropbox/PythonBicherWorld/Enkk/hard-python-main/lezione5/lezione5.ipynb Cella 39\u001b[0m in \u001b[0;36m<cell line: 2>\u001b[0;34m()\u001b[0m\n\u001b[1;32m      <a href='vscode-notebook-cell:/home/andrea/Dropbox/PythonBicherWorld/Enkk/hard-python-main/lezione5/lezione5.ipynb#X56sZmlsZQ%3D%3D?line=0'>1</a>\u001b[0m x \u001b[39m=\u001b[39m \u001b[39mint\u001b[39m(\u001b[39m2\u001b[39m)\n\u001b[1;32m      <a href='vscode-notebook-cell:/home/andrea/Dropbox/PythonBicherWorld/Enkk/hard-python-main/lezione5/lezione5.ipynb#X56sZmlsZQ%3D%3D?line=1'>2</a>\u001b[0m \u001b[39mif\u001b[39;00m x \u001b[39m<\u001b[39m \u001b[39m5\u001b[39m:\n\u001b[0;32m----> <a href='vscode-notebook-cell:/home/andrea/Dropbox/PythonBicherWorld/Enkk/hard-python-main/lezione5/lezione5.ipynb#X56sZmlsZQ%3D%3D?line=2'>3</a>\u001b[0m     \u001b[39mraise\u001b[39;00m \u001b[39mException\u001b[39;00m(\u001b[39m\"\u001b[39m\u001b[39mTi avevo detto che deve essere maggiore di 5!\u001b[39m\u001b[39m\"\u001b[39m)\n",
      "\u001b[0;31mException\u001b[0m: Ti avevo detto che deve essere maggiore di 5!"
     ]
    }
   ],
   "source": [
    "x = int(2)\n",
    "if x < 5:\n",
    "    raise Exception(\"Ti avevo detto che deve essere maggiore di 5!\")"
   ]
  },
  {
   "cell_type": "code",
   "execution_count": 103,
   "metadata": {},
   "outputs": [
    {
     "name": "stdout",
     "output_type": "stream",
     "text": [
      "file non presente!\n"
     ]
    }
   ],
   "source": [
    "try:\n",
    "    with open(\"./miofile\", \"r\") as file:\n",
    "        read_data = file.read()\n",
    "except:\n",
    "    print(\"file non presente!\")"
   ]
  },
  {
   "cell_type": "code",
   "execution_count": 109,
   "metadata": {},
   "outputs": [
    {
     "name": "stdout",
     "output_type": "stream",
     "text": [
      "[Errno 2] No such file or directory: 'file.log'\n",
      "Verifica il nome del file...\n",
      "fine del controllo sul file\n"
     ]
    }
   ],
   "source": [
    "try:\n",
    "    with open(\"file.log\") as file:\n",
    "        read_data = file.read()\n",
    "except FileNotFoundError as fnf_error:\n",
    "    print(fnf_error)\n",
    "    print(\"Verifica il nome del file...\")\n",
    "else:\n",
    "    print(\"stampare se nessuna eccezione\")\n",
    "finally:\n",
    "    print(\"fine del controllo sul file\") # eseguito SEMPRE, con o senza eccezioni!"
   ]
  },
  {
   "cell_type": "markdown",
   "metadata": {},
   "source": [
    "## Compito 02 in live\n",
    "Creare un programma che chieda un numero maggiore di 10 all'utente e gestisca sia l'eccezione derivante dall'inserimento di un dato che non sia un numero, sia lanci e gestisca una eccezione nel caso in cui il numero non è maggiore di 10"
   ]
  },
  {
   "cell_type": "code",
   "execution_count": 35,
   "metadata": {},
   "outputs": [
    {
     "name": "stdout",
     "output_type": "stream",
     "text": [
      "INPUT errato, verificare...\n"
     ]
    }
   ],
   "source": [
    "insert_number = input(\"Inserisci un numero maggiore di 10: \")\n",
    "try:\n",
    "    int(insert_number)\n",
    "    if int(insert_number) > 10:\n",
    "        print(\"Il numero %s è corretto\" %(insert_number))\n",
    "except ValueError as error:\n",
    "    print(\"INPUT errato, verificare...\")\n",
    "else:\n",
    "    if int(insert_number) < 10:\n",
    "        print(\"Inserisci un numero maggiore di 10...\")"
   ]
  },
  {
   "cell_type": "code",
   "execution_count": 40,
   "metadata": {},
   "outputs": [
    {
     "name": "stdout",
     "output_type": "stream",
     "text": [
      "Il numero deve essere maggiore di 10\n"
     ]
    }
   ],
   "source": [
    "n = input(\"Inserisci un numero maggiore di 10: \")\n",
    "try:\n",
    "    n_as_int = int(n)\n",
    "    if n_as_int < 10:\n",
    "        raise Exception(\"Il numero deve essere maggiore di 10\")\n",
    "except ValueError as error:\n",
    "    print(\"INPUT errato, verificare...\")\n",
    "except Exception as ex:\n",
    "    print(ex)"
   ]
  },
  {
   "cell_type": "markdown",
   "metadata": {},
   "source": [
    "## Compito 3\n",
    "Effettuare una request ed analizzare il jspon in https://jsonplaceholder.typicode.com/todos. Stampare per ogni utente una tabella prettytable mostrando la spunta a seconda che il task sia completato o meno"
   ]
  },
  {
   "cell_type": "code",
   "execution_count": 42,
   "metadata": {},
   "outputs": [],
   "source": [
    "from prettytable import PrettyTable"
   ]
  },
  {
   "cell_type": "code",
   "execution_count": 64,
   "metadata": {},
   "outputs": [],
   "source": [
    "# work on the users\n",
    "url = \"https://jsonplaceholder.typicode.com/users\"\n",
    "users = requests.get(url).json()\n",
    "\n",
    "# get for each user id its username\n",
    "userid_to_name = {}\n",
    "for user in users:\n",
    "    userid_to_name[str(user[\"id\"])] = user[\"username\"]"
   ]
  },
  {
   "cell_type": "code",
   "execution_count": 66,
   "metadata": {},
   "outputs": [],
   "source": [
    "# get the todos\n",
    "url = 'https://jsonplaceholder.typicode.com/todos'\n",
    "todos = requests.get(url).json() # list of todos (every todo is a dictionary)"
   ]
  },
  {
   "cell_type": "markdown",
   "metadata": {},
   "source": [
    "> Divide todos by user"
   ]
  },
  {
   "cell_type": "code",
   "execution_count": 78,
   "metadata": {},
   "outputs": [],
   "source": [
    "users_todo = {}\n",
    "\n",
    "for todo in todos:\n",
    "    name = userid_to_name[(todo[\"userId\"])]\n",
    "    if name in users_todo.keys():\n",
    "        users_todo[name].append(todo)\n",
    "    else:\n",
    "        users_todo[name] = [todo]\n",
    "\n"
   ]
  },
  {
   "cell_type": "code",
   "execution_count": 74,
   "metadata": {},
   "outputs": [
    {
     "name": "stdout",
     "output_type": "stream",
     "text": [
      "dict_keys(['Bret', 'Antonette', 'Samantha', 'Karianne', 'Kamren', 'Leopoldo_Corkery', 'Elwyn.Skiles', 'Maxime_Nienow', 'Delphine', 'Moriah.Stanton'])\n"
     ]
    }
   ],
   "source": [
    "print(users_todo.keys())"
   ]
  },
  {
   "cell_type": "code",
   "execution_count": 93,
   "metadata": {},
   "outputs": [
    {
     "name": "stdout",
     "output_type": "stream",
     "text": [
      "+-----------------------------------------------------------------+-------+\n",
      "|                               Bret                              |  TODO |\n",
      "+-----------------------------------------------------------------+-------+\n",
      "|                        delectus aut autem                       | False |\n",
      "|                quis ut nam facilis et officia qui               | False |\n",
      "|                       fugiat veniam minus                       | False |\n",
      "|                         et porro tempora                        |  True |\n",
      "| laboriosam mollitia et enim quasi adipisci quia provident illum | False |\n",
      "|        qui ullam ratione quibusdam voluptatem quia omnis        | False |\n",
      "|                illo expedita consequatur quia in                | False |\n",
      "|                   quo adipisci enim quam ut ab                  |  True |\n",
      "|                   molestiae perspiciatis ipsa                   | False |\n",
      "|           illo est ratione doloremque quia maiores aut          |  True |\n",
      "|                   vero rerum temporibus dolor                   |  True |\n",
      "|                   ipsa repellendus fugit nisi                   |  True |\n",
      "|                       et doloremque nulla                       | False |\n",
      "|          repellendus sunt dolores architecto voluptatum         |  True |\n",
      "|                   ab voluptatum amet voluptas                   |  True |\n",
      "|           accusamus eos facilis sint et aut voluptatem          |  True |\n",
      "|                 quo laboriosam deleniti aut qui                 |  True |\n",
      "|           dolorum est consequatur ea mollitia in culpa          | False |\n",
      "|       molestiae ipsa aut voluptatibus pariatur dolor nihil      |  True |\n",
      "|            ullam nobis libero sapiente ad optio sint            |  True |\n",
      "+-----------------------------------------------------------------+-------+\n"
     ]
    }
   ],
   "source": [
    "for user, todos in users_todo.items():\n",
    "    p = PrettyTable()\n",
    "    p.field_names = [user, \"TODO\"]\n",
    "    for todo in todos:\n",
    "        p.add_row([todo[\"title\"], todo[\"completed\"]])\n",
    "    print(p)\n",
    "        "
   ]
  }
 ],
 "metadata": {
  "kernelspec": {
   "display_name": "Python 3.9.12 ('base')",
   "language": "python",
   "name": "python3"
  },
  "language_info": {
   "codemirror_mode": {
    "name": "ipython",
    "version": 3
   },
   "file_extension": ".py",
   "mimetype": "text/x-python",
   "name": "python",
   "nbconvert_exporter": "python",
   "pygments_lexer": "ipython3",
   "version": "3.9.12"
  },
  "orig_nbformat": 4,
  "vscode": {
   "interpreter": {
    "hash": "7473d73b0517ab6f64aa731f2cb80c0acf19c95420055020da77d830c23b4531"
   }
  }
 },
 "nbformat": 4,
 "nbformat_minor": 2
}
