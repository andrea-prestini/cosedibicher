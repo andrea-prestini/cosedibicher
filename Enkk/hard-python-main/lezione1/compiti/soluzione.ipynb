{
 "cells": [
  {
   "cell_type": "markdown",
   "metadata": {},
   "source": [
    "# Versione SHORT"
   ]
  },
  {
   "cell_type": "markdown",
   "metadata": {},
   "source": [
    "## Compito 1\n",
    "1. Creare uno script di python che simuli il login ad un sito di casino.\n",
    "2. Si chieda all'utente: nome, cognome, ed età\n",
    "\n"
   ]
  },
  {
   "cell_type": "code",
   "execution_count": null,
   "metadata": {},
   "outputs": [],
   "source": [
    "name = input(\"Inserisci il nome: \")\n",
    "surname = input(\"Inserisci il cognome: \")\n",
    "age = int(input(\"Inserisci l'etá: \"))\n",
    "\n"
   ]
  },
  {
   "cell_type": "markdown",
   "metadata": {},
   "source": [
    "1. si verifichi che il nome e il cognome siano più lunghi di un carattere e che l'età sia maggiore o uguale di 18 anni\n",
    "2. se tutto è corretto stampare una string di conferma altrimenti comunicare l'errore all'utente\n",
    "3. si consideri che l'utente fornirà sempre dati di tipo corretto"
   ]
  },
  {
   "cell_type": "code",
   "execution_count": null,
   "metadata": {},
   "outputs": [],
   "source": [
    "if len(name) > 1 and len(surname) > 1 and age >= 18:\n",
    "    print(\"Access Confirmed\")\n",
    "    print(\"Welcome in\", name.capitalize(), surname.capitalize())\n",
    "    print(str(age), \"yo is good enough. You are a big person now! Go enjoy the world\")\n",
    "\n",
    "else:\n",
    "    print(\"Access Denied\")\n",
    "\n",
    "\n",
    "# *BONUS: stampare resoconto dei dati assicurandosi che nome e cognome inizino con la maiuscola*\n"
   ]
  },
  {
   "cell_type": "markdown",
   "metadata": {},
   "source": [
    "# Versione LUNGA\n",
    "\n"
   ]
  },
  {
   "cell_type": "markdown",
   "metadata": {},
   "source": [
    "Aggiungiamo una intro con titolo della nostra applicazione"
   ]
  },
  {
   "cell_type": "code",
   "execution_count": null,
   "metadata": {},
   "outputs": [],
   "source": [
    "print(\" - - - Login del casino - - - \\n\\n\")\n",
    "\n"
   ]
  },
  {
   "cell_type": "code",
   "execution_count": null,
   "metadata": {},
   "outputs": [],
   "source": [
    "name = input(\"Inserisci il nome: \")\n",
    "surname = input(\"Inserisci il cognome: \")\n",
    "age = int(input(\"Inserisci l'etá: \"))\n",
    "\n"
   ]
  },
  {
   "cell_type": "markdown",
   "metadata": {},
   "source": [
    "1. si verifichi che il nome e il cognome siano più lunghi di un carattere e che l'età sia maggiore o uguale di 18 anni\n",
    "2. se tutto è corretto stampare una string di conferma altrimenti comunicare l'errore all'utente\n",
    "3. si consideri che l'utente fornirà sempre dati di tipo corretto"
   ]
  },
  {
   "cell_type": "markdown",
   "metadata": {},
   "source": [
    "## V1\n",
    "> following all the small steps to get to the solution for the name\n",
    "\n"
   ]
  },
  {
   "cell_type": "markdown",
   "metadata": {},
   "source": [
    "> i nomi di variabili devono essere PARLANTI, non a b c ma parole...\n"
   ]
  },
  {
   "cell_type": "code",
   "execution_count": null,
   "metadata": {},
   "outputs": [],
   "source": [
    "name_len = len(name)\n",
    "surname_len = len(surname)\n",
    "\n",
    "is_ok_name = name_len > 1\n",
    "is_ok_surname = surname_len > 1\n",
    "\n",
    "both_ok = is_ok_name and is_ok_surname"
   ]
  },
  {
   "cell_type": "code",
   "execution_count": null,
   "metadata": {},
   "outputs": [],
   "source": [
    "\n",
    "\n",
    "if both_ok:\n",
    "    print(\"Name and surname are correct\")\n",
    "    print(\"Welcome in \" + name.capitalize() + \" \" + surname.capitalize())\n",
    "else:\n",
    "    print(\"Name or surname are too short\")\n",
    "\n",
    "# now to the age part\n",
    "\n",
    "f = age >= 18\n",
    "\n",
    "if f:\n",
    "    print(str(age) + \" yo is good enough. You are a big person now! Go enjoy the world\")\n",
    "else:\n",
    "    print(\"I think u need to grow up a little\")\n",
    "\n",
    "\n",
    "# *BONUS: stampare resoconto dei dati assicurandosi che nome e cognome inizino con la maiuscola*\n"
   ]
  }
 ],
 "metadata": {
  "kernelspec": {
   "display_name": "Python 3.9.12 ('base')",
   "language": "python",
   "name": "python3"
  },
  "language_info": {
   "codemirror_mode": {
    "name": "ipython",
    "version": 3
   },
   "file_extension": ".py",
   "mimetype": "text/x-python",
   "name": "python",
   "nbconvert_exporter": "python",
   "pygments_lexer": "ipython3",
   "version": "3.9.12"
  },
  "orig_nbformat": 4,
  "vscode": {
   "interpreter": {
    "hash": "7473d73b0517ab6f64aa731f2cb80c0acf19c95420055020da77d830c23b4531"
   }
  }
 },
 "nbformat": 4,
 "nbformat_minor": 2
}
