{
 "cells": [
  {
   "cell_type": "code",
   "execution_count": 1,
   "metadata": {},
   "outputs": [],
   "source": [
    "import pandas as pd"
   ]
  },
  {
   "cell_type": "code",
   "execution_count": 2,
   "metadata": {},
   "outputs": [],
   "source": [
    "#pd.set_option(\"display.max_rows\", None)\n",
    "# quante righe dovrà mostrarci pandas in output\n"
   ]
  },
  {
   "cell_type": "code",
   "execution_count": 3,
   "metadata": {},
   "outputs": [],
   "source": [
    "df =  pd.read_excel(\"enti.xlsx\", index_col = 0)"
   ]
  },
  {
   "cell_type": "code",
   "execution_count": 4,
   "metadata": {},
   "outputs": [],
   "source": [
    "df = df[[\"Denominazione_ente\", \"Tipologia\", \"Data_aggiornamento\", \"web_test_result\"]]"
   ]
  },
  {
   "cell_type": "code",
   "execution_count": 5,
   "metadata": {},
   "outputs": [
    {
     "data": {
      "text/html": [
       "<div>\n",
       "<style scoped>\n",
       "    .dataframe tbody tr th:only-of-type {\n",
       "        vertical-align: middle;\n",
       "    }\n",
       "\n",
       "    .dataframe tbody tr th {\n",
       "        vertical-align: top;\n",
       "    }\n",
       "\n",
       "    .dataframe thead th {\n",
       "        text-align: right;\n",
       "    }\n",
       "</style>\n",
       "<table border=\"1\" class=\"dataframe\">\n",
       "  <thead>\n",
       "    <tr style=\"text-align: right;\">\n",
       "      <th></th>\n",
       "      <th>Denominazione_ente</th>\n",
       "      <th>Tipologia</th>\n",
       "      <th>Data_aggiornamento</th>\n",
       "      <th>web_test_result</th>\n",
       "    </tr>\n",
       "    <tr>\n",
       "      <th>_id</th>\n",
       "      <th></th>\n",
       "      <th></th>\n",
       "      <th></th>\n",
       "      <th></th>\n",
       "    </tr>\n",
       "  </thead>\n",
       "  <tbody>\n",
       "    <tr>\n",
       "      <th>9839</th>\n",
       "      <td>Consorzio Forestale Bassa Valle Camonica</td>\n",
       "      <td>Gestori di Pubblici Servizi</td>\n",
       "      <td>2018-06-05</td>\n",
       "      <td>1</td>\n",
       "    </tr>\n",
       "    <tr>\n",
       "      <th>22394</th>\n",
       "      <td>Unione Dei Comuni della Bassa Valle Camonica</td>\n",
       "      <td>Pubbliche Amministrazioni</td>\n",
       "      <td>2017-11-27</td>\n",
       "      <td>1</td>\n",
       "    </tr>\n",
       "  </tbody>\n",
       "</table>\n",
       "</div>"
      ],
      "text/plain": [
       "                                 Denominazione_ente  \\\n",
       "_id                                                   \n",
       "9839       Consorzio Forestale Bassa Valle Camonica   \n",
       "22394  Unione Dei Comuni della Bassa Valle Camonica   \n",
       "\n",
       "                         Tipologia Data_aggiornamento  web_test_result  \n",
       "_id                                                                     \n",
       "9839   Gestori di Pubblici Servizi         2018-06-05                1  \n",
       "22394    Pubbliche Amministrazioni         2017-11-27                1  "
      ]
     },
     "execution_count": 5,
     "metadata": {},
     "output_type": "execute_result"
    }
   ],
   "source": [
    "df[(df.web_test_result == 1) & (df.Denominazione_ente.str.contains(\"Valle Camonica\"))]"
   ]
  },
  {
   "cell_type": "code",
   "execution_count": 6,
   "metadata": {},
   "outputs": [
    {
     "data": {
      "text/html": [
       "<div>\n",
       "<style scoped>\n",
       "    .dataframe tbody tr th:only-of-type {\n",
       "        vertical-align: middle;\n",
       "    }\n",
       "\n",
       "    .dataframe tbody tr th {\n",
       "        vertical-align: top;\n",
       "    }\n",
       "\n",
       "    .dataframe thead th {\n",
       "        text-align: right;\n",
       "    }\n",
       "</style>\n",
       "<table border=\"1\" class=\"dataframe\">\n",
       "  <thead>\n",
       "    <tr style=\"text-align: right;\">\n",
       "      <th></th>\n",
       "      <th>Denominazione_ente</th>\n",
       "      <th>Tipologia</th>\n",
       "      <th>Data_aggiornamento</th>\n",
       "      <th>web_test_result</th>\n",
       "    </tr>\n",
       "    <tr>\n",
       "      <th>_id</th>\n",
       "      <th></th>\n",
       "      <th></th>\n",
       "      <th></th>\n",
       "      <th></th>\n",
       "    </tr>\n",
       "  </thead>\n",
       "  <tbody>\n",
       "    <tr>\n",
       "      <th>1129</th>\n",
       "      <td>Azienda Socio Sanitaria Territoriale della Val...</td>\n",
       "      <td>Pubbliche Amministrazioni</td>\n",
       "      <td>2020-12-15</td>\n",
       "      <td>0</td>\n",
       "    </tr>\n",
       "    <tr>\n",
       "      <th>9489</th>\n",
       "      <td>Consorzio Comuni Bacino Imbrifero Montano di V...</td>\n",
       "      <td>Pubbliche Amministrazioni</td>\n",
       "      <td>2018-10-16</td>\n",
       "      <td>0</td>\n",
       "    </tr>\n",
       "    <tr>\n",
       "      <th>9839</th>\n",
       "      <td>Consorzio Forestale Bassa Valle Camonica</td>\n",
       "      <td>Gestori di Pubblici Servizi</td>\n",
       "      <td>2018-06-05</td>\n",
       "      <td>1</td>\n",
       "    </tr>\n",
       "    <tr>\n",
       "      <th>10253</th>\n",
       "      <td>Comunita' Montana di Valle Camonica</td>\n",
       "      <td>Pubbliche Amministrazioni</td>\n",
       "      <td>2018-10-16</td>\n",
       "      <td>0</td>\n",
       "    </tr>\n",
       "    <tr>\n",
       "      <th>22007</th>\n",
       "      <td>Servizi Idrici Valle Camonica Srl</td>\n",
       "      <td>Stazioni Appaltanti</td>\n",
       "      <td>2020-07-02</td>\n",
       "      <td>0</td>\n",
       "    </tr>\n",
       "    <tr>\n",
       "      <th>22192</th>\n",
       "      <td>Unione Antichi Borghi di Vallecamonica</td>\n",
       "      <td>Pubbliche Amministrazioni</td>\n",
       "      <td>2021-07-06</td>\n",
       "      <td>0</td>\n",
       "    </tr>\n",
       "    <tr>\n",
       "      <th>22214</th>\n",
       "      <td>Unione dei Comuni dell'Alta Valle Camonica</td>\n",
       "      <td>Pubbliche Amministrazioni</td>\n",
       "      <td>2021-02-10</td>\n",
       "      <td>0</td>\n",
       "    </tr>\n",
       "    <tr>\n",
       "      <th>22311</th>\n",
       "      <td>Unione Dei Comuni della Media Valle Camonica -...</td>\n",
       "      <td>Pubbliche Amministrazioni</td>\n",
       "      <td>2020-04-02</td>\n",
       "      <td>0</td>\n",
       "    </tr>\n",
       "    <tr>\n",
       "      <th>22394</th>\n",
       "      <td>Unione Dei Comuni della Bassa Valle Camonica</td>\n",
       "      <td>Pubbliche Amministrazioni</td>\n",
       "      <td>2017-11-27</td>\n",
       "      <td>1</td>\n",
       "    </tr>\n",
       "  </tbody>\n",
       "</table>\n",
       "</div>"
      ],
      "text/plain": [
       "                                      Denominazione_ente  \\\n",
       "_id                                                        \n",
       "1129   Azienda Socio Sanitaria Territoriale della Val...   \n",
       "9489   Consorzio Comuni Bacino Imbrifero Montano di V...   \n",
       "9839            Consorzio Forestale Bassa Valle Camonica   \n",
       "10253                Comunita' Montana di Valle Camonica   \n",
       "22007                  Servizi Idrici Valle Camonica Srl   \n",
       "22192             Unione Antichi Borghi di Vallecamonica   \n",
       "22214         Unione dei Comuni dell'Alta Valle Camonica   \n",
       "22311  Unione Dei Comuni della Media Valle Camonica -...   \n",
       "22394       Unione Dei Comuni della Bassa Valle Camonica   \n",
       "\n",
       "                         Tipologia Data_aggiornamento  web_test_result  \n",
       "_id                                                                     \n",
       "1129     Pubbliche Amministrazioni         2020-12-15                0  \n",
       "9489     Pubbliche Amministrazioni         2018-10-16                0  \n",
       "9839   Gestori di Pubblici Servizi         2018-06-05                1  \n",
       "10253    Pubbliche Amministrazioni         2018-10-16                0  \n",
       "22007          Stazioni Appaltanti         2020-07-02                0  \n",
       "22192    Pubbliche Amministrazioni         2021-07-06                0  \n",
       "22214    Pubbliche Amministrazioni         2021-02-10                0  \n",
       "22311    Pubbliche Amministrazioni         2020-04-02                0  \n",
       "22394    Pubbliche Amministrazioni         2017-11-27                1  "
      ]
     },
     "execution_count": 6,
     "metadata": {},
     "output_type": "execute_result"
    }
   ],
   "source": [
    "df[df.Denominazione_ente.str.contains(\"Camonica\", case=False, regex=True)]\n"
   ]
  },
  {
   "cell_type": "code",
   "execution_count": null,
   "metadata": {},
   "outputs": [],
   "source": []
  }
 ],
 "metadata": {
  "interpreter": {
   "hash": "7473d73b0517ab6f64aa731f2cb80c0acf19c95420055020da77d830c23b4531"
  },
  "kernelspec": {
   "display_name": "Python 3 (ipykernel)",
   "language": "python",
   "name": "python3"
  },
  "language_info": {
   "codemirror_mode": {
    "name": "ipython",
    "version": 3
   },
   "file_extension": ".py",
   "mimetype": "text/x-python",
   "name": "python",
   "nbconvert_exporter": "python",
   "pygments_lexer": "ipython3",
   "version": "3.9.12"
  }
 },
 "nbformat": 4,
 "nbformat_minor": 4
}
