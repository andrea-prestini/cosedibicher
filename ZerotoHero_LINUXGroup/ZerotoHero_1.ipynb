{
 "nbformat": 4,
 "nbformat_minor": 2,
 "metadata": {
  "language_info": {
   "name": "python",
   "codemirror_mode": {
    "name": "ipython",
    "version": 3
   },
   "version": "3.8.0"
  },
  "orig_nbformat": 2,
  "file_extension": ".py",
  "mimetype": "text/x-python",
  "name": "python",
  "npconvert_exporter": "python",
  "pygments_lexer": "ipython3",
  "version": 3
 },
 "cells": [
  {
   "cell_type": "code",
   "execution_count": 6,
   "metadata": {},
   "outputs": [
    {
     "name": "stdout",
     "output_type": "stream",
     "text": "prima riga e questa è ancora la prima riga\n"
    }
   ],
   "source": [
    "print(\"prima riga\", end=\"\")\n",
    "print(\" e questa è ancora la prima riga\")"
   ]
  },
  {
   "cell_type": "markdown",
   "execution_count": null,
   "metadata": {},
   "outputs": [],
   "source": [
    "## Variabili\n",
    "In python non serve dichiarare le variabili. Ogni volta che si assegna un valore ad una etichetta viene automaticamente creata una variabile del tipo adeguato."
   ]
  },
  {
   "cell_type": "code",
   "execution_count": 13,
   "metadata": {},
   "outputs": [
    {
     "name": "stdout",
     "output_type": "stream",
     "text": "int 3\nfloat 7.5\nstr ciao mondo\n"
    }
   ],
   "source": [
    "numero = 3\n",
    "decimale = 7.5\n",
    "frase = \"ciao mondo\"\n",
    "print(type(numero).__name__,numero) #doppio underscore si chiama Dunder\n",
    "print(type(decimale).__name__,decimale)\n",
    "print(type(frase).__name__,frase)"
   ]
  },
  {
   "cell_type": "markdown",
   "execution_count": 14,
   "metadata": {},
   "outputs": [
    {
     "ename": "SyntaxError",
     "evalue": "invalid syntax (<ipython-input-14-d0a3212dced9>, line 2)",
     "output_type": "error",
     "traceback": [
      "\u001b[0;36m  File \u001b[0;32m\"<ipython-input-14-d0a3212dced9>\"\u001b[0;36m, line \u001b[0;32m2\u001b[0m\n\u001b[0;31m    gli interi di python sono **infiniti**, tanta RAM avete, tanto grande può essere il numero!\u001b[0m\n\u001b[0m        ^\u001b[0m\n\u001b[0;31mSyntaxError\u001b[0m\u001b[0;31m:\u001b[0m invalid syntax\n"
     ]
    }
   ],
   "source": [
    "## Gestione dinamica dei numeri INT:\n",
    "gli interi di python sono **infiniti**, tanta RAM avete, tanto grande può essere il numero!\n",
    "Non è la stessa cosa per il Float, abbiamo una gestione dinamica a livello di bit per gli INT"
   ]
  },
  {
   "cell_type": "markdown",
   "execution_count": null,
   "metadata": {},
   "outputs": [],
   "source": [
    "## Riutilizzo delle variabili (sconsigliato):\n",
    "Se assegniamo un nuovo valore ad una variabile questa lo mantiene da quel punto in poi!"
   ]
  },
  {
   "cell_type": "markdown",
   "execution_count": null,
   "metadata": {},
   "outputs": [],
   "source": [
    "## in Python **tutto** è un oggetto"
   ]
  },
  {
   "cell_type": "code",
   "execution_count": null,
   "metadata": {},
   "outputs": [],
   "source": []
  },
  {
   "cell_type": "code",
   "execution_count": 16,
   "metadata": {},
   "outputs": [
    {
     "name": "stdout",
     "output_type": "stream",
     "text": "4\n16\n"
    }
   ],
   "source": [
    "a = int(\"10\")\n",
    "print(a.bit_length())\n",
    "a = int(\"65000\")\n",
    "print(a.bit_length())"
   ]
  },
  {
   "cell_type": "code",
   "execution_count": 19,
   "metadata": {},
   "outputs": [
    {
     "name": "stdout",
     "output_type": "stream",
     "text": "nella stringa ci sono 4 a\nFACCIAMO UNA PROVA\nFacciamo Una Prova\n"
    }
   ],
   "source": [
    "b = \"facciamo una prova\" #anche le stringhe sono oggetti\n",
    "print(\"nella stringa ci sono\",b.count(\"a\"), \"a\")\n",
    "print(b.upper())\n",
    "print(b.title())"
   ]
  },
  {
   "cell_type": "markdown",
   "execution_count": null,
   "metadata": {},
   "outputs": [],
   "source": [
    "## Formattazione delle stringhe"
   ]
  },
  {
   "cell_type": "code",
   "execution_count": 26,
   "metadata": {},
   "outputs": [
    {
     "name": "stdout",
     "output_type": "stream",
     "text": "numero di prova1, 1\nnumero di prova2,2\nnumero di prova3, 3\nnumero di prova4, 4\n"
    }
   ],
   "source": [
    "modo1 = \"numero di %s, %d\" % (\"prova1\", 1)\n",
    "modo2 = \"numero di {},{}\".format(\"prova2\", 2)\n",
    "modo3 = \"numero di {1}, {0}\".format(3, \"prova3\")\n",
    "numero, testo = 4, \"prova4\"\n",
    "modo4 = f\"numero di {testo}, {numero}\"\n",
    "\n",
    "print(modo1)\n",
    "print(modo2)\n",
    "print(modo3)\n",
    "print(modo4)\n",
    "\n"
   ]
  },
  {
   "cell_type": "markdown",
   "execution_count": null,
   "metadata": {},
   "outputs": [],
   "source": [
    "# Tuple: oggetti *immutabili*"
   ]
  },
  {
   "cell_type": "code",
   "execution_count": 27,
   "metadata": {},
   "outputs": [
    {
     "name": "stdout",
     "output_type": "stream",
     "text": "(1, 2, 'terzo')\n"
    }
   ],
   "source": [
    "var_tupla = (1, 2, \"terzo\")\n",
    "print(var_tupla)"
   ]
  },
  {
   "cell_type": "markdown",
   "execution_count": null,
   "metadata": {},
   "outputs": [],
   "source": [
    "# Liste"
   ]
  },
  {
   "cell_type": "code",
   "execution_count": 29,
   "metadata": {},
   "outputs": [
    {
     "name": "stdout",
     "output_type": "stream",
     "text": "['a', 'b', 3]\n['a', 'secondo', 3]\n['a', 'secondo', 3, 'andrea']\n"
    }
   ],
   "source": [
    "var_lista = [\"a\", \"b\", 3]\n",
    "print(var_lista)\n",
    "var_lista[1] = \"secondo\"\n",
    "print(var_lista)\n",
    "var_lista.append(\"andrea\")\n",
    "print(var_lista)"
   ]
  },
  {
   "cell_type": "markdown",
   "execution_count": null,
   "metadata": {},
   "outputs": [],
   "source": [
    "# Dizionari"
   ]
  },
  {
   "cell_type": "code",
   "execution_count": 30,
   "metadata": {},
   "outputs": [
    {
     "name": "stdout",
     "output_type": "stream",
     "text": "{'luca': 7, 'mario': 5, 'francesca': 9}\n{'luca': 8, 'mario': 5, 'francesca': 9}\n"
    }
   ],
   "source": [
    "var_voti = {\"luca\": 7, \"mario\": 5, \"francesca\": 9}\n",
    "print(var_voti)\n",
    "var_voti[\"luca\"] = 8\n",
    "print(var_voti)"
   ]
  },
  {
   "cell_type": "markdown",
   "execution_count": null,
   "metadata": {},
   "outputs": [],
   "source": [
    "# Set: sono **insiemi**"
   ]
  },
  {
   "cell_type": "code",
   "execution_count": 34,
   "metadata": {},
   "outputs": [
    {
     "name": "stdout",
     "output_type": "stream",
     "text": "{'mario', 'luigi', 'francesca'}\n{'luigi', 'andrea', 'silvia'}\n{'luigi', 'andrea', 'francesca', 'mario', 'silvia'}\n{'mario', 'francesca'}\n{'luigi'}\n"
    }
   ],
   "source": [
    "primo = {\"luigi\", \"mario\", \"francesca\"}\n",
    "secondo = {\"andrea\", \"luigi\", \"silvia\"}\n",
    "print(primo)\n",
    "print(secondo)\n",
    "print(primo | secondo)\n",
    "print(primo - secondo)\n",
    "print(primo & secondo)"
   ]
  },
  {
   "cell_type": "markdown",
   "execution_count": 1,
   "metadata": {},
   "outputs": [],
   "source": [
    "## Flussi"
   ]
  },
  {
   "cell_type": "code",
   "execution_count": null,
   "metadata": {},
   "outputs": [],
   "source": [
    "numero_stringa = input(\"Inserisci un numero: \")\n",
    "numero = int(numero_stringa)\n",
    "\n",
    "if(numero > 10):\n",
    "    print(\"il numero è maggiore di 10\")\n",
    "elif(numero < 10):\n",
    "    print(\"il numero è minore di 10\")\n",
    "else:\n",
    "    print(\"il numero scelto è 10\")\n",
    "    "
   ]
  },
  {
   "cell_type": "code",
   "execution_count": 18,
   "metadata": {},
   "outputs": [
    {
     "name": "stdout",
     "output_type": "stream",
     "text": "vero\nandrea\n"
    }
   ],
   "source": [
    "print(\"vero\" if 20 > 5 else \"falso\")\n",
    "print(\"andrea\" if \"andrea\" else \"falso\") #la stringa non è vuota\n",
    "\n"
   ]
  },
  {
   "cell_type": "markdown",
   "execution_count": null,
   "metadata": {},
   "outputs": [],
   "source": [
    "stessa cosa per verificare se una lista o tupla sono vuote: eseguo if sulla variabile e se il risultato è True significa che la stessa non è vuota!"
   ]
  },
  {
   "cell_type": "code",
   "execution_count": 51,
   "metadata": {},
   "outputs": [
    {
     "name": "stdout",
     "output_type": "stream",
     "text": "FALSO\n"
    }
   ],
   "source": [
    "my_str = \"\"\n",
    "print(\"VERO\" if my_str else \"FALSO\")"
   ]
  },
  {
   "cell_type": "code",
   "execution_count": 58,
   "metadata": {},
   "outputs": [
    {
     "name": "stdout",
     "output_type": "stream",
     "text": "VERO\n"
    }
   ],
   "source": [
    "my_str = \"casa\"\n",
    "print(\"VERO\" if my_str else \"FALSO\")"
   ]
  },
  {
   "cell_type": "code",
   "execution_count": 59,
   "metadata": {},
   "outputs": [
    {
     "name": "stdout",
     "output_type": "stream",
     "text": "vero\ncasa\n"
    }
   ],
   "source": [
    "if my_str:\n",
    "    print(\"vero\")\n",
    "else:\n",
    "    print(\"falso\")\n",
    "print(my_str)"
   ]
  },
  {
   "cell_type": "code",
   "execution_count": 62,
   "metadata": {},
   "outputs": [
    {
     "name": "stdout",
     "output_type": "stream",
     "text": "margherita\ntulipano\norchidea\nho trovato rosa\npapavero\n"
    }
   ],
   "source": [
    "lista_test = [\"margherita\", \"tulipano\", \"orchidea\", \"rosa\", \"papavero\"]\n",
    "for fiore in lista_test:\n",
    "    if fiore == \"rosa\":\n",
    "        print(f\"ho trovato {fiore}\")\n",
    "        break\n",
    "    else:\n",
    "        print(fiore)\n"
   ]
  },
  {
   "cell_type": "code",
   "execution_count": 64,
   "metadata": {},
   "outputs": [
    {
     "name": "stdout",
     "output_type": "stream",
     "text": "0 è numero pari\n1 è numero dispari\n2 è numero pari\n3 è numero dispari\n4 è numero pari\n5 è numero dispari\n6 è numero pari\n7 è numero dispari\n8 è numero pari\n9 è numero dispari\n"
    }
   ],
   "source": [
    "for i in range(10):\n",
    "    if i % 2 == 0:\n",
    "        print(f\"{i} è numero pari\")\n",
    "        continue\n",
    "    print(f\"{i} è numero dispari\")"
   ]
  },
  {
   "cell_type": "code",
   "execution_count": 68,
   "metadata": {},
   "outputs": [
    {
     "name": "stdout",
     "output_type": "stream",
     "text": "ciclo 0\nciclo 1\nciclo 2\nho eseguito tutti i cicli\n"
    }
   ],
   "source": [
    "cicli = 3\n",
    "for i in range(cicli):\n",
    "    if i > 5:\n",
    "        break\n",
    "    else:\n",
    "        print(f\"ciclo {i}\")\n",
    "else:\n",
    "    print(\"ho eseguito tutti i cicli\")"
   ]
  },
  {
   "cell_type": "code",
   "execution_count": 3,
   "metadata": {},
   "outputs": [
    {
     "name": "stdout",
     "output_type": "stream",
     "text": "ciclo 0\nciclo 1\nciclo 2\nciclo 3\nciclo 4\nciclo 5\n"
    }
   ],
   "source": [
    "cicli = 3000\n",
    "for i in range(cicli):\n",
    "    if i > 5:\n",
    "        break\n",
    "    else:\n",
    "        print(f\"ciclo {i}\")\n",
    "else:\n",
    "    print(\"ho eseguito tutti i cicli\") #passa ad else se esegue TUTTI i cicli!"
   ]
  },
  {
   "cell_type": "markdown",
   "execution_count": 4,
   "metadata": {},
   "outputs": [],
   "source": [
    "# Funzioni\n"
   ]
  },
  {
   "cell_type": "code",
   "execution_count": 5,
   "metadata": {},
   "outputs": [
    {
     "name": "stdout",
     "output_type": "stream",
     "text": "3\n"
    }
   ],
   "source": [
    "def somma(a,b):\n",
    "    \"\"\"Somma due numeri\"\"\"\n",
    "    return a + b\n",
    "\n",
    "print(somma(1,2))\n"
   ]
  },
  {
   "cell_type": "code",
   "execution_count": 6,
   "metadata": {},
   "outputs": [
    {
     "name": "stdout",
     "output_type": "stream",
     "text": "5\n"
    }
   ],
   "source": [
    "def somma(a,b):\n",
    "    print(a+b)\n",
    "\n",
    "somma(1,4)"
   ]
  },
  {
   "cell_type": "code",
   "execution_count": 13,
   "metadata": {},
   "outputs": [
    {
     "name": "stdout",
     "output_type": "stream",
     "text": "(10, 11, 13)\n"
    }
   ],
   "source": [
    "def somma(a,b):\n",
    "    return a+b, 11, 13\n",
    "\n",
    "print(somma(5,5))"
   ]
  },
  {
   "cell_type": "code",
   "execution_count": 17,
   "metadata": {},
   "outputs": [
    {
     "name": "stdout",
     "output_type": "stream",
     "text": "9739840 id di a\n9739840 id di b\nTrue\n9739872 id di a dopo cambio valore\n9739840 id di b è rimasto invariato ma ora diverso da id di a\nFalse\n9739840 id di a con vecchio valore, stesso id dell'inizio\nTrue\n"
    }
   ],
   "source": [
    "\"\"\" attenzione l'assegnazione delle variabili avviene per RIFERIMENTI!\"\"\"\n",
    "a = 1\n",
    "print(id(a), \"id di a\")\n",
    "b = a\n",
    "print(id(b), \"id di b\")\n",
    "print(a is b)\n",
    "a = 2\n",
    "print(id(a), \"id di a dopo cambio valore\")\n",
    "print(id(b), \"id di b è rimasto invariato ma ora diverso da id di a\")\n",
    "print(a is b)\n",
    "a = 1\n",
    "print(id(a), \"id di a con vecchio valore, stesso id dell'inizio\")\n",
    "print(a is b)\n",
    "\n"
   ]
  },
  {
   "cell_type": "markdown",
   "execution_count": null,
   "metadata": {},
   "outputs": [],
   "source": [
    "# Classi"
   ]
  },
  {
   "cell_type": "code",
   "execution_count": 35,
   "metadata": {},
   "outputs": [],
   "source": [
    "class automobile():\n",
    "    \"\"\"rappresenta il concetto di auto\"\"\"\n",
    "    \n",
    "    def __init__(self, colore, alimentazione):\n",
    "        self.colore = colore\n",
    "        self.alimentazione = alimentazione\n",
    "        self.accesa = False\n",
    "\n",
    "    def accendi(self):\n",
    "        self.accesa = True\n",
    "\n",
    "    def spegni(self):\n",
    "        self.accesa = False"
   ]
  },
  {
   "cell_type": "code",
   "execution_count": 36,
   "metadata": {},
   "outputs": [
    {
     "name": "stdout",
     "output_type": "stream",
     "text": "verde\nGPL\n"
    }
   ],
   "source": [
    "macchina1 = automobile(\"verde\", \"GPL\")\n",
    "macchina2 = automobile(\"rossa\", \"Benzina\")\n",
    "print(macchina1.colore)\n",
    "print(macchina1.alimentazione)"
   ]
  },
  {
   "cell_type": "code",
   "execution_count": 37,
   "metadata": {},
   "outputs": [
    {
     "name": "stdout",
     "output_type": "stream",
     "text": "nera\nrossa\n"
    }
   ],
   "source": [
    "macchina1.colore = \"nera\"\n",
    "print(macchina1.colore)\n",
    "print(macchina2.colore)"
   ]
  },
  {
   "cell_type": "code",
   "execution_count": 41,
   "metadata": {},
   "outputs": [
    {
     "name": "stdout",
     "output_type": "stream",
     "text": "è accesa la macchina 1?  True\nè accesa la macchina 2?  False\n"
    }
   ],
   "source": [
    "macchina1.accendi()\n",
    "print(\"è accesa la macchina 1? \", macchina1.accesa)\n",
    "print(\"è accesa la macchina 2? \",macchina2.accesa)"
   ]
  },
  {
   "cell_type": "markdown",
   "execution_count": null,
   "metadata": {},
   "outputs": [],
   "source": [
    "## Metodi e attributi privati "
   ]
  },
  {
   "cell_type": "code",
   "execution_count": 42,
   "metadata": {},
   "outputs": [],
   "source": [
    "class automobile():\n",
    "\n",
    "    def __init__(self):\n",
    "        self.__accesa = False\n",
    "    \n",
    "    def accendi(self):\n",
    "        self.__accesa = True\n",
    "\n",
    "    def spegni(slef):\n",
    "        self.__accesa = False\n",
    "\n",
    "    def stato(self):\n",
    "        return self.__accesa\n",
    "        "
   ]
  },
  {
   "cell_type": "code",
   "execution_count": 47,
   "metadata": {},
   "outputs": [
    {
     "name": "stdout",
     "output_type": "stream",
     "text": "False\nFalse\n"
    },
    {
     "ename": "AttributeError",
     "evalue": "'automobile' object has no attribute '__accesa'",
     "output_type": "error",
     "traceback": [
      "\u001b[0;31m---------------------------------------------------------------------------\u001b[0m",
      "\u001b[0;31mAttributeError\u001b[0m                            Traceback (most recent call last)",
      "\u001b[0;32m<ipython-input-47-34a1002dca5e>\u001b[0m in \u001b[0;36m<module>\u001b[0;34m\u001b[0m\n\u001b[1;32m      2\u001b[0m \u001b[0mprint\u001b[0m\u001b[0;34m(\u001b[0m\u001b[0mtoyota\u001b[0m\u001b[0;34m.\u001b[0m\u001b[0mstato\u001b[0m\u001b[0;34m(\u001b[0m\u001b[0;34m)\u001b[0m\u001b[0;34m)\u001b[0m\u001b[0;34m\u001b[0m\u001b[0;34m\u001b[0m\u001b[0m\n\u001b[1;32m      3\u001b[0m \u001b[0mprint\u001b[0m\u001b[0;34m(\u001b[0m\u001b[0mtoyota\u001b[0m\u001b[0;34m.\u001b[0m\u001b[0m_automobile__accesa\u001b[0m\u001b[0;34m)\u001b[0m\u001b[0;34m\u001b[0m\u001b[0;34m\u001b[0m\u001b[0m\n\u001b[0;32m----> 4\u001b[0;31m \u001b[0mprint\u001b[0m\u001b[0;34m(\u001b[0m\u001b[0mtoyota\u001b[0m\u001b[0;34m.\u001b[0m\u001b[0m__accesa\u001b[0m\u001b[0;34m)\u001b[0m\u001b[0;34m\u001b[0m\u001b[0;34m\u001b[0m\u001b[0m\n\u001b[0m",
      "\u001b[0;31mAttributeError\u001b[0m: 'automobile' object has no attribute '__accesa'"
     ]
    }
   ],
   "source": [
    "toyota = automobile()\n",
    "print(toyota.stato())\n",
    "print(toyota._automobile__accesa) #accesso consapevole all'attributo privato\n",
    "print(toyota.__accesa)"
   ]
  },
  {
   "cell_type": "code",
   "execution_count": null,
   "metadata": {},
   "outputs": [],
   "source": []
  }
 ]
}