{
 "cells": [
  {
   "cell_type": "code",
   "execution_count": null,
   "id": "7eaa78dd-6e48-486b-835d-4406fd40f422",
   "metadata": {},
   "outputs": [
    {
     "ename": "",
     "evalue": "",
     "output_type": "error",
     "traceback": [
      "\u001b[1;31mFailed to start the Kernel. \n",
      "\u001b[1;31mAttributeError: partially initialized module 'sqlite3' has no attribute 'connect' (most likely due to a circular import). \n",
      "\u001b[1;31mView Jupyter <a href='command:jupyter.viewOutput'>log</a> for further details."
     ]
    }
   ],
   "source": [
    "a, b = 10, 100\n",
    "print(a, b)"
   ]
  },
  {
   "cell_type": "code",
   "execution_count": null,
   "id": "0fce0098-d2db-453b-b08e-d75d1322380f",
   "metadata": {},
   "outputs": [
    {
     "ename": "",
     "evalue": "",
     "output_type": "error",
     "traceback": [
      "\u001b[1;31mFailed to start the Kernel. \n",
      "\u001b[1;31mAttributeError: partially initialized module 'sqlite3' has no attribute 'connect' (most likely due to a circular import). \n",
      "\u001b[1;31mView Jupyter <a href='command:jupyter.viewOutput'>log</a> for further details."
     ]
    }
   ],
   "source": [
    "print(\"\\033[91mStringa con colore diverso\")"
   ]
  },
  {
   "cell_type": "code",
   "execution_count": null,
   "id": "08e5b333-36bb-41ac-a235-42fbb95fc441",
   "metadata": {},
   "outputs": [
    {
     "ename": "",
     "evalue": "",
     "output_type": "error",
     "traceback": [
      "\u001b[1;31mFailed to start the Kernel. \n",
      "\u001b[1;31mAttributeError: partially initialized module 'sqlite3' has no attribute 'connect' (most likely due to a circular import). \n",
      "\u001b[1;31mView Jupyter <a href='command:jupyter.viewOutput'>log</a> for further details."
     ]
    }
   ],
   "source": [
    "print(5**5)"
   ]
  },
  {
   "cell_type": "code",
   "execution_count": null,
   "id": "f84f7b7f-2783-410c-98d3-303b9946a780",
   "metadata": {},
   "outputs": [
    {
     "ename": "",
     "evalue": "",
     "output_type": "error",
     "traceback": [
      "\u001b[1;31mFailed to start the Kernel. \n",
      "\u001b[1;31mAttributeError: partially initialized module 'sqlite3' has no attribute 'connect' (most likely due to a circular import). \n",
      "\u001b[1;31mView Jupyter <a href='command:jupyter.viewOutput'>log</a> for further details."
     ]
    }
   ],
   "source": [
    "import webbrowser\n",
    "webbrowser.open('https://www.codebreakthrough.com' '/python-bootcamp')"
   ]
  },
  {
   "cell_type": "code",
   "execution_count": null,
   "id": "db94ebc6-a02c-46a9-a7ac-b298be4ad03a",
   "metadata": {},
   "outputs": [
    {
     "ename": "",
     "evalue": "",
     "output_type": "error",
     "traceback": [
      "\u001b[1;31mFailed to start the Kernel. \n",
      "\u001b[1;31mAttributeError: partially initialized module 'sqlite3' has no attribute 'connect' (most likely due to a circular import). \n",
      "\u001b[1;31mView Jupyter <a href='command:jupyter.viewOutput'>log</a> for further details."
     ]
    }
   ],
   "source": [
    "msg = \"stampiamo una riga\" \\\n",
    "\"che sembra molto lunga\" \\\n",
    "\"ma possiamo farlo in questo modo senza\" \\\n",
    "\"influire sul risultato finale\"\n",
    "\n",
    "print(msg)"
   ]
  },
  {
   "cell_type": "code",
   "execution_count": null,
   "id": "e1bee07a-fe3c-4499-aede-3791bdf325bd",
   "metadata": {},
   "outputs": [
    {
     "ename": "",
     "evalue": "",
     "output_type": "error",
     "traceback": [
      "\u001b[1;31mFailed to start the Kernel. \n",
      "\u001b[1;31mAttributeError: partially initialized module 'sqlite3' has no attribute 'connect' (most likely due to a circular import). \n",
      "\u001b[1;31mView Jupyter <a href='command:jupyter.viewOutput'>log</a> for further details."
     ]
    }
   ],
   "source": [
    "msg = '''stesso risultato\n",
    "utilizzando 3 quotes\n",
    "come delimitatori'''\n",
    "\n",
    "print(msg)"
   ]
  },
  {
   "cell_type": "code",
   "execution_count": null,
   "id": "34cc1ef1-b149-4434-b6f4-ee4cb1eab78f",
   "metadata": {},
   "outputs": [
    {
     "ename": "",
     "evalue": "",
     "output_type": "error",
     "traceback": [
      "\u001b[1;31mFailed to start the Kernel. \n",
      "\u001b[1;31mAttributeError: partially initialized module 'sqlite3' has no attribute 'connect' (most likely due to a circular import). \n",
      "\u001b[1;31mView Jupyter <a href='command:jupyter.viewOutput'>log</a> for further details."
     ]
    }
   ],
   "source": [
    "lista = [1, 2, 3, 4, 5]"
   ]
  },
  {
   "cell_type": "markdown",
   "id": "a4900aa6-2867-4772-8f2d-b5cd0cddee52",
   "metadata": {},
   "source": [
    "Con lo slicing NON modifichiamo la lista, la stampiamo al contrario!"
   ]
  },
  {
   "cell_type": "code",
   "execution_count": null,
   "id": "a2e60c0b-e3c4-4fce-9663-ab667c6f1a3c",
   "metadata": {},
   "outputs": [
    {
     "ename": "",
     "evalue": "",
     "output_type": "error",
     "traceback": [
      "\u001b[1;31mFailed to start the Kernel. \n",
      "\u001b[1;31mAttributeError: partially initialized module 'sqlite3' has no attribute 'connect' (most likely due to a circular import). \n",
      "\u001b[1;31mView Jupyter <a href='command:jupyter.viewOutput'>log</a> for further details."
     ]
    }
   ],
   "source": [
    "print(lista[::-1])"
   ]
  },
  {
   "cell_type": "markdown",
   "id": "ef41bd4b-5af3-4b38-8de9-ff983182210b",
   "metadata": {},
   "source": [
    "Attenzione, con il METODO reverse abbiamo stesso comportamento in output ma è stata modificata la lista!"
   ]
  },
  {
   "cell_type": "code",
   "execution_count": null,
   "id": "d328f57b-ada2-433d-a9c6-952844cf7c75",
   "metadata": {},
   "outputs": [
    {
     "ename": "",
     "evalue": "",
     "output_type": "error",
     "traceback": [
      "\u001b[1;31mFailed to start the Kernel. \n",
      "\u001b[1;31mAttributeError: partially initialized module 'sqlite3' has no attribute 'connect' (most likely due to a circular import). \n",
      "\u001b[1;31mView Jupyter <a href='command:jupyter.viewOutput'>log</a> for further details."
     ]
    }
   ],
   "source": [
    "elenco = [\"uno\", \"due\", \"tre\"]\n",
    "elenco.reverse()\n",
    "print(elenco)"
   ]
  },
  {
   "cell_type": "code",
   "execution_count": null,
   "id": "ab598009-d79c-4734-a7ac-347cf965492d",
   "metadata": {},
   "outputs": [
    {
     "ename": "",
     "evalue": "",
     "output_type": "error",
     "traceback": [
      "\u001b[1;31mFailed to start the Kernel. \n",
      "\u001b[1;31mAttributeError: partially initialized module 'sqlite3' has no attribute 'connect' (most likely due to a circular import). \n",
      "\u001b[1;31mView Jupyter <a href='command:jupyter.viewOutput'>log</a> for further details."
     ]
    }
   ],
   "source": [
    "print(elenco) "
   ]
  },
  {
   "cell_type": "code",
   "execution_count": null,
   "id": "05233b8b-1b69-453d-bc82-bece0ea75f0a",
   "metadata": {},
   "outputs": [
    {
     "ename": "",
     "evalue": "",
     "output_type": "error",
     "traceback": [
      "\u001b[1;31mFailed to start the Kernel. \n",
      "\u001b[1;31mAttributeError: partially initialized module 'sqlite3' has no attribute 'connect' (most likely due to a circular import). \n",
      "\u001b[1;31mView Jupyter <a href='command:jupyter.viewOutput'>log</a> for further details."
     ]
    }
   ],
   "source": [
    "if 'you' in 'youtube': print('youtube'.index('tube'))"
   ]
  },
  {
   "cell_type": "code",
   "execution_count": null,
   "id": "0972120a-572c-449f-a6ef-d0a6289417b6",
   "metadata": {},
   "outputs": [
    {
     "ename": "",
     "evalue": "",
     "output_type": "error",
     "traceback": [
      "\u001b[1;31mFailed to start the Kernel. \n",
      "\u001b[1;31mAttributeError: partially initialized module 'sqlite3' has no attribute 'connect' (most likely due to a circular import). \n",
      "\u001b[1;31mView Jupyter <a href='command:jupyter.viewOutput'>log</a> for further details."
     ]
    }
   ],
   "source": [
    "'youtube'.find('tube')"
   ]
  },
  {
   "cell_type": "markdown",
   "id": "6f457553-0c54-4367-8c4e-ef165ab9e301",
   "metadata": {},
   "source": [
    "Indirizzo di memoria dell'oggetto con il metodo ID"
   ]
  },
  {
   "cell_type": "code",
   "execution_count": null,
   "id": "bc71ae86-ce1f-4342-a969-7303d72fd42e",
   "metadata": {},
   "outputs": [
    {
     "ename": "",
     "evalue": "",
     "output_type": "error",
     "traceback": [
      "\u001b[1;31mFailed to start the Kernel. \n",
      "\u001b[1;31mAttributeError: partially initialized module 'sqlite3' has no attribute 'connect' (most likely due to a circular import). \n",
      "\u001b[1;31mView Jupyter <a href='command:jupyter.viewOutput'>log</a> for further details."
     ]
    }
   ],
   "source": [
    "cose1 = [\"uno\", \"due\"]\n",
    "print(id(cose))"
   ]
  },
  {
   "cell_type": "markdown",
   "id": "80213231-3f10-4b87-9c56-2fb81afa5ce3",
   "metadata": {},
   "source": [
    "Attenzione alla posizione in memoria in questo caso... (solo OGGETTI non VARIABILI)"
   ]
  },
  {
   "cell_type": "code",
   "execution_count": null,
   "id": "414c1fbd-8b9c-4aa2-9e77-162fbbfd65f7",
   "metadata": {},
   "outputs": [
    {
     "ename": "",
     "evalue": "",
     "output_type": "error",
     "traceback": [
      "\u001b[1;31mFailed to start the Kernel. \n",
      "\u001b[1;31mAttributeError: partially initialized module 'sqlite3' has no attribute 'connect' (most likely due to a circular import). \n",
      "\u001b[1;31mView Jupyter <a href='command:jupyter.viewOutput'>log</a> for further details."
     ]
    }
   ],
   "source": [
    "cose2 = cose1"
   ]
  },
  {
   "cell_type": "code",
   "execution_count": null,
   "id": "e43aa446-646a-43f5-869f-02874c4709fb",
   "metadata": {},
   "outputs": [
    {
     "ename": "",
     "evalue": "",
     "output_type": "error",
     "traceback": [
      "\u001b[1;31mFailed to start the Kernel. \n",
      "\u001b[1;31mAttributeError: partially initialized module 'sqlite3' has no attribute 'connect' (most likely due to a circular import). \n",
      "\u001b[1;31mView Jupyter <a href='command:jupyter.viewOutput'>log</a> for further details."
     ]
    }
   ],
   "source": [
    "print(id(cose1))\n",
    "print(id(cose2))"
   ]
  },
  {
   "cell_type": "code",
   "execution_count": null,
   "id": "7d16450e-e447-450d-ba84-8f3a457ef441",
   "metadata": {},
   "outputs": [
    {
     "ename": "",
     "evalue": "",
     "output_type": "error",
     "traceback": [
      "\u001b[1;31mFailed to start the Kernel. \n",
      "\u001b[1;31mAttributeError: partially initialized module 'sqlite3' has no attribute 'connect' (most likely due to a circular import). \n",
      "\u001b[1;31mView Jupyter <a href='command:jupyter.viewOutput'>log</a> for further details."
     ]
    }
   ],
   "source": [
    "numero1 = 10\n",
    "numero2 = numero1\n",
    "print(numero2)"
   ]
  },
  {
   "cell_type": "code",
   "execution_count": null,
   "id": "47e199cb-6945-45af-bff2-8bf903f40cf4",
   "metadata": {},
   "outputs": [
    {
     "ename": "",
     "evalue": "",
     "output_type": "error",
     "traceback": [
      "\u001b[1;31mFailed to start the Kernel. \n",
      "\u001b[1;31mAttributeError: partially initialized module 'sqlite3' has no attribute 'connect' (most likely due to a circular import). \n",
      "\u001b[1;31mView Jupyter <a href='command:jupyter.viewOutput'>log</a> for further details."
     ]
    }
   ],
   "source": [
    "numero2 = 100"
   ]
  },
  {
   "cell_type": "code",
   "execution_count": null,
   "id": "9ea26798-ef6f-4e9d-b2b7-7cd065316dd5",
   "metadata": {},
   "outputs": [
    {
     "ename": "",
     "evalue": "",
     "output_type": "error",
     "traceback": [
      "\u001b[1;31mFailed to start the Kernel. \n",
      "\u001b[1;31mAttributeError: partially initialized module 'sqlite3' has no attribute 'connect' (most likely due to a circular import). \n",
      "\u001b[1;31mView Jupyter <a href='command:jupyter.viewOutput'>log</a> for further details."
     ]
    }
   ],
   "source": [
    "numero1"
   ]
  },
  {
   "cell_type": "markdown",
   "id": "3ec6f3d0-5780-42ff-8c71-ba031fbba410",
   "metadata": {},
   "source": [
    "Essendo una variabile e NON un oggetto numero1 è rimasto uguale!"
   ]
  },
  {
   "cell_type": "markdown",
   "id": "9277858d-b874-49be-8dc2-8103bdb6dd0a",
   "metadata": {},
   "source": [
    "Nel caso seguente la lista è stata invertita ma id oggetto è uguale!"
   ]
  },
  {
   "cell_type": "code",
   "execution_count": null,
   "id": "d55bdd8f-bdab-4244-a16c-4512d498a86d",
   "metadata": {},
   "outputs": [
    {
     "ename": "",
     "evalue": "",
     "output_type": "error",
     "traceback": [
      "\u001b[1;31mFailed to start the Kernel. \n",
      "\u001b[1;31mAttributeError: partially initialized module 'sqlite3' has no attribute 'connect' (most likely due to a circular import). \n",
      "\u001b[1;31mView Jupyter <a href='command:jupyter.viewOutput'>log</a> for further details."
     ]
    }
   ],
   "source": [
    "data = [1, 2, 3]\n",
    "print(id(data))"
   ]
  },
  {
   "cell_type": "code",
   "execution_count": null,
   "id": "14f7372b-e7d9-48ae-b9f5-c1b47ece3eeb",
   "metadata": {},
   "outputs": [
    {
     "ename": "",
     "evalue": "",
     "output_type": "error",
     "traceback": [
      "\u001b[1;31mFailed to start the Kernel. \n",
      "\u001b[1;31mAttributeError: partially initialized module 'sqlite3' has no attribute 'connect' (most likely due to a circular import). \n",
      "\u001b[1;31mView Jupyter <a href='command:jupyter.viewOutput'>log</a> for further details."
     ]
    }
   ],
   "source": [
    "data.reverse()\n",
    "print(id(data))\n",
    "print(data)"
   ]
  },
  {
   "cell_type": "code",
   "execution_count": null,
   "id": "70ecf2cd-ef89-4199-a32e-6393d0fab7f1",
   "metadata": {},
   "outputs": [
    {
     "ename": "",
     "evalue": "",
     "output_type": "error",
     "traceback": [
      "\u001b[1;31mFailed to start the Kernel. \n",
      "\u001b[1;31mAttributeError: partially initialized module 'sqlite3' has no attribute 'connect' (most likely due to a circular import). \n",
      "\u001b[1;31mView Jupyter <a href='command:jupyter.viewOutput'>log</a> for further details."
     ]
    }
   ],
   "source": [
    "data = [\"uno\", \"due\", \"tre\"]"
   ]
  },
  {
   "cell_type": "code",
   "execution_count": null,
   "id": "ea894fe3-05a6-4aa6-96a8-9f4261e8aed9",
   "metadata": {},
   "outputs": [
    {
     "ename": "",
     "evalue": "",
     "output_type": "error",
     "traceback": [
      "\u001b[1;31mFailed to start the Kernel. \n",
      "\u001b[1;31mAttributeError: partially initialized module 'sqlite3' has no attribute 'connect' (most likely due to a circular import). \n",
      "\u001b[1;31mView Jupyter <a href='command:jupyter.viewOutput'>log</a> for further details."
     ]
    }
   ],
   "source": [
    "def change_list(data):\n",
    "    data = [\"hello world\"]\n",
    " "
   ]
  },
  {
   "cell_type": "code",
   "execution_count": null,
   "id": "945a1b9f-4013-4920-81f1-6bdf9975acb6",
   "metadata": {},
   "outputs": [
    {
     "ename": "",
     "evalue": "",
     "output_type": "error",
     "traceback": [
      "\u001b[1;31mFailed to start the Kernel. \n",
      "\u001b[1;31mAttributeError: partially initialized module 'sqlite3' has no attribute 'connect' (most likely due to a circular import). \n",
      "\u001b[1;31mView Jupyter <a href='command:jupyter.viewOutput'>log</a> for further details."
     ]
    }
   ],
   "source": [
    "change_list(data)"
   ]
  },
  {
   "cell_type": "code",
   "execution_count": null,
   "id": "27497ccf-2307-4116-93b6-564e562420d6",
   "metadata": {},
   "outputs": [
    {
     "ename": "",
     "evalue": "",
     "output_type": "error",
     "traceback": [
      "\u001b[1;31mFailed to start the Kernel. \n",
      "\u001b[1;31mAttributeError: partially initialized module 'sqlite3' has no attribute 'connect' (most likely due to a circular import). \n",
      "\u001b[1;31mView Jupyter <a href='command:jupyter.viewOutput'>log</a> for further details."
     ]
    }
   ],
   "source": [
    "print(data)"
   ]
  },
  {
   "cell_type": "code",
   "execution_count": null,
   "id": "3d23b684-bbe9-4a7c-b164-ee5d5be881ed",
   "metadata": {},
   "outputs": [
    {
     "ename": "",
     "evalue": "",
     "output_type": "error",
     "traceback": [
      "\u001b[1;31mFailed to start the Kernel. \n",
      "\u001b[1;31mAttributeError: partially initialized module 'sqlite3' has no attribute 'connect' (most likely due to a circular import). \n",
      "\u001b[1;31mView Jupyter <a href='command:jupyter.viewOutput'>log</a> for further details."
     ]
    }
   ],
   "source": [
    "def change_list_data(data):\n",
    "    data[:] = [\"nuovo elemento\"]\n",
    "    "
   ]
  },
  {
   "cell_type": "code",
   "execution_count": null,
   "id": "aadb3d70-cc29-4396-b1c1-2e3526c816f0",
   "metadata": {},
   "outputs": [
    {
     "ename": "",
     "evalue": "",
     "output_type": "error",
     "traceback": [
      "\u001b[1;31mFailed to start the Kernel. \n",
      "\u001b[1;31mAttributeError: partially initialized module 'sqlite3' has no attribute 'connect' (most likely due to a circular import). \n",
      "\u001b[1;31mView Jupyter <a href='command:jupyter.viewOutput'>log</a> for further details."
     ]
    }
   ],
   "source": [
    "change_list_data(data)"
   ]
  },
  {
   "cell_type": "code",
   "execution_count": null,
   "id": "caebd90c-2461-4506-8340-8d78ac97ebcd",
   "metadata": {},
   "outputs": [
    {
     "ename": "",
     "evalue": "",
     "output_type": "error",
     "traceback": [
      "\u001b[1;31mFailed to start the Kernel. \n",
      "\u001b[1;31mAttributeError: partially initialized module 'sqlite3' has no attribute 'connect' (most likely due to a circular import). \n",
      "\u001b[1;31mView Jupyter <a href='command:jupyter.viewOutput'>log</a> for further details."
     ]
    }
   ],
   "source": [
    "print(data)"
   ]
  },
  {
   "cell_type": "markdown",
   "id": "294eaefd-d8a0-40b3-aa12-6f14ffffed15",
   "metadata": {},
   "source": [
    "Nel primo caso NON abbiamo modificato la lista esterna alla funzione (data), avremmo ottenuto la modifica solo se print all'interno della funzione. \n",
    "Nel secondo caso, usando lo slicing, abbiamo modificato il contenuto della lista data!"
   ]
  },
  {
   "cell_type": "code",
   "execution_count": null,
   "id": "9c4eb553-3daf-4e8e-b214-dcf8ea6f9802",
   "metadata": {},
   "outputs": [
    {
     "ename": "",
     "evalue": "",
     "output_type": "error",
     "traceback": [
      "\u001b[1;31mFailed to start the Kernel. \n",
      "\u001b[1;31mAttributeError: partially initialized module 'sqlite3' has no attribute 'connect' (most likely due to a circular import). \n",
      "\u001b[1;31mView Jupyter <a href='command:jupyter.viewOutput'>log</a> for further details."
     ]
    }
   ],
   "source": [
    "elemento1 = [\"primo\", \"secondo\", \"terzo\"]"
   ]
  },
  {
   "cell_type": "markdown",
   "id": "77d0c595-c41d-4d7d-846e-f28a8eb42fe4",
   "metadata": {},
   "source": [
    "Con lo slicing otteniamo un nuovo oggetto, con ID diverso da origine. Stessa cosa con il metodo copy: elemento2.copy()"
   ]
  },
  {
   "cell_type": "code",
   "execution_count": null,
   "id": "5f8fc029-a5f3-4641-8454-1c1d30fbb8f6",
   "metadata": {},
   "outputs": [
    {
     "ename": "",
     "evalue": "",
     "output_type": "error",
     "traceback": [
      "\u001b[1;31mFailed to start the Kernel. \n",
      "\u001b[1;31mAttributeError: partially initialized module 'sqlite3' has no attribute 'connect' (most likely due to a circular import). \n",
      "\u001b[1;31mView Jupyter <a href='command:jupyter.viewOutput'>log</a> for further details."
     ]
    }
   ],
   "source": [
    "elemento2 = elemento1[:]"
   ]
  },
  {
   "cell_type": "code",
   "execution_count": null,
   "id": "b9719f77-4284-4cfc-8379-350da5b8897c",
   "metadata": {},
   "outputs": [
    {
     "ename": "",
     "evalue": "",
     "output_type": "error",
     "traceback": [
      "\u001b[1;31mFailed to start the Kernel. \n",
      "\u001b[1;31mAttributeError: partially initialized module 'sqlite3' has no attribute 'connect' (most likely due to a circular import). \n",
      "\u001b[1;31mView Jupyter <a href='command:jupyter.viewOutput'>log</a> for further details."
     ]
    }
   ],
   "source": [
    "print(id(elemento1), id(elemento2))"
   ]
  },
  {
   "cell_type": "code",
   "execution_count": null,
   "id": "02c81556-ef4f-4fa2-b615-d3aaa479c555",
   "metadata": {},
   "outputs": [
    {
     "ename": "",
     "evalue": "",
     "output_type": "error",
     "traceback": [
      "\u001b[1;31mFailed to start the Kernel. \n",
      "\u001b[1;31mAttributeError: partially initialized module 'sqlite3' has no attribute 'connect' (most likely due to a circular import). \n",
      "\u001b[1;31mView Jupyter <a href='command:jupyter.viewOutput'>log</a> for further details."
     ]
    }
   ],
   "source": []
  }
 ],
 "metadata": {
  "kernelspec": {
   "display_name": "Python 3 (ipykernel)",
   "language": "python",
   "name": "python3"
  },
  "language_info": {
   "codemirror_mode": {
    "name": "ipython",
    "version": 3
   },
   "file_extension": ".py",
   "mimetype": "text/x-python",
   "name": "python",
   "nbconvert_exporter": "python",
   "pygments_lexer": "ipython3",
   "version": "3.10.12"
  }
 },
 "nbformat": 4,
 "nbformat_minor": 5
}
