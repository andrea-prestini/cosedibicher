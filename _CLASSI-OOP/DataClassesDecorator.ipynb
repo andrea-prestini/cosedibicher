{
 "cells": [
  {
   "cell_type": "markdown",
   "metadata": {},
   "source": [
    "# Modulo Dataclasses per generare automaticamente le classi in python"
   ]
  },
  {
   "cell_type": "markdown",
   "metadata": {},
   "source": [
    "## BASI"
   ]
  },
  {
   "cell_type": "markdown",
   "metadata": {},
   "source": [
    "```python\n",
    "from dataclasses import dataclass\n",
    "\n",
    "@dataclass\n",
    "class Persona:\n",
    "    nome:str \n",
    "    cognome: str \n",
    "    paese: str \n",
    "\n",
    "\n",
    "uno = Persona(\"andrea\", \"prestini\", \"Esine\")\n",
    "```"
   ]
  },
  {
   "cell_type": "markdown",
   "metadata": {},
   "source": [
    "## Valore Default"
   ]
  },
  {
   "cell_type": "markdown",
   "metadata": {},
   "source": [
    "```python\n",
    "from dataclasses import dataclass\n",
    "\n",
    "@dataclass\n",
    "class Persona:\n",
    "    nome:str \n",
    "    cognome: str \n",
    "    paese: str = \"Esine\" \n",
    "\n",
    "\n",
    "uno = Persona(\"andrea\", \"prestini\", \"Esine\")\n",
    "```\n"
   ]
  },
  {
   "cell_type": "markdown",
   "metadata": {},
   "source": [
    "## Frozen option"
   ]
  },
  {
   "cell_type": "markdown",
   "metadata": {},
   "source": [
    "```python\n",
    "from dataclasses import dataclass\n",
    "\n",
    "@dataclass(frozen=True)\n",
    "class Persona:\n",
    "    nome:str \n",
    "    cognome: str \n",
    "    paese: str \n",
    "\n",
    "\n",
    "uno = Persona(\"andrea\", \"prestini\", \"Esine\")\n",
    "uno.occupazione = \"altro\" # Restituisce errore perchè frozen blocca la creazione di nuovi attributi\n",
    "```"
   ]
  },
  {
   "cell_type": "markdown",
   "metadata": {},
   "source": [
    "## ASDICT\n",
    "\n",
    "The asdict function converts a dataclass instance to a dict of its fields."
   ]
  },
  {
   "cell_type": "markdown",
   "metadata": {},
   "source": [
    "```python\n",
    "rom dataclasses import dataclass, asdict\n",
    "\n",
    "@dataclass\n",
    "class Person:\n",
    "    name: str\n",
    "    occupation: str\n",
    "    age: int\n",
    "\n",
    "p = Person('John Doe', 'gardener', 34)\n",
    "print(p)\n",
    "\n",
    "print(asdict(p))\n",
    "```"
   ]
  },
  {
   "cell_type": "markdown",
   "metadata": {},
   "source": [
    "## FIELD"
   ]
  },
  {
   "cell_type": "markdown",
   "metadata": {},
   "source": [
    "```python\n",
    "from dataclasses import dataclass, field # bisogna importare anche il modulo field\n",
    "\n",
    "@dataclass\n",
    "class Person:\n",
    "    name: str\n",
    "    age: int\n",
    "    occupation: str = field(init=False, repr=False)\n",
    "\n",
    "p = Person('John Doe', 34)\n",
    "print(p)\n",
    "\n",
    "p.occupation = \"Gardener\"\n",
    "print(f'{p.name} is a {p.occupation}')\n",
    "```"
   ]
  },
  {
   "cell_type": "markdown",
   "metadata": {},
   "source": [
    "```python\n",
    "from dataclasses import dataclass, field\n",
    "\n",
    "\n",
    "@dataclass\n",
    "class Test:\n",
    "    name: str\n",
    "    _name: str = field(init=False, repr=False, default='baz')\n",
    "\n",
    "    @property\n",
    "    def name(self) -> str:\n",
    "        return self._name\n",
    "\n",
    "    @name.setter\n",
    "    def name(self, value: str) -> None:\n",
    "        if type(value) is property:\n",
    "            # initial value not specified, use default\n",
    "            value = Test._name\n",
    "        self._name = value\n",
    "\n",
    "\n",
    "def main():\n",
    "    obj = Test(name='foo')\n",
    "    print(obj)                  # displays: Test(name='foo')\n",
    "\n",
    "    obj = Test()\n",
    "    obj.name = 'bar'\n",
    "    print(obj)                  # displays: Test(name='bar')\n",
    "\n",
    "    obj = Test()\n",
    "    print(obj)                  # displays: Test(name='baz')\n",
    "\n",
    "```"
   ]
  },
  {
   "cell_type": "markdown",
   "metadata": {},
   "source": [
    "### Esempio da video\n",
    "\n",
    "[Dataclasses](https://www.youtube.com/watch?v=CvQ7e6yUtnw)"
   ]
  },
  {
   "cell_type": "code",
   "execution_count": 6,
   "metadata": {},
   "outputs": [],
   "source": [
    "from dataclasses import dataclass, field\n",
    "import random\n",
    "import string"
   ]
  },
  {
   "cell_type": "code",
   "execution_count": 7,
   "metadata": {},
   "outputs": [],
   "source": [
    "def matricola() -> str:\n",
    "    return \"\".join(random.choices(string.ascii_uppercase, k=12))"
   ]
  },
  {
   "cell_type": "code",
   "execution_count": 55,
   "metadata": {},
   "outputs": [],
   "source": [
    "@dataclass\n",
    "class Persona:\n",
    "    nome: str \n",
    "    cognome: str \n",
    "    emails: list[str]=field(default_factory=list)\n",
    "    matricola: str=field(default_factory=matricola, init=False) \n",
    "    # repr evita che sia stampato in output repr=False\n",
    "    # init=False evita che l'istanza della classe modifichi il valore matricola"
   ]
  },
  {
   "cell_type": "code",
   "execution_count": 53,
   "metadata": {},
   "outputs": [],
   "source": [
    "uno = Persona(\"andrea\", \"prestini\", \"andrea@pippo.it\")"
   ]
  },
  {
   "cell_type": "code",
   "execution_count": 56,
   "metadata": {},
   "outputs": [
    {
     "name": "stdout",
     "output_type": "stream",
     "text": [
      "Persona(nome='andrea', cognome='prestini', emails='andrea@pippo.it', matricola='EQUXWUPUBHWL')\n"
     ]
    }
   ],
   "source": [
    "print(uno)"
   ]
  },
  {
   "cell_type": "markdown",
   "metadata": {},
   "source": [
    "```python\n",
    "@dataclass(kw_only=True) # da python 3.10 forza inserimento con chiave uno=Persona(nome=\"andrea\", cognome=\"prestini\")\n",
    "class Operaio:\n",
    "    nome: str \n",
    "    cognome: str\n",
    "```"
   ]
  },
  {
   "cell_type": "code",
   "execution_count": null,
   "metadata": {},
   "outputs": [],
   "source": []
  }
 ],
 "metadata": {
  "interpreter": {
   "hash": "7473d73b0517ab6f64aa731f2cb80c0acf19c95420055020da77d830c23b4531"
  },
  "kernelspec": {
   "display_name": "Python 3.9.12 ('base')",
   "language": "python",
   "name": "python3"
  },
  "language_info": {
   "codemirror_mode": {
    "name": "ipython",
    "version": 3
   },
   "file_extension": ".py",
   "mimetype": "text/x-python",
   "name": "python",
   "nbconvert_exporter": "python",
   "pygments_lexer": "ipython3",
   "version": "3.9.12"
  },
  "orig_nbformat": 4
 },
 "nbformat": 4,
 "nbformat_minor": 2
}
