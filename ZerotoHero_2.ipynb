{
 "cells": [
  {
   "cell_type": "markdown",
   "metadata": {},
   "source": [
    "## Virtual Enviroment"
   ]
  },
  {
   "cell_type": "code",
   "execution_count": null,
   "metadata": {},
   "outputs": [],
   "source": []
  },
  {
   "cell_type": "code",
   "execution_count": null,
   "metadata": {},
   "outputs": [],
   "source": []
  },
  {
   "cell_type": "markdown",
   "metadata": {},
   "source": [
    "# installare Anaconda\n",
    "- conda env list  per visualizzare elenco enviroment presenti sulla macchina\n",
    "- conda create --name Corso python=2.7\n",
    "- source activate Corso / source deactivate (dall'ìnterno dell'enviroment)\n",
    "    conda prevede conda activate e source deactivate\n"
   ]
  },
  {
   "cell_type": "markdown",
   "metadata": {},
   "source": [
    "Conda è un secondo repository rispetto a $\\color{red}{pip}$ ergo alcuni pacchetti possono avere un ritardo oppure non essere presenti nel database. In questo caso, dopo aver attivato la $\\color{green}{virtualenv~corretta}$ e poi usare **pip**."
   ]
  },
  {
   "cell_type": "markdown",
   "metadata": {},
   "source": [
    "~~~\n",
    "import  utility.contaparole as conta\n",
    "import utility.calcolatrice as calcolatrice\n",
    "\n",
    "...\n",
    "~~~\n",
    "Nella directory ci sarà un file **contaparole.py** e **calcolatrice.py**.\n",
    "L'utilizzo di $\\color{red}{as}$ risulta utile quando hanno lo stesso nome.\n"
   ]
  },
  {
   "cell_type": "markdown",
   "metadata": {},
   "source": [
    "# Package\n"
   ]
  },
  {
   "cell_type": "markdown",
   "metadata": {},
   "source": [
    "Se voglio avere una cartella in cui mettere tutte le mie utility basta che al suo interno aggiunga un file chiamato **\\__init__.py** anche se vuoto; questo mi permette, come nell'esempio precedente dove ho una cartella utility che contiene i miei moduli, di richiamarli nella forma **utility.contaparole**."
   ]
  },
  {
   "cell_type": "markdown",
   "metadata": {},
   "source": [
    "Se non voglio rendere visibili tutti i sorgenti presenti nella cartella scriverò, nel file init che abbiamo visto prima la stringa (dunder all ...)\n"
   ]
  },
  {
   "cell_type": "markdown",
   "metadata": {},
   "source": [
    "**Solo** i sorgenti elencati potranno essere importati e visti!"
   ]
  },
  {
   "cell_type": "markdown",
   "metadata": {},
   "source": [
    "~~~\n",
    "__all__ = [calcolatrice,]"
   ]
  },
  {
   "cell_type": "markdown",
   "metadata": {},
   "source": [
    "Quando $\\color{red}{importiamo}$ un modulo python esegue tutto il codice contenuto; ergo se nel modulo sono presenti dei print vengono \"eseguiti\" nella fase di importazione!"
   ]
  },
  {
   "cell_type": "markdown",
   "metadata": {},
   "source": [
    "~~~ \n",
    "print(\"nome modulo: %s\" %(__name__))"
   ]
  },
  {
   "cell_type": "markdown",
   "metadata": {},
   "source": [
    "~~~\n",
    "if __name__ = \"__main__\":\n",
    "    calcola()"
   ]
  },
  {
   "cell_type": "markdown",
   "metadata": {},
   "source": [
    "Se lancio direttamente il modulo partirà automaticamente la calcolatrice, diversamente entrerò nel loop di scelta while!"
   ]
  },
  {
   "cell_type": "markdown",
   "metadata": {},
   "source": [
    "~~~\n",
    "def calcola():\n",
    "    #chiedo il primo numero\n",
    "    primo = int(input(\"immetti un numero: \")\n",
    "\n",
    "    #chiedo il secondo numero\n",
    "    secondo = int(input(\"immetti un altro numero: \")\n",
    "\n",
    "    operazione == 0\n",
    "    \n",
    "    while(operazione == 0):\n",
    "        operazione = input(\"che operazione desideri eseguire\\n(1. somma...)\n",
    "\n",
    "        if(operazione == 1):\n",
    "            risultato = primo + secondo\n",
    "        elif(operazione == 2):\n",
    "            risultato = primo - secondo...\n",
    "        else:\n",
    "            operazione = 0\n",
    "            #messaggio di errore\n",
    "            print(\"\\nSelezionare un'operazione valida\\n\")\n",
    "    print(\"Il risultato è: %d\" % (risultato))"
   ]
  },
  {
   "cell_type": "code",
   "execution_count": null,
   "metadata": {},
   "outputs": [],
   "source": []
  },
  {
   "cell_type": "markdown",
   "metadata": {},
   "source": [
    "~~~\n",
    "def conta():\n",
    "    frase = input(\"inserire una frase: \")\n",
    "\n",
    "    parole = frase.split(\" \")\n",
    "    conteggio = len(parole)\n",
    "\n",
    "    print(\"nella frase %s ci sono %d parole.\" % (frase, conteggio))\n",
    "\n",
    "    numero = 1\n",
    "\n",
    "    for parola in parole:\n",
    "        print(\"%d %s \" % (numero, parola))\n",
    "        numero += 1"
   ]
  },
  {
   "cell_type": "code",
   "execution_count": 6,
   "metadata": {},
   "outputs": [
    {
     "name": "stdout",
     "output_type": "stream",
     "text": [
      "{'luca': 7, 'andrea': 9, 'silvia': 7}\n"
     ]
    }
   ],
   "source": [
    "voti = {\"luca\": 7, \"andrea\": 9, \"silvia\": 7, \"luigi\": 5}\n",
    "promossi = {chiave:valore for chiave,valore in voti.items() if valore >= 6}\n",
    "print(promossi)"
   ]
  },
  {
   "cell_type": "code",
   "execution_count": 5,
   "metadata": {},
   "outputs": [
    {
     "name": "stdout",
     "output_type": "stream",
     "text": [
      "[45, 55]\n"
     ]
    }
   ],
   "source": [
    "elenco = [7, 4, 12, 45, 55]\n",
    "validi = [x for x in elenco if x > 30]\n",
    "print(validi)"
   ]
  },
  {
   "cell_type": "code",
   "execution_count": 20,
   "metadata": {},
   "outputs": [
    {
     "name": "stdout",
     "output_type": "stream",
     "text": [
      "10 7\n",
      "11 4\n",
      "12 12\n",
      "13 45\n",
      "14 55\n"
     ]
    }
   ],
   "source": [
    "for numero, valore in enumerate(elenco, start=10):\n",
    "    print(numero, valore)"
   ]
  },
  {
   "cell_type": "code",
   "execution_count": 29,
   "metadata": {},
   "outputs": [],
   "source": [
    "persone = [\"mario\", \"andrea\", \"franco\", \"mario\", \"andrea\", \"andrea\"]\n",
    "casa = set(x for x in persone)\n"
   ]
  },
  {
   "cell_type": "code",
   "execution_count": 30,
   "metadata": {},
   "outputs": [
    {
     "name": "stdout",
     "output_type": "stream",
     "text": [
      "{'franco', 'mario', 'andrea'}\n"
     ]
    }
   ],
   "source": [
    "print(casa)"
   ]
  },
  {
   "cell_type": "markdown",
   "metadata": {},
   "source": [
    "## files"
   ]
  },
  {
   "cell_type": "code",
   "execution_count": 5,
   "metadata": {},
   "outputs": [
    {
     "name": "stdout",
     "output_type": "stream",
     "text": [
      "Overwriting persone.txt\n"
     ]
    }
   ],
   "source": [
    "%%writefile persone.txt\n",
    "andrea\n",
    "mario\n",
    "anna\n",
    "franco\n",
    "mario\n",
    "andrea\n",
    "giovanni"
   ]
  },
  {
   "cell_type": "code",
   "execution_count": 6,
   "metadata": {},
   "outputs": [
    {
     "name": "stdout",
     "output_type": "stream",
     "text": [
      "andrea\r\n",
      "mario\r\n",
      "anna\r\n",
      "franco\r\n",
      "mario\r\n",
      "andrea\r\n",
      "giovanni\r\n"
     ]
    }
   ],
   "source": [
    "cat persone.txt"
   ]
  },
  {
   "cell_type": "code",
   "execution_count": 20,
   "metadata": {},
   "outputs": [
    {
     "name": "stdout",
     "output_type": "stream",
     "text": [
      "['giovanni', 'franco', 'mario', 'anna', 'andrea']\n"
     ]
    }
   ],
   "source": [
    "univoci = set()\n",
    "\n",
    "with open(\"persone.txt\") as file_testo:\n",
    "    for numero_riga, riga in enumerate(file_testo, 1):\n",
    "        if riga in univoci:\n",
    "            print(\"trovato duplicato alla riga\", numero_riga)\n",
    "        else:\n",
    "            univoci.add(riga.strip())\n",
    "\n",
    "print([x for x in univoci])"
   ]
  },
  {
   "cell_type": "markdown",
   "metadata": {},
   "source": [
    "## Parametri opzionali e valori di default\n",
    "Vanno messi $\\color{red}{dopo}$ i parametri obbligatori"
   ]
  },
  {
   "cell_type": "code",
   "execution_count": 26,
   "metadata": {},
   "outputs": [],
   "source": [
    "\n",
    "def sommatoria(primo, secondo=0, terzo=0):\n",
    "    return primo + secondo + terzo"
   ]
  },
  {
   "cell_type": "code",
   "execution_count": 27,
   "metadata": {},
   "outputs": [
    {
     "name": "stdout",
     "output_type": "stream",
     "text": [
      "8\n"
     ]
    }
   ],
   "source": [
    "print(sommatoria(3, terzo=5)) # salto il secondo parametro, devo dargli un default per evitare ERROR!"
   ]
  },
  {
   "cell_type": "code",
   "execution_count": 31,
   "metadata": {},
   "outputs": [],
   "source": [
    "def sommatoriaINF(*values):\n",
    "    somma = 0\n",
    "    for n in values:\n",
    "        somma += n\n",
    "    return somma"
   ]
  },
  {
   "cell_type": "code",
   "execution_count": 33,
   "metadata": {},
   "outputs": [
    {
     "name": "stdout",
     "output_type": "stream",
     "text": [
      "22\n",
      "3\n"
     ]
    }
   ],
   "source": [
    "print(sommatoriaINF(2,3,5,12))\n",
    "print(sommatoriaINF(1,2))"
   ]
  },
  {
   "cell_type": "code",
   "execution_count": 34,
   "metadata": {},
   "outputs": [],
   "source": [
    "def sommatoria2(*values):\n",
    "    return sum(values)"
   ]
  },
  {
   "cell_type": "code",
   "execution_count": 35,
   "metadata": {},
   "outputs": [
    {
     "name": "stdout",
     "output_type": "stream",
     "text": [
      "16\n"
     ]
    }
   ],
   "source": [
    "print(sommatoria2(1, 3, 5, 7))"
   ]
  },
  {
   "cell_type": "code",
   "execution_count": 41,
   "metadata": {},
   "outputs": [],
   "source": [
    "def popola(**valori): # asterisco singolo DEVE precedere asterisco DOPPIO\n",
    "    for k, v in valori.items():\n",
    "        print(k, \"=\", v)\n",
    "    print(valori)\n"
   ]
  },
  {
   "cell_type": "code",
   "execution_count": 42,
   "metadata": {},
   "outputs": [
    {
     "name": "stdout",
     "output_type": "stream",
     "text": [
      "primo = 1\n",
      "secondo = 2\n",
      "terzo = 5\n",
      "{'primo': 1, 'secondo': 2, 'terzo': 5}\n"
     ]
    }
   ],
   "source": [
    "popola(primo=1, secondo=2, terzo=5)"
   ]
  },
  {
   "cell_type": "markdown",
   "metadata": {},
   "source": [
    "# DECORATORI\n",
    "Sono una stringa che modifica il comportamento di classi, metodi, etc."
   ]
  },
  {
   "cell_type": "code",
   "execution_count": 43,
   "metadata": {},
   "outputs": [],
   "source": [
    "def funzione(a,b):\n",
    "    return a * b"
   ]
  },
  {
   "cell_type": "code",
   "execution_count": 45,
   "metadata": {},
   "outputs": [
    {
     "name": "stdout",
     "output_type": "stream",
     "text": [
      "15\n"
     ]
    }
   ],
   "source": [
    "# se metto le parentesi chiamo la funzione, diversamente la uso come OGGETTO!\n",
    "pippo = funzione\n",
    "pluto = funzione\n",
    "print(pippo(3,5))"
   ]
  },
  {
   "cell_type": "markdown",
   "metadata": {},
   "source": [
    "I decoratori usano un oggetto come parametro di un altro oggetto!"
   ]
  },
  {
   "cell_type": "markdown",
   "metadata": {},
   "source": [
    "## Esempio di $\\color{green}{CALLBACK}$"
   ]
  },
  {
   "cell_type": "code",
   "execution_count": 46,
   "metadata": {},
   "outputs": [],
   "source": [
    "def chiamatore(a, b, operazione):\n",
    "    return operazione(a, b)\n",
    "\n",
    "def somma(a, b):\n",
    "    return a + b\n",
    "\n",
    "def moltiplicazione(a, b):\n",
    "    return a * b\n",
    "\n"
   ]
  },
  {
   "cell_type": "code",
   "execution_count": 48,
   "metadata": {},
   "outputs": [
    {
     "name": "stdout",
     "output_type": "stream",
     "text": [
      "8\n"
     ]
    }
   ],
   "source": [
    "print(chiamatore(5, 3, somma))\n"
   ]
  },
  {
   "cell_type": "code",
   "execution_count": 53,
   "metadata": {},
   "outputs": [],
   "source": [
    "def scrittore(function):\n",
    "    print(\"prima\")\n",
    "    function()\n",
    "    print(\"dopo\")\n",
    "\n",
    "\n",
    "def chiamata():\n",
    "    print(\"durante\")"
   ]
  },
  {
   "cell_type": "code",
   "execution_count": 1,
   "metadata": {},
   "outputs": [],
   "source": [
    "def scrittore(function):\n",
    "    def function_wrapper():\n",
    "        print(\"prima\")\n",
    "        function()\n",
    "        print(\"dopo\")\n",
    "    return function_wrapper\n",
    "\n",
    "@scrittore # prima esegue scrittore passandogli come parametro chiamata\n",
    "def chiamata():\n",
    "    print(\"durante\")"
   ]
  },
  {
   "cell_type": "code",
   "execution_count": 2,
   "metadata": {},
   "outputs": [
    {
     "name": "stdout",
     "output_type": "stream",
     "text": [
      "prima\n",
      "durante\n",
      "dopo\n"
     ]
    }
   ],
   "source": [
    "chiamata()"
   ]
  }
 ],
 "metadata": {
  "file_extension": ".py",
  "kernelspec": {
   "display_name": "Python 3",
   "language": "python",
   "name": "python3"
  },
  "language_info": {
   "codemirror_mode": {
    "name": "ipython",
    "version": 3
   },
   "file_extension": ".py",
   "mimetype": "text/x-python",
   "name": "python",
   "nbconvert_exporter": "python",
   "pygments_lexer": "ipython3",
   "version": "3.7.4"
  },
  "mimetype": "text/x-python",
  "name": "python",
  "npconvert_exporter": "python",
  "pygments_lexer": "ipython3",
  "version": 3
 },
 "nbformat": 4,
 "nbformat_minor": 2
}
