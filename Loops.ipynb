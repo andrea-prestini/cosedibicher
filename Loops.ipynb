{
 "cells": [
  {
   "cell_type": "markdown",
   "metadata": {},
   "source": [
    "# Ciclo For "
   ]
  },
  {
   "cell_type": "code",
   "execution_count": 1,
   "metadata": {},
   "outputs": [],
   "source": [
    "x = [2,3,4,5]\n",
    "prod = 1"
   ]
  },
  {
   "cell_type": "code",
   "execution_count": 2,
   "metadata": {},
   "outputs": [
    {
     "name": "stdout",
     "output_type": "stream",
     "text": [
      "Moltiplicando 2 per 1 otteniamo 2\n",
      "Moltiplicando 3 per 2 otteniamo 6\n",
      "Moltiplicando 4 per 6 otteniamo 24\n",
      "Moltiplicando 5 per 24 otteniamo 120\n"
     ]
    }
   ],
   "source": [
    "for val in x:\n",
    "    x = prod\n",
    "    prod = prod * val\n",
    "    print (\"Moltiplicando \"+str(val)+ \" per \" +str(x) +\" otteniamo \" \n",
    "           +str(prod)) "
   ]
  },
  {
   "cell_type": "markdown",
   "metadata": {},
   "source": [
    "Risultato:<br>\n",
    "Moltiplicando 2 per 1 otteniamo 2<br>\n",
    "Moltiplicando 3 per 2 otteniamo 6<br>\n",
    "Moltiplicando 4 per 6 otteniamo 24<br>\n",
    "Moltiplicando 5 per 24 otteniamo 120"
   ]
  },
  {
   "cell_type": "markdown",
   "metadata": {},
   "source": [
    " funzione Range"
   ]
  },
  {
   "cell_type": "code",
   "execution_count": 3,
   "metadata": {},
   "outputs": [
    {
     "data": {
      "text/plain": [
       "[0, 1, 2, 3, 4]"
      ]
     },
     "execution_count": 3,
     "metadata": {},
     "output_type": "execute_result"
    }
   ],
   "source": [
    "list(range(5))\n",
    "# Risultato [0, 1, 2, 3, 4]"
   ]
  },
  {
   "cell_type": "code",
   "execution_count": 4,
   "metadata": {},
   "outputs": [
    {
     "data": {
      "text/plain": [
       "[7, 8, 9, 10, 11, 12, 13, 14]"
      ]
     },
     "execution_count": 4,
     "metadata": {},
     "output_type": "execute_result"
    }
   ],
   "source": [
    "list(range(7,15))\n",
    "# Risultato [7, 8, 9, 10, 11, 12, 13, 14]"
   ]
  },
  {
   "cell_type": "code",
   "execution_count": 5,
   "metadata": {},
   "outputs": [
    {
     "data": {
      "text/plain": [
       "[7, 9, 11, 13]"
      ]
     },
     "execution_count": 5,
     "metadata": {},
     "output_type": "execute_result"
    }
   ],
   "source": [
    "list(range(7,15,2))\n",
    "# Risultato [7, 9, 11, 13]"
   ]
  },
  {
   "cell_type": "markdown",
   "metadata": {},
   "source": [
    " Funzione range in for loops"
   ]
  },
  {
   "cell_type": "code",
   "execution_count": 6,
   "metadata": {},
   "outputs": [],
   "source": [
    "item = ['banana', 'mela', 'arancia']"
   ]
  },
  {
   "cell_type": "code",
   "execution_count": 7,
   "metadata": {},
   "outputs": [
    {
     "name": "stdout",
     "output_type": "stream",
     "text": [
      "Vorrei mangiare una banana\n",
      "Vorrei mangiare una mela\n",
      "Vorrei mangiare una arancia\n"
     ]
    }
   ],
   "source": [
    "for val in range(len(item)):\n",
    "    print ('Vorrei mangiare una',item[val])"
   ]
  },
  {
   "cell_type": "markdown",
   "metadata": {},
   "source": [
    "Risultato:<br>\n",
    "Vorrei mangiare una banana<br>\n",
    "Vorrei mangiare una mela<br>\n",
    "Vorrei mangiare una arancia    "
   ]
  },
  {
   "cell_type": "markdown",
   "metadata": {},
   "source": [
    " Ciclo For con blocco else"
   ]
  },
  {
   "cell_type": "code",
   "execution_count": 8,
   "metadata": {},
   "outputs": [],
   "source": [
    "num = 1"
   ]
  },
  {
   "cell_type": "code",
   "execution_count": 9,
   "metadata": {},
   "outputs": [
    {
     "name": "stdout",
     "output_type": "stream",
     "text": [
      "1\n",
      "4\n",
      "7\n",
      "10\n",
      "13\n",
      "16\n",
      "19\n",
      "22\n",
      "Nessun elemento rimanente\n"
     ]
    }
   ],
   "source": [
    "for val in range(num,25,3):\n",
    "    print(val)\n",
    "else:\n",
    "    print('Nessun elemento rimanente')"
   ]
  },
  {
   "cell_type": "markdown",
   "metadata": {},
   "source": [
    "Risultato:<br>\n",
    "1<br>\n",
    "4<br>\n",
    "7<br>\n",
    "10<br>\n",
    "13<br>\n",
    "16<br>\n",
    "19<br>\n",
    "22<br>\n",
    "Nessun elemento rimanente"
   ]
  },
  {
   "cell_type": "code",
   "execution_count": 10,
   "metadata": {},
   "outputs": [
    {
     "ename": "SyntaxError",
     "evalue": "invalid non-printable character U+00A0 (666986519.py, line 1)",
     "output_type": "error",
     "traceback": [
      "\u001b[0;36m  Cell \u001b[0;32mIn[10], line 1\u001b[0;36m\u001b[0m\n\u001b[0;31m    etÃ  = 35\u001b[0m\n\u001b[0m       ^\u001b[0m\n\u001b[0;31mSyntaxError\u001b[0m\u001b[0;31m:\u001b[0m invalid non-printable character U+00A0\n"
     ]
    }
   ],
   "source": [
    "etÃ  = 35\n",
    "dict1 = {25: 'ragazzo',42: 'donna', 7: 'bimbo', 57:'signore'}"
   ]
  },
  {
   "cell_type": "code",
   "execution_count": null,
   "metadata": {},
   "outputs": [],
   "source": [
    "for val in dict1:\n",
    "    if val == etÃ :\n",
    "        print (dict1[etÃ ])\n",
    "        break\n",
    "else:\n",
    "    print(\"EtÃ  della persona non presente nel dizionario\")"
   ]
  },
  {
   "cell_type": "markdown",
   "metadata": {},
   "source": [
    "Risultato:<br>\n",
    "EtÃ  della persona non presente nel dizionario"
   ]
  },
  {
   "cell_type": "markdown",
   "metadata": {},
   "source": [
    "-----------------------------------------------------------"
   ]
  },
  {
   "cell_type": "markdown",
   "metadata": {},
   "source": [
    "# While loops"
   ]
  },
  {
   "cell_type": "code",
   "execution_count": null,
   "metadata": {},
   "outputs": [],
   "source": [
    "a = (5,7,98,24,47)\n",
    "i = 0\n",
    "somma = 0\n",
    "while i < 5:\n",
    "    print(a[i])\n",
    "    somma = somma + a[i]\n",
    "    i = i + 1\n",
    "print ('la somma della tupla Ã¨ pari a: '+str(somma))"
   ]
  },
  {
   "cell_type": "markdown",
   "metadata": {},
   "source": [
    "Risultato:<br>\n",
    "5<br>\n",
    "7<br>\n",
    "98<br>\n",
    "24<br>\n",
    "47<br>\n",
    "la somma della tupla Ã¨ pari a: 181"
   ]
  },
  {
   "cell_type": "markdown",
   "metadata": {},
   "source": [
    " Ciclo while con blocco else"
   ]
  },
  {
   "cell_type": "code",
   "execution_count": null,
   "metadata": {},
   "outputs": [],
   "source": [
    "import random\n",
    "count = 1"
   ]
  },
  {
   "cell_type": "code",
   "execution_count": null,
   "metadata": {},
   "outputs": [],
   "source": [
    "while count < 8:\n",
    "   guess = random.randint(1,8)    \n",
    "   if count >= 1:\n",
    "        count +=1\n",
    "       \n",
    "   if guess == count:\n",
    "        print (\"il numero random e count sono pari a \"+str(guess))\n",
    "        print (\"Hai vinto!\")\n",
    "        \n",
    "        break\n",
    "   elif count == 8:\n",
    "        print (\"Hai perso\")\n",
    "        print (\"dopo 8 iterazioni count Ã¨ diverso da guess\")\n",
    "else:\n",
    "    print (\"Prova ancora\")\n",
    "        \n",
    "# Risultato:\n",
    "# Hai perso\n",
    "# dopo 8 iterazioni count Ã¨ diverso da guess\n",
    "# Prova ancora    "
   ]
  },
  {
   "cell_type": "markdown",
   "metadata": {},
   "source": [
    " Istruzione break<br>\n",
    "# Ciclo For "
   ]
  },
  {
   "cell_type": "code",
   "execution_count": null,
   "metadata": {},
   "outputs": [],
   "source": [
    "x = [2,3,4,5]\n",
    "prod = 1"
   ]
  },
  {
   "cell_type": "code",
   "execution_count": null,
   "metadata": {},
   "outputs": [],
   "source": [
    "for val in x:\n",
    "    x = prod\n",
    "    prod = prod * val\n",
    "    if prod > 20:\n",
    "        print ('X Ã¨ pari a '+str(x) +' mentre prod Ã¨ uguale a '+str(prod))\n",
    "        break"
   ]
  },
  {
   "cell_type": "markdown",
   "metadata": {},
   "source": [
    "Risultato<br>\n",
    "X Ã¨ pari a 6 mentre prod Ã¨ uguale a 24"
   ]
  },
  {
   "cell_type": "markdown",
   "metadata": {},
   "source": [
    " break ciclo while"
   ]
  },
  {
   "cell_type": "code",
   "execution_count": null,
   "metadata": {},
   "outputs": [],
   "source": [
    "a = (5,7,98,24,47)\n",
    "i = 0\n",
    "somma = 0\n",
    "while i < 5:\n",
    "    somma = somma + a[i]\n",
    "    i = i + 1\n",
    "    if i == 4:\n",
    "       print ('Raggiunta la quarta iterazione del ciclo!'+\n",
    "              ' La somma della tupla Ã¨ pari a: '+str(somma))\n",
    "       break\n",
    "# Risultato:\n",
    "# Raggiunta la quarta iterazione del ciclo! La somma della tupla Ã¨ pari a: 134    \n",
    "    \n",
    "## Istruzione Continue\n",
    "# Ciclo for"
   ]
  },
  {
   "cell_type": "code",
   "execution_count": null,
   "metadata": {},
   "outputs": [],
   "source": [
    "vals = [1, 2, 3, 4, 5]\n",
    "for i in vals:\n",
    "    if i == 2:\n",
    "        continue\n",
    "    print(i**2)\n",
    "    \n",
    "# Risultato: \n",
    "# 1\n",
    "# 9\n",
    "# 16\n",
    "# 25\n",
    " "
   ]
  },
  {
   "cell_type": "markdown",
   "metadata": {},
   "source": [
    "Ciclo while"
   ]
  },
  {
   "cell_type": "code",
   "execution_count": null,
   "metadata": {},
   "outputs": [],
   "source": [
    "vals = [1, 2, 3, 4, 5]\n",
    "i = 1\n",
    "while i <= 5:\n",
    "    if i == 2:\n",
    "        i=i+1\n",
    "        continue\n",
    "        \n",
    "    print(i**2)\n",
    "    i += 1\n",
    "# Risutalto:\n",
    "# 1\n",
    "# 9\n",
    "# 16\n",
    "# 25    "
   ]
  }
 ],
 "metadata": {
  "kernelspec": {
   "display_name": "Python 3 (ipykernel)",
   "language": "python",
   "name": "python3"
  },
  "language_info": {
   "codemirror_mode": {
    "name": "ipython",
    "version": 3
   },
   "file_extension": ".py",
   "mimetype": "text/x-python",
   "name": "python",
   "nbconvert_exporter": "python",
   "pygments_lexer": "ipython3",
   "version": "3.10.13"
  },
  "widgets": {
   "application/vnd.jupyter.widget-state+json": {
    "state": {},
    "version_major": 2,
    "version_minor": 0
   }
  }
 },
 "nbformat": 4,
 "nbformat_minor": 4
}
