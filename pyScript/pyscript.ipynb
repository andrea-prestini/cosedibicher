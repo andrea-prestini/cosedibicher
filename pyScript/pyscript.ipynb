{
 "cells": [
  {
   "cell_type": "markdown",
   "metadata": {},
   "source": [
    "# Eseguire python all'interno di un browser"
   ]
  },
  {
   "cell_type": "markdown",
   "metadata": {},
   "source": [
    "PyScript, progetto di **Anaconda** permette di eseguire codice python così come oggi si esegue java all'interno di pagine html attraverso il browser"
   ]
  },
  {
   "cell_type": "markdown",
   "metadata": {},
   "source": [
    "## Comandi fondamentali"
   ]
  },
  {
   "cell_type": "markdown",
   "metadata": {},
   "source": [
    "Inseriamo nel codice HTML i riferimenti per l'uso dello script: \n",
    "- scaricando le fonti direttamente sul nostro computer\n",
    "- aggiungendo i meta di riferimento agli script"
   ]
  },
  {
   "cell_type": "markdown",
   "metadata": {},
   "source": [
    "```html\n",
    "  <link rel=\"stylesheet\" href=\"https://pyscript.net/alpha/pyscript.css\" />\n",
    "    <script defer src=\"https://pyscript.net/alpha/pyscript.js\"></script>\n",
    "```\n"
   ]
  },
  {
   "cell_type": "markdown",
   "metadata": {},
   "source": [
    "Gli elementi fondamentali sono:\n",
    "```html\n",
    "- <py-script>codice</py-script> per esecuzione codice direttamente\n",
    "- <py-env> - numpy o altro (anche riferimento al mio py</py-env> per creare un ambiente python\n",
    "- <py-repl id=\"repl1\" auto-generate=\"true\"> .... </py-repl> per creare un ambiente stile jupyter"
   ]
  },
  {
   "cell_type": "markdown",
   "metadata": {},
   "source": [
    "### py-env"
   ]
  },
  {
   "cell_type": "markdown",
   "metadata": {},
   "source": [
    "```html\n",
    "<py-env>\n",
    "\n",
    "    - numpy\n",
    "    - mathplotlib\n",
    "    - paths:\n",
    "        - data.py\n",
    "        - index.py\n",
    "</py-env>\n"
   ]
  },
  {
   "cell_type": "markdown",
   "metadata": {},
   "source": [
    "Oppure:\n",
    "```  <py-script src=\"./index.py\"></py-script>"
   ]
  },
  {
   "cell_type": "markdown",
   "metadata": {},
   "source": [
    "```html\n",
    "  <py-script src=\"./index.py\"></py-script>\n",
    "  ```"
   ]
  },
  {
   "cell_type": "markdown",
   "metadata": {},
   "source": [
    "```html\n",
    "<body>\n",
    "    <h1 id=\"titolo\"></h1>\n",
    "    <py-script>\n",
    "        pyscript.write(\"titolo\", \"Ciao mondo con titolo da codice python!\")\n",
    "    </py-script>\n",
    "    <py-script src=\"./index.py\" output=\"divInfo\"> </py-script>\n",
    "\n",
    "    <h2>Titolo del div destinazione</h2>\n",
    "    <div id=\"divInfo\"></div>\n",
    "</body>\n",
    "```\n",
    "In questo caso outpu=... indica che il risultato del codice python eseguito dovrà comparire all'interno di un div avente ID=\"divInfo\""
   ]
  },
  {
   "cell_type": "markdown",
   "metadata": {},
   "source": [
    "```\n",
    " <py-env>\n",
    "      - paths:\n",
    "        - ./index.py\n",
    "    </py-env>\n",
    "```\n",
    "Funziona per importazione modulo e suo contenuto. Quando vogliamo eseguire il file all'interno della pagina html usiamo la sintassi:\n",
    "```\n",
    "<py-script src=\"./miofile\"></py-script>\n",
    "```"
   ]
  }
 ],
 "metadata": {
  "interpreter": {
   "hash": "7473d73b0517ab6f64aa731f2cb80c0acf19c95420055020da77d830c23b4531"
  },
  "kernelspec": {
   "display_name": "Python 3.9.12 ('base')",
   "language": "python",
   "name": "python3"
  },
  "language_info": {
   "name": "python",
   "version": "3.9.12"
  },
  "orig_nbformat": 4
 },
 "nbformat": 4,
 "nbformat_minor": 2
}
