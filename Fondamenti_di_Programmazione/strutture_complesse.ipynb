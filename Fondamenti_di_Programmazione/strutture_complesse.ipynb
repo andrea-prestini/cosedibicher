{
 "cells": [
  {
   "cell_type": "code",
   "execution_count": 3,
   "metadata": {},
   "outputs": [],
   "source": [
    "d = {\n",
    "    \"marco\": [18, 25, 30, 30, 28],\n",
    "    \"roberta\": [25, 30, 30, 30, 30]\n",
    "}"
   ]
  },
  {
   "cell_type": "code",
   "execution_count": 4,
   "metadata": {},
   "outputs": [
    {
     "name": "stdout",
     "output_type": "stream",
     "text": [
      "5\n"
     ]
    }
   ],
   "source": [
    "print(len(d[\"marco\"]))"
   ]
  },
  {
   "cell_type": "code",
   "execution_count": 9,
   "metadata": {},
   "outputs": [
    {
     "name": "stdout",
     "output_type": "stream",
     "text": [
      "il primo voto di marco è: 18\n"
     ]
    }
   ],
   "source": [
    "print(\"il primo voto di marco è: %s\" %(d[\"marco\"][0]))"
   ]
  },
  {
   "cell_type": "code",
   "execution_count": 10,
   "metadata": {},
   "outputs": [],
   "source": [
    "v = [\n",
    "    [1,2,3],\n",
    "    [4,5,6],\n",
    "    [7,8,9]\n",
    "]"
   ]
  },
  {
   "cell_type": "code",
   "execution_count": 12,
   "metadata": {},
   "outputs": [
    {
     "data": {
      "text/plain": [
       "6"
      ]
     },
     "execution_count": 12,
     "metadata": {},
     "output_type": "execute_result"
    }
   ],
   "source": [
    "v[1][2]"
   ]
  },
  {
   "cell_type": "code",
   "execution_count": 13,
   "metadata": {},
   "outputs": [],
   "source": [
    "elenco = [ \n",
    "    {\"nome\": \"andrea\",\"cognome\": \"prestini\", \"paese\": \"esine\"},\n",
    "    {\"nome\": \"mario\",\"cognome\": \"mometto\", \"paese\": \"gambara\"},\n",
    "    {\"nome\": \"roberto\",\"cognome\": \"tanzini\", \"paese\": \"breno\"},\n",
    "    {\"nome\": \"eleonora\",\"cognome\": \"favagrossa\", \"paese\": \"leno\"},\n",
    "    {\"nome\": \"simone\",\"cognome\": \"mor\", \"paese\": \"gambara\"},\n",
    "]"
   ]
  },
  {
   "cell_type": "code",
   "execution_count": 21,
   "metadata": {},
   "outputs": [
    {
     "name": "stdout",
     "output_type": "stream",
     "text": [
      "andrea\n",
      "mario\n",
      "roberto\n",
      "eleonora\n",
      "simone\n"
     ]
    }
   ],
   "source": [
    "for s in elenco:\n",
    "    print(s[\"nome\"])"
   ]
  },
  {
   "cell_type": "code",
   "execution_count": 23,
   "metadata": {},
   "outputs": [
    {
     "data": {
      "text/plain": [
       "['esine', 'gambara', 'breno', 'leno', 'gambara']"
      ]
     },
     "execution_count": 23,
     "metadata": {},
     "output_type": "execute_result"
    }
   ],
   "source": [
    "comuni = [x[\"paese\"] for x in elenco]\n",
    "comuni"
   ]
  },
  {
   "cell_type": "code",
   "execution_count": 29,
   "metadata": {},
   "outputs": [
    {
     "name": "stdout",
     "output_type": "stream",
     "text": [
      "Comune Asola NON trovato...\n"
     ]
    }
   ],
   "source": [
    "ricerca = \"Asola\"\n",
    "if ricerca in [x[\"paese\"] for x in elenco]:\n",
    "    print(f\"{ricerca} Comune presente...\")\n",
    "else:\n",
    "    print(f\"Comune {ricerca} NON trovato...\")"
   ]
  },
  {
   "cell_type": "markdown",
   "metadata": {},
   "source": [
    "## Esercizio Matrici"
   ]
  },
  {
   "cell_type": "code",
   "execution_count": 15,
   "metadata": {},
   "outputs": [],
   "source": [
    "# Trovare la magrice di somma maggiore\n",
    "x = [ \n",
    "    [ \n",
    "        [1,2,3],\n",
    "        [4,5,6],\n",
    "        [7,8,9],\n",
    "    ],\n",
    "    [ \n",
    "        [1,2],\n",
    "        [3,4],\n",
    "    ],\n",
    "    [ \n",
    "        [1,2],\n",
    "        [3,4, 300],\n",
    "    ],\n",
    "]"
   ]
  },
  {
   "cell_type": "code",
   "execution_count": 8,
   "metadata": {},
   "outputs": [
    {
     "name": "stdout",
     "output_type": "stream",
     "text": [
      "[45, 10, 310]\n"
     ]
    }
   ],
   "source": [
    "somma = []\n",
    "for m in x:\n",
    "    s = 0\n",
    "    for r in m:\n",
    "        s += sum(r)\n",
    "    somma.append(s)\n",
    "\n",
    "\n",
    "print(somma)"
   ]
  },
  {
   "cell_type": "code",
   "execution_count": 9,
   "metadata": {},
   "outputs": [
    {
     "name": "stdout",
     "output_type": "stream",
     "text": [
      "[45, 10, 310]\n"
     ]
    }
   ],
   "source": [
    "lc = []\n",
    "for m in x:\n",
    "    lc.append(sum([sum(r) for r in m]))\n",
    "print(lc)"
   ]
  },
  {
   "cell_type": "code",
   "execution_count": 10,
   "metadata": {},
   "outputs": [
    {
     "name": "stdout",
     "output_type": "stream",
     "text": [
      "[[1, 2], [3, 4, 300]]\n"
     ]
    }
   ],
   "source": [
    "print(x[lc.index(max(lc))])"
   ]
  },
  {
   "cell_type": "code",
   "execution_count": 18,
   "metadata": {},
   "outputs": [
    {
     "data": {
      "text/plain": [
       "[[3, 3], [2, 2]]"
      ]
     },
     "execution_count": 18,
     "metadata": {},
     "output_type": "execute_result"
    }
   ],
   "source": [
    "dimensioni = []\n",
    "for m in x:\n",
    "    d = [len(m), len(m[0])]\n",
    "    find = False\n",
    "    for dd in dimensioni: \n",
    "        if d[0] == dd[0] and d[1] == dd[1]:\n",
    "            find = True\n",
    "    if not find:\n",
    "        dimensioni.append(d)\n",
    "\n",
    "dimensioni"
   ]
  },
  {
   "cell_type": "code",
   "execution_count": 22,
   "metadata": {},
   "outputs": [],
   "source": [
    "# Trovare la magrice di somma maggiore\n",
    "x = [\n",
    "    [\n",
    "        [1, 2, 3],\n",
    "        [4, 5, 6],\n",
    "        [7, 8, 9],\n",
    "    ],\n",
    "    [\n",
    "        [1, 2],\n",
    "        [3, 4],\n",
    "    ],\n",
    "    [\n",
    "        [1, 2],\n",
    "        [3, 4, 300],\n",
    "    ],\n",
    "]\n"
   ]
  },
  {
   "cell_type": "code",
   "execution_count": 26,
   "metadata": {},
   "outputs": [
    {
     "name": "stdout",
     "output_type": "stream",
     "text": [
      "[[3, 3], [2, 2], [2, 2]]\n"
     ]
    }
   ],
   "source": [
    "d = []\n",
    "for m in x:\n",
    "    d.append([len(m), len(m[0])])\n",
    "    \n",
    "print(d)"
   ]
  },
  {
   "cell_type": "code",
   "execution_count": 28,
   "metadata": {},
   "outputs": [],
   "source": [
    "elenco = [\n",
    "    {\"nome\": \"andrea\", \"cognome\": \"prestini\", \"paese\": \"esine\"},\n",
    "    {\"nome\": \"mario\", \"cognome\": \"mometto\", \"paese\": \"gambara\"},\n",
    "    {\"nome\": \"roberto\", \"cognome\": \"tanzini\", \"paese\": \"breno\"},\n",
    "    {\"nome\": \"eleonora\", \"cognome\": \"favagrossa\", \"paese\": \"leno\"},\n",
    "    {\"nome\": \"simone\", \"cognome\": \"mor\", \"paese\": \"gambara\"},\n",
    "]\n"
   ]
  },
  {
   "cell_type": "code",
   "execution_count": 36,
   "metadata": {},
   "outputs": [
    {
     "name": "stdout",
     "output_type": "stream",
     "text": [
      "\n",
      "    nome: andrea\n",
      "    paese: esine\n",
      "    \n",
      "\n",
      "    nome: mario\n",
      "    paese: gambara\n",
      "    \n",
      "\n",
      "    nome: roberto\n",
      "    paese: breno\n",
      "    \n",
      "\n",
      "    nome: eleonora\n",
      "    paese: leno\n",
      "    \n",
      "\n",
      "    nome: simone\n",
      "    paese: gambara\n",
      "    \n"
     ]
    }
   ],
   "source": [
    "for k in elenco:\n",
    "    print(f'''\n",
    "    nome: {k[\"nome\"]}\n",
    "    paese: {k[\"paese\"]}\n",
    "    ''')"
   ]
  }
 ],
 "metadata": {
  "kernelspec": {
   "display_name": "Python 3.9.12 ('base')",
   "language": "python",
   "name": "python3"
  },
  "language_info": {
   "codemirror_mode": {
    "name": "ipython",
    "version": 3
   },
   "file_extension": ".py",
   "mimetype": "text/x-python",
   "name": "python",
   "nbconvert_exporter": "python",
   "pygments_lexer": "ipython3",
   "version": "3.9.12"
  },
  "orig_nbformat": 4,
  "vscode": {
   "interpreter": {
    "hash": "7473d73b0517ab6f64aa731f2cb80c0acf19c95420055020da77d830c23b4531"
   }
  }
 },
 "nbformat": 4,
 "nbformat_minor": 2
}
