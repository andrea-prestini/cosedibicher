{
 "nbformat": 4,
 "nbformat_minor": 2,
 "metadata": {
  "language_info": {
   "name": "python",
   "codemirror_mode": {
    "name": "ipython",
    "version": 3
   },
   "version": "3.7.4-final"
  },
  "orig_nbformat": 2,
  "file_extension": ".py",
  "mimetype": "text/x-python",
  "name": "python",
  "npconvert_exporter": "python",
  "pygments_lexer": "ipython3",
  "version": 3,
  "kernelspec": {
   "name": "python37464bitbaseconda9cd1c3962878454fa14d112b4a486265",
   "display_name": "Python 3.7.4 64-bit ('base': conda)"
  }
 },
 "cells": [
  {
   "cell_type": "markdown",
   "execution_count": null,
   "metadata": {},
   "outputs": [],
   "source": [
    "# Librerie"
   ]
  },
  {
   "cell_type": "markdown",
   "execution_count": 1,
   "metadata": {},
   "outputs": [
    {
     "ename": "SyntaxError",
     "evalue": "invalid syntax (<ipython-input-1-0c2b4dcd9049>, line 1)",
     "output_type": "error",
     "traceback": [
      "\u001b[0;36m  File \u001b[0;32m\"<ipython-input-1-0c2b4dcd9049>\"\u001b[0;36m, line \u001b[0;32m1\u001b[0m\n\u001b[0;31m    Due librerie fondamentali sono os ed os.path (trattate separatamente nella documentazione ufficiale).\u001b[0m\n\u001b[0m               ^\u001b[0m\n\u001b[0;31mSyntaxError\u001b[0m\u001b[0;31m:\u001b[0m invalid syntax\n"
     ]
    }
   ],
   "source": [
    "Due librerie fondamentali sono os ed os.path (trattate separatamente nella documentazione ufficiale).\n"
   ]
  },
  {
   "cell_type": "markdown",
   "execution_count": null,
   "metadata": {},
   "outputs": [],
   "source": [
    "Fondamentale è os.path.join:\n",
    "nella costruzione dei path tiene conto della sintassi propria del sistema operativo in cui si trova a girare.\n",
    "\n",
    "Diversamente da una concatenazione di stringhe, infatti, è ad esempio in grado di modificare il path se si trova su di un sistema windows oppure Unix like."
   ]
  },
  {
   "cell_type": "markdown",
   "execution_count": null,
   "metadata": {},
   "outputs": [],
   "source": [
    "## Documentazione di python\n",
    "> docs.python.org"
   ]
  },
  {
   "cell_type": "markdown",
   "execution_count": null,
   "metadata": {},
   "outputs": [],
   "source": [
    "Library Reference è la più importante!"
   ]
  },
  {
   "cell_type": "markdown",
   "execution_count": null,
   "metadata": {},
   "outputs": [],
   "source": [
    "## Doctest"
   ]
  },
  {
   "cell_type": "code",
   "execution_count": 3,
   "metadata": {},
   "outputs": [],
   "source": [
    "import doctest"
   ]
  },
  {
   "cell_type": "code",
   "execution_count": 28,
   "metadata": {},
   "outputs": [
    {
     "data": {
      "text/plain": "'\\nClasse di test per vedere come funziona doctest\\n\\nLa nostra classe viene istanziata con\\n>>> t = Test()\\n'"
     },
     "execution_count": 28,
     "metadata": {},
     "output_type": "execute_result"
    }
   ],
   "source": [
    "\"\"\"\n",
    "Classe di test per vedere come funziona doctest\n",
    "\n",
    "La nostra classe viene istanziata con\n",
    ">>> t = Test()\n",
    "\"\"\""
   ]
  },
  {
   "cell_type": "code",
   "execution_count": 9,
   "metadata": {},
   "outputs": [],
   "source": [
    "class Test:\n",
    "    \"\"\"\n",
    "    >>> a = Test()\n",
    "    >>> a.somma(1,1)\n",
    "    3\n",
    "    \"\"\"\n",
    "    def somma(self, a, b):\n",
    "        return a + b\n",
    "        \n",
    "    def mol(self, a, b):\n",
    "        return a * b"
   ]
  },
  {
   "cell_type": "code",
   "execution_count": 10,
   "metadata": {},
   "outputs": [
    {
     "name": "stdout",
     "output_type": "stream",
     "text": "**********************************************************************\nFile \"__main__\", line ?, in __main__.Test\nFailed example:\n    a.somma(1,1)\nExpected:\n    3\nGot:\n    2\n**********************************************************************\n1 items had failures:\n   1 of   2 in __main__.Test\n***Test Failed*** 1 failures.\n"
    },
    {
     "data": {
      "text/plain": "TestResults(failed=1, attempted=2)"
     },
     "execution_count": 10,
     "metadata": {},
     "output_type": "execute_result"
    }
   ],
   "source": [
    "doctest.testmod()"
   ]
  },
  {
   "cell_type": "markdown",
   "execution_count": null,
   "metadata": {},
   "outputs": [],
   "source": [
    "```\n",
    "class Test:\n",
    "    \"\"\"\n",
    "    >>> a = Test(5)\n",
    "    >>> a.somma()\n",
    "    10\n",
    "    \"\"\"\n",
    "    def __init__(self, numero):\n",
    "        self.numero = numero\n",
    "    def somma(self):\n",
    "        return self.numero * 2\n",
    "\n",
    "    if __name__ == \"__main__\"\":\n",
    "        import doctest\n",
    "        doctest.testmod()\n",
    "    "
   ]
  },
  {
   "cell_type": "code",
   "execution_count": null,
   "metadata": {},
   "outputs": [],
   "source": []
  },
  {
   "cell_type": "code",
   "execution_count": null,
   "metadata": {},
   "outputs": [],
   "source": []
  }
 ]
}