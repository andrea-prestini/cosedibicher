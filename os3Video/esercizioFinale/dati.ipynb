{
 "cells": [
  {
   "cell_type": "markdown",
   "metadata": {},
   "source": [
    "Classi generiche permettono di avere un codice mantenuto"
   ]
  },
  {
   "cell_type": "markdown",
   "metadata": {},
   "source": [
    "L'approccio di programmazione prevede la soluzione di un problema alla volta, il più atomico possibile, con vantaggi in debug e progettazione generale."
   ]
  },
  {
   "cell_type": "code",
   "execution_count": 1,
   "metadata": {},
   "outputs": [],
   "source": [
    "class Contatto:\n",
    "    def __init__(self, nome, cognome):\n",
    "        self.nome = nome\n",
    "        self.cognome = cognome\n",
    "        self.attrs = {}\n",
    "\n",
    "    def set_attr(self, nome_attributo, valore_attributo, unique = False):\n",
    "        nome_attributo = nome_attributo.lower().strip()\n",
    "        if unique:\n",
    "            self.attrs[nome_attributo] = [valore_attributo]\n",
    "        else:\n",
    "            data = self.attrs.setdefault(nome_attributo, [])\n",
    "            data.append(valore_attributo)\n",
    "\n",
    "    def get_attr(self, nome_attributo):\n",
    "        nome_attributo = nome_attributo.lower().strip()\n",
    "        return self.attrs.get(nome_attributo)\n",
    "\n",
    "    def __str__(self):\n",
    "        res = [self.nome + \" \" + self.cognome]\n",
    "        \n",
    "        for k,v in self.attrs.items():\n",
    "            res.append(\"%s %s\" %(k,v))\n",
    "        \n",
    "        return '\\n'.join(res) # func di stringhe aggancia con \\n dalla                                   lista res \n",
    "        "
   ]
  },
  {
   "cell_type": "code",
   "execution_count": 2,
   "metadata": {},
   "outputs": [],
   "source": [
    "c = Contatto(\"andrea\", \"prestini\")\n"
   ]
  },
  {
   "cell_type": "code",
   "execution_count": 3,
   "metadata": {},
   "outputs": [],
   "source": [
    "c.set_attr(\"cell:\", \"123456\")"
   ]
  },
  {
   "cell_type": "code",
   "execution_count": 4,
   "metadata": {},
   "outputs": [],
   "source": [
    "c.set_attr(\"cell:\", \"999999\")"
   ]
  },
  {
   "cell_type": "code",
   "execution_count": 5,
   "metadata": {},
   "outputs": [
    {
     "name": "stdout",
     "output_type": "stream",
     "text": [
      "andrea prestini\n",
      "cell: ['123456', '999999']\n"
     ]
    }
   ],
   "source": [
    "print(str(c))"
   ]
  },
  {
   "cell_type": "markdown",
   "metadata": {},
   "source": [
    "Estensione python per Winzozz = pyw"
   ]
  },
  {
   "cell_type": "code",
   "execution_count": 6,
   "metadata": {},
   "outputs": [],
   "source": [
    "class ContattoManager: # gestire i contatti, ricerca, cancellazione\n",
    "    def __init__(self):\n",
    "        self._nomi = {}\n",
    "        self._cognomi = {}\n",
    "        self._contatti = []\n",
    "\n",
    "    def add(self, nome, cognome):\n",
    "        cont = Contatto(nome, cognome)\n",
    "        self._contatti.append(cont)\n",
    "        self._nomi.setdefault(nome, []).append(cont)\n",
    "        self._cognomi.setdefault(cognome, []).append(cont)\n",
    "        return cont\n",
    "\n",
    "    def find(self, nome=\"\", cognome=\"\"):\n",
    "        if nome:\n",
    "            return self._nomi.get(nome, []) # lista vuota se non presente\n",
    "        return self._cognome.get(cognome, []) #dict[k] darebbe errore\n",
    "\n",
    "    def lista(self):\n",
    "        return self._contatti\n",
    "\n"
   ]
  },
  {
   "cell_type": "code",
   "execution_count": 7,
   "metadata": {},
   "outputs": [],
   "source": [
    "cm = ContattoManager()"
   ]
  },
  {
   "cell_type": "code",
   "execution_count": 8,
   "metadata": {},
   "outputs": [],
   "source": [
    "cont = cm.add(\"mario\", \"rossi\")\n",
    "cont = cm.add(\"mario\", \"bianchi\")\n",
    "cont = cm.add(\"sara\", \"bianchi\")\n",
    "cont = cm.add(\"paolo\", \"rossi\")\n",
    "cont.set_attr(\"tel:\", \"123456\")\n"
   ]
  },
  {
   "cell_type": "code",
   "execution_count": 9,
   "metadata": {},
   "outputs": [
    {
     "name": "stdout",
     "output_type": "stream",
     "text": [
      "mario rossi\n",
      "mario bianchi\n",
      "sara bianchi\n",
      "paolo rossi\n",
      "tel: ['123456']\n"
     ]
    }
   ],
   "source": [
    "for c in cm.lista():\n",
    "    print(c)"
   ]
  },
  {
   "cell_type": "code",
   "execution_count": 10,
   "metadata": {},
   "outputs": [
    {
     "name": "stdout",
     "output_type": "stream",
     "text": [
      "paolo rossi\n",
      "tel: ['123456']\n"
     ]
    }
   ],
   "source": [
    "for x in cm.find(\"paolo\"):\n",
    "    print(x)"
   ]
  }
 ],
 "metadata": {
  "file_extension": ".py",
  "kernelspec": {
   "display_name": "Python 3 (ipykernel)",
   "language": "python",
   "name": "python3"
  },
  "language_info": {
   "codemirror_mode": {
    "name": "ipython",
    "version": 3
   },
   "file_extension": ".py",
   "mimetype": "text/x-python",
   "name": "python",
   "nbconvert_exporter": "python",
   "pygments_lexer": "ipython3",
   "version": "3.9.7"
  },
  "mimetype": "text/x-python",
  "name": "python",
  "npconvert_exporter": "python",
  "pygments_lexer": "ipython3",
  "version": 3
 },
 "nbformat": 4,
 "nbformat_minor": 4
}
