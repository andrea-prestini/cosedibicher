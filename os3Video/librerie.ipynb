{
 "cells": [
  {
   "cell_type": "markdown",
   "metadata": {},
   "source": [
    "# Librerie"
   ]
  },
  {
   "cell_type": "markdown",
   "metadata": {},
   "source": [
    "Due librerie fondamentali sono os ed os.path (trattate separatamente nella documentazione ufficiale).\n"
   ]
  },
  {
   "cell_type": "markdown",
   "metadata": {},
   "source": [
    "Fondamentale è os.path.join:\n",
    "nella costruzione dei path tiene conto della sintassi propria del sistema operativo in cui si trova a girare.\n",
    "\n",
    "Diversamente da una concatenazione di stringhe, infatti, è ad esempio in grado di modificare il path se si trova su di un sistema windows oppure Unix like."
   ]
  },
  {
   "cell_type": "markdown",
   "metadata": {},
   "source": [
    "## Documentazione di python\n",
    "> docs.python.org"
   ]
  },
  {
   "cell_type": "markdown",
   "metadata": {},
   "source": [
    "Library Reference è la più importante!"
   ]
  },
  {
   "cell_type": "markdown",
   "metadata": {},
   "source": [
    "## Doctest"
   ]
  },
  {
   "cell_type": "code",
   "execution_count": 3,
   "metadata": {},
   "outputs": [],
   "source": [
    "import doctest"
   ]
  },
  {
   "cell_type": "code",
   "execution_count": 28,
   "metadata": {},
   "outputs": [
    {
     "data": {
      "text/plain": [
       "'\\nClasse di test per vedere come funziona doctest\\n\\nLa nostra classe viene istanziata con\\n>>> t = Test()\\n'"
      ]
     },
     "execution_count": 28,
     "metadata": {},
     "output_type": "execute_result"
    }
   ],
   "source": [
    "\"\"\"\n",
    "Classe di test per vedere come funziona doctest\n",
    "\n",
    "La nostra classe viene istanziata con\n",
    ">>> t = Test()\n",
    "\"\"\""
   ]
  },
  {
   "cell_type": "code",
   "execution_count": 9,
   "metadata": {},
   "outputs": [],
   "source": [
    "class Test:\n",
    "    \"\"\"\n",
    "    >>> a = Test()\n",
    "    >>> a.somma(1,1)\n",
    "    3\n",
    "    \"\"\"\n",
    "    def somma(self, a, b):\n",
    "        return a + b\n",
    "        \n",
    "    def mol(self, a, b):\n",
    "        return a * b"
   ]
  },
  {
   "cell_type": "code",
   "execution_count": 10,
   "metadata": {},
   "outputs": [
    {
     "name": "stdout",
     "output_type": "stream",
     "text": [
      "**********************************************************************\n",
      "File \"__main__\", line ?, in __main__.Test\n",
      "Failed example:\n",
      "    a.somma(1,1)\n",
      "Expected:\n",
      "    3\n",
      "Got:\n",
      "    2\n",
      "**********************************************************************\n",
      "1 items had failures:\n",
      "   1 of   2 in __main__.Test\n",
      "***Test Failed*** 1 failures.\n"
     ]
    },
    {
     "data": {
      "text/plain": [
       "TestResults(failed=1, attempted=2)"
      ]
     },
     "execution_count": 10,
     "metadata": {},
     "output_type": "execute_result"
    }
   ],
   "source": [
    "doctest.testmod()"
   ]
  },
  {
   "cell_type": "markdown",
   "metadata": {},
   "source": [
    "```\n",
    "class Test:\n",
    "    \"\"\"\n",
    "    >>> a = Test(5)\n",
    "    >>> a.somma()\n",
    "    10\n",
    "    \"\"\"\n",
    "    def __init__(self, numero):\n",
    "        self.numero = numero\n",
    "    def somma(self):\n",
    "        return self.numero * 2\n",
    "\n",
    "    if __name__ == \"__main__\"\":\n",
    "        import doctest\n",
    "        doctest.testmod()\n",
    "    "
   ]
  },
  {
   "cell_type": "code",
   "execution_count": null,
   "metadata": {},
   "outputs": [],
   "source": []
  },
  {
   "cell_type": "code",
   "execution_count": null,
   "metadata": {},
   "outputs": [],
   "source": []
  }
 ],
 "metadata": {
  "file_extension": ".py",
  "kernelspec": {
   "display_name": "Python 3 (ipykernel)",
   "language": "python",
   "name": "python3"
  },
  "language_info": {
   "codemirror_mode": {
    "name": "ipython",
    "version": 3
   },
   "file_extension": ".py",
   "mimetype": "text/x-python",
   "name": "python",
   "nbconvert_exporter": "python",
   "pygments_lexer": "ipython3",
   "version": "3.9.7"
  },
  "mimetype": "text/x-python",
  "name": "python",
  "npconvert_exporter": "python",
  "pygments_lexer": "ipython3",
  "version": 3
 },
 "nbformat": 4,
 "nbformat_minor": 4
}
