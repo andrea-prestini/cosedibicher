{
 "cells": [
  {
   "cell_type": "code",
   "execution_count": 181,
   "metadata": {},
   "outputs": [],
   "source": [
    "class Animale:\n",
    "    pelo = \"lungo\"\n",
    "    zampe = 4\n",
    "    verso = \"bau\"\n",
    "    tipo = \"animale\"\n",
    "\n",
    "    def __init__(self):\n",
    "        print(\"inizializzo classe %s\" % self.tipo)\n",
    "\n",
    "    def __del__(self):\n",
    "        print(\"fine Classe %s\" % self.tipo)\n",
    "\n",
    "    def __repr__(self): # rappresentazione dell'oggetto creato\n",
    "        res = f\"\"\"\n",
    "        animale {self.tipo}\n",
    "        zampe {self.zampe}\n",
    "        verso {self.verso}\"\"\"\n",
    "        return res\n",
    "\n",
    "    def __str__(self):\n",
    "        return f\"il {self.tipo} fà {self.verso}\"\n",
    "\n"
   ]
  },
  {
   "cell_type": "code",
   "execution_count": 182,
   "metadata": {},
   "outputs": [
    {
     "name": "stdout",
     "output_type": "stream",
     "text": [
      "inizializzo classe animale\n"
     ]
    }
   ],
   "source": [
    "a = Animale()"
   ]
  },
  {
   "cell_type": "code",
   "execution_count": 183,
   "metadata": {},
   "outputs": [],
   "source": [
    "class Cane(Animale):\n",
    "    tipo = \"cane\"\n"
   ]
  },
  {
   "cell_type": "code",
   "execution_count": 184,
   "metadata": {},
   "outputs": [],
   "source": [
    "class Gatto(Animale):\n",
    "    verso = \"miao\"\n",
    "    tipo = \"gatto\""
   ]
  },
  {
   "cell_type": "code",
   "execution_count": 185,
   "metadata": {},
   "outputs": [
    {
     "name": "stdout",
     "output_type": "stream",
     "text": [
      "inizializzo classe gatto\n"
     ]
    }
   ],
   "source": [
    "b = Gatto()"
   ]
  },
  {
   "cell_type": "code",
   "execution_count": 186,
   "metadata": {},
   "outputs": [
    {
     "name": "stdout",
     "output_type": "stream",
     "text": [
      "inizializzo classe cane\n"
     ]
    }
   ],
   "source": [
    "c = Cane()"
   ]
  },
  {
   "cell_type": "code",
   "execution_count": 187,
   "metadata": {},
   "outputs": [
    {
     "data": {
      "text/plain": [
       "\n",
       "        animale cane\n",
       "        zampe 4\n",
       "        verso bau"
      ]
     },
     "execution_count": 187,
     "metadata": {},
     "output_type": "execute_result"
    }
   ],
   "source": [
    "c"
   ]
  },
  {
   "cell_type": "code",
   "execution_count": 188,
   "metadata": {},
   "outputs": [
    {
     "name": "stdout",
     "output_type": "stream",
     "text": [
      "il cane fà bau\n"
     ]
    }
   ],
   "source": [
    "print(str(c))"
   ]
  },
  {
   "cell_type": "code",
   "execution_count": 189,
   "metadata": {},
   "outputs": [
    {
     "name": "stdout",
     "output_type": "stream",
     "text": [
      "il cane fà bau\n"
     ]
    }
   ],
   "source": [
    "print(c) # il print restituisce una stringa, str"
   ]
  },
  {
   "cell_type": "code",
   "execution_count": 190,
   "metadata": {},
   "outputs": [],
   "source": [
    "class FiguraGeo:\n",
    "    lati = []\n",
    "\n",
    "    def perimentro(self):\n",
    "        res = 0\n",
    "        for x in self.lati:\n",
    "            res += x\n",
    "        return res"
   ]
  },
  {
   "cell_type": "code",
   "execution_count": 191,
   "metadata": {},
   "outputs": [],
   "source": [
    "class Triangolo(FiguraGeo):\n",
    "    def __init__(self, l1, l2, l3):\n",
    "        self.lati = [l1, l2, l3]\n",
    "        \n",
    "        "
   ]
  },
  {
   "cell_type": "code",
   "execution_count": 192,
   "metadata": {},
   "outputs": [],
   "source": [
    "casa = Triangolo(2,4,5)"
   ]
  },
  {
   "cell_type": "code",
   "execution_count": 193,
   "metadata": {},
   "outputs": [
    {
     "data": {
      "text/plain": [
       "11"
      ]
     },
     "execution_count": 193,
     "metadata": {},
     "output_type": "execute_result"
    }
   ],
   "source": [
    "casa.perimentro()"
   ]
  },
  {
   "cell_type": "code",
   "execution_count": 194,
   "metadata": {},
   "outputs": [],
   "source": [
    "class TriangoloEqui(Triangolo):\n",
    "    def __init__(self, l1):\n",
    "        self.lati = [l1] * 3\n",
    "    \n",
    "    "
   ]
  },
  {
   "cell_type": "code",
   "execution_count": 195,
   "metadata": {},
   "outputs": [],
   "source": [
    "sala = TriangoloEqui(10)"
   ]
  },
  {
   "cell_type": "code",
   "execution_count": 196,
   "metadata": {},
   "outputs": [
    {
     "data": {
      "text/plain": [
       "30"
      ]
     },
     "execution_count": 196,
     "metadata": {},
     "output_type": "execute_result"
    }
   ],
   "source": [
    "sala.perimentro()"
   ]
  },
  {
   "cell_type": "code",
   "execution_count": 198,
   "metadata": {},
   "outputs": [],
   "source": [
    "class Quadrato(FiguraGeo):\n",
    "    def __init__(self, l1):\n",
    "        self.lati = [l1] * 4"
   ]
  },
  {
   "cell_type": "code",
   "execution_count": 200,
   "metadata": {},
   "outputs": [],
   "source": [
    "balcone = Quadrato(3)"
   ]
  },
  {
   "cell_type": "code",
   "execution_count": 201,
   "metadata": {},
   "outputs": [
    {
     "data": {
      "text/plain": [
       "12"
      ]
     },
     "execution_count": 201,
     "metadata": {},
     "output_type": "execute_result"
    }
   ],
   "source": [
    "balcone.perimentro()"
   ]
  },
  {
   "cell_type": "code",
   "execution_count": 203,
   "metadata": {},
   "outputs": [],
   "source": [
    "if __name__ != \"__main__\":\n",
    "    print(\"abbiamo importato il modulo figure\")"
   ]
  },
  {
   "cell_type": "code",
   "execution_count": null,
   "metadata": {},
   "outputs": [],
   "source": []
  }
 ],
 "metadata": {
  "file_extension": ".py",
  "kernelspec": {
   "display_name": "Python 3 (ipykernel)",
   "language": "python",
   "name": "python3"
  },
  "language_info": {
   "codemirror_mode": {
    "name": "ipython",
    "version": 3
   },
   "file_extension": ".py",
   "mimetype": "text/x-python",
   "name": "python",
   "nbconvert_exporter": "python",
   "pygments_lexer": "ipython3",
   "version": "3.9.7"
  },
  "mimetype": "text/x-python",
  "name": "python",
  "npconvert_exporter": "python",
  "pygments_lexer": "ipython3",
  "version": 3
 },
 "nbformat": 4,
 "nbformat_minor": 4
}
