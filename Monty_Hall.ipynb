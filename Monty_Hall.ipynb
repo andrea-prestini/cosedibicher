{
 "cells": [
  {
   "cell_type": "code",
   "execution_count": null,
   "metadata": {},
   "outputs": [],
   "source": [
    "import random"
   ]
  },
  {
   "cell_type": "code",
   "execution_count": 40,
   "metadata": {},
   "outputs": [],
   "source": [
    "def switching_player():\n",
    "   \n",
    "    doors = [1, 2, 3]\n",
    "    car_behind_door = random.choice(doors)\n",
    "    player_first_choice = random.choice(doors)\n",
    "    print(\"The car is behind door {}\".format(car_behind_door))\n",
    "    print(\"The player's first.choice is {}\".format(player_first_choice))\n",
    "    \n",
    "    if car_behind_door != player_first_choice:\n",
    "        eliminate_door = [1, 2, 3]\n",
    "# we are deciding which door to eliminate; not the door whith car!\n",
    "        eliminate_door.remove(car_behind_door)\n",
    "        eliminate_door.remove(player_first_choice) #we pop what we cant't eliminate\n",
    "        print(\"So we remove {}\".format(eliminate_door[0]))\n",
    "        doors.remove(eliminate_door[0])\n",
    "        print(doors)\n",
    "        doors.remove(player_first_choice)\n",
    "        player_second_choice = doors[0]\n",
    "        \n",
    "        print(player_second_choice)\n",
    "        if player_second_choice == car_behind_door:\n",
    "            return 1\n",
    "        else:\n",
    "            return 0\n",
    "    else:\n",
    "        eliminate_door = [1, 2, 3]\n",
    "        eliminate_door.remove(player_first_choice)\n",
    "        eliminate_door = random.choice(eliminate_door)\n",
    "        doors.remove(eliminate_door)\n",
    "        doors.remove(player_first_choice)\n",
    "        player_second_choice = doors[0]\n",
    "\n",
    "        if player_second_choice == car_behind_door:\n",
    "\n",
    "            return 1\n",
    "        else:\n",
    "            return 0\n"
   ]
  },
  {
   "cell_type": "code",
   "execution_count": 41,
   "metadata": {},
   "outputs": [],
   "source": [
    "def non_switching_player():\n",
    "\n",
    "    doors = [1, 2, 3]\n",
    "    car_behind_door = random.choice(doors)\n",
    "    player_first_choice = random.choice(doors)\n",
    "\n",
    "    if player_first_choice == car_behind_door:\n",
    "        return 1\n",
    "    else:\n",
    "        return 0\n",
    "\n",
    "    "
   ]
  },
  {
   "cell_type": "code",
   "execution_count": 42,
   "metadata": {},
   "outputs": [],
   "source": [
    "trials = 100000\n",
    "number_of_iterations = trials\n",
    "switching_result = 0\n",
    "non_switching_result = 0"
   ]
  },
  {
   "cell_type": "code",
   "execution_count": 44,
   "metadata": {},
   "outputs": [
    {
     "name": "stdout",
     "output_type": "stream",
     "text": [
      "By switching, out of 100000 attempts, I won 66864 times.\n",
      "By sticking with my original choice out of 100000 attempts, I won 33360 times.\n"
     ]
    }
   ],
   "source": [
    "while number_of_iterations > 0:\n",
    "    switching_result = switching_result + switching_player()\n",
    "    non_switching_result = non_switching_result + non_switching_player()\n",
    "    number_of_iterations = number_of_iterations -1\n",
    "print(\"By switching, out of {0} attempts, I won {1} times.\".format(trials, switching_result))\n",
    "print(\"By sticking with my original choice out of {0} attempts, I won {1} times.\".format(trials, non_switching_result))"
   ]
  },
  {
   "cell_type": "code",
   "execution_count": null,
   "metadata": {},
   "outputs": [],
   "source": []
  }
 ],
 "metadata": {
  "file_extension": ".py",
  "kernelspec": {
   "display_name": "Python 3 (ipykernel)",
   "language": "python",
   "name": "python3"
  },
  "language_info": {
   "codemirror_mode": {
    "name": "ipython",
    "version": 3
   },
   "name": "python",
   "version": "3.7.4-final"
  },
  "mimetype": "text/x-python",
  "name": "python",
  "npconvert_exporter": "python",
  "pygments_lexer": "ipython3",
  "version": 3
 },
 "nbformat": 4,
 "nbformat_minor": 2
}
