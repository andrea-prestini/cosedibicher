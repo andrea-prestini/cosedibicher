{
 "nbformat": 4,
 "nbformat_minor": 2,
 "metadata": {
  "language_info": {
   "name": "python",
   "codemirror_mode": {
    "name": "ipython",
    "version": 3
   },
   "version": "3.7.4-final"
  },
  "orig_nbformat": 2,
  "file_extension": ".py",
  "mimetype": "text/x-python",
  "name": "python",
  "npconvert_exporter": "python",
  "pygments_lexer": "ipython3",
  "version": 3,
  "kernelspec": {
   "name": "python37464bitbaseconda9cd1c3962878454fa14d112b4a486265",
   "display_name": "Python 3.7.4 64-bit ('base': conda)"
  }
 },
 "cells": [
  {
   "cell_type": "markdown",
   "metadata": {},
   "source": [
    "# BackTracking algorith"
   ]
  },
  {
   "cell_type": "markdown",
   "metadata": {},
   "source": [
    "> Backtracking is an algorithmic-technique for solving problems recursively by trying to build a solution incrementally, one piece at a time, removing those solutions that fail to satisfy the constraints of the problem at any point of time (by time, here, is referred to the time elapsed till reaching any level of the search tree)."
   ]
  },
  {
   "cell_type": "markdown",
   "metadata": {},
   "source": [
    "Often we can find backtracking and Recursive tecnique together!"
   ]
  },
  {
   "cell_type": "markdown",
   "metadata": {},
   "source": [
    "Example: Give an integer \"n\". Print all the possible paris of n balaced parentheses. The output strings should be printed in the sorted order considering '(' has higher value than ')'."
   ]
  },
  {
   "cell_type": "markdown",
   "metadata": {},
   "source": [
    "~~~\n",
    "def genParenthesis(openB, closeB, n, s=[]):\n",
    "\n",
    "\n",
    "    #Base Case\n",
    "    if(closeB == n):\n",
    "        print(s)\n",
    "        return\n",
    "    else:\n",
    "        if(openB > closeB):\n",
    "            #can definitely put one closing bracket\n",
    "            s.append(\")\")\n",
    "            genParenthesis(openB, closeB+1, n, s)\n",
    "            s.pop() #remove last item in the list\n",
    "        if(openB < n):\n",
    "            s.append(\"(\")\n",
    "            genParenthesis(openB+1, closeB, n, s)\n",
    "            s.pop()\n",
    "    return\n",
    "\n",
    "    \n"
   ]
  },
  {
   "cell_type": "markdown",
   "metadata": {},
   "source": [
    "> Elementi dell'algoritmo di backtracking:\n",
    "* OUR CHOICE\n",
    "* OUR CONSTRAINTS\n",
    "* OUR GOAL"
   ]
  },
  {
   "cell_type": "markdown",
   "metadata": {},
   "source": [
    "## our $\\color{red}{CHOISE}$\n",
    "place a openB or closeB"
   ]
  },
  {
   "cell_type": "markdown",
   "metadata": {},
   "source": [
    "## our $\\color{red}{CONSTRAINTS}$\n",
    "we cannot close until we open a bracket"
   ]
  },
  {
   "cell_type": "markdown",
   "metadata": {},
   "source": [
    "## our $\\color{red}{GOAL}$\n",
    "n * 2 placements"
   ]
  },
  {
   "cell_type": "markdown",
   "metadata": {},
   "source": [
    "\n",
    "Here a video explane: [backtracking for dummies](https://www.youtube.com/watch?v=sz1qaKt0KGQ)"
   ]
  },
  {
   "cell_type": "code",
   "execution_count": null,
   "metadata": {},
   "outputs": [],
   "source": []
  }
 ]
}