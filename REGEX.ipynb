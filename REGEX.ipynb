{
 "cells": [
  {
   "cell_type": "code",
   "execution_count": 2,
   "metadata": {},
   "outputs": [],
   "source": [
    "import re"
   ]
  },
  {
   "cell_type": "code",
   "execution_count": 3,
   "metadata": {},
   "outputs": [
    {
     "name": "stdout",
     "output_type": "stream",
     "text": [
      "Test successful\n",
      "['abyss']\n",
      "--------------------------------------------------\n"
     ]
    }
   ],
   "source": [
    "\n",
    "pattern = \"^a...s$\"\n",
    "\n",
    "test_string = 'abyss'\n",
    "\n",
    "result = re.match(pattern, test_string)\n",
    "\n",
    "if result:\n",
    "    print(\"Test successful\")\n",
    "    print(re.findall(pattern, test_string))\n",
    "else:\n",
    "    print(\"Result not found\")\n",
    "\n",
    "print(\"-\" * 50)\n",
    "line = \"io abito in via bicher, bicher è una strada di esine, esine e bicher si trovano in valle camonica\"\n",
    "pattern = \"bicher\""
   ]
  },
  {
   "cell_type": "markdown",
   "metadata": {},
   "source": [
    "## SEARCH"
   ]
  },
  {
   "cell_type": "code",
   "execution_count": 4,
   "metadata": {},
   "outputs": [
    {
     "name": "stdout",
     "output_type": "stream",
     "text": [
      "<re.Match object; span=(16, 22), match='bicher'>\n"
     ]
    }
   ],
   "source": [
    "# match checks only at the beginning of the string\n",
    "# search checks for a match anywhere in the string\n",
    "result1 = re.search(pattern, line)\n",
    "print(result1)"
   ]
  },
  {
   "cell_type": "markdown",
   "metadata": {},
   "source": [
    "## MATCH"
   ]
  },
  {
   "cell_type": "code",
   "execution_count": 5,
   "metadata": {},
   "outputs": [
    {
     "name": "stdout",
     "output_type": "stream",
     "text": [
      "None\n"
     ]
    }
   ],
   "source": [
    "result2 = re.match(pattern, line)\n",
    "print(result2)"
   ]
  },
  {
   "cell_type": "markdown",
   "metadata": {},
   "source": [
    "## FINDALL"
   ]
  },
  {
   "cell_type": "code",
   "execution_count": 6,
   "metadata": {},
   "outputs": [
    {
     "name": "stdout",
     "output_type": "stream",
     "text": [
      "['bicher', 'bicher', 'bicher']\n"
     ]
    }
   ],
   "source": [
    "result3 = re.findall(pattern, line)\n",
    "print(result3)"
   ]
  },
  {
   "cell_type": "markdown",
   "metadata": {},
   "source": [
    "## SPLIT"
   ]
  },
  {
   "cell_type": "code",
   "execution_count": 7,
   "metadata": {},
   "outputs": [
    {
     "name": "stdout",
     "output_type": "stream",
     "text": [
      "['io abito in via ', ', ', ' è una strada di esine, esine e ', ' si trovano in valle camonica']\n"
     ]
    }
   ],
   "source": [
    "result4 = re.split(pattern, line)\n",
    "print(result4)"
   ]
  },
  {
   "cell_type": "markdown",
   "metadata": {},
   "source": [
    "## SUB\n",
    "Count select how many substitution"
   ]
  },
  {
   "cell_type": "code",
   "execution_count": 8,
   "metadata": {},
   "outputs": [
    {
     "name": "stdout",
     "output_type": "stream",
     "text": [
      "io abito in via CASA, CASA è una strada di esine, esine e bicher si trovano in valle camonica\n"
     ]
    }
   ],
   "source": [
    "result5 = re.sub(\"bicher\", \"CASA\", line, 2)\n",
    "print(result5)"
   ]
  }
 ],
 "metadata": {
  "kernelspec": {
   "display_name": "Python 3.9.13 ('base')",
   "language": "python",
   "name": "python3"
  },
  "language_info": {
   "codemirror_mode": {
    "name": "ipython",
    "version": 3
   },
   "file_extension": ".py",
   "mimetype": "text/x-python",
   "name": "python",
   "nbconvert_exporter": "python",
   "pygments_lexer": "ipython3",
   "version": "3.9.13"
  },
  "orig_nbformat": 4,
  "vscode": {
   "interpreter": {
    "hash": "7473d73b0517ab6f64aa731f2cb80c0acf19c95420055020da77d830c23b4531"
   }
  }
 },
 "nbformat": 4,
 "nbformat_minor": 2
}
