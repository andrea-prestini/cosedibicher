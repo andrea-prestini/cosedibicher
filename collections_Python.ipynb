{
 "cells": [
  {
   "cell_type": "code",
   "execution_count": 1,
   "metadata": {},
   "outputs": [],
   "source": [
    "from collections import namedtuple\n",
    "from collections import  deque\n",
    "from collections import ChainMap\n",
    "from collections import Counter\n",
    "from collections import OrderedDict\n",
    "from collections import defaultdict"
   ]
  },
  {
   "cell_type": "code",
   "execution_count": 17,
   "metadata": {},
   "outputs": [],
   "source": [
    "## Nametuple"
   ]
  },
  {
   "cell_type": "code",
   "execution_count": 2,
   "metadata": {},
   "outputs": [],
   "source": [
    "a = namedtuple(\"corso\", \"nome, tecnologia\")\n"
   ]
  },
  {
   "cell_type": "code",
   "execution_count": 8,
   "metadata": {},
   "outputs": [],
   "source": [
    "primo = a(\"andrea\", \"informatica\")\n",
    "secondo = a(\"paolo\", \"chimica\")\n",
    "terzo = a(\"francesca\", \"matematica\")"
   ]
  },
  {
   "cell_type": "code",
   "execution_count": null,
   "metadata": {},
   "outputs": [],
   "source": [
    "print(primo)\n",
    "print()\n",
    "print(secondo)\n",
    "print()\n",
    "print(terzo)"
   ]
  },
  {
   "cell_type": "code",
   "execution_count": 13,
   "metadata": {},
   "outputs": [
    {
     "name": "stdout",
     "output_type": "stream",
     "text": [
      "\n",
      "andrea\n",
      "matematica\n",
      "lo studente si chiama ANDREA e vuole studiare INFORMATICA\n",
      "lo studente si chiama paolo e vuole studiare CHIMICA\n",
      "lo studente si chiama francesca e vuole studiare matematica\n"
     ]
    }
   ],
   "source": [
    "print()\n",
    "print(primo.nome)\n",
    "print(terzo.tecnologia)\n",
    "print(f\"lo studente si chiama {primo.nome.upper()} e vuole studiare {primo.tecnologia.upper()}\")\n",
    "print(f\"lo studente si chiama {secondo.nome} e vuole studiare {secondo.tecnologia.upper()}\")\n",
    "print(f\"lo studente si chiama {terzo.nome} e vuole studiare {terzo.tecnologia}\")"
   ]
  },
  {
   "cell_type": "markdown",
   "metadata": {},
   "source": [
    "## Deque"
   ]
  },
  {
   "cell_type": "code",
   "execution_count": 25,
   "metadata": {},
   "outputs": [
    {
     "name": "stdout",
     "output_type": "stream",
     "text": [
      "deque(['e', 'd', 'u', 'r', 'e', 'k', 'a'])\n"
     ]
    }
   ],
   "source": [
    "a = [\"e\", \"d\", \"u\", \"r\", \"e\", \"k\", \"a\"]\n",
    "d = deque(a)\n",
    "print(d)"
   ]
  },
  {
   "cell_type": "code",
   "execution_count": 26,
   "metadata": {},
   "outputs": [
    {
     "name": "stdout",
     "output_type": "stream",
     "text": [
      "deque(['e', 'd', 'u', 'r', 'e', 'k', 'a', 'python'])\n"
     ]
    }
   ],
   "source": [
    "d.append(\"python\")\n",
    "print(d)"
   ]
  },
  {
   "cell_type": "code",
   "execution_count": 27,
   "metadata": {},
   "outputs": [
    {
     "name": "stdout",
     "output_type": "stream",
     "text": [
      "deque(['andrea', 'e', 'd', 'u', 'r', 'e', 'k', 'a', 'python'])\n"
     ]
    }
   ],
   "source": [
    "d.appendleft(\"andrea\")\n",
    "print(d)"
   ]
  },
  {
   "cell_type": "code",
   "execution_count": 28,
   "metadata": {},
   "outputs": [
    {
     "name": "stdout",
     "output_type": "stream",
     "text": [
      "deque(['e', 'd', 'u', 'r', 'e', 'k', 'a', 'python'])\n"
     ]
    }
   ],
   "source": [
    "d.popleft()\n",
    "print(d)"
   ]
  },
  {
   "cell_type": "markdown",
   "metadata": {},
   "source": [
    "## chainmap"
   ]
  },
  {
   "cell_type": "code",
   "execution_count": 32,
   "metadata": {},
   "outputs": [
    {
     "name": "stdout",
     "output_type": "stream",
     "text": [
      "ChainMap({1: 'eureka', 2: 'python'}, {3: 'ML', 4: 'AI'})\n"
     ]
    }
   ],
   "source": [
    "a = {1: \"eureka\", 2: \"python\"}\n",
    "b = {3: \"ML\", 4: \"AI\"}\n",
    "a1 = ChainMap(a,b)\n",
    "print(a1)"
   ]
  },
  {
   "cell_type": "markdown",
   "metadata": {},
   "source": [
    "## counter"
   ]
  },
  {
   "cell_type": "code",
   "execution_count": 43,
   "metadata": {},
   "outputs": [
    {
     "name": "stdout",
     "output_type": "stream",
     "text": [
      "Counter({2: 3, 3: 3, 1: 2, 4: 2, 5: 2, 8: 2, 12: 2, 6: 1, 9: 1, 7: 1, 13: 1})\n",
      "[1, 2, 3, 4, 6, 5, 8, 9, 7, 12, 13]\n",
      "[1, 1, 2, 2, 2, 3, 3, 3, 4, 4, 6, 5, 5, 8, 8, 9, 7, 12, 12, 13]\n",
      "[(2, 3), (3, 3), (1, 2), (4, 2), (5, 2), (8, 2), (12, 2), (6, 1), (9, 1), (7, 1), (13, 1)]\n"
     ]
    }
   ],
   "source": [
    "a = [1,2,3,2,4,6,5,2,4,8,8,9,1,3,3,5,7, 12, 13, 12]\n",
    "aC = Counter(a)\n",
    "print(aC)\n",
    "print(list(aC))\n",
    "print(list(aC.elements()))\n",
    "print(aC.most_common())"
   ]
  },
  {
   "cell_type": "code",
   "execution_count": 44,
   "metadata": {},
   "outputs": [
    {
     "name": "stdout",
     "output_type": "stream",
     "text": [
      "None\n",
      "[(2, 3), (3, 3), (4, 2), (8, 2), (12, 2), (6, 1), (5, 1), (9, 1), (7, 1), (13, 1), (1, 0)]\n"
     ]
    }
   ],
   "source": [
    "sub = {1:2 , 5:1}\n",
    "print(aC.subtract(sub))\n",
    "print(aC.most_common())"
   ]
  },
  {
   "cell_type": "markdown",
   "metadata": {},
   "source": [
    "## orderedDict"
   ]
  },
  {
   "cell_type": "code",
   "execution_count": 46,
   "metadata": {},
   "outputs": [
    {
     "name": "stdout",
     "output_type": "stream",
     "text": [
      "OrderedDict([(1, 'e'), (2, 'd'), (3, 'u'), (4, 'r'), (5, 'e'), (6, 'k'), (7, 'a')])\n"
     ]
    }
   ],
   "source": [
    "d = OrderedDict()\n",
    "d[1] = \"e\"\n",
    "d[2] = \"d\"\n",
    "d[3] = \"u\"\n",
    "d[4] = \"r\"\n",
    "d[5] = \"e\"\n",
    "d[6] = \"k\"\n",
    "d[7] = \"a\"\n",
    "print(d)"
   ]
  },
  {
   "cell_type": "markdown",
   "metadata": {},
   "source": [
    "## defaultdict"
   ]
  },
  {
   "cell_type": "code",
   "execution_count": 48,
   "metadata": {},
   "outputs": [
    {
     "name": "stdout",
     "output_type": "stream",
     "text": [
      "defaultdict(<class 'int'>, {1: 'eureka', 2: 'virgo'})\n",
      "virgo\n",
      "0\n"
     ]
    }
   ],
   "source": [
    "d = defaultdict(int)\n",
    "d[1] = \"eureka\"\n",
    "d[2] = \"virgo\"\n",
    "print(d)\n",
    "print(d[2])\n",
    "print(d[3]) # normal sorted dict return a key error! not default dict --> return 0"
   ]
  },
  {
   "cell_type": "code",
   "execution_count": null,
   "metadata": {},
   "outputs": [],
   "source": []
  }
 ],
 "metadata": {
  "file_extension": ".py",
  "kernelspec": {
   "display_name": "Python 3 (ipykernel)",
   "language": "python",
   "name": "python3"
  },
  "language_info": {
   "codemirror_mode": {
    "name": "ipython",
    "version": 3
   },
   "file_extension": ".py",
   "mimetype": "text/x-python",
   "name": "python",
   "nbconvert_exporter": "python",
   "pygments_lexer": "ipython3",
   "version": "3.9.7"
  },
  "mimetype": "text/x-python",
  "name": "python",
  "npconvert_exporter": "python",
  "pygments_lexer": "ipython3",
  "version": 3
 },
 "nbformat": 4,
 "nbformat_minor": 4
}
